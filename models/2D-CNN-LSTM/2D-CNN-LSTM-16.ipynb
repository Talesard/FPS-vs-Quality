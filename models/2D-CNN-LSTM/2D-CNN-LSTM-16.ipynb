{
 "cells": [
  {
   "cell_type": "code",
   "execution_count": 1,
   "id": "867cbce7",
   "metadata": {},
   "outputs": [],
   "source": [
    "import os\n",
    "\n",
    "import cv2\n",
    "from matplotlib import pyplot as plt\n",
    "from tqdm.notebook import trange, tqdm\n",
    "import numpy as np\n",
    "import tensorflow as tf\n",
    "import random\n",
    "from sklearn import preprocessing\n",
    "from sklearn.model_selection import train_test_split\n",
    "from tensorflow.keras import layers, models, utils\n",
    "from sklearn.metrics import classification_report, confusion_matrix\n",
    "\n",
    "from data_utils import read_and_preprocess_data\n",
    "from model_utils import *"
   ]
  },
  {
   "cell_type": "markdown",
   "id": "d6e5fe95",
   "metadata": {},
   "source": [
    "## Settings"
   ]
  },
  {
   "cell_type": "code",
   "execution_count": 2,
   "id": "c83c0d21",
   "metadata": {},
   "outputs": [],
   "source": [
    "FRAME_SIZE = 128\n",
    "DATA_PATH = './2sec/data_16_fps'\n",
    "EPOCHS = 50"
   ]
  },
  {
   "cell_type": "markdown",
   "id": "68882663",
   "metadata": {},
   "source": [
    "## Data"
   ]
  },
  {
   "cell_type": "code",
   "execution_count": 3,
   "id": "41431d91",
   "metadata": {},
   "outputs": [
    {
     "name": "stdout",
     "output_type": "stream",
     "text": [
      "reading...\n",
      "BalanceBeam\n",
      "CricketShot\n",
      "Fencing\n",
      "HorseRiding\n",
      "LongJump\n",
      "RockClimbingIndoor\n",
      "SalsaSpin\n",
      "SkyDiving\n",
      "TableTennisShot\n",
      "WallPushups\n",
      "class count = 10\n",
      "med frame count = 32.0\n",
      "padding...\n",
      "Labels encoding...\n",
      "(500,) (500, 32, 128, 128, 3)\n",
      "norm...\n",
      "Train-val-test split...\n",
      "Train: (350, 32, 128, 128, 3) (350,)\n",
      "Val: (45, 32, 128, 128, 3) (45,)\n",
      "Test: (105, 32, 128, 128, 3) (105,)\n"
     ]
    }
   ],
   "source": [
    "CLASS_COUNT, FRAME_COUNT, FRAME_SIZE, X_train, X_val, X_test, y_train, y_val, y_test = read_and_preprocess_data(DATA_PATH, FRAME_SIZE)"
   ]
  },
  {
   "cell_type": "markdown",
   "id": "f99a5cc9",
   "metadata": {},
   "source": [
    "## Model"
   ]
  },
  {
   "cell_type": "code",
   "execution_count": 4,
   "id": "b687e133",
   "metadata": {},
   "outputs": [
    {
     "name": "stdout",
     "output_type": "stream",
     "text": [
      "Model: \"sequential\"\n",
      "_________________________________________________________________\n",
      " Layer (type)                Output Shape              Param #   \n",
      "=================================================================\n",
      " time_distributed (TimeDistr  (None, 32, 62, 62, 64)   4864      \n",
      " ibuted)                                                         \n",
      "                                                                 \n",
      " batch_normalization (BatchN  (None, 32, 62, 62, 64)   248       \n",
      " ormalization)                                                   \n",
      "                                                                 \n",
      " activation (Activation)     (None, 32, 62, 62, 64)    0         \n",
      "                                                                 \n",
      " time_distributed_1 (TimeDis  (None, 32, 30, 30, 32)   32800     \n",
      " tributed)                                                       \n",
      "                                                                 \n",
      " batch_normalization_1 (Batc  (None, 32, 30, 30, 32)   120       \n",
      " hNormalization)                                                 \n",
      "                                                                 \n",
      " activation_1 (Activation)   (None, 32, 30, 30, 32)    0         \n",
      "                                                                 \n",
      " time_distributed_2 (TimeDis  (None, 32, 14, 14, 32)   9248      \n",
      " tributed)                                                       \n",
      "                                                                 \n",
      " batch_normalization_2 (Batc  (None, 32, 14, 14, 32)   56        \n",
      " hNormalization)                                                 \n",
      "                                                                 \n",
      " activation_2 (Activation)   (None, 32, 14, 14, 32)    0         \n",
      "                                                                 \n",
      " time_distributed_3 (TimeDis  (None, 32, 12, 12, 16)   4624      \n",
      " tributed)                                                       \n",
      "                                                                 \n",
      " batch_normalization_3 (Batc  (None, 32, 12, 12, 16)   48        \n",
      " hNormalization)                                                 \n",
      "                                                                 \n",
      " activation_3 (Activation)   (None, 32, 12, 12, 16)    0         \n",
      "                                                                 \n",
      " time_distributed_4 (TimeDis  (None, 32, 6, 6, 16)     0         \n",
      " tributed)                                                       \n",
      "                                                                 \n",
      " time_distributed_5 (TimeDis  (None, 32, 576)          0         \n",
      " tributed)                                                       \n",
      "                                                                 \n",
      " lstm (LSTM)                 (None, 16)                37952     \n",
      "                                                                 \n",
      " dense (Dense)               (None, 20)                340       \n",
      "                                                                 \n",
      " dropout (Dropout)           (None, 20)                0         \n",
      "                                                                 \n",
      " dense_1 (Dense)             (None, 10)                210       \n",
      "                                                                 \n",
      "=================================================================\n",
      "Total params: 90,510\n",
      "Trainable params: 90,274\n",
      "Non-trainable params: 236\n",
      "_________________________________________________________________\n"
     ]
    }
   ],
   "source": [
    "model = models.Sequential()\n",
    "model = add_2d_cnn_part(model, FRAME_COUNT, FRAME_SIZE)\n",
    "model.add(layers.TimeDistributed(layers.Flatten()))\n",
    "model = add_lstm_part(model, return_sequences=False)\n",
    "model = add_dense_part(model, CLASS_COUNT)\n",
    "\n",
    "model.summary()"
   ]
  },
  {
   "cell_type": "code",
   "execution_count": 5,
   "id": "963ff906",
   "metadata": {},
   "outputs": [],
   "source": [
    "model.compile(optimizer='adam',\n",
    "              loss=tf.keras.losses.SparseCategoricalCrossentropy(from_logits=False),\n",
    "              metrics=['accuracy'],\n",
    "              )\n"
   ]
  },
  {
   "cell_type": "code",
   "execution_count": 6,
   "id": "20cf9db7",
   "metadata": {},
   "outputs": [
    {
     "name": "stdout",
     "output_type": "stream",
     "text": [
      "Epoch 1/50\n",
      "11/11 [==============================] - 16s 744ms/step - loss: 2.2968 - accuracy: 0.1171 - val_loss: 2.2495 - val_accuracy: 0.2000\n",
      "Epoch 2/50\n",
      "11/11 [==============================] - 5s 422ms/step - loss: 2.1868 - accuracy: 0.2114 - val_loss: 2.1911 - val_accuracy: 0.2667\n",
      "Epoch 3/50\n",
      "11/11 [==============================] - 5s 422ms/step - loss: 2.1412 - accuracy: 0.2000 - val_loss: 2.1391 - val_accuracy: 0.3111\n",
      "Epoch 4/50\n",
      "11/11 [==============================] - 5s 420ms/step - loss: 2.0461 - accuracy: 0.2571 - val_loss: 2.0673 - val_accuracy: 0.2889\n",
      "Epoch 5/50\n",
      "11/11 [==============================] - 5s 419ms/step - loss: 2.0385 - accuracy: 0.2657 - val_loss: 2.0331 - val_accuracy: 0.2667\n",
      "Epoch 6/50\n",
      "11/11 [==============================] - 5s 421ms/step - loss: 2.0159 - accuracy: 0.2371 - val_loss: 1.9813 - val_accuracy: 0.3111\n",
      "Epoch 7/50\n",
      "11/11 [==============================] - 5s 421ms/step - loss: 1.9864 - accuracy: 0.2657 - val_loss: 1.9693 - val_accuracy: 0.2444\n",
      "Epoch 8/50\n",
      "11/11 [==============================] - 5s 421ms/step - loss: 1.9315 - accuracy: 0.2914 - val_loss: 1.8978 - val_accuracy: 0.3111\n",
      "Epoch 9/50\n",
      "11/11 [==============================] - 5s 423ms/step - loss: 1.8732 - accuracy: 0.3257 - val_loss: 1.8729 - val_accuracy: 0.3111\n",
      "Epoch 10/50\n",
      "11/11 [==============================] - 5s 420ms/step - loss: 1.8165 - accuracy: 0.3257 - val_loss: 1.8451 - val_accuracy: 0.3111\n",
      "Epoch 11/50\n",
      "11/11 [==============================] - 5s 419ms/step - loss: 1.8417 - accuracy: 0.2686 - val_loss: 1.8549 - val_accuracy: 0.3556\n",
      "Epoch 12/50\n",
      "11/11 [==============================] - 5s 419ms/step - loss: 1.7963 - accuracy: 0.3257 - val_loss: 1.8142 - val_accuracy: 0.3556\n",
      "Epoch 13/50\n",
      "11/11 [==============================] - 5s 419ms/step - loss: 1.8405 - accuracy: 0.3029 - val_loss: 1.8158 - val_accuracy: 0.4000\n",
      "Epoch 14/50\n",
      "11/11 [==============================] - 5s 423ms/step - loss: 1.7475 - accuracy: 0.3371 - val_loss: 1.7632 - val_accuracy: 0.3778\n",
      "Epoch 15/50\n",
      "11/11 [==============================] - 5s 421ms/step - loss: 1.7117 - accuracy: 0.3486 - val_loss: 1.7298 - val_accuracy: 0.4000\n",
      "Epoch 16/50\n",
      "11/11 [==============================] - 5s 420ms/step - loss: 1.6644 - accuracy: 0.3971 - val_loss: 1.7611 - val_accuracy: 0.3111\n",
      "Epoch 17/50\n",
      "11/11 [==============================] - 5s 420ms/step - loss: 1.6650 - accuracy: 0.3971 - val_loss: 1.7754 - val_accuracy: 0.3778\n",
      "Epoch 18/50\n",
      "11/11 [==============================] - 5s 419ms/step - loss: 1.6402 - accuracy: 0.4429 - val_loss: 1.6913 - val_accuracy: 0.3778\n",
      "Epoch 19/50\n",
      "11/11 [==============================] - 5s 421ms/step - loss: 1.5537 - accuracy: 0.4829 - val_loss: 1.6918 - val_accuracy: 0.4889\n",
      "Epoch 20/50\n",
      "11/11 [==============================] - 5s 421ms/step - loss: 1.5449 - accuracy: 0.4457 - val_loss: 1.6572 - val_accuracy: 0.4444\n",
      "Epoch 21/50\n",
      "11/11 [==============================] - 5s 421ms/step - loss: 1.5088 - accuracy: 0.4686 - val_loss: 1.5926 - val_accuracy: 0.4000\n",
      "Epoch 22/50\n",
      "11/11 [==============================] - 5s 422ms/step - loss: 1.4567 - accuracy: 0.5000 - val_loss: 1.6121 - val_accuracy: 0.4667\n",
      "Epoch 23/50\n",
      "11/11 [==============================] - 5s 418ms/step - loss: 1.4242 - accuracy: 0.5114 - val_loss: 1.6096 - val_accuracy: 0.4444\n",
      "Epoch 24/50\n",
      "11/11 [==============================] - 5s 423ms/step - loss: 1.4274 - accuracy: 0.4657 - val_loss: 1.5527 - val_accuracy: 0.5111\n",
      "Epoch 25/50\n",
      "11/11 [==============================] - 5s 420ms/step - loss: 1.3664 - accuracy: 0.5286 - val_loss: 1.6083 - val_accuracy: 0.4444\n",
      "Epoch 26/50\n",
      "11/11 [==============================] - 5s 420ms/step - loss: 1.3379 - accuracy: 0.5286 - val_loss: 1.5798 - val_accuracy: 0.4444\n",
      "Epoch 27/50\n",
      "11/11 [==============================] - 5s 420ms/step - loss: 1.2458 - accuracy: 0.5829 - val_loss: 1.4954 - val_accuracy: 0.5111\n",
      "Epoch 28/50\n",
      "11/11 [==============================] - 5s 420ms/step - loss: 1.2517 - accuracy: 0.5714 - val_loss: 1.4967 - val_accuracy: 0.5111\n",
      "Epoch 29/50\n",
      "11/11 [==============================] - 5s 422ms/step - loss: 1.2110 - accuracy: 0.6429 - val_loss: 1.4793 - val_accuracy: 0.5556\n",
      "Epoch 30/50\n",
      "11/11 [==============================] - 5s 420ms/step - loss: 1.1138 - accuracy: 0.6114 - val_loss: 1.4815 - val_accuracy: 0.5111\n",
      "Epoch 31/50\n",
      "11/11 [==============================] - 5s 421ms/step - loss: 1.1801 - accuracy: 0.5743 - val_loss: 1.4781 - val_accuracy: 0.5778\n",
      "Epoch 32/50\n",
      "11/11 [==============================] - 5s 421ms/step - loss: 1.2281 - accuracy: 0.6086 - val_loss: 1.4713 - val_accuracy: 0.5333\n",
      "Epoch 33/50\n",
      "11/11 [==============================] - 5s 419ms/step - loss: 1.1687 - accuracy: 0.6086 - val_loss: 1.4599 - val_accuracy: 0.5333\n",
      "Epoch 34/50\n",
      "11/11 [==============================] - 5s 422ms/step - loss: 1.0964 - accuracy: 0.6143 - val_loss: 1.4851 - val_accuracy: 0.5556\n",
      "Epoch 35/50\n",
      "11/11 [==============================] - 5s 421ms/step - loss: 1.1046 - accuracy: 0.6486 - val_loss: 1.5102 - val_accuracy: 0.4444\n",
      "Epoch 36/50\n",
      "11/11 [==============================] - 5s 438ms/step - loss: 1.0146 - accuracy: 0.6914 - val_loss: 1.4331 - val_accuracy: 0.5111\n",
      "Epoch 37/50\n",
      "11/11 [==============================] - 5s 427ms/step - loss: 0.9870 - accuracy: 0.6857 - val_loss: 1.4022 - val_accuracy: 0.5778\n",
      "Epoch 38/50\n",
      "11/11 [==============================] - 5s 426ms/step - loss: 0.8832 - accuracy: 0.7486 - val_loss: 1.4148 - val_accuracy: 0.5778\n",
      "Epoch 39/50\n",
      "11/11 [==============================] - 5s 425ms/step - loss: 0.9779 - accuracy: 0.6743 - val_loss: 1.4328 - val_accuracy: 0.5778\n",
      "Epoch 40/50\n",
      "11/11 [==============================] - 5s 425ms/step - loss: 0.9434 - accuracy: 0.6943 - val_loss: 1.4047 - val_accuracy: 0.6000\n",
      "Epoch 41/50\n",
      "11/11 [==============================] - 5s 428ms/step - loss: 0.8578 - accuracy: 0.7457 - val_loss: 1.3557 - val_accuracy: 0.6444\n",
      "Epoch 42/50\n",
      "11/11 [==============================] - 5s 426ms/step - loss: 0.8644 - accuracy: 0.7514 - val_loss: 1.4234 - val_accuracy: 0.6000\n",
      "Epoch 43/50\n",
      "11/11 [==============================] - 5s 427ms/step - loss: 0.8758 - accuracy: 0.7400 - val_loss: 1.3819 - val_accuracy: 0.5333\n",
      "Epoch 44/50\n",
      "11/11 [==============================] - 5s 427ms/step - loss: 0.8241 - accuracy: 0.7743 - val_loss: 1.3698 - val_accuracy: 0.6444\n",
      "Epoch 45/50\n",
      "11/11 [==============================] - 5s 428ms/step - loss: 0.8029 - accuracy: 0.7771 - val_loss: 1.2719 - val_accuracy: 0.6222\n",
      "Epoch 46/50\n",
      "11/11 [==============================] - 5s 426ms/step - loss: 0.7629 - accuracy: 0.7714 - val_loss: 1.2913 - val_accuracy: 0.6222\n",
      "Epoch 47/50\n",
      "11/11 [==============================] - 5s 428ms/step - loss: 0.7229 - accuracy: 0.7971 - val_loss: 1.3803 - val_accuracy: 0.6444\n",
      "Epoch 48/50\n",
      "11/11 [==============================] - 5s 426ms/step - loss: 0.7296 - accuracy: 0.8000 - val_loss: 1.3483 - val_accuracy: 0.5556\n",
      "Epoch 49/50\n",
      "11/11 [==============================] - 5s 428ms/step - loss: 0.6652 - accuracy: 0.8400 - val_loss: 1.2691 - val_accuracy: 0.6444\n",
      "Epoch 50/50\n",
      "11/11 [==============================] - 5s 422ms/step - loss: 0.6605 - accuracy: 0.8029 - val_loss: 1.2334 - val_accuracy: 0.6667\n"
     ]
    }
   ],
   "source": [
    "history = model.fit(X_train, y_train, epochs = EPOCHS, validation_data = (X_val, y_val), callbacks=[early_stopping])"
   ]
  },
  {
   "cell_type": "markdown",
   "id": "57ec1982",
   "metadata": {},
   "source": [
    "### Train & validation Loss"
   ]
  },
  {
   "cell_type": "code",
   "execution_count": 7,
   "id": "b6c8d1db",
   "metadata": {},
   "outputs": [
    {
     "data": {
      "text/plain": [
       "<matplotlib.legend.Legend at 0x28f565e9880>"
      ]
     },
     "execution_count": 7,
     "metadata": {},
     "output_type": "execute_result"
    },
    {
     "data": {
      "image/png": "[encoded data removed]",
      "text/plain": [
       "<Figure size 432x288 with 1 Axes>"
      ]
     },
     "metadata": {
      "needs_background": "light"
     },
     "output_type": "display_data"
    }
   ],
   "source": [
    "plt.plot(history.history['loss'], label='loss')\n",
    "plt.plot(history.history['val_loss'], label = 'val_loss')\n",
    "plt.xlabel('Epoch')\n",
    "plt.ylabel('Loss')\n",
    "plt.ylim([0.0, 3])\n",
    "plt.legend(loc='lower right')"
   ]
  },
  {
   "cell_type": "markdown",
   "id": "7af69023",
   "metadata": {},
   "source": [
    "### Train & validation Accuracy"
   ]
  },
  {
   "cell_type": "code",
   "execution_count": 8,
   "id": "0bb8dfca",
   "metadata": {},
   "outputs": [
    {
     "data": {
      "text/plain": [
       "<matplotlib.legend.Legend at 0x28f68cdea00>"
      ]
     },
     "execution_count": 8,
     "metadata": {},
     "output_type": "execute_result"
    },
    {
     "data": {
      "image/png": "[encoded data removed]",
      "text/plain": [
       "<Figure size 432x288 with 1 Axes>"
      ]
     },
     "metadata": {
      "needs_background": "light"
     },
     "output_type": "display_data"
    }
   ],
   "source": [
    "plt.plot(history.history['accuracy'], label='accuracy')\n",
    "plt.plot(history.history['val_accuracy'], label = 'val_accuracy')\n",
    "plt.xlabel('Epoch')\n",
    "plt.ylabel('Accuracy')\n",
    "plt.ylim([0.0, 1])\n",
    "plt.legend(loc='lower right')"
   ]
  },
  {
   "cell_type": "markdown",
   "id": "9b30546c",
   "metadata": {},
   "source": [
    "## Test"
   ]
  },
  {
   "cell_type": "code",
   "execution_count": 9,
   "id": "cf4c662a",
   "metadata": {},
   "outputs": [
    {
     "name": "stdout",
     "output_type": "stream",
     "text": [
      "4/4 [==============================] - 1s 104ms/step\n"
     ]
    }
   ],
   "source": [
    "predict = np.argmax(model.predict(X_test), axis=1)"
   ]
  },
  {
   "cell_type": "code",
   "execution_count": 10,
   "id": "6ec7a04a",
   "metadata": {},
   "outputs": [
    {
     "name": "stdout",
     "output_type": "stream",
     "text": [
      "              precision    recall  f1-score   support\n",
      "\n",
      "           0       0.78      0.93      0.85        15\n",
      "           1       0.69      0.69      0.69        16\n",
      "           2       0.33      0.80      0.47         5\n",
      "           3       0.55      0.67      0.60         9\n",
      "           4       0.43      0.30      0.35        10\n",
      "           5       0.38      0.38      0.38         8\n",
      "           6       0.60      0.64      0.62        14\n",
      "           7       0.67      0.40      0.50        10\n",
      "           8       0.83      0.56      0.67         9\n",
      "           9       0.83      0.56      0.67         9\n",
      "\n",
      "    accuracy                           0.61       105\n",
      "   macro avg       0.61      0.59      0.58       105\n",
      "weighted avg       0.63      0.61      0.61       105\n",
      "\n"
     ]
    }
   ],
   "source": [
    "print(classification_report(y_test, predict))"
   ]
  },
  {
   "cell_type": "code",
   "execution_count": 11,
   "id": "9433cc53",
   "metadata": {},
   "outputs": [
    {
     "data": {
      "image/png": "[encoded data removed]",
      "text/plain": [
       "<Figure size 400x400 with 2 Axes>"
      ]
     },
     "metadata": {
      "needs_background": "light"
     },
     "output_type": "display_data"
    }
   ],
   "source": [
    "fig = plt.figure(figsize=(CLASS_COUNT // 2, CLASS_COUNT // 2), dpi=80)\n",
    "M = confusion_matrix(predict, y_test)\n",
    "plt.imshow(M, interpolation = 'nearest')\n",
    "plt.set_cmap('binary')\n",
    "plt.xticks(range(CLASS_COUNT))\n",
    "plt.yticks(range(CLASS_COUNT))\n",
    "plt.xlabel(\"true label\")\n",
    "plt.ylabel(\"predicted label\")\n",
    "plt.colorbar()\n",
    "pass"
   ]
  },
  {
   "cell_type": "code",
   "execution_count": null,
   "id": "5c484710",
   "metadata": {},
   "outputs": [],
   "source": []
  }
 ],
 "metadata": {
  "kernelspec": {
   "display_name": "Python 3 (ipykernel)",
   "language": "python",
   "name": "python3"
  },
  "language_info": {
   "codemirror_mode": {
    "name": "ipython",
    "version": 3
   },
   "file_extension": ".py",
   "mimetype": "text/x-python",
   "name": "python",
   "nbconvert_exporter": "python",
   "pygments_lexer": "ipython3",
   "version": "3.9.6"
  }
 },
 "nbformat": 4,
 "nbformat_minor": 5
}
