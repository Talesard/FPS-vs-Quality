{
 "cells": [
  {
   "cell_type": "code",
   "execution_count": 1,
   "id": "867cbce7",
   "metadata": {},
   "outputs": [],
   "source": [
    "import os\n",
    "\n",
    "import cv2\n",
    "from matplotlib import pyplot as plt\n",
    "from tqdm.notebook import trange, tqdm\n",
    "import numpy as np\n",
    "import tensorflow as tf\n",
    "import random\n",
    "from sklearn import preprocessing\n",
    "from sklearn.model_selection import train_test_split\n",
    "from tensorflow.keras import layers, models, utils\n",
    "from sklearn.metrics import classification_report, confusion_matrix\n",
    "\n",
    "from data_utils import read_and_preprocess_data\n",
    "from model_utils import *"
   ]
  },
  {
   "cell_type": "markdown",
   "id": "d6e5fe95",
   "metadata": {},
   "source": [
    "## Settings"
   ]
  },
  {
   "cell_type": "code",
   "execution_count": 2,
   "id": "c83c0d21",
   "metadata": {},
   "outputs": [],
   "source": [
    "FRAME_SIZE = 128\n",
    "DATA_PATH = './2sec/data_2_fps'\n",
    "EPOCHS = 50"
   ]
  },
  {
   "cell_type": "markdown",
   "id": "68882663",
   "metadata": {},
   "source": [
    "## Data"
   ]
  },
  {
   "cell_type": "code",
   "execution_count": 3,
   "id": "41431d91",
   "metadata": {},
   "outputs": [
    {
     "name": "stdout",
     "output_type": "stream",
     "text": [
      "reading...\n",
      "BalanceBeam\n",
      "CricketShot\n",
      "Fencing\n",
      "HorseRiding\n",
      "LongJump\n",
      "RockClimbingIndoor\n",
      "SalsaSpin\n",
      "SkyDiving\n",
      "TableTennisShot\n",
      "WallPushups\n",
      "class count = 10\n",
      "med frame count = 4.0\n",
      "padding...\n",
      "Labels encoding...\n",
      "(500,) (500, 4, 128, 128, 3)\n",
      "norm...\n",
      "Train-val-test split...\n",
      "Train: (350, 4, 128, 128, 3) (350,)\n",
      "Val: (45, 4, 128, 128, 3) (45,)\n",
      "Test: (105, 4, 128, 128, 3) (105,)\n"
     ]
    }
   ],
   "source": [
    "CLASS_COUNT, FRAME_COUNT, FRAME_SIZE, X_train, X_val, X_test, y_train, y_val, y_test = read_and_preprocess_data(DATA_PATH, FRAME_SIZE)"
   ]
  },
  {
   "cell_type": "markdown",
   "id": "f99a5cc9",
   "metadata": {},
   "source": [
    "## Model"
   ]
  },
  {
   "cell_type": "code",
   "execution_count": 4,
   "id": "b687e133",
   "metadata": {},
   "outputs": [
    {
     "name": "stdout",
     "output_type": "stream",
     "text": [
      "Model: \"sequential\"\n",
      "_________________________________________________________________\n",
      " Layer (type)                Output Shape              Param #   \n",
      "=================================================================\n",
      " time_distributed (TimeDistr  (None, 4, 62, 62, 64)    4864      \n",
      " ibuted)                                                         \n",
      "                                                                 \n",
      " batch_normalization (BatchN  (None, 4, 62, 62, 64)    248       \n",
      " ormalization)                                                   \n",
      "                                                                 \n",
      " activation (Activation)     (None, 4, 62, 62, 64)     0         \n",
      "                                                                 \n",
      " time_distributed_1 (TimeDis  (None, 4, 30, 30, 32)    32800     \n",
      " tributed)                                                       \n",
      "                                                                 \n",
      " batch_normalization_1 (Batc  (None, 4, 30, 30, 32)    120       \n",
      " hNormalization)                                                 \n",
      "                                                                 \n",
      " activation_1 (Activation)   (None, 4, 30, 30, 32)     0         \n",
      "                                                                 \n",
      " time_distributed_2 (TimeDis  (None, 4, 14, 14, 32)    9248      \n",
      " tributed)                                                       \n",
      "                                                                 \n",
      " batch_normalization_2 (Batc  (None, 4, 14, 14, 32)    56        \n",
      " hNormalization)                                                 \n",
      "                                                                 \n",
      " activation_2 (Activation)   (None, 4, 14, 14, 32)     0         \n",
      "                                                                 \n",
      " time_distributed_3 (TimeDis  (None, 4, 12, 12, 16)    4624      \n",
      " tributed)                                                       \n",
      "                                                                 \n",
      " batch_normalization_3 (Batc  (None, 4, 12, 12, 16)    48        \n",
      " hNormalization)                                                 \n",
      "                                                                 \n",
      " activation_3 (Activation)   (None, 4, 12, 12, 16)     0         \n",
      "                                                                 \n",
      " time_distributed_4 (TimeDis  (None, 4, 6, 6, 16)      0         \n",
      " tributed)                                                       \n",
      "                                                                 \n",
      " time_distributed_5 (TimeDis  (None, 4, 576)           0         \n",
      " tributed)                                                       \n",
      "                                                                 \n",
      " lstm (LSTM)                 (None, 16)                37952     \n",
      "                                                                 \n",
      " dense (Dense)               (None, 20)                340       \n",
      "                                                                 \n",
      " dropout (Dropout)           (None, 20)                0         \n",
      "                                                                 \n",
      " dense_1 (Dense)             (None, 10)                210       \n",
      "                                                                 \n",
      "=================================================================\n",
      "Total params: 90,510\n",
      "Trainable params: 90,274\n",
      "Non-trainable params: 236\n",
      "_________________________________________________________________\n"
     ]
    }
   ],
   "source": [
    "model = models.Sequential()\n",
    "model = add_2d_cnn_part(model, FRAME_COUNT, FRAME_SIZE)\n",
    "model.add(layers.TimeDistributed(layers.Flatten()))\n",
    "model = add_lstm_part(model, return_sequences=False)\n",
    "model = add_dense_part(model, CLASS_COUNT)\n",
    "\n",
    "model.summary()"
   ]
  },
  {
   "cell_type": "code",
   "execution_count": 5,
   "id": "963ff906",
   "metadata": {},
   "outputs": [],
   "source": [
    "model.compile(optimizer='adam',\n",
    "              loss=tf.keras.losses.SparseCategoricalCrossentropy(from_logits=False),\n",
    "              metrics=['accuracy'],\n",
    "              )\n"
   ]
  },
  {
   "cell_type": "code",
   "execution_count": 6,
   "id": "20cf9db7",
   "metadata": {},
   "outputs": [
    {
     "name": "stdout",
     "output_type": "stream",
     "text": [
      "Epoch 1/50\n",
      "11/11 [==============================] - 7s 156ms/step - loss: 2.2974 - accuracy: 0.1286 - val_loss: 2.2806 - val_accuracy: 0.1111\n",
      "Epoch 2/50\n",
      "11/11 [==============================] - 1s 66ms/step - loss: 2.2618 - accuracy: 0.1257 - val_loss: 2.2656 - val_accuracy: 0.0667\n",
      "Epoch 3/50\n",
      "11/11 [==============================] - 1s 64ms/step - loss: 2.2186 - accuracy: 0.1800 - val_loss: 2.2489 - val_accuracy: 0.1333\n",
      "Epoch 4/50\n",
      "11/11 [==============================] - 1s 64ms/step - loss: 2.1896 - accuracy: 0.2114 - val_loss: 2.2202 - val_accuracy: 0.1333\n",
      "Epoch 5/50\n",
      "11/11 [==============================] - 1s 64ms/step - loss: 2.1217 - accuracy: 0.2514 - val_loss: 2.2083 - val_accuracy: 0.1556\n",
      "Epoch 6/50\n",
      "11/11 [==============================] - 1s 64ms/step - loss: 2.0713 - accuracy: 0.2714 - val_loss: 2.1375 - val_accuracy: 0.2000\n",
      "Epoch 7/50\n",
      "11/11 [==============================] - 1s 64ms/step - loss: 2.0373 - accuracy: 0.2657 - val_loss: 2.1303 - val_accuracy: 0.1111\n",
      "Epoch 8/50\n",
      "11/11 [==============================] - 1s 64ms/step - loss: 1.9745 - accuracy: 0.3114 - val_loss: 2.1105 - val_accuracy: 0.2444\n",
      "Epoch 9/50\n",
      "11/11 [==============================] - 1s 65ms/step - loss: 1.9512 - accuracy: 0.3029 - val_loss: 2.0831 - val_accuracy: 0.1778\n",
      "Epoch 10/50\n",
      "11/11 [==============================] - 1s 64ms/step - loss: 1.8907 - accuracy: 0.3057 - val_loss: 2.0199 - val_accuracy: 0.2444\n",
      "Epoch 11/50\n",
      "11/11 [==============================] - 1s 64ms/step - loss: 1.9005 - accuracy: 0.3314 - val_loss: 2.0499 - val_accuracy: 0.1778\n",
      "Epoch 12/50\n",
      "11/11 [==============================] - 1s 64ms/step - loss: 1.8161 - accuracy: 0.3629 - val_loss: 2.0481 - val_accuracy: 0.2444\n",
      "Epoch 13/50\n",
      "11/11 [==============================] - 1s 63ms/step - loss: 1.8096 - accuracy: 0.3943 - val_loss: 2.0313 - val_accuracy: 0.2667\n",
      "Epoch 14/50\n",
      "11/11 [==============================] - 1s 64ms/step - loss: 1.7560 - accuracy: 0.3914 - val_loss: 1.9454 - val_accuracy: 0.3111\n",
      "Epoch 15/50\n",
      "11/11 [==============================] - 1s 63ms/step - loss: 1.7180 - accuracy: 0.4429 - val_loss: 1.9494 - val_accuracy: 0.3111\n",
      "Epoch 16/50\n",
      "11/11 [==============================] - 1s 63ms/step - loss: 1.6704 - accuracy: 0.4429 - val_loss: 1.9705 - val_accuracy: 0.2222\n",
      "Epoch 17/50\n",
      "11/11 [==============================] - 1s 63ms/step - loss: 1.5921 - accuracy: 0.4629 - val_loss: 1.9917 - val_accuracy: 0.2667\n",
      "Epoch 18/50\n",
      "11/11 [==============================] - 1s 64ms/step - loss: 1.6016 - accuracy: 0.4514 - val_loss: 1.9179 - val_accuracy: 0.3556\n",
      "Epoch 19/50\n",
      "11/11 [==============================] - 1s 64ms/step - loss: 1.5017 - accuracy: 0.4971 - val_loss: 1.8710 - val_accuracy: 0.3333\n",
      "Epoch 20/50\n",
      "11/11 [==============================] - 1s 65ms/step - loss: 1.4886 - accuracy: 0.5143 - val_loss: 1.8743 - val_accuracy: 0.3556\n",
      "Epoch 21/50\n",
      "11/11 [==============================] - 1s 66ms/step - loss: 1.4239 - accuracy: 0.5229 - val_loss: 1.7974 - val_accuracy: 0.4000\n",
      "Epoch 22/50\n",
      "11/11 [==============================] - 1s 65ms/step - loss: 1.3657 - accuracy: 0.5686 - val_loss: 1.7452 - val_accuracy: 0.4222\n",
      "Epoch 23/50\n",
      "11/11 [==============================] - 1s 66ms/step - loss: 1.3545 - accuracy: 0.5686 - val_loss: 1.7363 - val_accuracy: 0.3778\n",
      "Epoch 24/50\n",
      "11/11 [==============================] - 1s 67ms/step - loss: 1.2751 - accuracy: 0.6057 - val_loss: 1.6641 - val_accuracy: 0.4667\n",
      "Epoch 25/50\n",
      "11/11 [==============================] - 1s 66ms/step - loss: 1.2330 - accuracy: 0.6086 - val_loss: 1.7131 - val_accuracy: 0.4667\n",
      "Epoch 26/50\n",
      "11/11 [==============================] - 1s 65ms/step - loss: 1.1671 - accuracy: 0.6714 - val_loss: 1.7713 - val_accuracy: 0.4222\n",
      "Epoch 27/50\n",
      "11/11 [==============================] - 1s 66ms/step - loss: 1.1664 - accuracy: 0.6514 - val_loss: 1.6223 - val_accuracy: 0.4889\n",
      "Epoch 28/50\n",
      "11/11 [==============================] - 1s 65ms/step - loss: 1.1403 - accuracy: 0.6343 - val_loss: 1.5972 - val_accuracy: 0.5333\n",
      "Epoch 29/50\n",
      "11/11 [==============================] - 1s 65ms/step - loss: 1.0837 - accuracy: 0.6714 - val_loss: 1.5367 - val_accuracy: 0.5111\n",
      "Epoch 30/50\n",
      "11/11 [==============================] - 1s 67ms/step - loss: 1.0079 - accuracy: 0.6457 - val_loss: 1.5018 - val_accuracy: 0.5333\n",
      "Epoch 31/50\n",
      "11/11 [==============================] - 1s 65ms/step - loss: 0.9525 - accuracy: 0.7400 - val_loss: 1.5649 - val_accuracy: 0.5333\n",
      "Epoch 32/50\n",
      "11/11 [==============================] - 1s 65ms/step - loss: 0.9127 - accuracy: 0.7543 - val_loss: 1.5328 - val_accuracy: 0.5556\n",
      "Epoch 33/50\n",
      "11/11 [==============================] - 1s 65ms/step - loss: 0.8868 - accuracy: 0.7514 - val_loss: 1.4279 - val_accuracy: 0.6222\n",
      "Epoch 34/50\n",
      "11/11 [==============================] - 1s 66ms/step - loss: 0.8767 - accuracy: 0.7257 - val_loss: 1.4261 - val_accuracy: 0.5778\n",
      "Epoch 35/50\n",
      "11/11 [==============================] - 1s 65ms/step - loss: 0.8254 - accuracy: 0.7800 - val_loss: 1.4307 - val_accuracy: 0.5333\n",
      "Epoch 36/50\n",
      "11/11 [==============================] - 1s 63ms/step - loss: 0.7722 - accuracy: 0.7714 - val_loss: 1.4076 - val_accuracy: 0.6000\n",
      "Epoch 37/50\n",
      "11/11 [==============================] - 1s 64ms/step - loss: 0.7756 - accuracy: 0.7800 - val_loss: 1.4108 - val_accuracy: 0.6222\n",
      "Epoch 38/50\n",
      "11/11 [==============================] - 1s 65ms/step - loss: 0.7729 - accuracy: 0.7714 - val_loss: 1.3696 - val_accuracy: 0.6222\n",
      "Epoch 39/50\n",
      "11/11 [==============================] - 1s 74ms/step - loss: 0.6997 - accuracy: 0.8200 - val_loss: 1.3162 - val_accuracy: 0.6444\n",
      "Epoch 40/50\n",
      "11/11 [==============================] - 1s 67ms/step - loss: 0.6273 - accuracy: 0.8200 - val_loss: 1.3090 - val_accuracy: 0.6667\n",
      "Epoch 41/50\n",
      "11/11 [==============================] - 1s 65ms/step - loss: 0.6977 - accuracy: 0.7771 - val_loss: 1.3353 - val_accuracy: 0.6444\n",
      "Epoch 42/50\n",
      "11/11 [==============================] - 1s 66ms/step - loss: 0.5956 - accuracy: 0.8086 - val_loss: 1.3381 - val_accuracy: 0.6667\n",
      "Epoch 43/50\n",
      "11/11 [==============================] - 1s 66ms/step - loss: 0.6120 - accuracy: 0.8229 - val_loss: 1.3217 - val_accuracy: 0.6222\n",
      "Epoch 44/50\n",
      "11/11 [==============================] - 1s 66ms/step - loss: 0.6389 - accuracy: 0.8200 - val_loss: 1.4063 - val_accuracy: 0.6000\n",
      "Epoch 45/50\n",
      "11/11 [==============================] - 1s 68ms/step - loss: 0.5548 - accuracy: 0.8486 - val_loss: 1.3276 - val_accuracy: 0.6222\n"
     ]
    }
   ],
   "source": [
    "history = model.fit(X_train, y_train, epochs = EPOCHS, validation_data = (X_val, y_val), callbacks=[early_stopping])"
   ]
  },
  {
   "cell_type": "markdown",
   "id": "57ec1982",
   "metadata": {},
   "source": [
    "### Train & validation Loss"
   ]
  },
  {
   "cell_type": "code",
   "execution_count": 7,
   "id": "b6c8d1db",
   "metadata": {},
   "outputs": [
    {
     "data": {
      "text/plain": [
       "<matplotlib.legend.Legend at 0x2764c5aa460>"
      ]
     },
     "execution_count": 7,
     "metadata": {},
     "output_type": "execute_result"
    },
    {
     "data": {
      "image/png": "[encoded data removed]",
      "text/plain": [
       "<Figure size 432x288 with 1 Axes>"
      ]
     },
     "metadata": {
      "needs_background": "light"
     },
     "output_type": "display_data"
    }
   ],
   "source": [
    "plt.plot(history.history['loss'], label='loss')\n",
    "plt.plot(history.history['val_loss'], label = 'val_loss')\n",
    "plt.xlabel('Epoch')\n",
    "plt.ylabel('Loss')\n",
    "plt.ylim([0.0, 3])\n",
    "plt.legend(loc='lower right')"
   ]
  },
  {
   "cell_type": "markdown",
   "id": "7af69023",
   "metadata": {},
   "source": [
    "### Train & validation Accuracy"
   ]
  },
  {
   "cell_type": "code",
   "execution_count": 8,
   "id": "0bb8dfca",
   "metadata": {},
   "outputs": [
    {
     "data": {
      "text/plain": [
       "<matplotlib.legend.Legend at 0x276541eab50>"
      ]
     },
     "execution_count": 8,
     "metadata": {},
     "output_type": "execute_result"
    },
    {
     "data": {
      "image/png": "[encoded data removed]",
      "text/plain": [
       "<Figure size 432x288 with 1 Axes>"
      ]
     },
     "metadata": {
      "needs_background": "light"
     },
     "output_type": "display_data"
    }
   ],
   "source": [
    "plt.plot(history.history['accuracy'], label='accuracy')\n",
    "plt.plot(history.history['val_accuracy'], label = 'val_accuracy')\n",
    "plt.xlabel('Epoch')\n",
    "plt.ylabel('Accuracy')\n",
    "plt.ylim([0.0, 1])\n",
    "plt.legend(loc='lower right')"
   ]
  },
  {
   "cell_type": "markdown",
   "id": "9b30546c",
   "metadata": {},
   "source": [
    "## Test"
   ]
  },
  {
   "cell_type": "code",
   "execution_count": 9,
   "id": "cf4c662a",
   "metadata": {},
   "outputs": [
    {
     "name": "stdout",
     "output_type": "stream",
     "text": [
      "4/4 [==============================] - 1s 25ms/step\n"
     ]
    }
   ],
   "source": [
    "predict = np.argmax(model.predict(X_test), axis=1)"
   ]
  },
  {
   "cell_type": "code",
   "execution_count": 10,
   "id": "6ec7a04a",
   "metadata": {},
   "outputs": [
    {
     "name": "stdout",
     "output_type": "stream",
     "text": [
      "              precision    recall  f1-score   support\n",
      "\n",
      "           0       0.75      0.80      0.77        15\n",
      "           1       0.90      0.56      0.69        16\n",
      "           2       0.22      0.40      0.29         5\n",
      "           3       0.55      0.67      0.60         9\n",
      "           4       0.80      0.80      0.80        10\n",
      "           5       0.57      0.50      0.53         8\n",
      "           6       0.64      0.64      0.64        14\n",
      "           7       1.00      0.40      0.57        10\n",
      "           8       0.22      0.22      0.22         9\n",
      "           9       0.60      1.00      0.75         9\n",
      "\n",
      "    accuracy                           0.62       105\n",
      "   macro avg       0.63      0.60      0.59       105\n",
      "weighted avg       0.67      0.62      0.62       105\n",
      "\n"
     ]
    }
   ],
   "source": [
    "print(classification_report(y_test, predict))"
   ]
  },
  {
   "cell_type": "code",
   "execution_count": 11,
   "id": "9433cc53",
   "metadata": {},
   "outputs": [
    {
     "data": {
      "image/png": "[encoded data removed]",
      "text/plain": [
       "<Figure size 400x400 with 2 Axes>"
      ]
     },
     "metadata": {
      "needs_background": "light"
     },
     "output_type": "display_data"
    }
   ],
   "source": [
    "fig = plt.figure(figsize=(CLASS_COUNT // 2, CLASS_COUNT // 2), dpi=80)\n",
    "M = confusion_matrix(predict, y_test)\n",
    "plt.imshow(M, interpolation = 'nearest')\n",
    "plt.set_cmap('binary')\n",
    "plt.xticks(range(CLASS_COUNT))\n",
    "plt.yticks(range(CLASS_COUNT))\n",
    "plt.xlabel(\"true label\")\n",
    "plt.ylabel(\"predicted label\")\n",
    "plt.colorbar()\n",
    "pass"
   ]
  },
  {
   "cell_type": "code",
   "execution_count": null,
   "id": "5c484710",
   "metadata": {},
   "outputs": [],
   "source": []
  }
 ],
 "metadata": {
  "kernelspec": {
   "display_name": "Python 3 (ipykernel)",
   "language": "python",
   "name": "python3"
  },
  "language_info": {
   "codemirror_mode": {
    "name": "ipython",
    "version": 3
   },
   "file_extension": ".py",
   "mimetype": "text/x-python",
   "name": "python",
   "nbconvert_exporter": "python",
   "pygments_lexer": "ipython3",
   "version": "3.9.6"
  }
 },
 "nbformat": 4,
 "nbformat_minor": 5
}
