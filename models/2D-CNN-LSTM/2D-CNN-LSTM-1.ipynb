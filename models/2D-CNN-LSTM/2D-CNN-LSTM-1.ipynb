{
 "cells": [
  {
   "cell_type": "code",
   "execution_count": 1,
   "id": "867cbce7",
   "metadata": {},
   "outputs": [],
   "source": [
    "import os\n",
    "\n",
    "import cv2\n",
    "from matplotlib import pyplot as plt\n",
    "from tqdm.notebook import trange, tqdm\n",
    "import numpy as np\n",
    "import tensorflow as tf\n",
    "import random\n",
    "from sklearn import preprocessing\n",
    "from sklearn.model_selection import train_test_split\n",
    "from tensorflow.keras import layers, models, utils\n",
    "from sklearn.metrics import classification_report, confusion_matrix\n",
    "\n",
    "from data_utils import read_and_preprocess_data\n",
    "from model_utils import *"
   ]
  },
  {
   "cell_type": "markdown",
   "id": "d6e5fe95",
   "metadata": {},
   "source": [
    "## Settings"
   ]
  },
  {
   "cell_type": "code",
   "execution_count": 2,
   "id": "c83c0d21",
   "metadata": {},
   "outputs": [],
   "source": [
    "FRAME_SIZE = 128\n",
    "DATA_PATH = './2sec/data_1_fps'\n",
    "EPOCHS = 50"
   ]
  },
  {
   "cell_type": "markdown",
   "id": "68882663",
   "metadata": {},
   "source": [
    "## Data"
   ]
  },
  {
   "cell_type": "code",
   "execution_count": 3,
   "id": "41431d91",
   "metadata": {},
   "outputs": [
    {
     "name": "stdout",
     "output_type": "stream",
     "text": [
      "reading...\n",
      "BalanceBeam\n",
      "CricketShot\n",
      "Fencing\n",
      "HorseRiding\n",
      "LongJump\n",
      "RockClimbingIndoor\n",
      "SalsaSpin\n",
      "SkyDiving\n",
      "TableTennisShot\n",
      "WallPushups\n",
      "class count = 10\n",
      "med frame count = 2.0\n",
      "padding...\n",
      "Labels encoding...\n",
      "(500,) (500, 2, 128, 128, 3)\n",
      "norm...\n",
      "Train-val-test split...\n",
      "Train: (350, 2, 128, 128, 3) (350,)\n",
      "Val: (45, 2, 128, 128, 3) (45,)\n",
      "Test: (105, 2, 128, 128, 3) (105,)\n"
     ]
    }
   ],
   "source": [
    "CLASS_COUNT, FRAME_COUNT, FRAME_SIZE, X_train, X_val, X_test, y_train, y_val, y_test = read_and_preprocess_data(DATA_PATH, FRAME_SIZE)"
   ]
  },
  {
   "cell_type": "markdown",
   "id": "f99a5cc9",
   "metadata": {},
   "source": [
    "## Model"
   ]
  },
  {
   "cell_type": "code",
   "execution_count": 4,
   "id": "b687e133",
   "metadata": {},
   "outputs": [
    {
     "name": "stdout",
     "output_type": "stream",
     "text": [
      "Model: \"sequential\"\n",
      "_________________________________________________________________\n",
      " Layer (type)                Output Shape              Param #   \n",
      "=================================================================\n",
      " time_distributed (TimeDistr  (None, 2, 62, 62, 64)    4864      \n",
      " ibuted)                                                         \n",
      "                                                                 \n",
      " batch_normalization (BatchN  (None, 2, 62, 62, 64)    248       \n",
      " ormalization)                                                   \n",
      "                                                                 \n",
      " activation (Activation)     (None, 2, 62, 62, 64)     0         \n",
      "                                                                 \n",
      " time_distributed_1 (TimeDis  (None, 2, 30, 30, 32)    32800     \n",
      " tributed)                                                       \n",
      "                                                                 \n",
      " batch_normalization_1 (Batc  (None, 2, 30, 30, 32)    120       \n",
      " hNormalization)                                                 \n",
      "                                                                 \n",
      " activation_1 (Activation)   (None, 2, 30, 30, 32)     0         \n",
      "                                                                 \n",
      " time_distributed_2 (TimeDis  (None, 2, 14, 14, 32)    9248      \n",
      " tributed)                                                       \n",
      "                                                                 \n",
      " batch_normalization_2 (Batc  (None, 2, 14, 14, 32)    56        \n",
      " hNormalization)                                                 \n",
      "                                                                 \n",
      " activation_2 (Activation)   (None, 2, 14, 14, 32)     0         \n",
      "                                                                 \n",
      " time_distributed_3 (TimeDis  (None, 2, 12, 12, 16)    4624      \n",
      " tributed)                                                       \n",
      "                                                                 \n",
      " batch_normalization_3 (Batc  (None, 2, 12, 12, 16)    48        \n",
      " hNormalization)                                                 \n",
      "                                                                 \n",
      " activation_3 (Activation)   (None, 2, 12, 12, 16)     0         \n",
      "                                                                 \n",
      " time_distributed_4 (TimeDis  (None, 2, 6, 6, 16)      0         \n",
      " tributed)                                                       \n",
      "                                                                 \n",
      " time_distributed_5 (TimeDis  (None, 2, 576)           0         \n",
      " tributed)                                                       \n",
      "                                                                 \n",
      " lstm (LSTM)                 (None, 16)                37952     \n",
      "                                                                 \n",
      " dense (Dense)               (None, 20)                340       \n",
      "                                                                 \n",
      " dropout (Dropout)           (None, 20)                0         \n",
      "                                                                 \n",
      " dense_1 (Dense)             (None, 10)                210       \n",
      "                                                                 \n",
      "=================================================================\n",
      "Total params: 90,510\n",
      "Trainable params: 90,274\n",
      "Non-trainable params: 236\n",
      "_________________________________________________________________\n"
     ]
    }
   ],
   "source": [
    "model = models.Sequential()\n",
    "model = add_2d_cnn_part(model, FRAME_COUNT, FRAME_SIZE)\n",
    "model.add(layers.TimeDistributed(layers.Flatten()))\n",
    "model = add_lstm_part(model, return_sequences=False)\n",
    "model = add_dense_part(model, CLASS_COUNT)\n",
    "\n",
    "model.summary()"
   ]
  },
  {
   "cell_type": "code",
   "execution_count": 5,
   "id": "963ff906",
   "metadata": {},
   "outputs": [],
   "source": [
    "model.compile(optimizer='adam',\n",
    "              loss=tf.keras.losses.SparseCategoricalCrossentropy(from_logits=False),\n",
    "              metrics=['accuracy'],\n",
    "              )\n"
   ]
  },
  {
   "cell_type": "code",
   "execution_count": 6,
   "id": "20cf9db7",
   "metadata": {},
   "outputs": [
    {
     "name": "stdout",
     "output_type": "stream",
     "text": [
      "Epoch 1/50\n",
      "11/11 [==============================] - 7s 115ms/step - loss: 2.2749 - accuracy: 0.1286 - val_loss: 2.2909 - val_accuracy: 0.1111\n",
      "Epoch 2/50\n",
      "11/11 [==============================] - 0s 42ms/step - loss: 2.2330 - accuracy: 0.1571 - val_loss: 2.2770 - val_accuracy: 0.1556\n",
      "Epoch 3/50\n",
      "11/11 [==============================] - 0s 42ms/step - loss: 2.1576 - accuracy: 0.2029 - val_loss: 2.2589 - val_accuracy: 0.2444\n",
      "Epoch 4/50\n",
      "11/11 [==============================] - 0s 43ms/step - loss: 2.1239 - accuracy: 0.2029 - val_loss: 2.2307 - val_accuracy: 0.2444\n",
      "Epoch 5/50\n",
      "11/11 [==============================] - 1s 49ms/step - loss: 2.0980 - accuracy: 0.2371 - val_loss: 2.2198 - val_accuracy: 0.2667\n",
      "Epoch 6/50\n",
      "11/11 [==============================] - 0s 42ms/step - loss: 2.0038 - accuracy: 0.2514 - val_loss: 2.2069 - val_accuracy: 0.3333\n",
      "Epoch 7/50\n",
      "11/11 [==============================] - 0s 40ms/step - loss: 1.9807 - accuracy: 0.3257 - val_loss: 2.2257 - val_accuracy: 0.3556\n",
      "Epoch 8/50\n",
      "11/11 [==============================] - 0s 40ms/step - loss: 1.9175 - accuracy: 0.3057 - val_loss: 2.2047 - val_accuracy: 0.3778\n",
      "Epoch 9/50\n",
      "11/11 [==============================] - 0s 40ms/step - loss: 1.9081 - accuracy: 0.3314 - val_loss: 2.1058 - val_accuracy: 0.4222\n",
      "Epoch 10/50\n",
      "11/11 [==============================] - 0s 40ms/step - loss: 1.8513 - accuracy: 0.3486 - val_loss: 2.0621 - val_accuracy: 0.4000\n",
      "Epoch 11/50\n",
      "11/11 [==============================] - 0s 38ms/step - loss: 1.7664 - accuracy: 0.3771 - val_loss: 2.1166 - val_accuracy: 0.4444\n",
      "Epoch 12/50\n",
      "11/11 [==============================] - 0s 38ms/step - loss: 1.7263 - accuracy: 0.4057 - val_loss: 2.1132 - val_accuracy: 0.4222\n",
      "Epoch 13/50\n",
      "11/11 [==============================] - 0s 39ms/step - loss: 1.6663 - accuracy: 0.4229 - val_loss: 2.0026 - val_accuracy: 0.4889\n",
      "Epoch 14/50\n",
      "11/11 [==============================] - 0s 38ms/step - loss: 1.5487 - accuracy: 0.4686 - val_loss: 2.0317 - val_accuracy: 0.4222\n",
      "Epoch 15/50\n",
      "11/11 [==============================] - 0s 39ms/step - loss: 1.5836 - accuracy: 0.4514 - val_loss: 1.9303 - val_accuracy: 0.4889\n",
      "Epoch 16/50\n",
      "11/11 [==============================] - 0s 38ms/step - loss: 1.4547 - accuracy: 0.5514 - val_loss: 1.9650 - val_accuracy: 0.5333\n",
      "Epoch 17/50\n",
      "11/11 [==============================] - 0s 38ms/step - loss: 1.4347 - accuracy: 0.5943 - val_loss: 1.9768 - val_accuracy: 0.4889\n",
      "Epoch 18/50\n",
      "11/11 [==============================] - 0s 39ms/step - loss: 1.3863 - accuracy: 0.5514 - val_loss: 1.9244 - val_accuracy: 0.4667\n",
      "Epoch 19/50\n",
      "11/11 [==============================] - 0s 38ms/step - loss: 1.2535 - accuracy: 0.6543 - val_loss: 1.9260 - val_accuracy: 0.5111\n",
      "Epoch 20/50\n",
      "11/11 [==============================] - 0s 39ms/step - loss: 1.1869 - accuracy: 0.6000 - val_loss: 1.8416 - val_accuracy: 0.5111\n",
      "Epoch 21/50\n",
      "11/11 [==============================] - 0s 38ms/step - loss: 1.1807 - accuracy: 0.6400 - val_loss: 1.9086 - val_accuracy: 0.4667\n",
      "Epoch 22/50\n",
      "11/11 [==============================] - 0s 38ms/step - loss: 1.1417 - accuracy: 0.6400 - val_loss: 1.7803 - val_accuracy: 0.5111\n",
      "Epoch 23/50\n",
      "11/11 [==============================] - 0s 38ms/step - loss: 1.1148 - accuracy: 0.6257 - val_loss: 1.7588 - val_accuracy: 0.5111\n",
      "Epoch 24/50\n",
      "11/11 [==============================] - 0s 38ms/step - loss: 1.0915 - accuracy: 0.6800 - val_loss: 1.8797 - val_accuracy: 0.4889\n",
      "Epoch 25/50\n",
      "11/11 [==============================] - 0s 37ms/step - loss: 1.0378 - accuracy: 0.6971 - val_loss: 1.7927 - val_accuracy: 0.4667\n",
      "Epoch 26/50\n",
      "11/11 [==============================] - 0s 38ms/step - loss: 1.0181 - accuracy: 0.7286 - val_loss: 1.7665 - val_accuracy: 0.5333\n",
      "Epoch 27/50\n",
      "11/11 [==============================] - 0s 38ms/step - loss: 0.8915 - accuracy: 0.7486 - val_loss: 1.7292 - val_accuracy: 0.5778\n",
      "Epoch 28/50\n",
      "11/11 [==============================] - 0s 38ms/step - loss: 0.8903 - accuracy: 0.7571 - val_loss: 1.6421 - val_accuracy: 0.6222\n",
      "Epoch 29/50\n",
      "11/11 [==============================] - 0s 38ms/step - loss: 0.8110 - accuracy: 0.7829 - val_loss: 1.6692 - val_accuracy: 0.5778\n",
      "Epoch 30/50\n",
      "11/11 [==============================] - 0s 38ms/step - loss: 0.7443 - accuracy: 0.8114 - val_loss: 1.6475 - val_accuracy: 0.5333\n",
      "Epoch 31/50\n",
      "11/11 [==============================] - 0s 38ms/step - loss: 0.7231 - accuracy: 0.8029 - val_loss: 1.6099 - val_accuracy: 0.5333\n",
      "Epoch 32/50\n",
      "11/11 [==============================] - 0s 37ms/step - loss: 0.6811 - accuracy: 0.8286 - val_loss: 1.8561 - val_accuracy: 0.5111\n",
      "Epoch 33/50\n",
      "11/11 [==============================] - 0s 38ms/step - loss: 0.6807 - accuracy: 0.8200 - val_loss: 1.6048 - val_accuracy: 0.5556\n",
      "Epoch 34/50\n",
      "11/11 [==============================] - 0s 39ms/step - loss: 0.6805 - accuracy: 0.8229 - val_loss: 1.4300 - val_accuracy: 0.6000\n",
      "Epoch 35/50\n",
      "11/11 [==============================] - 0s 38ms/step - loss: 0.7593 - accuracy: 0.7743 - val_loss: 1.3401 - val_accuracy: 0.6222\n",
      "Epoch 36/50\n",
      "11/11 [==============================] - 0s 37ms/step - loss: 0.6709 - accuracy: 0.8314 - val_loss: 1.4026 - val_accuracy: 0.6000\n",
      "Epoch 37/50\n",
      "11/11 [==============================] - 0s 38ms/step - loss: 0.5964 - accuracy: 0.8400 - val_loss: 1.3090 - val_accuracy: 0.5778\n",
      "Epoch 38/50\n",
      "11/11 [==============================] - 0s 38ms/step - loss: 0.5835 - accuracy: 0.8371 - val_loss: 1.3448 - val_accuracy: 0.5111\n",
      "Epoch 39/50\n",
      "11/11 [==============================] - 0s 38ms/step - loss: 0.5014 - accuracy: 0.8686 - val_loss: 1.1998 - val_accuracy: 0.5333\n",
      "Epoch 40/50\n",
      "11/11 [==============================] - 0s 38ms/step - loss: 0.4722 - accuracy: 0.8971 - val_loss: 1.7485 - val_accuracy: 0.5556\n",
      "Epoch 41/50\n",
      "11/11 [==============================] - 0s 39ms/step - loss: 0.4579 - accuracy: 0.8886 - val_loss: 1.2484 - val_accuracy: 0.6444\n",
      "Epoch 42/50\n",
      "11/11 [==============================] - 0s 38ms/step - loss: 0.4165 - accuracy: 0.9057 - val_loss: 1.4619 - val_accuracy: 0.5778\n",
      "Epoch 43/50\n",
      "11/11 [==============================] - 0s 38ms/step - loss: 0.4420 - accuracy: 0.8829 - val_loss: 1.3604 - val_accuracy: 0.5333\n",
      "Epoch 44/50\n",
      "11/11 [==============================] - 0s 40ms/step - loss: 0.4603 - accuracy: 0.8800 - val_loss: 1.5228 - val_accuracy: 0.6000\n"
     ]
    }
   ],
   "source": [
    "history = model.fit(X_train, y_train, epochs = EPOCHS, validation_data = (X_val, y_val), callbacks=[early_stopping])"
   ]
  },
  {
   "cell_type": "markdown",
   "id": "57ec1982",
   "metadata": {},
   "source": [
    "### Train & validation Loss"
   ]
  },
  {
   "cell_type": "code",
   "execution_count": 7,
   "id": "b6c8d1db",
   "metadata": {},
   "outputs": [
    {
     "data": {
      "text/plain": [
       "<matplotlib.legend.Legend at 0x1a7dcd56f10>"
      ]
     },
     "execution_count": 7,
     "metadata": {},
     "output_type": "execute_result"
    },
    {
     "data": {
      "image/png": "[encoded data removed]",
      "text/plain": [
       "<Figure size 432x288 with 1 Axes>"
      ]
     },
     "metadata": {
      "needs_background": "light"
     },
     "output_type": "display_data"
    }
   ],
   "source": [
    "plt.plot(history.history['loss'], label='loss')\n",
    "plt.plot(history.history['val_loss'], label = 'val_loss')\n",
    "plt.xlabel('Epoch')\n",
    "plt.ylabel('Loss')\n",
    "plt.ylim([0.0, 3])\n",
    "plt.legend(loc='lower right')"
   ]
  },
  {
   "cell_type": "markdown",
   "id": "7af69023",
   "metadata": {},
   "source": [
    "### Train & validation Accuracy"
   ]
  },
  {
   "cell_type": "code",
   "execution_count": 8,
   "id": "0bb8dfca",
   "metadata": {},
   "outputs": [
    {
     "data": {
      "text/plain": [
       "<matplotlib.legend.Legend at 0x1a7ae905dc0>"
      ]
     },
     "execution_count": 8,
     "metadata": {},
     "output_type": "execute_result"
    },
    {
     "data": {
      "image/png": "[encoded data removed]",
      "text/plain": [
       "<Figure size 432x288 with 1 Axes>"
      ]
     },
     "metadata": {
      "needs_background": "light"
     },
     "output_type": "display_data"
    }
   ],
   "source": [
    "plt.plot(history.history['accuracy'], label='accuracy')\n",
    "plt.plot(history.history['val_accuracy'], label = 'val_accuracy')\n",
    "plt.xlabel('Epoch')\n",
    "plt.ylabel('Accuracy')\n",
    "plt.ylim([0.0, 1])\n",
    "plt.legend(loc='lower right')"
   ]
  },
  {
   "cell_type": "markdown",
   "id": "9b30546c",
   "metadata": {},
   "source": [
    "## Test"
   ]
  },
  {
   "cell_type": "code",
   "execution_count": 9,
   "id": "cf4c662a",
   "metadata": {},
   "outputs": [
    {
     "name": "stdout",
     "output_type": "stream",
     "text": [
      "4/4 [==============================] - 0s 15ms/step\n"
     ]
    }
   ],
   "source": [
    "predict = np.argmax(model.predict(X_test), axis=1)"
   ]
  },
  {
   "cell_type": "code",
   "execution_count": 10,
   "id": "6ec7a04a",
   "metadata": {},
   "outputs": [
    {
     "name": "stdout",
     "output_type": "stream",
     "text": [
      "              precision    recall  f1-score   support\n",
      "\n",
      "           0       0.70      0.47      0.56        15\n",
      "           1       0.69      0.56      0.62        16\n",
      "           2       0.33      0.60      0.43         5\n",
      "           3       0.38      0.67      0.48         9\n",
      "           4       0.36      0.40      0.38        10\n",
      "           5       0.57      0.50      0.53         8\n",
      "           6       0.86      0.43      0.57        14\n",
      "           7       0.43      0.60      0.50        10\n",
      "           8       0.57      0.44      0.50         9\n",
      "           9       0.64      0.78      0.70         9\n",
      "\n",
      "    accuracy                           0.53       105\n",
      "   macro avg       0.55      0.54      0.53       105\n",
      "weighted avg       0.59      0.53      0.54       105\n",
      "\n"
     ]
    }
   ],
   "source": [
    "print(classification_report(y_test, predict))"
   ]
  },
  {
   "cell_type": "code",
   "execution_count": 11,
   "id": "9433cc53",
   "metadata": {},
   "outputs": [
    {
     "data": {
      "image/png": "[encoded data removed]",
      "text/plain": [
       "<Figure size 400x400 with 2 Axes>"
      ]
     },
     "metadata": {
      "needs_background": "light"
     },
     "output_type": "display_data"
    }
   ],
   "source": [
    "fig = plt.figure(figsize=(CLASS_COUNT // 2, CLASS_COUNT // 2), dpi=80)\n",
    "M = confusion_matrix(predict, y_test)\n",
    "plt.imshow(M, interpolation = 'nearest')\n",
    "plt.set_cmap('binary')\n",
    "plt.xticks(range(CLASS_COUNT))\n",
    "plt.yticks(range(CLASS_COUNT))\n",
    "plt.xlabel(\"true label\")\n",
    "plt.ylabel(\"predicted label\")\n",
    "plt.colorbar()\n",
    "pass"
   ]
  },
  {
   "cell_type": "code",
   "execution_count": null,
   "id": "5c484710",
   "metadata": {},
   "outputs": [],
   "source": []
  }
 ],
 "metadata": {
  "kernelspec": {
   "display_name": "Python 3 (ipykernel)",
   "language": "python",
   "name": "python3"
  },
  "language_info": {
   "codemirror_mode": {
    "name": "ipython",
    "version": 3
   },
   "file_extension": ".py",
   "mimetype": "text/x-python",
   "name": "python",
   "nbconvert_exporter": "python",
   "pygments_lexer": "ipython3",
   "version": "3.9.6"
  }
 },
 "nbformat": 4,
 "nbformat_minor": 5
}
