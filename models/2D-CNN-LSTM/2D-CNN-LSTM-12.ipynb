{
 "cells": [
  {
   "cell_type": "code",
   "execution_count": 1,
   "id": "867cbce7",
   "metadata": {},
   "outputs": [],
   "source": [
    "import os\n",
    "\n",
    "import cv2\n",
    "from matplotlib import pyplot as plt\n",
    "from tqdm.notebook import trange, tqdm\n",
    "import numpy as np\n",
    "import tensorflow as tf\n",
    "import random\n",
    "from sklearn import preprocessing\n",
    "from sklearn.model_selection import train_test_split\n",
    "from tensorflow.keras import layers, models, utils\n",
    "from sklearn.metrics import classification_report, confusion_matrix\n",
    "\n",
    "from data_utils import read_and_preprocess_data\n",
    "from model_utils import *"
   ]
  },
  {
   "cell_type": "markdown",
   "id": "d6e5fe95",
   "metadata": {},
   "source": [
    "## Settings"
   ]
  },
  {
   "cell_type": "code",
   "execution_count": 2,
   "id": "c83c0d21",
   "metadata": {},
   "outputs": [],
   "source": [
    "FRAME_SIZE = 128\n",
    "DATA_PATH = './2sec/data_12_fps'\n",
    "EPOCHS = 50"
   ]
  },
  {
   "cell_type": "markdown",
   "id": "68882663",
   "metadata": {},
   "source": [
    "## Data"
   ]
  },
  {
   "cell_type": "code",
   "execution_count": 3,
   "id": "41431d91",
   "metadata": {},
   "outputs": [
    {
     "name": "stdout",
     "output_type": "stream",
     "text": [
      "reading...\n",
      "BalanceBeam\n",
      "CricketShot\n",
      "Fencing\n",
      "HorseRiding\n",
      "LongJump\n",
      "RockClimbingIndoor\n",
      "SalsaSpin\n",
      "SkyDiving\n",
      "TableTennisShot\n",
      "WallPushups\n",
      "class count = 10\n",
      "med frame count = 24.0\n",
      "padding...\n",
      "Labels encoding...\n",
      "(500,) (500, 24, 128, 128, 3)\n",
      "norm...\n",
      "Train-val-test split...\n",
      "Train: (350, 24, 128, 128, 3) (350,)\n",
      "Val: (45, 24, 128, 128, 3) (45,)\n",
      "Test: (105, 24, 128, 128, 3) (105,)\n"
     ]
    }
   ],
   "source": [
    "CLASS_COUNT, FRAME_COUNT, FRAME_SIZE, X_train, X_val, X_test, y_train, y_val, y_test = read_and_preprocess_data(DATA_PATH, FRAME_SIZE)"
   ]
  },
  {
   "cell_type": "markdown",
   "id": "f99a5cc9",
   "metadata": {},
   "source": [
    "## Model"
   ]
  },
  {
   "cell_type": "code",
   "execution_count": 4,
   "id": "b687e133",
   "metadata": {},
   "outputs": [
    {
     "name": "stdout",
     "output_type": "stream",
     "text": [
      "Model: \"sequential\"\n",
      "_________________________________________________________________\n",
      " Layer (type)                Output Shape              Param #   \n",
      "=================================================================\n",
      " time_distributed (TimeDistr  (None, 24, 62, 62, 64)   4864      \n",
      " ibuted)                                                         \n",
      "                                                                 \n",
      " batch_normalization (BatchN  (None, 24, 62, 62, 64)   248       \n",
      " ormalization)                                                   \n",
      "                                                                 \n",
      " activation (Activation)     (None, 24, 62, 62, 64)    0         \n",
      "                                                                 \n",
      " time_distributed_1 (TimeDis  (None, 24, 30, 30, 32)   32800     \n",
      " tributed)                                                       \n",
      "                                                                 \n",
      " batch_normalization_1 (Batc  (None, 24, 30, 30, 32)   120       \n",
      " hNormalization)                                                 \n",
      "                                                                 \n",
      " activation_1 (Activation)   (None, 24, 30, 30, 32)    0         \n",
      "                                                                 \n",
      " time_distributed_2 (TimeDis  (None, 24, 14, 14, 32)   9248      \n",
      " tributed)                                                       \n",
      "                                                                 \n",
      " batch_normalization_2 (Batc  (None, 24, 14, 14, 32)   56        \n",
      " hNormalization)                                                 \n",
      "                                                                 \n",
      " activation_2 (Activation)   (None, 24, 14, 14, 32)    0         \n",
      "                                                                 \n",
      " time_distributed_3 (TimeDis  (None, 24, 12, 12, 16)   4624      \n",
      " tributed)                                                       \n",
      "                                                                 \n",
      " batch_normalization_3 (Batc  (None, 24, 12, 12, 16)   48        \n",
      " hNormalization)                                                 \n",
      "                                                                 \n",
      " activation_3 (Activation)   (None, 24, 12, 12, 16)    0         \n",
      "                                                                 \n",
      " time_distributed_4 (TimeDis  (None, 24, 6, 6, 16)     0         \n",
      " tributed)                                                       \n",
      "                                                                 \n",
      " time_distributed_5 (TimeDis  (None, 24, 576)          0         \n",
      " tributed)                                                       \n",
      "                                                                 \n",
      " lstm (LSTM)                 (None, 16)                37952     \n",
      "                                                                 \n",
      " dense (Dense)               (None, 20)                340       \n",
      "                                                                 \n",
      " dropout (Dropout)           (None, 20)                0         \n",
      "                                                                 \n",
      " dense_1 (Dense)             (None, 10)                210       \n",
      "                                                                 \n",
      "=================================================================\n",
      "Total params: 90,510\n",
      "Trainable params: 90,274\n",
      "Non-trainable params: 236\n",
      "_________________________________________________________________\n"
     ]
    }
   ],
   "source": [
    "model = models.Sequential()\n",
    "model = add_2d_cnn_part(model, FRAME_COUNT, FRAME_SIZE)\n",
    "model.add(layers.TimeDistributed(layers.Flatten()))\n",
    "model = add_lstm_part(model, return_sequences=False)\n",
    "model = add_dense_part(model, CLASS_COUNT)\n",
    "\n",
    "model.summary()"
   ]
  },
  {
   "cell_type": "code",
   "execution_count": 5,
   "id": "963ff906",
   "metadata": {},
   "outputs": [],
   "source": [
    "model.compile(optimizer='adam',\n",
    "              loss=tf.keras.losses.SparseCategoricalCrossentropy(from_logits=False),\n",
    "              metrics=['accuracy'],\n",
    "              )\n"
   ]
  },
  {
   "cell_type": "code",
   "execution_count": 6,
   "id": "20cf9db7",
   "metadata": {},
   "outputs": [
    {
     "name": "stdout",
     "output_type": "stream",
     "text": [
      "Epoch 1/50\n",
      "11/11 [==============================] - 13s 557ms/step - loss: 2.3239 - accuracy: 0.1200 - val_loss: 2.3463 - val_accuracy: 0.0667\n",
      "Epoch 2/50\n",
      "11/11 [==============================] - 3s 314ms/step - loss: 2.2961 - accuracy: 0.1257 - val_loss: 2.3271 - val_accuracy: 0.0444\n",
      "Epoch 3/50\n",
      "11/11 [==============================] - 3s 315ms/step - loss: 2.2895 - accuracy: 0.1600 - val_loss: 2.3082 - val_accuracy: 0.0444\n",
      "Epoch 4/50\n",
      "11/11 [==============================] - 3s 315ms/step - loss: 2.2469 - accuracy: 0.1857 - val_loss: 2.2776 - val_accuracy: 0.0889\n",
      "Epoch 5/50\n",
      "11/11 [==============================] - 3s 314ms/step - loss: 2.2219 - accuracy: 0.1771 - val_loss: 2.2700 - val_accuracy: 0.1556\n",
      "Epoch 6/50\n",
      "11/11 [==============================] - 3s 313ms/step - loss: 2.1793 - accuracy: 0.2057 - val_loss: 2.2170 - val_accuracy: 0.2000\n",
      "Epoch 7/50\n",
      "11/11 [==============================] - 3s 312ms/step - loss: 2.1442 - accuracy: 0.2143 - val_loss: 2.1969 - val_accuracy: 0.2000\n",
      "Epoch 8/50\n",
      "11/11 [==============================] - 3s 312ms/step - loss: 2.0887 - accuracy: 0.2743 - val_loss: 2.1642 - val_accuracy: 0.1556\n",
      "Epoch 9/50\n",
      "11/11 [==============================] - 3s 312ms/step - loss: 2.0245 - accuracy: 0.3171 - val_loss: 2.1327 - val_accuracy: 0.2222\n",
      "Epoch 10/50\n",
      "11/11 [==============================] - 3s 312ms/step - loss: 2.0447 - accuracy: 0.2743 - val_loss: 2.0723 - val_accuracy: 0.2667\n",
      "Epoch 11/50\n",
      "11/11 [==============================] - 3s 313ms/step - loss: 1.9919 - accuracy: 0.2886 - val_loss: 2.0575 - val_accuracy: 0.2444\n",
      "Epoch 12/50\n",
      "11/11 [==============================] - 3s 312ms/step - loss: 1.9407 - accuracy: 0.3629 - val_loss: 2.0084 - val_accuracy: 0.2000\n",
      "Epoch 13/50\n",
      "11/11 [==============================] - 3s 313ms/step - loss: 1.8437 - accuracy: 0.3714 - val_loss: 1.9626 - val_accuracy: 0.2889\n",
      "Epoch 14/50\n",
      "11/11 [==============================] - 3s 312ms/step - loss: 1.7715 - accuracy: 0.4143 - val_loss: 1.9523 - val_accuracy: 0.2222\n",
      "Epoch 15/50\n",
      "11/11 [==============================] - 3s 312ms/step - loss: 1.8198 - accuracy: 0.3543 - val_loss: 1.9085 - val_accuracy: 0.3111\n",
      "Epoch 16/50\n",
      "11/11 [==============================] - 3s 316ms/step - loss: 1.7294 - accuracy: 0.4343 - val_loss: 1.9459 - val_accuracy: 0.3111\n",
      "Epoch 17/50\n",
      "11/11 [==============================] - 3s 314ms/step - loss: 1.7035 - accuracy: 0.4143 - val_loss: 1.8847 - val_accuracy: 0.3111\n",
      "Epoch 18/50\n",
      "11/11 [==============================] - 3s 314ms/step - loss: 1.6120 - accuracy: 0.4829 - val_loss: 1.8562 - val_accuracy: 0.3556\n",
      "Epoch 19/50\n",
      "11/11 [==============================] - 3s 314ms/step - loss: 1.5799 - accuracy: 0.4714 - val_loss: 1.8588 - val_accuracy: 0.3333\n",
      "Epoch 20/50\n",
      "11/11 [==============================] - 3s 313ms/step - loss: 1.5460 - accuracy: 0.5086 - val_loss: 1.8310 - val_accuracy: 0.3778\n",
      "Epoch 21/50\n",
      "11/11 [==============================] - 3s 315ms/step - loss: 1.4858 - accuracy: 0.5371 - val_loss: 1.8529 - val_accuracy: 0.3333\n",
      "Epoch 22/50\n",
      "11/11 [==============================] - 3s 316ms/step - loss: 1.5775 - accuracy: 0.4743 - val_loss: 1.8262 - val_accuracy: 0.4000\n",
      "Epoch 23/50\n",
      "11/11 [==============================] - 4s 323ms/step - loss: 1.4906 - accuracy: 0.5029 - val_loss: 1.8910 - val_accuracy: 0.3333\n",
      "Epoch 24/50\n",
      "11/11 [==============================] - 3s 320ms/step - loss: 1.4626 - accuracy: 0.5343 - val_loss: 1.7058 - val_accuracy: 0.4000\n",
      "Epoch 25/50\n",
      "11/11 [==============================] - 4s 320ms/step - loss: 1.3657 - accuracy: 0.5743 - val_loss: 1.7534 - val_accuracy: 0.3778\n",
      "Epoch 26/50\n",
      "11/11 [==============================] - 3s 315ms/step - loss: 1.3000 - accuracy: 0.6171 - val_loss: 1.7332 - val_accuracy: 0.4000\n",
      "Epoch 27/50\n",
      "11/11 [==============================] - 3s 313ms/step - loss: 1.2493 - accuracy: 0.6200 - val_loss: 1.7314 - val_accuracy: 0.4222\n",
      "Epoch 28/50\n",
      "11/11 [==============================] - 3s 315ms/step - loss: 1.2064 - accuracy: 0.6400 - val_loss: 1.7388 - val_accuracy: 0.3778\n",
      "Epoch 29/50\n",
      "11/11 [==============================] - 3s 315ms/step - loss: 1.1702 - accuracy: 0.6000 - val_loss: 1.7433 - val_accuracy: 0.4000\n"
     ]
    }
   ],
   "source": [
    "history = model.fit(X_train, y_train, epochs = EPOCHS, validation_data = (X_val, y_val), callbacks=[early_stopping])"
   ]
  },
  {
   "cell_type": "markdown",
   "id": "57ec1982",
   "metadata": {},
   "source": [
    "### Train & validation Loss"
   ]
  },
  {
   "cell_type": "code",
   "execution_count": 7,
   "id": "b6c8d1db",
   "metadata": {},
   "outputs": [
    {
     "data": {
      "text/plain": [
       "<matplotlib.legend.Legend at 0x1662fc850a0>"
      ]
     },
     "execution_count": 7,
     "metadata": {},
     "output_type": "execute_result"
    },
    {
     "data": {
      "image/png": "[encoded data removed]",
      "text/plain": [
       "<Figure size 432x288 with 1 Axes>"
      ]
     },
     "metadata": {
      "needs_background": "light"
     },
     "output_type": "display_data"
    }
   ],
   "source": [
    "plt.plot(history.history['loss'], label='loss')\n",
    "plt.plot(history.history['val_loss'], label = 'val_loss')\n",
    "plt.xlabel('Epoch')\n",
    "plt.ylabel('Loss')\n",
    "plt.ylim([0.0, 3])\n",
    "plt.legend(loc='lower right')"
   ]
  },
  {
   "cell_type": "markdown",
   "id": "7af69023",
   "metadata": {},
   "source": [
    "### Train & validation Accuracy"
   ]
  },
  {
   "cell_type": "code",
   "execution_count": 8,
   "id": "0bb8dfca",
   "metadata": {},
   "outputs": [
    {
     "data": {
      "text/plain": [
       "<matplotlib.legend.Legend at 0x16633db0e80>"
      ]
     },
     "execution_count": 8,
     "metadata": {},
     "output_type": "execute_result"
    },
    {
     "data": {
      "image/png": "[encoded data removed]",
      "text/plain": [
       "<Figure size 432x288 with 1 Axes>"
      ]
     },
     "metadata": {
      "needs_background": "light"
     },
     "output_type": "display_data"
    }
   ],
   "source": [
    "plt.plot(history.history['accuracy'], label='accuracy')\n",
    "plt.plot(history.history['val_accuracy'], label = 'val_accuracy')\n",
    "plt.xlabel('Epoch')\n",
    "plt.ylabel('Accuracy')\n",
    "plt.ylim([0.0, 1])\n",
    "plt.legend(loc='lower right')"
   ]
  },
  {
   "cell_type": "markdown",
   "id": "9b30546c",
   "metadata": {},
   "source": [
    "## Test"
   ]
  },
  {
   "cell_type": "code",
   "execution_count": 9,
   "id": "cf4c662a",
   "metadata": {},
   "outputs": [
    {
     "name": "stdout",
     "output_type": "stream",
     "text": [
      "4/4 [==============================] - 1s 79ms/step\n"
     ]
    }
   ],
   "source": [
    "predict = np.argmax(model.predict(X_test), axis=1)"
   ]
  },
  {
   "cell_type": "code",
   "execution_count": 10,
   "id": "6ec7a04a",
   "metadata": {},
   "outputs": [
    {
     "name": "stdout",
     "output_type": "stream",
     "text": [
      "              precision    recall  f1-score   support\n",
      "\n",
      "           0       0.78      0.47      0.58        15\n",
      "           1       0.58      0.44      0.50        16\n",
      "           2       0.15      0.40      0.22         5\n",
      "           3       0.40      0.67      0.50         9\n",
      "           4       0.27      0.70      0.39        10\n",
      "           5       0.60      0.38      0.46         8\n",
      "           6       0.60      0.21      0.32        14\n",
      "           7       0.50      0.40      0.44        10\n",
      "           8       0.00      0.00      0.00         9\n",
      "           9       0.50      0.67      0.57         9\n",
      "\n",
      "    accuracy                           0.43       105\n",
      "   macro avg       0.44      0.43      0.40       105\n",
      "weighted avg       0.48      0.43      0.42       105\n",
      "\n"
     ]
    },
    {
     "name": "stderr",
     "output_type": "stream",
     "text": [
      "c:\\users\\veter\\appdata\\local\\programs\\python\\python39\\lib\\site-packages\\sklearn\\metrics\\_classification.py:1318: UndefinedMetricWarning: Precision and F-score are ill-defined and being set to 0.0 in labels with no predicted samples. Use `zero_division` parameter to control this behavior.\n",
      "  _warn_prf(average, modifier, msg_start, len(result))\n",
      "c:\\users\\veter\\appdata\\local\\programs\\python\\python39\\lib\\site-packages\\sklearn\\metrics\\_classification.py:1318: UndefinedMetricWarning: Precision and F-score are ill-defined and being set to 0.0 in labels with no predicted samples. Use `zero_division` parameter to control this behavior.\n",
      "  _warn_prf(average, modifier, msg_start, len(result))\n",
      "c:\\users\\veter\\appdata\\local\\programs\\python\\python39\\lib\\site-packages\\sklearn\\metrics\\_classification.py:1318: UndefinedMetricWarning: Precision and F-score are ill-defined and being set to 0.0 in labels with no predicted samples. Use `zero_division` parameter to control this behavior.\n",
      "  _warn_prf(average, modifier, msg_start, len(result))\n"
     ]
    }
   ],
   "source": [
    "print(classification_report(y_test, predict))"
   ]
  },
  {
   "cell_type": "code",
   "execution_count": 11,
   "id": "9433cc53",
   "metadata": {},
   "outputs": [
    {
     "data": {
      "image/png": "[encoded data removed]",
      "text/plain": [
       "<Figure size 400x400 with 2 Axes>"
      ]
     },
     "metadata": {
      "needs_background": "light"
     },
     "output_type": "display_data"
    }
   ],
   "source": [
    "fig = plt.figure(figsize=(CLASS_COUNT // 2, CLASS_COUNT // 2), dpi=80)\n",
    "M = confusion_matrix(predict, y_test)\n",
    "plt.imshow(M, interpolation = 'nearest')\n",
    "plt.set_cmap('binary')\n",
    "plt.xticks(range(CLASS_COUNT))\n",
    "plt.yticks(range(CLASS_COUNT))\n",
    "plt.xlabel(\"true label\")\n",
    "plt.ylabel(\"predicted label\")\n",
    "plt.colorbar()\n",
    "pass"
   ]
  },
  {
   "cell_type": "code",
   "execution_count": null,
   "id": "5c484710",
   "metadata": {},
   "outputs": [],
   "source": []
  }
 ],
 "metadata": {
  "kernelspec": {
   "display_name": "Python 3 (ipykernel)",
   "language": "python",
   "name": "python3"
  },
  "language_info": {
   "codemirror_mode": {
    "name": "ipython",
    "version": 3
   },
   "file_extension": ".py",
   "mimetype": "text/x-python",
   "name": "python",
   "nbconvert_exporter": "python",
   "pygments_lexer": "ipython3",
   "version": "3.9.6"
  }
 },
 "nbformat": 4,
 "nbformat_minor": 5
}
