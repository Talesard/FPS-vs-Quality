{
 "cells": [
  {
   "cell_type": "code",
   "execution_count": 1,
   "id": "867cbce7",
   "metadata": {},
   "outputs": [],
   "source": [
    "import os\n",
    "\n",
    "import cv2\n",
    "from matplotlib import pyplot as plt\n",
    "from tqdm.notebook import trange, tqdm\n",
    "import numpy as np\n",
    "import tensorflow as tf\n",
    "import random\n",
    "from sklearn import preprocessing\n",
    "from sklearn.model_selection import train_test_split\n",
    "from tensorflow.keras import layers, models, utils\n",
    "from sklearn.metrics import classification_report, confusion_matrix\n",
    "\n",
    "from data_utils import read_and_preprocess_data\n",
    "from model_utils import *"
   ]
  },
  {
   "cell_type": "markdown",
   "id": "d6e5fe95",
   "metadata": {},
   "source": [
    "## Settings"
   ]
  },
  {
   "cell_type": "code",
   "execution_count": 2,
   "id": "c83c0d21",
   "metadata": {},
   "outputs": [],
   "source": [
    "FRAME_SIZE = 128\n",
    "DATA_PATH = './2sec/data_6_fps'\n",
    "EPOCHS = 50"
   ]
  },
  {
   "cell_type": "markdown",
   "id": "68882663",
   "metadata": {},
   "source": [
    "## Data"
   ]
  },
  {
   "cell_type": "code",
   "execution_count": 3,
   "id": "41431d91",
   "metadata": {},
   "outputs": [
    {
     "name": "stdout",
     "output_type": "stream",
     "text": [
      "reading...\n",
      "BalanceBeam\n",
      "CricketShot\n",
      "Fencing\n",
      "HorseRiding\n",
      "LongJump\n",
      "RockClimbingIndoor\n",
      "SalsaSpin\n",
      "SkyDiving\n",
      "TableTennisShot\n",
      "WallPushups\n",
      "class count = 10\n",
      "med frame count = 12.0\n",
      "padding...\n",
      "Labels encoding...\n",
      "(500,) (500, 12, 128, 128, 3)\n",
      "norm...\n",
      "Train-val-test split...\n",
      "Train: (350, 12, 128, 128, 3) (350,)\n",
      "Val: (45, 12, 128, 128, 3) (45,)\n",
      "Test: (105, 12, 128, 128, 3) (105,)\n"
     ]
    }
   ],
   "source": [
    "CLASS_COUNT, FRAME_COUNT, FRAME_SIZE, X_train, X_val, X_test, y_train, y_val, y_test = read_and_preprocess_data(DATA_PATH, FRAME_SIZE)"
   ]
  },
  {
   "cell_type": "markdown",
   "id": "f99a5cc9",
   "metadata": {},
   "source": [
    "## Model"
   ]
  },
  {
   "cell_type": "code",
   "execution_count": 4,
   "id": "b687e133",
   "metadata": {},
   "outputs": [
    {
     "name": "stdout",
     "output_type": "stream",
     "text": [
      "Model: \"sequential\"\n",
      "_________________________________________________________________\n",
      " Layer (type)                Output Shape              Param #   \n",
      "=================================================================\n",
      " time_distributed (TimeDistr  (None, 12, 62, 62, 64)   4864      \n",
      " ibuted)                                                         \n",
      "                                                                 \n",
      " batch_normalization (BatchN  (None, 12, 62, 62, 64)   248       \n",
      " ormalization)                                                   \n",
      "                                                                 \n",
      " activation (Activation)     (None, 12, 62, 62, 64)    0         \n",
      "                                                                 \n",
      " time_distributed_1 (TimeDis  (None, 12, 30, 30, 32)   32800     \n",
      " tributed)                                                       \n",
      "                                                                 \n",
      " batch_normalization_1 (Batc  (None, 12, 30, 30, 32)   120       \n",
      " hNormalization)                                                 \n",
      "                                                                 \n",
      " activation_1 (Activation)   (None, 12, 30, 30, 32)    0         \n",
      "                                                                 \n",
      " time_distributed_2 (TimeDis  (None, 12, 14, 14, 32)   9248      \n",
      " tributed)                                                       \n",
      "                                                                 \n",
      " batch_normalization_2 (Batc  (None, 12, 14, 14, 32)   56        \n",
      " hNormalization)                                                 \n",
      "                                                                 \n",
      " activation_2 (Activation)   (None, 12, 14, 14, 32)    0         \n",
      "                                                                 \n",
      " time_distributed_3 (TimeDis  (None, 12, 12, 12, 16)   4624      \n",
      " tributed)                                                       \n",
      "                                                                 \n",
      " batch_normalization_3 (Batc  (None, 12, 12, 12, 16)   48        \n",
      " hNormalization)                                                 \n",
      "                                                                 \n",
      " activation_3 (Activation)   (None, 12, 12, 12, 16)    0         \n",
      "                                                                 \n",
      " time_distributed_4 (TimeDis  (None, 12, 6, 6, 16)     0         \n",
      " tributed)                                                       \n",
      "                                                                 \n",
      " time_distributed_5 (TimeDis  (None, 12, 576)          0         \n",
      " tributed)                                                       \n",
      "                                                                 \n",
      " lstm (LSTM)                 (None, 16)                37952     \n",
      "                                                                 \n",
      " dense (Dense)               (None, 20)                340       \n",
      "                                                                 \n",
      " dropout (Dropout)           (None, 20)                0         \n",
      "                                                                 \n",
      " dense_1 (Dense)             (None, 10)                210       \n",
      "                                                                 \n",
      "=================================================================\n",
      "Total params: 90,510\n",
      "Trainable params: 90,274\n",
      "Non-trainable params: 236\n",
      "_________________________________________________________________\n"
     ]
    }
   ],
   "source": [
    "model = models.Sequential()\n",
    "model = add_2d_cnn_part(model, FRAME_COUNT, FRAME_SIZE)\n",
    "model.add(layers.TimeDistributed(layers.Flatten()))\n",
    "model = add_lstm_part(model, return_sequences=False)\n",
    "model = add_dense_part(model, CLASS_COUNT)\n",
    "\n",
    "model.summary()"
   ]
  },
  {
   "cell_type": "code",
   "execution_count": 5,
   "id": "963ff906",
   "metadata": {},
   "outputs": [],
   "source": [
    "model.compile(optimizer='adam',\n",
    "              loss=tf.keras.losses.SparseCategoricalCrossentropy(from_logits=False),\n",
    "              metrics=['accuracy'],\n",
    "              )\n"
   ]
  },
  {
   "cell_type": "code",
   "execution_count": 6,
   "id": "20cf9db7",
   "metadata": {},
   "outputs": [
    {
     "name": "stdout",
     "output_type": "stream",
     "text": [
      "Epoch 1/50\n",
      "11/11 [==============================] - 9s 318ms/step - loss: 2.3273 - accuracy: 0.1086 - val_loss: 2.3138 - val_accuracy: 0.1111\n",
      "Epoch 2/50\n",
      "11/11 [==============================] - 2s 165ms/step - loss: 2.2830 - accuracy: 0.1514 - val_loss: 2.2834 - val_accuracy: 0.2000\n",
      "Epoch 3/50\n",
      "11/11 [==============================] - 2s 165ms/step - loss: 2.2449 - accuracy: 0.1543 - val_loss: 2.2435 - val_accuracy: 0.1556\n",
      "Epoch 4/50\n",
      "11/11 [==============================] - 2s 165ms/step - loss: 2.1936 - accuracy: 0.2000 - val_loss: 2.2257 - val_accuracy: 0.1556\n",
      "Epoch 5/50\n",
      "11/11 [==============================] - 2s 171ms/step - loss: 2.1743 - accuracy: 0.2171 - val_loss: 2.2062 - val_accuracy: 0.2222\n",
      "Epoch 6/50\n",
      "11/11 [==============================] - 2s 167ms/step - loss: 2.1302 - accuracy: 0.2514 - val_loss: 2.1614 - val_accuracy: 0.2444\n",
      "Epoch 7/50\n",
      "11/11 [==============================] - 2s 166ms/step - loss: 2.0913 - accuracy: 0.2571 - val_loss: 2.1157 - val_accuracy: 0.2889\n",
      "Epoch 8/50\n",
      "11/11 [==============================] - 2s 166ms/step - loss: 2.0723 - accuracy: 0.2829 - val_loss: 2.0962 - val_accuracy: 0.2222\n",
      "Epoch 9/50\n",
      "11/11 [==============================] - 2s 166ms/step - loss: 2.0287 - accuracy: 0.3229 - val_loss: 2.0299 - val_accuracy: 0.2667\n",
      "Epoch 10/50\n",
      "11/11 [==============================] - 2s 165ms/step - loss: 2.0334 - accuracy: 0.3114 - val_loss: 2.0330 - val_accuracy: 0.2444\n",
      "Epoch 11/50\n",
      "11/11 [==============================] - 2s 166ms/step - loss: 1.9344 - accuracy: 0.3457 - val_loss: 2.0002 - val_accuracy: 0.1778\n",
      "Epoch 12/50\n",
      "11/11 [==============================] - 2s 168ms/step - loss: 1.9118 - accuracy: 0.3257 - val_loss: 1.9897 - val_accuracy: 0.1778\n",
      "Epoch 13/50\n",
      "11/11 [==============================] - 2s 166ms/step - loss: 1.8913 - accuracy: 0.3371 - val_loss: 1.9949 - val_accuracy: 0.2222\n",
      "Epoch 14/50\n",
      "11/11 [==============================] - 2s 166ms/step - loss: 1.8963 - accuracy: 0.3457 - val_loss: 2.0501 - val_accuracy: 0.2889\n",
      "Epoch 15/50\n",
      "11/11 [==============================] - 2s 166ms/step - loss: 1.9187 - accuracy: 0.3514 - val_loss: 2.0674 - val_accuracy: 0.2667\n",
      "Epoch 16/50\n",
      "11/11 [==============================] - 2s 166ms/step - loss: 1.8406 - accuracy: 0.3743 - val_loss: 1.9864 - val_accuracy: 0.2889\n",
      "Epoch 17/50\n",
      "11/11 [==============================] - 2s 168ms/step - loss: 1.7877 - accuracy: 0.4086 - val_loss: 1.9757 - val_accuracy: 0.2222\n",
      "Epoch 18/50\n",
      "11/11 [==============================] - 2s 167ms/step - loss: 1.7330 - accuracy: 0.4457 - val_loss: 1.9013 - val_accuracy: 0.2444\n",
      "Epoch 19/50\n",
      "11/11 [==============================] - 2s 167ms/step - loss: 1.6822 - accuracy: 0.4514 - val_loss: 1.8478 - val_accuracy: 0.2889\n",
      "Epoch 20/50\n",
      "11/11 [==============================] - 2s 167ms/step - loss: 1.6467 - accuracy: 0.4686 - val_loss: 1.7813 - val_accuracy: 0.3556\n",
      "Epoch 21/50\n",
      "11/11 [==============================] - 2s 167ms/step - loss: 1.6184 - accuracy: 0.4914 - val_loss: 1.7554 - val_accuracy: 0.3111\n",
      "Epoch 22/50\n",
      "11/11 [==============================] - 2s 166ms/step - loss: 1.5684 - accuracy: 0.4829 - val_loss: 1.7499 - val_accuracy: 0.3778\n",
      "Epoch 23/50\n",
      "11/11 [==============================] - 2s 166ms/step - loss: 1.4865 - accuracy: 0.5429 - val_loss: 1.7540 - val_accuracy: 0.3778\n",
      "Epoch 24/50\n",
      "11/11 [==============================] - 2s 168ms/step - loss: 1.4939 - accuracy: 0.5543 - val_loss: 1.7370 - val_accuracy: 0.4000\n",
      "Epoch 25/50\n",
      "11/11 [==============================] - 2s 166ms/step - loss: 1.4271 - accuracy: 0.5257 - val_loss: 1.6832 - val_accuracy: 0.4222\n",
      "Epoch 26/50\n",
      "11/11 [==============================] - 2s 166ms/step - loss: 1.3702 - accuracy: 0.5771 - val_loss: 1.6938 - val_accuracy: 0.3556\n",
      "Epoch 27/50\n",
      "11/11 [==============================] - 2s 166ms/step - loss: 1.3047 - accuracy: 0.6029 - val_loss: 1.6716 - val_accuracy: 0.4222\n",
      "Epoch 28/50\n",
      "11/11 [==============================] - 2s 167ms/step - loss: 1.3465 - accuracy: 0.5629 - val_loss: 1.6569 - val_accuracy: 0.4889\n",
      "Epoch 29/50\n",
      "11/11 [==============================] - 2s 167ms/step - loss: 1.3365 - accuracy: 0.5743 - val_loss: 1.5385 - val_accuracy: 0.5111\n",
      "Epoch 30/50\n",
      "11/11 [==============================] - 2s 167ms/step - loss: 1.3092 - accuracy: 0.6143 - val_loss: 1.4896 - val_accuracy: 0.5333\n",
      "Epoch 31/50\n",
      "11/11 [==============================] - 2s 167ms/step - loss: 1.2582 - accuracy: 0.5829 - val_loss: 1.6102 - val_accuracy: 0.5333\n",
      "Epoch 32/50\n",
      "11/11 [==============================] - 2s 168ms/step - loss: 1.2082 - accuracy: 0.6514 - val_loss: 1.5278 - val_accuracy: 0.5778\n",
      "Epoch 33/50\n",
      "11/11 [==============================] - 2s 168ms/step - loss: 1.0864 - accuracy: 0.7029 - val_loss: 1.5279 - val_accuracy: 0.5556\n",
      "Epoch 34/50\n",
      "11/11 [==============================] - 2s 166ms/step - loss: 1.1633 - accuracy: 0.6171 - val_loss: 1.5966 - val_accuracy: 0.4889\n",
      "Epoch 35/50\n",
      "11/11 [==============================] - 2s 169ms/step - loss: 1.0968 - accuracy: 0.6800 - val_loss: 1.6143 - val_accuracy: 0.4889\n"
     ]
    }
   ],
   "source": [
    "history = model.fit(X_train, y_train, epochs = EPOCHS, validation_data = (X_val, y_val), callbacks=[early_stopping])"
   ]
  },
  {
   "cell_type": "markdown",
   "id": "57ec1982",
   "metadata": {},
   "source": [
    "### Train & validation Loss"
   ]
  },
  {
   "cell_type": "code",
   "execution_count": 7,
   "id": "b6c8d1db",
   "metadata": {},
   "outputs": [
    {
     "data": {
      "text/plain": [
       "<matplotlib.legend.Legend at 0x1bee1f79460>"
      ]
     },
     "execution_count": 7,
     "metadata": {},
     "output_type": "execute_result"
    },
    {
     "data": {
      "image/png": "[encoded data removed]",
      "text/plain": [
       "<Figure size 432x288 with 1 Axes>"
      ]
     },
     "metadata": {
      "needs_background": "light"
     },
     "output_type": "display_data"
    }
   ],
   "source": [
    "plt.plot(history.history['loss'], label='loss')\n",
    "plt.plot(history.history['val_loss'], label = 'val_loss')\n",
    "plt.xlabel('Epoch')\n",
    "plt.ylabel('Loss')\n",
    "plt.ylim([0.0, 3])\n",
    "plt.legend(loc='lower right')"
   ]
  },
  {
   "cell_type": "markdown",
   "id": "7af69023",
   "metadata": {},
   "source": [
    "### Train & validation Accuracy"
   ]
  },
  {
   "cell_type": "code",
   "execution_count": 8,
   "id": "0bb8dfca",
   "metadata": {},
   "outputs": [
    {
     "data": {
      "text/plain": [
       "<matplotlib.legend.Legend at 0x1bee88e4e20>"
      ]
     },
     "execution_count": 8,
     "metadata": {},
     "output_type": "execute_result"
    },
    {
     "data": {
      "image/png": "[encoded data removed]",
      "text/plain": [
       "<Figure size 432x288 with 1 Axes>"
      ]
     },
     "metadata": {
      "needs_background": "light"
     },
     "output_type": "display_data"
    }
   ],
   "source": [
    "plt.plot(history.history['accuracy'], label='accuracy')\n",
    "plt.plot(history.history['val_accuracy'], label = 'val_accuracy')\n",
    "plt.xlabel('Epoch')\n",
    "plt.ylabel('Accuracy')\n",
    "plt.ylim([0.0, 1])\n",
    "plt.legend(loc='lower right')"
   ]
  },
  {
   "cell_type": "markdown",
   "id": "9b30546c",
   "metadata": {},
   "source": [
    "## Test"
   ]
  },
  {
   "cell_type": "code",
   "execution_count": 9,
   "id": "cf4c662a",
   "metadata": {},
   "outputs": [
    {
     "name": "stdout",
     "output_type": "stream",
     "text": [
      "4/4 [==============================] - 1s 43ms/step\n"
     ]
    }
   ],
   "source": [
    "predict = np.argmax(model.predict(X_test), axis=1)"
   ]
  },
  {
   "cell_type": "code",
   "execution_count": 10,
   "id": "6ec7a04a",
   "metadata": {},
   "outputs": [
    {
     "name": "stdout",
     "output_type": "stream",
     "text": [
      "              precision    recall  f1-score   support\n",
      "\n",
      "           0       0.56      0.67      0.61        15\n",
      "           1       0.71      0.31      0.43        16\n",
      "           2       0.20      0.60      0.30         5\n",
      "           3       0.38      0.56      0.45         9\n",
      "           4       0.43      0.60      0.50        10\n",
      "           5       0.38      0.38      0.38         8\n",
      "           6       1.00      0.29      0.44        14\n",
      "           7       0.50      0.50      0.50        10\n",
      "           8       0.57      0.44      0.50         9\n",
      "           9       0.67      0.67      0.67         9\n",
      "\n",
      "    accuracy                           0.49       105\n",
      "   macro avg       0.54      0.50      0.48       105\n",
      "weighted avg       0.59      0.49      0.49       105\n",
      "\n"
     ]
    }
   ],
   "source": [
    "print(classification_report(y_test, predict))"
   ]
  },
  {
   "cell_type": "code",
   "execution_count": 11,
   "id": "9433cc53",
   "metadata": {},
   "outputs": [
    {
     "data": {
      "image/png": "[encoded data removed]",
      "text/plain": [
       "<Figure size 400x400 with 2 Axes>"
      ]
     },
     "metadata": {
      "needs_background": "light"
     },
     "output_type": "display_data"
    }
   ],
   "source": [
    "fig = plt.figure(figsize=(CLASS_COUNT // 2, CLASS_COUNT // 2), dpi=80)\n",
    "M = confusion_matrix(predict, y_test)\n",
    "plt.imshow(M, interpolation = 'nearest')\n",
    "plt.set_cmap('binary')\n",
    "plt.xticks(range(CLASS_COUNT))\n",
    "plt.yticks(range(CLASS_COUNT))\n",
    "plt.xlabel(\"true label\")\n",
    "plt.ylabel(\"predicted label\")\n",
    "plt.colorbar()\n",
    "pass"
   ]
  },
  {
   "cell_type": "code",
   "execution_count": null,
   "id": "5c484710",
   "metadata": {},
   "outputs": [],
   "source": []
  }
 ],
 "metadata": {
  "kernelspec": {
   "display_name": "Python 3 (ipykernel)",
   "language": "python",
   "name": "python3"
  },
  "language_info": {
   "codemirror_mode": {
    "name": "ipython",
    "version": 3
   },
   "file_extension": ".py",
   "mimetype": "text/x-python",
   "name": "python",
   "nbconvert_exporter": "python",
   "pygments_lexer": "ipython3",
   "version": "3.9.6"
  }
 },
 "nbformat": 4,
 "nbformat_minor": 5
}
