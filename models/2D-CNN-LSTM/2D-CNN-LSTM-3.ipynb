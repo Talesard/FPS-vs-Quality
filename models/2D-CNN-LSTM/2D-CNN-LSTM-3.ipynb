{
 "cells": [
  {
   "cell_type": "code",
   "execution_count": 1,
   "id": "867cbce7",
   "metadata": {},
   "outputs": [],
   "source": [
    "import os\n",
    "\n",
    "import cv2\n",
    "from matplotlib import pyplot as plt\n",
    "from tqdm.notebook import trange, tqdm\n",
    "import numpy as np\n",
    "import tensorflow as tf\n",
    "import random\n",
    "from sklearn import preprocessing\n",
    "from sklearn.model_selection import train_test_split\n",
    "from tensorflow.keras import layers, models, utils\n",
    "from sklearn.metrics import classification_report, confusion_matrix\n",
    "\n",
    "from data_utils import read_and_preprocess_data\n",
    "from model_utils import *"
   ]
  },
  {
   "cell_type": "markdown",
   "id": "d6e5fe95",
   "metadata": {},
   "source": [
    "## Settings"
   ]
  },
  {
   "cell_type": "code",
   "execution_count": 2,
   "id": "c83c0d21",
   "metadata": {},
   "outputs": [],
   "source": [
    "FRAME_SIZE = 128\n",
    "DATA_PATH = './2sec/data_3_fps'\n",
    "EPOCHS = 50"
   ]
  },
  {
   "cell_type": "markdown",
   "id": "68882663",
   "metadata": {},
   "source": [
    "## Data"
   ]
  },
  {
   "cell_type": "code",
   "execution_count": 3,
   "id": "41431d91",
   "metadata": {},
   "outputs": [
    {
     "name": "stdout",
     "output_type": "stream",
     "text": [
      "reading...\n",
      "BalanceBeam\n",
      "CricketShot\n",
      "Fencing\n",
      "HorseRiding\n",
      "LongJump\n",
      "RockClimbingIndoor\n",
      "SalsaSpin\n",
      "SkyDiving\n",
      "TableTennisShot\n",
      "WallPushups\n",
      "class count = 10\n",
      "med frame count = 6.0\n",
      "padding...\n",
      "Labels encoding...\n",
      "(500,) (500, 6, 128, 128, 3)\n",
      "norm...\n",
      "Train-val-test split...\n",
      "Train: (350, 6, 128, 128, 3) (350,)\n",
      "Val: (45, 6, 128, 128, 3) (45,)\n",
      "Test: (105, 6, 128, 128, 3) (105,)\n"
     ]
    }
   ],
   "source": [
    "CLASS_COUNT, FRAME_COUNT, FRAME_SIZE, X_train, X_val, X_test, y_train, y_val, y_test = read_and_preprocess_data(DATA_PATH, FRAME_SIZE)"
   ]
  },
  {
   "cell_type": "markdown",
   "id": "f99a5cc9",
   "metadata": {},
   "source": [
    "## Model"
   ]
  },
  {
   "cell_type": "code",
   "execution_count": 12,
   "id": "b687e133",
   "metadata": {},
   "outputs": [
    {
     "name": "stdout",
     "output_type": "stream",
     "text": [
      "Model: \"sequential_1\"\n",
      "_________________________________________________________________\n",
      " Layer (type)                Output Shape              Param #   \n",
      "=================================================================\n",
      " time_distributed_6 (TimeDis  (None, 6, 62, 62, 64)    4864      \n",
      " tributed)                                                       \n",
      "                                                                 \n",
      " batch_normalization_4 (Batc  (None, 6, 62, 62, 64)    248       \n",
      " hNormalization)                                                 \n",
      "                                                                 \n",
      " activation_4 (Activation)   (None, 6, 62, 62, 64)     0         \n",
      "                                                                 \n",
      " time_distributed_7 (TimeDis  (None, 6, 30, 30, 32)    32800     \n",
      " tributed)                                                       \n",
      "                                                                 \n",
      " batch_normalization_5 (Batc  (None, 6, 30, 30, 32)    120       \n",
      " hNormalization)                                                 \n",
      "                                                                 \n",
      " activation_5 (Activation)   (None, 6, 30, 30, 32)     0         \n",
      "                                                                 \n",
      " time_distributed_8 (TimeDis  (None, 6, 14, 14, 32)    9248      \n",
      " tributed)                                                       \n",
      "                                                                 \n",
      " batch_normalization_6 (Batc  (None, 6, 14, 14, 32)    56        \n",
      " hNormalization)                                                 \n",
      "                                                                 \n",
      " activation_6 (Activation)   (None, 6, 14, 14, 32)     0         \n",
      "                                                                 \n",
      " time_distributed_9 (TimeDis  (None, 6, 12, 12, 16)    4624      \n",
      " tributed)                                                       \n",
      "                                                                 \n",
      " batch_normalization_7 (Batc  (None, 6, 12, 12, 16)    48        \n",
      " hNormalization)                                                 \n",
      "                                                                 \n",
      " activation_7 (Activation)   (None, 6, 12, 12, 16)     0         \n",
      "                                                                 \n",
      " time_distributed_10 (TimeDi  (None, 6, 6, 6, 16)      0         \n",
      " stributed)                                                      \n",
      "                                                                 \n",
      " time_distributed_11 (TimeDi  (None, 6, 576)           0         \n",
      " stributed)                                                      \n",
      "                                                                 \n",
      " lstm_1 (LSTM)               (None, 16)                37952     \n",
      "                                                                 \n",
      " dense_2 (Dense)             (None, 20)                340       \n",
      "                                                                 \n",
      " dropout_1 (Dropout)         (None, 20)                0         \n",
      "                                                                 \n",
      " dense_3 (Dense)             (None, 10)                210       \n",
      "                                                                 \n",
      "=================================================================\n",
      "Total params: 90,510\n",
      "Trainable params: 90,274\n",
      "Non-trainable params: 236\n",
      "_________________________________________________________________\n"
     ]
    }
   ],
   "source": [
    "model = models.Sequential()\n",
    "model = add_2d_cnn_part(model, FRAME_COUNT, FRAME_SIZE)\n",
    "model.add(layers.TimeDistributed(layers.Flatten()))\n",
    "model = add_lstm_part(model, return_sequences=False)\n",
    "model = add_dense_part(model, CLASS_COUNT)\n",
    "\n",
    "model.summary()"
   ]
  },
  {
   "cell_type": "code",
   "execution_count": 13,
   "id": "963ff906",
   "metadata": {},
   "outputs": [],
   "source": [
    "model.compile(optimizer='adam',\n",
    "              loss=tf.keras.losses.SparseCategoricalCrossentropy(from_logits=False),\n",
    "              metrics=['accuracy'],\n",
    "              )\n"
   ]
  },
  {
   "cell_type": "code",
   "execution_count": 14,
   "id": "20cf9db7",
   "metadata": {},
   "outputs": [
    {
     "name": "stdout",
     "output_type": "stream",
     "text": [
      "Epoch 1/50\n",
      "11/11 [==============================] - 4s 154ms/step - loss: 2.3274 - accuracy: 0.1229 - val_loss: 2.2789 - val_accuracy: 0.0667\n",
      "Epoch 2/50\n",
      "11/11 [==============================] - 1s 91ms/step - loss: 2.2355 - accuracy: 0.1800 - val_loss: 2.2404 - val_accuracy: 0.0667\n",
      "Epoch 3/50\n",
      "11/11 [==============================] - 1s 91ms/step - loss: 2.1834 - accuracy: 0.2143 - val_loss: 2.1833 - val_accuracy: 0.1778\n",
      "Epoch 4/50\n",
      "11/11 [==============================] - 1s 91ms/step - loss: 2.1615 - accuracy: 0.2114 - val_loss: 2.1674 - val_accuracy: 0.2222\n",
      "Epoch 5/50\n",
      "11/11 [==============================] - 1s 90ms/step - loss: 2.1005 - accuracy: 0.2743 - val_loss: 2.1299 - val_accuracy: 0.2667\n",
      "Epoch 6/50\n",
      "11/11 [==============================] - 1s 91ms/step - loss: 2.0949 - accuracy: 0.2857 - val_loss: 2.0866 - val_accuracy: 0.2667\n",
      "Epoch 7/50\n",
      "11/11 [==============================] - 1s 90ms/step - loss: 2.0245 - accuracy: 0.3029 - val_loss: 2.0875 - val_accuracy: 0.2889\n",
      "Epoch 8/50\n",
      "11/11 [==============================] - 1s 91ms/step - loss: 1.9520 - accuracy: 0.3400 - val_loss: 2.0521 - val_accuracy: 0.2667\n",
      "Epoch 9/50\n",
      "11/11 [==============================] - 1s 91ms/step - loss: 1.9567 - accuracy: 0.3314 - val_loss: 2.0062 - val_accuracy: 0.3333\n",
      "Epoch 10/50\n",
      "11/11 [==============================] - 1s 91ms/step - loss: 1.9047 - accuracy: 0.3400 - val_loss: 2.0054 - val_accuracy: 0.3111\n",
      "Epoch 11/50\n",
      "11/11 [==============================] - 1s 90ms/step - loss: 1.8868 - accuracy: 0.3829 - val_loss: 1.9716 - val_accuracy: 0.3333\n",
      "Epoch 12/50\n",
      "11/11 [==============================] - 1s 91ms/step - loss: 1.8256 - accuracy: 0.3514 - val_loss: 1.8748 - val_accuracy: 0.4444\n",
      "Epoch 13/50\n",
      "11/11 [==============================] - 1s 90ms/step - loss: 1.7874 - accuracy: 0.3686 - val_loss: 1.8372 - val_accuracy: 0.4000\n",
      "Epoch 14/50\n",
      "11/11 [==============================] - 1s 90ms/step - loss: 1.7702 - accuracy: 0.3914 - val_loss: 1.8380 - val_accuracy: 0.4000\n",
      "Epoch 15/50\n",
      "11/11 [==============================] - 1s 91ms/step - loss: 1.7219 - accuracy: 0.4200 - val_loss: 1.8040 - val_accuracy: 0.4444\n",
      "Epoch 16/50\n",
      "11/11 [==============================] - 1s 91ms/step - loss: 1.7001 - accuracy: 0.4229 - val_loss: 1.8008 - val_accuracy: 0.4444\n",
      "Epoch 17/50\n",
      "11/11 [==============================] - 1s 91ms/step - loss: 1.6613 - accuracy: 0.4514 - val_loss: 1.7721 - val_accuracy: 0.4222\n",
      "Epoch 18/50\n",
      "11/11 [==============================] - 1s 91ms/step - loss: 1.5761 - accuracy: 0.4743 - val_loss: 1.7623 - val_accuracy: 0.4222\n",
      "Epoch 19/50\n",
      "11/11 [==============================] - 1s 91ms/step - loss: 1.5220 - accuracy: 0.5257 - val_loss: 1.7150 - val_accuracy: 0.4222\n",
      "Epoch 20/50\n",
      "11/11 [==============================] - 1s 90ms/step - loss: 1.4916 - accuracy: 0.5057 - val_loss: 1.6957 - val_accuracy: 0.4444\n",
      "Epoch 21/50\n",
      "11/11 [==============================] - 1s 91ms/step - loss: 1.4292 - accuracy: 0.5429 - val_loss: 1.6928 - val_accuracy: 0.4667\n",
      "Epoch 22/50\n",
      "11/11 [==============================] - 1s 90ms/step - loss: 1.3773 - accuracy: 0.5800 - val_loss: 1.7009 - val_accuracy: 0.4889\n",
      "Epoch 23/50\n",
      "11/11 [==============================] - 1s 91ms/step - loss: 1.4000 - accuracy: 0.5314 - val_loss: 1.6672 - val_accuracy: 0.4667\n",
      "Epoch 24/50\n",
      "11/11 [==============================] - 1s 90ms/step - loss: 1.3504 - accuracy: 0.5800 - val_loss: 1.6092 - val_accuracy: 0.4889\n",
      "Epoch 25/50\n",
      "11/11 [==============================] - 1s 91ms/step - loss: 1.2872 - accuracy: 0.5971 - val_loss: 1.5761 - val_accuracy: 0.5111\n",
      "Epoch 26/50\n",
      "11/11 [==============================] - 1s 90ms/step - loss: 1.2645 - accuracy: 0.5943 - val_loss: 1.6123 - val_accuracy: 0.4444\n",
      "Epoch 27/50\n",
      "11/11 [==============================] - 1s 91ms/step - loss: 1.2067 - accuracy: 0.6343 - val_loss: 1.5496 - val_accuracy: 0.4889\n",
      "Epoch 28/50\n",
      "11/11 [==============================] - 1s 91ms/step - loss: 1.1553 - accuracy: 0.6229 - val_loss: 1.5407 - val_accuracy: 0.6000\n",
      "Epoch 29/50\n",
      "11/11 [==============================] - 1s 91ms/step - loss: 1.1186 - accuracy: 0.6600 - val_loss: 1.4958 - val_accuracy: 0.5333\n",
      "Epoch 30/50\n",
      "11/11 [==============================] - 1s 91ms/step - loss: 1.0503 - accuracy: 0.6800 - val_loss: 1.4818 - val_accuracy: 0.5556\n",
      "Epoch 31/50\n",
      "11/11 [==============================] - 1s 90ms/step - loss: 1.1018 - accuracy: 0.6314 - val_loss: 1.6229 - val_accuracy: 0.5111\n",
      "Epoch 32/50\n",
      "11/11 [==============================] - 1s 92ms/step - loss: 1.0946 - accuracy: 0.6571 - val_loss: 1.7645 - val_accuracy: 0.4889\n",
      "Epoch 33/50\n",
      "11/11 [==============================] - 1s 90ms/step - loss: 1.0759 - accuracy: 0.6543 - val_loss: 1.5314 - val_accuracy: 0.5556\n",
      "Epoch 34/50\n",
      "11/11 [==============================] - 1s 93ms/step - loss: 0.9973 - accuracy: 0.6857 - val_loss: 1.4229 - val_accuracy: 0.6000\n",
      "Epoch 35/50\n",
      "11/11 [==============================] - 1s 90ms/step - loss: 0.9567 - accuracy: 0.7371 - val_loss: 1.4997 - val_accuracy: 0.5778\n",
      "Epoch 36/50\n",
      "11/11 [==============================] - 1s 88ms/step - loss: 0.8322 - accuracy: 0.7829 - val_loss: 1.6154 - val_accuracy: 0.5778\n",
      "Epoch 37/50\n",
      "11/11 [==============================] - 1s 88ms/step - loss: 0.8729 - accuracy: 0.7429 - val_loss: 1.5529 - val_accuracy: 0.6000\n",
      "Epoch 38/50\n",
      "11/11 [==============================] - 1s 88ms/step - loss: 0.8608 - accuracy: 0.7086 - val_loss: 1.5217 - val_accuracy: 0.6000\n",
      "Epoch 39/50\n",
      "11/11 [==============================] - 1s 89ms/step - loss: 0.8852 - accuracy: 0.7171 - val_loss: 1.4533 - val_accuracy: 0.6222\n"
     ]
    }
   ],
   "source": [
    "history = model.fit(X_train, y_train, epochs = EPOCHS, validation_data = (X_val, y_val), callbacks=[early_stopping])"
   ]
  },
  {
   "cell_type": "markdown",
   "id": "57ec1982",
   "metadata": {},
   "source": [
    "### Train & validation Loss"
   ]
  },
  {
   "cell_type": "code",
   "execution_count": 15,
   "id": "b6c8d1db",
   "metadata": {},
   "outputs": [
    {
     "data": {
      "text/plain": [
       "<matplotlib.legend.Legend at 0x2748abe53a0>"
      ]
     },
     "execution_count": 15,
     "metadata": {},
     "output_type": "execute_result"
    },
    {
     "data": {
      "image/png": "[encoded data removed]",
      "text/plain": [
       "<Figure size 432x288 with 1 Axes>"
      ]
     },
     "metadata": {
      "needs_background": "light"
     },
     "output_type": "display_data"
    }
   ],
   "source": [
    "plt.plot(history.history['loss'], label='loss')\n",
    "plt.plot(history.history['val_loss'], label = 'val_loss')\n",
    "plt.xlabel('Epoch')\n",
    "plt.ylabel('Loss')\n",
    "plt.ylim([0.0, 3])\n",
    "plt.legend(loc='lower right')"
   ]
  },
  {
   "cell_type": "markdown",
   "id": "7af69023",
   "metadata": {},
   "source": [
    "### Train & validation Accuracy"
   ]
  },
  {
   "cell_type": "code",
   "execution_count": 16,
   "id": "0bb8dfca",
   "metadata": {},
   "outputs": [
    {
     "data": {
      "text/plain": [
       "<matplotlib.legend.Legend at 0x2748aba38e0>"
      ]
     },
     "execution_count": 16,
     "metadata": {},
     "output_type": "execute_result"
    },
    {
     "data": {
      "image/png": "[encoded data removed]",
      "text/plain": [
       "<Figure size 432x288 with 1 Axes>"
      ]
     },
     "metadata": {
      "needs_background": "light"
     },
     "output_type": "display_data"
    }
   ],
   "source": [
    "plt.plot(history.history['accuracy'], label='accuracy')\n",
    "plt.plot(history.history['val_accuracy'], label = 'val_accuracy')\n",
    "plt.xlabel('Epoch')\n",
    "plt.ylabel('Accuracy')\n",
    "plt.ylim([0.0, 1])\n",
    "plt.legend(loc='lower right')"
   ]
  },
  {
   "cell_type": "markdown",
   "id": "9b30546c",
   "metadata": {},
   "source": [
    "## Test"
   ]
  },
  {
   "cell_type": "code",
   "execution_count": 17,
   "id": "cf4c662a",
   "metadata": {},
   "outputs": [
    {
     "name": "stdout",
     "output_type": "stream",
     "text": [
      "4/4 [==============================] - 0s 17ms/step\n"
     ]
    }
   ],
   "source": [
    "predict = np.argmax(model.predict(X_test), axis=1)"
   ]
  },
  {
   "cell_type": "code",
   "execution_count": 18,
   "id": "6ec7a04a",
   "metadata": {},
   "outputs": [
    {
     "name": "stdout",
     "output_type": "stream",
     "text": [
      "              precision    recall  f1-score   support\n",
      "\n",
      "           0       0.60      0.60      0.60        15\n",
      "           1       0.64      0.44      0.52        16\n",
      "           2       0.67      0.40      0.50         5\n",
      "           3       0.33      0.89      0.48         9\n",
      "           4       0.71      0.50      0.59        10\n",
      "           5       0.38      0.38      0.38         8\n",
      "           6       0.60      0.43      0.50        14\n",
      "           7       0.67      0.40      0.50        10\n",
      "           8       0.00      0.00      0.00         9\n",
      "           9       0.50      0.67      0.57         9\n",
      "\n",
      "    accuracy                           0.48       105\n",
      "   macro avg       0.51      0.47      0.46       105\n",
      "weighted avg       0.53      0.48      0.48       105\n",
      "\n"
     ]
    }
   ],
   "source": [
    "print(classification_report(y_test, predict))"
   ]
  },
  {
   "cell_type": "code",
   "execution_count": 19,
   "id": "9433cc53",
   "metadata": {},
   "outputs": [
    {
     "data": {
      "image/png": "[encoded data removed]",
      "text/plain": [
       "<Figure size 400x400 with 2 Axes>"
      ]
     },
     "metadata": {
      "needs_background": "light"
     },
     "output_type": "display_data"
    }
   ],
   "source": [
    "fig = plt.figure(figsize=(CLASS_COUNT // 2, CLASS_COUNT // 2), dpi=80)\n",
    "M = confusion_matrix(predict, y_test)\n",
    "plt.imshow(M, interpolation = 'nearest')\n",
    "plt.set_cmap('binary')\n",
    "plt.xticks(range(CLASS_COUNT))\n",
    "plt.yticks(range(CLASS_COUNT))\n",
    "plt.xlabel(\"true label\")\n",
    "plt.ylabel(\"predicted label\")\n",
    "plt.colorbar()\n",
    "pass"
   ]
  },
  {
   "cell_type": "code",
   "execution_count": null,
   "id": "5c484710",
   "metadata": {},
   "outputs": [],
   "source": []
  }
 ],
 "metadata": {
  "kernelspec": {
   "display_name": "Python 3 (ipykernel)",
   "language": "python",
   "name": "python3"
  },
  "language_info": {
   "codemirror_mode": {
    "name": "ipython",
    "version": 3
   },
   "file_extension": ".py",
   "mimetype": "text/x-python",
   "name": "python",
   "nbconvert_exporter": "python",
   "pygments_lexer": "ipython3",
   "version": "3.9.6"
  }
 },
 "nbformat": 4,
 "nbformat_minor": 5
}
