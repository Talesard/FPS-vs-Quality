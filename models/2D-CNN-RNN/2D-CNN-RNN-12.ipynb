{
 "cells": [
  {
   "cell_type": "code",
   "execution_count": 1,
   "id": "867cbce7",
   "metadata": {},
   "outputs": [],
   "source": [
    "import os\n",
    "\n",
    "import cv2\n",
    "from matplotlib import pyplot as plt\n",
    "from tqdm.notebook import trange, tqdm\n",
    "import numpy as np\n",
    "import tensorflow as tf\n",
    "import random\n",
    "from sklearn import preprocessing\n",
    "from sklearn.model_selection import train_test_split\n",
    "from tensorflow.keras import layers, models, utils\n",
    "from sklearn.metrics import classification_report, confusion_matrix\n",
    "\n",
    "from data_utils import read_and_preprocess_data\n",
    "from model_utils import *"
   ]
  },
  {
   "cell_type": "markdown",
   "id": "d6e5fe95",
   "metadata": {},
   "source": [
    "## Settings"
   ]
  },
  {
   "cell_type": "code",
   "execution_count": 2,
   "id": "c83c0d21",
   "metadata": {},
   "outputs": [],
   "source": [
    "FRAME_SIZE = 128\n",
    "DATA_PATH = './2sec/data_12_fps'\n",
    "EPOCHS = 50"
   ]
  },
  {
   "cell_type": "markdown",
   "id": "68882663",
   "metadata": {},
   "source": [
    "## Data"
   ]
  },
  {
   "cell_type": "code",
   "execution_count": 3,
   "id": "41431d91",
   "metadata": {},
   "outputs": [
    {
     "name": "stdout",
     "output_type": "stream",
     "text": [
      "reading...\n",
      "BalanceBeam\n",
      "CricketShot\n",
      "Fencing\n",
      "HorseRiding\n",
      "LongJump\n",
      "RockClimbingIndoor\n",
      "SalsaSpin\n",
      "SkyDiving\n",
      "TableTennisShot\n",
      "WallPushups\n",
      "class count = 10\n",
      "med frame count = 24.0\n",
      "padding...\n",
      "Labels encoding...\n",
      "(500,) (500, 24, 128, 128, 3)\n",
      "norm...\n",
      "Train-val-test split...\n",
      "Train: (350, 24, 128, 128, 3) (350,)\n",
      "Val: (45, 24, 128, 128, 3) (45,)\n",
      "Test: (105, 24, 128, 128, 3) (105,)\n"
     ]
    }
   ],
   "source": [
    "CLASS_COUNT, FRAME_COUNT, FRAME_SIZE, X_train, X_val, X_test, y_train, y_val, y_test = read_and_preprocess_data(DATA_PATH, FRAME_SIZE)"
   ]
  },
  {
   "cell_type": "markdown",
   "id": "f99a5cc9",
   "metadata": {},
   "source": [
    "## Model"
   ]
  },
  {
   "cell_type": "code",
   "execution_count": 4,
   "id": "b687e133",
   "metadata": {},
   "outputs": [
    {
     "name": "stdout",
     "output_type": "stream",
     "text": [
      "Model: \"sequential\"\n",
      "_________________________________________________________________\n",
      " Layer (type)                Output Shape              Param #   \n",
      "=================================================================\n",
      " time_distributed (TimeDistr  (None, 24, 62, 62, 64)   4864      \n",
      " ibuted)                                                         \n",
      "                                                                 \n",
      " batch_normalization (BatchN  (None, 24, 62, 62, 64)   248       \n",
      " ormalization)                                                   \n",
      "                                                                 \n",
      " activation (Activation)     (None, 24, 62, 62, 64)    0         \n",
      "                                                                 \n",
      " time_distributed_1 (TimeDis  (None, 24, 30, 30, 32)   32800     \n",
      " tributed)                                                       \n",
      "                                                                 \n",
      " batch_normalization_1 (Batc  (None, 24, 30, 30, 32)   120       \n",
      " hNormalization)                                                 \n",
      "                                                                 \n",
      " activation_1 (Activation)   (None, 24, 30, 30, 32)    0         \n",
      "                                                                 \n",
      " time_distributed_2 (TimeDis  (None, 24, 14, 14, 32)   9248      \n",
      " tributed)                                                       \n",
      "                                                                 \n",
      " batch_normalization_2 (Batc  (None, 24, 14, 14, 32)   56        \n",
      " hNormalization)                                                 \n",
      "                                                                 \n",
      " activation_2 (Activation)   (None, 24, 14, 14, 32)    0         \n",
      "                                                                 \n",
      " time_distributed_3 (TimeDis  (None, 24, 12, 12, 16)   4624      \n",
      " tributed)                                                       \n",
      "                                                                 \n",
      " batch_normalization_3 (Batc  (None, 24, 12, 12, 16)   48        \n",
      " hNormalization)                                                 \n",
      "                                                                 \n",
      " activation_3 (Activation)   (None, 24, 12, 12, 16)    0         \n",
      "                                                                 \n",
      " time_distributed_4 (TimeDis  (None, 24, 6, 6, 16)     0         \n",
      " tributed)                                                       \n",
      "                                                                 \n",
      " time_distributed_5 (TimeDis  (None, 24, 576)          0         \n",
      " tributed)                                                       \n",
      "                                                                 \n",
      " simple_rnn (SimpleRNN)      (None, 16)                9488      \n",
      "                                                                 \n",
      " dense (Dense)               (None, 20)                340       \n",
      "                                                                 \n",
      " dropout (Dropout)           (None, 20)                0         \n",
      "                                                                 \n",
      " dense_1 (Dense)             (None, 10)                210       \n",
      "                                                                 \n",
      "=================================================================\n",
      "Total params: 62,046\n",
      "Trainable params: 61,810\n",
      "Non-trainable params: 236\n",
      "_________________________________________________________________\n"
     ]
    }
   ],
   "source": [
    "model = models.Sequential()\n",
    "model = add_2d_cnn_part(model, FRAME_COUNT, FRAME_SIZE)\n",
    "model.add(layers.TimeDistributed(layers.Flatten()))\n",
    "model = add_rnn_part(model, return_sequences=False)\n",
    "model = add_dense_part(model, CLASS_COUNT)\n",
    "\n",
    "model.summary()"
   ]
  },
  {
   "cell_type": "code",
   "execution_count": 5,
   "id": "963ff906",
   "metadata": {},
   "outputs": [],
   "source": [
    "model.compile(optimizer='adam',\n",
    "              loss=tf.keras.losses.SparseCategoricalCrossentropy(from_logits=False),\n",
    "              metrics=['accuracy'],\n",
    "              )\n"
   ]
  },
  {
   "cell_type": "code",
   "execution_count": 6,
   "id": "20cf9db7",
   "metadata": {},
   "outputs": [
    {
     "name": "stdout",
     "output_type": "stream",
     "text": [
      "Epoch 1/50\n",
      "11/11 [==============================] - 14s 682ms/step - loss: 2.3866 - accuracy: 0.1114 - val_loss: 2.2708 - val_accuracy: 0.0889\n",
      "Epoch 2/50\n",
      "11/11 [==============================] - 4s 399ms/step - loss: 2.2609 - accuracy: 0.1400 - val_loss: 2.2929 - val_accuracy: 0.0889\n",
      "Epoch 3/50\n",
      "11/11 [==============================] - 4s 402ms/step - loss: 2.2485 - accuracy: 0.1400 - val_loss: 2.2827 - val_accuracy: 0.1111\n",
      "Epoch 4/50\n",
      "11/11 [==============================] - 4s 401ms/step - loss: 2.2098 - accuracy: 0.1886 - val_loss: 2.2590 - val_accuracy: 0.1333\n",
      "Epoch 5/50\n",
      "11/11 [==============================] - 4s 410ms/step - loss: 2.2005 - accuracy: 0.1857 - val_loss: 2.2799 - val_accuracy: 0.1333\n",
      "Epoch 6/50\n",
      "11/11 [==============================] - 4s 404ms/step - loss: 2.1798 - accuracy: 0.2086 - val_loss: 2.2640 - val_accuracy: 0.1556\n",
      "Epoch 7/50\n",
      "11/11 [==============================] - 4s 401ms/step - loss: 2.1552 - accuracy: 0.2343 - val_loss: 2.2401 - val_accuracy: 0.2222\n",
      "Epoch 8/50\n",
      "11/11 [==============================] - 5s 412ms/step - loss: 2.1321 - accuracy: 0.2343 - val_loss: 2.2247 - val_accuracy: 0.1111\n",
      "Epoch 9/50\n",
      "11/11 [==============================] - 4s 405ms/step - loss: 2.1072 - accuracy: 0.2714 - val_loss: 2.2278 - val_accuracy: 0.2444\n",
      "Epoch 10/50\n",
      "11/11 [==============================] - 4s 403ms/step - loss: 2.0777 - accuracy: 0.2714 - val_loss: 2.2256 - val_accuracy: 0.1778\n",
      "Epoch 11/50\n",
      "11/11 [==============================] - 4s 403ms/step - loss: 2.0623 - accuracy: 0.2943 - val_loss: 2.2094 - val_accuracy: 0.2000\n",
      "Epoch 12/50\n",
      "11/11 [==============================] - 4s 405ms/step - loss: 2.0116 - accuracy: 0.3114 - val_loss: 2.1972 - val_accuracy: 0.2222\n",
      "Epoch 13/50\n",
      "11/11 [==============================] - 4s 409ms/step - loss: 2.0061 - accuracy: 0.3000 - val_loss: 2.1372 - val_accuracy: 0.2667\n",
      "Epoch 14/50\n",
      "11/11 [==============================] - 4s 403ms/step - loss: 1.9343 - accuracy: 0.3171 - val_loss: 2.1594 - val_accuracy: 0.2444\n",
      "Epoch 15/50\n",
      "11/11 [==============================] - 4s 404ms/step - loss: 1.9353 - accuracy: 0.3371 - val_loss: 2.0946 - val_accuracy: 0.2667\n",
      "Epoch 16/50\n",
      "11/11 [==============================] - 4s 402ms/step - loss: 1.8864 - accuracy: 0.3257 - val_loss: 2.1319 - val_accuracy: 0.2000\n",
      "Epoch 17/50\n",
      "11/11 [==============================] - 4s 406ms/step - loss: 1.8908 - accuracy: 0.3400 - val_loss: 2.0663 - val_accuracy: 0.3333\n",
      "Epoch 18/50\n",
      "11/11 [==============================] - 4s 402ms/step - loss: 1.7962 - accuracy: 0.3743 - val_loss: 2.1287 - val_accuracy: 0.3111\n",
      "Epoch 19/50\n",
      "11/11 [==============================] - 4s 404ms/step - loss: 1.7881 - accuracy: 0.4000 - val_loss: 2.0345 - val_accuracy: 0.3333\n",
      "Epoch 20/50\n",
      "11/11 [==============================] - 4s 402ms/step - loss: 1.7261 - accuracy: 0.4314 - val_loss: 1.9970 - val_accuracy: 0.3111\n",
      "Epoch 21/50\n",
      "11/11 [==============================] - 5s 412ms/step - loss: 1.6843 - accuracy: 0.4657 - val_loss: 1.9755 - val_accuracy: 0.3556\n",
      "Epoch 22/50\n",
      "11/11 [==============================] - 4s 408ms/step - loss: 1.6184 - accuracy: 0.4629 - val_loss: 1.9778 - val_accuracy: 0.3556\n",
      "Epoch 23/50\n",
      "11/11 [==============================] - 4s 407ms/step - loss: 1.5784 - accuracy: 0.4514 - val_loss: 1.9927 - val_accuracy: 0.3111\n",
      "Epoch 24/50\n",
      "11/11 [==============================] - 4s 411ms/step - loss: 1.6597 - accuracy: 0.4571 - val_loss: 1.9589 - val_accuracy: 0.3778\n",
      "Epoch 25/50\n",
      "11/11 [==============================] - 4s 408ms/step - loss: 1.4975 - accuracy: 0.5029 - val_loss: 1.9506 - val_accuracy: 0.3333\n",
      "Epoch 26/50\n",
      "11/11 [==============================] - 4s 411ms/step - loss: 1.4014 - accuracy: 0.5343 - val_loss: 1.9381 - val_accuracy: 0.3333\n",
      "Epoch 27/50\n",
      "11/11 [==============================] - 4s 402ms/step - loss: 1.3855 - accuracy: 0.5571 - val_loss: 1.9433 - val_accuracy: 0.3111\n",
      "Epoch 28/50\n",
      "11/11 [==============================] - 5s 411ms/step - loss: 1.2988 - accuracy: 0.5771 - val_loss: 1.8722 - val_accuracy: 0.3556\n",
      "Epoch 29/50\n",
      "11/11 [==============================] - 4s 410ms/step - loss: 1.3275 - accuracy: 0.5629 - val_loss: 1.8726 - val_accuracy: 0.3778\n",
      "Epoch 30/50\n",
      "11/11 [==============================] - 4s 406ms/step - loss: 1.2474 - accuracy: 0.5943 - val_loss: 1.8039 - val_accuracy: 0.4444\n",
      "Epoch 31/50\n",
      "11/11 [==============================] - 4s 405ms/step - loss: 1.1692 - accuracy: 0.6457 - val_loss: 1.8015 - val_accuracy: 0.4000\n",
      "Epoch 32/50\n",
      "11/11 [==============================] - 4s 403ms/step - loss: 1.1332 - accuracy: 0.6514 - val_loss: 1.8235 - val_accuracy: 0.4222\n",
      "Epoch 33/50\n",
      "11/11 [==============================] - 4s 408ms/step - loss: 1.1058 - accuracy: 0.6543 - val_loss: 1.7811 - val_accuracy: 0.3556\n",
      "Epoch 34/50\n",
      "11/11 [==============================] - 4s 406ms/step - loss: 1.0806 - accuracy: 0.6543 - val_loss: 1.7386 - val_accuracy: 0.4222\n",
      "Epoch 35/50\n",
      "11/11 [==============================] - 4s 379ms/step - loss: 1.0224 - accuracy: 0.6800 - val_loss: 1.7406 - val_accuracy: 0.4667\n",
      "Epoch 36/50\n",
      "11/11 [==============================] - 4s 370ms/step - loss: 1.0341 - accuracy: 0.6743 - val_loss: 1.8449 - val_accuracy: 0.4667\n",
      "Epoch 37/50\n",
      "11/11 [==============================] - 4s 395ms/step - loss: 0.9604 - accuracy: 0.7000 - val_loss: 1.6562 - val_accuracy: 0.5556\n",
      "Epoch 38/50\n",
      "11/11 [==============================] - 4s 352ms/step - loss: 0.8545 - accuracy: 0.7171 - val_loss: 1.6330 - val_accuracy: 0.5333\n",
      "Epoch 39/50\n",
      "11/11 [==============================] - 4s 408ms/step - loss: 0.8039 - accuracy: 0.7686 - val_loss: 1.6944 - val_accuracy: 0.5556\n",
      "Epoch 40/50\n",
      "11/11 [==============================] - 4s 403ms/step - loss: 0.8168 - accuracy: 0.7429 - val_loss: 1.6666 - val_accuracy: 0.5556\n",
      "Epoch 41/50\n",
      "11/11 [==============================] - 4s 401ms/step - loss: 0.7654 - accuracy: 0.7886 - val_loss: 1.6606 - val_accuracy: 0.5333\n",
      "Epoch 42/50\n",
      "11/11 [==============================] - 4s 407ms/step - loss: 0.7324 - accuracy: 0.7771 - val_loss: 1.6287 - val_accuracy: 0.5556\n",
      "Epoch 43/50\n",
      "11/11 [==============================] - 4s 407ms/step - loss: 0.6385 - accuracy: 0.8171 - val_loss: 1.5977 - val_accuracy: 0.5556\n",
      "Epoch 44/50\n",
      "11/11 [==============================] - 4s 403ms/step - loss: 0.5838 - accuracy: 0.8486 - val_loss: 1.8000 - val_accuracy: 0.5333\n",
      "Epoch 45/50\n",
      "11/11 [==============================] - 4s 400ms/step - loss: 0.6203 - accuracy: 0.8029 - val_loss: 1.6491 - val_accuracy: 0.5333\n",
      "Epoch 46/50\n",
      "11/11 [==============================] - 4s 403ms/step - loss: 0.5899 - accuracy: 0.8314 - val_loss: 1.7355 - val_accuracy: 0.5556\n",
      "Epoch 47/50\n",
      "11/11 [==============================] - 4s 403ms/step - loss: 0.5497 - accuracy: 0.8429 - val_loss: 1.8773 - val_accuracy: 0.5333\n",
      "Epoch 48/50\n",
      "11/11 [==============================] - 4s 407ms/step - loss: 0.5513 - accuracy: 0.8429 - val_loss: 1.8645 - val_accuracy: 0.5778\n"
     ]
    }
   ],
   "source": [
    "history = model.fit(X_train, y_train, epochs = EPOCHS, validation_data = (X_val, y_val), callbacks=[early_stopping])"
   ]
  },
  {
   "cell_type": "markdown",
   "id": "57ec1982",
   "metadata": {},
   "source": [
    "### Train & validation Loss"
   ]
  },
  {
   "cell_type": "code",
   "execution_count": 7,
   "id": "b6c8d1db",
   "metadata": {},
   "outputs": [
    {
     "data": {
      "text/plain": [
       "<matplotlib.legend.Legend at 0x1b75e07fb50>"
      ]
     },
     "execution_count": 7,
     "metadata": {},
     "output_type": "execute_result"
    },
    {
     "data": {
      "image/png": "[encoded data removed]",
      "text/plain": [
       "<Figure size 432x288 with 1 Axes>"
      ]
     },
     "metadata": {
      "needs_background": "light"
     },
     "output_type": "display_data"
    }
   ],
   "source": [
    "plt.plot(history.history['loss'], label='loss')\n",
    "plt.plot(history.history['val_loss'], label = 'val_loss')\n",
    "plt.xlabel('Epoch')\n",
    "plt.ylabel('Loss')\n",
    "plt.ylim([0.0, 3])\n",
    "plt.legend(loc='lower right')"
   ]
  },
  {
   "cell_type": "markdown",
   "id": "7af69023",
   "metadata": {},
   "source": [
    "### Train & validation Accuracy"
   ]
  },
  {
   "cell_type": "code",
   "execution_count": 8,
   "id": "0bb8dfca",
   "metadata": {},
   "outputs": [
    {
     "data": {
      "text/plain": [
       "<matplotlib.legend.Legend at 0x1b76981f6d0>"
      ]
     },
     "execution_count": 8,
     "metadata": {},
     "output_type": "execute_result"
    },
    {
     "data": {
      "image/png": "[encoded data removed]",
      "text/plain": [
       "<Figure size 432x288 with 1 Axes>"
      ]
     },
     "metadata": {
      "needs_background": "light"
     },
     "output_type": "display_data"
    }
   ],
   "source": [
    "plt.plot(history.history['accuracy'], label='accuracy')\n",
    "plt.plot(history.history['val_accuracy'], label = 'val_accuracy')\n",
    "plt.xlabel('Epoch')\n",
    "plt.ylabel('Accuracy')\n",
    "plt.ylim([0.0, 1])\n",
    "plt.legend(loc='lower right')"
   ]
  },
  {
   "cell_type": "markdown",
   "id": "9b30546c",
   "metadata": {},
   "source": [
    "## Test"
   ]
  },
  {
   "cell_type": "code",
   "execution_count": 9,
   "id": "cf4c662a",
   "metadata": {},
   "outputs": [
    {
     "name": "stdout",
     "output_type": "stream",
     "text": [
      "4/4 [==============================] - 1s 108ms/step\n"
     ]
    }
   ],
   "source": [
    "predict = np.argmax(model.predict(X_test), axis=1)"
   ]
  },
  {
   "cell_type": "code",
   "execution_count": 10,
   "id": "6ec7a04a",
   "metadata": {},
   "outputs": [
    {
     "name": "stdout",
     "output_type": "stream",
     "text": [
      "              precision    recall  f1-score   support\n",
      "\n",
      "           0       0.73      0.53      0.62        15\n",
      "           1       0.57      0.50      0.53        16\n",
      "           2       0.31      0.80      0.44         5\n",
      "           3       0.39      0.78      0.52         9\n",
      "           4       0.46      0.60      0.52        10\n",
      "           5       0.00      0.00      0.00         8\n",
      "           6       0.50      0.29      0.36        14\n",
      "           7       0.67      0.60      0.63        10\n",
      "           8       0.25      0.22      0.24         9\n",
      "           9       0.44      0.44      0.44         9\n",
      "\n",
      "    accuracy                           0.47       105\n",
      "   macro avg       0.43      0.48      0.43       105\n",
      "weighted avg       0.47      0.47      0.45       105\n",
      "\n"
     ]
    }
   ],
   "source": [
    "print(classification_report(y_test, predict))"
   ]
  },
  {
   "cell_type": "code",
   "execution_count": 11,
   "id": "9433cc53",
   "metadata": {},
   "outputs": [
    {
     "data": {
      "image/png": "[encoded data removed]",
      "text/plain": [
       "<Figure size 400x400 with 2 Axes>"
      ]
     },
     "metadata": {
      "needs_background": "light"
     },
     "output_type": "display_data"
    }
   ],
   "source": [
    "fig = plt.figure(figsize=(CLASS_COUNT // 2, CLASS_COUNT // 2), dpi=80)\n",
    "M = confusion_matrix(predict, y_test)\n",
    "plt.imshow(M, interpolation = 'nearest')\n",
    "plt.set_cmap('binary')\n",
    "plt.xticks(range(CLASS_COUNT))\n",
    "plt.yticks(range(CLASS_COUNT))\n",
    "plt.xlabel(\"true label\")\n",
    "plt.ylabel(\"predicted label\")\n",
    "plt.colorbar()\n",
    "pass"
   ]
  },
  {
   "cell_type": "code",
   "execution_count": null,
   "id": "5c484710",
   "metadata": {},
   "outputs": [],
   "source": []
  }
 ],
 "metadata": {
  "kernelspec": {
   "display_name": "Python 3 (ipykernel)",
   "language": "python",
   "name": "python3"
  },
  "language_info": {
   "codemirror_mode": {
    "name": "ipython",
    "version": 3
   },
   "file_extension": ".py",
   "mimetype": "text/x-python",
   "name": "python",
   "nbconvert_exporter": "python",
   "pygments_lexer": "ipython3",
   "version": "3.9.6"
  }
 },
 "nbformat": 4,
 "nbformat_minor": 5
}
