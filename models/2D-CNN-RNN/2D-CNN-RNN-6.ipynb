{
 "cells": [
  {
   "cell_type": "code",
   "execution_count": 1,
   "id": "867cbce7",
   "metadata": {},
   "outputs": [],
   "source": [
    "import os\n",
    "\n",
    "import cv2\n",
    "from matplotlib import pyplot as plt\n",
    "from tqdm.notebook import trange, tqdm\n",
    "import numpy as np\n",
    "import tensorflow as tf\n",
    "import random\n",
    "from sklearn import preprocessing\n",
    "from sklearn.model_selection import train_test_split\n",
    "from tensorflow.keras import layers, models, utils\n",
    "from sklearn.metrics import classification_report, confusion_matrix\n",
    "\n",
    "from data_utils import read_and_preprocess_data\n",
    "from model_utils import *"
   ]
  },
  {
   "cell_type": "markdown",
   "id": "d6e5fe95",
   "metadata": {},
   "source": [
    "## Settings"
   ]
  },
  {
   "cell_type": "code",
   "execution_count": 2,
   "id": "c83c0d21",
   "metadata": {},
   "outputs": [],
   "source": [
    "FRAME_SIZE = 128\n",
    "DATA_PATH = './2sec/data_6_fps'\n",
    "EPOCHS = 50"
   ]
  },
  {
   "cell_type": "markdown",
   "id": "68882663",
   "metadata": {},
   "source": [
    "## Data"
   ]
  },
  {
   "cell_type": "code",
   "execution_count": 3,
   "id": "41431d91",
   "metadata": {},
   "outputs": [
    {
     "name": "stdout",
     "output_type": "stream",
     "text": [
      "reading...\n",
      "BalanceBeam\n",
      "CricketShot\n",
      "Fencing\n",
      "HorseRiding\n",
      "LongJump\n",
      "RockClimbingIndoor\n",
      "SalsaSpin\n",
      "SkyDiving\n",
      "TableTennisShot\n",
      "WallPushups\n",
      "class count = 10\n",
      "med frame count = 12.0\n",
      "padding...\n",
      "Labels encoding...\n",
      "(500,) (500, 12, 128, 128, 3)\n",
      "norm...\n",
      "Train-val-test split...\n",
      "Train: (350, 12, 128, 128, 3) (350,)\n",
      "Val: (45, 12, 128, 128, 3) (45,)\n",
      "Test: (105, 12, 128, 128, 3) (105,)\n"
     ]
    }
   ],
   "source": [
    "CLASS_COUNT, FRAME_COUNT, FRAME_SIZE, X_train, X_val, X_test, y_train, y_val, y_test = read_and_preprocess_data(DATA_PATH, FRAME_SIZE)"
   ]
  },
  {
   "cell_type": "markdown",
   "id": "f99a5cc9",
   "metadata": {},
   "source": [
    "## Model"
   ]
  },
  {
   "cell_type": "code",
   "execution_count": 4,
   "id": "b687e133",
   "metadata": {},
   "outputs": [
    {
     "name": "stdout",
     "output_type": "stream",
     "text": [
      "Model: \"sequential\"\n",
      "_________________________________________________________________\n",
      " Layer (type)                Output Shape              Param #   \n",
      "=================================================================\n",
      " time_distributed (TimeDistr  (None, 12, 62, 62, 64)   4864      \n",
      " ibuted)                                                         \n",
      "                                                                 \n",
      " batch_normalization (BatchN  (None, 12, 62, 62, 64)   248       \n",
      " ormalization)                                                   \n",
      "                                                                 \n",
      " activation (Activation)     (None, 12, 62, 62, 64)    0         \n",
      "                                                                 \n",
      " time_distributed_1 (TimeDis  (None, 12, 30, 30, 32)   32800     \n",
      " tributed)                                                       \n",
      "                                                                 \n",
      " batch_normalization_1 (Batc  (None, 12, 30, 30, 32)   120       \n",
      " hNormalization)                                                 \n",
      "                                                                 \n",
      " activation_1 (Activation)   (None, 12, 30, 30, 32)    0         \n",
      "                                                                 \n",
      " time_distributed_2 (TimeDis  (None, 12, 14, 14, 32)   9248      \n",
      " tributed)                                                       \n",
      "                                                                 \n",
      " batch_normalization_2 (Batc  (None, 12, 14, 14, 32)   56        \n",
      " hNormalization)                                                 \n",
      "                                                                 \n",
      " activation_2 (Activation)   (None, 12, 14, 14, 32)    0         \n",
      "                                                                 \n",
      " time_distributed_3 (TimeDis  (None, 12, 12, 12, 16)   4624      \n",
      " tributed)                                                       \n",
      "                                                                 \n",
      " batch_normalization_3 (Batc  (None, 12, 12, 12, 16)   48        \n",
      " hNormalization)                                                 \n",
      "                                                                 \n",
      " activation_3 (Activation)   (None, 12, 12, 12, 16)    0         \n",
      "                                                                 \n",
      " time_distributed_4 (TimeDis  (None, 12, 6, 6, 16)     0         \n",
      " tributed)                                                       \n",
      "                                                                 \n",
      " time_distributed_5 (TimeDis  (None, 12, 576)          0         \n",
      " tributed)                                                       \n",
      "                                                                 \n",
      " simple_rnn (SimpleRNN)      (None, 16)                9488      \n",
      "                                                                 \n",
      " dense (Dense)               (None, 20)                340       \n",
      "                                                                 \n",
      " dropout (Dropout)           (None, 20)                0         \n",
      "                                                                 \n",
      " dense_1 (Dense)             (None, 10)                210       \n",
      "                                                                 \n",
      "=================================================================\n",
      "Total params: 62,046\n",
      "Trainable params: 61,810\n",
      "Non-trainable params: 236\n",
      "_________________________________________________________________\n"
     ]
    }
   ],
   "source": [
    "model = models.Sequential()\n",
    "model = add_2d_cnn_part(model, FRAME_COUNT, FRAME_SIZE)\n",
    "model.add(layers.TimeDistributed(layers.Flatten()))\n",
    "model = add_rnn_part(model, return_sequences=False)\n",
    "model = add_dense_part(model, CLASS_COUNT)\n",
    "\n",
    "model.summary()"
   ]
  },
  {
   "cell_type": "code",
   "execution_count": 5,
   "id": "963ff906",
   "metadata": {},
   "outputs": [],
   "source": [
    "model.compile(optimizer='adam',\n",
    "              loss=tf.keras.losses.SparseCategoricalCrossentropy(from_logits=False),\n",
    "              metrics=['accuracy'],\n",
    "              )\n"
   ]
  },
  {
   "cell_type": "code",
   "execution_count": 6,
   "id": "20cf9db7",
   "metadata": {},
   "outputs": [
    {
     "name": "stdout",
     "output_type": "stream",
     "text": [
      "Epoch 1/50\n",
      "11/11 [==============================] - 9s 314ms/step - loss: 2.4197 - accuracy: 0.1000 - val_loss: 2.3428 - val_accuracy: 0.0444\n",
      "Epoch 2/50\n",
      "11/11 [==============================] - 2s 179ms/step - loss: 2.3148 - accuracy: 0.1371 - val_loss: 2.3116 - val_accuracy: 0.0444\n",
      "Epoch 3/50\n",
      "11/11 [==============================] - 2s 180ms/step - loss: 2.2574 - accuracy: 0.1343 - val_loss: 2.2937 - val_accuracy: 0.0444\n",
      "Epoch 4/50\n",
      "11/11 [==============================] - 2s 181ms/step - loss: 2.2163 - accuracy: 0.1971 - val_loss: 2.2820 - val_accuracy: 0.0444\n",
      "Epoch 5/50\n",
      "11/11 [==============================] - 2s 178ms/step - loss: 2.1941 - accuracy: 0.1857 - val_loss: 2.2822 - val_accuracy: 0.0667\n",
      "Epoch 6/50\n",
      "11/11 [==============================] - 2s 177ms/step - loss: 2.1918 - accuracy: 0.1971 - val_loss: 2.2258 - val_accuracy: 0.1778\n",
      "Epoch 7/50\n",
      "11/11 [==============================] - 2s 180ms/step - loss: 2.1274 - accuracy: 0.2200 - val_loss: 2.2171 - val_accuracy: 0.1333\n",
      "Epoch 8/50\n",
      "11/11 [==============================] - 2s 203ms/step - loss: 2.0686 - accuracy: 0.2457 - val_loss: 2.2168 - val_accuracy: 0.1556\n",
      "Epoch 9/50\n",
      "11/11 [==============================] - 2s 205ms/step - loss: 2.0838 - accuracy: 0.2371 - val_loss: 2.1964 - val_accuracy: 0.1556\n",
      "Epoch 10/50\n",
      "11/11 [==============================] - 2s 209ms/step - loss: 1.9918 - accuracy: 0.2971 - val_loss: 2.1367 - val_accuracy: 0.2667\n",
      "Epoch 11/50\n",
      "11/11 [==============================] - 2s 208ms/step - loss: 1.9174 - accuracy: 0.3600 - val_loss: 2.1332 - val_accuracy: 0.2667\n",
      "Epoch 12/50\n",
      "11/11 [==============================] - 2s 211ms/step - loss: 1.9050 - accuracy: 0.3086 - val_loss: 2.1214 - val_accuracy: 0.2444\n",
      "Epoch 13/50\n",
      "11/11 [==============================] - 2s 211ms/step - loss: 1.8832 - accuracy: 0.3200 - val_loss: 2.0247 - val_accuracy: 0.3111\n",
      "Epoch 14/50\n",
      "11/11 [==============================] - 2s 210ms/step - loss: 1.8090 - accuracy: 0.4229 - val_loss: 2.0350 - val_accuracy: 0.3111\n",
      "Epoch 15/50\n",
      "11/11 [==============================] - 2s 211ms/step - loss: 1.7657 - accuracy: 0.3686 - val_loss: 1.9744 - val_accuracy: 0.2889\n",
      "Epoch 16/50\n",
      "11/11 [==============================] - 2s 211ms/step - loss: 1.6695 - accuracy: 0.4457 - val_loss: 1.9214 - val_accuracy: 0.3333\n",
      "Epoch 17/50\n",
      "11/11 [==============================] - 2s 210ms/step - loss: 1.6949 - accuracy: 0.4486 - val_loss: 1.9129 - val_accuracy: 0.4667\n",
      "Epoch 18/50\n",
      "11/11 [==============================] - 2s 206ms/step - loss: 1.6127 - accuracy: 0.4600 - val_loss: 1.9007 - val_accuracy: 0.4000\n",
      "Epoch 19/50\n",
      "11/11 [==============================] - 2s 210ms/step - loss: 1.5708 - accuracy: 0.4943 - val_loss: 1.9003 - val_accuracy: 0.4222\n",
      "Epoch 20/50\n",
      "11/11 [==============================] - 2s 211ms/step - loss: 1.4460 - accuracy: 0.5543 - val_loss: 1.8268 - val_accuracy: 0.4444\n",
      "Epoch 21/50\n",
      "11/11 [==============================] - 2s 207ms/step - loss: 1.4074 - accuracy: 0.5857 - val_loss: 1.8370 - val_accuracy: 0.4444\n",
      "Epoch 22/50\n",
      "11/11 [==============================] - 2s 211ms/step - loss: 1.4042 - accuracy: 0.5486 - val_loss: 2.0152 - val_accuracy: 0.4000\n",
      "Epoch 23/50\n",
      "11/11 [==============================] - 2s 211ms/step - loss: 1.3072 - accuracy: 0.6286 - val_loss: 1.7672 - val_accuracy: 0.4889\n",
      "Epoch 24/50\n",
      "11/11 [==============================] - 2s 211ms/step - loss: 1.3019 - accuracy: 0.5971 - val_loss: 1.6468 - val_accuracy: 0.5556\n",
      "Epoch 25/50\n",
      "11/11 [==============================] - 2s 208ms/step - loss: 1.2189 - accuracy: 0.6257 - val_loss: 1.8178 - val_accuracy: 0.4444\n",
      "Epoch 26/50\n",
      "11/11 [==============================] - 2s 210ms/step - loss: 1.0652 - accuracy: 0.7057 - val_loss: 1.7827 - val_accuracy: 0.5111\n",
      "Epoch 27/50\n",
      "11/11 [==============================] - 2s 211ms/step - loss: 1.0883 - accuracy: 0.6743 - val_loss: 1.6297 - val_accuracy: 0.5111\n",
      "Epoch 28/50\n",
      "11/11 [==============================] - 2s 211ms/step - loss: 1.0683 - accuracy: 0.7114 - val_loss: 1.6823 - val_accuracy: 0.4889\n",
      "Epoch 29/50\n",
      "11/11 [==============================] - 2s 211ms/step - loss: 1.0851 - accuracy: 0.6743 - val_loss: 1.5867 - val_accuracy: 0.4889\n",
      "Epoch 30/50\n",
      "11/11 [==============================] - 2s 216ms/step - loss: 0.9863 - accuracy: 0.7200 - val_loss: 1.5783 - val_accuracy: 0.5556\n",
      "Epoch 31/50\n",
      "11/11 [==============================] - 2s 216ms/step - loss: 0.8968 - accuracy: 0.7657 - val_loss: 1.6294 - val_accuracy: 0.4889\n",
      "Epoch 32/50\n",
      "11/11 [==============================] - 3s 246ms/step - loss: 0.8443 - accuracy: 0.7571 - val_loss: 1.6785 - val_accuracy: 0.5556\n",
      "Epoch 33/50\n",
      "11/11 [==============================] - 2s 218ms/step - loss: 0.7837 - accuracy: 0.7943 - val_loss: 1.5326 - val_accuracy: 0.6000\n",
      "Epoch 34/50\n",
      "11/11 [==============================] - 2s 209ms/step - loss: 0.7429 - accuracy: 0.8086 - val_loss: 1.5772 - val_accuracy: 0.5778\n",
      "Epoch 35/50\n",
      "11/11 [==============================] - 2s 206ms/step - loss: 0.6906 - accuracy: 0.8343 - val_loss: 1.6817 - val_accuracy: 0.5556\n",
      "Epoch 36/50\n",
      "11/11 [==============================] - 2s 222ms/step - loss: 0.6638 - accuracy: 0.8200 - val_loss: 1.6592 - val_accuracy: 0.5333\n",
      "Epoch 37/50\n",
      "11/11 [==============================] - 2s 213ms/step - loss: 0.6829 - accuracy: 0.8286 - val_loss: 1.5968 - val_accuracy: 0.5778\n",
      "Epoch 38/50\n",
      "11/11 [==============================] - 2s 215ms/step - loss: 0.6117 - accuracy: 0.8314 - val_loss: 1.6641 - val_accuracy: 0.5556\n"
     ]
    }
   ],
   "source": [
    "history = model.fit(X_train, y_train, epochs = EPOCHS, validation_data = (X_val, y_val), callbacks=[early_stopping])"
   ]
  },
  {
   "cell_type": "markdown",
   "id": "57ec1982",
   "metadata": {},
   "source": [
    "### Train & validation Loss"
   ]
  },
  {
   "cell_type": "code",
   "execution_count": 7,
   "id": "b6c8d1db",
   "metadata": {},
   "outputs": [
    {
     "data": {
      "text/plain": [
       "<matplotlib.legend.Legend at 0x188df85ceb0>"
      ]
     },
     "execution_count": 7,
     "metadata": {},
     "output_type": "execute_result"
    },
    {
     "data": {
      "image/png": "[encoded data removed]",
      "text/plain": [
       "<Figure size 432x288 with 1 Axes>"
      ]
     },
     "metadata": {
      "needs_background": "light"
     },
     "output_type": "display_data"
    }
   ],
   "source": [
    "plt.plot(history.history['loss'], label='loss')\n",
    "plt.plot(history.history['val_loss'], label = 'val_loss')\n",
    "plt.xlabel('Epoch')\n",
    "plt.ylabel('Loss')\n",
    "plt.ylim([0.0, 3])\n",
    "plt.legend(loc='lower right')"
   ]
  },
  {
   "cell_type": "markdown",
   "id": "7af69023",
   "metadata": {},
   "source": [
    "### Train & validation Accuracy"
   ]
  },
  {
   "cell_type": "code",
   "execution_count": 8,
   "id": "0bb8dfca",
   "metadata": {},
   "outputs": [
    {
     "data": {
      "text/plain": [
       "<matplotlib.legend.Legend at 0x188dfb85700>"
      ]
     },
     "execution_count": 8,
     "metadata": {},
     "output_type": "execute_result"
    },
    {
     "data": {
      "image/png": "[encoded data removed]",
      "text/plain": [
       "<Figure size 432x288 with 1 Axes>"
      ]
     },
     "metadata": {
      "needs_background": "light"
     },
     "output_type": "display_data"
    }
   ],
   "source": [
    "plt.plot(history.history['accuracy'], label='accuracy')\n",
    "plt.plot(history.history['val_accuracy'], label = 'val_accuracy')\n",
    "plt.xlabel('Epoch')\n",
    "plt.ylabel('Accuracy')\n",
    "plt.ylim([0.0, 1])\n",
    "plt.legend(loc='lower right')"
   ]
  },
  {
   "cell_type": "markdown",
   "id": "9b30546c",
   "metadata": {},
   "source": [
    "## Test"
   ]
  },
  {
   "cell_type": "code",
   "execution_count": 9,
   "id": "cf4c662a",
   "metadata": {},
   "outputs": [
    {
     "name": "stdout",
     "output_type": "stream",
     "text": [
      "4/4 [==============================] - 0s 61ms/step\n"
     ]
    }
   ],
   "source": [
    "predict = np.argmax(model.predict(X_test), axis=1)"
   ]
  },
  {
   "cell_type": "code",
   "execution_count": 10,
   "id": "6ec7a04a",
   "metadata": {},
   "outputs": [
    {
     "name": "stdout",
     "output_type": "stream",
     "text": [
      "              precision    recall  f1-score   support\n",
      "\n",
      "           0       0.46      0.73      0.56        15\n",
      "           1       0.73      0.50      0.59        16\n",
      "           2       0.43      0.60      0.50         5\n",
      "           3       0.44      0.44      0.44         9\n",
      "           4       0.30      0.30      0.30        10\n",
      "           5       0.44      0.50      0.47         8\n",
      "           6       0.64      0.50      0.56        14\n",
      "           7       0.50      0.50      0.50        10\n",
      "           8       1.00      0.33      0.50         9\n",
      "           9       0.64      0.78      0.70         9\n",
      "\n",
      "    accuracy                           0.52       105\n",
      "   macro avg       0.56      0.52      0.51       105\n",
      "weighted avg       0.57      0.52      0.52       105\n",
      "\n"
     ]
    }
   ],
   "source": [
    "print(classification_report(y_test, predict))"
   ]
  },
  {
   "cell_type": "code",
   "execution_count": 11,
   "id": "9433cc53",
   "metadata": {},
   "outputs": [
    {
     "data": {
      "image/png": "[encoded data removed]",
      "text/plain": [
       "<Figure size 400x400 with 2 Axes>"
      ]
     },
     "metadata": {
      "needs_background": "light"
     },
     "output_type": "display_data"
    }
   ],
   "source": [
    "fig = plt.figure(figsize=(CLASS_COUNT // 2, CLASS_COUNT // 2), dpi=80)\n",
    "M = confusion_matrix(predict, y_test)\n",
    "plt.imshow(M, interpolation = 'nearest')\n",
    "plt.set_cmap('binary')\n",
    "plt.xticks(range(CLASS_COUNT))\n",
    "plt.yticks(range(CLASS_COUNT))\n",
    "plt.xlabel(\"true label\")\n",
    "plt.ylabel(\"predicted label\")\n",
    "plt.colorbar()\n",
    "pass"
   ]
  },
  {
   "cell_type": "code",
   "execution_count": null,
   "id": "5c484710",
   "metadata": {},
   "outputs": [],
   "source": []
  }
 ],
 "metadata": {
  "kernelspec": {
   "display_name": "Python 3 (ipykernel)",
   "language": "python",
   "name": "python3"
  },
  "language_info": {
   "codemirror_mode": {
    "name": "ipython",
    "version": 3
   },
   "file_extension": ".py",
   "mimetype": "text/x-python",
   "name": "python",
   "nbconvert_exporter": "python",
   "pygments_lexer": "ipython3",
   "version": "3.9.6"
  }
 },
 "nbformat": 4,
 "nbformat_minor": 5
}
