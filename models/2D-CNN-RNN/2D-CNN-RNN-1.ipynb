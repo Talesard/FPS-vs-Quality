{
 "cells": [
  {
   "cell_type": "code",
   "execution_count": 1,
   "id": "867cbce7",
   "metadata": {},
   "outputs": [],
   "source": [
    "import os\n",
    "\n",
    "import cv2\n",
    "from matplotlib import pyplot as plt\n",
    "from tqdm.notebook import trange, tqdm\n",
    "import numpy as np\n",
    "import tensorflow as tf\n",
    "import random\n",
    "from sklearn import preprocessing\n",
    "from sklearn.model_selection import train_test_split\n",
    "from tensorflow.keras import layers, models, utils\n",
    "from sklearn.metrics import classification_report, confusion_matrix\n",
    "\n",
    "from data_utils import read_and_preprocess_data\n",
    "from model_utils import *"
   ]
  },
  {
   "cell_type": "markdown",
   "id": "d6e5fe95",
   "metadata": {},
   "source": [
    "## Settings"
   ]
  },
  {
   "cell_type": "code",
   "execution_count": 2,
   "id": "c83c0d21",
   "metadata": {},
   "outputs": [],
   "source": [
    "FRAME_SIZE = 128\n",
    "DATA_PATH = './2sec/data_1_fps'\n",
    "EPOCHS = 50"
   ]
  },
  {
   "cell_type": "markdown",
   "id": "68882663",
   "metadata": {},
   "source": [
    "## Data"
   ]
  },
  {
   "cell_type": "code",
   "execution_count": 3,
   "id": "41431d91",
   "metadata": {},
   "outputs": [
    {
     "name": "stdout",
     "output_type": "stream",
     "text": [
      "reading...\n",
      "BalanceBeam\n",
      "CricketShot\n",
      "Fencing\n",
      "HorseRiding\n",
      "LongJump\n",
      "RockClimbingIndoor\n",
      "SalsaSpin\n",
      "SkyDiving\n",
      "TableTennisShot\n",
      "WallPushups\n",
      "class count = 10\n",
      "med frame count = 2.0\n",
      "padding...\n",
      "Labels encoding...\n",
      "(500,) (500, 2, 128, 128, 3)\n",
      "norm...\n",
      "Train-val-test split...\n",
      "Train: (350, 2, 128, 128, 3) (350,)\n",
      "Val: (45, 2, 128, 128, 3) (45,)\n",
      "Test: (105, 2, 128, 128, 3) (105,)\n"
     ]
    }
   ],
   "source": [
    "CLASS_COUNT, FRAME_COUNT, FRAME_SIZE, X_train, X_val, X_test, y_train, y_val, y_test = read_and_preprocess_data(DATA_PATH, FRAME_SIZE)"
   ]
  },
  {
   "cell_type": "markdown",
   "id": "f99a5cc9",
   "metadata": {},
   "source": [
    "## Model"
   ]
  },
  {
   "cell_type": "code",
   "execution_count": 4,
   "id": "b687e133",
   "metadata": {},
   "outputs": [
    {
     "name": "stdout",
     "output_type": "stream",
     "text": [
      "Model: \"sequential\"\n",
      "_________________________________________________________________\n",
      " Layer (type)                Output Shape              Param #   \n",
      "=================================================================\n",
      " time_distributed (TimeDistr  (None, 2, 62, 62, 64)    4864      \n",
      " ibuted)                                                         \n",
      "                                                                 \n",
      " batch_normalization (BatchN  (None, 2, 62, 62, 64)    248       \n",
      " ormalization)                                                   \n",
      "                                                                 \n",
      " activation (Activation)     (None, 2, 62, 62, 64)     0         \n",
      "                                                                 \n",
      " time_distributed_1 (TimeDis  (None, 2, 30, 30, 32)    32800     \n",
      " tributed)                                                       \n",
      "                                                                 \n",
      " batch_normalization_1 (Batc  (None, 2, 30, 30, 32)    120       \n",
      " hNormalization)                                                 \n",
      "                                                                 \n",
      " activation_1 (Activation)   (None, 2, 30, 30, 32)     0         \n",
      "                                                                 \n",
      " time_distributed_2 (TimeDis  (None, 2, 14, 14, 32)    9248      \n",
      " tributed)                                                       \n",
      "                                                                 \n",
      " batch_normalization_2 (Batc  (None, 2, 14, 14, 32)    56        \n",
      " hNormalization)                                                 \n",
      "                                                                 \n",
      " activation_2 (Activation)   (None, 2, 14, 14, 32)     0         \n",
      "                                                                 \n",
      " time_distributed_3 (TimeDis  (None, 2, 12, 12, 16)    4624      \n",
      " tributed)                                                       \n",
      "                                                                 \n",
      " batch_normalization_3 (Batc  (None, 2, 12, 12, 16)    48        \n",
      " hNormalization)                                                 \n",
      "                                                                 \n",
      " activation_3 (Activation)   (None, 2, 12, 12, 16)     0         \n",
      "                                                                 \n",
      " time_distributed_4 (TimeDis  (None, 2, 6, 6, 16)      0         \n",
      " tributed)                                                       \n",
      "                                                                 \n",
      " time_distributed_5 (TimeDis  (None, 2, 576)           0         \n",
      " tributed)                                                       \n",
      "                                                                 \n",
      " simple_rnn (SimpleRNN)      (None, 16)                9488      \n",
      "                                                                 \n",
      " dense (Dense)               (None, 20)                340       \n",
      "                                                                 \n",
      " dropout (Dropout)           (None, 20)                0         \n",
      "                                                                 \n",
      " dense_1 (Dense)             (None, 10)                210       \n",
      "                                                                 \n",
      "=================================================================\n",
      "Total params: 62,046\n",
      "Trainable params: 61,810\n",
      "Non-trainable params: 236\n",
      "_________________________________________________________________\n"
     ]
    }
   ],
   "source": [
    "model = models.Sequential()\n",
    "model = add_2d_cnn_part(model, FRAME_COUNT, FRAME_SIZE)\n",
    "model.add(layers.TimeDistributed(layers.Flatten()))\n",
    "model = add_rnn_part(model, return_sequences=False)\n",
    "model = add_dense_part(model, CLASS_COUNT)\n",
    "\n",
    "model.summary()"
   ]
  },
  {
   "cell_type": "code",
   "execution_count": 5,
   "id": "963ff906",
   "metadata": {},
   "outputs": [],
   "source": [
    "model.compile(optimizer='adam',\n",
    "              loss=tf.keras.losses.SparseCategoricalCrossentropy(from_logits=False),\n",
    "              metrics=['accuracy'],\n",
    "              )\n"
   ]
  },
  {
   "cell_type": "code",
   "execution_count": 6,
   "id": "20cf9db7",
   "metadata": {},
   "outputs": [
    {
     "name": "stdout",
     "output_type": "stream",
     "text": [
      "Epoch 1/50\n",
      "11/11 [==============================] - 6s 99ms/step - loss: 2.3698 - accuracy: 0.1057 - val_loss: 2.2968 - val_accuracy: 0.1333\n",
      "Epoch 2/50\n",
      "11/11 [==============================] - 0s 42ms/step - loss: 2.2819 - accuracy: 0.1229 - val_loss: 2.2601 - val_accuracy: 0.0889\n",
      "Epoch 3/50\n",
      "11/11 [==============================] - 0s 42ms/step - loss: 2.2300 - accuracy: 0.1743 - val_loss: 2.2281 - val_accuracy: 0.1556\n",
      "Epoch 4/50\n",
      "11/11 [==============================] - 0s 41ms/step - loss: 2.2015 - accuracy: 0.1829 - val_loss: 2.1904 - val_accuracy: 0.2667\n",
      "Epoch 5/50\n",
      "11/11 [==============================] - 0s 42ms/step - loss: 2.1838 - accuracy: 0.2114 - val_loss: 2.2132 - val_accuracy: 0.2889\n",
      "Epoch 6/50\n",
      "11/11 [==============================] - 0s 41ms/step - loss: 2.1397 - accuracy: 0.2229 - val_loss: 2.1967 - val_accuracy: 0.2444\n",
      "Epoch 7/50\n",
      "11/11 [==============================] - 0s 41ms/step - loss: 2.1139 - accuracy: 0.2200 - val_loss: 2.1935 - val_accuracy: 0.2000\n",
      "Epoch 8/50\n",
      "11/11 [==============================] - 0s 42ms/step - loss: 2.0774 - accuracy: 0.2400 - val_loss: 2.1520 - val_accuracy: 0.3333\n",
      "Epoch 9/50\n",
      "11/11 [==============================] - 0s 41ms/step - loss: 2.0452 - accuracy: 0.2257 - val_loss: 2.1823 - val_accuracy: 0.2000\n",
      "Epoch 10/50\n",
      "11/11 [==============================] - 0s 41ms/step - loss: 2.0107 - accuracy: 0.2714 - val_loss: 2.2057 - val_accuracy: 0.2222\n",
      "Epoch 11/50\n",
      "11/11 [==============================] - 0s 41ms/step - loss: 1.9638 - accuracy: 0.2486 - val_loss: 2.1891 - val_accuracy: 0.2444\n",
      "Epoch 12/50\n",
      "11/11 [==============================] - 0s 44ms/step - loss: 1.9334 - accuracy: 0.3286 - val_loss: 2.1237 - val_accuracy: 0.2889\n",
      "Epoch 13/50\n",
      "11/11 [==============================] - 1s 46ms/step - loss: 1.9082 - accuracy: 0.3629 - val_loss: 2.1407 - val_accuracy: 0.1556\n",
      "Epoch 14/50\n",
      "11/11 [==============================] - 0s 45ms/step - loss: 1.9006 - accuracy: 0.3229 - val_loss: 2.0822 - val_accuracy: 0.2667\n",
      "Epoch 15/50\n",
      "11/11 [==============================] - 1s 46ms/step - loss: 1.7708 - accuracy: 0.3714 - val_loss: 2.0754 - val_accuracy: 0.2667\n",
      "Epoch 16/50\n",
      "11/11 [==============================] - 0s 45ms/step - loss: 1.7708 - accuracy: 0.3943 - val_loss: 2.0628 - val_accuracy: 0.2667\n",
      "Epoch 17/50\n",
      "11/11 [==============================] - 0s 43ms/step - loss: 1.7536 - accuracy: 0.3943 - val_loss: 2.0452 - val_accuracy: 0.3111\n",
      "Epoch 18/50\n",
      "11/11 [==============================] - 0s 42ms/step - loss: 1.6672 - accuracy: 0.4429 - val_loss: 2.0267 - val_accuracy: 0.3111\n",
      "Epoch 19/50\n",
      "11/11 [==============================] - 0s 43ms/step - loss: 1.5770 - accuracy: 0.4714 - val_loss: 1.9952 - val_accuracy: 0.2444\n",
      "Epoch 20/50\n",
      "11/11 [==============================] - 0s 43ms/step - loss: 1.5472 - accuracy: 0.4943 - val_loss: 2.0218 - val_accuracy: 0.3333\n",
      "Epoch 21/50\n",
      "11/11 [==============================] - 0s 42ms/step - loss: 1.5811 - accuracy: 0.4486 - val_loss: 2.0020 - val_accuracy: 0.3778\n",
      "Epoch 22/50\n",
      "11/11 [==============================] - 0s 46ms/step - loss: 1.4795 - accuracy: 0.5400 - val_loss: 1.8994 - val_accuracy: 0.4444\n",
      "Epoch 23/50\n",
      "11/11 [==============================] - 0s 45ms/step - loss: 1.4655 - accuracy: 0.5571 - val_loss: 1.8965 - val_accuracy: 0.4000\n",
      "Epoch 24/50\n",
      "11/11 [==============================] - 0s 44ms/step - loss: 1.3559 - accuracy: 0.5743 - val_loss: 1.9025 - val_accuracy: 0.4000\n",
      "Epoch 25/50\n",
      "11/11 [==============================] - 1s 47ms/step - loss: 1.3360 - accuracy: 0.5914 - val_loss: 1.8375 - val_accuracy: 0.4444\n",
      "Epoch 26/50\n",
      "11/11 [==============================] - 0s 45ms/step - loss: 1.2478 - accuracy: 0.6029 - val_loss: 1.8336 - val_accuracy: 0.4000\n",
      "Epoch 27/50\n",
      "11/11 [==============================] - 1s 47ms/step - loss: 1.2143 - accuracy: 0.6029 - val_loss: 1.7758 - val_accuracy: 0.4222\n",
      "Epoch 28/50\n",
      "11/11 [==============================] - 1s 47ms/step - loss: 1.0924 - accuracy: 0.6514 - val_loss: 1.7608 - val_accuracy: 0.5111\n",
      "Epoch 29/50\n",
      "11/11 [==============================] - 1s 47ms/step - loss: 1.0376 - accuracy: 0.7057 - val_loss: 1.6831 - val_accuracy: 0.4667\n",
      "Epoch 30/50\n",
      "11/11 [==============================] - 0s 45ms/step - loss: 0.9973 - accuracy: 0.6829 - val_loss: 1.6781 - val_accuracy: 0.4667\n",
      "Epoch 31/50\n",
      "11/11 [==============================] - 1s 47ms/step - loss: 1.0295 - accuracy: 0.7086 - val_loss: 1.6567 - val_accuracy: 0.5778\n",
      "Epoch 32/50\n",
      "11/11 [==============================] - 1s 47ms/step - loss: 0.8929 - accuracy: 0.7457 - val_loss: 1.5939 - val_accuracy: 0.5333\n",
      "Epoch 33/50\n",
      "11/11 [==============================] - 0s 45ms/step - loss: 0.8272 - accuracy: 0.7486 - val_loss: 1.6148 - val_accuracy: 0.5111\n",
      "Epoch 34/50\n",
      "11/11 [==============================] - 0s 44ms/step - loss: 0.8362 - accuracy: 0.7629 - val_loss: 1.6406 - val_accuracy: 0.5111\n",
      "Epoch 35/50\n",
      "11/11 [==============================] - 1s 46ms/step - loss: 0.8760 - accuracy: 0.7343 - val_loss: 1.4989 - val_accuracy: 0.5333\n",
      "Epoch 36/50\n",
      "11/11 [==============================] - 1s 46ms/step - loss: 0.8370 - accuracy: 0.7371 - val_loss: 1.6452 - val_accuracy: 0.4222\n",
      "Epoch 37/50\n",
      "11/11 [==============================] - 1s 47ms/step - loss: 0.8203 - accuracy: 0.7514 - val_loss: 1.5522 - val_accuracy: 0.5333\n",
      "Epoch 38/50\n",
      "11/11 [==============================] - 1s 46ms/step - loss: 0.8037 - accuracy: 0.7429 - val_loss: 1.5012 - val_accuracy: 0.5556\n",
      "Epoch 39/50\n",
      "11/11 [==============================] - 1s 46ms/step - loss: 0.7062 - accuracy: 0.8057 - val_loss: 1.5414 - val_accuracy: 0.5556\n",
      "Epoch 40/50\n",
      "11/11 [==============================] - 0s 45ms/step - loss: 0.7181 - accuracy: 0.7714 - val_loss: 1.4171 - val_accuracy: 0.5333\n",
      "Epoch 41/50\n",
      "11/11 [==============================] - 0s 46ms/step - loss: 0.6398 - accuracy: 0.8200 - val_loss: 1.4713 - val_accuracy: 0.6000\n",
      "Epoch 42/50\n",
      "11/11 [==============================] - 1s 46ms/step - loss: 0.5767 - accuracy: 0.8400 - val_loss: 1.4248 - val_accuracy: 0.6222\n",
      "Epoch 43/50\n",
      "11/11 [==============================] - 1s 46ms/step - loss: 0.5662 - accuracy: 0.8543 - val_loss: 1.4102 - val_accuracy: 0.5556\n",
      "Epoch 44/50\n",
      "11/11 [==============================] - 1s 47ms/step - loss: 0.5461 - accuracy: 0.8571 - val_loss: 1.3569 - val_accuracy: 0.6444\n",
      "Epoch 45/50\n",
      "11/11 [==============================] - 1s 47ms/step - loss: 0.5304 - accuracy: 0.8600 - val_loss: 1.5217 - val_accuracy: 0.6000\n",
      "Epoch 46/50\n",
      "11/11 [==============================] - 1s 46ms/step - loss: 0.5242 - accuracy: 0.8629 - val_loss: 1.3666 - val_accuracy: 0.5556\n",
      "Epoch 47/50\n",
      "11/11 [==============================] - 1s 46ms/step - loss: 0.5288 - accuracy: 0.8200 - val_loss: 1.4159 - val_accuracy: 0.6889\n",
      "Epoch 48/50\n",
      "11/11 [==============================] - 0s 46ms/step - loss: 0.4607 - accuracy: 0.8800 - val_loss: 1.4429 - val_accuracy: 0.6000\n",
      "Epoch 49/50\n",
      "11/11 [==============================] - 1s 52ms/step - loss: 0.4482 - accuracy: 0.8914 - val_loss: 1.3941 - val_accuracy: 0.6000\n"
     ]
    }
   ],
   "source": [
    "history = model.fit(X_train, y_train, epochs = EPOCHS, validation_data = (X_val, y_val), callbacks=[early_stopping])"
   ]
  },
  {
   "cell_type": "markdown",
   "id": "57ec1982",
   "metadata": {},
   "source": [
    "### Train & validation Loss"
   ]
  },
  {
   "cell_type": "code",
   "execution_count": 7,
   "id": "b6c8d1db",
   "metadata": {},
   "outputs": [
    {
     "data": {
      "text/plain": [
       "<matplotlib.legend.Legend at 0x206580def40>"
      ]
     },
     "execution_count": 7,
     "metadata": {},
     "output_type": "execute_result"
    },
    {
     "data": {
      "image/png": "[encoded data removed]",
      "text/plain": [
       "<Figure size 432x288 with 1 Axes>"
      ]
     },
     "metadata": {
      "needs_background": "light"
     },
     "output_type": "display_data"
    }
   ],
   "source": [
    "plt.plot(history.history['loss'], label='loss')\n",
    "plt.plot(history.history['val_loss'], label = 'val_loss')\n",
    "plt.xlabel('Epoch')\n",
    "plt.ylabel('Loss')\n",
    "plt.ylim([0.0, 3])\n",
    "plt.legend(loc='lower right')"
   ]
  },
  {
   "cell_type": "markdown",
   "id": "7af69023",
   "metadata": {},
   "source": [
    "### Train & validation Accuracy"
   ]
  },
  {
   "cell_type": "code",
   "execution_count": 8,
   "id": "0bb8dfca",
   "metadata": {},
   "outputs": [
    {
     "data": {
      "text/plain": [
       "<matplotlib.legend.Legend at 0x20658296970>"
      ]
     },
     "execution_count": 8,
     "metadata": {},
     "output_type": "execute_result"
    },
    {
     "data": {
      "image/png": "[encoded data removed]",
      "text/plain": [
       "<Figure size 432x288 with 1 Axes>"
      ]
     },
     "metadata": {
      "needs_background": "light"
     },
     "output_type": "display_data"
    }
   ],
   "source": [
    "plt.plot(history.history['accuracy'], label='accuracy')\n",
    "plt.plot(history.history['val_accuracy'], label = 'val_accuracy')\n",
    "plt.xlabel('Epoch')\n",
    "plt.ylabel('Accuracy')\n",
    "plt.ylim([0.0, 1])\n",
    "plt.legend(loc='lower right')"
   ]
  },
  {
   "cell_type": "markdown",
   "id": "9b30546c",
   "metadata": {},
   "source": [
    "## Test"
   ]
  },
  {
   "cell_type": "code",
   "execution_count": 9,
   "id": "cf4c662a",
   "metadata": {},
   "outputs": [
    {
     "name": "stdout",
     "output_type": "stream",
     "text": [
      "4/4 [==============================] - 0s 19ms/step\n"
     ]
    }
   ],
   "source": [
    "predict = np.argmax(model.predict(X_test), axis=1)"
   ]
  },
  {
   "cell_type": "code",
   "execution_count": 10,
   "id": "6ec7a04a",
   "metadata": {},
   "outputs": [
    {
     "name": "stdout",
     "output_type": "stream",
     "text": [
      "              precision    recall  f1-score   support\n",
      "\n",
      "           0       0.78      0.47      0.58        15\n",
      "           1       0.71      0.75      0.73        16\n",
      "           2       0.50      1.00      0.67         5\n",
      "           3       0.60      0.67      0.63         9\n",
      "           4       0.60      0.30      0.40        10\n",
      "           5       0.67      0.25      0.36         8\n",
      "           6       0.42      0.36      0.38        14\n",
      "           7       0.47      0.80      0.59        10\n",
      "           8       0.22      0.22      0.22         9\n",
      "           9       0.46      0.67      0.55         9\n",
      "\n",
      "    accuracy                           0.53       105\n",
      "   macro avg       0.54      0.55      0.51       105\n",
      "weighted avg       0.56      0.53      0.52       105\n",
      "\n"
     ]
    }
   ],
   "source": [
    "print(classification_report(y_test, predict))"
   ]
  },
  {
   "cell_type": "code",
   "execution_count": 11,
   "id": "9433cc53",
   "metadata": {},
   "outputs": [
    {
     "data": {
      "image/png": "[encoded data removed]",
      "text/plain": [
       "<Figure size 400x400 with 2 Axes>"
      ]
     },
     "metadata": {
      "needs_background": "light"
     },
     "output_type": "display_data"
    }
   ],
   "source": [
    "fig = plt.figure(figsize=(CLASS_COUNT // 2, CLASS_COUNT // 2), dpi=80)\n",
    "M = confusion_matrix(predict, y_test)\n",
    "plt.imshow(M, interpolation = 'nearest')\n",
    "plt.set_cmap('binary')\n",
    "plt.xticks(range(CLASS_COUNT))\n",
    "plt.yticks(range(CLASS_COUNT))\n",
    "plt.xlabel(\"true label\")\n",
    "plt.ylabel(\"predicted label\")\n",
    "plt.colorbar()\n",
    "pass"
   ]
  },
  {
   "cell_type": "code",
   "execution_count": null,
   "id": "5c484710",
   "metadata": {},
   "outputs": [],
   "source": []
  }
 ],
 "metadata": {
  "kernelspec": {
   "display_name": "Python 3 (ipykernel)",
   "language": "python",
   "name": "python3"
  },
  "language_info": {
   "codemirror_mode": {
    "name": "ipython",
    "version": 3
   },
   "file_extension": ".py",
   "mimetype": "text/x-python",
   "name": "python",
   "nbconvert_exporter": "python",
   "pygments_lexer": "ipython3",
   "version": "3.9.6"
  }
 },
 "nbformat": 4,
 "nbformat_minor": 5
}
