{
 "cells": [
  {
   "cell_type": "code",
   "execution_count": 1,
   "id": "867cbce7",
   "metadata": {},
   "outputs": [],
   "source": [
    "import os\n",
    "\n",
    "import cv2\n",
    "from matplotlib import pyplot as plt\n",
    "from tqdm.notebook import trange, tqdm\n",
    "import numpy as np\n",
    "import tensorflow as tf\n",
    "import random\n",
    "from sklearn import preprocessing\n",
    "from sklearn.model_selection import train_test_split\n",
    "from tensorflow.keras import layers, models, utils\n",
    "from sklearn.metrics import classification_report, confusion_matrix\n",
    "\n",
    "from data_utils import read_and_preprocess_data\n",
    "from model_utils import *"
   ]
  },
  {
   "cell_type": "markdown",
   "id": "d6e5fe95",
   "metadata": {},
   "source": [
    "## Settings"
   ]
  },
  {
   "cell_type": "code",
   "execution_count": 2,
   "id": "c83c0d21",
   "metadata": {},
   "outputs": [],
   "source": [
    "FRAME_SIZE = 128\n",
    "DATA_PATH = './2sec/data_2_fps'\n",
    "EPOCHS = 50"
   ]
  },
  {
   "cell_type": "markdown",
   "id": "68882663",
   "metadata": {},
   "source": [
    "## Data"
   ]
  },
  {
   "cell_type": "code",
   "execution_count": 3,
   "id": "41431d91",
   "metadata": {},
   "outputs": [
    {
     "name": "stdout",
     "output_type": "stream",
     "text": [
      "reading...\n",
      "BalanceBeam\n",
      "CricketShot\n",
      "Fencing\n",
      "HorseRiding\n",
      "LongJump\n",
      "RockClimbingIndoor\n",
      "SalsaSpin\n",
      "SkyDiving\n",
      "TableTennisShot\n",
      "WallPushups\n",
      "class count = 10\n",
      "med frame count = 4.0\n",
      "padding...\n",
      "Labels encoding...\n",
      "(500,) (500, 4, 128, 128, 3)\n",
      "norm...\n",
      "Train-val-test split...\n",
      "Train: (350, 4, 128, 128, 3) (350,)\n",
      "Val: (45, 4, 128, 128, 3) (45,)\n",
      "Test: (105, 4, 128, 128, 3) (105,)\n"
     ]
    }
   ],
   "source": [
    "CLASS_COUNT, FRAME_COUNT, FRAME_SIZE, X_train, X_val, X_test, y_train, y_val, y_test = read_and_preprocess_data(DATA_PATH, FRAME_SIZE)"
   ]
  },
  {
   "cell_type": "markdown",
   "id": "f99a5cc9",
   "metadata": {},
   "source": [
    "## Model"
   ]
  },
  {
   "cell_type": "code",
   "execution_count": 4,
   "id": "b687e133",
   "metadata": {},
   "outputs": [
    {
     "name": "stdout",
     "output_type": "stream",
     "text": [
      "Model: \"sequential\"\n",
      "_________________________________________________________________\n",
      " Layer (type)                Output Shape              Param #   \n",
      "=================================================================\n",
      " time_distributed (TimeDistr  (None, 4, 62, 62, 64)    4864      \n",
      " ibuted)                                                         \n",
      "                                                                 \n",
      " batch_normalization (BatchN  (None, 4, 62, 62, 64)    248       \n",
      " ormalization)                                                   \n",
      "                                                                 \n",
      " activation (Activation)     (None, 4, 62, 62, 64)     0         \n",
      "                                                                 \n",
      " time_distributed_1 (TimeDis  (None, 4, 30, 30, 32)    32800     \n",
      " tributed)                                                       \n",
      "                                                                 \n",
      " batch_normalization_1 (Batc  (None, 4, 30, 30, 32)    120       \n",
      " hNormalization)                                                 \n",
      "                                                                 \n",
      " activation_1 (Activation)   (None, 4, 30, 30, 32)     0         \n",
      "                                                                 \n",
      " time_distributed_2 (TimeDis  (None, 4, 14, 14, 32)    9248      \n",
      " tributed)                                                       \n",
      "                                                                 \n",
      " batch_normalization_2 (Batc  (None, 4, 14, 14, 32)    56        \n",
      " hNormalization)                                                 \n",
      "                                                                 \n",
      " activation_2 (Activation)   (None, 4, 14, 14, 32)     0         \n",
      "                                                                 \n",
      " time_distributed_3 (TimeDis  (None, 4, 12, 12, 16)    4624      \n",
      " tributed)                                                       \n",
      "                                                                 \n",
      " batch_normalization_3 (Batc  (None, 4, 12, 12, 16)    48        \n",
      " hNormalization)                                                 \n",
      "                                                                 \n",
      " activation_3 (Activation)   (None, 4, 12, 12, 16)     0         \n",
      "                                                                 \n",
      " time_distributed_4 (TimeDis  (None, 4, 6, 6, 16)      0         \n",
      " tributed)                                                       \n",
      "                                                                 \n",
      " time_distributed_5 (TimeDis  (None, 4, 576)           0         \n",
      " tributed)                                                       \n",
      "                                                                 \n",
      " simple_rnn (SimpleRNN)      (None, 16)                9488      \n",
      "                                                                 \n",
      " dense (Dense)               (None, 20)                340       \n",
      "                                                                 \n",
      " dropout (Dropout)           (None, 20)                0         \n",
      "                                                                 \n",
      " dense_1 (Dense)             (None, 10)                210       \n",
      "                                                                 \n",
      "=================================================================\n",
      "Total params: 62,046\n",
      "Trainable params: 61,810\n",
      "Non-trainable params: 236\n",
      "_________________________________________________________________\n"
     ]
    }
   ],
   "source": [
    "model = models.Sequential()\n",
    "model = add_2d_cnn_part(model, FRAME_COUNT, FRAME_SIZE)\n",
    "model.add(layers.TimeDistributed(layers.Flatten()))\n",
    "model = add_rnn_part(model, return_sequences=False)\n",
    "model = add_dense_part(model, CLASS_COUNT)\n",
    "\n",
    "model.summary()"
   ]
  },
  {
   "cell_type": "code",
   "execution_count": 5,
   "id": "963ff906",
   "metadata": {},
   "outputs": [],
   "source": [
    "model.compile(optimizer='adam',\n",
    "              loss=tf.keras.losses.SparseCategoricalCrossentropy(from_logits=False),\n",
    "              metrics=['accuracy'],\n",
    "              )\n"
   ]
  },
  {
   "cell_type": "code",
   "execution_count": 6,
   "id": "20cf9db7",
   "metadata": {},
   "outputs": [
    {
     "name": "stdout",
     "output_type": "stream",
     "text": [
      "Epoch 1/50\n",
      "11/11 [==============================] - 7s 166ms/step - loss: 2.3642 - accuracy: 0.0686 - val_loss: 2.3340 - val_accuracy: 0.0889\n",
      "Epoch 2/50\n",
      "11/11 [==============================] - 1s 80ms/step - loss: 2.2764 - accuracy: 0.1114 - val_loss: 2.3271 - val_accuracy: 0.0444\n",
      "Epoch 3/50\n",
      "11/11 [==============================] - 1s 80ms/step - loss: 2.2589 - accuracy: 0.1200 - val_loss: 2.2651 - val_accuracy: 0.2222\n",
      "Epoch 4/50\n",
      "11/11 [==============================] - 1s 79ms/step - loss: 2.2270 - accuracy: 0.1514 - val_loss: 2.2693 - val_accuracy: 0.1111\n",
      "Epoch 5/50\n",
      "11/11 [==============================] - 1s 80ms/step - loss: 2.2154 - accuracy: 0.1514 - val_loss: 2.2431 - val_accuracy: 0.1556\n",
      "Epoch 6/50\n",
      "11/11 [==============================] - 1s 81ms/step - loss: 2.1954 - accuracy: 0.1943 - val_loss: 2.2327 - val_accuracy: 0.1778\n",
      "Epoch 7/50\n",
      "11/11 [==============================] - 1s 79ms/step - loss: 2.1458 - accuracy: 0.1971 - val_loss: 2.2886 - val_accuracy: 0.1556\n",
      "Epoch 8/50\n",
      "11/11 [==============================] - 1s 79ms/step - loss: 2.1881 - accuracy: 0.2086 - val_loss: 2.2414 - val_accuracy: 0.1778\n",
      "Epoch 9/50\n",
      "11/11 [==============================] - 1s 80ms/step - loss: 2.1376 - accuracy: 0.2400 - val_loss: 2.1815 - val_accuracy: 0.2000\n",
      "Epoch 10/50\n",
      "11/11 [==============================] - 1s 79ms/step - loss: 2.1300 - accuracy: 0.2029 - val_loss: 2.1764 - val_accuracy: 0.1556\n",
      "Epoch 11/50\n",
      "11/11 [==============================] - 1s 80ms/step - loss: 2.0542 - accuracy: 0.2543 - val_loss: 2.2349 - val_accuracy: 0.2222\n",
      "Epoch 12/50\n",
      "11/11 [==============================] - 1s 79ms/step - loss: 2.0517 - accuracy: 0.2457 - val_loss: 2.1565 - val_accuracy: 0.1333\n",
      "Epoch 13/50\n",
      "11/11 [==============================] - 1s 79ms/step - loss: 2.0090 - accuracy: 0.2943 - val_loss: 2.0834 - val_accuracy: 0.2889\n",
      "Epoch 14/50\n",
      "11/11 [==============================] - 1s 80ms/step - loss: 1.9397 - accuracy: 0.3343 - val_loss: 2.0347 - val_accuracy: 0.3333\n",
      "Epoch 15/50\n",
      "11/11 [==============================] - 1s 80ms/step - loss: 1.8875 - accuracy: 0.3314 - val_loss: 1.9897 - val_accuracy: 0.4000\n",
      "Epoch 16/50\n",
      "11/11 [==============================] - 1s 80ms/step - loss: 1.8313 - accuracy: 0.3829 - val_loss: 1.9813 - val_accuracy: 0.4000\n",
      "Epoch 17/50\n",
      "11/11 [==============================] - 1s 79ms/step - loss: 1.7927 - accuracy: 0.4086 - val_loss: 1.9650 - val_accuracy: 0.4000\n",
      "Epoch 18/50\n",
      "11/11 [==============================] - 1s 78ms/step - loss: 1.7344 - accuracy: 0.4629 - val_loss: 1.9824 - val_accuracy: 0.4000\n",
      "Epoch 19/50\n",
      "11/11 [==============================] - 1s 80ms/step - loss: 1.7388 - accuracy: 0.4229 - val_loss: 1.9434 - val_accuracy: 0.4000\n",
      "Epoch 20/50\n",
      "11/11 [==============================] - 1s 78ms/step - loss: 1.7314 - accuracy: 0.4314 - val_loss: 1.9827 - val_accuracy: 0.3333\n",
      "Epoch 21/50\n",
      "11/11 [==============================] - 1s 80ms/step - loss: 1.6208 - accuracy: 0.4657 - val_loss: 1.8267 - val_accuracy: 0.3778\n",
      "Epoch 22/50\n",
      "11/11 [==============================] - 1s 78ms/step - loss: 1.6079 - accuracy: 0.4629 - val_loss: 1.8362 - val_accuracy: 0.4667\n",
      "Epoch 23/50\n",
      "11/11 [==============================] - 1s 78ms/step - loss: 1.5008 - accuracy: 0.5429 - val_loss: 1.8684 - val_accuracy: 0.4889\n",
      "Epoch 24/50\n",
      "11/11 [==============================] - 1s 79ms/step - loss: 1.5084 - accuracy: 0.5143 - val_loss: 1.7276 - val_accuracy: 0.5111\n",
      "Epoch 25/50\n",
      "11/11 [==============================] - 1s 79ms/step - loss: 1.3833 - accuracy: 0.5829 - val_loss: 1.7618 - val_accuracy: 0.4444\n",
      "Epoch 26/50\n",
      "11/11 [==============================] - 1s 79ms/step - loss: 1.4102 - accuracy: 0.5486 - val_loss: 1.7508 - val_accuracy: 0.4222\n",
      "Epoch 27/50\n",
      "11/11 [==============================] - 1s 79ms/step - loss: 1.2833 - accuracy: 0.5971 - val_loss: 1.6396 - val_accuracy: 0.5111\n",
      "Epoch 28/50\n",
      "11/11 [==============================] - 1s 79ms/step - loss: 1.3124 - accuracy: 0.5886 - val_loss: 1.6706 - val_accuracy: 0.5556\n",
      "Epoch 29/50\n",
      "11/11 [==============================] - 1s 79ms/step - loss: 1.2153 - accuracy: 0.6000 - val_loss: 1.6703 - val_accuracy: 0.3778\n",
      "Epoch 30/50\n",
      "11/11 [==============================] - 1s 80ms/step - loss: 1.1495 - accuracy: 0.6343 - val_loss: 1.6089 - val_accuracy: 0.4444\n",
      "Epoch 31/50\n",
      "11/11 [==============================] - 1s 78ms/step - loss: 1.0764 - accuracy: 0.6800 - val_loss: 1.6629 - val_accuracy: 0.4222\n",
      "Epoch 32/50\n",
      "11/11 [==============================] - 1s 79ms/step - loss: 1.0681 - accuracy: 0.6943 - val_loss: 1.6872 - val_accuracy: 0.4444\n",
      "Epoch 33/50\n",
      "11/11 [==============================] - 1s 78ms/step - loss: 0.9091 - accuracy: 0.7257 - val_loss: 1.7237 - val_accuracy: 0.4222\n",
      "Epoch 34/50\n",
      "11/11 [==============================] - 1s 78ms/step - loss: 0.9596 - accuracy: 0.7200 - val_loss: 1.5575 - val_accuracy: 0.4889\n",
      "Epoch 35/50\n",
      "11/11 [==============================] - 1s 79ms/step - loss: 0.8938 - accuracy: 0.7343 - val_loss: 1.5386 - val_accuracy: 0.4667\n",
      "Epoch 36/50\n",
      "11/11 [==============================] - 1s 82ms/step - loss: 0.8761 - accuracy: 0.7229 - val_loss: 1.5787 - val_accuracy: 0.4667\n",
      "Epoch 37/50\n",
      "11/11 [==============================] - 1s 80ms/step - loss: 0.8543 - accuracy: 0.7286 - val_loss: 1.4840 - val_accuracy: 0.5556\n",
      "Epoch 38/50\n",
      "11/11 [==============================] - 1s 79ms/step - loss: 0.7879 - accuracy: 0.7543 - val_loss: 1.5210 - val_accuracy: 0.4667\n",
      "Epoch 39/50\n",
      "11/11 [==============================] - 1s 78ms/step - loss: 0.7553 - accuracy: 0.7886 - val_loss: 1.6337 - val_accuracy: 0.5111\n",
      "Epoch 40/50\n",
      "11/11 [==============================] - 1s 78ms/step - loss: 0.7233 - accuracy: 0.7886 - val_loss: 1.4328 - val_accuracy: 0.5556\n",
      "Epoch 41/50\n",
      "11/11 [==============================] - 1s 80ms/step - loss: 0.6365 - accuracy: 0.8229 - val_loss: 1.4137 - val_accuracy: 0.5111\n",
      "Epoch 42/50\n",
      "11/11 [==============================] - 1s 77ms/step - loss: 0.6347 - accuracy: 0.8514 - val_loss: 1.5822 - val_accuracy: 0.4667\n",
      "Epoch 43/50\n",
      "11/11 [==============================] - 1s 79ms/step - loss: 0.6140 - accuracy: 0.8114 - val_loss: 1.5535 - val_accuracy: 0.5778\n",
      "Epoch 44/50\n",
      "11/11 [==============================] - 1s 79ms/step - loss: 0.5843 - accuracy: 0.8343 - val_loss: 1.5328 - val_accuracy: 0.5556\n",
      "Epoch 45/50\n",
      "11/11 [==============================] - 1s 77ms/step - loss: 0.6148 - accuracy: 0.8371 - val_loss: 1.4620 - val_accuracy: 0.4889\n",
      "Epoch 46/50\n",
      "11/11 [==============================] - 1s 81ms/step - loss: 0.5563 - accuracy: 0.8571 - val_loss: 1.3809 - val_accuracy: 0.6000\n",
      "Epoch 47/50\n",
      "11/11 [==============================] - 1s 83ms/step - loss: 0.5456 - accuracy: 0.8286 - val_loss: 1.3588 - val_accuracy: 0.6222\n",
      "Epoch 48/50\n",
      "11/11 [==============================] - 1s 79ms/step - loss: 0.4956 - accuracy: 0.8486 - val_loss: 1.5289 - val_accuracy: 0.6000\n",
      "Epoch 49/50\n",
      "11/11 [==============================] - 1s 79ms/step - loss: 0.4901 - accuracy: 0.8686 - val_loss: 1.5939 - val_accuracy: 0.6889\n",
      "Epoch 50/50\n",
      "11/11 [==============================] - 1s 67ms/step - loss: 0.4234 - accuracy: 0.8857 - val_loss: 1.5294 - val_accuracy: 0.6444\n"
     ]
    }
   ],
   "source": [
    "history = model.fit(X_train, y_train, epochs = EPOCHS, validation_data = (X_val, y_val), callbacks=[early_stopping])"
   ]
  },
  {
   "cell_type": "markdown",
   "id": "57ec1982",
   "metadata": {},
   "source": [
    "### Train & validation Loss"
   ]
  },
  {
   "cell_type": "code",
   "execution_count": 7,
   "id": "b6c8d1db",
   "metadata": {},
   "outputs": [
    {
     "data": {
      "text/plain": [
       "<matplotlib.legend.Legend at 0x1bf284a3130>"
      ]
     },
     "execution_count": 7,
     "metadata": {},
     "output_type": "execute_result"
    },
    {
     "data": {
      "image/png": "[encoded data removed]",
      "text/plain": [
       "<Figure size 432x288 with 1 Axes>"
      ]
     },
     "metadata": {
      "needs_background": "light"
     },
     "output_type": "display_data"
    }
   ],
   "source": [
    "plt.plot(history.history['loss'], label='loss')\n",
    "plt.plot(history.history['val_loss'], label = 'val_loss')\n",
    "plt.xlabel('Epoch')\n",
    "plt.ylabel('Loss')\n",
    "plt.ylim([0.0, 3])\n",
    "plt.legend(loc='lower right')"
   ]
  },
  {
   "cell_type": "markdown",
   "id": "7af69023",
   "metadata": {},
   "source": [
    "### Train & validation Accuracy"
   ]
  },
  {
   "cell_type": "code",
   "execution_count": 8,
   "id": "0bb8dfca",
   "metadata": {},
   "outputs": [
    {
     "data": {
      "text/plain": [
       "<matplotlib.legend.Legend at 0x1bf67fd5910>"
      ]
     },
     "execution_count": 8,
     "metadata": {},
     "output_type": "execute_result"
    },
    {
     "data": {
      "image/png": "[encoded data removed]",
      "text/plain": [
       "<Figure size 432x288 with 1 Axes>"
      ]
     },
     "metadata": {
      "needs_background": "light"
     },
     "output_type": "display_data"
    }
   ],
   "source": [
    "plt.plot(history.history['accuracy'], label='accuracy')\n",
    "plt.plot(history.history['val_accuracy'], label = 'val_accuracy')\n",
    "plt.xlabel('Epoch')\n",
    "plt.ylabel('Accuracy')\n",
    "plt.ylim([0.0, 1])\n",
    "plt.legend(loc='lower right')"
   ]
  },
  {
   "cell_type": "markdown",
   "id": "9b30546c",
   "metadata": {},
   "source": [
    "## Test"
   ]
  },
  {
   "cell_type": "code",
   "execution_count": 9,
   "id": "cf4c662a",
   "metadata": {},
   "outputs": [
    {
     "name": "stdout",
     "output_type": "stream",
     "text": [
      "4/4 [==============================] - 0s 26ms/step\n"
     ]
    }
   ],
   "source": [
    "predict = np.argmax(model.predict(X_test), axis=1)"
   ]
  },
  {
   "cell_type": "code",
   "execution_count": 10,
   "id": "6ec7a04a",
   "metadata": {},
   "outputs": [
    {
     "name": "stdout",
     "output_type": "stream",
     "text": [
      "              precision    recall  f1-score   support\n",
      "\n",
      "           0       0.77      0.67      0.71        15\n",
      "           1       0.77      0.62      0.69        16\n",
      "           2       0.33      0.60      0.43         5\n",
      "           3       0.42      0.56      0.48         9\n",
      "           4       0.29      0.20      0.24        10\n",
      "           5       0.67      0.50      0.57         8\n",
      "           6       0.64      0.50      0.56        14\n",
      "           7       0.71      1.00      0.83        10\n",
      "           8       0.50      0.44      0.47         9\n",
      "           9       0.58      0.78      0.67         9\n",
      "\n",
      "    accuracy                           0.59       105\n",
      "   macro avg       0.57      0.59      0.56       105\n",
      "weighted avg       0.60      0.59      0.59       105\n",
      "\n"
     ]
    }
   ],
   "source": [
    "print(classification_report(y_test, predict))"
   ]
  },
  {
   "cell_type": "code",
   "execution_count": 11,
   "id": "9433cc53",
   "metadata": {},
   "outputs": [
    {
     "data": {
      "image/png": "[encoded data removed]",
      "text/plain": [
       "<Figure size 400x400 with 2 Axes>"
      ]
     },
     "metadata": {
      "needs_background": "light"
     },
     "output_type": "display_data"
    }
   ],
   "source": [
    "fig = plt.figure(figsize=(CLASS_COUNT // 2, CLASS_COUNT // 2), dpi=80)\n",
    "M = confusion_matrix(predict, y_test)\n",
    "plt.imshow(M, interpolation = 'nearest')\n",
    "plt.set_cmap('binary')\n",
    "plt.xticks(range(CLASS_COUNT))\n",
    "plt.yticks(range(CLASS_COUNT))\n",
    "plt.xlabel(\"true label\")\n",
    "plt.ylabel(\"predicted label\")\n",
    "plt.colorbar()\n",
    "pass"
   ]
  },
  {
   "cell_type": "code",
   "execution_count": null,
   "id": "5c484710",
   "metadata": {},
   "outputs": [],
   "source": []
  }
 ],
 "metadata": {
  "kernelspec": {
   "display_name": "Python 3 (ipykernel)",
   "language": "python",
   "name": "python3"
  },
  "language_info": {
   "codemirror_mode": {
    "name": "ipython",
    "version": 3
   },
   "file_extension": ".py",
   "mimetype": "text/x-python",
   "name": "python",
   "nbconvert_exporter": "python",
   "pygments_lexer": "ipython3",
   "version": "3.9.6"
  }
 },
 "nbformat": 4,
 "nbformat_minor": 5
}
