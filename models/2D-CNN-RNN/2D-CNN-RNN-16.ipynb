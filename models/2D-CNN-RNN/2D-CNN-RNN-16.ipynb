{
 "cells": [
  {
   "cell_type": "code",
   "execution_count": 1,
   "id": "867cbce7",
   "metadata": {},
   "outputs": [],
   "source": [
    "import os\n",
    "\n",
    "import cv2\n",
    "from matplotlib import pyplot as plt\n",
    "from tqdm.notebook import trange, tqdm\n",
    "import numpy as np\n",
    "import tensorflow as tf\n",
    "import random\n",
    "from sklearn import preprocessing\n",
    "from sklearn.model_selection import train_test_split\n",
    "from tensorflow.keras import layers, models, utils\n",
    "from sklearn.metrics import classification_report, confusion_matrix\n",
    "\n",
    "from data_utils import read_and_preprocess_data\n",
    "from model_utils import *"
   ]
  },
  {
   "cell_type": "markdown",
   "id": "d6e5fe95",
   "metadata": {},
   "source": [
    "## Settings"
   ]
  },
  {
   "cell_type": "code",
   "execution_count": 2,
   "id": "c83c0d21",
   "metadata": {},
   "outputs": [],
   "source": [
    "FRAME_SIZE = 128\n",
    "DATA_PATH = './2sec/data_12_fps'\n",
    "EPOCHS = 50"
   ]
  },
  {
   "cell_type": "markdown",
   "id": "68882663",
   "metadata": {},
   "source": [
    "## Data"
   ]
  },
  {
   "cell_type": "code",
   "execution_count": 3,
   "id": "41431d91",
   "metadata": {},
   "outputs": [
    {
     "name": "stdout",
     "output_type": "stream",
     "text": [
      "reading...\n",
      "BalanceBeam\n",
      "CricketShot\n",
      "Fencing\n",
      "HorseRiding\n",
      "LongJump\n",
      "RockClimbingIndoor\n",
      "SalsaSpin\n",
      "SkyDiving\n",
      "TableTennisShot\n",
      "WallPushups\n",
      "class count = 10\n",
      "med frame count = 24.0\n",
      "padding...\n",
      "Labels encoding...\n",
      "(500,) (500, 24, 128, 128, 3)\n",
      "norm...\n",
      "Train-val-test split...\n",
      "Train: (350, 24, 128, 128, 3) (350,)\n",
      "Val: (45, 24, 128, 128, 3) (45,)\n",
      "Test: (105, 24, 128, 128, 3) (105,)\n"
     ]
    }
   ],
   "source": [
    "CLASS_COUNT, FRAME_COUNT, FRAME_SIZE, X_train, X_val, X_test, y_train, y_val, y_test = read_and_preprocess_data(DATA_PATH, FRAME_SIZE)"
   ]
  },
  {
   "cell_type": "markdown",
   "id": "f99a5cc9",
   "metadata": {},
   "source": [
    "## Model"
   ]
  },
  {
   "cell_type": "code",
   "execution_count": 4,
   "id": "b687e133",
   "metadata": {},
   "outputs": [
    {
     "name": "stdout",
     "output_type": "stream",
     "text": [
      "Model: \"sequential\"\n",
      "_________________________________________________________________\n",
      " Layer (type)                Output Shape              Param #   \n",
      "=================================================================\n",
      " time_distributed (TimeDistr  (None, 24, 62, 62, 64)   4864      \n",
      " ibuted)                                                         \n",
      "                                                                 \n",
      " batch_normalization (BatchN  (None, 24, 62, 62, 64)   248       \n",
      " ormalization)                                                   \n",
      "                                                                 \n",
      " activation (Activation)     (None, 24, 62, 62, 64)    0         \n",
      "                                                                 \n",
      " time_distributed_1 (TimeDis  (None, 24, 30, 30, 32)   32800     \n",
      " tributed)                                                       \n",
      "                                                                 \n",
      " batch_normalization_1 (Batc  (None, 24, 30, 30, 32)   120       \n",
      " hNormalization)                                                 \n",
      "                                                                 \n",
      " activation_1 (Activation)   (None, 24, 30, 30, 32)    0         \n",
      "                                                                 \n",
      " time_distributed_2 (TimeDis  (None, 24, 14, 14, 32)   9248      \n",
      " tributed)                                                       \n",
      "                                                                 \n",
      " batch_normalization_2 (Batc  (None, 24, 14, 14, 32)   56        \n",
      " hNormalization)                                                 \n",
      "                                                                 \n",
      " activation_2 (Activation)   (None, 24, 14, 14, 32)    0         \n",
      "                                                                 \n",
      " time_distributed_3 (TimeDis  (None, 24, 12, 12, 16)   4624      \n",
      " tributed)                                                       \n",
      "                                                                 \n",
      " batch_normalization_3 (Batc  (None, 24, 12, 12, 16)   48        \n",
      " hNormalization)                                                 \n",
      "                                                                 \n",
      " activation_3 (Activation)   (None, 24, 12, 12, 16)    0         \n",
      "                                                                 \n",
      " time_distributed_4 (TimeDis  (None, 24, 6, 6, 16)     0         \n",
      " tributed)                                                       \n",
      "                                                                 \n",
      " time_distributed_5 (TimeDis  (None, 24, 576)          0         \n",
      " tributed)                                                       \n",
      "                                                                 \n",
      " simple_rnn (SimpleRNN)      (None, 16)                9488      \n",
      "                                                                 \n",
      " dense (Dense)               (None, 20)                340       \n",
      "                                                                 \n",
      " dropout (Dropout)           (None, 20)                0         \n",
      "                                                                 \n",
      " dense_1 (Dense)             (None, 10)                210       \n",
      "                                                                 \n",
      "=================================================================\n",
      "Total params: 62,046\n",
      "Trainable params: 61,810\n",
      "Non-trainable params: 236\n",
      "_________________________________________________________________\n"
     ]
    }
   ],
   "source": [
    "model = models.Sequential()\n",
    "model = add_2d_cnn_part(model, FRAME_COUNT, FRAME_SIZE)\n",
    "model.add(layers.TimeDistributed(layers.Flatten()))\n",
    "model = add_rnn_part(model, return_sequences=False)\n",
    "model = add_dense_part(model, CLASS_COUNT)\n",
    "\n",
    "model.summary()"
   ]
  },
  {
   "cell_type": "code",
   "execution_count": 5,
   "id": "963ff906",
   "metadata": {},
   "outputs": [],
   "source": [
    "model.compile(optimizer='adam',\n",
    "              loss=tf.keras.losses.SparseCategoricalCrossentropy(from_logits=False),\n",
    "              metrics=['accuracy'],\n",
    "              )\n"
   ]
  },
  {
   "cell_type": "code",
   "execution_count": 6,
   "id": "20cf9db7",
   "metadata": {},
   "outputs": [
    {
     "name": "stdout",
     "output_type": "stream",
     "text": [
      "Epoch 1/50\n",
      "11/11 [==============================] - 14s 679ms/step - loss: 2.3549 - accuracy: 0.0800 - val_loss: 2.3023 - val_accuracy: 0.0667\n",
      "Epoch 2/50\n",
      "11/11 [==============================] - 4s 403ms/step - loss: 2.3189 - accuracy: 0.0914 - val_loss: 2.3003 - val_accuracy: 0.0889\n",
      "Epoch 3/50\n",
      "11/11 [==============================] - 4s 400ms/step - loss: 2.2892 - accuracy: 0.1200 - val_loss: 2.2992 - val_accuracy: 0.0444\n",
      "Epoch 4/50\n",
      "11/11 [==============================] - 4s 401ms/step - loss: 2.2790 - accuracy: 0.1343 - val_loss: 2.2909 - val_accuracy: 0.0000e+00\n",
      "Epoch 5/50\n",
      "11/11 [==============================] - 4s 403ms/step - loss: 2.2758 - accuracy: 0.1200 - val_loss: 2.2636 - val_accuracy: 0.1778\n",
      "Epoch 6/50\n",
      "11/11 [==============================] - 4s 408ms/step - loss: 2.2344 - accuracy: 0.1286 - val_loss: 2.2469 - val_accuracy: 0.1333\n",
      "Epoch 7/50\n",
      "11/11 [==============================] - 4s 404ms/step - loss: 2.2135 - accuracy: 0.1829 - val_loss: 2.2153 - val_accuracy: 0.2222\n",
      "Epoch 8/50\n",
      "11/11 [==============================] - 4s 403ms/step - loss: 2.1625 - accuracy: 0.2400 - val_loss: 2.2098 - val_accuracy: 0.2222\n",
      "Epoch 9/50\n",
      "11/11 [==============================] - 4s 405ms/step - loss: 2.1687 - accuracy: 0.2000 - val_loss: 2.2170 - val_accuracy: 0.1778\n",
      "Epoch 10/50\n",
      "11/11 [==============================] - 4s 408ms/step - loss: 2.1258 - accuracy: 0.2429 - val_loss: 2.1956 - val_accuracy: 0.1778\n",
      "Epoch 11/50\n",
      "11/11 [==============================] - 4s 404ms/step - loss: 2.0839 - accuracy: 0.2714 - val_loss: 2.1529 - val_accuracy: 0.2444\n",
      "Epoch 12/50\n",
      "11/11 [==============================] - 5s 415ms/step - loss: 2.0417 - accuracy: 0.2686 - val_loss: 2.1217 - val_accuracy: 0.3111\n",
      "Epoch 13/50\n",
      "11/11 [==============================] - 4s 402ms/step - loss: 2.0127 - accuracy: 0.3143 - val_loss: 2.1455 - val_accuracy: 0.2222\n",
      "Epoch 14/50\n",
      "11/11 [==============================] - 4s 408ms/step - loss: 2.0439 - accuracy: 0.2829 - val_loss: 2.1326 - val_accuracy: 0.2667\n",
      "Epoch 15/50\n",
      "11/11 [==============================] - 4s 402ms/step - loss: 2.0118 - accuracy: 0.2714 - val_loss: 2.0676 - val_accuracy: 0.2444\n",
      "Epoch 16/50\n",
      "11/11 [==============================] - 4s 402ms/step - loss: 1.9781 - accuracy: 0.3000 - val_loss: 2.0447 - val_accuracy: 0.2889\n",
      "Epoch 17/50\n",
      "11/11 [==============================] - 5s 414ms/step - loss: 1.9879 - accuracy: 0.3086 - val_loss: 2.0252 - val_accuracy: 0.1556\n",
      "Epoch 18/50\n",
      "11/11 [==============================] - 4s 410ms/step - loss: 1.9164 - accuracy: 0.3457 - val_loss: 1.9702 - val_accuracy: 0.2889\n",
      "Epoch 19/50\n",
      "11/11 [==============================] - 5s 414ms/step - loss: 1.8576 - accuracy: 0.3686 - val_loss: 1.9603 - val_accuracy: 0.3556\n",
      "Epoch 20/50\n",
      "11/11 [==============================] - 5s 413ms/step - loss: 1.8783 - accuracy: 0.4000 - val_loss: 1.9065 - val_accuracy: 0.3333\n",
      "Epoch 21/50\n",
      "11/11 [==============================] - 4s 402ms/step - loss: 1.8204 - accuracy: 0.3686 - val_loss: 1.8813 - val_accuracy: 0.3333\n",
      "Epoch 22/50\n",
      "11/11 [==============================] - 4s 401ms/step - loss: 1.7600 - accuracy: 0.4057 - val_loss: 1.8600 - val_accuracy: 0.3556\n",
      "Epoch 23/50\n",
      "11/11 [==============================] - 4s 407ms/step - loss: 1.7426 - accuracy: 0.4000 - val_loss: 1.8993 - val_accuracy: 0.3556\n",
      "Epoch 24/50\n",
      "11/11 [==============================] - 5s 415ms/step - loss: 1.7137 - accuracy: 0.4086 - val_loss: 1.8216 - val_accuracy: 0.4000\n",
      "Epoch 25/50\n",
      "11/11 [==============================] - 4s 407ms/step - loss: 1.6916 - accuracy: 0.4257 - val_loss: 1.7896 - val_accuracy: 0.3778\n",
      "Epoch 26/50\n",
      "11/11 [==============================] - 4s 409ms/step - loss: 1.5732 - accuracy: 0.4743 - val_loss: 1.7204 - val_accuracy: 0.4000\n",
      "Epoch 27/50\n",
      "11/11 [==============================] - 4s 402ms/step - loss: 1.5522 - accuracy: 0.4914 - val_loss: 1.7611 - val_accuracy: 0.4000\n",
      "Epoch 28/50\n",
      "11/11 [==============================] - 4s 402ms/step - loss: 1.4779 - accuracy: 0.5114 - val_loss: 1.6664 - val_accuracy: 0.4444\n",
      "Epoch 29/50\n",
      "11/11 [==============================] - 4s 407ms/step - loss: 1.4744 - accuracy: 0.5143 - val_loss: 1.7289 - val_accuracy: 0.4000\n",
      "Epoch 30/50\n",
      "11/11 [==============================] - 4s 407ms/step - loss: 1.4279 - accuracy: 0.5429 - val_loss: 1.6998 - val_accuracy: 0.3778\n",
      "Epoch 31/50\n",
      "11/11 [==============================] - 4s 402ms/step - loss: 1.4235 - accuracy: 0.5000 - val_loss: 1.6365 - val_accuracy: 0.4000\n",
      "Epoch 32/50\n",
      "11/11 [==============================] - 4s 403ms/step - loss: 1.3455 - accuracy: 0.5086 - val_loss: 1.5946 - val_accuracy: 0.4000\n",
      "Epoch 33/50\n",
      "11/11 [==============================] - 4s 402ms/step - loss: 1.2915 - accuracy: 0.6029 - val_loss: 1.6014 - val_accuracy: 0.3778\n",
      "Epoch 34/50\n",
      "11/11 [==============================] - 4s 404ms/step - loss: 1.3255 - accuracy: 0.5400 - val_loss: 1.5537 - val_accuracy: 0.4444\n",
      "Epoch 35/50\n",
      "11/11 [==============================] - 4s 402ms/step - loss: 1.2588 - accuracy: 0.5714 - val_loss: 1.5508 - val_accuracy: 0.4222\n",
      "Epoch 36/50\n",
      "11/11 [==============================] - 4s 411ms/step - loss: 1.2300 - accuracy: 0.5943 - val_loss: 1.5461 - val_accuracy: 0.4222\n",
      "Epoch 37/50\n",
      "11/11 [==============================] - 4s 370ms/step - loss: 1.1509 - accuracy: 0.6143 - val_loss: 1.5708 - val_accuracy: 0.4222\n",
      "Epoch 38/50\n",
      "11/11 [==============================] - 4s 399ms/step - loss: 1.1386 - accuracy: 0.6286 - val_loss: 1.5204 - val_accuracy: 0.4444\n",
      "Epoch 39/50\n",
      "11/11 [==============================] - 4s 404ms/step - loss: 1.1032 - accuracy: 0.6229 - val_loss: 1.5351 - val_accuracy: 0.4444\n",
      "Epoch 40/50\n",
      "11/11 [==============================] - 4s 405ms/step - loss: 1.0148 - accuracy: 0.6771 - val_loss: 1.4245 - val_accuracy: 0.4889\n",
      "Epoch 41/50\n",
      "11/11 [==============================] - 4s 410ms/step - loss: 1.0209 - accuracy: 0.6686 - val_loss: 1.4926 - val_accuracy: 0.4000\n",
      "Epoch 42/50\n",
      "11/11 [==============================] - 4s 406ms/step - loss: 0.9575 - accuracy: 0.6914 - val_loss: 1.4481 - val_accuracy: 0.5111\n",
      "Epoch 43/50\n",
      "11/11 [==============================] - 4s 403ms/step - loss: 0.9076 - accuracy: 0.7029 - val_loss: 1.4988 - val_accuracy: 0.4444\n",
      "Epoch 44/50\n",
      "11/11 [==============================] - 4s 404ms/step - loss: 0.9319 - accuracy: 0.6686 - val_loss: 1.3197 - val_accuracy: 0.5556\n",
      "Epoch 45/50\n",
      "11/11 [==============================] - 4s 409ms/step - loss: 0.9132 - accuracy: 0.6943 - val_loss: 1.4367 - val_accuracy: 0.5333\n",
      "Epoch 46/50\n",
      "11/11 [==============================] - 4s 402ms/step - loss: 0.8473 - accuracy: 0.7314 - val_loss: 1.4237 - val_accuracy: 0.4667\n",
      "Epoch 47/50\n",
      "11/11 [==============================] - 4s 402ms/step - loss: 0.8364 - accuracy: 0.7114 - val_loss: 1.3903 - val_accuracy: 0.5778\n",
      "Epoch 48/50\n",
      "11/11 [==============================] - 4s 408ms/step - loss: 0.8255 - accuracy: 0.7114 - val_loss: 1.3954 - val_accuracy: 0.5556\n",
      "Epoch 49/50\n",
      "11/11 [==============================] - 4s 405ms/step - loss: 0.7382 - accuracy: 0.7686 - val_loss: 1.4057 - val_accuracy: 0.5333\n"
     ]
    }
   ],
   "source": [
    "history = model.fit(X_train, y_train, epochs = EPOCHS, validation_data = (X_val, y_val), callbacks=[early_stopping])"
   ]
  },
  {
   "cell_type": "markdown",
   "id": "57ec1982",
   "metadata": {},
   "source": [
    "### Train & validation Loss"
   ]
  },
  {
   "cell_type": "code",
   "execution_count": 7,
   "id": "b6c8d1db",
   "metadata": {},
   "outputs": [
    {
     "data": {
      "text/plain": [
       "<matplotlib.legend.Legend at 0x1bdbd0c35e0>"
      ]
     },
     "execution_count": 7,
     "metadata": {},
     "output_type": "execute_result"
    },
    {
     "data": {
      "image/png": "[encoded data removed]",
      "text/plain": [
       "<Figure size 432x288 with 1 Axes>"
      ]
     },
     "metadata": {
      "needs_background": "light"
     },
     "output_type": "display_data"
    }
   ],
   "source": [
    "plt.plot(history.history['loss'], label='loss')\n",
    "plt.plot(history.history['val_loss'], label = 'val_loss')\n",
    "plt.xlabel('Epoch')\n",
    "plt.ylabel('Loss')\n",
    "plt.ylim([0.0, 3])\n",
    "plt.legend(loc='lower right')"
   ]
  },
  {
   "cell_type": "markdown",
   "id": "7af69023",
   "metadata": {},
   "source": [
    "### Train & validation Accuracy"
   ]
  },
  {
   "cell_type": "code",
   "execution_count": 8,
   "id": "0bb8dfca",
   "metadata": {},
   "outputs": [
    {
     "data": {
      "text/plain": [
       "<matplotlib.legend.Legend at 0x1c0cf4c3550>"
      ]
     },
     "execution_count": 8,
     "metadata": {},
     "output_type": "execute_result"
    },
    {
     "data": {
      "image/png": "[encoded data removed]",
      "text/plain": [
       "<Figure size 432x288 with 1 Axes>"
      ]
     },
     "metadata": {
      "needs_background": "light"
     },
     "output_type": "display_data"
    }
   ],
   "source": [
    "plt.plot(history.history['accuracy'], label='accuracy')\n",
    "plt.plot(history.history['val_accuracy'], label = 'val_accuracy')\n",
    "plt.xlabel('Epoch')\n",
    "plt.ylabel('Accuracy')\n",
    "plt.ylim([0.0, 1])\n",
    "plt.legend(loc='lower right')"
   ]
  },
  {
   "cell_type": "markdown",
   "id": "9b30546c",
   "metadata": {},
   "source": [
    "## Test"
   ]
  },
  {
   "cell_type": "code",
   "execution_count": 9,
   "id": "cf4c662a",
   "metadata": {},
   "outputs": [
    {
     "name": "stdout",
     "output_type": "stream",
     "text": [
      "4/4 [==============================] - 1s 108ms/step\n"
     ]
    }
   ],
   "source": [
    "predict = np.argmax(model.predict(X_test), axis=1)"
   ]
  },
  {
   "cell_type": "code",
   "execution_count": 10,
   "id": "6ec7a04a",
   "metadata": {},
   "outputs": [
    {
     "name": "stdout",
     "output_type": "stream",
     "text": [
      "              precision    recall  f1-score   support\n",
      "\n",
      "           0       0.56      0.67      0.61        15\n",
      "           1       0.56      0.31      0.40        16\n",
      "           2       0.18      0.40      0.25         5\n",
      "           3       0.43      0.67      0.52         9\n",
      "           4       0.50      0.60      0.55        10\n",
      "           5       0.33      0.25      0.29         8\n",
      "           6       0.71      0.36      0.48        14\n",
      "           7       0.60      0.30      0.40        10\n",
      "           8       0.16      0.33      0.21         9\n",
      "           9       0.75      0.33      0.46         9\n",
      "\n",
      "    accuracy                           0.43       105\n",
      "   macro avg       0.48      0.42      0.42       105\n",
      "weighted avg       0.51      0.43      0.44       105\n",
      "\n"
     ]
    }
   ],
   "source": [
    "print(classification_report(y_test, predict))"
   ]
  },
  {
   "cell_type": "code",
   "execution_count": 11,
   "id": "9433cc53",
   "metadata": {},
   "outputs": [
    {
     "data": {
      "image/png": "[encoded data removed]",
      "text/plain": [
       "<Figure size 400x400 with 2 Axes>"
      ]
     },
     "metadata": {
      "needs_background": "light"
     },
     "output_type": "display_data"
    }
   ],
   "source": [
    "fig = plt.figure(figsize=(CLASS_COUNT // 2, CLASS_COUNT // 2), dpi=80)\n",
    "M = confusion_matrix(predict, y_test)\n",
    "plt.imshow(M, interpolation = 'nearest')\n",
    "plt.set_cmap('binary')\n",
    "plt.xticks(range(CLASS_COUNT))\n",
    "plt.yticks(range(CLASS_COUNT))\n",
    "plt.xlabel(\"true label\")\n",
    "plt.ylabel(\"predicted label\")\n",
    "plt.colorbar()\n",
    "pass"
   ]
  },
  {
   "cell_type": "code",
   "execution_count": null,
   "id": "5c484710",
   "metadata": {},
   "outputs": [],
   "source": []
  }
 ],
 "metadata": {
  "kernelspec": {
   "display_name": "Python 3 (ipykernel)",
   "language": "python",
   "name": "python3"
  },
  "language_info": {
   "codemirror_mode": {
    "name": "ipython",
    "version": 3
   },
   "file_extension": ".py",
   "mimetype": "text/x-python",
   "name": "python",
   "nbconvert_exporter": "python",
   "pygments_lexer": "ipython3",
   "version": "3.9.6"
  }
 },
 "nbformat": 4,
 "nbformat_minor": 5
}
