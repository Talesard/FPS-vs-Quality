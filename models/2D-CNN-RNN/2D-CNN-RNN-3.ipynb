{
 "cells": [
  {
   "cell_type": "code",
   "execution_count": 1,
   "id": "867cbce7",
   "metadata": {},
   "outputs": [],
   "source": [
    "import os\n",
    "\n",
    "import cv2\n",
    "from matplotlib import pyplot as plt\n",
    "from tqdm.notebook import trange, tqdm\n",
    "import numpy as np\n",
    "import tensorflow as tf\n",
    "import random\n",
    "from sklearn import preprocessing\n",
    "from sklearn.model_selection import train_test_split\n",
    "from tensorflow.keras import layers, models, utils\n",
    "from sklearn.metrics import classification_report, confusion_matrix\n",
    "\n",
    "from data_utils import read_and_preprocess_data\n",
    "from model_utils import *"
   ]
  },
  {
   "cell_type": "markdown",
   "id": "d6e5fe95",
   "metadata": {},
   "source": [
    "## Settings"
   ]
  },
  {
   "cell_type": "code",
   "execution_count": 2,
   "id": "c83c0d21",
   "metadata": {},
   "outputs": [],
   "source": [
    "FRAME_SIZE = 128\n",
    "DATA_PATH = './2sec/data_3_fps'\n",
    "EPOCHS = 50"
   ]
  },
  {
   "cell_type": "markdown",
   "id": "68882663",
   "metadata": {},
   "source": [
    "## Data"
   ]
  },
  {
   "cell_type": "code",
   "execution_count": 3,
   "id": "41431d91",
   "metadata": {},
   "outputs": [
    {
     "name": "stdout",
     "output_type": "stream",
     "text": [
      "reading...\n",
      "BalanceBeam\n",
      "CricketShot\n",
      "Fencing\n",
      "HorseRiding\n",
      "LongJump\n",
      "RockClimbingIndoor\n",
      "SalsaSpin\n",
      "SkyDiving\n",
      "TableTennisShot\n",
      "WallPushups\n",
      "class count = 10\n",
      "med frame count = 6.0\n",
      "padding...\n",
      "Labels encoding...\n",
      "(500,) (500, 6, 128, 128, 3)\n",
      "norm...\n",
      "Train-val-test split...\n",
      "Train: (350, 6, 128, 128, 3) (350,)\n",
      "Val: (45, 6, 128, 128, 3) (45,)\n",
      "Test: (105, 6, 128, 128, 3) (105,)\n"
     ]
    }
   ],
   "source": [
    "CLASS_COUNT, FRAME_COUNT, FRAME_SIZE, X_train, X_val, X_test, y_train, y_val, y_test = read_and_preprocess_data(DATA_PATH, FRAME_SIZE)"
   ]
  },
  {
   "cell_type": "markdown",
   "id": "f99a5cc9",
   "metadata": {},
   "source": [
    "## Model"
   ]
  },
  {
   "cell_type": "code",
   "execution_count": 12,
   "id": "b687e133",
   "metadata": {},
   "outputs": [
    {
     "name": "stdout",
     "output_type": "stream",
     "text": [
      "Model: \"sequential_1\"\n",
      "_________________________________________________________________\n",
      " Layer (type)                Output Shape              Param #   \n",
      "=================================================================\n",
      " time_distributed_6 (TimeDis  (None, 6, 62, 62, 64)    4864      \n",
      " tributed)                                                       \n",
      "                                                                 \n",
      " batch_normalization_4 (Batc  (None, 6, 62, 62, 64)    248       \n",
      " hNormalization)                                                 \n",
      "                                                                 \n",
      " activation_4 (Activation)   (None, 6, 62, 62, 64)     0         \n",
      "                                                                 \n",
      " time_distributed_7 (TimeDis  (None, 6, 30, 30, 32)    32800     \n",
      " tributed)                                                       \n",
      "                                                                 \n",
      " batch_normalization_5 (Batc  (None, 6, 30, 30, 32)    120       \n",
      " hNormalization)                                                 \n",
      "                                                                 \n",
      " activation_5 (Activation)   (None, 6, 30, 30, 32)     0         \n",
      "                                                                 \n",
      " time_distributed_8 (TimeDis  (None, 6, 14, 14, 32)    9248      \n",
      " tributed)                                                       \n",
      "                                                                 \n",
      " batch_normalization_6 (Batc  (None, 6, 14, 14, 32)    56        \n",
      " hNormalization)                                                 \n",
      "                                                                 \n",
      " activation_6 (Activation)   (None, 6, 14, 14, 32)     0         \n",
      "                                                                 \n",
      " time_distributed_9 (TimeDis  (None, 6, 12, 12, 16)    4624      \n",
      " tributed)                                                       \n",
      "                                                                 \n",
      " batch_normalization_7 (Batc  (None, 6, 12, 12, 16)    48        \n",
      " hNormalization)                                                 \n",
      "                                                                 \n",
      " activation_7 (Activation)   (None, 6, 12, 12, 16)     0         \n",
      "                                                                 \n",
      " time_distributed_10 (TimeDi  (None, 6, 6, 6, 16)      0         \n",
      " stributed)                                                      \n",
      "                                                                 \n",
      " time_distributed_11 (TimeDi  (None, 6, 576)           0         \n",
      " stributed)                                                      \n",
      "                                                                 \n",
      " simple_rnn_1 (SimpleRNN)    (None, 16)                9488      \n",
      "                                                                 \n",
      " dense_2 (Dense)             (None, 20)                340       \n",
      "                                                                 \n",
      " dropout_1 (Dropout)         (None, 20)                0         \n",
      "                                                                 \n",
      " dense_3 (Dense)             (None, 10)                210       \n",
      "                                                                 \n",
      "=================================================================\n",
      "Total params: 62,046\n",
      "Trainable params: 61,810\n",
      "Non-trainable params: 236\n",
      "_________________________________________________________________\n"
     ]
    }
   ],
   "source": [
    "model = models.Sequential()\n",
    "model = add_2d_cnn_part(model, FRAME_COUNT, FRAME_SIZE)\n",
    "model.add(layers.TimeDistributed(layers.Flatten()))\n",
    "model = add_rnn_part(model, return_sequences=False)\n",
    "model = add_dense_part(model, CLASS_COUNT)\n",
    "\n",
    "model.summary()"
   ]
  },
  {
   "cell_type": "code",
   "execution_count": 13,
   "id": "963ff906",
   "metadata": {},
   "outputs": [],
   "source": [
    "model.compile(optimizer='adam',\n",
    "              loss=tf.keras.losses.SparseCategoricalCrossentropy(from_logits=False),\n",
    "              metrics=['accuracy'],\n",
    "              )\n"
   ]
  },
  {
   "cell_type": "code",
   "execution_count": 14,
   "id": "20cf9db7",
   "metadata": {},
   "outputs": [
    {
     "name": "stdout",
     "output_type": "stream",
     "text": [
      "Epoch 1/50\n",
      "11/11 [==============================] - 3s 131ms/step - loss: 2.3530 - accuracy: 0.1143 - val_loss: 2.3426 - val_accuracy: 0.1333\n",
      "Epoch 2/50\n",
      "11/11 [==============================] - 1s 99ms/step - loss: 2.2879 - accuracy: 0.1029 - val_loss: 2.3121 - val_accuracy: 0.1333\n",
      "Epoch 3/50\n",
      "11/11 [==============================] - 1s 94ms/step - loss: 2.2290 - accuracy: 0.1629 - val_loss: 2.3431 - val_accuracy: 0.1111\n",
      "Epoch 4/50\n",
      "11/11 [==============================] - 1s 97ms/step - loss: 2.2016 - accuracy: 0.1686 - val_loss: 2.2377 - val_accuracy: 0.1556\n",
      "Epoch 5/50\n",
      "11/11 [==============================] - 1s 96ms/step - loss: 2.1498 - accuracy: 0.1800 - val_loss: 2.1871 - val_accuracy: 0.2222\n",
      "Epoch 6/50\n",
      "11/11 [==============================] - 1s 97ms/step - loss: 2.0740 - accuracy: 0.2171 - val_loss: 2.2432 - val_accuracy: 0.1556\n",
      "Epoch 7/50\n",
      "11/11 [==============================] - 1s 95ms/step - loss: 2.0702 - accuracy: 0.2343 - val_loss: 2.1888 - val_accuracy: 0.1778\n",
      "Epoch 8/50\n",
      "11/11 [==============================] - 1s 95ms/step - loss: 2.0192 - accuracy: 0.2629 - val_loss: 2.1250 - val_accuracy: 0.2222\n",
      "Epoch 9/50\n",
      "11/11 [==============================] - 1s 97ms/step - loss: 1.9940 - accuracy: 0.3086 - val_loss: 2.1614 - val_accuracy: 0.2000\n",
      "Epoch 10/50\n",
      "11/11 [==============================] - 1s 95ms/step - loss: 1.9728 - accuracy: 0.2971 - val_loss: 2.1560 - val_accuracy: 0.1778\n",
      "Epoch 11/50\n",
      "11/11 [==============================] - 1s 94ms/step - loss: 1.9073 - accuracy: 0.2714 - val_loss: 2.2078 - val_accuracy: 0.2000\n",
      "Epoch 12/50\n",
      "11/11 [==============================] - 1s 97ms/step - loss: 1.9006 - accuracy: 0.3200 - val_loss: 2.1201 - val_accuracy: 0.2667\n",
      "Epoch 13/50\n",
      "11/11 [==============================] - 1s 96ms/step - loss: 1.8551 - accuracy: 0.3171 - val_loss: 2.1198 - val_accuracy: 0.2889\n",
      "Epoch 14/50\n",
      "11/11 [==============================] - 1s 96ms/step - loss: 1.8216 - accuracy: 0.3314 - val_loss: 2.0220 - val_accuracy: 0.3333\n",
      "Epoch 15/50\n",
      "11/11 [==============================] - 1s 95ms/step - loss: 1.7204 - accuracy: 0.3714 - val_loss: 2.0646 - val_accuracy: 0.3111\n",
      "Epoch 16/50\n",
      "11/11 [==============================] - 1s 96ms/step - loss: 1.6988 - accuracy: 0.3771 - val_loss: 2.0125 - val_accuracy: 0.2667\n",
      "Epoch 17/50\n",
      "11/11 [==============================] - 1s 94ms/step - loss: 1.6536 - accuracy: 0.4343 - val_loss: 2.3324 - val_accuracy: 0.1778\n",
      "Epoch 18/50\n",
      "11/11 [==============================] - 1s 95ms/step - loss: 1.7051 - accuracy: 0.3943 - val_loss: 2.2309 - val_accuracy: 0.2000\n",
      "Epoch 19/50\n",
      "11/11 [==============================] - 1s 95ms/step - loss: 1.6202 - accuracy: 0.4286 - val_loss: 1.9103 - val_accuracy: 0.4000\n",
      "Epoch 20/50\n",
      "11/11 [==============================] - 1s 95ms/step - loss: 1.5541 - accuracy: 0.4286 - val_loss: 2.0380 - val_accuracy: 0.2444\n",
      "Epoch 21/50\n",
      "11/11 [==============================] - 1s 95ms/step - loss: 1.4513 - accuracy: 0.5057 - val_loss: 1.8378 - val_accuracy: 0.4222\n",
      "Epoch 22/50\n",
      "11/11 [==============================] - 1s 96ms/step - loss: 1.4027 - accuracy: 0.5343 - val_loss: 2.0898 - val_accuracy: 0.2444\n",
      "Epoch 23/50\n",
      "11/11 [==============================] - 1s 96ms/step - loss: 1.4248 - accuracy: 0.5000 - val_loss: 1.9857 - val_accuracy: 0.3333\n",
      "Epoch 24/50\n",
      "11/11 [==============================] - 1s 94ms/step - loss: 1.3845 - accuracy: 0.5457 - val_loss: 1.8850 - val_accuracy: 0.3111\n",
      "Epoch 25/50\n",
      "11/11 [==============================] - 1s 94ms/step - loss: 1.2549 - accuracy: 0.5771 - val_loss: 2.1082 - val_accuracy: 0.3111\n",
      "Epoch 26/50\n",
      "11/11 [==============================] - 1s 96ms/step - loss: 1.2486 - accuracy: 0.5657 - val_loss: 1.8974 - val_accuracy: 0.4000\n"
     ]
    }
   ],
   "source": [
    "history = model.fit(X_train, y_train, epochs = EPOCHS, validation_data = (X_val, y_val), callbacks=[early_stopping])"
   ]
  },
  {
   "cell_type": "markdown",
   "id": "57ec1982",
   "metadata": {},
   "source": [
    "### Train & validation Loss"
   ]
  },
  {
   "cell_type": "code",
   "execution_count": 15,
   "id": "b6c8d1db",
   "metadata": {},
   "outputs": [
    {
     "data": {
      "text/plain": [
       "<matplotlib.legend.Legend at 0x1ca0eeb8f10>"
      ]
     },
     "execution_count": 15,
     "metadata": {},
     "output_type": "execute_result"
    },
    {
     "data": {
      "image/png": "[encoded data removed]",
      "text/plain": [
       "<Figure size 432x288 with 1 Axes>"
      ]
     },
     "metadata": {
      "needs_background": "light"
     },
     "output_type": "display_data"
    }
   ],
   "source": [
    "plt.plot(history.history['loss'], label='loss')\n",
    "plt.plot(history.history['val_loss'], label = 'val_loss')\n",
    "plt.xlabel('Epoch')\n",
    "plt.ylabel('Loss')\n",
    "plt.ylim([0.0, 3])\n",
    "plt.legend(loc='lower right')"
   ]
  },
  {
   "cell_type": "markdown",
   "id": "7af69023",
   "metadata": {},
   "source": [
    "### Train & validation Accuracy"
   ]
  },
  {
   "cell_type": "code",
   "execution_count": 16,
   "id": "0bb8dfca",
   "metadata": {},
   "outputs": [
    {
     "data": {
      "text/plain": [
       "<matplotlib.legend.Legend at 0x1ca1008bee0>"
      ]
     },
     "execution_count": 16,
     "metadata": {},
     "output_type": "execute_result"
    },
    {
     "data": {
      "image/png": "[encoded data removed]",
      "text/plain": [
       "<Figure size 432x288 with 1 Axes>"
      ]
     },
     "metadata": {
      "needs_background": "light"
     },
     "output_type": "display_data"
    }
   ],
   "source": [
    "plt.plot(history.history['accuracy'], label='accuracy')\n",
    "plt.plot(history.history['val_accuracy'], label = 'val_accuracy')\n",
    "plt.xlabel('Epoch')\n",
    "plt.ylabel('Accuracy')\n",
    "plt.ylim([0.0, 1])\n",
    "plt.legend(loc='lower right')"
   ]
  },
  {
   "cell_type": "markdown",
   "id": "9b30546c",
   "metadata": {},
   "source": [
    "## Test"
   ]
  },
  {
   "cell_type": "code",
   "execution_count": 17,
   "id": "cf4c662a",
   "metadata": {},
   "outputs": [
    {
     "name": "stdout",
     "output_type": "stream",
     "text": [
      "4/4 [==============================] - 0s 20ms/step\n"
     ]
    }
   ],
   "source": [
    "predict = np.argmax(model.predict(X_test), axis=1)"
   ]
  },
  {
   "cell_type": "code",
   "execution_count": 18,
   "id": "6ec7a04a",
   "metadata": {},
   "outputs": [
    {
     "name": "stdout",
     "output_type": "stream",
     "text": [
      "              precision    recall  f1-score   support\n",
      "\n",
      "           0       0.69      0.60      0.64        15\n",
      "           1       1.00      0.12      0.22        16\n",
      "           2       0.29      0.80      0.42         5\n",
      "           3       0.33      0.11      0.17         9\n",
      "           4       0.47      0.70      0.56        10\n",
      "           5       0.33      0.25      0.29         8\n",
      "           6       0.71      0.36      0.48        14\n",
      "           7       0.12      0.30      0.18        10\n",
      "           8       0.23      0.33      0.27         9\n",
      "           9       0.75      0.67      0.71         9\n",
      "\n",
      "    accuracy                           0.40       105\n",
      "   macro avg       0.49      0.42      0.39       105\n",
      "weighted avg       0.55      0.40      0.40       105\n",
      "\n"
     ]
    }
   ],
   "source": [
    "print(classification_report(y_test, predict))"
   ]
  },
  {
   "cell_type": "code",
   "execution_count": 19,
   "id": "9433cc53",
   "metadata": {},
   "outputs": [
    {
     "data": {
      "image/png": "[encoded data removed]",
      "text/plain": [
       "<Figure size 400x400 with 2 Axes>"
      ]
     },
     "metadata": {
      "needs_background": "light"
     },
     "output_type": "display_data"
    }
   ],
   "source": [
    "fig = plt.figure(figsize=(CLASS_COUNT // 2, CLASS_COUNT // 2), dpi=80)\n",
    "M = confusion_matrix(predict, y_test)\n",
    "plt.imshow(M, interpolation = 'nearest')\n",
    "plt.set_cmap('binary')\n",
    "plt.xticks(range(CLASS_COUNT))\n",
    "plt.yticks(range(CLASS_COUNT))\n",
    "plt.xlabel(\"true label\")\n",
    "plt.ylabel(\"predicted label\")\n",
    "plt.colorbar()\n",
    "pass"
   ]
  },
  {
   "cell_type": "code",
   "execution_count": null,
   "id": "5c484710",
   "metadata": {},
   "outputs": [],
   "source": []
  }
 ],
 "metadata": {
  "kernelspec": {
   "display_name": "Python 3 (ipykernel)",
   "language": "python",
   "name": "python3"
  },
  "language_info": {
   "codemirror_mode": {
    "name": "ipython",
    "version": 3
   },
   "file_extension": ".py",
   "mimetype": "text/x-python",
   "name": "python",
   "nbconvert_exporter": "python",
   "pygments_lexer": "ipython3",
   "version": "3.9.6"
  }
 },
 "nbformat": 4,
 "nbformat_minor": 5
}
