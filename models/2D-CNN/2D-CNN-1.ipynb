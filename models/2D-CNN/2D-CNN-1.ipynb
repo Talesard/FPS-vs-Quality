{
 "cells": [
  {
   "cell_type": "code",
   "execution_count": 1,
   "id": "867cbce7",
   "metadata": {},
   "outputs": [],
   "source": [
    "import os\n",
    "\n",
    "import cv2\n",
    "from matplotlib import pyplot as plt\n",
    "from tqdm.notebook import trange, tqdm\n",
    "import numpy as np\n",
    "import tensorflow as tf\n",
    "import random\n",
    "from sklearn import preprocessing\n",
    "from sklearn.model_selection import train_test_split\n",
    "from tensorflow.keras import layers, models, utils\n",
    "from sklearn.metrics import classification_report, confusion_matrix\n",
    "\n",
    "from data_utils import read_and_preprocess_data\n",
    "from model_utils import *"
   ]
  },
  {
   "cell_type": "markdown",
   "id": "d6e5fe95",
   "metadata": {},
   "source": [
    "## Settings"
   ]
  },
  {
   "cell_type": "code",
   "execution_count": 2,
   "id": "c83c0d21",
   "metadata": {},
   "outputs": [],
   "source": [
    "FRAME_SIZE = 128\n",
    "DATA_PATH = './2sec/data_1_fps'\n",
    "EPOCHS = 50"
   ]
  },
  {
   "cell_type": "markdown",
   "id": "68882663",
   "metadata": {},
   "source": [
    "## Data"
   ]
  },
  {
   "cell_type": "code",
   "execution_count": 3,
   "id": "41431d91",
   "metadata": {},
   "outputs": [
    {
     "name": "stdout",
     "output_type": "stream",
     "text": [
      "reading...\n",
      "BalanceBeam\n",
      "CricketShot\n",
      "Fencing\n",
      "HorseRiding\n",
      "LongJump\n",
      "RockClimbingIndoor\n",
      "SalsaSpin\n",
      "SkyDiving\n",
      "TableTennisShot\n",
      "WallPushups\n",
      "class count = 10\n",
      "med frame count = 2.0\n",
      "padding...\n",
      "Labels encoding...\n",
      "(500,) (500, 2, 128, 128, 3)\n",
      "norm...\n",
      "Train-val-test split...\n",
      "Train: (350, 2, 128, 128, 3) (350,)\n",
      "Val: (45, 2, 128, 128, 3) (45,)\n",
      "Test: (105, 2, 128, 128, 3) (105,)\n"
     ]
    }
   ],
   "source": [
    "CLASS_COUNT, FRAME_COUNT, FRAME_SIZE, X_train, X_val, X_test, y_train, y_val, y_test = read_and_preprocess_data(DATA_PATH, FRAME_SIZE)"
   ]
  },
  {
   "cell_type": "markdown",
   "id": "f99a5cc9",
   "metadata": {},
   "source": [
    "## Model"
   ]
  },
  {
   "cell_type": "code",
   "execution_count": 4,
   "id": "b687e133",
   "metadata": {},
   "outputs": [
    {
     "name": "stdout",
     "output_type": "stream",
     "text": [
      "Model: \"sequential\"\n",
      "_________________________________________________________________\n",
      " Layer (type)                Output Shape              Param #   \n",
      "=================================================================\n",
      " time_distributed (TimeDistr  (None, 2, 62, 62, 64)    4864      \n",
      " ibuted)                                                         \n",
      "                                                                 \n",
      " batch_normalization (BatchN  (None, 2, 62, 62, 64)    248       \n",
      " ormalization)                                                   \n",
      "                                                                 \n",
      " activation (Activation)     (None, 2, 62, 62, 64)     0         \n",
      "                                                                 \n",
      " time_distributed_1 (TimeDis  (None, 2, 30, 30, 32)    32800     \n",
      " tributed)                                                       \n",
      "                                                                 \n",
      " batch_normalization_1 (Batc  (None, 2, 30, 30, 32)    120       \n",
      " hNormalization)                                                 \n",
      "                                                                 \n",
      " activation_1 (Activation)   (None, 2, 30, 30, 32)     0         \n",
      "                                                                 \n",
      " time_distributed_2 (TimeDis  (None, 2, 14, 14, 32)    9248      \n",
      " tributed)                                                       \n",
      "                                                                 \n",
      " batch_normalization_2 (Batc  (None, 2, 14, 14, 32)    56        \n",
      " hNormalization)                                                 \n",
      "                                                                 \n",
      " activation_2 (Activation)   (None, 2, 14, 14, 32)     0         \n",
      "                                                                 \n",
      " time_distributed_3 (TimeDis  (None, 2, 12, 12, 16)    4624      \n",
      " tributed)                                                       \n",
      "                                                                 \n",
      " batch_normalization_3 (Batc  (None, 2, 12, 12, 16)    48        \n",
      " hNormalization)                                                 \n",
      "                                                                 \n",
      " activation_3 (Activation)   (None, 2, 12, 12, 16)     0         \n",
      "                                                                 \n",
      " time_distributed_4 (TimeDis  (None, 2, 6, 6, 16)      0         \n",
      " tributed)                                                       \n",
      "                                                                 \n",
      " time_distributed_5 (TimeDis  (None, 2, 576)           0         \n",
      " tributed)                                                       \n",
      "                                                                 \n",
      " flatten_1 (Flatten)         (None, 1152)              0         \n",
      "                                                                 \n",
      " dense (Dense)               (None, 20)                23060     \n",
      "                                                                 \n",
      " dropout (Dropout)           (None, 20)                0         \n",
      "                                                                 \n",
      " dense_1 (Dense)             (None, 10)                210       \n",
      "                                                                 \n",
      "=================================================================\n",
      "Total params: 75,278\n",
      "Trainable params: 75,042\n",
      "Non-trainable params: 236\n",
      "_________________________________________________________________\n"
     ]
    }
   ],
   "source": [
    "model = models.Sequential()\n",
    "model = add_2d_cnn_part(model, FRAME_COUNT, FRAME_SIZE)\n",
    "model.add(layers.TimeDistributed(layers.Flatten()))\n",
    "model.add(layers.Flatten())\n",
    "model = add_dense_part(model, CLASS_COUNT)\n",
    "\n",
    "model.summary()"
   ]
  },
  {
   "cell_type": "code",
   "execution_count": 5,
   "id": "963ff906",
   "metadata": {},
   "outputs": [],
   "source": [
    "model.compile(optimizer='adam',\n",
    "              loss=tf.keras.losses.SparseCategoricalCrossentropy(from_logits=False),\n",
    "              metrics=['accuracy'],\n",
    "              )\n"
   ]
  },
  {
   "cell_type": "code",
   "execution_count": 6,
   "id": "20cf9db7",
   "metadata": {},
   "outputs": [
    {
     "name": "stdout",
     "output_type": "stream",
     "text": [
      "Epoch 1/50\n",
      "11/11 [==============================] - 5s 91ms/step - loss: 2.4533 - accuracy: 0.1000 - val_loss: 2.3056 - val_accuracy: 0.0444\n",
      "Epoch 2/50\n",
      "11/11 [==============================] - 0s 40ms/step - loss: 2.2904 - accuracy: 0.1229 - val_loss: 2.2933 - val_accuracy: 0.0889\n",
      "Epoch 3/50\n",
      "11/11 [==============================] - 0s 40ms/step - loss: 2.2894 - accuracy: 0.1429 - val_loss: 2.2889 - val_accuracy: 0.0667\n",
      "Epoch 4/50\n",
      "11/11 [==============================] - 0s 40ms/step - loss: 2.2734 - accuracy: 0.1429 - val_loss: 2.2883 - val_accuracy: 0.0889\n",
      "Epoch 5/50\n",
      "11/11 [==============================] - 0s 40ms/step - loss: 2.2655 - accuracy: 0.1457 - val_loss: 2.2878 - val_accuracy: 0.0667\n",
      "Epoch 6/50\n",
      "11/11 [==============================] - 0s 41ms/step - loss: 2.2486 - accuracy: 0.1486 - val_loss: 2.2848 - val_accuracy: 0.1556\n",
      "Epoch 7/50\n",
      "11/11 [==============================] - 0s 40ms/step - loss: 2.2333 - accuracy: 0.1314 - val_loss: 2.2880 - val_accuracy: 0.1556\n",
      "Epoch 8/50\n",
      "11/11 [==============================] - 0s 38ms/step - loss: 2.2269 - accuracy: 0.1429 - val_loss: 2.2893 - val_accuracy: 0.1556\n",
      "Epoch 9/50\n",
      "11/11 [==============================] - 0s 39ms/step - loss: 2.2286 - accuracy: 0.1629 - val_loss: 2.2790 - val_accuracy: 0.0667\n",
      "Epoch 10/50\n",
      "11/11 [==============================] - 0s 38ms/step - loss: 2.1973 - accuracy: 0.1743 - val_loss: 2.2857 - val_accuracy: 0.1333\n",
      "Epoch 11/50\n",
      "11/11 [==============================] - 0s 39ms/step - loss: 2.1591 - accuracy: 0.1800 - val_loss: 2.2724 - val_accuracy: 0.0889\n",
      "Epoch 12/50\n",
      "11/11 [==============================] - 0s 41ms/step - loss: 2.1982 - accuracy: 0.1543 - val_loss: 2.2716 - val_accuracy: 0.1333\n",
      "Epoch 13/50\n",
      "11/11 [==============================] - 0s 40ms/step - loss: 2.1564 - accuracy: 0.1800 - val_loss: 2.2758 - val_accuracy: 0.1333\n",
      "Epoch 14/50\n",
      "11/11 [==============================] - 0s 40ms/step - loss: 2.1425 - accuracy: 0.1971 - val_loss: 2.2595 - val_accuracy: 0.2000\n",
      "Epoch 15/50\n",
      "11/11 [==============================] - 0s 39ms/step - loss: 2.0873 - accuracy: 0.2229 - val_loss: 2.2534 - val_accuracy: 0.1778\n",
      "Epoch 16/50\n",
      "11/11 [==============================] - 0s 39ms/step - loss: 2.1159 - accuracy: 0.2000 - val_loss: 2.2502 - val_accuracy: 0.1778\n",
      "Epoch 17/50\n",
      "11/11 [==============================] - 0s 39ms/step - loss: 2.0962 - accuracy: 0.2229 - val_loss: 2.2237 - val_accuracy: 0.2222\n",
      "Epoch 18/50\n",
      "11/11 [==============================] - 0s 38ms/step - loss: 2.1208 - accuracy: 0.2057 - val_loss: 2.2445 - val_accuracy: 0.1778\n",
      "Epoch 19/50\n",
      "11/11 [==============================] - 0s 38ms/step - loss: 2.0952 - accuracy: 0.2114 - val_loss: 2.2260 - val_accuracy: 0.1778\n",
      "Epoch 20/50\n",
      "11/11 [==============================] - 0s 39ms/step - loss: 2.0779 - accuracy: 0.2400 - val_loss: 2.2065 - val_accuracy: 0.2000\n",
      "Epoch 21/50\n",
      "11/11 [==============================] - 0s 38ms/step - loss: 2.0757 - accuracy: 0.2114 - val_loss: 2.2260 - val_accuracy: 0.2222\n",
      "Epoch 22/50\n",
      "11/11 [==============================] - 0s 39ms/step - loss: 2.0042 - accuracy: 0.2457 - val_loss: 2.1878 - val_accuracy: 0.2000\n",
      "Epoch 23/50\n",
      "11/11 [==============================] - 0s 39ms/step - loss: 1.9794 - accuracy: 0.2514 - val_loss: 2.1859 - val_accuracy: 0.1778\n",
      "Epoch 24/50\n",
      "11/11 [==============================] - 0s 39ms/step - loss: 1.9777 - accuracy: 0.2686 - val_loss: 2.1828 - val_accuracy: 0.2000\n",
      "Epoch 25/50\n",
      "11/11 [==============================] - 0s 39ms/step - loss: 1.8964 - accuracy: 0.2943 - val_loss: 2.0809 - val_accuracy: 0.2444\n",
      "Epoch 26/50\n",
      "11/11 [==============================] - 0s 39ms/step - loss: 1.8963 - accuracy: 0.2743 - val_loss: 2.0257 - val_accuracy: 0.2444\n",
      "Epoch 27/50\n",
      "11/11 [==============================] - 0s 38ms/step - loss: 1.9045 - accuracy: 0.2743 - val_loss: 2.0919 - val_accuracy: 0.2444\n",
      "Epoch 28/50\n",
      "11/11 [==============================] - 0s 39ms/step - loss: 1.8450 - accuracy: 0.3000 - val_loss: 1.9822 - val_accuracy: 0.2444\n",
      "Epoch 29/50\n",
      "11/11 [==============================] - 0s 38ms/step - loss: 1.8024 - accuracy: 0.3029 - val_loss: 2.0218 - val_accuracy: 0.2444\n",
      "Epoch 30/50\n",
      "11/11 [==============================] - 0s 39ms/step - loss: 1.8300 - accuracy: 0.2914 - val_loss: 1.9582 - val_accuracy: 0.2444\n",
      "Epoch 31/50\n",
      "11/11 [==============================] - 0s 39ms/step - loss: 1.7165 - accuracy: 0.3371 - val_loss: 1.8531 - val_accuracy: 0.4000\n",
      "Epoch 32/50\n",
      "11/11 [==============================] - 0s 38ms/step - loss: 1.7927 - accuracy: 0.3400 - val_loss: 1.9239 - val_accuracy: 0.2667\n",
      "Epoch 33/50\n",
      "11/11 [==============================] - 0s 38ms/step - loss: 1.7574 - accuracy: 0.3229 - val_loss: 1.8539 - val_accuracy: 0.2889\n",
      "Epoch 34/50\n",
      "11/11 [==============================] - 0s 38ms/step - loss: 1.6176 - accuracy: 0.4257 - val_loss: 1.8782 - val_accuracy: 0.3333\n",
      "Epoch 35/50\n",
      "11/11 [==============================] - 0s 39ms/step - loss: 1.6756 - accuracy: 0.3543 - val_loss: 1.8484 - val_accuracy: 0.3111\n",
      "Epoch 36/50\n",
      "11/11 [==============================] - 0s 38ms/step - loss: 1.6274 - accuracy: 0.3714 - val_loss: 1.8545 - val_accuracy: 0.2889\n",
      "Epoch 37/50\n",
      "11/11 [==============================] - 0s 39ms/step - loss: 1.6183 - accuracy: 0.3943 - val_loss: 1.8014 - val_accuracy: 0.4000\n",
      "Epoch 38/50\n",
      "11/11 [==============================] - 0s 40ms/step - loss: 1.6103 - accuracy: 0.3743 - val_loss: 1.8097 - val_accuracy: 0.2444\n",
      "Epoch 39/50\n",
      "11/11 [==============================] - 0s 40ms/step - loss: 1.5965 - accuracy: 0.3800 - val_loss: 1.8394 - val_accuracy: 0.3111\n",
      "Epoch 40/50\n",
      "11/11 [==============================] - 0s 41ms/step - loss: 1.6255 - accuracy: 0.3743 - val_loss: 1.7495 - val_accuracy: 0.3111\n",
      "Epoch 41/50\n",
      "11/11 [==============================] - 0s 40ms/step - loss: 1.5395 - accuracy: 0.3971 - val_loss: 1.7834 - val_accuracy: 0.2889\n",
      "Epoch 42/50\n",
      "11/11 [==============================] - 0s 39ms/step - loss: 1.5134 - accuracy: 0.4086 - val_loss: 1.7646 - val_accuracy: 0.3111\n",
      "Epoch 43/50\n",
      "11/11 [==============================] - 0s 40ms/step - loss: 1.5326 - accuracy: 0.4143 - val_loss: 1.8677 - val_accuracy: 0.3111\n",
      "Epoch 44/50\n",
      "11/11 [==============================] - 0s 39ms/step - loss: 1.5949 - accuracy: 0.3743 - val_loss: 1.6790 - val_accuracy: 0.4000\n",
      "Epoch 45/50\n",
      "11/11 [==============================] - 0s 38ms/step - loss: 1.5394 - accuracy: 0.3829 - val_loss: 1.6810 - val_accuracy: 0.3778\n",
      "Epoch 46/50\n",
      "11/11 [==============================] - 0s 40ms/step - loss: 1.4781 - accuracy: 0.4229 - val_loss: 1.6408 - val_accuracy: 0.4222\n",
      "Epoch 47/50\n",
      "11/11 [==============================] - 0s 38ms/step - loss: 1.4401 - accuracy: 0.4229 - val_loss: 1.7012 - val_accuracy: 0.3556\n",
      "Epoch 48/50\n",
      "11/11 [==============================] - 0s 38ms/step - loss: 1.4656 - accuracy: 0.4057 - val_loss: 1.7214 - val_accuracy: 0.3111\n",
      "Epoch 49/50\n",
      "11/11 [==============================] - 0s 40ms/step - loss: 1.4138 - accuracy: 0.4114 - val_loss: 1.6840 - val_accuracy: 0.3333\n",
      "Epoch 50/50\n",
      "11/11 [==============================] - 0s 38ms/step - loss: 1.4588 - accuracy: 0.4143 - val_loss: 1.7021 - val_accuracy: 0.2889\n"
     ]
    }
   ],
   "source": [
    "history = model.fit(X_train, y_train, epochs = EPOCHS, validation_data = (X_val, y_val), callbacks=[early_stopping])"
   ]
  },
  {
   "cell_type": "markdown",
   "id": "57ec1982",
   "metadata": {},
   "source": [
    "### Train & validation Loss"
   ]
  },
  {
   "cell_type": "code",
   "execution_count": 7,
   "id": "b6c8d1db",
   "metadata": {},
   "outputs": [
    {
     "data": {
      "text/plain": [
       "<matplotlib.legend.Legend at 0x1f4ab92aa30>"
      ]
     },
     "execution_count": 7,
     "metadata": {},
     "output_type": "execute_result"
    },
    {
     "data": {
      "image/png": "[encoded data removed]",
      "text/plain": [
       "<Figure size 432x288 with 1 Axes>"
      ]
     },
     "metadata": {
      "needs_background": "light"
     },
     "output_type": "display_data"
    }
   ],
   "source": [
    "plt.plot(history.history['loss'], label='loss')\n",
    "plt.plot(history.history['val_loss'], label = 'val_loss')\n",
    "plt.xlabel('Epoch')\n",
    "plt.ylabel('Loss')\n",
    "plt.ylim([0.0, 3])\n",
    "plt.legend(loc='lower right')"
   ]
  },
  {
   "cell_type": "markdown",
   "id": "7af69023",
   "metadata": {},
   "source": [
    "### Train & validation Accuracy"
   ]
  },
  {
   "cell_type": "code",
   "execution_count": 8,
   "id": "0bb8dfca",
   "metadata": {},
   "outputs": [
    {
     "data": {
      "text/plain": [
       "<matplotlib.legend.Legend at 0x1f49d934ac0>"
      ]
     },
     "execution_count": 8,
     "metadata": {},
     "output_type": "execute_result"
    },
    {
     "data": {
      "image/png": "[encoded data removed]",
      "text/plain": [
       "<Figure size 432x288 with 1 Axes>"
      ]
     },
     "metadata": {
      "needs_background": "light"
     },
     "output_type": "display_data"
    }
   ],
   "source": [
    "plt.plot(history.history['accuracy'], label='accuracy')\n",
    "plt.plot(history.history['val_accuracy'], label = 'val_accuracy')\n",
    "plt.xlabel('Epoch')\n",
    "plt.ylabel('Accuracy')\n",
    "plt.ylim([0.0, 1])\n",
    "plt.legend(loc='lower right')"
   ]
  },
  {
   "cell_type": "markdown",
   "id": "9b30546c",
   "metadata": {},
   "source": [
    "## Test"
   ]
  },
  {
   "cell_type": "code",
   "execution_count": 9,
   "id": "cf4c662a",
   "metadata": {},
   "outputs": [
    {
     "name": "stdout",
     "output_type": "stream",
     "text": [
      "4/4 [==============================] - 0s 18ms/step\n"
     ]
    }
   ],
   "source": [
    "predict = np.argmax(model.predict(X_test), axis=1)"
   ]
  },
  {
   "cell_type": "code",
   "execution_count": 10,
   "id": "6ec7a04a",
   "metadata": {},
   "outputs": [
    {
     "name": "stdout",
     "output_type": "stream",
     "text": [
      "              precision    recall  f1-score   support\n",
      "\n",
      "           0       0.67      0.80      0.73        15\n",
      "           1       0.00      0.00      0.00        16\n",
      "           2       0.30      0.60      0.40         5\n",
      "           3       0.32      0.78      0.45         9\n",
      "           4       0.19      0.40      0.26        10\n",
      "           5       1.00      0.12      0.22         8\n",
      "           6       0.00      0.00      0.00        14\n",
      "           7       0.37      0.70      0.48        10\n",
      "           8       0.43      0.33      0.38         9\n",
      "           9       0.25      0.11      0.15         9\n",
      "\n",
      "    accuracy                           0.36       105\n",
      "   macro avg       0.35      0.38      0.31       105\n",
      "weighted avg       0.32      0.36      0.29       105\n",
      "\n"
     ]
    },
    {
     "name": "stderr",
     "output_type": "stream",
     "text": [
      "c:\\users\\veter\\appdata\\local\\programs\\python\\python39\\lib\\site-packages\\sklearn\\metrics\\_classification.py:1318: UndefinedMetricWarning: Precision and F-score are ill-defined and being set to 0.0 in labels with no predicted samples. Use `zero_division` parameter to control this behavior.\n",
      "  _warn_prf(average, modifier, msg_start, len(result))\n",
      "c:\\users\\veter\\appdata\\local\\programs\\python\\python39\\lib\\site-packages\\sklearn\\metrics\\_classification.py:1318: UndefinedMetricWarning: Precision and F-score are ill-defined and being set to 0.0 in labels with no predicted samples. Use `zero_division` parameter to control this behavior.\n",
      "  _warn_prf(average, modifier, msg_start, len(result))\n",
      "c:\\users\\veter\\appdata\\local\\programs\\python\\python39\\lib\\site-packages\\sklearn\\metrics\\_classification.py:1318: UndefinedMetricWarning: Precision and F-score are ill-defined and being set to 0.0 in labels with no predicted samples. Use `zero_division` parameter to control this behavior.\n",
      "  _warn_prf(average, modifier, msg_start, len(result))\n"
     ]
    }
   ],
   "source": [
    "print(classification_report(y_test, predict))"
   ]
  },
  {
   "cell_type": "code",
   "execution_count": 11,
   "id": "9433cc53",
   "metadata": {},
   "outputs": [
    {
     "data": {
      "image/png": "[encoded data removed]",
      "text/plain": [
       "<Figure size 400x400 with 2 Axes>"
      ]
     },
     "metadata": {
      "needs_background": "light"
     },
     "output_type": "display_data"
    }
   ],
   "source": [
    "fig = plt.figure(figsize=(CLASS_COUNT // 2, CLASS_COUNT // 2), dpi=80)\n",
    "M = confusion_matrix(predict, y_test)\n",
    "plt.imshow(M, interpolation = 'nearest')\n",
    "plt.set_cmap('binary')\n",
    "plt.xticks(range(CLASS_COUNT))\n",
    "plt.yticks(range(CLASS_COUNT))\n",
    "plt.xlabel(\"true label\")\n",
    "plt.ylabel(\"predicted label\")\n",
    "plt.colorbar()\n",
    "pass"
   ]
  },
  {
   "cell_type": "code",
   "execution_count": null,
   "id": "5c484710",
   "metadata": {},
   "outputs": [],
   "source": []
  }
 ],
 "metadata": {
  "kernelspec": {
   "display_name": "Python 3 (ipykernel)",
   "language": "python",
   "name": "python3"
  },
  "language_info": {
   "codemirror_mode": {
    "name": "ipython",
    "version": 3
   },
   "file_extension": ".py",
   "mimetype": "text/x-python",
   "name": "python",
   "nbconvert_exporter": "python",
   "pygments_lexer": "ipython3",
   "version": "3.9.6"
  }
 },
 "nbformat": 4,
 "nbformat_minor": 5
}
