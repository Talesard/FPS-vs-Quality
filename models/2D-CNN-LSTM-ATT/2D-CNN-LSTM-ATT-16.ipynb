{
 "cells": [
  {
   "cell_type": "code",
   "execution_count": 1,
   "id": "867cbce7",
   "metadata": {},
   "outputs": [],
   "source": [
    "import os\n",
    "\n",
    "import cv2\n",
    "from matplotlib import pyplot as plt\n",
    "from tqdm.notebook import trange, tqdm\n",
    "import numpy as np\n",
    "import tensorflow as tf\n",
    "import random\n",
    "from sklearn import preprocessing\n",
    "from sklearn.model_selection import train_test_split\n",
    "from tensorflow.keras import layers, models, utils\n",
    "from sklearn.metrics import classification_report, confusion_matrix\n",
    "\n",
    "from data_utils import read_and_preprocess_data\n",
    "from model_utils import *"
   ]
  },
  {
   "cell_type": "markdown",
   "id": "d6e5fe95",
   "metadata": {},
   "source": [
    "## Settings"
   ]
  },
  {
   "cell_type": "code",
   "execution_count": 2,
   "id": "c83c0d21",
   "metadata": {},
   "outputs": [],
   "source": [
    "FRAME_SIZE = 128\n",
    "DATA_PATH = './2sec/data_16_fps'\n",
    "EPOCHS = 50"
   ]
  },
  {
   "cell_type": "markdown",
   "id": "68882663",
   "metadata": {},
   "source": [
    "## Data"
   ]
  },
  {
   "cell_type": "code",
   "execution_count": 3,
   "id": "41431d91",
   "metadata": {},
   "outputs": [
    {
     "name": "stdout",
     "output_type": "stream",
     "text": [
      "reading...\n",
      "BalanceBeam\n",
      "CricketShot\n",
      "Fencing\n",
      "HorseRiding\n",
      "LongJump\n",
      "RockClimbingIndoor\n",
      "SalsaSpin\n",
      "SkyDiving\n",
      "TableTennisShot\n",
      "WallPushups\n",
      "class count = 10\n",
      "med frame count = 32.0\n",
      "padding...\n",
      "Labels encoding...\n",
      "(500,) (500, 32, 128, 128, 3)\n",
      "norm...\n",
      "Train-val-test split...\n",
      "Train: (350, 32, 128, 128, 3) (350,)\n",
      "Val: (45, 32, 128, 128, 3) (45,)\n",
      "Test: (105, 32, 128, 128, 3) (105,)\n"
     ]
    }
   ],
   "source": [
    "CLASS_COUNT, FRAME_COUNT, FRAME_SIZE, X_train, X_val, X_test, y_train, y_val, y_test = read_and_preprocess_data(DATA_PATH, FRAME_SIZE)"
   ]
  },
  {
   "cell_type": "markdown",
   "id": "f99a5cc9",
   "metadata": {},
   "source": [
    "## Model"
   ]
  },
  {
   "cell_type": "code",
   "execution_count": 4,
   "id": "b687e133",
   "metadata": {},
   "outputs": [
    {
     "name": "stdout",
     "output_type": "stream",
     "text": [
      "Model: \"sequential\"\n",
      "_________________________________________________________________\n",
      " Layer (type)                Output Shape              Param #   \n",
      "=================================================================\n",
      " time_distributed (TimeDistr  (None, 32, 62, 62, 64)   4864      \n",
      " ibuted)                                                         \n",
      "                                                                 \n",
      " batch_normalization (BatchN  (None, 32, 62, 62, 64)   248       \n",
      " ormalization)                                                   \n",
      "                                                                 \n",
      " activation (Activation)     (None, 32, 62, 62, 64)    0         \n",
      "                                                                 \n",
      " time_distributed_1 (TimeDis  (None, 32, 30, 30, 32)   32800     \n",
      " tributed)                                                       \n",
      "                                                                 \n",
      " batch_normalization_1 (Batc  (None, 32, 30, 30, 32)   120       \n",
      " hNormalization)                                                 \n",
      "                                                                 \n",
      " activation_1 (Activation)   (None, 32, 30, 30, 32)    0         \n",
      "                                                                 \n",
      " time_distributed_2 (TimeDis  (None, 32, 14, 14, 32)   9248      \n",
      " tributed)                                                       \n",
      "                                                                 \n",
      " batch_normalization_2 (Batc  (None, 32, 14, 14, 32)   56        \n",
      " hNormalization)                                                 \n",
      "                                                                 \n",
      " activation_2 (Activation)   (None, 32, 14, 14, 32)    0         \n",
      "                                                                 \n",
      " time_distributed_3 (TimeDis  (None, 32, 12, 12, 16)   4624      \n",
      " tributed)                                                       \n",
      "                                                                 \n",
      " batch_normalization_3 (Batc  (None, 32, 12, 12, 16)   48        \n",
      " hNormalization)                                                 \n",
      "                                                                 \n",
      " activation_3 (Activation)   (None, 32, 12, 12, 16)    0         \n",
      "                                                                 \n",
      " time_distributed_4 (TimeDis  (None, 32, 6, 6, 16)     0         \n",
      " tributed)                                                       \n",
      "                                                                 \n",
      " time_distributed_5 (TimeDis  (None, 32, 576)          0         \n",
      " tributed)                                                       \n",
      "                                                                 \n",
      " lstm (LSTM)                 (None, 32, 16)            37952     \n",
      "                                                                 \n",
      " attention (attention)       (None, 16)                48        \n",
      "                                                                 \n",
      " dense (Dense)               (None, 20)                340       \n",
      "                                                                 \n",
      " dropout (Dropout)           (None, 20)                0         \n",
      "                                                                 \n",
      " dense_1 (Dense)             (None, 10)                210       \n",
      "                                                                 \n",
      "=================================================================\n",
      "Total params: 90,558\n",
      "Trainable params: 90,322\n",
      "Non-trainable params: 236\n",
      "_________________________________________________________________\n"
     ]
    }
   ],
   "source": [
    "model = models.Sequential()\n",
    "model = add_2d_cnn_part(model, FRAME_COUNT, FRAME_SIZE)\n",
    "model.add(layers.TimeDistributed(layers.Flatten()))\n",
    "model = add_lstm_part(model, return_sequences=True)\n",
    "model.add(attention())\n",
    "model = add_dense_part(model, CLASS_COUNT)\n",
    "\n",
    "model.summary()"
   ]
  },
  {
   "cell_type": "code",
   "execution_count": 5,
   "id": "963ff906",
   "metadata": {},
   "outputs": [],
   "source": [
    "model.compile(optimizer='adam',\n",
    "              loss=tf.keras.losses.SparseCategoricalCrossentropy(from_logits=False),\n",
    "              metrics=['accuracy'],\n",
    "              )\n"
   ]
  },
  {
   "cell_type": "code",
   "execution_count": 6,
   "id": "20cf9db7",
   "metadata": {},
   "outputs": [
    {
     "name": "stdout",
     "output_type": "stream",
     "text": [
      "Epoch 1/50\n",
      "11/11 [==============================] - 16s 750ms/step - loss: 2.3031 - accuracy: 0.1314 - val_loss: 2.3358 - val_accuracy: 0.1111\n",
      "Epoch 2/50\n",
      "11/11 [==============================] - 5s 420ms/step - loss: 2.2847 - accuracy: 0.1457 - val_loss: 2.3235 - val_accuracy: 0.0667\n",
      "Epoch 3/50\n",
      "11/11 [==============================] - 5s 422ms/step - loss: 2.2840 - accuracy: 0.1400 - val_loss: 2.3092 - val_accuracy: 0.1333\n",
      "Epoch 4/50\n",
      "11/11 [==============================] - 5s 421ms/step - loss: 2.2632 - accuracy: 0.1457 - val_loss: 2.2849 - val_accuracy: 0.1778\n",
      "Epoch 5/50\n",
      "11/11 [==============================] - 5s 422ms/step - loss: 2.2222 - accuracy: 0.1743 - val_loss: 2.2808 - val_accuracy: 0.1556\n",
      "Epoch 6/50\n",
      "11/11 [==============================] - 5s 421ms/step - loss: 2.1792 - accuracy: 0.1486 - val_loss: 2.2815 - val_accuracy: 0.1778\n",
      "Epoch 7/50\n",
      "11/11 [==============================] - 5s 424ms/step - loss: 2.1603 - accuracy: 0.1771 - val_loss: 2.2340 - val_accuracy: 0.2222\n",
      "Epoch 8/50\n",
      "11/11 [==============================] - 5s 422ms/step - loss: 2.1122 - accuracy: 0.2429 - val_loss: 2.2071 - val_accuracy: 0.2667\n",
      "Epoch 9/50\n",
      "11/11 [==============================] - 5s 426ms/step - loss: 2.0784 - accuracy: 0.2686 - val_loss: 2.2624 - val_accuracy: 0.2000\n",
      "Epoch 10/50\n",
      "11/11 [==============================] - 5s 420ms/step - loss: 2.0873 - accuracy: 0.2371 - val_loss: 2.1630 - val_accuracy: 0.2000\n",
      "Epoch 11/50\n",
      "11/11 [==============================] - 5s 422ms/step - loss: 1.9682 - accuracy: 0.3229 - val_loss: 2.1270 - val_accuracy: 0.2000\n",
      "Epoch 12/50\n",
      "11/11 [==============================] - 5s 423ms/step - loss: 1.9334 - accuracy: 0.3200 - val_loss: 2.1203 - val_accuracy: 0.2222\n",
      "Epoch 13/50\n",
      "11/11 [==============================] - 5s 420ms/step - loss: 1.9021 - accuracy: 0.3257 - val_loss: 2.0465 - val_accuracy: 0.2889\n",
      "Epoch 14/50\n",
      "11/11 [==============================] - 5s 422ms/step - loss: 1.9094 - accuracy: 0.3343 - val_loss: 1.9751 - val_accuracy: 0.3333\n",
      "Epoch 15/50\n",
      "11/11 [==============================] - 5s 423ms/step - loss: 1.8232 - accuracy: 0.3743 - val_loss: 1.9717 - val_accuracy: 0.4222\n",
      "Epoch 16/50\n",
      "11/11 [==============================] - 5s 423ms/step - loss: 1.7644 - accuracy: 0.3914 - val_loss: 2.0574 - val_accuracy: 0.2667\n",
      "Epoch 17/50\n",
      "11/11 [==============================] - 5s 422ms/step - loss: 1.7029 - accuracy: 0.4143 - val_loss: 1.8823 - val_accuracy: 0.3111\n",
      "Epoch 18/50\n",
      "11/11 [==============================] - 5s 420ms/step - loss: 1.7094 - accuracy: 0.4086 - val_loss: 1.9270 - val_accuracy: 0.3111\n",
      "Epoch 19/50\n",
      "11/11 [==============================] - 5s 423ms/step - loss: 1.6594 - accuracy: 0.4400 - val_loss: 1.8297 - val_accuracy: 0.4222\n",
      "Epoch 20/50\n",
      "11/11 [==============================] - 5s 421ms/step - loss: 1.5909 - accuracy: 0.4943 - val_loss: 1.8181 - val_accuracy: 0.3778\n",
      "Epoch 21/50\n",
      "11/11 [==============================] - 5s 420ms/step - loss: 1.5589 - accuracy: 0.4829 - val_loss: 1.6949 - val_accuracy: 0.4444\n",
      "Epoch 22/50\n",
      "11/11 [==============================] - 5s 419ms/step - loss: 1.5607 - accuracy: 0.4743 - val_loss: 1.7556 - val_accuracy: 0.4667\n",
      "Epoch 23/50\n",
      "11/11 [==============================] - 5s 424ms/step - loss: 1.4978 - accuracy: 0.4771 - val_loss: 1.6312 - val_accuracy: 0.4222\n",
      "Epoch 24/50\n",
      "11/11 [==============================] - 5s 425ms/step - loss: 1.5289 - accuracy: 0.4600 - val_loss: 1.6174 - val_accuracy: 0.4889\n",
      "Epoch 25/50\n",
      "11/11 [==============================] - 5s 423ms/step - loss: 1.4591 - accuracy: 0.5314 - val_loss: 1.6154 - val_accuracy: 0.5333\n",
      "Epoch 26/50\n",
      "11/11 [==============================] - 5s 419ms/step - loss: 1.5053 - accuracy: 0.5400 - val_loss: 1.8232 - val_accuracy: 0.4000\n",
      "Epoch 27/50\n",
      "11/11 [==============================] - 5s 423ms/step - loss: 1.4972 - accuracy: 0.4714 - val_loss: 1.7487 - val_accuracy: 0.4000\n",
      "Epoch 28/50\n",
      "11/11 [==============================] - 5s 425ms/step - loss: 1.4140 - accuracy: 0.5600 - val_loss: 1.6474 - val_accuracy: 0.4222\n",
      "Epoch 29/50\n",
      "11/11 [==============================] - 5s 421ms/step - loss: 1.4053 - accuracy: 0.5400 - val_loss: 1.8718 - val_accuracy: 0.3556\n",
      "Epoch 30/50\n",
      "11/11 [==============================] - 5s 422ms/step - loss: 1.3135 - accuracy: 0.5714 - val_loss: 1.5980 - val_accuracy: 0.4889\n",
      "Epoch 31/50\n",
      "11/11 [==============================] - 5s 423ms/step - loss: 1.3123 - accuracy: 0.5743 - val_loss: 1.5084 - val_accuracy: 0.5111\n",
      "Epoch 32/50\n",
      "11/11 [==============================] - 5s 421ms/step - loss: 1.2974 - accuracy: 0.5657 - val_loss: 1.8109 - val_accuracy: 0.3778\n",
      "Epoch 33/50\n",
      "11/11 [==============================] - 5s 420ms/step - loss: 1.2303 - accuracy: 0.6114 - val_loss: 1.5122 - val_accuracy: 0.5333\n",
      "Epoch 34/50\n",
      "11/11 [==============================] - 5s 421ms/step - loss: 1.1509 - accuracy: 0.6486 - val_loss: 1.6570 - val_accuracy: 0.4000\n",
      "Epoch 35/50\n",
      "11/11 [==============================] - 5s 421ms/step - loss: 1.1799 - accuracy: 0.6314 - val_loss: 1.5690 - val_accuracy: 0.4889\n",
      "Epoch 36/50\n",
      "11/11 [==============================] - 5s 456ms/step - loss: 1.1869 - accuracy: 0.6343 - val_loss: 1.4973 - val_accuracy: 0.4889\n",
      "Epoch 37/50\n",
      "11/11 [==============================] - 5s 429ms/step - loss: 1.0515 - accuracy: 0.6943 - val_loss: 1.4767 - val_accuracy: 0.4889\n",
      "Epoch 38/50\n",
      "11/11 [==============================] - 5s 428ms/step - loss: 0.9896 - accuracy: 0.7086 - val_loss: 1.4289 - val_accuracy: 0.4889\n",
      "Epoch 39/50\n",
      "11/11 [==============================] - 5s 427ms/step - loss: 0.9328 - accuracy: 0.7229 - val_loss: 1.4603 - val_accuracy: 0.5111\n",
      "Epoch 40/50\n",
      "11/11 [==============================] - 5s 428ms/step - loss: 0.9398 - accuracy: 0.7114 - val_loss: 1.4238 - val_accuracy: 0.5556\n",
      "Epoch 41/50\n",
      "11/11 [==============================] - 5s 428ms/step - loss: 0.8757 - accuracy: 0.7571 - val_loss: 1.4106 - val_accuracy: 0.5778\n",
      "Epoch 42/50\n",
      "11/11 [==============================] - 5s 427ms/step - loss: 0.8744 - accuracy: 0.7600 - val_loss: 1.3601 - val_accuracy: 0.5333\n",
      "Epoch 43/50\n",
      "11/11 [==============================] - 5s 426ms/step - loss: 0.8450 - accuracy: 0.7686 - val_loss: 1.4241 - val_accuracy: 0.5778\n",
      "Epoch 44/50\n",
      "11/11 [==============================] - 5s 428ms/step - loss: 0.7840 - accuracy: 0.7829 - val_loss: 1.4266 - val_accuracy: 0.6000\n",
      "Epoch 45/50\n",
      "11/11 [==============================] - 5s 425ms/step - loss: 0.8467 - accuracy: 0.7429 - val_loss: 1.3655 - val_accuracy: 0.5778\n",
      "Epoch 46/50\n",
      "11/11 [==============================] - 5s 428ms/step - loss: 0.7465 - accuracy: 0.7829 - val_loss: 1.3452 - val_accuracy: 0.5333\n",
      "Epoch 47/50\n",
      "11/11 [==============================] - 5s 427ms/step - loss: 0.7446 - accuracy: 0.8114 - val_loss: 1.2712 - val_accuracy: 0.6222\n",
      "Epoch 48/50\n",
      "11/11 [==============================] - 5s 427ms/step - loss: 0.7506 - accuracy: 0.7714 - val_loss: 1.2813 - val_accuracy: 0.6444\n",
      "Epoch 49/50\n",
      "11/11 [==============================] - 5s 431ms/step - loss: 0.7166 - accuracy: 0.8057 - val_loss: 1.2552 - val_accuracy: 0.6667\n",
      "Epoch 50/50\n",
      "11/11 [==============================] - 5s 420ms/step - loss: 0.7039 - accuracy: 0.8143 - val_loss: 1.2943 - val_accuracy: 0.5556\n"
     ]
    }
   ],
   "source": [
    "history = model.fit(X_train, y_train, epochs = EPOCHS, validation_data = (X_val, y_val), callbacks=[early_stopping])"
   ]
  },
  {
   "cell_type": "markdown",
   "id": "57ec1982",
   "metadata": {},
   "source": [
    "### Train & validation Loss"
   ]
  },
  {
   "cell_type": "code",
   "execution_count": 7,
   "id": "b6c8d1db",
   "metadata": {},
   "outputs": [
    {
     "data": {
      "text/plain": [
       "<matplotlib.legend.Legend at 0x20b9fb3e9d0>"
      ]
     },
     "execution_count": 7,
     "metadata": {},
     "output_type": "execute_result"
    },
    {
     "data": {
      "image/png": "[encoded data removed]",
      "text/plain": [
       "<Figure size 432x288 with 1 Axes>"
      ]
     },
     "metadata": {
      "needs_background": "light"
     },
     "output_type": "display_data"
    }
   ],
   "source": [
    "plt.plot(history.history['loss'], label='loss')\n",
    "plt.plot(history.history['val_loss'], label = 'val_loss')\n",
    "plt.xlabel('Epoch')\n",
    "plt.ylabel('Loss')\n",
    "plt.ylim([0.0, 3])\n",
    "plt.legend(loc='lower right')"
   ]
  },
  {
   "cell_type": "markdown",
   "id": "7af69023",
   "metadata": {},
   "source": [
    "### Train & validation Accuracy"
   ]
  },
  {
   "cell_type": "code",
   "execution_count": 8,
   "id": "0bb8dfca",
   "metadata": {},
   "outputs": [
    {
     "data": {
      "text/plain": [
       "<matplotlib.legend.Legend at 0x20bbf254fd0>"
      ]
     },
     "execution_count": 8,
     "metadata": {},
     "output_type": "execute_result"
    },
    {
     "data": {
      "image/png": "[encoded data removed]",
      "text/plain": [
       "<Figure size 432x288 with 1 Axes>"
      ]
     },
     "metadata": {
      "needs_background": "light"
     },
     "output_type": "display_data"
    }
   ],
   "source": [
    "plt.plot(history.history['accuracy'], label='accuracy')\n",
    "plt.plot(history.history['val_accuracy'], label = 'val_accuracy')\n",
    "plt.xlabel('Epoch')\n",
    "plt.ylabel('Accuracy')\n",
    "plt.ylim([0.0, 1])\n",
    "plt.legend(loc='lower right')"
   ]
  },
  {
   "cell_type": "markdown",
   "id": "9b30546c",
   "metadata": {},
   "source": [
    "## Test"
   ]
  },
  {
   "cell_type": "code",
   "execution_count": 9,
   "id": "cf4c662a",
   "metadata": {},
   "outputs": [
    {
     "name": "stdout",
     "output_type": "stream",
     "text": [
      "4/4 [==============================] - 1s 106ms/step\n"
     ]
    }
   ],
   "source": [
    "predict = np.argmax(model.predict(X_test), axis=1)"
   ]
  },
  {
   "cell_type": "code",
   "execution_count": 10,
   "id": "6ec7a04a",
   "metadata": {},
   "outputs": [
    {
     "name": "stdout",
     "output_type": "stream",
     "text": [
      "              precision    recall  f1-score   support\n",
      "\n",
      "           0       0.65      0.73      0.69        15\n",
      "           1       0.80      0.50      0.62        16\n",
      "           2       0.29      0.40      0.33         5\n",
      "           3       0.35      0.67      0.46         9\n",
      "           4       0.57      0.40      0.47        10\n",
      "           5       0.00      0.00      0.00         8\n",
      "           6       0.75      0.43      0.55        14\n",
      "           7       0.35      0.60      0.44        10\n",
      "           8       0.60      0.33      0.43         9\n",
      "           9       0.50      0.89      0.64         9\n",
      "\n",
      "    accuracy                           0.51       105\n",
      "   macro avg       0.49      0.50      0.46       105\n",
      "weighted avg       0.54      0.51      0.50       105\n",
      "\n"
     ]
    }
   ],
   "source": [
    "print(classification_report(y_test, predict))"
   ]
  },
  {
   "cell_type": "code",
   "execution_count": 11,
   "id": "9433cc53",
   "metadata": {},
   "outputs": [
    {
     "data": {
      "image/png": "[encoded data removed]",
      "text/plain": [
       "<Figure size 400x400 with 2 Axes>"
      ]
     },
     "metadata": {
      "needs_background": "light"
     },
     "output_type": "display_data"
    }
   ],
   "source": [
    "fig = plt.figure(figsize=(CLASS_COUNT // 2, CLASS_COUNT // 2), dpi=80)\n",
    "M = confusion_matrix(predict, y_test)\n",
    "plt.imshow(M, interpolation = 'nearest')\n",
    "plt.set_cmap('binary')\n",
    "plt.xticks(range(CLASS_COUNT))\n",
    "plt.yticks(range(CLASS_COUNT))\n",
    "plt.xlabel(\"true label\")\n",
    "plt.ylabel(\"predicted label\")\n",
    "plt.colorbar()\n",
    "pass"
   ]
  },
  {
   "cell_type": "code",
   "execution_count": null,
   "id": "5c484710",
   "metadata": {},
   "outputs": [],
   "source": []
  }
 ],
 "metadata": {
  "kernelspec": {
   "display_name": "Python 3 (ipykernel)",
   "language": "python",
   "name": "python3"
  },
  "language_info": {
   "codemirror_mode": {
    "name": "ipython",
    "version": 3
   },
   "file_extension": ".py",
   "mimetype": "text/x-python",
   "name": "python",
   "nbconvert_exporter": "python",
   "pygments_lexer": "ipython3",
   "version": "3.9.6"
  }
 },
 "nbformat": 4,
 "nbformat_minor": 5
}
