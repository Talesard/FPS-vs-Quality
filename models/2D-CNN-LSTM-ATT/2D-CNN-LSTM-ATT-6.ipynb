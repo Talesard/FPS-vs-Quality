{
 "cells": [
  {
   "cell_type": "code",
   "execution_count": 1,
   "id": "867cbce7",
   "metadata": {},
   "outputs": [],
   "source": [
    "import os\n",
    "\n",
    "import cv2\n",
    "from matplotlib import pyplot as plt\n",
    "from tqdm.notebook import trange, tqdm\n",
    "import numpy as np\n",
    "import tensorflow as tf\n",
    "import random\n",
    "from sklearn import preprocessing\n",
    "from sklearn.model_selection import train_test_split\n",
    "from tensorflow.keras import layers, models, utils\n",
    "from sklearn.metrics import classification_report, confusion_matrix\n",
    "\n",
    "from data_utils import read_and_preprocess_data\n",
    "from model_utils import *"
   ]
  },
  {
   "cell_type": "markdown",
   "id": "d6e5fe95",
   "metadata": {},
   "source": [
    "## Settings"
   ]
  },
  {
   "cell_type": "code",
   "execution_count": 2,
   "id": "c83c0d21",
   "metadata": {},
   "outputs": [],
   "source": [
    "FRAME_SIZE = 128\n",
    "DATA_PATH = './2sec/data_6_fps'\n",
    "EPOCHS = 50"
   ]
  },
  {
   "cell_type": "markdown",
   "id": "68882663",
   "metadata": {},
   "source": [
    "## Data"
   ]
  },
  {
   "cell_type": "code",
   "execution_count": 3,
   "id": "41431d91",
   "metadata": {},
   "outputs": [
    {
     "name": "stdout",
     "output_type": "stream",
     "text": [
      "reading...\n",
      "BalanceBeam\n",
      "CricketShot\n",
      "Fencing\n",
      "HorseRiding\n",
      "LongJump\n",
      "RockClimbingIndoor\n",
      "SalsaSpin\n",
      "SkyDiving\n",
      "TableTennisShot\n",
      "WallPushups\n",
      "class count = 10\n",
      "med frame count = 12.0\n",
      "padding...\n",
      "Labels encoding...\n",
      "(500,) (500, 12, 128, 128, 3)\n",
      "norm...\n",
      "Train-val-test split...\n",
      "Train: (350, 12, 128, 128, 3) (350,)\n",
      "Val: (45, 12, 128, 128, 3) (45,)\n",
      "Test: (105, 12, 128, 128, 3) (105,)\n"
     ]
    }
   ],
   "source": [
    "CLASS_COUNT, FRAME_COUNT, FRAME_SIZE, X_train, X_val, X_test, y_train, y_val, y_test = read_and_preprocess_data(DATA_PATH, FRAME_SIZE)"
   ]
  },
  {
   "cell_type": "markdown",
   "id": "f99a5cc9",
   "metadata": {},
   "source": [
    "## Model"
   ]
  },
  {
   "cell_type": "code",
   "execution_count": 12,
   "id": "b687e133",
   "metadata": {},
   "outputs": [
    {
     "name": "stdout",
     "output_type": "stream",
     "text": [
      "Model: \"sequential_1\"\n",
      "_________________________________________________________________\n",
      " Layer (type)                Output Shape              Param #   \n",
      "=================================================================\n",
      " time_distributed_6 (TimeDis  (None, 12, 62, 62, 64)   4864      \n",
      " tributed)                                                       \n",
      "                                                                 \n",
      " batch_normalization_4 (Batc  (None, 12, 62, 62, 64)   248       \n",
      " hNormalization)                                                 \n",
      "                                                                 \n",
      " activation_4 (Activation)   (None, 12, 62, 62, 64)    0         \n",
      "                                                                 \n",
      " time_distributed_7 (TimeDis  (None, 12, 30, 30, 32)   32800     \n",
      " tributed)                                                       \n",
      "                                                                 \n",
      " batch_normalization_5 (Batc  (None, 12, 30, 30, 32)   120       \n",
      " hNormalization)                                                 \n",
      "                                                                 \n",
      " activation_5 (Activation)   (None, 12, 30, 30, 32)    0         \n",
      "                                                                 \n",
      " time_distributed_8 (TimeDis  (None, 12, 14, 14, 32)   9248      \n",
      " tributed)                                                       \n",
      "                                                                 \n",
      " batch_normalization_6 (Batc  (None, 12, 14, 14, 32)   56        \n",
      " hNormalization)                                                 \n",
      "                                                                 \n",
      " activation_6 (Activation)   (None, 12, 14, 14, 32)    0         \n",
      "                                                                 \n",
      " time_distributed_9 (TimeDis  (None, 12, 12, 12, 16)   4624      \n",
      " tributed)                                                       \n",
      "                                                                 \n",
      " batch_normalization_7 (Batc  (None, 12, 12, 12, 16)   48        \n",
      " hNormalization)                                                 \n",
      "                                                                 \n",
      " activation_7 (Activation)   (None, 12, 12, 12, 16)    0         \n",
      "                                                                 \n",
      " time_distributed_10 (TimeDi  (None, 12, 6, 6, 16)     0         \n",
      " stributed)                                                      \n",
      "                                                                 \n",
      " time_distributed_11 (TimeDi  (None, 12, 576)          0         \n",
      " stributed)                                                      \n",
      "                                                                 \n",
      " lstm_1 (LSTM)               (None, 12, 16)            37952     \n",
      "                                                                 \n",
      " attention_1 (attention)     (None, 16)                28        \n",
      "                                                                 \n",
      " dense_2 (Dense)             (None, 20)                340       \n",
      "                                                                 \n",
      " dropout_1 (Dropout)         (None, 20)                0         \n",
      "                                                                 \n",
      " dense_3 (Dense)             (None, 10)                210       \n",
      "                                                                 \n",
      "=================================================================\n",
      "Total params: 90,538\n",
      "Trainable params: 90,302\n",
      "Non-trainable params: 236\n",
      "_________________________________________________________________\n"
     ]
    }
   ],
   "source": [
    "model = models.Sequential()\n",
    "model = add_2d_cnn_part(model, FRAME_COUNT, FRAME_SIZE)\n",
    "model.add(layers.TimeDistributed(layers.Flatten()))\n",
    "model = add_lstm_part(model, return_sequences=True)\n",
    "model.add(attention())\n",
    "model = add_dense_part(model, CLASS_COUNT)\n",
    "\n",
    "model.summary()"
   ]
  },
  {
   "cell_type": "code",
   "execution_count": 13,
   "id": "963ff906",
   "metadata": {},
   "outputs": [],
   "source": [
    "model.compile(optimizer='adam',\n",
    "              loss=tf.keras.losses.SparseCategoricalCrossentropy(from_logits=False),\n",
    "              metrics=['accuracy'],\n",
    "              )\n"
   ]
  },
  {
   "cell_type": "code",
   "execution_count": 14,
   "id": "20cf9db7",
   "metadata": {},
   "outputs": [
    {
     "name": "stdout",
     "output_type": "stream",
     "text": [
      "Epoch 1/50\n",
      "11/11 [==============================] - 5s 229ms/step - loss: 2.3209 - accuracy: 0.1371 - val_loss: 2.3067 - val_accuracy: 0.1556\n",
      "Epoch 2/50\n",
      "11/11 [==============================] - 2s 164ms/step - loss: 2.2762 - accuracy: 0.1600 - val_loss: 2.3103 - val_accuracy: 0.1333\n",
      "Epoch 3/50\n",
      "11/11 [==============================] - 2s 167ms/step - loss: 2.2494 - accuracy: 0.1629 - val_loss: 2.2904 - val_accuracy: 0.1556\n",
      "Epoch 4/50\n",
      "11/11 [==============================] - 2s 165ms/step - loss: 2.2223 - accuracy: 0.1886 - val_loss: 2.2909 - val_accuracy: 0.1333\n",
      "Epoch 5/50\n",
      "11/11 [==============================] - 2s 165ms/step - loss: 2.2076 - accuracy: 0.1943 - val_loss: 2.2869 - val_accuracy: 0.1556\n",
      "Epoch 6/50\n",
      "11/11 [==============================] - 2s 169ms/step - loss: 2.1681 - accuracy: 0.2171 - val_loss: 2.2643 - val_accuracy: 0.2000\n",
      "Epoch 7/50\n",
      "11/11 [==============================] - 2s 172ms/step - loss: 2.1433 - accuracy: 0.2371 - val_loss: 2.2389 - val_accuracy: 0.1778\n",
      "Epoch 8/50\n",
      "11/11 [==============================] - 2s 164ms/step - loss: 2.0837 - accuracy: 0.2600 - val_loss: 2.1683 - val_accuracy: 0.2444\n",
      "Epoch 9/50\n",
      "11/11 [==============================] - 2s 163ms/step - loss: 2.0731 - accuracy: 0.2371 - val_loss: 2.1443 - val_accuracy: 0.2444\n",
      "Epoch 10/50\n",
      "11/11 [==============================] - 2s 162ms/step - loss: 2.0240 - accuracy: 0.2886 - val_loss: 2.1302 - val_accuracy: 0.3111\n",
      "Epoch 11/50\n",
      "11/11 [==============================] - 2s 176ms/step - loss: 1.9723 - accuracy: 0.3200 - val_loss: 2.1315 - val_accuracy: 0.3111\n",
      "Epoch 12/50\n",
      "11/11 [==============================] - 2s 179ms/step - loss: 1.9649 - accuracy: 0.3286 - val_loss: 2.0435 - val_accuracy: 0.3556\n",
      "Epoch 13/50\n",
      "11/11 [==============================] - 2s 169ms/step - loss: 1.8939 - accuracy: 0.3371 - val_loss: 2.0194 - val_accuracy: 0.2889\n",
      "Epoch 14/50\n",
      "11/11 [==============================] - 2s 181ms/step - loss: 1.7901 - accuracy: 0.4171 - val_loss: 1.9955 - val_accuracy: 0.3111\n",
      "Epoch 15/50\n",
      "11/11 [==============================] - 2s 175ms/step - loss: 1.8524 - accuracy: 0.3743 - val_loss: 1.9856 - val_accuracy: 0.2667\n",
      "Epoch 16/50\n",
      "11/11 [==============================] - 2s 183ms/step - loss: 1.7951 - accuracy: 0.3800 - val_loss: 1.9232 - val_accuracy: 0.4444\n",
      "Epoch 17/50\n",
      "11/11 [==============================] - 2s 180ms/step - loss: 1.6706 - accuracy: 0.4629 - val_loss: 1.8589 - val_accuracy: 0.4444\n",
      "Epoch 18/50\n",
      "11/11 [==============================] - 2s 164ms/step - loss: 1.6525 - accuracy: 0.4600 - val_loss: 1.8863 - val_accuracy: 0.4444\n",
      "Epoch 19/50\n",
      "11/11 [==============================] - 2s 176ms/step - loss: 1.5716 - accuracy: 0.4914 - val_loss: 1.7899 - val_accuracy: 0.4444\n",
      "Epoch 20/50\n",
      "11/11 [==============================] - 2s 181ms/step - loss: 1.5421 - accuracy: 0.5171 - val_loss: 1.7556 - val_accuracy: 0.5333\n",
      "Epoch 21/50\n",
      "11/11 [==============================] - 2s 174ms/step - loss: 1.5044 - accuracy: 0.5086 - val_loss: 1.6573 - val_accuracy: 0.4889\n",
      "Epoch 22/50\n",
      "11/11 [==============================] - 2s 176ms/step - loss: 1.4486 - accuracy: 0.5514 - val_loss: 1.6748 - val_accuracy: 0.5556\n",
      "Epoch 23/50\n",
      "11/11 [==============================] - 2s 174ms/step - loss: 1.3908 - accuracy: 0.5371 - val_loss: 1.6523 - val_accuracy: 0.6000\n",
      "Epoch 24/50\n",
      "11/11 [==============================] - 2s 169ms/step - loss: 1.4198 - accuracy: 0.5200 - val_loss: 1.6523 - val_accuracy: 0.5556\n",
      "Epoch 25/50\n",
      "11/11 [==============================] - 2s 176ms/step - loss: 1.2606 - accuracy: 0.6114 - val_loss: 1.5521 - val_accuracy: 0.6444\n",
      "Epoch 26/50\n",
      "11/11 [==============================] - 2s 166ms/step - loss: 1.2539 - accuracy: 0.6114 - val_loss: 1.5600 - val_accuracy: 0.6000\n",
      "Epoch 27/50\n",
      "11/11 [==============================] - 2s 177ms/step - loss: 1.1849 - accuracy: 0.6657 - val_loss: 1.4843 - val_accuracy: 0.6000\n",
      "Epoch 28/50\n",
      "11/11 [==============================] - 2s 164ms/step - loss: 1.0767 - accuracy: 0.6829 - val_loss: 1.5477 - val_accuracy: 0.6000\n",
      "Epoch 29/50\n",
      "11/11 [==============================] - 2s 164ms/step - loss: 1.1415 - accuracy: 0.6771 - val_loss: 1.5112 - val_accuracy: 0.5556\n",
      "Epoch 30/50\n",
      "11/11 [==============================] - 2s 166ms/step - loss: 1.0963 - accuracy: 0.6771 - val_loss: 1.4466 - val_accuracy: 0.6000\n",
      "Epoch 31/50\n",
      "11/11 [==============================] - 2s 170ms/step - loss: 1.0246 - accuracy: 0.7029 - val_loss: 1.4700 - val_accuracy: 0.6444\n",
      "Epoch 32/50\n",
      "11/11 [==============================] - 2s 168ms/step - loss: 0.9391 - accuracy: 0.7286 - val_loss: 1.4557 - val_accuracy: 0.5778\n",
      "Epoch 33/50\n",
      "11/11 [==============================] - 2s 172ms/step - loss: 0.9803 - accuracy: 0.7371 - val_loss: 1.3622 - val_accuracy: 0.6222\n",
      "Epoch 34/50\n",
      "11/11 [==============================] - 2s 171ms/step - loss: 0.9348 - accuracy: 0.7457 - val_loss: 1.3748 - val_accuracy: 0.6667\n",
      "Epoch 35/50\n",
      "11/11 [==============================] - 2s 170ms/step - loss: 0.8970 - accuracy: 0.7457 - val_loss: 1.4180 - val_accuracy: 0.6222\n",
      "Epoch 36/50\n",
      "11/11 [==============================] - 2s 170ms/step - loss: 0.8479 - accuracy: 0.7686 - val_loss: 1.4176 - val_accuracy: 0.6222\n",
      "Epoch 37/50\n",
      "11/11 [==============================] - 2s 170ms/step - loss: 0.7919 - accuracy: 0.7857 - val_loss: 1.3966 - val_accuracy: 0.6222\n",
      "Epoch 38/50\n",
      "11/11 [==============================] - 2s 170ms/step - loss: 0.7812 - accuracy: 0.7857 - val_loss: 1.3110 - val_accuracy: 0.6000\n",
      "Epoch 39/50\n",
      "11/11 [==============================] - 2s 170ms/step - loss: 0.7743 - accuracy: 0.7514 - val_loss: 1.3843 - val_accuracy: 0.5778\n",
      "Epoch 40/50\n",
      "11/11 [==============================] - 2s 168ms/step - loss: 0.6991 - accuracy: 0.8286 - val_loss: 1.2839 - val_accuracy: 0.6444\n",
      "Epoch 41/50\n",
      "11/11 [==============================] - 2s 170ms/step - loss: 0.6668 - accuracy: 0.8171 - val_loss: 1.3554 - val_accuracy: 0.7111\n",
      "Epoch 42/50\n",
      "11/11 [==============================] - 2s 165ms/step - loss: 0.6429 - accuracy: 0.8400 - val_loss: 1.4141 - val_accuracy: 0.6222\n",
      "Epoch 43/50\n",
      "11/11 [==============================] - 2s 169ms/step - loss: 0.6476 - accuracy: 0.8143 - val_loss: 1.6567 - val_accuracy: 0.5556\n",
      "Epoch 44/50\n",
      "11/11 [==============================] - 2s 168ms/step - loss: 0.7166 - accuracy: 0.7857 - val_loss: 1.3305 - val_accuracy: 0.7111\n",
      "Epoch 45/50\n",
      "11/11 [==============================] - 2s 171ms/step - loss: 0.5847 - accuracy: 0.8457 - val_loss: 1.2830 - val_accuracy: 0.7111\n",
      "Epoch 46/50\n",
      "11/11 [==============================] - 2s 169ms/step - loss: 0.6054 - accuracy: 0.8371 - val_loss: 1.2532 - val_accuracy: 0.7333\n",
      "Epoch 47/50\n",
      "11/11 [==============================] - 2s 167ms/step - loss: 0.6416 - accuracy: 0.8000 - val_loss: 1.3338 - val_accuracy: 0.6889\n",
      "Epoch 48/50\n",
      "11/11 [==============================] - 2s 175ms/step - loss: 0.5498 - accuracy: 0.8429 - val_loss: 1.3230 - val_accuracy: 0.6889\n",
      "Epoch 49/50\n",
      "11/11 [==============================] - 2s 168ms/step - loss: 0.5111 - accuracy: 0.8486 - val_loss: 1.3346 - val_accuracy: 0.7111\n",
      "Epoch 50/50\n",
      "11/11 [==============================] - 2s 165ms/step - loss: 0.4824 - accuracy: 0.8629 - val_loss: 1.2777 - val_accuracy: 0.7111\n"
     ]
    }
   ],
   "source": [
    "history = model.fit(X_train, y_train, epochs = EPOCHS, validation_data = (X_val, y_val), callbacks=[early_stopping])"
   ]
  },
  {
   "cell_type": "markdown",
   "id": "57ec1982",
   "metadata": {},
   "source": [
    "### Train & validation Loss"
   ]
  },
  {
   "cell_type": "code",
   "execution_count": 15,
   "id": "b6c8d1db",
   "metadata": {},
   "outputs": [
    {
     "data": {
      "text/plain": [
       "<matplotlib.legend.Legend at 0x13e257195b0>"
      ]
     },
     "execution_count": 15,
     "metadata": {},
     "output_type": "execute_result"
    },
    {
     "data": {
      "image/png": "[encoded data removed]",
      "text/plain": [
       "<Figure size 432x288 with 1 Axes>"
      ]
     },
     "metadata": {
      "needs_background": "light"
     },
     "output_type": "display_data"
    }
   ],
   "source": [
    "plt.plot(history.history['loss'], label='loss')\n",
    "plt.plot(history.history['val_loss'], label = 'val_loss')\n",
    "plt.xlabel('Epoch')\n",
    "plt.ylabel('Loss')\n",
    "plt.ylim([0.0, 3])\n",
    "plt.legend(loc='lower right')"
   ]
  },
  {
   "cell_type": "markdown",
   "id": "7af69023",
   "metadata": {},
   "source": [
    "### Train & validation Accuracy"
   ]
  },
  {
   "cell_type": "code",
   "execution_count": 16,
   "id": "0bb8dfca",
   "metadata": {},
   "outputs": [
    {
     "data": {
      "text/plain": [
       "<matplotlib.legend.Legend at 0x13e257154f0>"
      ]
     },
     "execution_count": 16,
     "metadata": {},
     "output_type": "execute_result"
    },
    {
     "data": {
      "image/png": "[encoded data removed]",
      "text/plain": [
       "<Figure size 432x288 with 1 Axes>"
      ]
     },
     "metadata": {
      "needs_background": "light"
     },
     "output_type": "display_data"
    }
   ],
   "source": [
    "plt.plot(history.history['accuracy'], label='accuracy')\n",
    "plt.plot(history.history['val_accuracy'], label = 'val_accuracy')\n",
    "plt.xlabel('Epoch')\n",
    "plt.ylabel('Accuracy')\n",
    "plt.ylim([0.0, 1])\n",
    "plt.legend(loc='lower right')"
   ]
  },
  {
   "cell_type": "markdown",
   "id": "9b30546c",
   "metadata": {},
   "source": [
    "## Test"
   ]
  },
  {
   "cell_type": "code",
   "execution_count": 17,
   "id": "cf4c662a",
   "metadata": {},
   "outputs": [
    {
     "name": "stdout",
     "output_type": "stream",
     "text": [
      "4/4 [==============================] - 1s 32ms/step\n"
     ]
    }
   ],
   "source": [
    "predict = np.argmax(model.predict(X_test), axis=1)"
   ]
  },
  {
   "cell_type": "code",
   "execution_count": 18,
   "id": "6ec7a04a",
   "metadata": {},
   "outputs": [
    {
     "name": "stdout",
     "output_type": "stream",
     "text": [
      "              precision    recall  f1-score   support\n",
      "\n",
      "           0       0.69      0.73      0.71        15\n",
      "           1       0.65      0.69      0.67        16\n",
      "           2       0.50      0.80      0.62         5\n",
      "           3       0.46      0.67      0.55         9\n",
      "           4       0.88      0.70      0.78        10\n",
      "           5       0.62      0.62      0.62         8\n",
      "           6       0.75      0.43      0.55        14\n",
      "           7       0.67      0.60      0.63        10\n",
      "           8       0.57      0.44      0.50         9\n",
      "           9       0.73      0.89      0.80         9\n",
      "\n",
      "    accuracy                           0.65       105\n",
      "   macro avg       0.65      0.66      0.64       105\n",
      "weighted avg       0.67      0.65      0.65       105\n",
      "\n"
     ]
    }
   ],
   "source": [
    "print(classification_report(y_test, predict))"
   ]
  },
  {
   "cell_type": "code",
   "execution_count": 19,
   "id": "9433cc53",
   "metadata": {},
   "outputs": [
    {
     "data": {
      "image/png": "[encoded data removed]",
      "text/plain": [
       "<Figure size 400x400 with 2 Axes>"
      ]
     },
     "metadata": {
      "needs_background": "light"
     },
     "output_type": "display_data"
    }
   ],
   "source": [
    "fig = plt.figure(figsize=(CLASS_COUNT // 2, CLASS_COUNT // 2), dpi=80)\n",
    "M = confusion_matrix(predict, y_test)\n",
    "plt.imshow(M, interpolation = 'nearest')\n",
    "plt.set_cmap('binary')\n",
    "plt.xticks(range(CLASS_COUNT))\n",
    "plt.yticks(range(CLASS_COUNT))\n",
    "plt.xlabel(\"true label\")\n",
    "plt.ylabel(\"predicted label\")\n",
    "plt.colorbar()\n",
    "pass"
   ]
  },
  {
   "cell_type": "code",
   "execution_count": null,
   "id": "5c484710",
   "metadata": {},
   "outputs": [],
   "source": []
  }
 ],
 "metadata": {
  "kernelspec": {
   "display_name": "Python 3 (ipykernel)",
   "language": "python",
   "name": "python3"
  },
  "language_info": {
   "codemirror_mode": {
    "name": "ipython",
    "version": 3
   },
   "file_extension": ".py",
   "mimetype": "text/x-python",
   "name": "python",
   "nbconvert_exporter": "python",
   "pygments_lexer": "ipython3",
   "version": "3.9.6"
  }
 },
 "nbformat": 4,
 "nbformat_minor": 5
}
