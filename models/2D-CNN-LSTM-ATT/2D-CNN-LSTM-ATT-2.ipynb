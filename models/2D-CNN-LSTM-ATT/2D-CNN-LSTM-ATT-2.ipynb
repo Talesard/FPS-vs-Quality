{
 "cells": [
  {
   "cell_type": "code",
   "execution_count": 1,
   "id": "867cbce7",
   "metadata": {},
   "outputs": [],
   "source": [
    "import os\n",
    "\n",
    "import cv2\n",
    "from matplotlib import pyplot as plt\n",
    "from tqdm.notebook import trange, tqdm\n",
    "import numpy as np\n",
    "import tensorflow as tf\n",
    "import random\n",
    "from sklearn import preprocessing\n",
    "from sklearn.model_selection import train_test_split\n",
    "from tensorflow.keras import layers, models, utils\n",
    "from sklearn.metrics import classification_report, confusion_matrix\n",
    "\n",
    "from data_utils import read_and_preprocess_data\n",
    "from model_utils import *"
   ]
  },
  {
   "cell_type": "markdown",
   "id": "d6e5fe95",
   "metadata": {},
   "source": [
    "## Settings"
   ]
  },
  {
   "cell_type": "code",
   "execution_count": 2,
   "id": "c83c0d21",
   "metadata": {},
   "outputs": [],
   "source": [
    "FRAME_SIZE = 128\n",
    "DATA_PATH = './2sec/data_2_fps'\n",
    "EPOCHS = 50"
   ]
  },
  {
   "cell_type": "markdown",
   "id": "68882663",
   "metadata": {},
   "source": [
    "## Data"
   ]
  },
  {
   "cell_type": "code",
   "execution_count": 3,
   "id": "41431d91",
   "metadata": {},
   "outputs": [
    {
     "name": "stdout",
     "output_type": "stream",
     "text": [
      "reading...\n",
      "BalanceBeam\n",
      "CricketShot\n",
      "Fencing\n",
      "HorseRiding\n",
      "LongJump\n",
      "RockClimbingIndoor\n",
      "SalsaSpin\n",
      "SkyDiving\n",
      "TableTennisShot\n",
      "WallPushups\n",
      "class count = 10\n",
      "med frame count = 4.0\n",
      "padding...\n",
      "Labels encoding...\n",
      "(500,) (500, 4, 128, 128, 3)\n",
      "norm...\n",
      "Train-val-test split...\n",
      "Train: (350, 4, 128, 128, 3) (350,)\n",
      "Val: (45, 4, 128, 128, 3) (45,)\n",
      "Test: (105, 4, 128, 128, 3) (105,)\n"
     ]
    }
   ],
   "source": [
    "CLASS_COUNT, FRAME_COUNT, FRAME_SIZE, X_train, X_val, X_test, y_train, y_val, y_test = read_and_preprocess_data(DATA_PATH, FRAME_SIZE)"
   ]
  },
  {
   "cell_type": "markdown",
   "id": "f99a5cc9",
   "metadata": {},
   "source": [
    "## Model"
   ]
  },
  {
   "cell_type": "code",
   "execution_count": 4,
   "id": "b687e133",
   "metadata": {},
   "outputs": [
    {
     "name": "stdout",
     "output_type": "stream",
     "text": [
      "Model: \"sequential\"\n",
      "_________________________________________________________________\n",
      " Layer (type)                Output Shape              Param #   \n",
      "=================================================================\n",
      " time_distributed (TimeDistr  (None, 4, 62, 62, 64)    4864      \n",
      " ibuted)                                                         \n",
      "                                                                 \n",
      " batch_normalization (BatchN  (None, 4, 62, 62, 64)    248       \n",
      " ormalization)                                                   \n",
      "                                                                 \n",
      " activation (Activation)     (None, 4, 62, 62, 64)     0         \n",
      "                                                                 \n",
      " time_distributed_1 (TimeDis  (None, 4, 30, 30, 32)    32800     \n",
      " tributed)                                                       \n",
      "                                                                 \n",
      " batch_normalization_1 (Batc  (None, 4, 30, 30, 32)    120       \n",
      " hNormalization)                                                 \n",
      "                                                                 \n",
      " activation_1 (Activation)   (None, 4, 30, 30, 32)     0         \n",
      "                                                                 \n",
      " time_distributed_2 (TimeDis  (None, 4, 14, 14, 32)    9248      \n",
      " tributed)                                                       \n",
      "                                                                 \n",
      " batch_normalization_2 (Batc  (None, 4, 14, 14, 32)    56        \n",
      " hNormalization)                                                 \n",
      "                                                                 \n",
      " activation_2 (Activation)   (None, 4, 14, 14, 32)     0         \n",
      "                                                                 \n",
      " time_distributed_3 (TimeDis  (None, 4, 12, 12, 16)    4624      \n",
      " tributed)                                                       \n",
      "                                                                 \n",
      " batch_normalization_3 (Batc  (None, 4, 12, 12, 16)    48        \n",
      " hNormalization)                                                 \n",
      "                                                                 \n",
      " activation_3 (Activation)   (None, 4, 12, 12, 16)     0         \n",
      "                                                                 \n",
      " time_distributed_4 (TimeDis  (None, 4, 6, 6, 16)      0         \n",
      " tributed)                                                       \n",
      "                                                                 \n",
      " time_distributed_5 (TimeDis  (None, 4, 576)           0         \n",
      " tributed)                                                       \n",
      "                                                                 \n",
      " lstm (LSTM)                 (None, 4, 16)             37952     \n",
      "                                                                 \n",
      " attention (attention)       (None, 16)                20        \n",
      "                                                                 \n",
      " dense (Dense)               (None, 20)                340       \n",
      "                                                                 \n",
      " dropout (Dropout)           (None, 20)                0         \n",
      "                                                                 \n",
      " dense_1 (Dense)             (None, 10)                210       \n",
      "                                                                 \n",
      "=================================================================\n",
      "Total params: 90,530\n",
      "Trainable params: 90,294\n",
      "Non-trainable params: 236\n",
      "_________________________________________________________________\n"
     ]
    }
   ],
   "source": [
    "model = models.Sequential()\n",
    "model = add_2d_cnn_part(model, FRAME_COUNT, FRAME_SIZE)\n",
    "model.add(layers.TimeDistributed(layers.Flatten()))\n",
    "model = add_lstm_part(model, return_sequences=True)\n",
    "model.add(attention())\n",
    "model = add_dense_part(model, CLASS_COUNT)\n",
    "\n",
    "model.summary()"
   ]
  },
  {
   "cell_type": "code",
   "execution_count": 5,
   "id": "963ff906",
   "metadata": {},
   "outputs": [],
   "source": [
    "model.compile(optimizer='adam',\n",
    "              loss=tf.keras.losses.SparseCategoricalCrossentropy(from_logits=False),\n",
    "              metrics=['accuracy'],\n",
    "              )\n"
   ]
  },
  {
   "cell_type": "code",
   "execution_count": 6,
   "id": "20cf9db7",
   "metadata": {},
   "outputs": [
    {
     "name": "stdout",
     "output_type": "stream",
     "text": [
      "Epoch 1/50\n",
      "11/11 [==============================] - 7s 162ms/step - loss: 2.3155 - accuracy: 0.1086 - val_loss: 2.2960 - val_accuracy: 0.1778\n",
      "Epoch 2/50\n",
      "11/11 [==============================] - 1s 68ms/step - loss: 2.2775 - accuracy: 0.1400 - val_loss: 2.3087 - val_accuracy: 0.0444\n",
      "Epoch 3/50\n",
      "11/11 [==============================] - 1s 69ms/step - loss: 2.2758 - accuracy: 0.1343 - val_loss: 2.2708 - val_accuracy: 0.1778\n",
      "Epoch 4/50\n",
      "11/11 [==============================] - 1s 69ms/step - loss: 2.2319 - accuracy: 0.1857 - val_loss: 2.2885 - val_accuracy: 0.0667\n",
      "Epoch 5/50\n",
      "11/11 [==============================] - 1s 69ms/step - loss: 2.2159 - accuracy: 0.1629 - val_loss: 2.2694 - val_accuracy: 0.1111\n",
      "Epoch 6/50\n",
      "11/11 [==============================] - 1s 69ms/step - loss: 2.1841 - accuracy: 0.2029 - val_loss: 2.2401 - val_accuracy: 0.0889\n",
      "Epoch 7/50\n",
      "11/11 [==============================] - 1s 69ms/step - loss: 2.1470 - accuracy: 0.2086 - val_loss: 2.2268 - val_accuracy: 0.1556\n",
      "Epoch 8/50\n",
      "11/11 [==============================] - 1s 69ms/step - loss: 2.1192 - accuracy: 0.2286 - val_loss: 2.2066 - val_accuracy: 0.2000\n",
      "Epoch 9/50\n",
      "11/11 [==============================] - 1s 68ms/step - loss: 2.0914 - accuracy: 0.2514 - val_loss: 2.2007 - val_accuracy: 0.1556\n",
      "Epoch 10/50\n",
      "11/11 [==============================] - 1s 69ms/step - loss: 2.0543 - accuracy: 0.2686 - val_loss: 2.1986 - val_accuracy: 0.2000\n",
      "Epoch 11/50\n",
      "11/11 [==============================] - 1s 70ms/step - loss: 2.0121 - accuracy: 0.2829 - val_loss: 2.1357 - val_accuracy: 0.2000\n",
      "Epoch 12/50\n",
      "11/11 [==============================] - 1s 70ms/step - loss: 1.9776 - accuracy: 0.3171 - val_loss: 2.0881 - val_accuracy: 0.2000\n",
      "Epoch 13/50\n",
      "11/11 [==============================] - 1s 69ms/step - loss: 1.9332 - accuracy: 0.3486 - val_loss: 2.0977 - val_accuracy: 0.2889\n",
      "Epoch 14/50\n",
      "11/11 [==============================] - 1s 70ms/step - loss: 1.8667 - accuracy: 0.3257 - val_loss: 2.0541 - val_accuracy: 0.3111\n",
      "Epoch 15/50\n",
      "11/11 [==============================] - 1s 69ms/step - loss: 1.8683 - accuracy: 0.3343 - val_loss: 2.0430 - val_accuracy: 0.2222\n",
      "Epoch 16/50\n",
      "11/11 [==============================] - 1s 69ms/step - loss: 1.7634 - accuracy: 0.4143 - val_loss: 2.0392 - val_accuracy: 0.2667\n",
      "Epoch 17/50\n",
      "11/11 [==============================] - 1s 69ms/step - loss: 1.6883 - accuracy: 0.4371 - val_loss: 2.0381 - val_accuracy: 0.3111\n",
      "Epoch 18/50\n",
      "11/11 [==============================] - 1s 70ms/step - loss: 1.6601 - accuracy: 0.4543 - val_loss: 1.9901 - val_accuracy: 0.3556\n",
      "Epoch 19/50\n",
      "11/11 [==============================] - 1s 69ms/step - loss: 1.5905 - accuracy: 0.4600 - val_loss: 1.9200 - val_accuracy: 0.4222\n",
      "Epoch 20/50\n",
      "11/11 [==============================] - 1s 69ms/step - loss: 1.5496 - accuracy: 0.4714 - val_loss: 1.9265 - val_accuracy: 0.3111\n",
      "Epoch 21/50\n",
      "11/11 [==============================] - 1s 69ms/step - loss: 1.5094 - accuracy: 0.5086 - val_loss: 1.8497 - val_accuracy: 0.5333\n",
      "Epoch 22/50\n",
      "11/11 [==============================] - 1s 69ms/step - loss: 1.4370 - accuracy: 0.5629 - val_loss: 1.7860 - val_accuracy: 0.4889\n",
      "Epoch 23/50\n",
      "11/11 [==============================] - 1s 69ms/step - loss: 1.4166 - accuracy: 0.5429 - val_loss: 1.7223 - val_accuracy: 0.5111\n",
      "Epoch 24/50\n",
      "11/11 [==============================] - 1s 70ms/step - loss: 1.3076 - accuracy: 0.6029 - val_loss: 1.6910 - val_accuracy: 0.5556\n",
      "Epoch 25/50\n",
      "11/11 [==============================] - 1s 68ms/step - loss: 1.2851 - accuracy: 0.5886 - val_loss: 1.7143 - val_accuracy: 0.5111\n",
      "Epoch 26/50\n",
      "11/11 [==============================] - 1s 69ms/step - loss: 1.1883 - accuracy: 0.6286 - val_loss: 1.7201 - val_accuracy: 0.5778\n",
      "Epoch 27/50\n",
      "11/11 [==============================] - 1s 70ms/step - loss: 1.1460 - accuracy: 0.6371 - val_loss: 1.5955 - val_accuracy: 0.6000\n",
      "Epoch 28/50\n",
      "11/11 [==============================] - 1s 70ms/step - loss: 1.1085 - accuracy: 0.6771 - val_loss: 1.5747 - val_accuracy: 0.6000\n",
      "Epoch 29/50\n",
      "11/11 [==============================] - 1s 68ms/step - loss: 1.0803 - accuracy: 0.6800 - val_loss: 1.6241 - val_accuracy: 0.5556\n",
      "Epoch 30/50\n",
      "11/11 [==============================] - 1s 69ms/step - loss: 1.0968 - accuracy: 0.6257 - val_loss: 1.6290 - val_accuracy: 0.6000\n",
      "Epoch 31/50\n",
      "11/11 [==============================] - 1s 69ms/step - loss: 1.0205 - accuracy: 0.6971 - val_loss: 1.5303 - val_accuracy: 0.6000\n",
      "Epoch 32/50\n",
      "11/11 [==============================] - 1s 69ms/step - loss: 0.9166 - accuracy: 0.7286 - val_loss: 1.6939 - val_accuracy: 0.5778\n",
      "Epoch 33/50\n",
      "11/11 [==============================] - 1s 68ms/step - loss: 0.9403 - accuracy: 0.7086 - val_loss: 1.6637 - val_accuracy: 0.4889\n",
      "Epoch 34/50\n",
      "11/11 [==============================] - 1s 68ms/step - loss: 0.8638 - accuracy: 0.7371 - val_loss: 1.5823 - val_accuracy: 0.5333\n",
      "Epoch 35/50\n",
      "11/11 [==============================] - 1s 70ms/step - loss: 0.8551 - accuracy: 0.7543 - val_loss: 1.4968 - val_accuracy: 0.5778\n",
      "Epoch 36/50\n",
      "11/11 [==============================] - 1s 67ms/step - loss: 0.7874 - accuracy: 0.7629 - val_loss: 1.5278 - val_accuracy: 0.5778\n",
      "Epoch 37/50\n",
      "11/11 [==============================] - 1s 68ms/step - loss: 0.7594 - accuracy: 0.7800 - val_loss: 1.4619 - val_accuracy: 0.6667\n",
      "Epoch 38/50\n",
      "11/11 [==============================] - 1s 77ms/step - loss: 0.7622 - accuracy: 0.7743 - val_loss: 1.4540 - val_accuracy: 0.6444\n",
      "Epoch 39/50\n",
      "11/11 [==============================] - 1s 78ms/step - loss: 0.7093 - accuracy: 0.7943 - val_loss: 1.5893 - val_accuracy: 0.6222\n",
      "Epoch 40/50\n",
      "11/11 [==============================] - 1s 74ms/step - loss: 0.7149 - accuracy: 0.7943 - val_loss: 1.3779 - val_accuracy: 0.6889\n",
      "Epoch 41/50\n",
      "11/11 [==============================] - 1s 70ms/step - loss: 0.6727 - accuracy: 0.7829 - val_loss: 1.4159 - val_accuracy: 0.5778\n",
      "Epoch 42/50\n",
      "11/11 [==============================] - 1s 69ms/step - loss: 0.6182 - accuracy: 0.8057 - val_loss: 1.4617 - val_accuracy: 0.6444\n",
      "Epoch 43/50\n",
      "11/11 [==============================] - 1s 70ms/step - loss: 0.6244 - accuracy: 0.8114 - val_loss: 1.5784 - val_accuracy: 0.5333\n",
      "Epoch 44/50\n",
      "11/11 [==============================] - 1s 69ms/step - loss: 0.5975 - accuracy: 0.8171 - val_loss: 1.4104 - val_accuracy: 0.6222\n",
      "Epoch 45/50\n",
      "11/11 [==============================] - 1s 72ms/step - loss: 0.5972 - accuracy: 0.8171 - val_loss: 1.5635 - val_accuracy: 0.6444\n"
     ]
    }
   ],
   "source": [
    "history = model.fit(X_train, y_train, epochs = EPOCHS, validation_data = (X_val, y_val), callbacks=[early_stopping])"
   ]
  },
  {
   "cell_type": "markdown",
   "id": "57ec1982",
   "metadata": {},
   "source": [
    "### Train & validation Loss"
   ]
  },
  {
   "cell_type": "code",
   "execution_count": 7,
   "id": "b6c8d1db",
   "metadata": {},
   "outputs": [
    {
     "data": {
      "text/plain": [
       "<matplotlib.legend.Legend at 0x1ab9437f730>"
      ]
     },
     "execution_count": 7,
     "metadata": {},
     "output_type": "execute_result"
    },
    {
     "data": {
      "image/png": "[encoded data removed]",
      "text/plain": [
       "<Figure size 432x288 with 1 Axes>"
      ]
     },
     "metadata": {
      "needs_background": "light"
     },
     "output_type": "display_data"
    }
   ],
   "source": [
    "plt.plot(history.history['loss'], label='loss')\n",
    "plt.plot(history.history['val_loss'], label = 'val_loss')\n",
    "plt.xlabel('Epoch')\n",
    "plt.ylabel('Loss')\n",
    "plt.ylim([0.0, 3])\n",
    "plt.legend(loc='lower right')"
   ]
  },
  {
   "cell_type": "markdown",
   "id": "7af69023",
   "metadata": {},
   "source": [
    "### Train & validation Accuracy"
   ]
  },
  {
   "cell_type": "code",
   "execution_count": 8,
   "id": "0bb8dfca",
   "metadata": {},
   "outputs": [
    {
     "data": {
      "text/plain": [
       "<matplotlib.legend.Legend at 0x1ab91e71c40>"
      ]
     },
     "execution_count": 8,
     "metadata": {},
     "output_type": "execute_result"
    },
    {
     "data": {
      "image/png": "[encoded data removed]",
      "text/plain": [
       "<Figure size 432x288 with 1 Axes>"
      ]
     },
     "metadata": {
      "needs_background": "light"
     },
     "output_type": "display_data"
    }
   ],
   "source": [
    "plt.plot(history.history['accuracy'], label='accuracy')\n",
    "plt.plot(history.history['val_accuracy'], label = 'val_accuracy')\n",
    "plt.xlabel('Epoch')\n",
    "plt.ylabel('Accuracy')\n",
    "plt.ylim([0.0, 1])\n",
    "plt.legend(loc='lower right')"
   ]
  },
  {
   "cell_type": "markdown",
   "id": "9b30546c",
   "metadata": {},
   "source": [
    "## Test"
   ]
  },
  {
   "cell_type": "code",
   "execution_count": 9,
   "id": "cf4c662a",
   "metadata": {},
   "outputs": [
    {
     "name": "stdout",
     "output_type": "stream",
     "text": [
      "4/4 [==============================] - 1s 23ms/step\n"
     ]
    }
   ],
   "source": [
    "predict = np.argmax(model.predict(X_test), axis=1)"
   ]
  },
  {
   "cell_type": "code",
   "execution_count": 10,
   "id": "6ec7a04a",
   "metadata": {},
   "outputs": [
    {
     "name": "stdout",
     "output_type": "stream",
     "text": [
      "              precision    recall  f1-score   support\n",
      "\n",
      "           0       0.73      0.53      0.62        15\n",
      "           1       0.58      0.44      0.50        16\n",
      "           2       0.21      0.60      0.32         5\n",
      "           3       0.50      0.33      0.40         9\n",
      "           4       0.55      0.60      0.57        10\n",
      "           5       0.57      0.50      0.53         8\n",
      "           6       0.54      0.50      0.52        14\n",
      "           7       1.00      0.60      0.75        10\n",
      "           8       0.14      0.11      0.12         9\n",
      "           9       0.50      1.00      0.67         9\n",
      "\n",
      "    accuracy                           0.51       105\n",
      "   macro avg       0.53      0.52      0.50       105\n",
      "weighted avg       0.56      0.51      0.52       105\n",
      "\n"
     ]
    }
   ],
   "source": [
    "print(classification_report(y_test, predict))"
   ]
  },
  {
   "cell_type": "code",
   "execution_count": 11,
   "id": "9433cc53",
   "metadata": {},
   "outputs": [
    {
     "data": {
      "image/png": "[encoded data removed]",
      "text/plain": [
       "<Figure size 400x400 with 2 Axes>"
      ]
     },
     "metadata": {
      "needs_background": "light"
     },
     "output_type": "display_data"
    }
   ],
   "source": [
    "fig = plt.figure(figsize=(CLASS_COUNT // 2, CLASS_COUNT // 2), dpi=80)\n",
    "M = confusion_matrix(predict, y_test)\n",
    "plt.imshow(M, interpolation = 'nearest')\n",
    "plt.set_cmap('binary')\n",
    "plt.xticks(range(CLASS_COUNT))\n",
    "plt.yticks(range(CLASS_COUNT))\n",
    "plt.xlabel(\"true label\")\n",
    "plt.ylabel(\"predicted label\")\n",
    "plt.colorbar()\n",
    "pass"
   ]
  },
  {
   "cell_type": "code",
   "execution_count": null,
   "id": "5c484710",
   "metadata": {},
   "outputs": [],
   "source": []
  }
 ],
 "metadata": {
  "kernelspec": {
   "display_name": "Python 3 (ipykernel)",
   "language": "python",
   "name": "python3"
  },
  "language_info": {
   "codemirror_mode": {
    "name": "ipython",
    "version": 3
   },
   "file_extension": ".py",
   "mimetype": "text/x-python",
   "name": "python",
   "nbconvert_exporter": "python",
   "pygments_lexer": "ipython3",
   "version": "3.9.6"
  }
 },
 "nbformat": 4,
 "nbformat_minor": 5
}
