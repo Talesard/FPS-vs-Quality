{
 "cells": [
  {
   "cell_type": "code",
   "execution_count": 1,
   "id": "867cbce7",
   "metadata": {},
   "outputs": [],
   "source": [
    "import os\n",
    "\n",
    "import cv2\n",
    "from matplotlib import pyplot as plt\n",
    "from tqdm.notebook import trange, tqdm\n",
    "import numpy as np\n",
    "import tensorflow as tf\n",
    "import random\n",
    "from sklearn import preprocessing\n",
    "from sklearn.model_selection import train_test_split\n",
    "from tensorflow.keras import layers, models, utils\n",
    "from sklearn.metrics import classification_report, confusion_matrix\n",
    "\n",
    "from data_utils import read_and_preprocess_data\n",
    "from model_utils import *"
   ]
  },
  {
   "cell_type": "markdown",
   "id": "d6e5fe95",
   "metadata": {},
   "source": [
    "## Settings"
   ]
  },
  {
   "cell_type": "code",
   "execution_count": 2,
   "id": "c83c0d21",
   "metadata": {},
   "outputs": [],
   "source": [
    "FRAME_SIZE = 128\n",
    "DATA_PATH = './2sec/data_1_fps'\n",
    "EPOCHS = 50"
   ]
  },
  {
   "cell_type": "markdown",
   "id": "68882663",
   "metadata": {},
   "source": [
    "## Data"
   ]
  },
  {
   "cell_type": "code",
   "execution_count": 3,
   "id": "41431d91",
   "metadata": {},
   "outputs": [
    {
     "name": "stdout",
     "output_type": "stream",
     "text": [
      "reading...\n",
      "BalanceBeam\n",
      "CricketShot\n",
      "Fencing\n",
      "HorseRiding\n",
      "LongJump\n",
      "RockClimbingIndoor\n",
      "SalsaSpin\n",
      "SkyDiving\n",
      "TableTennisShot\n",
      "WallPushups\n",
      "class count = 10\n",
      "med frame count = 2.0\n",
      "padding...\n",
      "Labels encoding...\n",
      "(500,) (500, 2, 128, 128, 3)\n",
      "norm...\n",
      "Train-val-test split...\n",
      "Train: (350, 2, 128, 128, 3) (350,)\n",
      "Val: (45, 2, 128, 128, 3) (45,)\n",
      "Test: (105, 2, 128, 128, 3) (105,)\n"
     ]
    }
   ],
   "source": [
    "CLASS_COUNT, FRAME_COUNT, FRAME_SIZE, X_train, X_val, X_test, y_train, y_val, y_test = read_and_preprocess_data(DATA_PATH, FRAME_SIZE)"
   ]
  },
  {
   "cell_type": "markdown",
   "id": "f99a5cc9",
   "metadata": {},
   "source": [
    "## Model"
   ]
  },
  {
   "cell_type": "code",
   "execution_count": 4,
   "id": "b687e133",
   "metadata": {},
   "outputs": [
    {
     "name": "stdout",
     "output_type": "stream",
     "text": [
      "Model: \"sequential\"\n",
      "_________________________________________________________________\n",
      " Layer (type)                Output Shape              Param #   \n",
      "=================================================================\n",
      " time_distributed (TimeDistr  (None, 2, 62, 62, 64)    4864      \n",
      " ibuted)                                                         \n",
      "                                                                 \n",
      " batch_normalization (BatchN  (None, 2, 62, 62, 64)    248       \n",
      " ormalization)                                                   \n",
      "                                                                 \n",
      " activation (Activation)     (None, 2, 62, 62, 64)     0         \n",
      "                                                                 \n",
      " time_distributed_1 (TimeDis  (None, 2, 30, 30, 32)    32800     \n",
      " tributed)                                                       \n",
      "                                                                 \n",
      " batch_normalization_1 (Batc  (None, 2, 30, 30, 32)    120       \n",
      " hNormalization)                                                 \n",
      "                                                                 \n",
      " activation_1 (Activation)   (None, 2, 30, 30, 32)     0         \n",
      "                                                                 \n",
      " time_distributed_2 (TimeDis  (None, 2, 14, 14, 32)    9248      \n",
      " tributed)                                                       \n",
      "                                                                 \n",
      " batch_normalization_2 (Batc  (None, 2, 14, 14, 32)    56        \n",
      " hNormalization)                                                 \n",
      "                                                                 \n",
      " activation_2 (Activation)   (None, 2, 14, 14, 32)     0         \n",
      "                                                                 \n",
      " time_distributed_3 (TimeDis  (None, 2, 12, 12, 16)    4624      \n",
      " tributed)                                                       \n",
      "                                                                 \n",
      " batch_normalization_3 (Batc  (None, 2, 12, 12, 16)    48        \n",
      " hNormalization)                                                 \n",
      "                                                                 \n",
      " activation_3 (Activation)   (None, 2, 12, 12, 16)     0         \n",
      "                                                                 \n",
      " time_distributed_4 (TimeDis  (None, 2, 6, 6, 16)      0         \n",
      " tributed)                                                       \n",
      "                                                                 \n",
      " time_distributed_5 (TimeDis  (None, 2, 576)           0         \n",
      " tributed)                                                       \n",
      "                                                                 \n",
      " lstm (LSTM)                 (None, 2, 16)             37952     \n",
      "                                                                 \n",
      " attention (attention)       (None, 16)                18        \n",
      "                                                                 \n",
      " dense (Dense)               (None, 20)                340       \n",
      "                                                                 \n",
      " dropout (Dropout)           (None, 20)                0         \n",
      "                                                                 \n",
      " dense_1 (Dense)             (None, 10)                210       \n",
      "                                                                 \n",
      "=================================================================\n",
      "Total params: 90,528\n",
      "Trainable params: 90,292\n",
      "Non-trainable params: 236\n",
      "_________________________________________________________________\n"
     ]
    }
   ],
   "source": [
    "model = models.Sequential()\n",
    "model = add_2d_cnn_part(model, FRAME_COUNT, FRAME_SIZE)\n",
    "model.add(layers.TimeDistributed(layers.Flatten()))\n",
    "model = add_lstm_part(model, return_sequences=True)\n",
    "model.add(attention())\n",
    "model = add_dense_part(model, CLASS_COUNT)\n",
    "\n",
    "model.summary()"
   ]
  },
  {
   "cell_type": "code",
   "execution_count": 5,
   "id": "963ff906",
   "metadata": {},
   "outputs": [],
   "source": [
    "model.compile(optimizer='adam',\n",
    "              loss=tf.keras.losses.SparseCategoricalCrossentropy(from_logits=False),\n",
    "              metrics=['accuracy'],\n",
    "              )\n"
   ]
  },
  {
   "cell_type": "code",
   "execution_count": 6,
   "id": "20cf9db7",
   "metadata": {},
   "outputs": [
    {
     "name": "stdout",
     "output_type": "stream",
     "text": [
      "Epoch 1/50\n",
      "11/11 [==============================] - 7s 116ms/step - loss: 2.3024 - accuracy: 0.1257 - val_loss: 2.3139 - val_accuracy: 0.0889\n",
      "Epoch 2/50\n",
      "11/11 [==============================] - 0s 40ms/step - loss: 2.2662 - accuracy: 0.1400 - val_loss: 2.3083 - val_accuracy: 0.1111\n",
      "Epoch 3/50\n",
      "11/11 [==============================] - 0s 40ms/step - loss: 2.2269 - accuracy: 0.1800 - val_loss: 2.3081 - val_accuracy: 0.1333\n",
      "Epoch 4/50\n",
      "11/11 [==============================] - 0s 40ms/step - loss: 2.1865 - accuracy: 0.2143 - val_loss: 2.2838 - val_accuracy: 0.1333\n",
      "Epoch 5/50\n",
      "11/11 [==============================] - 0s 40ms/step - loss: 2.1296 - accuracy: 0.2486 - val_loss: 2.2718 - val_accuracy: 0.1778\n",
      "Epoch 6/50\n",
      "11/11 [==============================] - 0s 40ms/step - loss: 2.0568 - accuracy: 0.2829 - val_loss: 2.2527 - val_accuracy: 0.1556\n",
      "Epoch 7/50\n",
      "11/11 [==============================] - 0s 40ms/step - loss: 2.0345 - accuracy: 0.2800 - val_loss: 2.2506 - val_accuracy: 0.1556\n",
      "Epoch 8/50\n",
      "11/11 [==============================] - 0s 40ms/step - loss: 1.9392 - accuracy: 0.3486 - val_loss: 2.1958 - val_accuracy: 0.2444\n",
      "Epoch 9/50\n",
      "11/11 [==============================] - 0s 41ms/step - loss: 1.9264 - accuracy: 0.2914 - val_loss: 2.1995 - val_accuracy: 0.2667\n",
      "Epoch 10/50\n",
      "11/11 [==============================] - 0s 41ms/step - loss: 1.8323 - accuracy: 0.3657 - val_loss: 2.1641 - val_accuracy: 0.2889\n",
      "Epoch 11/50\n",
      "11/11 [==============================] - 0s 41ms/step - loss: 1.7952 - accuracy: 0.3771 - val_loss: 2.1674 - val_accuracy: 0.2444\n",
      "Epoch 12/50\n",
      "11/11 [==============================] - 0s 41ms/step - loss: 1.7650 - accuracy: 0.3971 - val_loss: 2.1494 - val_accuracy: 0.2889\n",
      "Epoch 13/50\n",
      "11/11 [==============================] - 0s 41ms/step - loss: 1.6683 - accuracy: 0.4371 - val_loss: 2.0998 - val_accuracy: 0.2889\n",
      "Epoch 14/50\n",
      "11/11 [==============================] - 0s 41ms/step - loss: 1.5908 - accuracy: 0.4714 - val_loss: 2.0917 - val_accuracy: 0.2667\n",
      "Epoch 15/50\n",
      "11/11 [==============================] - 0s 42ms/step - loss: 1.5439 - accuracy: 0.4657 - val_loss: 2.0212 - val_accuracy: 0.2444\n",
      "Epoch 16/50\n",
      "11/11 [==============================] - 0s 41ms/step - loss: 1.4568 - accuracy: 0.5343 - val_loss: 2.0135 - val_accuracy: 0.2889\n",
      "Epoch 17/50\n",
      "11/11 [==============================] - 0s 41ms/step - loss: 1.4151 - accuracy: 0.5486 - val_loss: 1.9405 - val_accuracy: 0.2889\n",
      "Epoch 18/50\n",
      "11/11 [==============================] - 0s 40ms/step - loss: 1.3491 - accuracy: 0.5743 - val_loss: 1.9592 - val_accuracy: 0.3111\n",
      "Epoch 19/50\n",
      "11/11 [==============================] - 0s 41ms/step - loss: 1.3280 - accuracy: 0.5714 - val_loss: 1.8997 - val_accuracy: 0.3111\n",
      "Epoch 20/50\n",
      "11/11 [==============================] - 0s 41ms/step - loss: 1.2512 - accuracy: 0.5829 - val_loss: 1.8914 - val_accuracy: 0.2667\n",
      "Epoch 21/50\n",
      "11/11 [==============================] - 0s 41ms/step - loss: 1.1825 - accuracy: 0.6457 - val_loss: 1.8563 - val_accuracy: 0.4000\n",
      "Epoch 22/50\n",
      "11/11 [==============================] - 0s 40ms/step - loss: 1.1947 - accuracy: 0.6286 - val_loss: 1.8733 - val_accuracy: 0.3778\n",
      "Epoch 23/50\n",
      "11/11 [==============================] - 0s 40ms/step - loss: 1.1162 - accuracy: 0.6714 - val_loss: 1.8660 - val_accuracy: 0.3778\n",
      "Epoch 24/50\n",
      "11/11 [==============================] - 0s 41ms/step - loss: 1.0039 - accuracy: 0.7086 - val_loss: 1.7867 - val_accuracy: 0.3778\n",
      "Epoch 25/50\n",
      "11/11 [==============================] - 0s 41ms/step - loss: 0.9669 - accuracy: 0.7200 - val_loss: 1.7630 - val_accuracy: 0.3778\n",
      "Epoch 26/50\n",
      "11/11 [==============================] - 0s 40ms/step - loss: 1.0144 - accuracy: 0.6771 - val_loss: 1.7266 - val_accuracy: 0.4222\n",
      "Epoch 27/50\n",
      "11/11 [==============================] - 0s 41ms/step - loss: 0.8953 - accuracy: 0.7457 - val_loss: 1.6418 - val_accuracy: 0.4667\n",
      "Epoch 28/50\n",
      "11/11 [==============================] - 0s 41ms/step - loss: 0.8555 - accuracy: 0.7771 - val_loss: 1.5941 - val_accuracy: 0.4889\n",
      "Epoch 29/50\n",
      "11/11 [==============================] - 0s 39ms/step - loss: 0.8085 - accuracy: 0.7857 - val_loss: 1.7343 - val_accuracy: 0.4222\n",
      "Epoch 30/50\n",
      "11/11 [==============================] - 0s 39ms/step - loss: 0.7938 - accuracy: 0.7914 - val_loss: 1.6200 - val_accuracy: 0.4222\n",
      "Epoch 31/50\n",
      "11/11 [==============================] - 0s 39ms/step - loss: 0.7018 - accuracy: 0.8343 - val_loss: 1.6383 - val_accuracy: 0.4667\n",
      "Epoch 32/50\n",
      "11/11 [==============================] - 0s 41ms/step - loss: 0.6945 - accuracy: 0.8229 - val_loss: 1.5611 - val_accuracy: 0.5778\n",
      "Epoch 33/50\n",
      "11/11 [==============================] - 0s 41ms/step - loss: 0.6710 - accuracy: 0.8257 - val_loss: 1.5162 - val_accuracy: 0.5111\n",
      "Epoch 34/50\n",
      "11/11 [==============================] - 0s 40ms/step - loss: 0.6331 - accuracy: 0.8629 - val_loss: 1.6056 - val_accuracy: 0.5778\n",
      "Epoch 35/50\n",
      "11/11 [==============================] - 0s 40ms/step - loss: 0.6020 - accuracy: 0.8486 - val_loss: 1.6643 - val_accuracy: 0.5111\n",
      "Epoch 36/50\n",
      "11/11 [==============================] - 0s 39ms/step - loss: 0.6019 - accuracy: 0.8514 - val_loss: 1.6420 - val_accuracy: 0.4444\n",
      "Epoch 37/50\n",
      "11/11 [==============================] - 0s 39ms/step - loss: 0.5447 - accuracy: 0.8571 - val_loss: 1.5553 - val_accuracy: 0.5778\n",
      "Epoch 38/50\n",
      "11/11 [==============================] - 0s 41ms/step - loss: 0.5336 - accuracy: 0.8743 - val_loss: 1.4958 - val_accuracy: 0.5333\n",
      "Epoch 39/50\n",
      "11/11 [==============================] - 0s 40ms/step - loss: 0.5313 - accuracy: 0.8629 - val_loss: 1.6260 - val_accuracy: 0.6000\n",
      "Epoch 40/50\n",
      "11/11 [==============================] - 0s 41ms/step - loss: 0.5414 - accuracy: 0.8771 - val_loss: 1.6822 - val_accuracy: 0.5333\n",
      "Epoch 41/50\n",
      "11/11 [==============================] - 0s 45ms/step - loss: 0.4594 - accuracy: 0.8886 - val_loss: 1.6289 - val_accuracy: 0.5778\n",
      "Epoch 42/50\n",
      "11/11 [==============================] - 0s 41ms/step - loss: 0.4723 - accuracy: 0.8771 - val_loss: 1.6782 - val_accuracy: 0.5333\n",
      "Epoch 43/50\n",
      "11/11 [==============================] - 0s 43ms/step - loss: 0.4189 - accuracy: 0.8971 - val_loss: 1.5635 - val_accuracy: 0.5556\n"
     ]
    }
   ],
   "source": [
    "history = model.fit(X_train, y_train, epochs = EPOCHS, validation_data = (X_val, y_val), callbacks=[early_stopping])"
   ]
  },
  {
   "cell_type": "markdown",
   "id": "57ec1982",
   "metadata": {},
   "source": [
    "### Train & validation Loss"
   ]
  },
  {
   "cell_type": "code",
   "execution_count": 7,
   "id": "b6c8d1db",
   "metadata": {},
   "outputs": [
    {
     "data": {
      "text/plain": [
       "<matplotlib.legend.Legend at 0x1840257e430>"
      ]
     },
     "execution_count": 7,
     "metadata": {},
     "output_type": "execute_result"
    },
    {
     "data": {
      "image/png": "[encoded data removed]",
      "text/plain": [
       "<Figure size 432x288 with 1 Axes>"
      ]
     },
     "metadata": {
      "needs_background": "light"
     },
     "output_type": "display_data"
    }
   ],
   "source": [
    "plt.plot(history.history['loss'], label='loss')\n",
    "plt.plot(history.history['val_loss'], label = 'val_loss')\n",
    "plt.xlabel('Epoch')\n",
    "plt.ylabel('Loss')\n",
    "plt.ylim([0.0, 3])\n",
    "plt.legend(loc='lower right')"
   ]
  },
  {
   "cell_type": "markdown",
   "id": "7af69023",
   "metadata": {},
   "source": [
    "### Train & validation Accuracy"
   ]
  },
  {
   "cell_type": "code",
   "execution_count": 8,
   "id": "0bb8dfca",
   "metadata": {},
   "outputs": [
    {
     "data": {
      "text/plain": [
       "<matplotlib.legend.Legend at 0x18454a4ffd0>"
      ]
     },
     "execution_count": 8,
     "metadata": {},
     "output_type": "execute_result"
    },
    {
     "data": {
      "image/png": "[encoded data removed]",
      "text/plain": [
       "<Figure size 432x288 with 1 Axes>"
      ]
     },
     "metadata": {
      "needs_background": "light"
     },
     "output_type": "display_data"
    }
   ],
   "source": [
    "plt.plot(history.history['accuracy'], label='accuracy')\n",
    "plt.plot(history.history['val_accuracy'], label = 'val_accuracy')\n",
    "plt.xlabel('Epoch')\n",
    "plt.ylabel('Accuracy')\n",
    "plt.ylim([0.0, 1])\n",
    "plt.legend(loc='lower right')"
   ]
  },
  {
   "cell_type": "markdown",
   "id": "9b30546c",
   "metadata": {},
   "source": [
    "## Test"
   ]
  },
  {
   "cell_type": "code",
   "execution_count": 9,
   "id": "cf4c662a",
   "metadata": {},
   "outputs": [
    {
     "name": "stdout",
     "output_type": "stream",
     "text": [
      "4/4 [==============================] - 1s 16ms/step\n"
     ]
    }
   ],
   "source": [
    "predict = np.argmax(model.predict(X_test), axis=1)"
   ]
  },
  {
   "cell_type": "code",
   "execution_count": 10,
   "id": "6ec7a04a",
   "metadata": {},
   "outputs": [
    {
     "name": "stdout",
     "output_type": "stream",
     "text": [
      "              precision    recall  f1-score   support\n",
      "\n",
      "           0       0.73      0.53      0.62        15\n",
      "           1       0.73      0.69      0.71        16\n",
      "           2       0.50      0.80      0.62         5\n",
      "           3       0.38      0.67      0.48         9\n",
      "           4       0.40      0.80      0.53        10\n",
      "           5       0.43      0.38      0.40         8\n",
      "           6       0.64      0.50      0.56        14\n",
      "           7       0.75      0.30      0.43        10\n",
      "           8       0.50      0.33      0.40         9\n",
      "           9       0.86      0.67      0.75         9\n",
      "\n",
      "    accuracy                           0.56       105\n",
      "   macro avg       0.59      0.57      0.55       105\n",
      "weighted avg       0.61      0.56      0.56       105\n",
      "\n"
     ]
    }
   ],
   "source": [
    "print(classification_report(y_test, predict))"
   ]
  },
  {
   "cell_type": "code",
   "execution_count": 11,
   "id": "9433cc53",
   "metadata": {},
   "outputs": [
    {
     "data": {
      "image/png": "[encoded data removed]",
      "text/plain": [
       "<Figure size 400x400 with 2 Axes>"
      ]
     },
     "metadata": {
      "needs_background": "light"
     },
     "output_type": "display_data"
    }
   ],
   "source": [
    "fig = plt.figure(figsize=(CLASS_COUNT // 2, CLASS_COUNT // 2), dpi=80)\n",
    "M = confusion_matrix(predict, y_test)\n",
    "plt.imshow(M, interpolation = 'nearest')\n",
    "plt.set_cmap('binary')\n",
    "plt.xticks(range(CLASS_COUNT))\n",
    "plt.yticks(range(CLASS_COUNT))\n",
    "plt.xlabel(\"true label\")\n",
    "plt.ylabel(\"predicted label\")\n",
    "plt.colorbar()\n",
    "pass"
   ]
  },
  {
   "cell_type": "code",
   "execution_count": null,
   "id": "5c484710",
   "metadata": {},
   "outputs": [],
   "source": []
  }
 ],
 "metadata": {
  "kernelspec": {
   "display_name": "Python 3 (ipykernel)",
   "language": "python",
   "name": "python3"
  },
  "language_info": {
   "codemirror_mode": {
    "name": "ipython",
    "version": 3
   },
   "file_extension": ".py",
   "mimetype": "text/x-python",
   "name": "python",
   "nbconvert_exporter": "python",
   "pygments_lexer": "ipython3",
   "version": "3.9.6"
  }
 },
 "nbformat": 4,
 "nbformat_minor": 5
}
