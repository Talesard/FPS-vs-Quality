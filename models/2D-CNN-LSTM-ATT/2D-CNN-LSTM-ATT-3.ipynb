{
 "cells": [
  {
   "cell_type": "code",
   "execution_count": 1,
   "id": "867cbce7",
   "metadata": {},
   "outputs": [],
   "source": [
    "import os\n",
    "\n",
    "import cv2\n",
    "from matplotlib import pyplot as plt\n",
    "from tqdm.notebook import trange, tqdm\n",
    "import numpy as np\n",
    "import tensorflow as tf\n",
    "import random\n",
    "from sklearn import preprocessing\n",
    "from sklearn.model_selection import train_test_split\n",
    "from tensorflow.keras import layers, models, utils\n",
    "from sklearn.metrics import classification_report, confusion_matrix\n",
    "\n",
    "from data_utils import read_and_preprocess_data\n",
    "from model_utils import *"
   ]
  },
  {
   "cell_type": "markdown",
   "id": "d6e5fe95",
   "metadata": {},
   "source": [
    "## Settings"
   ]
  },
  {
   "cell_type": "code",
   "execution_count": 2,
   "id": "c83c0d21",
   "metadata": {},
   "outputs": [],
   "source": [
    "FRAME_SIZE = 128\n",
    "DATA_PATH = './2sec/data_3_fps'\n",
    "EPOCHS = 50"
   ]
  },
  {
   "cell_type": "markdown",
   "id": "68882663",
   "metadata": {},
   "source": [
    "## Data"
   ]
  },
  {
   "cell_type": "code",
   "execution_count": 3,
   "id": "41431d91",
   "metadata": {},
   "outputs": [
    {
     "name": "stdout",
     "output_type": "stream",
     "text": [
      "reading...\n",
      "BalanceBeam\n",
      "CricketShot\n",
      "Fencing\n",
      "HorseRiding\n",
      "LongJump\n",
      "RockClimbingIndoor\n",
      "SalsaSpin\n",
      "SkyDiving\n",
      "TableTennisShot\n",
      "WallPushups\n",
      "class count = 10\n",
      "med frame count = 6.0\n",
      "padding...\n",
      "Labels encoding...\n",
      "(500,) (500, 6, 128, 128, 3)\n",
      "norm...\n",
      "Train-val-test split...\n",
      "Train: (350, 6, 128, 128, 3) (350,)\n",
      "Val: (45, 6, 128, 128, 3) (45,)\n",
      "Test: (105, 6, 128, 128, 3) (105,)\n"
     ]
    }
   ],
   "source": [
    "CLASS_COUNT, FRAME_COUNT, FRAME_SIZE, X_train, X_val, X_test, y_train, y_val, y_test = read_and_preprocess_data(DATA_PATH, FRAME_SIZE)"
   ]
  },
  {
   "cell_type": "markdown",
   "id": "f99a5cc9",
   "metadata": {},
   "source": [
    "## Model"
   ]
  },
  {
   "cell_type": "code",
   "execution_count": 4,
   "id": "b687e133",
   "metadata": {},
   "outputs": [
    {
     "name": "stdout",
     "output_type": "stream",
     "text": [
      "Model: \"sequential\"\n",
      "_________________________________________________________________\n",
      " Layer (type)                Output Shape              Param #   \n",
      "=================================================================\n",
      " time_distributed (TimeDistr  (None, 6, 62, 62, 64)    4864      \n",
      " ibuted)                                                         \n",
      "                                                                 \n",
      " batch_normalization (BatchN  (None, 6, 62, 62, 64)    248       \n",
      " ormalization)                                                   \n",
      "                                                                 \n",
      " activation (Activation)     (None, 6, 62, 62, 64)     0         \n",
      "                                                                 \n",
      " time_distributed_1 (TimeDis  (None, 6, 30, 30, 32)    32800     \n",
      " tributed)                                                       \n",
      "                                                                 \n",
      " batch_normalization_1 (Batc  (None, 6, 30, 30, 32)    120       \n",
      " hNormalization)                                                 \n",
      "                                                                 \n",
      " activation_1 (Activation)   (None, 6, 30, 30, 32)     0         \n",
      "                                                                 \n",
      " time_distributed_2 (TimeDis  (None, 6, 14, 14, 32)    9248      \n",
      " tributed)                                                       \n",
      "                                                                 \n",
      " batch_normalization_2 (Batc  (None, 6, 14, 14, 32)    56        \n",
      " hNormalization)                                                 \n",
      "                                                                 \n",
      " activation_2 (Activation)   (None, 6, 14, 14, 32)     0         \n",
      "                                                                 \n",
      " time_distributed_3 (TimeDis  (None, 6, 12, 12, 16)    4624      \n",
      " tributed)                                                       \n",
      "                                                                 \n",
      " batch_normalization_3 (Batc  (None, 6, 12, 12, 16)    48        \n",
      " hNormalization)                                                 \n",
      "                                                                 \n",
      " activation_3 (Activation)   (None, 6, 12, 12, 16)     0         \n",
      "                                                                 \n",
      " time_distributed_4 (TimeDis  (None, 6, 6, 6, 16)      0         \n",
      " tributed)                                                       \n",
      "                                                                 \n",
      " time_distributed_5 (TimeDis  (None, 6, 576)           0         \n",
      " tributed)                                                       \n",
      "                                                                 \n",
      " lstm (LSTM)                 (None, 6, 16)             37952     \n",
      "                                                                 \n",
      " attention (attention)       (None, 16)                22        \n",
      "                                                                 \n",
      " dense (Dense)               (None, 20)                340       \n",
      "                                                                 \n",
      " dropout (Dropout)           (None, 20)                0         \n",
      "                                                                 \n",
      " dense_1 (Dense)             (None, 10)                210       \n",
      "                                                                 \n",
      "=================================================================\n",
      "Total params: 90,532\n",
      "Trainable params: 90,296\n",
      "Non-trainable params: 236\n",
      "_________________________________________________________________\n"
     ]
    }
   ],
   "source": [
    "model = models.Sequential()\n",
    "model = add_2d_cnn_part(model, FRAME_COUNT, FRAME_SIZE)\n",
    "model.add(layers.TimeDistributed(layers.Flatten()))\n",
    "model = add_lstm_part(model, return_sequences=True)\n",
    "model.add(attention())\n",
    "model = add_dense_part(model, CLASS_COUNT)\n",
    "\n",
    "model.summary()"
   ]
  },
  {
   "cell_type": "code",
   "execution_count": 5,
   "id": "963ff906",
   "metadata": {},
   "outputs": [],
   "source": [
    "model.compile(optimizer='adam',\n",
    "              loss=tf.keras.losses.SparseCategoricalCrossentropy(from_logits=False),\n",
    "              metrics=['accuracy'],\n",
    "              )\n"
   ]
  },
  {
   "cell_type": "code",
   "execution_count": 6,
   "id": "20cf9db7",
   "metadata": {},
   "outputs": [
    {
     "name": "stdout",
     "output_type": "stream",
     "text": [
      "Epoch 1/50\n",
      "11/11 [==============================] - 8s 203ms/step - loss: 2.3137 - accuracy: 0.0943 - val_loss: 2.3047 - val_accuracy: 0.0889\n",
      "Epoch 2/50\n",
      "11/11 [==============================] - 1s 96ms/step - loss: 2.2923 - accuracy: 0.1029 - val_loss: 2.3019 - val_accuracy: 0.1333\n",
      "Epoch 3/50\n",
      "11/11 [==============================] - 1s 94ms/step - loss: 2.2617 - accuracy: 0.1800 - val_loss: 2.3059 - val_accuracy: 0.1778\n",
      "Epoch 4/50\n",
      "11/11 [==============================] - 1s 95ms/step - loss: 2.2183 - accuracy: 0.1800 - val_loss: 2.2656 - val_accuracy: 0.2222\n",
      "Epoch 5/50\n",
      "11/11 [==============================] - 1s 95ms/step - loss: 2.1706 - accuracy: 0.2171 - val_loss: 2.2288 - val_accuracy: 0.2222\n",
      "Epoch 6/50\n",
      "11/11 [==============================] - 1s 95ms/step - loss: 2.1643 - accuracy: 0.2086 - val_loss: 2.2789 - val_accuracy: 0.1333\n",
      "Epoch 7/50\n",
      "11/11 [==============================] - 1s 96ms/step - loss: 2.1335 - accuracy: 0.2200 - val_loss: 2.2027 - val_accuracy: 0.2444\n",
      "Epoch 8/50\n",
      "11/11 [==============================] - 1s 96ms/step - loss: 2.0924 - accuracy: 0.2371 - val_loss: 2.1867 - val_accuracy: 0.2444\n",
      "Epoch 9/50\n",
      "11/11 [==============================] - 1s 106ms/step - loss: 2.0311 - accuracy: 0.2771 - val_loss: 2.1287 - val_accuracy: 0.3111\n",
      "Epoch 10/50\n",
      "11/11 [==============================] - 1s 102ms/step - loss: 1.9708 - accuracy: 0.2771 - val_loss: 2.0826 - val_accuracy: 0.2889\n",
      "Epoch 11/50\n",
      "11/11 [==============================] - 1s 101ms/step - loss: 1.9183 - accuracy: 0.3429 - val_loss: 2.0158 - val_accuracy: 0.3778\n",
      "Epoch 12/50\n",
      "11/11 [==============================] - 1s 106ms/step - loss: 1.8564 - accuracy: 0.3571 - val_loss: 1.9812 - val_accuracy: 0.2444\n",
      "Epoch 13/50\n",
      "11/11 [==============================] - 1s 108ms/step - loss: 1.8467 - accuracy: 0.3429 - val_loss: 1.9341 - val_accuracy: 0.3778\n",
      "Epoch 14/50\n",
      "11/11 [==============================] - 1s 107ms/step - loss: 1.8051 - accuracy: 0.3857 - val_loss: 1.9868 - val_accuracy: 0.4222\n",
      "Epoch 15/50\n",
      "11/11 [==============================] - 1s 100ms/step - loss: 1.6783 - accuracy: 0.5000 - val_loss: 1.8523 - val_accuracy: 0.4000\n",
      "Epoch 16/50\n",
      "11/11 [==============================] - 1s 101ms/step - loss: 1.6474 - accuracy: 0.4771 - val_loss: 1.7939 - val_accuracy: 0.4444\n",
      "Epoch 17/50\n",
      "11/11 [==============================] - 1s 98ms/step - loss: 1.5766 - accuracy: 0.5114 - val_loss: 1.7786 - val_accuracy: 0.4000\n",
      "Epoch 18/50\n",
      "11/11 [==============================] - 1s 98ms/step - loss: 1.5281 - accuracy: 0.5229 - val_loss: 1.7270 - val_accuracy: 0.4667\n",
      "Epoch 19/50\n",
      "11/11 [==============================] - 1s 98ms/step - loss: 1.4848 - accuracy: 0.5600 - val_loss: 1.8302 - val_accuracy: 0.3778\n",
      "Epoch 20/50\n",
      "11/11 [==============================] - 1s 98ms/step - loss: 1.4015 - accuracy: 0.5714 - val_loss: 1.6313 - val_accuracy: 0.4889\n",
      "Epoch 21/50\n",
      "11/11 [==============================] - 1s 98ms/step - loss: 1.3198 - accuracy: 0.6057 - val_loss: 1.6422 - val_accuracy: 0.5556\n",
      "Epoch 22/50\n",
      "11/11 [==============================] - 1s 99ms/step - loss: 1.2681 - accuracy: 0.6143 - val_loss: 1.5187 - val_accuracy: 0.6000\n",
      "Epoch 23/50\n",
      "11/11 [==============================] - 1s 98ms/step - loss: 1.1920 - accuracy: 0.6486 - val_loss: 1.5638 - val_accuracy: 0.5111\n",
      "Epoch 24/50\n",
      "11/11 [==============================] - 1s 97ms/step - loss: 1.2435 - accuracy: 0.6057 - val_loss: 1.5740 - val_accuracy: 0.5556\n",
      "Epoch 25/50\n",
      "11/11 [==============================] - 1s 97ms/step - loss: 1.1610 - accuracy: 0.6600 - val_loss: 1.4874 - val_accuracy: 0.5778\n",
      "Epoch 26/50\n",
      "11/11 [==============================] - 1s 98ms/step - loss: 1.1155 - accuracy: 0.6686 - val_loss: 1.4996 - val_accuracy: 0.6222\n",
      "Epoch 27/50\n",
      "11/11 [==============================] - 1s 105ms/step - loss: 1.0575 - accuracy: 0.6714 - val_loss: 1.4551 - val_accuracy: 0.5778\n",
      "Epoch 28/50\n",
      "11/11 [==============================] - 1s 103ms/step - loss: 0.9641 - accuracy: 0.7000 - val_loss: 1.4204 - val_accuracy: 0.5556\n",
      "Epoch 29/50\n",
      "11/11 [==============================] - 1s 98ms/step - loss: 0.9659 - accuracy: 0.6886 - val_loss: 1.4399 - val_accuracy: 0.6444\n",
      "Epoch 30/50\n",
      "11/11 [==============================] - 1s 102ms/step - loss: 0.8902 - accuracy: 0.7571 - val_loss: 1.3981 - val_accuracy: 0.6222\n",
      "Epoch 31/50\n",
      "11/11 [==============================] - 1s 97ms/step - loss: 0.8738 - accuracy: 0.7457 - val_loss: 1.3586 - val_accuracy: 0.6889\n",
      "Epoch 32/50\n",
      "11/11 [==============================] - 1s 94ms/step - loss: 0.8642 - accuracy: 0.7657 - val_loss: 1.3147 - val_accuracy: 0.6222\n",
      "Epoch 33/50\n",
      "11/11 [==============================] - 1s 100ms/step - loss: 0.7977 - accuracy: 0.7771 - val_loss: 1.2305 - val_accuracy: 0.6667\n",
      "Epoch 34/50\n",
      "11/11 [==============================] - 1s 98ms/step - loss: 0.7647 - accuracy: 0.7600 - val_loss: 1.3771 - val_accuracy: 0.6000\n",
      "Epoch 35/50\n",
      "11/11 [==============================] - 1s 98ms/step - loss: 0.7840 - accuracy: 0.7600 - val_loss: 1.2544 - val_accuracy: 0.6889\n",
      "Epoch 36/50\n",
      "11/11 [==============================] - 1s 100ms/step - loss: 0.6876 - accuracy: 0.8057 - val_loss: 1.2763 - val_accuracy: 0.6889\n",
      "Epoch 37/50\n",
      "11/11 [==============================] - 1s 99ms/step - loss: 0.6943 - accuracy: 0.8086 - val_loss: 1.4451 - val_accuracy: 0.6222\n",
      "Epoch 38/50\n",
      "11/11 [==============================] - 1s 106ms/step - loss: 0.6928 - accuracy: 0.8057 - val_loss: 1.1960 - val_accuracy: 0.6667\n",
      "Epoch 39/50\n",
      "11/11 [==============================] - 1s 99ms/step - loss: 0.6688 - accuracy: 0.8257 - val_loss: 1.4537 - val_accuracy: 0.5556\n",
      "Epoch 40/50\n",
      "11/11 [==============================] - 1s 98ms/step - loss: 0.5956 - accuracy: 0.8371 - val_loss: 1.3297 - val_accuracy: 0.6444\n",
      "Epoch 41/50\n",
      "11/11 [==============================] - 1s 104ms/step - loss: 0.5681 - accuracy: 0.8429 - val_loss: 1.1919 - val_accuracy: 0.7111\n",
      "Epoch 42/50\n",
      "11/11 [==============================] - 1s 98ms/step - loss: 0.5194 - accuracy: 0.8657 - val_loss: 1.2678 - val_accuracy: 0.6667\n",
      "Epoch 43/50\n",
      "11/11 [==============================] - 1s 96ms/step - loss: 0.4909 - accuracy: 0.8686 - val_loss: 1.2177 - val_accuracy: 0.7111\n",
      "Epoch 44/50\n",
      "11/11 [==============================] - 1s 98ms/step - loss: 0.5048 - accuracy: 0.8743 - val_loss: 1.1711 - val_accuracy: 0.6889\n",
      "Epoch 45/50\n",
      "11/11 [==============================] - 1s 97ms/step - loss: 0.4463 - accuracy: 0.8943 - val_loss: 1.3306 - val_accuracy: 0.6667\n",
      "Epoch 46/50\n",
      "11/11 [==============================] - 1s 100ms/step - loss: 0.4403 - accuracy: 0.8829 - val_loss: 1.1141 - val_accuracy: 0.7556\n",
      "Epoch 47/50\n",
      "11/11 [==============================] - 1s 98ms/step - loss: 0.3924 - accuracy: 0.9143 - val_loss: 1.2279 - val_accuracy: 0.6667\n",
      "Epoch 48/50\n",
      "11/11 [==============================] - 1s 98ms/step - loss: 0.4464 - accuracy: 0.8771 - val_loss: 1.2752 - val_accuracy: 0.6889\n",
      "Epoch 49/50\n",
      "11/11 [==============================] - 1s 99ms/step - loss: 0.4265 - accuracy: 0.8943 - val_loss: 1.0962 - val_accuracy: 0.7333\n",
      "Epoch 50/50\n",
      "11/11 [==============================] - 1s 97ms/step - loss: 0.3870 - accuracy: 0.8971 - val_loss: 1.1339 - val_accuracy: 0.7111\n"
     ]
    }
   ],
   "source": [
    "history = model.fit(X_train, y_train, epochs = EPOCHS, validation_data = (X_val, y_val), callbacks=[early_stopping])"
   ]
  },
  {
   "cell_type": "markdown",
   "id": "57ec1982",
   "metadata": {},
   "source": [
    "### Train & validation Loss"
   ]
  },
  {
   "cell_type": "code",
   "execution_count": 7,
   "id": "b6c8d1db",
   "metadata": {},
   "outputs": [
    {
     "data": {
      "text/plain": [
       "<matplotlib.legend.Legend at 0x27aa07f0970>"
      ]
     },
     "execution_count": 7,
     "metadata": {},
     "output_type": "execute_result"
    },
    {
     "data": {
      "image/png": "[encoded data removed]",
      "text/plain": [
       "<Figure size 432x288 with 1 Axes>"
      ]
     },
     "metadata": {
      "needs_background": "light"
     },
     "output_type": "display_data"
    }
   ],
   "source": [
    "plt.plot(history.history['loss'], label='loss')\n",
    "plt.plot(history.history['val_loss'], label = 'val_loss')\n",
    "plt.xlabel('Epoch')\n",
    "plt.ylabel('Loss')\n",
    "plt.ylim([0.0, 3])\n",
    "plt.legend(loc='lower right')"
   ]
  },
  {
   "cell_type": "markdown",
   "id": "7af69023",
   "metadata": {},
   "source": [
    "### Train & validation Accuracy"
   ]
  },
  {
   "cell_type": "code",
   "execution_count": 8,
   "id": "0bb8dfca",
   "metadata": {},
   "outputs": [
    {
     "data": {
      "text/plain": [
       "<matplotlib.legend.Legend at 0x27ae0dd7310>"
      ]
     },
     "execution_count": 8,
     "metadata": {},
     "output_type": "execute_result"
    },
    {
     "data": {
      "image/png": "[encoded data removed]",
      "text/plain": [
       "<Figure size 432x288 with 1 Axes>"
      ]
     },
     "metadata": {
      "needs_background": "light"
     },
     "output_type": "display_data"
    }
   ],
   "source": [
    "plt.plot(history.history['accuracy'], label='accuracy')\n",
    "plt.plot(history.history['val_accuracy'], label = 'val_accuracy')\n",
    "plt.xlabel('Epoch')\n",
    "plt.ylabel('Accuracy')\n",
    "plt.ylim([0.0, 1])\n",
    "plt.legend(loc='lower right')"
   ]
  },
  {
   "cell_type": "markdown",
   "id": "9b30546c",
   "metadata": {},
   "source": [
    "## Test"
   ]
  },
  {
   "cell_type": "code",
   "execution_count": 9,
   "id": "cf4c662a",
   "metadata": {},
   "outputs": [
    {
     "name": "stdout",
     "output_type": "stream",
     "text": [
      "4/4 [==============================] - 1s 34ms/step\n"
     ]
    }
   ],
   "source": [
    "predict = np.argmax(model.predict(X_test), axis=1)"
   ]
  },
  {
   "cell_type": "code",
   "execution_count": 10,
   "id": "6ec7a04a",
   "metadata": {},
   "outputs": [
    {
     "name": "stdout",
     "output_type": "stream",
     "text": [
      "              precision    recall  f1-score   support\n",
      "\n",
      "           0       0.88      0.47      0.61        15\n",
      "           1       0.92      0.69      0.79        16\n",
      "           2       0.27      0.80      0.40         5\n",
      "           3       0.44      0.78      0.56         9\n",
      "           4       0.75      0.60      0.67        10\n",
      "           5       0.33      0.12      0.18         8\n",
      "           6       0.67      0.43      0.52        14\n",
      "           7       0.83      0.50      0.62        10\n",
      "           8       0.44      0.44      0.44         9\n",
      "           9       0.42      0.89      0.57         9\n",
      "\n",
      "    accuracy                           0.56       105\n",
      "   macro avg       0.59      0.57      0.54       105\n",
      "weighted avg       0.65      0.56      0.57       105\n",
      "\n"
     ]
    }
   ],
   "source": [
    "print(classification_report(y_test, predict))"
   ]
  },
  {
   "cell_type": "code",
   "execution_count": 11,
   "id": "9433cc53",
   "metadata": {},
   "outputs": [
    {
     "data": {
      "image/png": "[encoded data removed]",
      "text/plain": [
       "<Figure size 400x400 with 2 Axes>"
      ]
     },
     "metadata": {
      "needs_background": "light"
     },
     "output_type": "display_data"
    }
   ],
   "source": [
    "fig = plt.figure(figsize=(CLASS_COUNT // 2, CLASS_COUNT // 2), dpi=80)\n",
    "M = confusion_matrix(predict, y_test)\n",
    "plt.imshow(M, interpolation = 'nearest')\n",
    "plt.set_cmap('binary')\n",
    "plt.xticks(range(CLASS_COUNT))\n",
    "plt.yticks(range(CLASS_COUNT))\n",
    "plt.xlabel(\"true label\")\n",
    "plt.ylabel(\"predicted label\")\n",
    "plt.colorbar()\n",
    "pass"
   ]
  },
  {
   "cell_type": "code",
   "execution_count": null,
   "id": "5c484710",
   "metadata": {},
   "outputs": [],
   "source": []
  }
 ],
 "metadata": {
  "kernelspec": {
   "display_name": "Python 3 (ipykernel)",
   "language": "python",
   "name": "python3"
  },
  "language_info": {
   "codemirror_mode": {
    "name": "ipython",
    "version": 3
   },
   "file_extension": ".py",
   "mimetype": "text/x-python",
   "name": "python",
   "nbconvert_exporter": "python",
   "pygments_lexer": "ipython3",
   "version": "3.9.6"
  }
 },
 "nbformat": 4,
 "nbformat_minor": 5
}
