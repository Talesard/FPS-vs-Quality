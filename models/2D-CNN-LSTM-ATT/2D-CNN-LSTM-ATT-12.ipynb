{
 "cells": [
  {
   "cell_type": "code",
   "execution_count": 1,
   "id": "867cbce7",
   "metadata": {},
   "outputs": [],
   "source": [
    "import os\n",
    "\n",
    "import cv2\n",
    "from matplotlib import pyplot as plt\n",
    "from tqdm.notebook import trange, tqdm\n",
    "import numpy as np\n",
    "import tensorflow as tf\n",
    "import random\n",
    "from sklearn import preprocessing\n",
    "from sklearn.model_selection import train_test_split\n",
    "from tensorflow.keras import layers, models, utils\n",
    "from sklearn.metrics import classification_report, confusion_matrix\n",
    "\n",
    "from data_utils import read_and_preprocess_data\n",
    "from model_utils import *"
   ]
  },
  {
   "cell_type": "markdown",
   "id": "d6e5fe95",
   "metadata": {},
   "source": [
    "## Settings"
   ]
  },
  {
   "cell_type": "code",
   "execution_count": 2,
   "id": "c83c0d21",
   "metadata": {},
   "outputs": [],
   "source": [
    "FRAME_SIZE = 128\n",
    "DATA_PATH = './2sec/data_12_fps'\n",
    "EPOCHS = 50"
   ]
  },
  {
   "cell_type": "markdown",
   "id": "68882663",
   "metadata": {},
   "source": [
    "## Data"
   ]
  },
  {
   "cell_type": "code",
   "execution_count": 3,
   "id": "41431d91",
   "metadata": {},
   "outputs": [
    {
     "name": "stdout",
     "output_type": "stream",
     "text": [
      "reading...\n",
      "BalanceBeam\n",
      "CricketShot\n",
      "Fencing\n",
      "HorseRiding\n",
      "LongJump\n",
      "RockClimbingIndoor\n",
      "SalsaSpin\n",
      "SkyDiving\n",
      "TableTennisShot\n",
      "WallPushups\n",
      "class count = 10\n",
      "med frame count = 24.0\n",
      "padding...\n",
      "Labels encoding...\n",
      "(500,) (500, 24, 128, 128, 3)\n",
      "norm...\n",
      "Train-val-test split...\n",
      "Train: (350, 24, 128, 128, 3) (350,)\n",
      "Val: (45, 24, 128, 128, 3) (45,)\n",
      "Test: (105, 24, 128, 128, 3) (105,)\n"
     ]
    }
   ],
   "source": [
    "CLASS_COUNT, FRAME_COUNT, FRAME_SIZE, X_train, X_val, X_test, y_train, y_val, y_test = read_and_preprocess_data(DATA_PATH, FRAME_SIZE)"
   ]
  },
  {
   "cell_type": "markdown",
   "id": "f99a5cc9",
   "metadata": {},
   "source": [
    "## Model"
   ]
  },
  {
   "cell_type": "code",
   "execution_count": 4,
   "id": "b687e133",
   "metadata": {},
   "outputs": [
    {
     "name": "stdout",
     "output_type": "stream",
     "text": [
      "Model: \"sequential\"\n",
      "_________________________________________________________________\n",
      " Layer (type)                Output Shape              Param #   \n",
      "=================================================================\n",
      " time_distributed (TimeDistr  (None, 24, 62, 62, 64)   4864      \n",
      " ibuted)                                                         \n",
      "                                                                 \n",
      " batch_normalization (BatchN  (None, 24, 62, 62, 64)   248       \n",
      " ormalization)                                                   \n",
      "                                                                 \n",
      " activation (Activation)     (None, 24, 62, 62, 64)    0         \n",
      "                                                                 \n",
      " time_distributed_1 (TimeDis  (None, 24, 30, 30, 32)   32800     \n",
      " tributed)                                                       \n",
      "                                                                 \n",
      " batch_normalization_1 (Batc  (None, 24, 30, 30, 32)   120       \n",
      " hNormalization)                                                 \n",
      "                                                                 \n",
      " activation_1 (Activation)   (None, 24, 30, 30, 32)    0         \n",
      "                                                                 \n",
      " time_distributed_2 (TimeDis  (None, 24, 14, 14, 32)   9248      \n",
      " tributed)                                                       \n",
      "                                                                 \n",
      " batch_normalization_2 (Batc  (None, 24, 14, 14, 32)   56        \n",
      " hNormalization)                                                 \n",
      "                                                                 \n",
      " activation_2 (Activation)   (None, 24, 14, 14, 32)    0         \n",
      "                                                                 \n",
      " time_distributed_3 (TimeDis  (None, 24, 12, 12, 16)   4624      \n",
      " tributed)                                                       \n",
      "                                                                 \n",
      " batch_normalization_3 (Batc  (None, 24, 12, 12, 16)   48        \n",
      " hNormalization)                                                 \n",
      "                                                                 \n",
      " activation_3 (Activation)   (None, 24, 12, 12, 16)    0         \n",
      "                                                                 \n",
      " time_distributed_4 (TimeDis  (None, 24, 6, 6, 16)     0         \n",
      " tributed)                                                       \n",
      "                                                                 \n",
      " time_distributed_5 (TimeDis  (None, 24, 576)          0         \n",
      " tributed)                                                       \n",
      "                                                                 \n",
      " lstm (LSTM)                 (None, 24, 16)            37952     \n",
      "                                                                 \n",
      " attention (attention)       (None, 16)                40        \n",
      "                                                                 \n",
      " dense (Dense)               (None, 20)                340       \n",
      "                                                                 \n",
      " dropout (Dropout)           (None, 20)                0         \n",
      "                                                                 \n",
      " dense_1 (Dense)             (None, 10)                210       \n",
      "                                                                 \n",
      "=================================================================\n",
      "Total params: 90,550\n",
      "Trainable params: 90,314\n",
      "Non-trainable params: 236\n",
      "_________________________________________________________________\n"
     ]
    }
   ],
   "source": [
    "model = models.Sequential()\n",
    "model = add_2d_cnn_part(model, FRAME_COUNT, FRAME_SIZE)\n",
    "model.add(layers.TimeDistributed(layers.Flatten()))\n",
    "model = add_lstm_part(model, return_sequences=True)\n",
    "model.add(attention())\n",
    "model = add_dense_part(model, CLASS_COUNT)\n",
    "\n",
    "model.summary()"
   ]
  },
  {
   "cell_type": "code",
   "execution_count": 5,
   "id": "963ff906",
   "metadata": {},
   "outputs": [],
   "source": [
    "model.compile(optimizer='adam',\n",
    "              loss=tf.keras.losses.SparseCategoricalCrossentropy(from_logits=False),\n",
    "              metrics=['accuracy'],\n",
    "              )\n"
   ]
  },
  {
   "cell_type": "code",
   "execution_count": 6,
   "id": "20cf9db7",
   "metadata": {},
   "outputs": [
    {
     "name": "stdout",
     "output_type": "stream",
     "text": [
      "Epoch 1/50\n",
      "11/11 [==============================] - 14s 576ms/step - loss: 2.3173 - accuracy: 0.1343 - val_loss: 2.2742 - val_accuracy: 0.1111\n",
      "Epoch 2/50\n",
      "11/11 [==============================] - 3s 318ms/step - loss: 2.2806 - accuracy: 0.1657 - val_loss: 2.2408 - val_accuracy: 0.1333\n",
      "Epoch 3/50\n",
      "11/11 [==============================] - 4s 322ms/step - loss: 2.2251 - accuracy: 0.1829 - val_loss: 2.2072 - val_accuracy: 0.1556\n",
      "Epoch 4/50\n",
      "11/11 [==============================] - 3s 319ms/step - loss: 2.1737 - accuracy: 0.2114 - val_loss: 2.1622 - val_accuracy: 0.3111\n",
      "Epoch 5/50\n",
      "11/11 [==============================] - 4s 322ms/step - loss: 2.1356 - accuracy: 0.2429 - val_loss: 2.1461 - val_accuracy: 0.2667\n",
      "Epoch 6/50\n",
      "11/11 [==============================] - 3s 319ms/step - loss: 2.1350 - accuracy: 0.2429 - val_loss: 2.0614 - val_accuracy: 0.2444\n",
      "Epoch 7/50\n",
      "11/11 [==============================] - 3s 319ms/step - loss: 2.0924 - accuracy: 0.2743 - val_loss: 2.0766 - val_accuracy: 0.3111\n",
      "Epoch 8/50\n",
      "11/11 [==============================] - 3s 318ms/step - loss: 2.0582 - accuracy: 0.2686 - val_loss: 2.0289 - val_accuracy: 0.3333\n",
      "Epoch 9/50\n",
      "11/11 [==============================] - 3s 318ms/step - loss: 2.0014 - accuracy: 0.2771 - val_loss: 2.0340 - val_accuracy: 0.2667\n",
      "Epoch 10/50\n",
      "11/11 [==============================] - 3s 318ms/step - loss: 1.9913 - accuracy: 0.3029 - val_loss: 1.9621 - val_accuracy: 0.3778\n",
      "Epoch 11/50\n",
      "11/11 [==============================] - 4s 321ms/step - loss: 1.9255 - accuracy: 0.3457 - val_loss: 1.9885 - val_accuracy: 0.3778\n",
      "Epoch 12/50\n",
      "11/11 [==============================] - 3s 318ms/step - loss: 1.9042 - accuracy: 0.3400 - val_loss: 1.9734 - val_accuracy: 0.3556\n",
      "Epoch 13/50\n",
      "11/11 [==============================] - 3s 318ms/step - loss: 1.8639 - accuracy: 0.3514 - val_loss: 1.9772 - val_accuracy: 0.3556\n",
      "Epoch 14/50\n",
      "11/11 [==============================] - 3s 318ms/step - loss: 1.8074 - accuracy: 0.3914 - val_loss: 1.9657 - val_accuracy: 0.3556\n",
      "Epoch 15/50\n",
      "11/11 [==============================] - 3s 318ms/step - loss: 1.7290 - accuracy: 0.4029 - val_loss: 1.8803 - val_accuracy: 0.4000\n",
      "Epoch 16/50\n",
      "11/11 [==============================] - 3s 318ms/step - loss: 1.7287 - accuracy: 0.4029 - val_loss: 2.0113 - val_accuracy: 0.3333\n",
      "Epoch 17/50\n",
      "11/11 [==============================] - 3s 319ms/step - loss: 1.7394 - accuracy: 0.4114 - val_loss: 1.8367 - val_accuracy: 0.4222\n",
      "Epoch 18/50\n",
      "11/11 [==============================] - 3s 318ms/step - loss: 1.6422 - accuracy: 0.4714 - val_loss: 1.9675 - val_accuracy: 0.2889\n",
      "Epoch 19/50\n",
      "11/11 [==============================] - 3s 318ms/step - loss: 1.6807 - accuracy: 0.4229 - val_loss: 1.8341 - val_accuracy: 0.4444\n",
      "Epoch 20/50\n",
      "11/11 [==============================] - 3s 319ms/step - loss: 1.5139 - accuracy: 0.4686 - val_loss: 1.8274 - val_accuracy: 0.4222\n",
      "Epoch 21/50\n",
      "11/11 [==============================] - 4s 320ms/step - loss: 1.5257 - accuracy: 0.4829 - val_loss: 1.6750 - val_accuracy: 0.4667\n",
      "Epoch 22/50\n",
      "11/11 [==============================] - 3s 317ms/step - loss: 1.4259 - accuracy: 0.5314 - val_loss: 1.7004 - val_accuracy: 0.4889\n",
      "Epoch 23/50\n",
      "11/11 [==============================] - 3s 318ms/step - loss: 1.3759 - accuracy: 0.5743 - val_loss: 1.7053 - val_accuracy: 0.4222\n",
      "Epoch 24/50\n",
      "11/11 [==============================] - 3s 318ms/step - loss: 1.3726 - accuracy: 0.5543 - val_loss: 1.7613 - val_accuracy: 0.3778\n",
      "Epoch 25/50\n",
      "11/11 [==============================] - 3s 319ms/step - loss: 1.3270 - accuracy: 0.5857 - val_loss: 1.6476 - val_accuracy: 0.5111\n",
      "Epoch 26/50\n",
      "11/11 [==============================] - 3s 318ms/step - loss: 1.2797 - accuracy: 0.6143 - val_loss: 1.7682 - val_accuracy: 0.4222\n",
      "Epoch 27/50\n",
      "11/11 [==============================] - 3s 317ms/step - loss: 1.1751 - accuracy: 0.6514 - val_loss: 1.6885 - val_accuracy: 0.4444\n",
      "Epoch 28/50\n",
      "11/11 [==============================] - 4s 320ms/step - loss: 1.2366 - accuracy: 0.6143 - val_loss: 1.5607 - val_accuracy: 0.4889\n",
      "Epoch 29/50\n",
      "11/11 [==============================] - 3s 318ms/step - loss: 1.2251 - accuracy: 0.6086 - val_loss: 1.5519 - val_accuracy: 0.5111\n",
      "Epoch 30/50\n",
      "11/11 [==============================] - 3s 318ms/step - loss: 1.1740 - accuracy: 0.6486 - val_loss: 1.8209 - val_accuracy: 0.4444\n",
      "Epoch 31/50\n",
      "11/11 [==============================] - 3s 317ms/step - loss: 1.0941 - accuracy: 0.6543 - val_loss: 1.7764 - val_accuracy: 0.4444\n",
      "Epoch 32/50\n",
      "11/11 [==============================] - 3s 319ms/step - loss: 1.0316 - accuracy: 0.6971 - val_loss: 1.6005 - val_accuracy: 0.4889\n",
      "Epoch 33/50\n",
      "11/11 [==============================] - 3s 317ms/step - loss: 0.9691 - accuracy: 0.7114 - val_loss: 1.5555 - val_accuracy: 0.4444\n",
      "Epoch 34/50\n",
      "11/11 [==============================] - 3s 319ms/step - loss: 0.9160 - accuracy: 0.7229 - val_loss: 1.5115 - val_accuracy: 0.4222\n",
      "Epoch 35/50\n",
      "11/11 [==============================] - 3s 319ms/step - loss: 0.9011 - accuracy: 0.7343 - val_loss: 1.5401 - val_accuracy: 0.5111\n",
      "Epoch 36/50\n",
      "11/11 [==============================] - 3s 318ms/step - loss: 0.7759 - accuracy: 0.7857 - val_loss: 1.7405 - val_accuracy: 0.4889\n",
      "Epoch 37/50\n",
      "11/11 [==============================] - 4s 338ms/step - loss: 0.8336 - accuracy: 0.7571 - val_loss: 1.5706 - val_accuracy: 0.6000\n",
      "Epoch 38/50\n",
      "11/11 [==============================] - 4s 336ms/step - loss: 0.8510 - accuracy: 0.7229 - val_loss: 1.5444 - val_accuracy: 0.5111\n",
      "Epoch 39/50\n",
      "11/11 [==============================] - 4s 349ms/step - loss: 0.8258 - accuracy: 0.7514 - val_loss: 1.5342 - val_accuracy: 0.6000\n"
     ]
    }
   ],
   "source": [
    "history = model.fit(X_train, y_train, epochs = EPOCHS, validation_data = (X_val, y_val), callbacks=[early_stopping])"
   ]
  },
  {
   "cell_type": "markdown",
   "id": "57ec1982",
   "metadata": {},
   "source": [
    "### Train & validation Loss"
   ]
  },
  {
   "cell_type": "code",
   "execution_count": 7,
   "id": "b6c8d1db",
   "metadata": {},
   "outputs": [
    {
     "data": {
      "text/plain": [
       "<matplotlib.legend.Legend at 0x23b2911f700>"
      ]
     },
     "execution_count": 7,
     "metadata": {},
     "output_type": "execute_result"
    },
    {
     "data": {
      "image/png": "[encoded data removed]",
      "text/plain": [
       "<Figure size 432x288 with 1 Axes>"
      ]
     },
     "metadata": {
      "needs_background": "light"
     },
     "output_type": "display_data"
    }
   ],
   "source": [
    "plt.plot(history.history['loss'], label='loss')\n",
    "plt.plot(history.history['val_loss'], label = 'val_loss')\n",
    "plt.xlabel('Epoch')\n",
    "plt.ylabel('Loss')\n",
    "plt.ylim([0.0, 3])\n",
    "plt.legend(loc='lower right')"
   ]
  },
  {
   "cell_type": "markdown",
   "id": "7af69023",
   "metadata": {},
   "source": [
    "### Train & validation Accuracy"
   ]
  },
  {
   "cell_type": "code",
   "execution_count": 8,
   "id": "0bb8dfca",
   "metadata": {},
   "outputs": [
    {
     "data": {
      "text/plain": [
       "<matplotlib.legend.Legend at 0x23b7204a880>"
      ]
     },
     "execution_count": 8,
     "metadata": {},
     "output_type": "execute_result"
    },
    {
     "data": {
      "image/png": "[encoded data removed]",
      "text/plain": [
       "<Figure size 432x288 with 1 Axes>"
      ]
     },
     "metadata": {
      "needs_background": "light"
     },
     "output_type": "display_data"
    }
   ],
   "source": [
    "plt.plot(history.history['accuracy'], label='accuracy')\n",
    "plt.plot(history.history['val_accuracy'], label = 'val_accuracy')\n",
    "plt.xlabel('Epoch')\n",
    "plt.ylabel('Accuracy')\n",
    "plt.ylim([0.0, 1])\n",
    "plt.legend(loc='lower right')"
   ]
  },
  {
   "cell_type": "markdown",
   "id": "9b30546c",
   "metadata": {},
   "source": [
    "## Test"
   ]
  },
  {
   "cell_type": "code",
   "execution_count": 9,
   "id": "cf4c662a",
   "metadata": {},
   "outputs": [
    {
     "name": "stdout",
     "output_type": "stream",
     "text": [
      "4/4 [==============================] - 1s 83ms/step\n"
     ]
    }
   ],
   "source": [
    "predict = np.argmax(model.predict(X_test), axis=1)"
   ]
  },
  {
   "cell_type": "code",
   "execution_count": 10,
   "id": "6ec7a04a",
   "metadata": {},
   "outputs": [
    {
     "name": "stdout",
     "output_type": "stream",
     "text": [
      "              precision    recall  f1-score   support\n",
      "\n",
      "           0       0.47      0.53      0.50        15\n",
      "           1       0.89      0.50      0.64        16\n",
      "           2       0.50      0.80      0.62         5\n",
      "           3       0.44      0.78      0.56         9\n",
      "           4       0.64      0.70      0.67        10\n",
      "           5       0.33      0.25      0.29         8\n",
      "           6       0.62      0.57      0.59        14\n",
      "           7       0.78      0.70      0.74        10\n",
      "           8       0.33      0.22      0.27         9\n",
      "           9       0.50      0.56      0.53         9\n",
      "\n",
      "    accuracy                           0.55       105\n",
      "   macro avg       0.55      0.56      0.54       105\n",
      "weighted avg       0.58      0.55      0.55       105\n",
      "\n"
     ]
    }
   ],
   "source": [
    "print(classification_report(y_test, predict))"
   ]
  },
  {
   "cell_type": "code",
   "execution_count": 11,
   "id": "9433cc53",
   "metadata": {},
   "outputs": [
    {
     "data": {
      "image/png": "[encoded data removed]",
      "text/plain": [
       "<Figure size 400x400 with 2 Axes>"
      ]
     },
     "metadata": {
      "needs_background": "light"
     },
     "output_type": "display_data"
    }
   ],
   "source": [
    "fig = plt.figure(figsize=(CLASS_COUNT // 2, CLASS_COUNT // 2), dpi=80)\n",
    "M = confusion_matrix(predict, y_test)\n",
    "plt.imshow(M, interpolation = 'nearest')\n",
    "plt.set_cmap('binary')\n",
    "plt.xticks(range(CLASS_COUNT))\n",
    "plt.yticks(range(CLASS_COUNT))\n",
    "plt.xlabel(\"true label\")\n",
    "plt.ylabel(\"predicted label\")\n",
    "plt.colorbar()\n",
    "pass"
   ]
  },
  {
   "cell_type": "code",
   "execution_count": null,
   "id": "5c484710",
   "metadata": {},
   "outputs": [],
   "source": []
  }
 ],
 "metadata": {
  "kernelspec": {
   "display_name": "Python 3 (ipykernel)",
   "language": "python",
   "name": "python3"
  },
  "language_info": {
   "codemirror_mode": {
    "name": "ipython",
    "version": 3
   },
   "file_extension": ".py",
   "mimetype": "text/x-python",
   "name": "python",
   "nbconvert_exporter": "python",
   "pygments_lexer": "ipython3",
   "version": "3.9.6"
  }
 },
 "nbformat": 4,
 "nbformat_minor": 5
}
