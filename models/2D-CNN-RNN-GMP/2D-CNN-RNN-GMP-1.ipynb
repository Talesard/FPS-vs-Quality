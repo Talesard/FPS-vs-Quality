{
 "cells": [
  {
   "cell_type": "code",
   "execution_count": 1,
   "id": "867cbce7",
   "metadata": {},
   "outputs": [],
   "source": [
    "import os\n",
    "\n",
    "import cv2\n",
    "from matplotlib import pyplot as plt\n",
    "from tqdm.notebook import trange, tqdm\n",
    "import numpy as np\n",
    "import tensorflow as tf\n",
    "import random\n",
    "from sklearn import preprocessing\n",
    "from sklearn.model_selection import train_test_split\n",
    "from tensorflow.keras import layers, models, utils\n",
    "from sklearn.metrics import classification_report, confusion_matrix\n",
    "\n",
    "from data_utils import read_and_preprocess_data\n",
    "from model_utils import *"
   ]
  },
  {
   "cell_type": "markdown",
   "id": "d6e5fe95",
   "metadata": {},
   "source": [
    "## Settings"
   ]
  },
  {
   "cell_type": "code",
   "execution_count": 2,
   "id": "c83c0d21",
   "metadata": {},
   "outputs": [],
   "source": [
    "FRAME_SIZE = 128\n",
    "DATA_PATH = './2sec/data_1_fps'\n",
    "EPOCHS = 50"
   ]
  },
  {
   "cell_type": "markdown",
   "id": "68882663",
   "metadata": {},
   "source": [
    "## Data"
   ]
  },
  {
   "cell_type": "code",
   "execution_count": 3,
   "id": "41431d91",
   "metadata": {},
   "outputs": [
    {
     "name": "stdout",
     "output_type": "stream",
     "text": [
      "reading...\n",
      "BalanceBeam\n",
      "CricketShot\n",
      "Fencing\n",
      "HorseRiding\n",
      "LongJump\n",
      "RockClimbingIndoor\n",
      "SalsaSpin\n",
      "SkyDiving\n",
      "TableTennisShot\n",
      "WallPushups\n",
      "class count = 10\n",
      "med frame count = 2.0\n",
      "padding...\n",
      "Labels encoding...\n",
      "(500,) (500, 2, 128, 128, 3)\n",
      "norm...\n",
      "Train-val-test split...\n",
      "Train: (350, 2, 128, 128, 3) (350,)\n",
      "Val: (45, 2, 128, 128, 3) (45,)\n",
      "Test: (105, 2, 128, 128, 3) (105,)\n"
     ]
    }
   ],
   "source": [
    "CLASS_COUNT, FRAME_COUNT, FRAME_SIZE, X_train, X_val, X_test, y_train, y_val, y_test = read_and_preprocess_data(DATA_PATH, FRAME_SIZE)"
   ]
  },
  {
   "cell_type": "markdown",
   "id": "f99a5cc9",
   "metadata": {},
   "source": [
    "## Model"
   ]
  },
  {
   "cell_type": "code",
   "execution_count": 4,
   "id": "b687e133",
   "metadata": {},
   "outputs": [
    {
     "name": "stdout",
     "output_type": "stream",
     "text": [
      "Model: \"sequential\"\n",
      "_________________________________________________________________\n",
      " Layer (type)                Output Shape              Param #   \n",
      "=================================================================\n",
      " time_distributed (TimeDistr  (None, 2, 62, 62, 64)    4864      \n",
      " ibuted)                                                         \n",
      "                                                                 \n",
      " batch_normalization (BatchN  (None, 2, 62, 62, 64)    248       \n",
      " ormalization)                                                   \n",
      "                                                                 \n",
      " activation (Activation)     (None, 2, 62, 62, 64)     0         \n",
      "                                                                 \n",
      " time_distributed_1 (TimeDis  (None, 2, 30, 30, 32)    32800     \n",
      " tributed)                                                       \n",
      "                                                                 \n",
      " batch_normalization_1 (Batc  (None, 2, 30, 30, 32)    120       \n",
      " hNormalization)                                                 \n",
      "                                                                 \n",
      " activation_1 (Activation)   (None, 2, 30, 30, 32)     0         \n",
      "                                                                 \n",
      " time_distributed_2 (TimeDis  (None, 2, 14, 14, 32)    9248      \n",
      " tributed)                                                       \n",
      "                                                                 \n",
      " batch_normalization_2 (Batc  (None, 2, 14, 14, 32)    56        \n",
      " hNormalization)                                                 \n",
      "                                                                 \n",
      " activation_2 (Activation)   (None, 2, 14, 14, 32)     0         \n",
      "                                                                 \n",
      " time_distributed_3 (TimeDis  (None, 2, 12, 12, 16)    4624      \n",
      " tributed)                                                       \n",
      "                                                                 \n",
      " batch_normalization_3 (Batc  (None, 2, 12, 12, 16)    48        \n",
      " hNormalization)                                                 \n",
      "                                                                 \n",
      " activation_3 (Activation)   (None, 2, 12, 12, 16)     0         \n",
      "                                                                 \n",
      " time_distributed_4 (TimeDis  (None, 2, 6, 6, 16)      0         \n",
      " tributed)                                                       \n",
      "                                                                 \n",
      " time_distributed_5 (TimeDis  (None, 2, 576)           0         \n",
      " tributed)                                                       \n",
      "                                                                 \n",
      " simple_rnn (SimpleRNN)      (None, 2, 16)             9488      \n",
      "                                                                 \n",
      " global_max_pooling1d (Globa  (None, 16)               0         \n",
      " lMaxPooling1D)                                                  \n",
      "                                                                 \n",
      " dense (Dense)               (None, 20)                340       \n",
      "                                                                 \n",
      " dropout (Dropout)           (None, 20)                0         \n",
      "                                                                 \n",
      " dense_1 (Dense)             (None, 10)                210       \n",
      "                                                                 \n",
      "=================================================================\n",
      "Total params: 62,046\n",
      "Trainable params: 61,810\n",
      "Non-trainable params: 236\n",
      "_________________________________________________________________\n"
     ]
    }
   ],
   "source": [
    "model = models.Sequential()\n",
    "model = add_2d_cnn_part(model, FRAME_COUNT, FRAME_SIZE)\n",
    "model.add(layers.TimeDistributed(layers.Flatten()))\n",
    "model = add_rnn_part(model, return_sequences=True)\n",
    "model.add(layers.GlobalMaxPool1D())\n",
    "model = add_dense_part(model, CLASS_COUNT)\n",
    "\n",
    "model.summary()"
   ]
  },
  {
   "cell_type": "code",
   "execution_count": 5,
   "id": "963ff906",
   "metadata": {},
   "outputs": [],
   "source": [
    "model.compile(optimizer='adam',\n",
    "              loss=tf.keras.losses.SparseCategoricalCrossentropy(from_logits=False),\n",
    "              metrics=['accuracy'],\n",
    "              )\n"
   ]
  },
  {
   "cell_type": "code",
   "execution_count": 6,
   "id": "20cf9db7",
   "metadata": {},
   "outputs": [
    {
     "name": "stdout",
     "output_type": "stream",
     "text": [
      "Epoch 1/50\n",
      "11/11 [==============================] - 6s 109ms/step - loss: 2.3296 - accuracy: 0.1314 - val_loss: 2.2590 - val_accuracy: 0.1111\n",
      "Epoch 2/50\n",
      "11/11 [==============================] - 0s 44ms/step - loss: 2.2896 - accuracy: 0.1257 - val_loss: 2.3026 - val_accuracy: 0.0889\n",
      "Epoch 3/50\n",
      "11/11 [==============================] - 0s 45ms/step - loss: 2.2516 - accuracy: 0.1657 - val_loss: 2.2593 - val_accuracy: 0.2000\n",
      "Epoch 4/50\n",
      "11/11 [==============================] - 0s 45ms/step - loss: 2.2241 - accuracy: 0.1800 - val_loss: 2.1948 - val_accuracy: 0.2444\n",
      "Epoch 5/50\n",
      "11/11 [==============================] - 0s 44ms/step - loss: 2.1776 - accuracy: 0.2257 - val_loss: 2.2318 - val_accuracy: 0.1333\n",
      "Epoch 6/50\n",
      "11/11 [==============================] - 0s 45ms/step - loss: 2.1050 - accuracy: 0.2571 - val_loss: 2.1365 - val_accuracy: 0.2444\n",
      "Epoch 7/50\n",
      "11/11 [==============================] - 0s 45ms/step - loss: 2.0721 - accuracy: 0.2714 - val_loss: 2.1330 - val_accuracy: 0.2444\n",
      "Epoch 8/50\n",
      "11/11 [==============================] - 1s 46ms/step - loss: 2.0282 - accuracy: 0.2857 - val_loss: 2.0807 - val_accuracy: 0.3111\n",
      "Epoch 9/50\n",
      "11/11 [==============================] - 1s 46ms/step - loss: 1.9769 - accuracy: 0.2943 - val_loss: 2.0712 - val_accuracy: 0.2889\n",
      "Epoch 10/50\n",
      "11/11 [==============================] - 1s 46ms/step - loss: 1.9362 - accuracy: 0.3429 - val_loss: 2.0384 - val_accuracy: 0.2667\n",
      "Epoch 11/50\n",
      "11/11 [==============================] - 0s 45ms/step - loss: 1.8966 - accuracy: 0.3257 - val_loss: 2.0293 - val_accuracy: 0.3333\n",
      "Epoch 12/50\n",
      "11/11 [==============================] - 1s 47ms/step - loss: 1.8413 - accuracy: 0.3514 - val_loss: 1.9311 - val_accuracy: 0.3778\n",
      "Epoch 13/50\n",
      "11/11 [==============================] - 1s 47ms/step - loss: 1.8150 - accuracy: 0.3514 - val_loss: 1.8641 - val_accuracy: 0.4667\n",
      "Epoch 14/50\n",
      "11/11 [==============================] - 0s 45ms/step - loss: 1.7996 - accuracy: 0.3686 - val_loss: 1.9027 - val_accuracy: 0.4222\n",
      "Epoch 15/50\n",
      "11/11 [==============================] - 0s 44ms/step - loss: 1.7261 - accuracy: 0.4171 - val_loss: 1.8996 - val_accuracy: 0.3333\n",
      "Epoch 16/50\n",
      "11/11 [==============================] - 0s 44ms/step - loss: 1.7034 - accuracy: 0.3886 - val_loss: 1.8212 - val_accuracy: 0.5111\n",
      "Epoch 17/50\n",
      "11/11 [==============================] - 0s 44ms/step - loss: 1.6315 - accuracy: 0.4457 - val_loss: 1.8942 - val_accuracy: 0.3333\n",
      "Epoch 18/50\n",
      "11/11 [==============================] - 0s 44ms/step - loss: 1.5540 - accuracy: 0.4743 - val_loss: 1.7856 - val_accuracy: 0.5111\n",
      "Epoch 19/50\n",
      "11/11 [==============================] - 0s 44ms/step - loss: 1.5290 - accuracy: 0.4943 - val_loss: 1.8071 - val_accuracy: 0.4444\n",
      "Epoch 20/50\n",
      "11/11 [==============================] - 0s 46ms/step - loss: 1.4534 - accuracy: 0.5000 - val_loss: 1.7228 - val_accuracy: 0.4667\n",
      "Epoch 21/50\n",
      "11/11 [==============================] - 0s 45ms/step - loss: 1.4097 - accuracy: 0.5429 - val_loss: 1.6884 - val_accuracy: 0.5111\n",
      "Epoch 22/50\n",
      "11/11 [==============================] - 0s 45ms/step - loss: 1.4081 - accuracy: 0.5571 - val_loss: 1.6850 - val_accuracy: 0.5111\n",
      "Epoch 23/50\n",
      "11/11 [==============================] - 0s 44ms/step - loss: 1.2776 - accuracy: 0.5971 - val_loss: 1.7440 - val_accuracy: 0.4889\n",
      "Epoch 24/50\n",
      "11/11 [==============================] - 0s 45ms/step - loss: 1.3492 - accuracy: 0.5429 - val_loss: 1.5790 - val_accuracy: 0.5333\n",
      "Epoch 25/50\n",
      "11/11 [==============================] - 0s 45ms/step - loss: 1.3248 - accuracy: 0.5657 - val_loss: 1.5516 - val_accuracy: 0.5111\n",
      "Epoch 26/50\n",
      "11/11 [==============================] - 0s 45ms/step - loss: 1.1954 - accuracy: 0.6200 - val_loss: 1.5192 - val_accuracy: 0.5333\n",
      "Epoch 27/50\n",
      "11/11 [==============================] - 0s 45ms/step - loss: 1.1831 - accuracy: 0.6457 - val_loss: 1.4727 - val_accuracy: 0.5333\n",
      "Epoch 28/50\n",
      "11/11 [==============================] - 0s 45ms/step - loss: 1.0731 - accuracy: 0.6686 - val_loss: 1.4093 - val_accuracy: 0.6222\n",
      "Epoch 29/50\n",
      "11/11 [==============================] - 0s 45ms/step - loss: 1.0570 - accuracy: 0.6914 - val_loss: 1.3954 - val_accuracy: 0.6444\n",
      "Epoch 30/50\n",
      "11/11 [==============================] - 0s 45ms/step - loss: 1.0091 - accuracy: 0.6943 - val_loss: 1.3596 - val_accuracy: 0.6000\n",
      "Epoch 31/50\n",
      "11/11 [==============================] - 0s 44ms/step - loss: 0.9877 - accuracy: 0.7057 - val_loss: 1.3786 - val_accuracy: 0.6444\n",
      "Epoch 32/50\n",
      "11/11 [==============================] - 0s 44ms/step - loss: 0.9509 - accuracy: 0.7314 - val_loss: 1.4146 - val_accuracy: 0.5778\n",
      "Epoch 33/50\n",
      "11/11 [==============================] - 0s 44ms/step - loss: 0.9305 - accuracy: 0.7257 - val_loss: 1.3783 - val_accuracy: 0.6000\n",
      "Epoch 34/50\n",
      "11/11 [==============================] - 0s 45ms/step - loss: 0.9009 - accuracy: 0.7457 - val_loss: 1.3215 - val_accuracy: 0.6000\n",
      "Epoch 35/50\n",
      "11/11 [==============================] - 0s 44ms/step - loss: 0.8224 - accuracy: 0.7429 - val_loss: 1.3796 - val_accuracy: 0.4889\n",
      "Epoch 36/50\n",
      "11/11 [==============================] - 0s 45ms/step - loss: 0.8284 - accuracy: 0.7629 - val_loss: 1.3743 - val_accuracy: 0.5333\n",
      "Epoch 37/50\n",
      "11/11 [==============================] - 0s 45ms/step - loss: 0.7807 - accuracy: 0.7857 - val_loss: 1.2802 - val_accuracy: 0.6222\n",
      "Epoch 38/50\n",
      "11/11 [==============================] - 0s 44ms/step - loss: 0.7233 - accuracy: 0.8029 - val_loss: 1.3628 - val_accuracy: 0.5778\n",
      "Epoch 39/50\n",
      "11/11 [==============================] - 0s 44ms/step - loss: 0.7419 - accuracy: 0.7800 - val_loss: 1.3044 - val_accuracy: 0.6444\n",
      "Epoch 40/50\n",
      "11/11 [==============================] - 0s 45ms/step - loss: 0.6650 - accuracy: 0.8371 - val_loss: 1.4457 - val_accuracy: 0.5333\n",
      "Epoch 41/50\n",
      "11/11 [==============================] - 1s 47ms/step - loss: 0.6507 - accuracy: 0.7943 - val_loss: 1.3346 - val_accuracy: 0.5778\n",
      "Epoch 42/50\n",
      "11/11 [==============================] - 1s 51ms/step - loss: 0.6457 - accuracy: 0.8229 - val_loss: 1.2988 - val_accuracy: 0.6000\n"
     ]
    }
   ],
   "source": [
    "history = model.fit(X_train, y_train, epochs = EPOCHS, validation_data = (X_val, y_val), callbacks=[early_stopping])"
   ]
  },
  {
   "cell_type": "markdown",
   "id": "57ec1982",
   "metadata": {},
   "source": [
    "### Train & validation Loss"
   ]
  },
  {
   "cell_type": "code",
   "execution_count": 7,
   "id": "b6c8d1db",
   "metadata": {},
   "outputs": [
    {
     "data": {
      "text/plain": [
       "<matplotlib.legend.Legend at 0x1c4b02e1700>"
      ]
     },
     "execution_count": 7,
     "metadata": {},
     "output_type": "execute_result"
    },
    {
     "data": {
      "image/png": "[encoded data removed]",
      "text/plain": [
       "<Figure size 432x288 with 1 Axes>"
      ]
     },
     "metadata": {
      "needs_background": "light"
     },
     "output_type": "display_data"
    }
   ],
   "source": [
    "plt.plot(history.history['loss'], label='loss')\n",
    "plt.plot(history.history['val_loss'], label = 'val_loss')\n",
    "plt.xlabel('Epoch')\n",
    "plt.ylabel('Loss')\n",
    "plt.ylim([0.0, 3])\n",
    "plt.legend(loc='lower right')"
   ]
  },
  {
   "cell_type": "markdown",
   "id": "7af69023",
   "metadata": {},
   "source": [
    "### Train & validation Accuracy"
   ]
  },
  {
   "cell_type": "code",
   "execution_count": 8,
   "id": "0bb8dfca",
   "metadata": {},
   "outputs": [
    {
     "data": {
      "text/plain": [
       "<matplotlib.legend.Legend at 0x1c4b6d06fa0>"
      ]
     },
     "execution_count": 8,
     "metadata": {},
     "output_type": "execute_result"
    },
    {
     "data": {
      "image/png": "[encoded data removed]",
      "text/plain": [
       "<Figure size 432x288 with 1 Axes>"
      ]
     },
     "metadata": {
      "needs_background": "light"
     },
     "output_type": "display_data"
    }
   ],
   "source": [
    "plt.plot(history.history['accuracy'], label='accuracy')\n",
    "plt.plot(history.history['val_accuracy'], label = 'val_accuracy')\n",
    "plt.xlabel('Epoch')\n",
    "plt.ylabel('Accuracy')\n",
    "plt.ylim([0.0, 1])\n",
    "plt.legend(loc='lower right')"
   ]
  },
  {
   "cell_type": "markdown",
   "id": "9b30546c",
   "metadata": {},
   "source": [
    "## Test"
   ]
  },
  {
   "cell_type": "code",
   "execution_count": 9,
   "id": "cf4c662a",
   "metadata": {},
   "outputs": [
    {
     "name": "stdout",
     "output_type": "stream",
     "text": [
      "4/4 [==============================] - 0s 18ms/step\n"
     ]
    }
   ],
   "source": [
    "predict = np.argmax(model.predict(X_test), axis=1)"
   ]
  },
  {
   "cell_type": "code",
   "execution_count": 10,
   "id": "6ec7a04a",
   "metadata": {},
   "outputs": [
    {
     "name": "stdout",
     "output_type": "stream",
     "text": [
      "              precision    recall  f1-score   support\n",
      "\n",
      "           0       0.71      0.67      0.69        15\n",
      "           1       0.69      0.69      0.69        16\n",
      "           2       0.33      0.60      0.43         5\n",
      "           3       0.36      0.44      0.40         9\n",
      "           4       0.75      0.30      0.43        10\n",
      "           5       0.36      0.50      0.42         8\n",
      "           6       0.50      0.43      0.46        14\n",
      "           7       0.70      0.70      0.70        10\n",
      "           8       0.50      0.33      0.40         9\n",
      "           9       0.58      0.78      0.67         9\n",
      "\n",
      "    accuracy                           0.55       105\n",
      "   macro avg       0.55      0.54      0.53       105\n",
      "weighted avg       0.58      0.55      0.55       105\n",
      "\n"
     ]
    }
   ],
   "source": [
    "print(classification_report(y_test, predict))"
   ]
  },
  {
   "cell_type": "code",
   "execution_count": 11,
   "id": "9433cc53",
   "metadata": {},
   "outputs": [
    {
     "data": {
      "image/png": "[encoded data removed]",
      "text/plain": [
       "<Figure size 400x400 with 2 Axes>"
      ]
     },
     "metadata": {
      "needs_background": "light"
     },
     "output_type": "display_data"
    }
   ],
   "source": [
    "fig = plt.figure(figsize=(CLASS_COUNT // 2, CLASS_COUNT // 2), dpi=80)\n",
    "M = confusion_matrix(predict, y_test)\n",
    "plt.imshow(M, interpolation = 'nearest')\n",
    "plt.set_cmap('binary')\n",
    "plt.xticks(range(CLASS_COUNT))\n",
    "plt.yticks(range(CLASS_COUNT))\n",
    "plt.xlabel(\"true label\")\n",
    "plt.ylabel(\"predicted label\")\n",
    "plt.colorbar()\n",
    "pass"
   ]
  },
  {
   "cell_type": "code",
   "execution_count": null,
   "id": "5c484710",
   "metadata": {},
   "outputs": [],
   "source": []
  }
 ],
 "metadata": {
  "kernelspec": {
   "display_name": "Python 3 (ipykernel)",
   "language": "python",
   "name": "python3"
  },
  "language_info": {
   "codemirror_mode": {
    "name": "ipython",
    "version": 3
   },
   "file_extension": ".py",
   "mimetype": "text/x-python",
   "name": "python",
   "nbconvert_exporter": "python",
   "pygments_lexer": "ipython3",
   "version": "3.9.6"
  }
 },
 "nbformat": 4,
 "nbformat_minor": 5
}
