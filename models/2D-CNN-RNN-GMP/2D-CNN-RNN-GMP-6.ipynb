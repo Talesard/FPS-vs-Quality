{
 "cells": [
  {
   "cell_type": "code",
   "execution_count": 1,
   "id": "867cbce7",
   "metadata": {},
   "outputs": [],
   "source": [
    "import os\n",
    "\n",
    "import cv2\n",
    "from matplotlib import pyplot as plt\n",
    "from tqdm.notebook import trange, tqdm\n",
    "import numpy as np\n",
    "import tensorflow as tf\n",
    "import random\n",
    "from sklearn import preprocessing\n",
    "from sklearn.model_selection import train_test_split\n",
    "from tensorflow.keras import layers, models, utils\n",
    "from sklearn.metrics import classification_report, confusion_matrix\n",
    "\n",
    "from data_utils import read_and_preprocess_data\n",
    "from model_utils import *"
   ]
  },
  {
   "cell_type": "markdown",
   "id": "d6e5fe95",
   "metadata": {},
   "source": [
    "## Settings"
   ]
  },
  {
   "cell_type": "code",
   "execution_count": 2,
   "id": "c83c0d21",
   "metadata": {},
   "outputs": [],
   "source": [
    "FRAME_SIZE = 128\n",
    "DATA_PATH = './2sec/data_6_fps'\n",
    "EPOCHS = 50"
   ]
  },
  {
   "cell_type": "markdown",
   "id": "68882663",
   "metadata": {},
   "source": [
    "## Data"
   ]
  },
  {
   "cell_type": "code",
   "execution_count": 3,
   "id": "41431d91",
   "metadata": {},
   "outputs": [
    {
     "name": "stdout",
     "output_type": "stream",
     "text": [
      "reading...\n",
      "BalanceBeam\n",
      "CricketShot\n",
      "Fencing\n",
      "HorseRiding\n",
      "LongJump\n",
      "RockClimbingIndoor\n",
      "SalsaSpin\n",
      "SkyDiving\n",
      "TableTennisShot\n",
      "WallPushups\n",
      "class count = 10\n",
      "med frame count = 12.0\n",
      "padding...\n",
      "Labels encoding...\n",
      "(500,) (500, 12, 128, 128, 3)\n",
      "norm...\n",
      "Train-val-test split...\n",
      "Train: (350, 12, 128, 128, 3) (350,)\n",
      "Val: (45, 12, 128, 128, 3) (45,)\n",
      "Test: (105, 12, 128, 128, 3) (105,)\n"
     ]
    }
   ],
   "source": [
    "CLASS_COUNT, FRAME_COUNT, FRAME_SIZE, X_train, X_val, X_test, y_train, y_val, y_test = read_and_preprocess_data(DATA_PATH, FRAME_SIZE)"
   ]
  },
  {
   "cell_type": "markdown",
   "id": "f99a5cc9",
   "metadata": {},
   "source": [
    "## Model"
   ]
  },
  {
   "cell_type": "code",
   "execution_count": 4,
   "id": "b687e133",
   "metadata": {},
   "outputs": [
    {
     "name": "stdout",
     "output_type": "stream",
     "text": [
      "Model: \"sequential\"\n",
      "_________________________________________________________________\n",
      " Layer (type)                Output Shape              Param #   \n",
      "=================================================================\n",
      " time_distributed (TimeDistr  (None, 12, 62, 62, 64)   4864      \n",
      " ibuted)                                                         \n",
      "                                                                 \n",
      " batch_normalization (BatchN  (None, 12, 62, 62, 64)   248       \n",
      " ormalization)                                                   \n",
      "                                                                 \n",
      " activation (Activation)     (None, 12, 62, 62, 64)    0         \n",
      "                                                                 \n",
      " time_distributed_1 (TimeDis  (None, 12, 30, 30, 32)   32800     \n",
      " tributed)                                                       \n",
      "                                                                 \n",
      " batch_normalization_1 (Batc  (None, 12, 30, 30, 32)   120       \n",
      " hNormalization)                                                 \n",
      "                                                                 \n",
      " activation_1 (Activation)   (None, 12, 30, 30, 32)    0         \n",
      "                                                                 \n",
      " time_distributed_2 (TimeDis  (None, 12, 14, 14, 32)   9248      \n",
      " tributed)                                                       \n",
      "                                                                 \n",
      " batch_normalization_2 (Batc  (None, 12, 14, 14, 32)   56        \n",
      " hNormalization)                                                 \n",
      "                                                                 \n",
      " activation_2 (Activation)   (None, 12, 14, 14, 32)    0         \n",
      "                                                                 \n",
      " time_distributed_3 (TimeDis  (None, 12, 12, 12, 16)   4624      \n",
      " tributed)                                                       \n",
      "                                                                 \n",
      " batch_normalization_3 (Batc  (None, 12, 12, 12, 16)   48        \n",
      " hNormalization)                                                 \n",
      "                                                                 \n",
      " activation_3 (Activation)   (None, 12, 12, 12, 16)    0         \n",
      "                                                                 \n",
      " time_distributed_4 (TimeDis  (None, 12, 6, 6, 16)     0         \n",
      " tributed)                                                       \n",
      "                                                                 \n",
      " time_distributed_5 (TimeDis  (None, 12, 576)          0         \n",
      " tributed)                                                       \n",
      "                                                                 \n",
      " simple_rnn (SimpleRNN)      (None, 12, 16)            9488      \n",
      "                                                                 \n",
      " global_max_pooling1d (Globa  (None, 16)               0         \n",
      " lMaxPooling1D)                                                  \n",
      "                                                                 \n",
      " dense (Dense)               (None, 20)                340       \n",
      "                                                                 \n",
      " dropout (Dropout)           (None, 20)                0         \n",
      "                                                                 \n",
      " dense_1 (Dense)             (None, 10)                210       \n",
      "                                                                 \n",
      "=================================================================\n",
      "Total params: 62,046\n",
      "Trainable params: 61,810\n",
      "Non-trainable params: 236\n",
      "_________________________________________________________________\n"
     ]
    }
   ],
   "source": [
    "model = models.Sequential()\n",
    "model = add_2d_cnn_part(model, FRAME_COUNT, FRAME_SIZE)\n",
    "model.add(layers.TimeDistributed(layers.Flatten()))\n",
    "model = add_rnn_part(model, return_sequences=True)\n",
    "model.add(layers.GlobalMaxPool1D())\n",
    "model = add_dense_part(model, CLASS_COUNT)\n",
    "\n",
    "model.summary()"
   ]
  },
  {
   "cell_type": "code",
   "execution_count": 5,
   "id": "963ff906",
   "metadata": {},
   "outputs": [],
   "source": [
    "model.compile(optimizer='adam',\n",
    "              loss=tf.keras.losses.SparseCategoricalCrossentropy(from_logits=False),\n",
    "              metrics=['accuracy'],\n",
    "              )\n"
   ]
  },
  {
   "cell_type": "code",
   "execution_count": 6,
   "id": "20cf9db7",
   "metadata": {},
   "outputs": [
    {
     "name": "stdout",
     "output_type": "stream",
     "text": [
      "Epoch 1/50\n",
      "11/11 [==============================] - 9s 365ms/step - loss: 2.3523 - accuracy: 0.1200 - val_loss: 2.3016 - val_accuracy: 0.1333\n",
      "Epoch 2/50\n",
      "11/11 [==============================] - 2s 207ms/step - loss: 2.2874 - accuracy: 0.1171 - val_loss: 2.2732 - val_accuracy: 0.1111\n",
      "Epoch 3/50\n",
      "11/11 [==============================] - 2s 207ms/step - loss: 2.2524 - accuracy: 0.1686 - val_loss: 2.2667 - val_accuracy: 0.1556\n",
      "Epoch 4/50\n",
      "11/11 [==============================] - 2s 208ms/step - loss: 2.2220 - accuracy: 0.2000 - val_loss: 2.2370 - val_accuracy: 0.1778\n",
      "Epoch 5/50\n",
      "11/11 [==============================] - 2s 207ms/step - loss: 2.1860 - accuracy: 0.1943 - val_loss: 2.2489 - val_accuracy: 0.1778\n",
      "Epoch 6/50\n",
      "11/11 [==============================] - 2s 208ms/step - loss: 2.1836 - accuracy: 0.2057 - val_loss: 2.2418 - val_accuracy: 0.2000\n",
      "Epoch 7/50\n",
      "11/11 [==============================] - 2s 209ms/step - loss: 2.1379 - accuracy: 0.2543 - val_loss: 2.2242 - val_accuracy: 0.2222\n",
      "Epoch 8/50\n",
      "11/11 [==============================] - 2s 209ms/step - loss: 2.1174 - accuracy: 0.2400 - val_loss: 2.1967 - val_accuracy: 0.1778\n",
      "Epoch 9/50\n",
      "11/11 [==============================] - 2s 208ms/step - loss: 2.0852 - accuracy: 0.2343 - val_loss: 2.2432 - val_accuracy: 0.2000\n",
      "Epoch 10/50\n",
      "11/11 [==============================] - 2s 211ms/step - loss: 2.0313 - accuracy: 0.2829 - val_loss: 2.1857 - val_accuracy: 0.2667\n",
      "Epoch 11/50\n",
      "11/11 [==============================] - 2s 208ms/step - loss: 1.9987 - accuracy: 0.2829 - val_loss: 2.2045 - val_accuracy: 0.1333\n",
      "Epoch 12/50\n",
      "11/11 [==============================] - 2s 208ms/step - loss: 1.9632 - accuracy: 0.3143 - val_loss: 2.1548 - val_accuracy: 0.2000\n",
      "Epoch 13/50\n",
      "11/11 [==============================] - 2s 208ms/step - loss: 1.8866 - accuracy: 0.3629 - val_loss: 2.1624 - val_accuracy: 0.1778\n",
      "Epoch 14/50\n",
      "11/11 [==============================] - 2s 208ms/step - loss: 1.8387 - accuracy: 0.3829 - val_loss: 2.1237 - val_accuracy: 0.2222\n",
      "Epoch 15/50\n",
      "11/11 [==============================] - 2s 207ms/step - loss: 1.8113 - accuracy: 0.3743 - val_loss: 2.0613 - val_accuracy: 0.2889\n",
      "Epoch 16/50\n",
      "11/11 [==============================] - 2s 207ms/step - loss: 1.8374 - accuracy: 0.3657 - val_loss: 2.0518 - val_accuracy: 0.3111\n",
      "Epoch 17/50\n",
      "11/11 [==============================] - 2s 208ms/step - loss: 1.6569 - accuracy: 0.4486 - val_loss: 2.0102 - val_accuracy: 0.3333\n",
      "Epoch 18/50\n",
      "11/11 [==============================] - 2s 209ms/step - loss: 1.6898 - accuracy: 0.4200 - val_loss: 1.9711 - val_accuracy: 0.2444\n",
      "Epoch 19/50\n",
      "11/11 [==============================] - 2s 208ms/step - loss: 1.5849 - accuracy: 0.4771 - val_loss: 1.9505 - val_accuracy: 0.2667\n",
      "Epoch 20/50\n",
      "11/11 [==============================] - 2s 210ms/step - loss: 1.5428 - accuracy: 0.5086 - val_loss: 1.8950 - val_accuracy: 0.4000\n",
      "Epoch 21/50\n",
      "11/11 [==============================] - 2s 209ms/step - loss: 1.4443 - accuracy: 0.5314 - val_loss: 1.8070 - val_accuracy: 0.4222\n",
      "Epoch 22/50\n",
      "11/11 [==============================] - 2s 208ms/step - loss: 1.4715 - accuracy: 0.5314 - val_loss: 1.7984 - val_accuracy: 0.3778\n",
      "Epoch 23/50\n",
      "11/11 [==============================] - 2s 196ms/step - loss: 1.3875 - accuracy: 0.5457 - val_loss: 1.8286 - val_accuracy: 0.3111\n",
      "Epoch 24/50\n",
      "11/11 [==============================] - 2s 180ms/step - loss: 1.3152 - accuracy: 0.6086 - val_loss: 1.8256 - val_accuracy: 0.4000\n",
      "Epoch 25/50\n",
      "11/11 [==============================] - 2s 192ms/step - loss: 1.3067 - accuracy: 0.5943 - val_loss: 1.7805 - val_accuracy: 0.4222\n",
      "Epoch 26/50\n",
      "11/11 [==============================] - 2s 209ms/step - loss: 1.1967 - accuracy: 0.6429 - val_loss: 1.6630 - val_accuracy: 0.4444\n",
      "Epoch 27/50\n",
      "11/11 [==============================] - 2s 207ms/step - loss: 1.1543 - accuracy: 0.6571 - val_loss: 1.8272 - val_accuracy: 0.4000\n",
      "Epoch 28/50\n",
      "11/11 [==============================] - 2s 206ms/step - loss: 1.1599 - accuracy: 0.6229 - val_loss: 1.7701 - val_accuracy: 0.4222\n",
      "Epoch 29/50\n",
      "11/11 [==============================] - 2s 212ms/step - loss: 1.1091 - accuracy: 0.6486 - val_loss: 1.7160 - val_accuracy: 0.4444\n",
      "Epoch 30/50\n",
      "11/11 [==============================] - 2s 209ms/step - loss: 1.0633 - accuracy: 0.6343 - val_loss: 1.6979 - val_accuracy: 0.4889\n",
      "Epoch 31/50\n",
      "11/11 [==============================] - 2s 206ms/step - loss: 1.0277 - accuracy: 0.6914 - val_loss: 1.5330 - val_accuracy: 0.4889\n",
      "Epoch 32/50\n",
      "11/11 [==============================] - 2s 208ms/step - loss: 0.9537 - accuracy: 0.7171 - val_loss: 1.4399 - val_accuracy: 0.6222\n",
      "Epoch 33/50\n",
      "11/11 [==============================] - 2s 210ms/step - loss: 0.9508 - accuracy: 0.7286 - val_loss: 1.5572 - val_accuracy: 0.4889\n",
      "Epoch 34/50\n",
      "11/11 [==============================] - 2s 209ms/step - loss: 0.8648 - accuracy: 0.7543 - val_loss: 1.5785 - val_accuracy: 0.5556\n",
      "Epoch 35/50\n",
      "11/11 [==============================] - 2s 208ms/step - loss: 0.7870 - accuracy: 0.8171 - val_loss: 1.4249 - val_accuracy: 0.5333\n",
      "Epoch 36/50\n",
      "11/11 [==============================] - 2s 208ms/step - loss: 0.7966 - accuracy: 0.7714 - val_loss: 1.4479 - val_accuracy: 0.5333\n",
      "Epoch 37/50\n",
      "11/11 [==============================] - 2s 209ms/step - loss: 0.7546 - accuracy: 0.7914 - val_loss: 1.4580 - val_accuracy: 0.5333\n",
      "Epoch 38/50\n",
      "11/11 [==============================] - 2s 207ms/step - loss: 0.6962 - accuracy: 0.8257 - val_loss: 1.4580 - val_accuracy: 0.5333\n",
      "Epoch 39/50\n",
      "11/11 [==============================] - 2s 206ms/step - loss: 0.6408 - accuracy: 0.8371 - val_loss: 1.3958 - val_accuracy: 0.5556\n",
      "Epoch 40/50\n",
      "11/11 [==============================] - 2s 209ms/step - loss: 0.6072 - accuracy: 0.8400 - val_loss: 1.4494 - val_accuracy: 0.5556\n",
      "Epoch 41/50\n",
      "11/11 [==============================] - 2s 208ms/step - loss: 0.6243 - accuracy: 0.8371 - val_loss: 1.4247 - val_accuracy: 0.5556\n",
      "Epoch 42/50\n",
      "11/11 [==============================] - 2s 210ms/step - loss: 0.5270 - accuracy: 0.8571 - val_loss: 1.2726 - val_accuracy: 0.6222\n",
      "Epoch 43/50\n",
      "11/11 [==============================] - 2s 208ms/step - loss: 0.5575 - accuracy: 0.8629 - val_loss: 1.4071 - val_accuracy: 0.5333\n",
      "Epoch 44/50\n",
      "11/11 [==============================] - 2s 206ms/step - loss: 0.5212 - accuracy: 0.8571 - val_loss: 1.3841 - val_accuracy: 0.5333\n",
      "Epoch 45/50\n",
      "11/11 [==============================] - 2s 206ms/step - loss: 0.5214 - accuracy: 0.8543 - val_loss: 1.3034 - val_accuracy: 0.6000\n",
      "Epoch 46/50\n",
      "11/11 [==============================] - 2s 207ms/step - loss: 0.4772 - accuracy: 0.8714 - val_loss: 1.3252 - val_accuracy: 0.6000\n",
      "Epoch 47/50\n",
      "11/11 [==============================] - 2s 209ms/step - loss: 0.4611 - accuracy: 0.8857 - val_loss: 1.3810 - val_accuracy: 0.5556\n"
     ]
    }
   ],
   "source": [
    "history = model.fit(X_train, y_train, epochs = EPOCHS, validation_data = (X_val, y_val), callbacks=[early_stopping])"
   ]
  },
  {
   "cell_type": "markdown",
   "id": "57ec1982",
   "metadata": {},
   "source": [
    "### Train & validation Loss"
   ]
  },
  {
   "cell_type": "code",
   "execution_count": 7,
   "id": "b6c8d1db",
   "metadata": {},
   "outputs": [
    {
     "data": {
      "text/plain": [
       "<matplotlib.legend.Legend at 0x17e53ae4400>"
      ]
     },
     "execution_count": 7,
     "metadata": {},
     "output_type": "execute_result"
    },
    {
     "data": {
      "image/png": "[encoded data removed]",
      "text/plain": [
       "<Figure size 432x288 with 1 Axes>"
      ]
     },
     "metadata": {
      "needs_background": "light"
     },
     "output_type": "display_data"
    }
   ],
   "source": [
    "plt.plot(history.history['loss'], label='loss')\n",
    "plt.plot(history.history['val_loss'], label = 'val_loss')\n",
    "plt.xlabel('Epoch')\n",
    "plt.ylabel('Loss')\n",
    "plt.ylim([0.0, 3])\n",
    "plt.legend(loc='lower right')"
   ]
  },
  {
   "cell_type": "markdown",
   "id": "7af69023",
   "metadata": {},
   "source": [
    "### Train & validation Accuracy"
   ]
  },
  {
   "cell_type": "code",
   "execution_count": 8,
   "id": "0bb8dfca",
   "metadata": {},
   "outputs": [
    {
     "data": {
      "text/plain": [
       "<matplotlib.legend.Legend at 0x1811f620850>"
      ]
     },
     "execution_count": 8,
     "metadata": {},
     "output_type": "execute_result"
    },
    {
     "data": {
      "image/png": "[encoded data removed]",
      "text/plain": [
       "<Figure size 432x288 with 1 Axes>"
      ]
     },
     "metadata": {
      "needs_background": "light"
     },
     "output_type": "display_data"
    }
   ],
   "source": [
    "plt.plot(history.history['accuracy'], label='accuracy')\n",
    "plt.plot(history.history['val_accuracy'], label = 'val_accuracy')\n",
    "plt.xlabel('Epoch')\n",
    "plt.ylabel('Accuracy')\n",
    "plt.ylim([0.0, 1])\n",
    "plt.legend(loc='lower right')"
   ]
  },
  {
   "cell_type": "markdown",
   "id": "9b30546c",
   "metadata": {},
   "source": [
    "## Test"
   ]
  },
  {
   "cell_type": "code",
   "execution_count": 9,
   "id": "cf4c662a",
   "metadata": {},
   "outputs": [
    {
     "name": "stdout",
     "output_type": "stream",
     "text": [
      "4/4 [==============================] - 0s 61ms/step\n"
     ]
    }
   ],
   "source": [
    "predict = np.argmax(model.predict(X_test), axis=1)"
   ]
  },
  {
   "cell_type": "code",
   "execution_count": 10,
   "id": "6ec7a04a",
   "metadata": {},
   "outputs": [
    {
     "name": "stdout",
     "output_type": "stream",
     "text": [
      "              precision    recall  f1-score   support\n",
      "\n",
      "           0       0.60      0.60      0.60        15\n",
      "           1       0.65      0.69      0.67        16\n",
      "           2       0.50      0.60      0.55         5\n",
      "           3       0.39      0.78      0.52         9\n",
      "           4       0.45      0.50      0.48        10\n",
      "           5       0.57      0.50      0.53         8\n",
      "           6       0.56      0.36      0.43        14\n",
      "           7       0.75      0.60      0.67        10\n",
      "           8       0.80      0.44      0.57         9\n",
      "           9       0.67      0.67      0.67         9\n",
      "\n",
      "    accuracy                           0.57       105\n",
      "   macro avg       0.59      0.57      0.57       105\n",
      "weighted avg       0.60      0.57      0.57       105\n",
      "\n"
     ]
    }
   ],
   "source": [
    "print(classification_report(y_test, predict))"
   ]
  },
  {
   "cell_type": "code",
   "execution_count": 11,
   "id": "9433cc53",
   "metadata": {},
   "outputs": [
    {
     "data": {
      "image/png": "[encoded data removed]",
      "text/plain": [
       "<Figure size 400x400 with 2 Axes>"
      ]
     },
     "metadata": {
      "needs_background": "light"
     },
     "output_type": "display_data"
    }
   ],
   "source": [
    "fig = plt.figure(figsize=(CLASS_COUNT // 2, CLASS_COUNT // 2), dpi=80)\n",
    "M = confusion_matrix(predict, y_test)\n",
    "plt.imshow(M, interpolation = 'nearest')\n",
    "plt.set_cmap('binary')\n",
    "plt.xticks(range(CLASS_COUNT))\n",
    "plt.yticks(range(CLASS_COUNT))\n",
    "plt.xlabel(\"true label\")\n",
    "plt.ylabel(\"predicted label\")\n",
    "plt.colorbar()\n",
    "pass"
   ]
  },
  {
   "cell_type": "code",
   "execution_count": null,
   "id": "5c484710",
   "metadata": {},
   "outputs": [],
   "source": []
  }
 ],
 "metadata": {
  "kernelspec": {
   "display_name": "Python 3 (ipykernel)",
   "language": "python",
   "name": "python3"
  },
  "language_info": {
   "codemirror_mode": {
    "name": "ipython",
    "version": 3
   },
   "file_extension": ".py",
   "mimetype": "text/x-python",
   "name": "python",
   "nbconvert_exporter": "python",
   "pygments_lexer": "ipython3",
   "version": "3.9.6"
  }
 },
 "nbformat": 4,
 "nbformat_minor": 5
}
