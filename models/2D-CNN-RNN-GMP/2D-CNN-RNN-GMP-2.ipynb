{
 "cells": [
  {
   "cell_type": "code",
   "execution_count": 1,
   "id": "867cbce7",
   "metadata": {},
   "outputs": [],
   "source": [
    "import os\n",
    "\n",
    "import cv2\n",
    "from matplotlib import pyplot as plt\n",
    "from tqdm.notebook import trange, tqdm\n",
    "import numpy as np\n",
    "import tensorflow as tf\n",
    "import random\n",
    "from sklearn import preprocessing\n",
    "from sklearn.model_selection import train_test_split\n",
    "from tensorflow.keras import layers, models, utils\n",
    "from sklearn.metrics import classification_report, confusion_matrix\n",
    "\n",
    "from data_utils import read_and_preprocess_data\n",
    "from model_utils import *"
   ]
  },
  {
   "cell_type": "markdown",
   "id": "d6e5fe95",
   "metadata": {},
   "source": [
    "## Settings"
   ]
  },
  {
   "cell_type": "code",
   "execution_count": 2,
   "id": "c83c0d21",
   "metadata": {},
   "outputs": [],
   "source": [
    "FRAME_SIZE = 128\n",
    "DATA_PATH = './2sec/data_2_fps'\n",
    "EPOCHS = 50"
   ]
  },
  {
   "cell_type": "markdown",
   "id": "68882663",
   "metadata": {},
   "source": [
    "## Data"
   ]
  },
  {
   "cell_type": "code",
   "execution_count": 3,
   "id": "41431d91",
   "metadata": {},
   "outputs": [
    {
     "name": "stdout",
     "output_type": "stream",
     "text": [
      "reading...\n",
      "BalanceBeam\n",
      "CricketShot\n",
      "Fencing\n",
      "HorseRiding\n",
      "LongJump\n",
      "RockClimbingIndoor\n",
      "SalsaSpin\n",
      "SkyDiving\n",
      "TableTennisShot\n",
      "WallPushups\n",
      "class count = 10\n",
      "med frame count = 4.0\n",
      "padding...\n",
      "Labels encoding...\n",
      "(500,) (500, 4, 128, 128, 3)\n",
      "norm...\n",
      "Train-val-test split...\n",
      "Train: (350, 4, 128, 128, 3) (350,)\n",
      "Val: (45, 4, 128, 128, 3) (45,)\n",
      "Test: (105, 4, 128, 128, 3) (105,)\n"
     ]
    }
   ],
   "source": [
    "CLASS_COUNT, FRAME_COUNT, FRAME_SIZE, X_train, X_val, X_test, y_train, y_val, y_test = read_and_preprocess_data(DATA_PATH, FRAME_SIZE)"
   ]
  },
  {
   "cell_type": "markdown",
   "id": "f99a5cc9",
   "metadata": {},
   "source": [
    "## Model"
   ]
  },
  {
   "cell_type": "code",
   "execution_count": 4,
   "id": "b687e133",
   "metadata": {},
   "outputs": [
    {
     "name": "stdout",
     "output_type": "stream",
     "text": [
      "Model: \"sequential\"\n",
      "_________________________________________________________________\n",
      " Layer (type)                Output Shape              Param #   \n",
      "=================================================================\n",
      " time_distributed (TimeDistr  (None, 4, 62, 62, 64)    4864      \n",
      " ibuted)                                                         \n",
      "                                                                 \n",
      " batch_normalization (BatchN  (None, 4, 62, 62, 64)    248       \n",
      " ormalization)                                                   \n",
      "                                                                 \n",
      " activation (Activation)     (None, 4, 62, 62, 64)     0         \n",
      "                                                                 \n",
      " time_distributed_1 (TimeDis  (None, 4, 30, 30, 32)    32800     \n",
      " tributed)                                                       \n",
      "                                                                 \n",
      " batch_normalization_1 (Batc  (None, 4, 30, 30, 32)    120       \n",
      " hNormalization)                                                 \n",
      "                                                                 \n",
      " activation_1 (Activation)   (None, 4, 30, 30, 32)     0         \n",
      "                                                                 \n",
      " time_distributed_2 (TimeDis  (None, 4, 14, 14, 32)    9248      \n",
      " tributed)                                                       \n",
      "                                                                 \n",
      " batch_normalization_2 (Batc  (None, 4, 14, 14, 32)    56        \n",
      " hNormalization)                                                 \n",
      "                                                                 \n",
      " activation_2 (Activation)   (None, 4, 14, 14, 32)     0         \n",
      "                                                                 \n",
      " time_distributed_3 (TimeDis  (None, 4, 12, 12, 16)    4624      \n",
      " tributed)                                                       \n",
      "                                                                 \n",
      " batch_normalization_3 (Batc  (None, 4, 12, 12, 16)    48        \n",
      " hNormalization)                                                 \n",
      "                                                                 \n",
      " activation_3 (Activation)   (None, 4, 12, 12, 16)     0         \n",
      "                                                                 \n",
      " time_distributed_4 (TimeDis  (None, 4, 6, 6, 16)      0         \n",
      " tributed)                                                       \n",
      "                                                                 \n",
      " time_distributed_5 (TimeDis  (None, 4, 576)           0         \n",
      " tributed)                                                       \n",
      "                                                                 \n",
      " simple_rnn (SimpleRNN)      (None, 4, 16)             9488      \n",
      "                                                                 \n",
      " global_max_pooling1d (Globa  (None, 16)               0         \n",
      " lMaxPooling1D)                                                  \n",
      "                                                                 \n",
      " dense (Dense)               (None, 20)                340       \n",
      "                                                                 \n",
      " dropout (Dropout)           (None, 20)                0         \n",
      "                                                                 \n",
      " dense_1 (Dense)             (None, 10)                210       \n",
      "                                                                 \n",
      "=================================================================\n",
      "Total params: 62,046\n",
      "Trainable params: 61,810\n",
      "Non-trainable params: 236\n",
      "_________________________________________________________________\n"
     ]
    }
   ],
   "source": [
    "model = models.Sequential()\n",
    "model = add_2d_cnn_part(model, FRAME_COUNT, FRAME_SIZE)\n",
    "model.add(layers.TimeDistributed(layers.Flatten()))\n",
    "model = add_rnn_part(model, return_sequences=True)\n",
    "model.add(layers.GlobalMaxPool1D())\n",
    "model = add_dense_part(model, CLASS_COUNT)\n",
    "\n",
    "model.summary()"
   ]
  },
  {
   "cell_type": "code",
   "execution_count": 5,
   "id": "963ff906",
   "metadata": {},
   "outputs": [],
   "source": [
    "model.compile(optimizer='adam',\n",
    "              loss=tf.keras.losses.SparseCategoricalCrossentropy(from_logits=False),\n",
    "              metrics=['accuracy'],\n",
    "              )\n"
   ]
  },
  {
   "cell_type": "code",
   "execution_count": 6,
   "id": "20cf9db7",
   "metadata": {},
   "outputs": [
    {
     "name": "stdout",
     "output_type": "stream",
     "text": [
      "Epoch 1/50\n",
      "11/11 [==============================] - 6s 144ms/step - loss: 2.3417 - accuracy: 0.0943 - val_loss: 2.3075 - val_accuracy: 0.0444\n",
      "Epoch 2/50\n",
      "11/11 [==============================] - 1s 71ms/step - loss: 2.2753 - accuracy: 0.1371 - val_loss: 2.2972 - val_accuracy: 0.0889\n",
      "Epoch 3/50\n",
      "11/11 [==============================] - 1s 71ms/step - loss: 2.2216 - accuracy: 0.1886 - val_loss: 2.2755 - val_accuracy: 0.0667\n",
      "Epoch 4/50\n",
      "11/11 [==============================] - 1s 70ms/step - loss: 2.1902 - accuracy: 0.1829 - val_loss: 2.2672 - val_accuracy: 0.0667\n",
      "Epoch 5/50\n",
      "11/11 [==============================] - 1s 71ms/step - loss: 2.1694 - accuracy: 0.1714 - val_loss: 2.2635 - val_accuracy: 0.0889\n",
      "Epoch 6/50\n",
      "11/11 [==============================] - 1s 70ms/step - loss: 2.1305 - accuracy: 0.2143 - val_loss: 2.2796 - val_accuracy: 0.0667\n",
      "Epoch 7/50\n",
      "11/11 [==============================] - 1s 71ms/step - loss: 2.0847 - accuracy: 0.2543 - val_loss: 2.2406 - val_accuracy: 0.1111\n",
      "Epoch 8/50\n",
      "11/11 [==============================] - 1s 71ms/step - loss: 2.0134 - accuracy: 0.2886 - val_loss: 2.2230 - val_accuracy: 0.1778\n",
      "Epoch 9/50\n",
      "11/11 [==============================] - 1s 70ms/step - loss: 2.0159 - accuracy: 0.2686 - val_loss: 2.1942 - val_accuracy: 0.2444\n",
      "Epoch 10/50\n",
      "11/11 [==============================] - 1s 70ms/step - loss: 1.9878 - accuracy: 0.3114 - val_loss: 2.1842 - val_accuracy: 0.1778\n",
      "Epoch 11/50\n",
      "11/11 [==============================] - 1s 71ms/step - loss: 1.9288 - accuracy: 0.3086 - val_loss: 2.1370 - val_accuracy: 0.1556\n",
      "Epoch 12/50\n",
      "11/11 [==============================] - 1s 70ms/step - loss: 1.9049 - accuracy: 0.3286 - val_loss: 2.0721 - val_accuracy: 0.2222\n",
      "Epoch 13/50\n",
      "11/11 [==============================] - 1s 69ms/step - loss: 1.8693 - accuracy: 0.3629 - val_loss: 2.0734 - val_accuracy: 0.2667\n",
      "Epoch 14/50\n",
      "11/11 [==============================] - 1s 70ms/step - loss: 1.8129 - accuracy: 0.3686 - val_loss: 2.0618 - val_accuracy: 0.2444\n",
      "Epoch 15/50\n",
      "11/11 [==============================] - 1s 71ms/step - loss: 1.7533 - accuracy: 0.3714 - val_loss: 1.9423 - val_accuracy: 0.3333\n",
      "Epoch 16/50\n",
      "11/11 [==============================] - 1s 69ms/step - loss: 1.6706 - accuracy: 0.4314 - val_loss: 1.9584 - val_accuracy: 0.2000\n",
      "Epoch 17/50\n",
      "11/11 [==============================] - 1s 71ms/step - loss: 1.5989 - accuracy: 0.4400 - val_loss: 1.8130 - val_accuracy: 0.3333\n",
      "Epoch 18/50\n",
      "11/11 [==============================] - 1s 70ms/step - loss: 1.5488 - accuracy: 0.4743 - val_loss: 1.8581 - val_accuracy: 0.3333\n",
      "Epoch 19/50\n",
      "11/11 [==============================] - 1s 69ms/step - loss: 1.5560 - accuracy: 0.4571 - val_loss: 1.8640 - val_accuracy: 0.2889\n",
      "Epoch 20/50\n",
      "11/11 [==============================] - 1s 70ms/step - loss: 1.4475 - accuracy: 0.5257 - val_loss: 1.8002 - val_accuracy: 0.3556\n",
      "Epoch 21/50\n",
      "11/11 [==============================] - 1s 70ms/step - loss: 1.4390 - accuracy: 0.5229 - val_loss: 1.7887 - val_accuracy: 0.3111\n",
      "Epoch 22/50\n",
      "11/11 [==============================] - 1s 69ms/step - loss: 1.3572 - accuracy: 0.5486 - val_loss: 1.7784 - val_accuracy: 0.3111\n",
      "Epoch 23/50\n",
      "11/11 [==============================] - 1s 70ms/step - loss: 1.3250 - accuracy: 0.5429 - val_loss: 1.6751 - val_accuracy: 0.3556\n",
      "Epoch 24/50\n",
      "11/11 [==============================] - 1s 69ms/step - loss: 1.2731 - accuracy: 0.5571 - val_loss: 1.6625 - val_accuracy: 0.4667\n",
      "Epoch 25/50\n",
      "11/11 [==============================] - 1s 71ms/step - loss: 1.2622 - accuracy: 0.6057 - val_loss: 1.6137 - val_accuracy: 0.4667\n",
      "Epoch 26/50\n",
      "11/11 [==============================] - 1s 71ms/step - loss: 1.1999 - accuracy: 0.6200 - val_loss: 1.5671 - val_accuracy: 0.4667\n",
      "Epoch 27/50\n",
      "11/11 [==============================] - 1s 70ms/step - loss: 1.1464 - accuracy: 0.6514 - val_loss: 1.4591 - val_accuracy: 0.6222\n",
      "Epoch 28/50\n",
      "11/11 [==============================] - 1s 70ms/step - loss: 1.0439 - accuracy: 0.6914 - val_loss: 1.4087 - val_accuracy: 0.6667\n",
      "Epoch 29/50\n",
      "11/11 [==============================] - 1s 69ms/step - loss: 1.0066 - accuracy: 0.7000 - val_loss: 1.4631 - val_accuracy: 0.6000\n",
      "Epoch 30/50\n",
      "11/11 [==============================] - 1s 70ms/step - loss: 0.9522 - accuracy: 0.7200 - val_loss: 1.3298 - val_accuracy: 0.6444\n",
      "Epoch 31/50\n",
      "11/11 [==============================] - 1s 69ms/step - loss: 0.8726 - accuracy: 0.7400 - val_loss: 1.3437 - val_accuracy: 0.6444\n",
      "Epoch 32/50\n",
      "11/11 [==============================] - 1s 69ms/step - loss: 0.8930 - accuracy: 0.7371 - val_loss: 1.4162 - val_accuracy: 0.6000\n",
      "Epoch 33/50\n",
      "11/11 [==============================] - 1s 70ms/step - loss: 0.8672 - accuracy: 0.7486 - val_loss: 1.4215 - val_accuracy: 0.6444\n",
      "Epoch 34/50\n",
      "11/11 [==============================] - 1s 70ms/step - loss: 0.8419 - accuracy: 0.7514 - val_loss: 1.2751 - val_accuracy: 0.6444\n",
      "Epoch 35/50\n",
      "11/11 [==============================] - 1s 68ms/step - loss: 0.7638 - accuracy: 0.7829 - val_loss: 1.3040 - val_accuracy: 0.7111\n",
      "Epoch 36/50\n",
      "11/11 [==============================] - 1s 69ms/step - loss: 0.7147 - accuracy: 0.8000 - val_loss: 1.2753 - val_accuracy: 0.6667\n",
      "Epoch 37/50\n",
      "11/11 [==============================] - 1s 70ms/step - loss: 0.6795 - accuracy: 0.8286 - val_loss: 1.3466 - val_accuracy: 0.6444\n",
      "Epoch 38/50\n",
      "11/11 [==============================] - 1s 77ms/step - loss: 0.6633 - accuracy: 0.8143 - val_loss: 1.2593 - val_accuracy: 0.6889\n",
      "Epoch 39/50\n",
      "11/11 [==============================] - 1s 78ms/step - loss: 0.6215 - accuracy: 0.8400 - val_loss: 1.2582 - val_accuracy: 0.6667\n",
      "Epoch 40/50\n",
      "11/11 [==============================] - 1s 70ms/step - loss: 0.6040 - accuracy: 0.8371 - val_loss: 1.3087 - val_accuracy: 0.6444\n",
      "Epoch 41/50\n",
      "11/11 [==============================] - 1s 71ms/step - loss: 0.5630 - accuracy: 0.8571 - val_loss: 1.1776 - val_accuracy: 0.7111\n",
      "Epoch 42/50\n",
      "11/11 [==============================] - 1s 71ms/step - loss: 0.5358 - accuracy: 0.8743 - val_loss: 1.1716 - val_accuracy: 0.7111\n",
      "Epoch 43/50\n",
      "11/11 [==============================] - 1s 70ms/step - loss: 0.4949 - accuracy: 0.8743 - val_loss: 1.1799 - val_accuracy: 0.6444\n",
      "Epoch 44/50\n",
      "11/11 [==============================] - 1s 71ms/step - loss: 0.4782 - accuracy: 0.8857 - val_loss: 1.1327 - val_accuracy: 0.7556\n",
      "Epoch 45/50\n",
      "11/11 [==============================] - 1s 71ms/step - loss: 0.4917 - accuracy: 0.8829 - val_loss: 1.1798 - val_accuracy: 0.6889\n",
      "Epoch 46/50\n",
      "11/11 [==============================] - 1s 71ms/step - loss: 0.4752 - accuracy: 0.8800 - val_loss: 1.1838 - val_accuracy: 0.6222\n",
      "Epoch 47/50\n",
      "11/11 [==============================] - 1s 71ms/step - loss: 0.4452 - accuracy: 0.8857 - val_loss: 1.0771 - val_accuracy: 0.7556\n",
      "Epoch 48/50\n",
      "11/11 [==============================] - 1s 70ms/step - loss: 0.4134 - accuracy: 0.8714 - val_loss: 1.2342 - val_accuracy: 0.6222\n",
      "Epoch 49/50\n",
      "11/11 [==============================] - 1s 70ms/step - loss: 0.4217 - accuracy: 0.9000 - val_loss: 1.1357 - val_accuracy: 0.6889\n",
      "Epoch 50/50\n",
      "11/11 [==============================] - 1s 69ms/step - loss: 0.4839 - accuracy: 0.8743 - val_loss: 1.1408 - val_accuracy: 0.6667\n"
     ]
    }
   ],
   "source": [
    "history = model.fit(X_train, y_train, epochs = EPOCHS, validation_data = (X_val, y_val), callbacks=[early_stopping])"
   ]
  },
  {
   "cell_type": "markdown",
   "id": "57ec1982",
   "metadata": {},
   "source": [
    "### Train & validation Loss"
   ]
  },
  {
   "cell_type": "code",
   "execution_count": 7,
   "id": "b6c8d1db",
   "metadata": {},
   "outputs": [
    {
     "data": {
      "text/plain": [
       "<matplotlib.legend.Legend at 0x207b5b66400>"
      ]
     },
     "execution_count": 7,
     "metadata": {},
     "output_type": "execute_result"
    },
    {
     "data": {
      "image/png": "[encoded data removed]",
      "text/plain": [
       "<Figure size 432x288 with 1 Axes>"
      ]
     },
     "metadata": {
      "needs_background": "light"
     },
     "output_type": "display_data"
    }
   ],
   "source": [
    "plt.plot(history.history['loss'], label='loss')\n",
    "plt.plot(history.history['val_loss'], label = 'val_loss')\n",
    "plt.xlabel('Epoch')\n",
    "plt.ylabel('Loss')\n",
    "plt.ylim([0.0, 3])\n",
    "plt.legend(loc='lower right')"
   ]
  },
  {
   "cell_type": "markdown",
   "id": "7af69023",
   "metadata": {},
   "source": [
    "### Train & validation Accuracy"
   ]
  },
  {
   "cell_type": "code",
   "execution_count": 8,
   "id": "0bb8dfca",
   "metadata": {},
   "outputs": [
    {
     "data": {
      "text/plain": [
       "<matplotlib.legend.Legend at 0x207fd255880>"
      ]
     },
     "execution_count": 8,
     "metadata": {},
     "output_type": "execute_result"
    },
    {
     "data": {
      "image/png": "[encoded data removed]",
      "text/plain": [
       "<Figure size 432x288 with 1 Axes>"
      ]
     },
     "metadata": {
      "needs_background": "light"
     },
     "output_type": "display_data"
    }
   ],
   "source": [
    "plt.plot(history.history['accuracy'], label='accuracy')\n",
    "plt.plot(history.history['val_accuracy'], label = 'val_accuracy')\n",
    "plt.xlabel('Epoch')\n",
    "plt.ylabel('Accuracy')\n",
    "plt.ylim([0.0, 1])\n",
    "plt.legend(loc='lower right')"
   ]
  },
  {
   "cell_type": "markdown",
   "id": "9b30546c",
   "metadata": {},
   "source": [
    "## Test"
   ]
  },
  {
   "cell_type": "code",
   "execution_count": 9,
   "id": "cf4c662a",
   "metadata": {},
   "outputs": [
    {
     "name": "stdout",
     "output_type": "stream",
     "text": [
      "4/4 [==============================] - 0s 23ms/step\n"
     ]
    }
   ],
   "source": [
    "predict = np.argmax(model.predict(X_test), axis=1)"
   ]
  },
  {
   "cell_type": "code",
   "execution_count": 10,
   "id": "6ec7a04a",
   "metadata": {},
   "outputs": [
    {
     "name": "stdout",
     "output_type": "stream",
     "text": [
      "              precision    recall  f1-score   support\n",
      "\n",
      "           0       0.83      0.67      0.74        15\n",
      "           1       0.81      0.81      0.81        16\n",
      "           2       0.33      0.40      0.36         5\n",
      "           3       0.30      0.78      0.44         9\n",
      "           4       1.00      0.40      0.57        10\n",
      "           5       1.00      0.25      0.40         8\n",
      "           6       0.55      0.43      0.48        14\n",
      "           7       0.71      0.50      0.59        10\n",
      "           8       0.40      0.44      0.42         9\n",
      "           9       0.57      0.89      0.70         9\n",
      "\n",
      "    accuracy                           0.58       105\n",
      "   macro avg       0.65      0.56      0.55       105\n",
      "weighted avg       0.68      0.58      0.59       105\n",
      "\n"
     ]
    }
   ],
   "source": [
    "print(classification_report(y_test, predict))"
   ]
  },
  {
   "cell_type": "code",
   "execution_count": 11,
   "id": "9433cc53",
   "metadata": {},
   "outputs": [
    {
     "data": {
      "image/png": "[encoded data removed]",
      "text/plain": [
       "<Figure size 400x400 with 2 Axes>"
      ]
     },
     "metadata": {
      "needs_background": "light"
     },
     "output_type": "display_data"
    }
   ],
   "source": [
    "fig = plt.figure(figsize=(CLASS_COUNT // 2, CLASS_COUNT // 2), dpi=80)\n",
    "M = confusion_matrix(predict, y_test)\n",
    "plt.imshow(M, interpolation = 'nearest')\n",
    "plt.set_cmap('binary')\n",
    "plt.xticks(range(CLASS_COUNT))\n",
    "plt.yticks(range(CLASS_COUNT))\n",
    "plt.xlabel(\"true label\")\n",
    "plt.ylabel(\"predicted label\")\n",
    "plt.colorbar()\n",
    "pass"
   ]
  },
  {
   "cell_type": "code",
   "execution_count": null,
   "id": "5c484710",
   "metadata": {},
   "outputs": [],
   "source": []
  }
 ],
 "metadata": {
  "kernelspec": {
   "display_name": "Python 3 (ipykernel)",
   "language": "python",
   "name": "python3"
  },
  "language_info": {
   "codemirror_mode": {
    "name": "ipython",
    "version": 3
   },
   "file_extension": ".py",
   "mimetype": "text/x-python",
   "name": "python",
   "nbconvert_exporter": "python",
   "pygments_lexer": "ipython3",
   "version": "3.9.6"
  }
 },
 "nbformat": 4,
 "nbformat_minor": 5
}
