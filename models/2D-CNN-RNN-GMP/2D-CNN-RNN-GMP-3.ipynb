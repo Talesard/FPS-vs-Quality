{
 "cells": [
  {
   "cell_type": "code",
   "execution_count": 1,
   "id": "867cbce7",
   "metadata": {},
   "outputs": [],
   "source": [
    "import os\n",
    "\n",
    "import cv2\n",
    "from matplotlib import pyplot as plt\n",
    "from tqdm.notebook import trange, tqdm\n",
    "import numpy as np\n",
    "import tensorflow as tf\n",
    "import random\n",
    "from sklearn import preprocessing\n",
    "from sklearn.model_selection import train_test_split\n",
    "from tensorflow.keras import layers, models, utils\n",
    "from sklearn.metrics import classification_report, confusion_matrix\n",
    "\n",
    "from data_utils import read_and_preprocess_data\n",
    "from model_utils import *"
   ]
  },
  {
   "cell_type": "markdown",
   "id": "d6e5fe95",
   "metadata": {},
   "source": [
    "## Settings"
   ]
  },
  {
   "cell_type": "code",
   "execution_count": 2,
   "id": "c83c0d21",
   "metadata": {},
   "outputs": [],
   "source": [
    "FRAME_SIZE = 128\n",
    "DATA_PATH = './2sec/data_3_fps'\n",
    "EPOCHS = 50"
   ]
  },
  {
   "cell_type": "markdown",
   "id": "68882663",
   "metadata": {},
   "source": [
    "## Data"
   ]
  },
  {
   "cell_type": "code",
   "execution_count": 3,
   "id": "41431d91",
   "metadata": {},
   "outputs": [
    {
     "name": "stdout",
     "output_type": "stream",
     "text": [
      "reading...\n",
      "BalanceBeam\n",
      "CricketShot\n",
      "Fencing\n",
      "HorseRiding\n",
      "LongJump\n",
      "RockClimbingIndoor\n",
      "SalsaSpin\n",
      "SkyDiving\n",
      "TableTennisShot\n",
      "WallPushups\n",
      "class count = 10\n",
      "med frame count = 6.0\n",
      "padding...\n",
      "Labels encoding...\n",
      "(500,) (500, 6, 128, 128, 3)\n",
      "norm...\n",
      "Train-val-test split...\n",
      "Train: (350, 6, 128, 128, 3) (350,)\n",
      "Val: (45, 6, 128, 128, 3) (45,)\n",
      "Test: (105, 6, 128, 128, 3) (105,)\n"
     ]
    }
   ],
   "source": [
    "CLASS_COUNT, FRAME_COUNT, FRAME_SIZE, X_train, X_val, X_test, y_train, y_val, y_test = read_and_preprocess_data(DATA_PATH, FRAME_SIZE)"
   ]
  },
  {
   "cell_type": "markdown",
   "id": "f99a5cc9",
   "metadata": {},
   "source": [
    "## Model"
   ]
  },
  {
   "cell_type": "code",
   "execution_count": 4,
   "id": "b687e133",
   "metadata": {},
   "outputs": [
    {
     "name": "stdout",
     "output_type": "stream",
     "text": [
      "Model: \"sequential\"\n",
      "_________________________________________________________________\n",
      " Layer (type)                Output Shape              Param #   \n",
      "=================================================================\n",
      " time_distributed (TimeDistr  (None, 6, 62, 62, 64)    4864      \n",
      " ibuted)                                                         \n",
      "                                                                 \n",
      " batch_normalization (BatchN  (None, 6, 62, 62, 64)    248       \n",
      " ormalization)                                                   \n",
      "                                                                 \n",
      " activation (Activation)     (None, 6, 62, 62, 64)     0         \n",
      "                                                                 \n",
      " time_distributed_1 (TimeDis  (None, 6, 30, 30, 32)    32800     \n",
      " tributed)                                                       \n",
      "                                                                 \n",
      " batch_normalization_1 (Batc  (None, 6, 30, 30, 32)    120       \n",
      " hNormalization)                                                 \n",
      "                                                                 \n",
      " activation_1 (Activation)   (None, 6, 30, 30, 32)     0         \n",
      "                                                                 \n",
      " time_distributed_2 (TimeDis  (None, 6, 14, 14, 32)    9248      \n",
      " tributed)                                                       \n",
      "                                                                 \n",
      " batch_normalization_2 (Batc  (None, 6, 14, 14, 32)    56        \n",
      " hNormalization)                                                 \n",
      "                                                                 \n",
      " activation_2 (Activation)   (None, 6, 14, 14, 32)     0         \n",
      "                                                                 \n",
      " time_distributed_3 (TimeDis  (None, 6, 12, 12, 16)    4624      \n",
      " tributed)                                                       \n",
      "                                                                 \n",
      " batch_normalization_3 (Batc  (None, 6, 12, 12, 16)    48        \n",
      " hNormalization)                                                 \n",
      "                                                                 \n",
      " activation_3 (Activation)   (None, 6, 12, 12, 16)     0         \n",
      "                                                                 \n",
      " time_distributed_4 (TimeDis  (None, 6, 6, 6, 16)      0         \n",
      " tributed)                                                       \n",
      "                                                                 \n",
      " time_distributed_5 (TimeDis  (None, 6, 576)           0         \n",
      " tributed)                                                       \n",
      "                                                                 \n",
      " simple_rnn (SimpleRNN)      (None, 6, 16)             9488      \n",
      "                                                                 \n",
      " global_max_pooling1d (Globa  (None, 16)               0         \n",
      " lMaxPooling1D)                                                  \n",
      "                                                                 \n",
      " dense (Dense)               (None, 20)                340       \n",
      "                                                                 \n",
      " dropout (Dropout)           (None, 20)                0         \n",
      "                                                                 \n",
      " dense_1 (Dense)             (None, 10)                210       \n",
      "                                                                 \n",
      "=================================================================\n",
      "Total params: 62,046\n",
      "Trainable params: 61,810\n",
      "Non-trainable params: 236\n",
      "_________________________________________________________________\n"
     ]
    }
   ],
   "source": [
    "model = models.Sequential()\n",
    "model = add_2d_cnn_part(model, FRAME_COUNT, FRAME_SIZE)\n",
    "model.add(layers.TimeDistributed(layers.Flatten()))\n",
    "model = add_rnn_part(model, return_sequences=True)\n",
    "model.add(layers.GlobalMaxPool1D())\n",
    "model = add_dense_part(model, CLASS_COUNT)\n",
    "\n",
    "model.summary()"
   ]
  },
  {
   "cell_type": "code",
   "execution_count": 5,
   "id": "963ff906",
   "metadata": {},
   "outputs": [],
   "source": [
    "model.compile(optimizer='adam',\n",
    "              loss=tf.keras.losses.SparseCategoricalCrossentropy(from_logits=False),\n",
    "              metrics=['accuracy'],\n",
    "              )\n"
   ]
  },
  {
   "cell_type": "code",
   "execution_count": 6,
   "id": "20cf9db7",
   "metadata": {},
   "outputs": [
    {
     "name": "stdout",
     "output_type": "stream",
     "text": [
      "Epoch 1/50\n",
      "11/11 [==============================] - 7s 207ms/step - loss: 2.4215 - accuracy: 0.1086 - val_loss: 2.2755 - val_accuracy: 0.1111\n",
      "Epoch 2/50\n",
      "11/11 [==============================] - 1s 108ms/step - loss: 2.2983 - accuracy: 0.1171 - val_loss: 2.2587 - val_accuracy: 0.1333\n",
      "Epoch 3/50\n",
      "11/11 [==============================] - 1s 97ms/step - loss: 2.2544 - accuracy: 0.1571 - val_loss: 2.2768 - val_accuracy: 0.1556\n",
      "Epoch 4/50\n",
      "11/11 [==============================] - 1s 94ms/step - loss: 2.2221 - accuracy: 0.1600 - val_loss: 2.2663 - val_accuracy: 0.1111\n",
      "Epoch 5/50\n",
      "11/11 [==============================] - 1s 95ms/step - loss: 2.2277 - accuracy: 0.1829 - val_loss: 2.2498 - val_accuracy: 0.1111\n",
      "Epoch 6/50\n",
      "11/11 [==============================] - 1s 95ms/step - loss: 2.1945 - accuracy: 0.1971 - val_loss: 2.2187 - val_accuracy: 0.1778\n",
      "Epoch 7/50\n",
      "11/11 [==============================] - 1s 105ms/step - loss: 2.1706 - accuracy: 0.2171 - val_loss: 2.2449 - val_accuracy: 0.1111\n",
      "Epoch 8/50\n",
      "11/11 [==============================] - 1s 113ms/step - loss: 2.1200 - accuracy: 0.2086 - val_loss: 2.1866 - val_accuracy: 0.2000\n",
      "Epoch 9/50\n",
      "11/11 [==============================] - 1s 111ms/step - loss: 2.0784 - accuracy: 0.2343 - val_loss: 2.2048 - val_accuracy: 0.1333\n",
      "Epoch 10/50\n",
      "11/11 [==============================] - 1s 112ms/step - loss: 2.0603 - accuracy: 0.2400 - val_loss: 2.1729 - val_accuracy: 0.1556\n",
      "Epoch 11/50\n",
      "11/11 [==============================] - 1s 113ms/step - loss: 2.0358 - accuracy: 0.2457 - val_loss: 2.0745 - val_accuracy: 0.2000\n",
      "Epoch 12/50\n",
      "11/11 [==============================] - 1s 111ms/step - loss: 1.9884 - accuracy: 0.2829 - val_loss: 2.0456 - val_accuracy: 0.2222\n",
      "Epoch 13/50\n",
      "11/11 [==============================] - 1s 111ms/step - loss: 2.0144 - accuracy: 0.2657 - val_loss: 2.0103 - val_accuracy: 0.2889\n",
      "Epoch 14/50\n",
      "11/11 [==============================] - 1s 111ms/step - loss: 1.9493 - accuracy: 0.2943 - val_loss: 2.0081 - val_accuracy: 0.3111\n",
      "Epoch 15/50\n",
      "11/11 [==============================] - 1s 111ms/step - loss: 1.9408 - accuracy: 0.3200 - val_loss: 1.9813 - val_accuracy: 0.3556\n",
      "Epoch 16/50\n",
      "11/11 [==============================] - 1s 112ms/step - loss: 1.8509 - accuracy: 0.3229 - val_loss: 1.9668 - val_accuracy: 0.2889\n",
      "Epoch 17/50\n",
      "11/11 [==============================] - 1s 111ms/step - loss: 1.8007 - accuracy: 0.3457 - val_loss: 1.9657 - val_accuracy: 0.2889\n",
      "Epoch 18/50\n",
      "11/11 [==============================] - 1s 112ms/step - loss: 1.7895 - accuracy: 0.3914 - val_loss: 1.9024 - val_accuracy: 0.4444\n",
      "Epoch 19/50\n",
      "11/11 [==============================] - 1s 114ms/step - loss: 1.7243 - accuracy: 0.4543 - val_loss: 1.8781 - val_accuracy: 0.4444\n",
      "Epoch 20/50\n",
      "11/11 [==============================] - 1s 112ms/step - loss: 1.6568 - accuracy: 0.4543 - val_loss: 1.7951 - val_accuracy: 0.4222\n",
      "Epoch 21/50\n",
      "11/11 [==============================] - 1s 111ms/step - loss: 1.5972 - accuracy: 0.4771 - val_loss: 1.7264 - val_accuracy: 0.4889\n",
      "Epoch 22/50\n",
      "11/11 [==============================] - 1s 110ms/step - loss: 1.5528 - accuracy: 0.5057 - val_loss: 1.7009 - val_accuracy: 0.4444\n",
      "Epoch 23/50\n",
      "11/11 [==============================] - 1s 111ms/step - loss: 1.5215 - accuracy: 0.5086 - val_loss: 1.6928 - val_accuracy: 0.3333\n",
      "Epoch 24/50\n",
      "11/11 [==============================] - 1s 111ms/step - loss: 1.5448 - accuracy: 0.5029 - val_loss: 1.7085 - val_accuracy: 0.4222\n",
      "Epoch 25/50\n",
      "11/11 [==============================] - 1s 112ms/step - loss: 1.4874 - accuracy: 0.5143 - val_loss: 1.6439 - val_accuracy: 0.4222\n",
      "Epoch 26/50\n",
      "11/11 [==============================] - 1s 111ms/step - loss: 1.4684 - accuracy: 0.5286 - val_loss: 1.7100 - val_accuracy: 0.4000\n",
      "Epoch 27/50\n",
      "11/11 [==============================] - 1s 112ms/step - loss: 1.3603 - accuracy: 0.5886 - val_loss: 1.5602 - val_accuracy: 0.4667\n",
      "Epoch 28/50\n",
      "11/11 [==============================] - 1s 111ms/step - loss: 1.3266 - accuracy: 0.5943 - val_loss: 1.5756 - val_accuracy: 0.4444\n",
      "Epoch 29/50\n",
      "11/11 [==============================] - 1s 111ms/step - loss: 1.2277 - accuracy: 0.6314 - val_loss: 1.5684 - val_accuracy: 0.4444\n",
      "Epoch 30/50\n",
      "11/11 [==============================] - 1s 111ms/step - loss: 1.2847 - accuracy: 0.6286 - val_loss: 1.5117 - val_accuracy: 0.5111\n",
      "Epoch 31/50\n",
      "11/11 [==============================] - 1s 110ms/step - loss: 1.2081 - accuracy: 0.6600 - val_loss: 1.5221 - val_accuracy: 0.4889\n",
      "Epoch 32/50\n",
      "11/11 [==============================] - 1s 111ms/step - loss: 1.1418 - accuracy: 0.6486 - val_loss: 1.4789 - val_accuracy: 0.5111\n",
      "Epoch 33/50\n",
      "11/11 [==============================] - 1s 110ms/step - loss: 1.0856 - accuracy: 0.6886 - val_loss: 1.5091 - val_accuracy: 0.6000\n",
      "Epoch 34/50\n",
      "11/11 [==============================] - 1s 113ms/step - loss: 1.0094 - accuracy: 0.7257 - val_loss: 1.4557 - val_accuracy: 0.5333\n",
      "Epoch 35/50\n",
      "11/11 [==============================] - 1s 110ms/step - loss: 0.9736 - accuracy: 0.7286 - val_loss: 1.4806 - val_accuracy: 0.5778\n",
      "Epoch 36/50\n",
      "11/11 [==============================] - 1s 111ms/step - loss: 0.9498 - accuracy: 0.7486 - val_loss: 1.5506 - val_accuracy: 0.4889\n",
      "Epoch 37/50\n",
      "11/11 [==============================] - 1s 119ms/step - loss: 0.8981 - accuracy: 0.7600 - val_loss: 1.4315 - val_accuracy: 0.6000\n",
      "Epoch 38/50\n",
      "11/11 [==============================] - 1s 113ms/step - loss: 0.8578 - accuracy: 0.7714 - val_loss: 1.5575 - val_accuracy: 0.5778\n",
      "Epoch 39/50\n",
      "11/11 [==============================] - 1s 115ms/step - loss: 0.7970 - accuracy: 0.7914 - val_loss: 1.3815 - val_accuracy: 0.6000\n",
      "Epoch 40/50\n",
      "11/11 [==============================] - 1s 114ms/step - loss: 0.8110 - accuracy: 0.7886 - val_loss: 1.3879 - val_accuracy: 0.5556\n",
      "Epoch 41/50\n",
      "11/11 [==============================] - 1s 114ms/step - loss: 0.7898 - accuracy: 0.8057 - val_loss: 1.4151 - val_accuracy: 0.5333\n",
      "Epoch 42/50\n",
      "11/11 [==============================] - 1s 114ms/step - loss: 0.7250 - accuracy: 0.8200 - val_loss: 1.2975 - val_accuracy: 0.6000\n",
      "Epoch 43/50\n",
      "11/11 [==============================] - 1s 114ms/step - loss: 0.7254 - accuracy: 0.8200 - val_loss: 1.2967 - val_accuracy: 0.6222\n",
      "Epoch 44/50\n",
      "11/11 [==============================] - 1s 112ms/step - loss: 0.6915 - accuracy: 0.8257 - val_loss: 1.3482 - val_accuracy: 0.6000\n",
      "Epoch 45/50\n",
      "11/11 [==============================] - 1s 114ms/step - loss: 0.6393 - accuracy: 0.8314 - val_loss: 1.2940 - val_accuracy: 0.6222\n",
      "Epoch 46/50\n",
      "11/11 [==============================] - 1s 113ms/step - loss: 0.6579 - accuracy: 0.8200 - val_loss: 1.3349 - val_accuracy: 0.6222\n",
      "Epoch 47/50\n",
      "11/11 [==============================] - 1s 113ms/step - loss: 0.6416 - accuracy: 0.8400 - val_loss: 1.4003 - val_accuracy: 0.6000\n",
      "Epoch 48/50\n",
      "11/11 [==============================] - 1s 113ms/step - loss: 0.6388 - accuracy: 0.8257 - val_loss: 1.4547 - val_accuracy: 0.5333\n",
      "Epoch 49/50\n",
      "11/11 [==============================] - 1s 113ms/step - loss: 0.5928 - accuracy: 0.8429 - val_loss: 1.3339 - val_accuracy: 0.6667\n",
      "Epoch 50/50\n",
      "11/11 [==============================] - 1s 114ms/step - loss: 0.5225 - accuracy: 0.8571 - val_loss: 1.1917 - val_accuracy: 0.6000\n"
     ]
    }
   ],
   "source": [
    "history = model.fit(X_train, y_train, epochs = EPOCHS, validation_data = (X_val, y_val), callbacks=[early_stopping])"
   ]
  },
  {
   "cell_type": "markdown",
   "id": "57ec1982",
   "metadata": {},
   "source": [
    "### Train & validation Loss"
   ]
  },
  {
   "cell_type": "code",
   "execution_count": 7,
   "id": "b6c8d1db",
   "metadata": {},
   "outputs": [
    {
     "data": {
      "text/plain": [
       "<matplotlib.legend.Legend at 0x15485f94130>"
      ]
     },
     "execution_count": 7,
     "metadata": {},
     "output_type": "execute_result"
    },
    {
     "data": {
      "image/png": "[encoded data removed]",
      "text/plain": [
       "<Figure size 432x288 with 1 Axes>"
      ]
     },
     "metadata": {
      "needs_background": "light"
     },
     "output_type": "display_data"
    }
   ],
   "source": [
    "plt.plot(history.history['loss'], label='loss')\n",
    "plt.plot(history.history['val_loss'], label = 'val_loss')\n",
    "plt.xlabel('Epoch')\n",
    "plt.ylabel('Loss')\n",
    "plt.ylim([0.0, 3])\n",
    "plt.legend(loc='lower right')"
   ]
  },
  {
   "cell_type": "markdown",
   "id": "7af69023",
   "metadata": {},
   "source": [
    "### Train & validation Accuracy"
   ]
  },
  {
   "cell_type": "code",
   "execution_count": 8,
   "id": "0bb8dfca",
   "metadata": {},
   "outputs": [
    {
     "data": {
      "text/plain": [
       "<matplotlib.legend.Legend at 0x154cbd2feb0>"
      ]
     },
     "execution_count": 8,
     "metadata": {},
     "output_type": "execute_result"
    },
    {
     "data": {
      "image/png": "[encoded data removed]",
      "text/plain": [
       "<Figure size 432x288 with 1 Axes>"
      ]
     },
     "metadata": {
      "needs_background": "light"
     },
     "output_type": "display_data"
    }
   ],
   "source": [
    "plt.plot(history.history['accuracy'], label='accuracy')\n",
    "plt.plot(history.history['val_accuracy'], label = 'val_accuracy')\n",
    "plt.xlabel('Epoch')\n",
    "plt.ylabel('Accuracy')\n",
    "plt.ylim([0.0, 1])\n",
    "plt.legend(loc='lower right')"
   ]
  },
  {
   "cell_type": "markdown",
   "id": "9b30546c",
   "metadata": {},
   "source": [
    "## Test"
   ]
  },
  {
   "cell_type": "code",
   "execution_count": 9,
   "id": "cf4c662a",
   "metadata": {},
   "outputs": [
    {
     "name": "stdout",
     "output_type": "stream",
     "text": [
      "4/4 [==============================] - 0s 34ms/step\n"
     ]
    }
   ],
   "source": [
    "predict = np.argmax(model.predict(X_test), axis=1)"
   ]
  },
  {
   "cell_type": "code",
   "execution_count": 10,
   "id": "6ec7a04a",
   "metadata": {},
   "outputs": [
    {
     "name": "stdout",
     "output_type": "stream",
     "text": [
      "              precision    recall  f1-score   support\n",
      "\n",
      "           0       0.75      0.60      0.67        15\n",
      "           1       0.79      0.69      0.73        16\n",
      "           2       0.40      0.80      0.53         5\n",
      "           3       0.32      0.67      0.43         9\n",
      "           4       0.62      0.50      0.56        10\n",
      "           5       0.38      0.38      0.38         8\n",
      "           6       0.83      0.36      0.50        14\n",
      "           7       0.44      0.40      0.42        10\n",
      "           8       0.44      0.44      0.44         9\n",
      "           9       0.60      0.67      0.63         9\n",
      "\n",
      "    accuracy                           0.54       105\n",
      "   macro avg       0.56      0.55      0.53       105\n",
      "weighted avg       0.60      0.54      0.55       105\n",
      "\n"
     ]
    }
   ],
   "source": [
    "print(classification_report(y_test, predict))"
   ]
  },
  {
   "cell_type": "code",
   "execution_count": 11,
   "id": "9433cc53",
   "metadata": {},
   "outputs": [
    {
     "data": {
      "image/png": "[encoded data removed]",
      "text/plain": [
       "<Figure size 400x400 with 2 Axes>"
      ]
     },
     "metadata": {
      "needs_background": "light"
     },
     "output_type": "display_data"
    }
   ],
   "source": [
    "fig = plt.figure(figsize=(CLASS_COUNT // 2, CLASS_COUNT // 2), dpi=80)\n",
    "M = confusion_matrix(predict, y_test)\n",
    "plt.imshow(M, interpolation = 'nearest')\n",
    "plt.set_cmap('binary')\n",
    "plt.xticks(range(CLASS_COUNT))\n",
    "plt.yticks(range(CLASS_COUNT))\n",
    "plt.xlabel(\"true label\")\n",
    "plt.ylabel(\"predicted label\")\n",
    "plt.colorbar()\n",
    "pass"
   ]
  },
  {
   "cell_type": "code",
   "execution_count": null,
   "id": "5c484710",
   "metadata": {},
   "outputs": [],
   "source": []
  }
 ],
 "metadata": {
  "kernelspec": {
   "display_name": "Python 3 (ipykernel)",
   "language": "python",
   "name": "python3"
  },
  "language_info": {
   "codemirror_mode": {
    "name": "ipython",
    "version": 3
   },
   "file_extension": ".py",
   "mimetype": "text/x-python",
   "name": "python",
   "nbconvert_exporter": "python",
   "pygments_lexer": "ipython3",
   "version": "3.9.6"
  }
 },
 "nbformat": 4,
 "nbformat_minor": 5
}
