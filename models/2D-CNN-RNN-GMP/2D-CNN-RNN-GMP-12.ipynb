{
 "cells": [
  {
   "cell_type": "code",
   "execution_count": 1,
   "id": "867cbce7",
   "metadata": {},
   "outputs": [],
   "source": [
    "import os\n",
    "\n",
    "import cv2\n",
    "from matplotlib import pyplot as plt\n",
    "from tqdm.notebook import trange, tqdm\n",
    "import numpy as np\n",
    "import tensorflow as tf\n",
    "import random\n",
    "from sklearn import preprocessing\n",
    "from sklearn.model_selection import train_test_split\n",
    "from tensorflow.keras import layers, models, utils\n",
    "from sklearn.metrics import classification_report, confusion_matrix\n",
    "\n",
    "from data_utils import read_and_preprocess_data\n",
    "from model_utils import *"
   ]
  },
  {
   "cell_type": "markdown",
   "id": "d6e5fe95",
   "metadata": {},
   "source": [
    "## Settings"
   ]
  },
  {
   "cell_type": "code",
   "execution_count": 2,
   "id": "c83c0d21",
   "metadata": {},
   "outputs": [],
   "source": [
    "FRAME_SIZE = 128\n",
    "DATA_PATH = './2sec/data_12_fps'\n",
    "EPOCHS = 50"
   ]
  },
  {
   "cell_type": "markdown",
   "id": "68882663",
   "metadata": {},
   "source": [
    "## Data"
   ]
  },
  {
   "cell_type": "code",
   "execution_count": 3,
   "id": "41431d91",
   "metadata": {},
   "outputs": [
    {
     "name": "stdout",
     "output_type": "stream",
     "text": [
      "reading...\n",
      "BalanceBeam\n",
      "CricketShot\n",
      "Fencing\n",
      "HorseRiding\n",
      "LongJump\n",
      "RockClimbingIndoor\n",
      "SalsaSpin\n",
      "SkyDiving\n",
      "TableTennisShot\n",
      "WallPushups\n",
      "class count = 10\n",
      "med frame count = 24.0\n",
      "padding...\n",
      "Labels encoding...\n",
      "(500,) (500, 24, 128, 128, 3)\n",
      "norm...\n",
      "Train-val-test split...\n",
      "Train: (350, 24, 128, 128, 3) (350,)\n",
      "Val: (45, 24, 128, 128, 3) (45,)\n",
      "Test: (105, 24, 128, 128, 3) (105,)\n"
     ]
    }
   ],
   "source": [
    "CLASS_COUNT, FRAME_COUNT, FRAME_SIZE, X_train, X_val, X_test, y_train, y_val, y_test = read_and_preprocess_data(DATA_PATH, FRAME_SIZE)"
   ]
  },
  {
   "cell_type": "markdown",
   "id": "f99a5cc9",
   "metadata": {},
   "source": [
    "## Model"
   ]
  },
  {
   "cell_type": "code",
   "execution_count": 4,
   "id": "b687e133",
   "metadata": {},
   "outputs": [
    {
     "name": "stdout",
     "output_type": "stream",
     "text": [
      "Model: \"sequential\"\n",
      "_________________________________________________________________\n",
      " Layer (type)                Output Shape              Param #   \n",
      "=================================================================\n",
      " time_distributed (TimeDistr  (None, 24, 62, 62, 64)   4864      \n",
      " ibuted)                                                         \n",
      "                                                                 \n",
      " batch_normalization (BatchN  (None, 24, 62, 62, 64)   248       \n",
      " ormalization)                                                   \n",
      "                                                                 \n",
      " activation (Activation)     (None, 24, 62, 62, 64)    0         \n",
      "                                                                 \n",
      " time_distributed_1 (TimeDis  (None, 24, 30, 30, 32)   32800     \n",
      " tributed)                                                       \n",
      "                                                                 \n",
      " batch_normalization_1 (Batc  (None, 24, 30, 30, 32)   120       \n",
      " hNormalization)                                                 \n",
      "                                                                 \n",
      " activation_1 (Activation)   (None, 24, 30, 30, 32)    0         \n",
      "                                                                 \n",
      " time_distributed_2 (TimeDis  (None, 24, 14, 14, 32)   9248      \n",
      " tributed)                                                       \n",
      "                                                                 \n",
      " batch_normalization_2 (Batc  (None, 24, 14, 14, 32)   56        \n",
      " hNormalization)                                                 \n",
      "                                                                 \n",
      " activation_2 (Activation)   (None, 24, 14, 14, 32)    0         \n",
      "                                                                 \n",
      " time_distributed_3 (TimeDis  (None, 24, 12, 12, 16)   4624      \n",
      " tributed)                                                       \n",
      "                                                                 \n",
      " batch_normalization_3 (Batc  (None, 24, 12, 12, 16)   48        \n",
      " hNormalization)                                                 \n",
      "                                                                 \n",
      " activation_3 (Activation)   (None, 24, 12, 12, 16)    0         \n",
      "                                                                 \n",
      " time_distributed_4 (TimeDis  (None, 24, 6, 6, 16)     0         \n",
      " tributed)                                                       \n",
      "                                                                 \n",
      " time_distributed_5 (TimeDis  (None, 24, 576)          0         \n",
      " tributed)                                                       \n",
      "                                                                 \n",
      " simple_rnn (SimpleRNN)      (None, 24, 16)            9488      \n",
      "                                                                 \n",
      " global_max_pooling1d (Globa  (None, 16)               0         \n",
      " lMaxPooling1D)                                                  \n",
      "                                                                 \n",
      " dense (Dense)               (None, 20)                340       \n",
      "                                                                 \n",
      " dropout (Dropout)           (None, 20)                0         \n",
      "                                                                 \n",
      " dense_1 (Dense)             (None, 10)                210       \n",
      "                                                                 \n",
      "=================================================================\n",
      "Total params: 62,046\n",
      "Trainable params: 61,810\n",
      "Non-trainable params: 236\n",
      "_________________________________________________________________\n"
     ]
    }
   ],
   "source": [
    "model = models.Sequential()\n",
    "model = add_2d_cnn_part(model, FRAME_COUNT, FRAME_SIZE)\n",
    "model.add(layers.TimeDistributed(layers.Flatten()))\n",
    "model = add_rnn_part(model, return_sequences=True)\n",
    "model.add(layers.GlobalMaxPool1D())\n",
    "model = add_dense_part(model, CLASS_COUNT)\n",
    "\n",
    "model.summary()"
   ]
  },
  {
   "cell_type": "code",
   "execution_count": 5,
   "id": "963ff906",
   "metadata": {},
   "outputs": [],
   "source": [
    "model.compile(optimizer='adam',\n",
    "              loss=tf.keras.losses.SparseCategoricalCrossentropy(from_logits=False),\n",
    "              metrics=['accuracy'],\n",
    "              )\n"
   ]
  },
  {
   "cell_type": "code",
   "execution_count": 6,
   "id": "20cf9db7",
   "metadata": {},
   "outputs": [
    {
     "name": "stdout",
     "output_type": "stream",
     "text": [
      "Epoch 1/50\n",
      "11/11 [==============================] - 13s 626ms/step - loss: 2.3114 - accuracy: 0.1114 - val_loss: 2.3347 - val_accuracy: 0.0889\n",
      "Epoch 2/50\n",
      "11/11 [==============================] - 4s 345ms/step - loss: 2.3040 - accuracy: 0.1200 - val_loss: 2.3106 - val_accuracy: 0.0667\n",
      "Epoch 3/50\n",
      "11/11 [==============================] - 4s 351ms/step - loss: 2.2909 - accuracy: 0.1257 - val_loss: 2.3260 - val_accuracy: 0.1333\n",
      "Epoch 4/50\n",
      "11/11 [==============================] - 4s 347ms/step - loss: 2.2708 - accuracy: 0.1200 - val_loss: 2.3012 - val_accuracy: 0.1111\n",
      "Epoch 5/50\n",
      "11/11 [==============================] - 4s 346ms/step - loss: 2.2364 - accuracy: 0.1714 - val_loss: 2.3150 - val_accuracy: 0.1556\n",
      "Epoch 6/50\n",
      "11/11 [==============================] - 4s 348ms/step - loss: 2.2088 - accuracy: 0.1829 - val_loss: 2.3073 - val_accuracy: 0.1556\n",
      "Epoch 7/50\n",
      "11/11 [==============================] - 4s 402ms/step - loss: 2.2052 - accuracy: 0.1886 - val_loss: 2.2966 - val_accuracy: 0.2000\n",
      "Epoch 8/50\n",
      "11/11 [==============================] - 4s 409ms/step - loss: 2.1757 - accuracy: 0.2171 - val_loss: 2.2817 - val_accuracy: 0.2000\n",
      "Epoch 9/50\n",
      "11/11 [==============================] - 4s 406ms/step - loss: 2.1336 - accuracy: 0.2200 - val_loss: 2.2759 - val_accuracy: 0.1778\n",
      "Epoch 10/50\n",
      "11/11 [==============================] - 4s 406ms/step - loss: 2.0862 - accuracy: 0.2400 - val_loss: 2.3237 - val_accuracy: 0.1333\n",
      "Epoch 11/50\n",
      "11/11 [==============================] - 4s 408ms/step - loss: 2.0737 - accuracy: 0.2657 - val_loss: 2.2499 - val_accuracy: 0.2222\n",
      "Epoch 12/50\n",
      "11/11 [==============================] - 4s 407ms/step - loss: 2.0529 - accuracy: 0.2429 - val_loss: 2.3049 - val_accuracy: 0.1333\n",
      "Epoch 13/50\n",
      "11/11 [==============================] - 4s 406ms/step - loss: 2.0586 - accuracy: 0.2343 - val_loss: 2.2393 - val_accuracy: 0.1333\n",
      "Epoch 14/50\n",
      "11/11 [==============================] - 4s 410ms/step - loss: 1.9982 - accuracy: 0.2743 - val_loss: 2.2420 - val_accuracy: 0.1778\n",
      "Epoch 15/50\n",
      "11/11 [==============================] - 4s 409ms/step - loss: 1.9514 - accuracy: 0.3086 - val_loss: 2.2019 - val_accuracy: 0.2000\n",
      "Epoch 16/50\n",
      "11/11 [==============================] - 4s 407ms/step - loss: 1.8795 - accuracy: 0.3200 - val_loss: 2.2356 - val_accuracy: 0.1778\n",
      "Epoch 17/50\n",
      "11/11 [==============================] - 4s 409ms/step - loss: 1.8766 - accuracy: 0.3171 - val_loss: 2.1851 - val_accuracy: 0.2000\n",
      "Epoch 18/50\n",
      "11/11 [==============================] - 4s 407ms/step - loss: 1.8492 - accuracy: 0.3400 - val_loss: 2.2187 - val_accuracy: 0.1556\n",
      "Epoch 19/50\n",
      "11/11 [==============================] - 4s 409ms/step - loss: 1.7880 - accuracy: 0.3743 - val_loss: 2.1639 - val_accuracy: 0.1111\n",
      "Epoch 20/50\n",
      "11/11 [==============================] - 4s 407ms/step - loss: 1.7610 - accuracy: 0.3543 - val_loss: 2.2029 - val_accuracy: 0.1111\n",
      "Epoch 21/50\n",
      "11/11 [==============================] - 4s 404ms/step - loss: 1.7333 - accuracy: 0.3971 - val_loss: 2.1654 - val_accuracy: 0.1556\n",
      "Epoch 22/50\n",
      "11/11 [==============================] - 4s 406ms/step - loss: 1.6598 - accuracy: 0.3800 - val_loss: 2.1728 - val_accuracy: 0.1778\n",
      "Epoch 23/50\n",
      "11/11 [==============================] - 4s 409ms/step - loss: 1.5894 - accuracy: 0.4571 - val_loss: 2.0984 - val_accuracy: 0.1778\n",
      "Epoch 24/50\n",
      "11/11 [==============================] - 4s 407ms/step - loss: 1.5575 - accuracy: 0.4600 - val_loss: 2.1038 - val_accuracy: 0.1778\n",
      "Epoch 25/50\n",
      "11/11 [==============================] - 4s 408ms/step - loss: 1.5059 - accuracy: 0.4543 - val_loss: 2.1211 - val_accuracy: 0.2000\n",
      "Epoch 26/50\n",
      "11/11 [==============================] - 4s 403ms/step - loss: 1.4343 - accuracy: 0.5057 - val_loss: 2.1520 - val_accuracy: 0.1778\n",
      "Epoch 27/50\n",
      "11/11 [==============================] - 4s 410ms/step - loss: 1.4313 - accuracy: 0.4829 - val_loss: 2.0067 - val_accuracy: 0.2667\n",
      "Epoch 28/50\n",
      "11/11 [==============================] - 4s 404ms/step - loss: 1.3575 - accuracy: 0.5029 - val_loss: 1.9551 - val_accuracy: 0.2222\n",
      "Epoch 29/50\n",
      "11/11 [==============================] - 4s 404ms/step - loss: 1.4237 - accuracy: 0.4829 - val_loss: 2.0368 - val_accuracy: 0.3111\n",
      "Epoch 30/50\n",
      "11/11 [==============================] - 4s 406ms/step - loss: 1.2743 - accuracy: 0.5686 - val_loss: 1.9824 - val_accuracy: 0.2222\n",
      "Epoch 31/50\n",
      "11/11 [==============================] - 4s 411ms/step - loss: 1.2418 - accuracy: 0.5514 - val_loss: 2.0415 - val_accuracy: 0.2444\n",
      "Epoch 32/50\n",
      "11/11 [==============================] - 4s 404ms/step - loss: 1.2145 - accuracy: 0.5686 - val_loss: 2.1696 - val_accuracy: 0.1778\n",
      "Epoch 33/50\n",
      "11/11 [==============================] - 4s 406ms/step - loss: 1.1651 - accuracy: 0.5714 - val_loss: 1.9481 - val_accuracy: 0.2889\n",
      "Epoch 34/50\n",
      "11/11 [==============================] - 4s 406ms/step - loss: 1.1203 - accuracy: 0.6257 - val_loss: 1.8600 - val_accuracy: 0.2667\n",
      "Epoch 35/50\n",
      "11/11 [==============================] - 4s 407ms/step - loss: 1.0731 - accuracy: 0.6371 - val_loss: 1.8036 - val_accuracy: 0.3111\n",
      "Epoch 36/50\n",
      "11/11 [==============================] - 4s 408ms/step - loss: 1.0694 - accuracy: 0.6086 - val_loss: 1.9275 - val_accuracy: 0.3333\n",
      "Epoch 37/50\n",
      "11/11 [==============================] - 4s 362ms/step - loss: 1.0201 - accuracy: 0.6314 - val_loss: 2.0574 - val_accuracy: 0.3556\n",
      "Epoch 38/50\n",
      "11/11 [==============================] - 4s 353ms/step - loss: 1.0024 - accuracy: 0.6514 - val_loss: 1.9169 - val_accuracy: 0.3333\n",
      "Epoch 39/50\n",
      "11/11 [==============================] - 4s 354ms/step - loss: 0.9036 - accuracy: 0.6914 - val_loss: 1.8396 - val_accuracy: 0.4000\n",
      "Epoch 40/50\n",
      "11/11 [==============================] - 4s 353ms/step - loss: 0.8701 - accuracy: 0.7286 - val_loss: 1.8338 - val_accuracy: 0.4222\n"
     ]
    }
   ],
   "source": [
    "history = model.fit(X_train, y_train, epochs = EPOCHS, validation_data = (X_val, y_val), callbacks=[early_stopping])"
   ]
  },
  {
   "cell_type": "markdown",
   "id": "57ec1982",
   "metadata": {},
   "source": [
    "### Train & validation Loss"
   ]
  },
  {
   "cell_type": "code",
   "execution_count": 7,
   "id": "b6c8d1db",
   "metadata": {},
   "outputs": [
    {
     "data": {
      "text/plain": [
       "<matplotlib.legend.Legend at 0x1863f370340>"
      ]
     },
     "execution_count": 7,
     "metadata": {},
     "output_type": "execute_result"
    },
    {
     "data": {
      "image/png": "[encoded data removed]",
      "text/plain": [
       "<Figure size 432x288 with 1 Axes>"
      ]
     },
     "metadata": {
      "needs_background": "light"
     },
     "output_type": "display_data"
    }
   ],
   "source": [
    "plt.plot(history.history['loss'], label='loss')\n",
    "plt.plot(history.history['val_loss'], label = 'val_loss')\n",
    "plt.xlabel('Epoch')\n",
    "plt.ylabel('Loss')\n",
    "plt.ylim([0.0, 3])\n",
    "plt.legend(loc='lower right')"
   ]
  },
  {
   "cell_type": "markdown",
   "id": "7af69023",
   "metadata": {},
   "source": [
    "### Train & validation Accuracy"
   ]
  },
  {
   "cell_type": "code",
   "execution_count": 8,
   "id": "0bb8dfca",
   "metadata": {},
   "outputs": [
    {
     "data": {
      "text/plain": [
       "<matplotlib.legend.Legend at 0x1867efe3340>"
      ]
     },
     "execution_count": 8,
     "metadata": {},
     "output_type": "execute_result"
    },
    {
     "data": {
      "image/png": "[encoded data removed]",
      "text/plain": [
       "<Figure size 432x288 with 1 Axes>"
      ]
     },
     "metadata": {
      "needs_background": "light"
     },
     "output_type": "display_data"
    }
   ],
   "source": [
    "plt.plot(history.history['accuracy'], label='accuracy')\n",
    "plt.plot(history.history['val_accuracy'], label = 'val_accuracy')\n",
    "plt.xlabel('Epoch')\n",
    "plt.ylabel('Accuracy')\n",
    "plt.ylim([0.0, 1])\n",
    "plt.legend(loc='lower right')"
   ]
  },
  {
   "cell_type": "markdown",
   "id": "9b30546c",
   "metadata": {},
   "source": [
    "## Test"
   ]
  },
  {
   "cell_type": "code",
   "execution_count": 9,
   "id": "cf4c662a",
   "metadata": {},
   "outputs": [
    {
     "name": "stdout",
     "output_type": "stream",
     "text": [
      "4/4 [==============================] - 1s 93ms/step\n"
     ]
    }
   ],
   "source": [
    "predict = np.argmax(model.predict(X_test), axis=1)"
   ]
  },
  {
   "cell_type": "code",
   "execution_count": 10,
   "id": "6ec7a04a",
   "metadata": {},
   "outputs": [
    {
     "name": "stdout",
     "output_type": "stream",
     "text": [
      "              precision    recall  f1-score   support\n",
      "\n",
      "           0       0.73      0.53      0.62        15\n",
      "           1       0.82      0.56      0.67        16\n",
      "           2       0.22      0.80      0.35         5\n",
      "           3       0.43      0.67      0.52         9\n",
      "           4       0.44      0.70      0.54        10\n",
      "           5       0.43      0.38      0.40         8\n",
      "           6       0.00      0.00      0.00        14\n",
      "           7       0.57      0.80      0.67        10\n",
      "           8       0.20      0.11      0.14         9\n",
      "           9       0.29      0.22      0.25         9\n",
      "\n",
      "    accuracy                           0.46       105\n",
      "   macro avg       0.41      0.48      0.41       105\n",
      "weighted avg       0.45      0.46      0.43       105\n",
      "\n"
     ]
    }
   ],
   "source": [
    "print(classification_report(y_test, predict))"
   ]
  },
  {
   "cell_type": "code",
   "execution_count": 11,
   "id": "9433cc53",
   "metadata": {},
   "outputs": [
    {
     "data": {
      "image/png": "[encoded data removed]",
      "text/plain": [
       "<Figure size 400x400 with 2 Axes>"
      ]
     },
     "metadata": {
      "needs_background": "light"
     },
     "output_type": "display_data"
    }
   ],
   "source": [
    "fig = plt.figure(figsize=(CLASS_COUNT // 2, CLASS_COUNT // 2), dpi=80)\n",
    "M = confusion_matrix(predict, y_test)\n",
    "plt.imshow(M, interpolation = 'nearest')\n",
    "plt.set_cmap('binary')\n",
    "plt.xticks(range(CLASS_COUNT))\n",
    "plt.yticks(range(CLASS_COUNT))\n",
    "plt.xlabel(\"true label\")\n",
    "plt.ylabel(\"predicted label\")\n",
    "plt.colorbar()\n",
    "pass"
   ]
  },
  {
   "cell_type": "code",
   "execution_count": null,
   "id": "5c484710",
   "metadata": {},
   "outputs": [],
   "source": []
  }
 ],
 "metadata": {
  "kernelspec": {
   "display_name": "Python 3 (ipykernel)",
   "language": "python",
   "name": "python3"
  },
  "language_info": {
   "codemirror_mode": {
    "name": "ipython",
    "version": 3
   },
   "file_extension": ".py",
   "mimetype": "text/x-python",
   "name": "python",
   "nbconvert_exporter": "python",
   "pygments_lexer": "ipython3",
   "version": "3.9.6"
  }
 },
 "nbformat": 4,
 "nbformat_minor": 5
}
