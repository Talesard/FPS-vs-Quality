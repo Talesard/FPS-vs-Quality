{
 "cells": [
  {
   "cell_type": "code",
   "execution_count": 1,
   "id": "867cbce7",
   "metadata": {},
   "outputs": [],
   "source": [
    "import os\n",
    "\n",
    "import cv2\n",
    "from matplotlib import pyplot as plt\n",
    "from tqdm.notebook import trange, tqdm\n",
    "import numpy as np\n",
    "import tensorflow as tf\n",
    "import random\n",
    "from sklearn import preprocessing\n",
    "from sklearn.model_selection import train_test_split\n",
    "from tensorflow.keras import layers, models, utils\n",
    "from sklearn.metrics import classification_report, confusion_matrix\n",
    "\n",
    "from data_utils import read_and_preprocess_data\n",
    "from model_utils import *"
   ]
  },
  {
   "cell_type": "markdown",
   "id": "d6e5fe95",
   "metadata": {},
   "source": [
    "## Settings"
   ]
  },
  {
   "cell_type": "code",
   "execution_count": 2,
   "id": "c83c0d21",
   "metadata": {},
   "outputs": [],
   "source": [
    "FRAME_SIZE = 64\n",
    "DATA_PATH = './2sec/data_1_fps'\n",
    "EPOCHS = 50"
   ]
  },
  {
   "cell_type": "markdown",
   "id": "68882663",
   "metadata": {},
   "source": [
    "## Data"
   ]
  },
  {
   "cell_type": "code",
   "execution_count": 3,
   "id": "41431d91",
   "metadata": {},
   "outputs": [
    {
     "name": "stdout",
     "output_type": "stream",
     "text": [
      "reading...\n",
      "BalanceBeam\n",
      "CricketShot\n",
      "Fencing\n",
      "HorseRiding\n",
      "LongJump\n",
      "RockClimbingIndoor\n",
      "SalsaSpin\n",
      "SkyDiving\n",
      "TableTennisShot\n",
      "WallPushups\n",
      "class count = 10\n",
      "med frame count = 2.0\n",
      "padding...\n",
      "Labels encoding...\n",
      "(500,) (500, 32, 64, 64, 3)\n",
      "norm...\n",
      "Train-val-test split...\n",
      "Train: (350, 32, 64, 64, 3) (350,)\n",
      "Val: (45, 32, 64, 64, 3) (45,)\n",
      "Test: (105, 32, 64, 64, 3) (105,)\n"
     ]
    }
   ],
   "source": [
    "CLASS_COUNT, FRAME_COUNT, FRAME_SIZE, X_train, X_val, X_test, y_train, y_val, y_test = read_and_preprocess_data(DATA_PATH, FRAME_SIZE, pad32=True)"
   ]
  },
  {
   "cell_type": "markdown",
   "id": "f99a5cc9",
   "metadata": {},
   "source": [
    "## Model"
   ]
  },
  {
   "cell_type": "code",
   "execution_count": 4,
   "id": "b687e133",
   "metadata": {},
   "outputs": [
    {
     "name": "stdout",
     "output_type": "stream",
     "text": [
      "Model: \"sequential\"\n",
      "_________________________________________________________________\n",
      " Layer (type)                Output Shape              Param #   \n",
      "=================================================================\n",
      " conv3d (Conv3D)             (None, 14, 30, 30, 32)    12032     \n",
      "                                                                 \n",
      " batch_normalization (BatchN  (None, 14, 30, 30, 32)   120       \n",
      " ormalization)                                                   \n",
      "                                                                 \n",
      " activation (Activation)     (None, 14, 30, 30, 32)    0         \n",
      "                                                                 \n",
      " conv3d_1 (Conv3D)           (None, 6, 14, 14, 16)     32784     \n",
      "                                                                 \n",
      " batch_normalization_1 (Batc  (None, 6, 14, 14, 16)    56        \n",
      " hNormalization)                                                 \n",
      "                                                                 \n",
      " activation_1 (Activation)   (None, 6, 14, 14, 16)     0         \n",
      "                                                                 \n",
      " conv3d_2 (Conv3D)           (None, 4, 12, 12, 16)     6928      \n",
      "                                                                 \n",
      " batch_normalization_2 (Batc  (None, 4, 12, 12, 16)    48        \n",
      " hNormalization)                                                 \n",
      "                                                                 \n",
      " activation_2 (Activation)   (None, 4, 12, 12, 16)     0         \n",
      "                                                                 \n",
      " conv3d_3 (Conv3D)           (None, 2, 10, 10, 8)      3464      \n",
      "                                                                 \n",
      " batch_normalization_3 (Batc  (None, 2, 10, 10, 8)     40        \n",
      " hNormalization)                                                 \n",
      "                                                                 \n",
      " activation_3 (Activation)   (None, 2, 10, 10, 8)      0         \n",
      "                                                                 \n",
      " flatten (Flatten)           (None, 1600)              0         \n",
      "                                                                 \n",
      " dense (Dense)               (None, 20)                32020     \n",
      "                                                                 \n",
      " dropout (Dropout)           (None, 20)                0         \n",
      "                                                                 \n",
      " dense_1 (Dense)             (None, 10)                210       \n",
      "                                                                 \n",
      "=================================================================\n",
      "Total params: 87,702\n",
      "Trainable params: 87,570\n",
      "Non-trainable params: 132\n",
      "_________________________________________________________________\n"
     ]
    }
   ],
   "source": [
    "model = models.Sequential()\n",
    "model = add_3d_cnn_part(model, FRAME_COUNT, FRAME_SIZE)\n",
    "# model.add(layers.TimeDistributed(layers.Flatten()))\n",
    "model.add(layers.Flatten())\n",
    "# model.add(layers.GlobalMaxPool1D())\n",
    "model = add_dense_part(model, CLASS_COUNT)\n",
    "\n",
    "model.summary()"
   ]
  },
  {
   "cell_type": "code",
   "execution_count": 5,
   "id": "963ff906",
   "metadata": {},
   "outputs": [],
   "source": [
    "model.compile(optimizer='adam',\n",
    "              loss=tf.keras.losses.SparseCategoricalCrossentropy(from_logits=False),\n",
    "              metrics=['accuracy'],\n",
    "              )\n"
   ]
  },
  {
   "cell_type": "code",
   "execution_count": 6,
   "id": "20cf9db7",
   "metadata": {},
   "outputs": [
    {
     "name": "stdout",
     "output_type": "stream",
     "text": [
      "Epoch 1/50\n",
      "11/11 [==============================] - 6s 181ms/step - loss: 2.3588 - accuracy: 0.0829 - val_loss: 2.3022 - val_accuracy: 0.2000\n",
      "Epoch 2/50\n",
      "11/11 [==============================] - 1s 114ms/step - loss: 2.3015 - accuracy: 0.0857 - val_loss: 2.2999 - val_accuracy: 0.1111\n",
      "Epoch 3/50\n",
      "11/11 [==============================] - 1s 113ms/step - loss: 2.3040 - accuracy: 0.0829 - val_loss: 2.3020 - val_accuracy: 0.0444\n",
      "Epoch 4/50\n",
      "11/11 [==============================] - 1s 114ms/step - loss: 2.3003 - accuracy: 0.1086 - val_loss: 2.2970 - val_accuracy: 0.0444\n",
      "Epoch 5/50\n",
      "11/11 [==============================] - 1s 114ms/step - loss: 2.2943 - accuracy: 0.1086 - val_loss: 2.2955 - val_accuracy: 0.0444\n",
      "Epoch 6/50\n",
      "11/11 [==============================] - 1s 113ms/step - loss: 2.2905 - accuracy: 0.1286 - val_loss: 2.2969 - val_accuracy: 0.0444\n",
      "Epoch 7/50\n",
      "11/11 [==============================] - 1s 113ms/step - loss: 2.2670 - accuracy: 0.1486 - val_loss: 2.3025 - val_accuracy: 0.0444\n",
      "Epoch 8/50\n",
      "11/11 [==============================] - 1s 114ms/step - loss: 2.2519 - accuracy: 0.1171 - val_loss: 2.2933 - val_accuracy: 0.1556\n",
      "Epoch 9/50\n",
      "11/11 [==============================] - 1s 114ms/step - loss: 2.2448 - accuracy: 0.1600 - val_loss: 2.2844 - val_accuracy: 0.0889\n",
      "Epoch 10/50\n",
      "11/11 [==============================] - 1s 113ms/step - loss: 2.2384 - accuracy: 0.1743 - val_loss: 2.2800 - val_accuracy: 0.0667\n",
      "Epoch 11/50\n",
      "11/11 [==============================] - 1s 113ms/step - loss: 2.2354 - accuracy: 0.1857 - val_loss: 2.2803 - val_accuracy: 0.0889\n",
      "Epoch 12/50\n",
      "11/11 [==============================] - 1s 113ms/step - loss: 2.2223 - accuracy: 0.1829 - val_loss: 2.2783 - val_accuracy: 0.0667\n",
      "Epoch 13/50\n",
      "11/11 [==============================] - 1s 113ms/step - loss: 2.2010 - accuracy: 0.1771 - val_loss: 2.2562 - val_accuracy: 0.1111\n",
      "Epoch 14/50\n",
      "11/11 [==============================] - 1s 114ms/step - loss: 2.1856 - accuracy: 0.1857 - val_loss: 2.2610 - val_accuracy: 0.0667\n",
      "Epoch 15/50\n",
      "11/11 [==============================] - 1s 114ms/step - loss: 2.1632 - accuracy: 0.1829 - val_loss: 2.2622 - val_accuracy: 0.1111\n",
      "Epoch 16/50\n",
      "11/11 [==============================] - 1s 113ms/step - loss: 2.1697 - accuracy: 0.1771 - val_loss: 2.2227 - val_accuracy: 0.1556\n",
      "Epoch 17/50\n",
      "11/11 [==============================] - 1s 113ms/step - loss: 2.1545 - accuracy: 0.1829 - val_loss: 2.2141 - val_accuracy: 0.1333\n",
      "Epoch 18/50\n",
      "11/11 [==============================] - 1s 113ms/step - loss: 2.1718 - accuracy: 0.1629 - val_loss: 2.2268 - val_accuracy: 0.1778\n",
      "Epoch 19/50\n",
      "11/11 [==============================] - 1s 115ms/step - loss: 2.1282 - accuracy: 0.2029 - val_loss: 2.1900 - val_accuracy: 0.3111\n",
      "Epoch 20/50\n",
      "11/11 [==============================] - 1s 114ms/step - loss: 2.1578 - accuracy: 0.2000 - val_loss: 2.1988 - val_accuracy: 0.2000\n",
      "Epoch 21/50\n",
      "11/11 [==============================] - 1s 113ms/step - loss: 2.1166 - accuracy: 0.2086 - val_loss: 2.1921 - val_accuracy: 0.2222\n",
      "Epoch 22/50\n",
      "11/11 [==============================] - 1s 113ms/step - loss: 2.1012 - accuracy: 0.2029 - val_loss: 2.2014 - val_accuracy: 0.2000\n",
      "Epoch 23/50\n",
      "11/11 [==============================] - 1s 114ms/step - loss: 2.1073 - accuracy: 0.2114 - val_loss: 2.1582 - val_accuracy: 0.2667\n",
      "Epoch 24/50\n",
      "11/11 [==============================] - 1s 114ms/step - loss: 2.0907 - accuracy: 0.2086 - val_loss: 2.1913 - val_accuracy: 0.1556\n",
      "Epoch 25/50\n",
      "11/11 [==============================] - 1s 113ms/step - loss: 2.0612 - accuracy: 0.2257 - val_loss: 2.1608 - val_accuracy: 0.2000\n",
      "Epoch 26/50\n",
      "11/11 [==============================] - 1s 114ms/step - loss: 2.0089 - accuracy: 0.2457 - val_loss: 2.0945 - val_accuracy: 0.2222\n",
      "Epoch 27/50\n",
      "11/11 [==============================] - 1s 114ms/step - loss: 1.9839 - accuracy: 0.2400 - val_loss: 2.0702 - val_accuracy: 0.2000\n",
      "Epoch 28/50\n",
      "11/11 [==============================] - 1s 115ms/step - loss: 1.9596 - accuracy: 0.2657 - val_loss: 2.0101 - val_accuracy: 0.2000\n",
      "Epoch 29/50\n",
      "11/11 [==============================] - 1s 113ms/step - loss: 1.9363 - accuracy: 0.2400 - val_loss: 2.0226 - val_accuracy: 0.2444\n",
      "Epoch 30/50\n",
      "11/11 [==============================] - 1s 113ms/step - loss: 1.8890 - accuracy: 0.2629 - val_loss: 2.1577 - val_accuracy: 0.1778\n",
      "Epoch 31/50\n",
      "11/11 [==============================] - 1s 127ms/step - loss: 1.9029 - accuracy: 0.2486 - val_loss: 1.9515 - val_accuracy: 0.3778\n",
      "Epoch 32/50\n",
      "11/11 [==============================] - 1s 136ms/step - loss: 1.8734 - accuracy: 0.3086 - val_loss: 1.9656 - val_accuracy: 0.3111\n",
      "Epoch 33/50\n",
      "11/11 [==============================] - 1s 136ms/step - loss: 1.8655 - accuracy: 0.2686 - val_loss: 2.0814 - val_accuracy: 0.2000\n",
      "Epoch 34/50\n",
      "11/11 [==============================] - 2s 138ms/step - loss: 1.8921 - accuracy: 0.2800 - val_loss: 1.9084 - val_accuracy: 0.3778\n",
      "Epoch 35/50\n",
      "11/11 [==============================] - 1s 127ms/step - loss: 1.7749 - accuracy: 0.2857 - val_loss: 1.9230 - val_accuracy: 0.3333\n",
      "Epoch 36/50\n",
      "11/11 [==============================] - 1s 113ms/step - loss: 1.7497 - accuracy: 0.3257 - val_loss: 1.8680 - val_accuracy: 0.4000\n",
      "Epoch 37/50\n",
      "11/11 [==============================] - 1s 113ms/step - loss: 1.7277 - accuracy: 0.3086 - val_loss: 1.9987 - val_accuracy: 0.2000\n",
      "Epoch 38/50\n",
      "11/11 [==============================] - 1s 112ms/step - loss: 1.7456 - accuracy: 0.3371 - val_loss: 1.9908 - val_accuracy: 0.2222\n",
      "Epoch 39/50\n",
      "11/11 [==============================] - 1s 114ms/step - loss: 1.7711 - accuracy: 0.3200 - val_loss: 1.8730 - val_accuracy: 0.3556\n",
      "Epoch 40/50\n",
      "11/11 [==============================] - 1s 114ms/step - loss: 1.6429 - accuracy: 0.3886 - val_loss: 1.7301 - val_accuracy: 0.4667\n",
      "Epoch 41/50\n",
      "11/11 [==============================] - 1s 113ms/step - loss: 1.6523 - accuracy: 0.3571 - val_loss: 1.7785 - val_accuracy: 0.3778\n",
      "Epoch 42/50\n",
      "11/11 [==============================] - 1s 112ms/step - loss: 1.5852 - accuracy: 0.3829 - val_loss: 1.7435 - val_accuracy: 0.4222\n",
      "Epoch 43/50\n",
      "11/11 [==============================] - 1s 112ms/step - loss: 1.6210 - accuracy: 0.3629 - val_loss: 1.8917 - val_accuracy: 0.2444\n",
      "Epoch 44/50\n",
      "11/11 [==============================] - 1s 113ms/step - loss: 1.5534 - accuracy: 0.4086 - val_loss: 1.7234 - val_accuracy: 0.3778\n",
      "Epoch 45/50\n",
      "11/11 [==============================] - 1s 117ms/step - loss: 1.4706 - accuracy: 0.4000 - val_loss: 1.6906 - val_accuracy: 0.4222\n",
      "Epoch 46/50\n",
      "11/11 [==============================] - 1s 135ms/step - loss: 1.4919 - accuracy: 0.4257 - val_loss: 1.7124 - val_accuracy: 0.4444\n",
      "Epoch 47/50\n",
      "11/11 [==============================] - 1s 135ms/step - loss: 1.4936 - accuracy: 0.4657 - val_loss: 1.6532 - val_accuracy: 0.4889\n",
      "Epoch 48/50\n",
      "11/11 [==============================] - 1s 136ms/step - loss: 1.5325 - accuracy: 0.4429 - val_loss: 1.6131 - val_accuracy: 0.4667\n",
      "Epoch 49/50\n",
      "11/11 [==============================] - 2s 137ms/step - loss: 1.4022 - accuracy: 0.4714 - val_loss: 1.6570 - val_accuracy: 0.5111\n",
      "Epoch 50/50\n",
      "11/11 [==============================] - 1s 133ms/step - loss: 1.4638 - accuracy: 0.4486 - val_loss: 1.6191 - val_accuracy: 0.5333\n"
     ]
    }
   ],
   "source": [
    "history = model.fit(X_train, y_train, epochs = EPOCHS, validation_data = (X_val, y_val), callbacks=[early_stopping])"
   ]
  },
  {
   "cell_type": "markdown",
   "id": "57ec1982",
   "metadata": {},
   "source": [
    "### Train & validation Loss"
   ]
  },
  {
   "cell_type": "code",
   "execution_count": 7,
   "id": "b6c8d1db",
   "metadata": {},
   "outputs": [
    {
     "data": {
      "text/plain": [
       "<matplotlib.legend.Legend at 0x185144049a0>"
      ]
     },
     "execution_count": 7,
     "metadata": {},
     "output_type": "execute_result"
    },
    {
     "data": {
      "image/png": "[encoded data removed]",
      "text/plain": [
       "<Figure size 432x288 with 1 Axes>"
      ]
     },
     "metadata": {
      "needs_background": "light"
     },
     "output_type": "display_data"
    }
   ],
   "source": [
    "plt.plot(history.history['loss'], label='loss')\n",
    "plt.plot(history.history['val_loss'], label = 'val_loss')\n",
    "plt.xlabel('Epoch')\n",
    "plt.ylabel('Loss')\n",
    "plt.ylim([0.0, 3])\n",
    "plt.legend(loc='lower right')"
   ]
  },
  {
   "cell_type": "markdown",
   "id": "7af69023",
   "metadata": {},
   "source": [
    "### Train & validation Accuracy"
   ]
  },
  {
   "cell_type": "code",
   "execution_count": 8,
   "id": "0bb8dfca",
   "metadata": {},
   "outputs": [
    {
     "data": {
      "text/plain": [
       "<matplotlib.legend.Legend at 0x1855a1332e0>"
      ]
     },
     "execution_count": 8,
     "metadata": {},
     "output_type": "execute_result"
    },
    {
     "data": {
      "image/png": "[encoded data removed]",
      "text/plain": [
       "<Figure size 432x288 with 1 Axes>"
      ]
     },
     "metadata": {
      "needs_background": "light"
     },
     "output_type": "display_data"
    }
   ],
   "source": [
    "plt.plot(history.history['accuracy'], label='accuracy')\n",
    "plt.plot(history.history['val_accuracy'], label = 'val_accuracy')\n",
    "plt.xlabel('Epoch')\n",
    "plt.ylabel('Accuracy')\n",
    "plt.ylim([0.0, 1])\n",
    "plt.legend(loc='lower right')"
   ]
  },
  {
   "cell_type": "markdown",
   "id": "9b30546c",
   "metadata": {},
   "source": [
    "## Test"
   ]
  },
  {
   "cell_type": "code",
   "execution_count": 9,
   "id": "cf4c662a",
   "metadata": {},
   "outputs": [
    {
     "name": "stdout",
     "output_type": "stream",
     "text": [
      "4/4 [==============================] - 0s 19ms/step\n"
     ]
    }
   ],
   "source": [
    "predict = np.argmax(model.predict(X_test), axis=1)"
   ]
  },
  {
   "cell_type": "code",
   "execution_count": 10,
   "id": "6ec7a04a",
   "metadata": {},
   "outputs": [
    {
     "name": "stdout",
     "output_type": "stream",
     "text": [
      "              precision    recall  f1-score   support\n",
      "\n",
      "           0       0.67      0.53      0.59        15\n",
      "           1       1.00      0.06      0.12        16\n",
      "           2       0.20      0.60      0.30         5\n",
      "           3       0.44      0.78      0.56         9\n",
      "           4       0.33      0.60      0.43        10\n",
      "           5       0.38      0.38      0.38         8\n",
      "           6       0.71      0.36      0.48        14\n",
      "           7       0.62      0.80      0.70        10\n",
      "           8       0.57      0.44      0.50         9\n",
      "           9       0.62      0.56      0.59         9\n",
      "\n",
      "    accuracy                           0.48       105\n",
      "   macro avg       0.55      0.51      0.46       105\n",
      "weighted avg       0.61      0.48      0.46       105\n",
      "\n"
     ]
    }
   ],
   "source": [
    "print(classification_report(y_test, predict))"
   ]
  },
  {
   "cell_type": "code",
   "execution_count": 11,
   "id": "9433cc53",
   "metadata": {},
   "outputs": [
    {
     "data": {
      "image/png": "[encoded data removed]",
      "text/plain": [
       "<Figure size 400x400 with 2 Axes>"
      ]
     },
     "metadata": {
      "needs_background": "light"
     },
     "output_type": "display_data"
    }
   ],
   "source": [
    "fig = plt.figure(figsize=(CLASS_COUNT // 2, CLASS_COUNT // 2), dpi=80)\n",
    "M = confusion_matrix(predict, y_test)\n",
    "plt.imshow(M, interpolation = 'nearest')\n",
    "plt.set_cmap('binary')\n",
    "plt.xticks(range(CLASS_COUNT))\n",
    "plt.yticks(range(CLASS_COUNT))\n",
    "plt.xlabel(\"true label\")\n",
    "plt.ylabel(\"predicted label\")\n",
    "plt.colorbar()\n",
    "pass"
   ]
  },
  {
   "cell_type": "code",
   "execution_count": null,
   "id": "5c484710",
   "metadata": {},
   "outputs": [],
   "source": []
  }
 ],
 "metadata": {
  "kernelspec": {
   "display_name": "Python 3 (ipykernel)",
   "language": "python",
   "name": "python3"
  },
  "language_info": {
   "codemirror_mode": {
    "name": "ipython",
    "version": 3
   },
   "file_extension": ".py",
   "mimetype": "text/x-python",
   "name": "python",
   "nbconvert_exporter": "python",
   "pygments_lexer": "ipython3",
   "version": "3.9.6"
  }
 },
 "nbformat": 4,
 "nbformat_minor": 5
}
