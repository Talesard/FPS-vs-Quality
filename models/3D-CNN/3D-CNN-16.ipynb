{
 "cells": [
  {
   "cell_type": "code",
   "execution_count": 1,
   "id": "867cbce7",
   "metadata": {},
   "outputs": [],
   "source": [
    "import os\n",
    "\n",
    "import cv2\n",
    "from matplotlib import pyplot as plt\n",
    "from tqdm.notebook import trange, tqdm\n",
    "import numpy as np\n",
    "import tensorflow as tf\n",
    "import random\n",
    "from sklearn import preprocessing\n",
    "from sklearn.model_selection import train_test_split\n",
    "from tensorflow.keras import layers, models, utils\n",
    "from sklearn.metrics import classification_report, confusion_matrix\n",
    "\n",
    "from data_utils import read_and_preprocess_data\n",
    "from model_utils import *"
   ]
  },
  {
   "cell_type": "markdown",
   "id": "d6e5fe95",
   "metadata": {},
   "source": [
    "## Settings"
   ]
  },
  {
   "cell_type": "code",
   "execution_count": 2,
   "id": "c83c0d21",
   "metadata": {},
   "outputs": [],
   "source": [
    "FRAME_SIZE = 64\n",
    "DATA_PATH = './2sec/data_16_fps'\n",
    "EPOCHS = 50"
   ]
  },
  {
   "cell_type": "markdown",
   "id": "68882663",
   "metadata": {},
   "source": [
    "## Data"
   ]
  },
  {
   "cell_type": "code",
   "execution_count": 3,
   "id": "41431d91",
   "metadata": {},
   "outputs": [
    {
     "name": "stdout",
     "output_type": "stream",
     "text": [
      "reading...\n",
      "BalanceBeam\n",
      "CricketShot\n",
      "Fencing\n",
      "HorseRiding\n",
      "LongJump\n",
      "RockClimbingIndoor\n",
      "SalsaSpin\n",
      "SkyDiving\n",
      "TableTennisShot\n",
      "WallPushups\n",
      "class count = 10\n",
      "med frame count = 32.0\n",
      "padding...\n",
      "Labels encoding...\n",
      "(500,) (500, 32, 64, 64, 3)\n",
      "norm...\n",
      "Train-val-test split...\n",
      "Train: (350, 32, 64, 64, 3) (350,)\n",
      "Val: (45, 32, 64, 64, 3) (45,)\n",
      "Test: (105, 32, 64, 64, 3) (105,)\n"
     ]
    }
   ],
   "source": [
    "CLASS_COUNT, FRAME_COUNT, FRAME_SIZE, X_train, X_val, X_test, y_train, y_val, y_test = read_and_preprocess_data(DATA_PATH, FRAME_SIZE, pad32=True)"
   ]
  },
  {
   "cell_type": "markdown",
   "id": "f99a5cc9",
   "metadata": {},
   "source": [
    "## Model"
   ]
  },
  {
   "cell_type": "code",
   "execution_count": 4,
   "id": "b687e133",
   "metadata": {},
   "outputs": [
    {
     "name": "stdout",
     "output_type": "stream",
     "text": [
      "Model: \"sequential\"\n",
      "_________________________________________________________________\n",
      " Layer (type)                Output Shape              Param #   \n",
      "=================================================================\n",
      " conv3d (Conv3D)             (None, 14, 30, 30, 32)    12032     \n",
      "                                                                 \n",
      " batch_normalization (BatchN  (None, 14, 30, 30, 32)   120       \n",
      " ormalization)                                                   \n",
      "                                                                 \n",
      " activation (Activation)     (None, 14, 30, 30, 32)    0         \n",
      "                                                                 \n",
      " conv3d_1 (Conv3D)           (None, 6, 14, 14, 16)     32784     \n",
      "                                                                 \n",
      " batch_normalization_1 (Batc  (None, 6, 14, 14, 16)    56        \n",
      " hNormalization)                                                 \n",
      "                                                                 \n",
      " activation_1 (Activation)   (None, 6, 14, 14, 16)     0         \n",
      "                                                                 \n",
      " conv3d_2 (Conv3D)           (None, 4, 12, 12, 16)     6928      \n",
      "                                                                 \n",
      " batch_normalization_2 (Batc  (None, 4, 12, 12, 16)    48        \n",
      " hNormalization)                                                 \n",
      "                                                                 \n",
      " activation_2 (Activation)   (None, 4, 12, 12, 16)     0         \n",
      "                                                                 \n",
      " conv3d_3 (Conv3D)           (None, 2, 10, 10, 8)      3464      \n",
      "                                                                 \n",
      " batch_normalization_3 (Batc  (None, 2, 10, 10, 8)     40        \n",
      " hNormalization)                                                 \n",
      "                                                                 \n",
      " activation_3 (Activation)   (None, 2, 10, 10, 8)      0         \n",
      "                                                                 \n",
      " flatten (Flatten)           (None, 1600)              0         \n",
      "                                                                 \n",
      " dense (Dense)               (None, 20)                32020     \n",
      "                                                                 \n",
      " dropout (Dropout)           (None, 20)                0         \n",
      "                                                                 \n",
      " dense_1 (Dense)             (None, 10)                210       \n",
      "                                                                 \n",
      "=================================================================\n",
      "Total params: 87,702\n",
      "Trainable params: 87,570\n",
      "Non-trainable params: 132\n",
      "_________________________________________________________________\n"
     ]
    }
   ],
   "source": [
    "model = models.Sequential()\n",
    "model = add_3d_cnn_part(model, FRAME_COUNT, FRAME_SIZE)\n",
    "# model.add(layers.TimeDistributed(layers.Flatten()))\n",
    "model.add(layers.Flatten())\n",
    "# model.add(layers.GlobalMaxPool1D())\n",
    "model = add_dense_part(model, CLASS_COUNT)\n",
    "\n",
    "model.summary()"
   ]
  },
  {
   "cell_type": "code",
   "execution_count": 5,
   "id": "963ff906",
   "metadata": {},
   "outputs": [],
   "source": [
    "model.compile(optimizer='adam',\n",
    "              loss=tf.keras.losses.SparseCategoricalCrossentropy(from_logits=False),\n",
    "              metrics=['accuracy'],\n",
    "              )\n"
   ]
  },
  {
   "cell_type": "code",
   "execution_count": 6,
   "id": "20cf9db7",
   "metadata": {},
   "outputs": [
    {
     "name": "stdout",
     "output_type": "stream",
     "text": [
      "Epoch 1/50\n",
      "11/11 [==============================] - 6s 199ms/step - loss: 2.3913 - accuracy: 0.0971 - val_loss: 2.2610 - val_accuracy: 0.2000\n",
      "Epoch 2/50\n",
      "11/11 [==============================] - 1s 126ms/step - loss: 2.2878 - accuracy: 0.1286 - val_loss: 2.1564 - val_accuracy: 0.2222\n",
      "Epoch 3/50\n",
      "11/11 [==============================] - 1s 129ms/step - loss: 2.2690 - accuracy: 0.1143 - val_loss: 2.1107 - val_accuracy: 0.2000\n",
      "Epoch 4/50\n",
      "11/11 [==============================] - 1s 125ms/step - loss: 2.2101 - accuracy: 0.1543 - val_loss: 2.0036 - val_accuracy: 0.2667\n",
      "Epoch 5/50\n",
      "11/11 [==============================] - 1s 127ms/step - loss: 2.1863 - accuracy: 0.1571 - val_loss: 2.1473 - val_accuracy: 0.2444\n",
      "Epoch 6/50\n",
      "11/11 [==============================] - 1s 119ms/step - loss: 2.1819 - accuracy: 0.1743 - val_loss: 1.9832 - val_accuracy: 0.3111\n",
      "Epoch 7/50\n",
      "11/11 [==============================] - 1s 121ms/step - loss: 2.1327 - accuracy: 0.1886 - val_loss: 2.0256 - val_accuracy: 0.2889\n",
      "Epoch 8/50\n",
      "11/11 [==============================] - 1s 120ms/step - loss: 2.1133 - accuracy: 0.2000 - val_loss: 1.9254 - val_accuracy: 0.3333\n",
      "Epoch 9/50\n",
      "11/11 [==============================] - 1s 121ms/step - loss: 2.1281 - accuracy: 0.2000 - val_loss: 1.9738 - val_accuracy: 0.3111\n",
      "Epoch 10/50\n",
      "11/11 [==============================] - 1s 119ms/step - loss: 2.0621 - accuracy: 0.2171 - val_loss: 1.8611 - val_accuracy: 0.3333\n",
      "Epoch 11/50\n",
      "11/11 [==============================] - 1s 121ms/step - loss: 2.0121 - accuracy: 0.2686 - val_loss: 1.7757 - val_accuracy: 0.3333\n",
      "Epoch 12/50\n",
      "11/11 [==============================] - 1s 116ms/step - loss: 2.0281 - accuracy: 0.2429 - val_loss: 1.8675 - val_accuracy: 0.3333\n",
      "Epoch 13/50\n",
      "11/11 [==============================] - 1s 117ms/step - loss: 1.9732 - accuracy: 0.2686 - val_loss: 1.8563 - val_accuracy: 0.3778\n",
      "Epoch 14/50\n",
      "11/11 [==============================] - 1s 118ms/step - loss: 1.9285 - accuracy: 0.2771 - val_loss: 1.8772 - val_accuracy: 0.3333\n",
      "Epoch 15/50\n",
      "11/11 [==============================] - 1s 118ms/step - loss: 1.8767 - accuracy: 0.2771 - val_loss: 1.7554 - val_accuracy: 0.3778\n",
      "Epoch 16/50\n",
      "11/11 [==============================] - 1s 117ms/step - loss: 1.8910 - accuracy: 0.2943 - val_loss: 1.8077 - val_accuracy: 0.4222\n",
      "Epoch 17/50\n",
      "11/11 [==============================] - 1s 118ms/step - loss: 1.8971 - accuracy: 0.2943 - val_loss: 1.7558 - val_accuracy: 0.4889\n",
      "Epoch 18/50\n",
      "11/11 [==============================] - 1s 124ms/step - loss: 1.7933 - accuracy: 0.3114 - val_loss: 1.6109 - val_accuracy: 0.4667\n",
      "Epoch 19/50\n",
      "11/11 [==============================] - 1s 118ms/step - loss: 1.7410 - accuracy: 0.3286 - val_loss: 1.6455 - val_accuracy: 0.4444\n",
      "Epoch 20/50\n",
      "11/11 [==============================] - 1s 116ms/step - loss: 1.6503 - accuracy: 0.3771 - val_loss: 1.6032 - val_accuracy: 0.4889\n",
      "Epoch 21/50\n",
      "11/11 [==============================] - 1s 114ms/step - loss: 1.7088 - accuracy: 0.3543 - val_loss: 1.6189 - val_accuracy: 0.4667\n",
      "Epoch 22/50\n",
      "11/11 [==============================] - 1s 115ms/step - loss: 1.6148 - accuracy: 0.3714 - val_loss: 1.5544 - val_accuracy: 0.4889\n",
      "Epoch 23/50\n",
      "11/11 [==============================] - 1s 114ms/step - loss: 1.5033 - accuracy: 0.4114 - val_loss: 1.5754 - val_accuracy: 0.3778\n",
      "Epoch 24/50\n",
      "11/11 [==============================] - 1s 115ms/step - loss: 1.5087 - accuracy: 0.4143 - val_loss: 1.5491 - val_accuracy: 0.4222\n",
      "Epoch 25/50\n",
      "11/11 [==============================] - 1s 114ms/step - loss: 1.4285 - accuracy: 0.4457 - val_loss: 1.5846 - val_accuracy: 0.4444\n",
      "Epoch 26/50\n",
      "11/11 [==============================] - 1s 114ms/step - loss: 1.3717 - accuracy: 0.4886 - val_loss: 1.5774 - val_accuracy: 0.4444\n",
      "Epoch 27/50\n",
      "11/11 [==============================] - 1s 121ms/step - loss: 1.3391 - accuracy: 0.5029 - val_loss: 1.5151 - val_accuracy: 0.4222\n",
      "Epoch 28/50\n",
      "11/11 [==============================] - 1s 116ms/step - loss: 1.3780 - accuracy: 0.4886 - val_loss: 1.5939 - val_accuracy: 0.4667\n",
      "Epoch 29/50\n",
      "11/11 [==============================] - 1s 114ms/step - loss: 1.2525 - accuracy: 0.5057 - val_loss: 1.5921 - val_accuracy: 0.4444\n",
      "Epoch 30/50\n",
      "11/11 [==============================] - 1s 114ms/step - loss: 1.2700 - accuracy: 0.5200 - val_loss: 1.7278 - val_accuracy: 0.4000\n",
      "Epoch 31/50\n",
      "11/11 [==============================] - 1s 114ms/step - loss: 1.3377 - accuracy: 0.4886 - val_loss: 1.6460 - val_accuracy: 0.4667\n",
      "Epoch 32/50\n",
      "11/11 [==============================] - 1s 116ms/step - loss: 1.1960 - accuracy: 0.5629 - val_loss: 1.6345 - val_accuracy: 0.3778\n"
     ]
    }
   ],
   "source": [
    "history = model.fit(X_train, y_train, epochs = EPOCHS, validation_data = (X_val, y_val), callbacks=[early_stopping])"
   ]
  },
  {
   "cell_type": "markdown",
   "id": "57ec1982",
   "metadata": {},
   "source": [
    "### Train & validation Loss"
   ]
  },
  {
   "cell_type": "code",
   "execution_count": 7,
   "id": "b6c8d1db",
   "metadata": {},
   "outputs": [
    {
     "data": {
      "text/plain": [
       "<matplotlib.legend.Legend at 0x19fe13da580>"
      ]
     },
     "execution_count": 7,
     "metadata": {},
     "output_type": "execute_result"
    },
    {
     "data": {
      "image/png": "[encoded data removed]",
      "text/plain": [
       "<Figure size 432x288 with 1 Axes>"
      ]
     },
     "metadata": {
      "needs_background": "light"
     },
     "output_type": "display_data"
    }
   ],
   "source": [
    "plt.plot(history.history['loss'], label='loss')\n",
    "plt.plot(history.history['val_loss'], label = 'val_loss')\n",
    "plt.xlabel('Epoch')\n",
    "plt.ylabel('Loss')\n",
    "plt.ylim([0.0, 3])\n",
    "plt.legend(loc='lower right')"
   ]
  },
  {
   "cell_type": "markdown",
   "id": "7af69023",
   "metadata": {},
   "source": [
    "### Train & validation Accuracy"
   ]
  },
  {
   "cell_type": "code",
   "execution_count": 8,
   "id": "0bb8dfca",
   "metadata": {},
   "outputs": [
    {
     "data": {
      "text/plain": [
       "<matplotlib.legend.Legend at 0x19fe5b9ed60>"
      ]
     },
     "execution_count": 8,
     "metadata": {},
     "output_type": "execute_result"
    },
    {
     "data": {
      "image/png": "[encoded data removed]",
      "text/plain": [
       "<Figure size 432x288 with 1 Axes>"
      ]
     },
     "metadata": {
      "needs_background": "light"
     },
     "output_type": "display_data"
    }
   ],
   "source": [
    "plt.plot(history.history['accuracy'], label='accuracy')\n",
    "plt.plot(history.history['val_accuracy'], label = 'val_accuracy')\n",
    "plt.xlabel('Epoch')\n",
    "plt.ylabel('Accuracy')\n",
    "plt.ylim([0.0, 1])\n",
    "plt.legend(loc='lower right')"
   ]
  },
  {
   "cell_type": "markdown",
   "id": "9b30546c",
   "metadata": {},
   "source": [
    "## Test"
   ]
  },
  {
   "cell_type": "code",
   "execution_count": 9,
   "id": "cf4c662a",
   "metadata": {},
   "outputs": [
    {
     "name": "stdout",
     "output_type": "stream",
     "text": [
      "4/4 [==============================] - 0s 18ms/step\n"
     ]
    }
   ],
   "source": [
    "predict = np.argmax(model.predict(X_test), axis=1)"
   ]
  },
  {
   "cell_type": "code",
   "execution_count": 10,
   "id": "6ec7a04a",
   "metadata": {},
   "outputs": [
    {
     "name": "stdout",
     "output_type": "stream",
     "text": [
      "              precision    recall  f1-score   support\n",
      "\n",
      "           0       0.82      0.60      0.69        15\n",
      "           1       0.86      0.38      0.52        16\n",
      "           2       0.38      0.60      0.46         5\n",
      "           3       0.39      0.78      0.52         9\n",
      "           4       0.32      0.60      0.41        10\n",
      "           5       0.00      0.00      0.00         8\n",
      "           6       0.60      0.43      0.50        14\n",
      "           7       0.57      0.40      0.47        10\n",
      "           8       0.57      0.44      0.50         9\n",
      "           9       0.44      0.78      0.56         9\n",
      "\n",
      "    accuracy                           0.50       105\n",
      "   macro avg       0.49      0.50      0.46       105\n",
      "weighted avg       0.55      0.50      0.49       105\n",
      "\n"
     ]
    }
   ],
   "source": [
    "print(classification_report(y_test, predict))"
   ]
  },
  {
   "cell_type": "code",
   "execution_count": 11,
   "id": "9433cc53",
   "metadata": {},
   "outputs": [
    {
     "data": {
      "image/png": "[encoded data removed]",
      "text/plain": [
       "<Figure size 400x400 with 2 Axes>"
      ]
     },
     "metadata": {
      "needs_background": "light"
     },
     "output_type": "display_data"
    }
   ],
   "source": [
    "fig = plt.figure(figsize=(CLASS_COUNT // 2, CLASS_COUNT // 2), dpi=80)\n",
    "M = confusion_matrix(predict, y_test)\n",
    "plt.imshow(M, interpolation = 'nearest')\n",
    "plt.set_cmap('binary')\n",
    "plt.xticks(range(CLASS_COUNT))\n",
    "plt.yticks(range(CLASS_COUNT))\n",
    "plt.xlabel(\"true label\")\n",
    "plt.ylabel(\"predicted label\")\n",
    "plt.colorbar()\n",
    "pass"
   ]
  },
  {
   "cell_type": "code",
   "execution_count": null,
   "id": "5c484710",
   "metadata": {},
   "outputs": [],
   "source": []
  },
  {
   "cell_type": "code",
   "execution_count": null,
   "id": "f35a57e4",
   "metadata": {},
   "outputs": [],
   "source": []
  }
 ],
 "metadata": {
  "kernelspec": {
   "display_name": "Python 3 (ipykernel)",
   "language": "python",
   "name": "python3"
  },
  "language_info": {
   "codemirror_mode": {
    "name": "ipython",
    "version": 3
   },
   "file_extension": ".py",
   "mimetype": "text/x-python",
   "name": "python",
   "nbconvert_exporter": "python",
   "pygments_lexer": "ipython3",
   "version": "3.9.6"
  }
 },
 "nbformat": 4,
 "nbformat_minor": 5
}
