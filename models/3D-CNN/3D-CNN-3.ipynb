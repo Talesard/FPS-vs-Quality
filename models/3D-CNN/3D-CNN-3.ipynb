{
 "cells": [
  {
   "cell_type": "code",
   "execution_count": 1,
   "id": "867cbce7",
   "metadata": {},
   "outputs": [],
   "source": [
    "import os\n",
    "\n",
    "import cv2\n",
    "from matplotlib import pyplot as plt\n",
    "from tqdm.notebook import trange, tqdm\n",
    "import numpy as np\n",
    "import tensorflow as tf\n",
    "import random\n",
    "from sklearn import preprocessing\n",
    "from sklearn.model_selection import train_test_split\n",
    "from tensorflow.keras import layers, models, utils\n",
    "from sklearn.metrics import classification_report, confusion_matrix\n",
    "\n",
    "from data_utils import read_and_preprocess_data\n",
    "from model_utils import *"
   ]
  },
  {
   "cell_type": "markdown",
   "id": "d6e5fe95",
   "metadata": {},
   "source": [
    "## Settings"
   ]
  },
  {
   "cell_type": "code",
   "execution_count": 2,
   "id": "c83c0d21",
   "metadata": {},
   "outputs": [],
   "source": [
    "FRAME_SIZE = 64\n",
    "DATA_PATH = './2sec/data_3_fps'\n",
    "EPOCHS = 50"
   ]
  },
  {
   "cell_type": "markdown",
   "id": "68882663",
   "metadata": {},
   "source": [
    "## Data"
   ]
  },
  {
   "cell_type": "code",
   "execution_count": 3,
   "id": "41431d91",
   "metadata": {},
   "outputs": [
    {
     "name": "stdout",
     "output_type": "stream",
     "text": [
      "reading...\n",
      "BalanceBeam\n",
      "CricketShot\n",
      "Fencing\n",
      "HorseRiding\n",
      "LongJump\n",
      "RockClimbingIndoor\n",
      "SalsaSpin\n",
      "SkyDiving\n",
      "TableTennisShot\n",
      "WallPushups\n",
      "class count = 10\n",
      "med frame count = 6.0\n",
      "padding...\n",
      "Labels encoding...\n",
      "(500,) (500, 32, 64, 64, 3)\n",
      "norm...\n",
      "Train-val-test split...\n",
      "Train: (350, 32, 64, 64, 3) (350,)\n",
      "Val: (45, 32, 64, 64, 3) (45,)\n",
      "Test: (105, 32, 64, 64, 3) (105,)\n"
     ]
    }
   ],
   "source": [
    "CLASS_COUNT, FRAME_COUNT, FRAME_SIZE, X_train, X_val, X_test, y_train, y_val, y_test = read_and_preprocess_data(DATA_PATH, FRAME_SIZE, pad32=True)"
   ]
  },
  {
   "cell_type": "markdown",
   "id": "f99a5cc9",
   "metadata": {},
   "source": [
    "## Model"
   ]
  },
  {
   "cell_type": "code",
   "execution_count": 12,
   "id": "b687e133",
   "metadata": {},
   "outputs": [
    {
     "name": "stdout",
     "output_type": "stream",
     "text": [
      "Model: \"sequential_1\"\n",
      "_________________________________________________________________\n",
      " Layer (type)                Output Shape              Param #   \n",
      "=================================================================\n",
      " conv3d_4 (Conv3D)           (None, 14, 30, 30, 32)    12032     \n",
      "                                                                 \n",
      " batch_normalization_4 (Batc  (None, 14, 30, 30, 32)   120       \n",
      " hNormalization)                                                 \n",
      "                                                                 \n",
      " activation_4 (Activation)   (None, 14, 30, 30, 32)    0         \n",
      "                                                                 \n",
      " conv3d_5 (Conv3D)           (None, 6, 14, 14, 16)     32784     \n",
      "                                                                 \n",
      " batch_normalization_5 (Batc  (None, 6, 14, 14, 16)    56        \n",
      " hNormalization)                                                 \n",
      "                                                                 \n",
      " activation_5 (Activation)   (None, 6, 14, 14, 16)     0         \n",
      "                                                                 \n",
      " conv3d_6 (Conv3D)           (None, 4, 12, 12, 16)     6928      \n",
      "                                                                 \n",
      " batch_normalization_6 (Batc  (None, 4, 12, 12, 16)    48        \n",
      " hNormalization)                                                 \n",
      "                                                                 \n",
      " activation_6 (Activation)   (None, 4, 12, 12, 16)     0         \n",
      "                                                                 \n",
      " conv3d_7 (Conv3D)           (None, 2, 10, 10, 8)      3464      \n",
      "                                                                 \n",
      " batch_normalization_7 (Batc  (None, 2, 10, 10, 8)     40        \n",
      " hNormalization)                                                 \n",
      "                                                                 \n",
      " activation_7 (Activation)   (None, 2, 10, 10, 8)      0         \n",
      "                                                                 \n",
      " flatten_1 (Flatten)         (None, 1600)              0         \n",
      "                                                                 \n",
      " dense_2 (Dense)             (None, 20)                32020     \n",
      "                                                                 \n",
      " dropout_1 (Dropout)         (None, 20)                0         \n",
      "                                                                 \n",
      " dense_3 (Dense)             (None, 10)                210       \n",
      "                                                                 \n",
      "=================================================================\n",
      "Total params: 87,702\n",
      "Trainable params: 87,570\n",
      "Non-trainable params: 132\n",
      "_________________________________________________________________\n"
     ]
    }
   ],
   "source": [
    "model = models.Sequential()\n",
    "model = add_3d_cnn_part(model, FRAME_COUNT, FRAME_SIZE)\n",
    "# model.add(layers.TimeDistributed(layers.Flatten()))\n",
    "model.add(layers.Flatten())\n",
    "# model.add(layers.GlobalMaxPool1D())\n",
    "model = add_dense_part(model, CLASS_COUNT)\n",
    "\n",
    "model.summary()"
   ]
  },
  {
   "cell_type": "code",
   "execution_count": 13,
   "id": "963ff906",
   "metadata": {},
   "outputs": [],
   "source": [
    "model.compile(optimizer='adam',\n",
    "              loss=tf.keras.losses.SparseCategoricalCrossentropy(from_logits=False),\n",
    "              metrics=['accuracy'],\n",
    "              )\n"
   ]
  },
  {
   "cell_type": "code",
   "execution_count": 14,
   "id": "20cf9db7",
   "metadata": {},
   "outputs": [
    {
     "name": "stdout",
     "output_type": "stream",
     "text": [
      "Epoch 1/50\n",
      "11/11 [==============================] - 3s 162ms/step - loss: 2.4629 - accuracy: 0.1171 - val_loss: 2.2966 - val_accuracy: 0.2000\n",
      "Epoch 2/50\n",
      "11/11 [==============================] - 1s 135ms/step - loss: 2.2609 - accuracy: 0.1429 - val_loss: 2.2888 - val_accuracy: 0.1778\n",
      "Epoch 3/50\n",
      "11/11 [==============================] - 1s 136ms/step - loss: 2.2156 - accuracy: 0.1686 - val_loss: 2.2799 - val_accuracy: 0.2000\n",
      "Epoch 4/50\n",
      "11/11 [==============================] - 2s 136ms/step - loss: 2.2019 - accuracy: 0.2114 - val_loss: 2.2541 - val_accuracy: 0.2444\n",
      "Epoch 5/50\n",
      "11/11 [==============================] - 1s 136ms/step - loss: 2.1404 - accuracy: 0.2000 - val_loss: 2.2338 - val_accuracy: 0.2444\n",
      "Epoch 6/50\n",
      "11/11 [==============================] - 2s 136ms/step - loss: 2.0845 - accuracy: 0.2371 - val_loss: 2.2199 - val_accuracy: 0.1556\n",
      "Epoch 7/50\n",
      "11/11 [==============================] - 1s 136ms/step - loss: 2.1414 - accuracy: 0.2257 - val_loss: 2.2236 - val_accuracy: 0.3333\n",
      "Epoch 8/50\n",
      "11/11 [==============================] - 1s 136ms/step - loss: 2.0605 - accuracy: 0.2600 - val_loss: 2.2004 - val_accuracy: 0.2667\n",
      "Epoch 9/50\n",
      "11/11 [==============================] - 1s 136ms/step - loss: 2.0403 - accuracy: 0.2771 - val_loss: 2.1804 - val_accuracy: 0.2889\n",
      "Epoch 10/50\n",
      "11/11 [==============================] - 2s 137ms/step - loss: 2.0448 - accuracy: 0.2543 - val_loss: 2.1359 - val_accuracy: 0.3333\n",
      "Epoch 11/50\n",
      "11/11 [==============================] - 2s 138ms/step - loss: 1.9403 - accuracy: 0.2800 - val_loss: 2.0988 - val_accuracy: 0.3556\n",
      "Epoch 12/50\n",
      "11/11 [==============================] - 2s 137ms/step - loss: 1.8590 - accuracy: 0.3429 - val_loss: 2.0696 - val_accuracy: 0.2889\n",
      "Epoch 13/50\n",
      "11/11 [==============================] - 2s 137ms/step - loss: 1.8175 - accuracy: 0.3629 - val_loss: 2.0453 - val_accuracy: 0.4000\n",
      "Epoch 14/50\n",
      "11/11 [==============================] - 1s 136ms/step - loss: 1.8255 - accuracy: 0.3314 - val_loss: 1.9989 - val_accuracy: 0.3778\n",
      "Epoch 15/50\n",
      "11/11 [==============================] - 1s 136ms/step - loss: 1.8152 - accuracy: 0.3429 - val_loss: 2.0303 - val_accuracy: 0.4000\n",
      "Epoch 16/50\n",
      "11/11 [==============================] - 1s 136ms/step - loss: 1.7482 - accuracy: 0.3571 - val_loss: 1.9921 - val_accuracy: 0.4000\n",
      "Epoch 17/50\n",
      "11/11 [==============================] - 1s 136ms/step - loss: 1.6596 - accuracy: 0.4143 - val_loss: 1.9641 - val_accuracy: 0.4444\n",
      "Epoch 18/50\n",
      "11/11 [==============================] - 1s 135ms/step - loss: 1.5856 - accuracy: 0.4486 - val_loss: 1.8459 - val_accuracy: 0.4222\n",
      "Epoch 19/50\n",
      "11/11 [==============================] - 1s 136ms/step - loss: 1.5373 - accuracy: 0.4457 - val_loss: 1.8301 - val_accuracy: 0.4222\n",
      "Epoch 20/50\n",
      "11/11 [==============================] - 1s 136ms/step - loss: 1.4419 - accuracy: 0.5029 - val_loss: 1.7815 - val_accuracy: 0.5111\n",
      "Epoch 21/50\n",
      "11/11 [==============================] - 1s 136ms/step - loss: 1.4225 - accuracy: 0.5229 - val_loss: 1.7471 - val_accuracy: 0.5111\n",
      "Epoch 22/50\n",
      "11/11 [==============================] - 1s 136ms/step - loss: 1.3936 - accuracy: 0.4629 - val_loss: 1.5085 - val_accuracy: 0.5556\n",
      "Epoch 23/50\n",
      "11/11 [==============================] - 2s 138ms/step - loss: 1.3480 - accuracy: 0.5171 - val_loss: 1.5492 - val_accuracy: 0.5556\n",
      "Epoch 24/50\n",
      "11/11 [==============================] - 1s 136ms/step - loss: 1.2009 - accuracy: 0.5771 - val_loss: 1.6127 - val_accuracy: 0.4889\n",
      "Epoch 25/50\n",
      "11/11 [==============================] - 1s 137ms/step - loss: 1.2232 - accuracy: 0.5829 - val_loss: 1.3979 - val_accuracy: 0.6222\n",
      "Epoch 26/50\n",
      "11/11 [==============================] - 1s 135ms/step - loss: 1.1907 - accuracy: 0.5771 - val_loss: 1.4549 - val_accuracy: 0.6444\n",
      "Epoch 27/50\n",
      "11/11 [==============================] - 2s 137ms/step - loss: 1.1177 - accuracy: 0.5829 - val_loss: 1.4870 - val_accuracy: 0.5778\n",
      "Epoch 28/50\n",
      "11/11 [==============================] - 1s 135ms/step - loss: 1.1091 - accuracy: 0.5914 - val_loss: 1.4497 - val_accuracy: 0.6889\n",
      "Epoch 29/50\n",
      "11/11 [==============================] - 2s 138ms/step - loss: 1.0516 - accuracy: 0.6200 - val_loss: 1.2438 - val_accuracy: 0.6889\n",
      "Epoch 30/50\n",
      "11/11 [==============================] - 2s 152ms/step - loss: 0.9515 - accuracy: 0.6571 - val_loss: 1.2605 - val_accuracy: 0.6000\n",
      "Epoch 31/50\n",
      "11/11 [==============================] - 2s 156ms/step - loss: 0.8415 - accuracy: 0.7000 - val_loss: 1.1657 - val_accuracy: 0.6444\n",
      "Epoch 32/50\n",
      "11/11 [==============================] - 2s 152ms/step - loss: 0.8983 - accuracy: 0.6800 - val_loss: 1.2796 - val_accuracy: 0.6889\n",
      "Epoch 33/50\n",
      "11/11 [==============================] - 2s 151ms/step - loss: 0.8196 - accuracy: 0.7114 - val_loss: 1.1737 - val_accuracy: 0.6889\n",
      "Epoch 34/50\n",
      "11/11 [==============================] - 2s 158ms/step - loss: 0.7011 - accuracy: 0.7514 - val_loss: 1.2169 - val_accuracy: 0.6444\n",
      "Epoch 35/50\n",
      "11/11 [==============================] - 2s 150ms/step - loss: 0.7343 - accuracy: 0.7343 - val_loss: 1.1802 - val_accuracy: 0.6889\n",
      "Epoch 36/50\n",
      "11/11 [==============================] - 2s 148ms/step - loss: 0.7320 - accuracy: 0.7286 - val_loss: 1.2795 - val_accuracy: 0.6444\n"
     ]
    }
   ],
   "source": [
    "history = model.fit(X_train, y_train, epochs = EPOCHS, validation_data = (X_val, y_val), callbacks=[early_stopping])"
   ]
  },
  {
   "cell_type": "markdown",
   "id": "57ec1982",
   "metadata": {},
   "source": [
    "### Train & validation Loss"
   ]
  },
  {
   "cell_type": "code",
   "execution_count": 15,
   "id": "b6c8d1db",
   "metadata": {},
   "outputs": [
    {
     "data": {
      "text/plain": [
       "<matplotlib.legend.Legend at 0x1619d868e20>"
      ]
     },
     "execution_count": 15,
     "metadata": {},
     "output_type": "execute_result"
    },
    {
     "data": {
      "image/png": "[encoded data removed]",
      "text/plain": [
       "<Figure size 432x288 with 1 Axes>"
      ]
     },
     "metadata": {
      "needs_background": "light"
     },
     "output_type": "display_data"
    }
   ],
   "source": [
    "plt.plot(history.history['loss'], label='loss')\n",
    "plt.plot(history.history['val_loss'], label = 'val_loss')\n",
    "plt.xlabel('Epoch')\n",
    "plt.ylabel('Loss')\n",
    "plt.ylim([0.0, 3])\n",
    "plt.legend(loc='lower right')"
   ]
  },
  {
   "cell_type": "markdown",
   "id": "7af69023",
   "metadata": {},
   "source": [
    "### Train & validation Accuracy"
   ]
  },
  {
   "cell_type": "code",
   "execution_count": 16,
   "id": "0bb8dfca",
   "metadata": {},
   "outputs": [
    {
     "data": {
      "text/plain": [
       "<matplotlib.legend.Legend at 0x1619a82ea60>"
      ]
     },
     "execution_count": 16,
     "metadata": {},
     "output_type": "execute_result"
    },
    {
     "data": {
      "image/png": "[encoded data removed]",
      "text/plain": [
       "<Figure size 432x288 with 1 Axes>"
      ]
     },
     "metadata": {
      "needs_background": "light"
     },
     "output_type": "display_data"
    }
   ],
   "source": [
    "plt.plot(history.history['accuracy'], label='accuracy')\n",
    "plt.plot(history.history['val_accuracy'], label = 'val_accuracy')\n",
    "plt.xlabel('Epoch')\n",
    "plt.ylabel('Accuracy')\n",
    "plt.ylim([0.0, 1])\n",
    "plt.legend(loc='lower right')"
   ]
  },
  {
   "cell_type": "markdown",
   "id": "9b30546c",
   "metadata": {},
   "source": [
    "## Test"
   ]
  },
  {
   "cell_type": "code",
   "execution_count": 17,
   "id": "cf4c662a",
   "metadata": {},
   "outputs": [
    {
     "name": "stdout",
     "output_type": "stream",
     "text": [
      "4/4 [==============================] - 0s 15ms/step\n"
     ]
    }
   ],
   "source": [
    "predict = np.argmax(model.predict(X_test), axis=1)"
   ]
  },
  {
   "cell_type": "code",
   "execution_count": 18,
   "id": "6ec7a04a",
   "metadata": {},
   "outputs": [
    {
     "name": "stdout",
     "output_type": "stream",
     "text": [
      "              precision    recall  f1-score   support\n",
      "\n",
      "           0       0.61      0.73      0.67        15\n",
      "           1       0.86      0.38      0.52        16\n",
      "           2       0.50      0.80      0.62         5\n",
      "           3       0.31      0.44      0.36         9\n",
      "           4       0.50      0.70      0.58        10\n",
      "           5       0.42      0.62      0.50         8\n",
      "           6       0.50      0.36      0.42        14\n",
      "           7       0.67      0.60      0.63        10\n",
      "           8       0.67      0.22      0.33         9\n",
      "           9       0.55      0.67      0.60         9\n",
      "\n",
      "    accuracy                           0.53       105\n",
      "   macro avg       0.56      0.55      0.52       105\n",
      "weighted avg       0.58      0.53      0.52       105\n",
      "\n"
     ]
    }
   ],
   "source": [
    "print(classification_report(y_test, predict))"
   ]
  },
  {
   "cell_type": "code",
   "execution_count": 19,
   "id": "9433cc53",
   "metadata": {},
   "outputs": [
    {
     "data": {
      "image/png": "[encoded data removed]",
      "text/plain": [
       "<Figure size 400x400 with 2 Axes>"
      ]
     },
     "metadata": {
      "needs_background": "light"
     },
     "output_type": "display_data"
    }
   ],
   "source": [
    "fig = plt.figure(figsize=(CLASS_COUNT // 2, CLASS_COUNT // 2), dpi=80)\n",
    "M = confusion_matrix(predict, y_test)\n",
    "plt.imshow(M, interpolation = 'nearest')\n",
    "plt.set_cmap('binary')\n",
    "plt.xticks(range(CLASS_COUNT))\n",
    "plt.yticks(range(CLASS_COUNT))\n",
    "plt.xlabel(\"true label\")\n",
    "plt.ylabel(\"predicted label\")\n",
    "plt.colorbar()\n",
    "pass"
   ]
  },
  {
   "cell_type": "code",
   "execution_count": null,
   "id": "5c484710",
   "metadata": {},
   "outputs": [],
   "source": []
  }
 ],
 "metadata": {
  "kernelspec": {
   "display_name": "Python 3 (ipykernel)",
   "language": "python",
   "name": "python3"
  },
  "language_info": {
   "codemirror_mode": {
    "name": "ipython",
    "version": 3
   },
   "file_extension": ".py",
   "mimetype": "text/x-python",
   "name": "python",
   "nbconvert_exporter": "python",
   "pygments_lexer": "ipython3",
   "version": "3.9.6"
  }
 },
 "nbformat": 4,
 "nbformat_minor": 5
}
