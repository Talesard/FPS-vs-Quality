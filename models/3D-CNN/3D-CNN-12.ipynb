{
 "cells": [
  {
   "cell_type": "code",
   "execution_count": 1,
   "id": "867cbce7",
   "metadata": {},
   "outputs": [],
   "source": [
    "import os\n",
    "\n",
    "import cv2\n",
    "from matplotlib import pyplot as plt\n",
    "from tqdm.notebook import trange, tqdm\n",
    "import numpy as np\n",
    "import tensorflow as tf\n",
    "import random\n",
    "from sklearn import preprocessing\n",
    "from sklearn.model_selection import train_test_split\n",
    "from tensorflow.keras import layers, models, utils\n",
    "from sklearn.metrics import classification_report, confusion_matrix\n",
    "\n",
    "from data_utils import read_and_preprocess_data\n",
    "from model_utils import *"
   ]
  },
  {
   "cell_type": "markdown",
   "id": "d6e5fe95",
   "metadata": {},
   "source": [
    "## Settings"
   ]
  },
  {
   "cell_type": "code",
   "execution_count": 2,
   "id": "c83c0d21",
   "metadata": {},
   "outputs": [],
   "source": [
    "FRAME_SIZE = 64\n",
    "DATA_PATH = './2sec/data_12_fps'\n",
    "EPOCHS = 50"
   ]
  },
  {
   "cell_type": "markdown",
   "id": "68882663",
   "metadata": {},
   "source": [
    "## Data"
   ]
  },
  {
   "cell_type": "code",
   "execution_count": 3,
   "id": "41431d91",
   "metadata": {},
   "outputs": [
    {
     "name": "stdout",
     "output_type": "stream",
     "text": [
      "reading...\n",
      "BalanceBeam\n",
      "CricketShot\n",
      "Fencing\n",
      "HorseRiding\n",
      "LongJump\n",
      "RockClimbingIndoor\n",
      "SalsaSpin\n",
      "SkyDiving\n",
      "TableTennisShot\n",
      "WallPushups\n",
      "class count = 10\n",
      "med frame count = 24.0\n",
      "padding...\n",
      "Labels encoding...\n",
      "(500,) (500, 32, 64, 64, 3)\n",
      "norm...\n",
      "Train-val-test split...\n",
      "Train: (350, 32, 64, 64, 3) (350,)\n",
      "Val: (45, 32, 64, 64, 3) (45,)\n",
      "Test: (105, 32, 64, 64, 3) (105,)\n"
     ]
    }
   ],
   "source": [
    "CLASS_COUNT, FRAME_COUNT, FRAME_SIZE, X_train, X_val, X_test, y_train, y_val, y_test = read_and_preprocess_data(DATA_PATH, FRAME_SIZE, pad32=True)"
   ]
  },
  {
   "cell_type": "markdown",
   "id": "f99a5cc9",
   "metadata": {},
   "source": [
    "## Model"
   ]
  },
  {
   "cell_type": "code",
   "execution_count": 4,
   "id": "b687e133",
   "metadata": {},
   "outputs": [
    {
     "name": "stdout",
     "output_type": "stream",
     "text": [
      "Model: \"sequential\"\n",
      "_________________________________________________________________\n",
      " Layer (type)                Output Shape              Param #   \n",
      "=================================================================\n",
      " conv3d (Conv3D)             (None, 14, 30, 30, 32)    12032     \n",
      "                                                                 \n",
      " batch_normalization (BatchN  (None, 14, 30, 30, 32)   120       \n",
      " ormalization)                                                   \n",
      "                                                                 \n",
      " activation (Activation)     (None, 14, 30, 30, 32)    0         \n",
      "                                                                 \n",
      " conv3d_1 (Conv3D)           (None, 6, 14, 14, 16)     32784     \n",
      "                                                                 \n",
      " batch_normalization_1 (Batc  (None, 6, 14, 14, 16)    56        \n",
      " hNormalization)                                                 \n",
      "                                                                 \n",
      " activation_1 (Activation)   (None, 6, 14, 14, 16)     0         \n",
      "                                                                 \n",
      " conv3d_2 (Conv3D)           (None, 4, 12, 12, 16)     6928      \n",
      "                                                                 \n",
      " batch_normalization_2 (Batc  (None, 4, 12, 12, 16)    48        \n",
      " hNormalization)                                                 \n",
      "                                                                 \n",
      " activation_2 (Activation)   (None, 4, 12, 12, 16)     0         \n",
      "                                                                 \n",
      " conv3d_3 (Conv3D)           (None, 2, 10, 10, 8)      3464      \n",
      "                                                                 \n",
      " batch_normalization_3 (Batc  (None, 2, 10, 10, 8)     40        \n",
      " hNormalization)                                                 \n",
      "                                                                 \n",
      " activation_3 (Activation)   (None, 2, 10, 10, 8)      0         \n",
      "                                                                 \n",
      " flatten (Flatten)           (None, 1600)              0         \n",
      "                                                                 \n",
      " dense (Dense)               (None, 20)                32020     \n",
      "                                                                 \n",
      " dropout (Dropout)           (None, 20)                0         \n",
      "                                                                 \n",
      " dense_1 (Dense)             (None, 10)                210       \n",
      "                                                                 \n",
      "=================================================================\n",
      "Total params: 87,702\n",
      "Trainable params: 87,570\n",
      "Non-trainable params: 132\n",
      "_________________________________________________________________\n"
     ]
    }
   ],
   "source": [
    "model = models.Sequential()\n",
    "model = add_3d_cnn_part(model, FRAME_COUNT, FRAME_SIZE)\n",
    "# model.add(layers.TimeDistributed(layers.Flatten()))\n",
    "model.add(layers.Flatten())\n",
    "# model.add(layers.GlobalMaxPool1D())\n",
    "model = add_dense_part(model, CLASS_COUNT)\n",
    "\n",
    "model.summary()"
   ]
  },
  {
   "cell_type": "code",
   "execution_count": 5,
   "id": "963ff906",
   "metadata": {},
   "outputs": [],
   "source": [
    "model.compile(optimizer='adam',\n",
    "              loss=tf.keras.losses.SparseCategoricalCrossentropy(from_logits=False),\n",
    "              metrics=['accuracy'],\n",
    "              )\n"
   ]
  },
  {
   "cell_type": "code",
   "execution_count": 6,
   "id": "20cf9db7",
   "metadata": {},
   "outputs": [
    {
     "name": "stdout",
     "output_type": "stream",
     "text": [
      "Epoch 1/50\n",
      "11/11 [==============================] - 11s 203ms/step - loss: 2.4584 - accuracy: 0.0971 - val_loss: 2.3106 - val_accuracy: 0.1333\n",
      "Epoch 2/50\n",
      "11/11 [==============================] - 1s 125ms/step - loss: 2.3009 - accuracy: 0.1200 - val_loss: 2.3328 - val_accuracy: 0.1111\n",
      "Epoch 3/50\n",
      "11/11 [==============================] - 1s 127ms/step - loss: 2.2935 - accuracy: 0.1400 - val_loss: 2.3893 - val_accuracy: 0.0889\n",
      "Epoch 4/50\n",
      "11/11 [==============================] - 1s 126ms/step - loss: 2.2993 - accuracy: 0.1257 - val_loss: 2.3029 - val_accuracy: 0.0889\n",
      "Epoch 5/50\n",
      "11/11 [==============================] - 1s 125ms/step - loss: 2.3023 - accuracy: 0.1057 - val_loss: 2.3033 - val_accuracy: 0.0889\n",
      "Epoch 6/50\n",
      "11/11 [==============================] - 1s 126ms/step - loss: 2.3020 - accuracy: 0.1000 - val_loss: 2.3036 - val_accuracy: 0.0889\n",
      "Epoch 7/50\n",
      "11/11 [==============================] - 1s 124ms/step - loss: 2.3003 - accuracy: 0.1057 - val_loss: 2.3039 - val_accuracy: 0.0889\n",
      "Epoch 8/50\n",
      "11/11 [==============================] - 1s 126ms/step - loss: 2.2980 - accuracy: 0.1086 - val_loss: 2.2991 - val_accuracy: 0.0889\n",
      "Epoch 9/50\n",
      "11/11 [==============================] - 1s 125ms/step - loss: 2.2972 - accuracy: 0.1057 - val_loss: 2.2868 - val_accuracy: 0.0889\n",
      "Epoch 10/50\n",
      "11/11 [==============================] - 1s 126ms/step - loss: 2.2905 - accuracy: 0.1257 - val_loss: 2.2684 - val_accuracy: 0.1333\n",
      "Epoch 11/50\n",
      "11/11 [==============================] - 1s 126ms/step - loss: 2.2875 - accuracy: 0.1314 - val_loss: 2.2546 - val_accuracy: 0.1333\n",
      "Epoch 12/50\n",
      "11/11 [==============================] - 1s 127ms/step - loss: 2.2696 - accuracy: 0.1600 - val_loss: 2.2475 - val_accuracy: 0.2444\n",
      "Epoch 13/50\n",
      "11/11 [==============================] - 1s 125ms/step - loss: 2.2662 - accuracy: 0.1486 - val_loss: 2.2707 - val_accuracy: 0.1778\n",
      "Epoch 14/50\n",
      "11/11 [==============================] - 1s 126ms/step - loss: 2.2663 - accuracy: 0.1600 - val_loss: 2.2448 - val_accuracy: 0.2667\n",
      "Epoch 15/50\n",
      "11/11 [==============================] - 1s 125ms/step - loss: 2.2620 - accuracy: 0.1543 - val_loss: 2.2326 - val_accuracy: 0.2222\n",
      "Epoch 16/50\n",
      "11/11 [==============================] - 1s 125ms/step - loss: 2.2498 - accuracy: 0.1686 - val_loss: 2.2469 - val_accuracy: 0.2222\n",
      "Epoch 17/50\n",
      "11/11 [==============================] - 1s 126ms/step - loss: 2.2592 - accuracy: 0.1486 - val_loss: 2.2298 - val_accuracy: 0.2667\n",
      "Epoch 18/50\n",
      "11/11 [==============================] - 1s 126ms/step - loss: 2.2265 - accuracy: 0.1600 - val_loss: 2.1975 - val_accuracy: 0.2889\n",
      "Epoch 19/50\n",
      "11/11 [==============================] - 1s 125ms/step - loss: 2.2164 - accuracy: 0.1886 - val_loss: 2.2117 - val_accuracy: 0.3111\n",
      "Epoch 20/50\n",
      "11/11 [==============================] - 1s 126ms/step - loss: 2.1958 - accuracy: 0.1886 - val_loss: 2.1959 - val_accuracy: 0.2889\n",
      "Epoch 21/50\n",
      "11/11 [==============================] - 1s 126ms/step - loss: 2.1950 - accuracy: 0.1771 - val_loss: 2.1690 - val_accuracy: 0.2444\n",
      "Epoch 22/50\n",
      "11/11 [==============================] - 1s 125ms/step - loss: 2.2047 - accuracy: 0.2114 - val_loss: 2.2030 - val_accuracy: 0.2889\n",
      "Epoch 23/50\n",
      "11/11 [==============================] - 1s 126ms/step - loss: 2.1391 - accuracy: 0.2143 - val_loss: 2.1611 - val_accuracy: 0.3111\n",
      "Epoch 24/50\n",
      "11/11 [==============================] - 1s 125ms/step - loss: 2.1803 - accuracy: 0.1857 - val_loss: 2.2011 - val_accuracy: 0.3111\n",
      "Epoch 25/50\n",
      "11/11 [==============================] - 1s 126ms/step - loss: 2.1389 - accuracy: 0.2029 - val_loss: 2.1691 - val_accuracy: 0.2222\n",
      "Epoch 26/50\n",
      "11/11 [==============================] - 1s 125ms/step - loss: 2.1478 - accuracy: 0.1914 - val_loss: 2.1864 - val_accuracy: 0.2444\n",
      "Epoch 27/50\n",
      "11/11 [==============================] - 1s 126ms/step - loss: 2.0945 - accuracy: 0.2114 - val_loss: 2.1410 - val_accuracy: 0.2889\n",
      "Epoch 28/50\n",
      "11/11 [==============================] - 1s 126ms/step - loss: 2.1024 - accuracy: 0.2200 - val_loss: 2.0916 - val_accuracy: 0.2667\n",
      "Epoch 29/50\n",
      "11/11 [==============================] - 1s 126ms/step - loss: 2.0699 - accuracy: 0.2200 - val_loss: 2.0890 - val_accuracy: 0.2889\n",
      "Epoch 30/50\n",
      "11/11 [==============================] - 1s 126ms/step - loss: 2.0643 - accuracy: 0.2286 - val_loss: 2.1137 - val_accuracy: 0.2889\n",
      "Epoch 31/50\n",
      "11/11 [==============================] - 1s 125ms/step - loss: 2.0459 - accuracy: 0.2200 - val_loss: 2.0898 - val_accuracy: 0.2444\n",
      "Epoch 32/50\n",
      "11/11 [==============================] - 1s 126ms/step - loss: 1.9614 - accuracy: 0.2400 - val_loss: 2.0814 - val_accuracy: 0.2667\n",
      "Epoch 33/50\n",
      "11/11 [==============================] - 1s 126ms/step - loss: 1.9522 - accuracy: 0.2429 - val_loss: 1.9669 - val_accuracy: 0.2667\n",
      "Epoch 34/50\n",
      "11/11 [==============================] - 1s 125ms/step - loss: 1.8992 - accuracy: 0.2686 - val_loss: 2.0355 - val_accuracy: 0.2444\n",
      "Epoch 35/50\n",
      "11/11 [==============================] - 1s 125ms/step - loss: 1.9004 - accuracy: 0.2486 - val_loss: 1.9843 - val_accuracy: 0.3111\n",
      "Epoch 36/50\n",
      "11/11 [==============================] - 1s 128ms/step - loss: 1.8970 - accuracy: 0.3029 - val_loss: 1.9414 - val_accuracy: 0.3111\n",
      "Epoch 37/50\n",
      "11/11 [==============================] - 2s 138ms/step - loss: 1.8604 - accuracy: 0.2886 - val_loss: 1.9485 - val_accuracy: 0.2667\n",
      "Epoch 38/50\n",
      "11/11 [==============================] - 1s 129ms/step - loss: 1.7975 - accuracy: 0.2886 - val_loss: 1.9038 - val_accuracy: 0.3111\n",
      "Epoch 39/50\n",
      "11/11 [==============================] - 1s 128ms/step - loss: 1.7935 - accuracy: 0.2914 - val_loss: 1.8165 - val_accuracy: 0.3556\n",
      "Epoch 40/50\n",
      "11/11 [==============================] - 1s 127ms/step - loss: 1.7409 - accuracy: 0.3257 - val_loss: 1.8771 - val_accuracy: 0.2889\n",
      "Epoch 41/50\n",
      "11/11 [==============================] - 1s 128ms/step - loss: 1.7348 - accuracy: 0.3371 - val_loss: 1.8805 - val_accuracy: 0.3556\n",
      "Epoch 42/50\n",
      "11/11 [==============================] - 1s 129ms/step - loss: 1.6785 - accuracy: 0.3714 - val_loss: 1.7889 - val_accuracy: 0.2889\n",
      "Epoch 43/50\n",
      "11/11 [==============================] - 1s 128ms/step - loss: 1.6672 - accuracy: 0.3657 - val_loss: 1.8559 - val_accuracy: 0.3556\n",
      "Epoch 44/50\n",
      "11/11 [==============================] - 1s 128ms/step - loss: 1.6761 - accuracy: 0.3514 - val_loss: 1.7942 - val_accuracy: 0.3778\n",
      "Epoch 45/50\n",
      "11/11 [==============================] - 1s 128ms/step - loss: 1.6559 - accuracy: 0.3686 - val_loss: 1.7283 - val_accuracy: 0.3556\n",
      "Epoch 46/50\n",
      "11/11 [==============================] - 1s 128ms/step - loss: 1.5750 - accuracy: 0.3857 - val_loss: 1.7235 - val_accuracy: 0.3778\n",
      "Epoch 47/50\n",
      "11/11 [==============================] - 1s 127ms/step - loss: 1.6164 - accuracy: 0.3886 - val_loss: 1.8254 - val_accuracy: 0.3556\n",
      "Epoch 48/50\n",
      "11/11 [==============================] - 1s 128ms/step - loss: 1.4680 - accuracy: 0.4286 - val_loss: 1.7845 - val_accuracy: 0.4000\n",
      "Epoch 49/50\n",
      "11/11 [==============================] - 1s 127ms/step - loss: 1.5332 - accuracy: 0.3943 - val_loss: 1.7577 - val_accuracy: 0.3778\n",
      "Epoch 50/50\n",
      "11/11 [==============================] - 1s 125ms/step - loss: 1.4799 - accuracy: 0.4114 - val_loss: 1.9557 - val_accuracy: 0.4444\n"
     ]
    }
   ],
   "source": [
    "history = model.fit(X_train, y_train, epochs = EPOCHS, validation_data = (X_val, y_val), callbacks=[early_stopping])"
   ]
  },
  {
   "cell_type": "markdown",
   "id": "57ec1982",
   "metadata": {},
   "source": [
    "### Train & validation Loss"
   ]
  },
  {
   "cell_type": "code",
   "execution_count": 7,
   "id": "b6c8d1db",
   "metadata": {},
   "outputs": [
    {
     "data": {
      "text/plain": [
       "<matplotlib.legend.Legend at 0x247da92a5b0>"
      ]
     },
     "execution_count": 7,
     "metadata": {},
     "output_type": "execute_result"
    },
    {
     "data": {
      "image/png": "[encoded data removed]",
      "text/plain": [
       "<Figure size 432x288 with 1 Axes>"
      ]
     },
     "metadata": {
      "needs_background": "light"
     },
     "output_type": "display_data"
    }
   ],
   "source": [
    "plt.plot(history.history['loss'], label='loss')\n",
    "plt.plot(history.history['val_loss'], label = 'val_loss')\n",
    "plt.xlabel('Epoch')\n",
    "plt.ylabel('Loss')\n",
    "plt.ylim([0.0, 3])\n",
    "plt.legend(loc='lower right')"
   ]
  },
  {
   "cell_type": "markdown",
   "id": "7af69023",
   "metadata": {},
   "source": [
    "### Train & validation Accuracy"
   ]
  },
  {
   "cell_type": "code",
   "execution_count": 8,
   "id": "0bb8dfca",
   "metadata": {},
   "outputs": [
    {
     "data": {
      "text/plain": [
       "<matplotlib.legend.Legend at 0x247e1192850>"
      ]
     },
     "execution_count": 8,
     "metadata": {},
     "output_type": "execute_result"
    },
    {
     "data": {
      "image/png": "[encoded data removed]",
      "text/plain": [
       "<Figure size 432x288 with 1 Axes>"
      ]
     },
     "metadata": {
      "needs_background": "light"
     },
     "output_type": "display_data"
    }
   ],
   "source": [
    "plt.plot(history.history['accuracy'], label='accuracy')\n",
    "plt.plot(history.history['val_accuracy'], label = 'val_accuracy')\n",
    "plt.xlabel('Epoch')\n",
    "plt.ylabel('Accuracy')\n",
    "plt.ylim([0.0, 1])\n",
    "plt.legend(loc='lower right')"
   ]
  },
  {
   "cell_type": "markdown",
   "id": "9b30546c",
   "metadata": {},
   "source": [
    "## Test"
   ]
  },
  {
   "cell_type": "code",
   "execution_count": 9,
   "id": "cf4c662a",
   "metadata": {},
   "outputs": [
    {
     "name": "stdout",
     "output_type": "stream",
     "text": [
      "4/4 [==============================] - 0s 19ms/step\n"
     ]
    }
   ],
   "source": [
    "predict = np.argmax(model.predict(X_test), axis=1)"
   ]
  },
  {
   "cell_type": "code",
   "execution_count": 10,
   "id": "6ec7a04a",
   "metadata": {},
   "outputs": [
    {
     "name": "stdout",
     "output_type": "stream",
     "text": [
      "              precision    recall  f1-score   support\n",
      "\n",
      "           0       0.50      0.40      0.44        15\n",
      "           1       1.00      0.06      0.12        16\n",
      "           2       0.50      0.40      0.44         5\n",
      "           3       0.33      0.89      0.48         9\n",
      "           4       0.33      0.60      0.43        10\n",
      "           5       0.57      0.50      0.53         8\n",
      "           6       0.56      0.36      0.43        14\n",
      "           7       0.24      0.40      0.30        10\n",
      "           8       0.00      0.00      0.00         9\n",
      "           9       0.00      0.00      0.00         9\n",
      "\n",
      "    accuracy                           0.34       105\n",
      "   macro avg       0.40      0.36      0.32       105\n",
      "weighted avg       0.45      0.34      0.31       105\n",
      "\n"
     ]
    }
   ],
   "source": [
    "print(classification_report(y_test, predict))"
   ]
  },
  {
   "cell_type": "code",
   "execution_count": 11,
   "id": "9433cc53",
   "metadata": {},
   "outputs": [
    {
     "data": {
      "image/png": "[encoded data removed]",
      "text/plain": [
       "<Figure size 400x400 with 2 Axes>"
      ]
     },
     "metadata": {
      "needs_background": "light"
     },
     "output_type": "display_data"
    }
   ],
   "source": [
    "fig = plt.figure(figsize=(CLASS_COUNT // 2, CLASS_COUNT // 2), dpi=80)\n",
    "M = confusion_matrix(predict, y_test)\n",
    "plt.imshow(M, interpolation = 'nearest')\n",
    "plt.set_cmap('binary')\n",
    "plt.xticks(range(CLASS_COUNT))\n",
    "plt.yticks(range(CLASS_COUNT))\n",
    "plt.xlabel(\"true label\")\n",
    "plt.ylabel(\"predicted label\")\n",
    "plt.colorbar()\n",
    "pass"
   ]
  },
  {
   "cell_type": "code",
   "execution_count": null,
   "id": "5c484710",
   "metadata": {},
   "outputs": [],
   "source": []
  }
 ],
 "metadata": {
  "kernelspec": {
   "display_name": "Python 3 (ipykernel)",
   "language": "python",
   "name": "python3"
  },
  "language_info": {
   "codemirror_mode": {
    "name": "ipython",
    "version": 3
   },
   "file_extension": ".py",
   "mimetype": "text/x-python",
   "name": "python",
   "nbconvert_exporter": "python",
   "pygments_lexer": "ipython3",
   "version": "3.9.6"
  }
 },
 "nbformat": 4,
 "nbformat_minor": 5
}
