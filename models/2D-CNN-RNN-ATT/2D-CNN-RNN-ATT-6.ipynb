{
 "cells": [
  {
   "cell_type": "code",
   "execution_count": 1,
   "id": "867cbce7",
   "metadata": {},
   "outputs": [],
   "source": [
    "import os\n",
    "\n",
    "import cv2\n",
    "from matplotlib import pyplot as plt\n",
    "from tqdm.notebook import trange, tqdm\n",
    "import numpy as np\n",
    "import tensorflow as tf\n",
    "import random\n",
    "from sklearn import preprocessing\n",
    "from sklearn.model_selection import train_test_split\n",
    "from tensorflow.keras import layers, models, utils\n",
    "from sklearn.metrics import classification_report, confusion_matrix\n",
    "\n",
    "from data_utils import read_and_preprocess_data\n",
    "from model_utils import *"
   ]
  },
  {
   "cell_type": "markdown",
   "id": "d6e5fe95",
   "metadata": {},
   "source": [
    "## Settings"
   ]
  },
  {
   "cell_type": "code",
   "execution_count": 2,
   "id": "c83c0d21",
   "metadata": {},
   "outputs": [],
   "source": [
    "FRAME_SIZE = 128\n",
    "DATA_PATH = './2sec/data_6_fps'\n",
    "EPOCHS = 50"
   ]
  },
  {
   "cell_type": "markdown",
   "id": "68882663",
   "metadata": {},
   "source": [
    "## Data"
   ]
  },
  {
   "cell_type": "code",
   "execution_count": 3,
   "id": "41431d91",
   "metadata": {},
   "outputs": [
    {
     "name": "stdout",
     "output_type": "stream",
     "text": [
      "reading...\n",
      "BalanceBeam\n",
      "CricketShot\n",
      "Fencing\n",
      "HorseRiding\n",
      "LongJump\n",
      "RockClimbingIndoor\n",
      "SalsaSpin\n",
      "SkyDiving\n",
      "TableTennisShot\n",
      "WallPushups\n",
      "class count = 10\n",
      "med frame count = 12.0\n",
      "padding...\n",
      "Labels encoding...\n",
      "(500,) (500, 12, 128, 128, 3)\n",
      "norm...\n",
      "Train-val-test split...\n",
      "Train: (350, 12, 128, 128, 3) (350,)\n",
      "Val: (45, 12, 128, 128, 3) (45,)\n",
      "Test: (105, 12, 128, 128, 3) (105,)\n"
     ]
    }
   ],
   "source": [
    "CLASS_COUNT, FRAME_COUNT, FRAME_SIZE, X_train, X_val, X_test, y_train, y_val, y_test = read_and_preprocess_data(DATA_PATH, FRAME_SIZE)"
   ]
  },
  {
   "cell_type": "markdown",
   "id": "f99a5cc9",
   "metadata": {},
   "source": [
    "## Model"
   ]
  },
  {
   "cell_type": "code",
   "execution_count": 4,
   "id": "b687e133",
   "metadata": {},
   "outputs": [
    {
     "name": "stdout",
     "output_type": "stream",
     "text": [
      "Model: \"sequential\"\n",
      "_________________________________________________________________\n",
      " Layer (type)                Output Shape              Param #   \n",
      "=================================================================\n",
      " time_distributed (TimeDistr  (None, 12, 62, 62, 64)   4864      \n",
      " ibuted)                                                         \n",
      "                                                                 \n",
      " batch_normalization (BatchN  (None, 12, 62, 62, 64)   248       \n",
      " ormalization)                                                   \n",
      "                                                                 \n",
      " activation (Activation)     (None, 12, 62, 62, 64)    0         \n",
      "                                                                 \n",
      " time_distributed_1 (TimeDis  (None, 12, 30, 30, 32)   32800     \n",
      " tributed)                                                       \n",
      "                                                                 \n",
      " batch_normalization_1 (Batc  (None, 12, 30, 30, 32)   120       \n",
      " hNormalization)                                                 \n",
      "                                                                 \n",
      " activation_1 (Activation)   (None, 12, 30, 30, 32)    0         \n",
      "                                                                 \n",
      " time_distributed_2 (TimeDis  (None, 12, 14, 14, 32)   9248      \n",
      " tributed)                                                       \n",
      "                                                                 \n",
      " batch_normalization_2 (Batc  (None, 12, 14, 14, 32)   56        \n",
      " hNormalization)                                                 \n",
      "                                                                 \n",
      " activation_2 (Activation)   (None, 12, 14, 14, 32)    0         \n",
      "                                                                 \n",
      " time_distributed_3 (TimeDis  (None, 12, 12, 12, 16)   4624      \n",
      " tributed)                                                       \n",
      "                                                                 \n",
      " batch_normalization_3 (Batc  (None, 12, 12, 12, 16)   48        \n",
      " hNormalization)                                                 \n",
      "                                                                 \n",
      " activation_3 (Activation)   (None, 12, 12, 12, 16)    0         \n",
      "                                                                 \n",
      " time_distributed_4 (TimeDis  (None, 12, 6, 6, 16)     0         \n",
      " tributed)                                                       \n",
      "                                                                 \n",
      " time_distributed_5 (TimeDis  (None, 12, 576)          0         \n",
      " tributed)                                                       \n",
      "                                                                 \n",
      " simple_rnn (SimpleRNN)      (None, 12, 16)            9488      \n",
      "                                                                 \n",
      " attention (attention)       (None, 16)                28        \n",
      "                                                                 \n",
      " dense (Dense)               (None, 20)                340       \n",
      "                                                                 \n",
      " dropout (Dropout)           (None, 20)                0         \n",
      "                                                                 \n",
      " dense_1 (Dense)             (None, 10)                210       \n",
      "                                                                 \n",
      "=================================================================\n",
      "Total params: 62,074\n",
      "Trainable params: 61,838\n",
      "Non-trainable params: 236\n",
      "_________________________________________________________________\n"
     ]
    }
   ],
   "source": [
    "model = models.Sequential()\n",
    "model = add_2d_cnn_part(model, FRAME_COUNT, FRAME_SIZE)\n",
    "model.add(layers.TimeDistributed(layers.Flatten()))\n",
    "model = add_rnn_part(model, return_sequences=True)\n",
    "model.add(attention())\n",
    "model = add_dense_part(model, CLASS_COUNT)\n",
    "\n",
    "model.summary()"
   ]
  },
  {
   "cell_type": "code",
   "execution_count": 5,
   "id": "963ff906",
   "metadata": {},
   "outputs": [],
   "source": [
    "model.compile(optimizer='adam',\n",
    "              loss=tf.keras.losses.SparseCategoricalCrossentropy(from_logits=False),\n",
    "              metrics=['accuracy'],\n",
    "              )\n"
   ]
  },
  {
   "cell_type": "code",
   "execution_count": 6,
   "id": "20cf9db7",
   "metadata": {},
   "outputs": [
    {
     "name": "stdout",
     "output_type": "stream",
     "text": [
      "Epoch 1/50\n",
      "11/11 [==============================] - 10s 381ms/step - loss: 2.3787 - accuracy: 0.0857 - val_loss: 2.3742 - val_accuracy: 0.0000e+00\n",
      "Epoch 2/50\n",
      "11/11 [==============================] - 2s 210ms/step - loss: 2.2813 - accuracy: 0.1629 - val_loss: 2.2809 - val_accuracy: 0.1778\n",
      "Epoch 3/50\n",
      "11/11 [==============================] - 2s 211ms/step - loss: 2.2130 - accuracy: 0.2029 - val_loss: 2.2291 - val_accuracy: 0.1556\n",
      "Epoch 4/50\n",
      "11/11 [==============================] - 2s 212ms/step - loss: 2.1736 - accuracy: 0.2343 - val_loss: 2.1870 - val_accuracy: 0.2889\n",
      "Epoch 5/50\n",
      "11/11 [==============================] - 2s 209ms/step - loss: 2.1623 - accuracy: 0.2086 - val_loss: 2.1931 - val_accuracy: 0.2000\n",
      "Epoch 6/50\n",
      "11/11 [==============================] - 2s 209ms/step - loss: 2.1110 - accuracy: 0.2229 - val_loss: 2.1088 - val_accuracy: 0.3778\n",
      "Epoch 7/50\n",
      "11/11 [==============================] - 2s 208ms/step - loss: 2.0411 - accuracy: 0.3029 - val_loss: 2.1124 - val_accuracy: 0.3111\n",
      "Epoch 8/50\n",
      "11/11 [==============================] - 2s 208ms/step - loss: 2.0090 - accuracy: 0.3057 - val_loss: 2.0954 - val_accuracy: 0.3778\n",
      "Epoch 9/50\n",
      "11/11 [==============================] - 2s 208ms/step - loss: 1.9812 - accuracy: 0.3000 - val_loss: 2.1000 - val_accuracy: 0.3556\n",
      "Epoch 10/50\n",
      "11/11 [==============================] - 2s 209ms/step - loss: 1.9525 - accuracy: 0.3143 - val_loss: 2.0294 - val_accuracy: 0.4000\n",
      "Epoch 11/50\n",
      "11/11 [==============================] - 2s 211ms/step - loss: 1.8663 - accuracy: 0.4029 - val_loss: 1.9717 - val_accuracy: 0.4444\n",
      "Epoch 12/50\n",
      "11/11 [==============================] - 2s 209ms/step - loss: 1.8130 - accuracy: 0.3657 - val_loss: 1.9382 - val_accuracy: 0.4444\n",
      "Epoch 13/50\n",
      "11/11 [==============================] - 2s 208ms/step - loss: 1.7634 - accuracy: 0.4114 - val_loss: 1.9356 - val_accuracy: 0.4000\n",
      "Epoch 14/50\n",
      "11/11 [==============================] - 2s 211ms/step - loss: 1.7163 - accuracy: 0.4314 - val_loss: 1.9128 - val_accuracy: 0.4222\n",
      "Epoch 15/50\n",
      "11/11 [==============================] - 2s 209ms/step - loss: 1.6518 - accuracy: 0.4429 - val_loss: 1.8637 - val_accuracy: 0.5111\n",
      "Epoch 16/50\n",
      "11/11 [==============================] - 2s 210ms/step - loss: 1.6356 - accuracy: 0.4629 - val_loss: 1.8451 - val_accuracy: 0.4222\n",
      "Epoch 17/50\n",
      "11/11 [==============================] - 2s 208ms/step - loss: 1.6146 - accuracy: 0.4657 - val_loss: 1.8129 - val_accuracy: 0.3778\n",
      "Epoch 18/50\n",
      "11/11 [==============================] - 2s 211ms/step - loss: 1.4675 - accuracy: 0.5400 - val_loss: 1.8001 - val_accuracy: 0.4667\n",
      "Epoch 19/50\n",
      "11/11 [==============================] - 2s 209ms/step - loss: 1.4698 - accuracy: 0.5571 - val_loss: 1.7312 - val_accuracy: 0.5111\n",
      "Epoch 20/50\n",
      "11/11 [==============================] - 2s 209ms/step - loss: 1.4091 - accuracy: 0.5229 - val_loss: 1.7062 - val_accuracy: 0.5111\n",
      "Epoch 21/50\n",
      "11/11 [==============================] - 2s 211ms/step - loss: 1.4424 - accuracy: 0.5343 - val_loss: 1.7204 - val_accuracy: 0.4000\n",
      "Epoch 22/50\n",
      "11/11 [==============================] - 2s 210ms/step - loss: 1.3776 - accuracy: 0.5429 - val_loss: 1.6922 - val_accuracy: 0.5111\n",
      "Epoch 23/50\n",
      "11/11 [==============================] - 2s 209ms/step - loss: 1.3073 - accuracy: 0.6000 - val_loss: 1.6470 - val_accuracy: 0.5556\n",
      "Epoch 24/50\n",
      "11/11 [==============================] - 2s 210ms/step - loss: 1.2620 - accuracy: 0.5971 - val_loss: 1.5996 - val_accuracy: 0.5333\n",
      "Epoch 25/50\n",
      "11/11 [==============================] - 2s 208ms/step - loss: 1.2201 - accuracy: 0.6371 - val_loss: 1.6410 - val_accuracy: 0.5556\n",
      "Epoch 26/50\n",
      "11/11 [==============================] - 2s 210ms/step - loss: 1.1403 - accuracy: 0.6743 - val_loss: 1.6105 - val_accuracy: 0.5111\n",
      "Epoch 27/50\n",
      "11/11 [==============================] - 2s 209ms/step - loss: 1.1055 - accuracy: 0.6600 - val_loss: 1.5718 - val_accuracy: 0.5556\n",
      "Epoch 28/50\n",
      "11/11 [==============================] - 2s 212ms/step - loss: 1.0473 - accuracy: 0.7400 - val_loss: 1.5229 - val_accuracy: 0.6000\n",
      "Epoch 29/50\n",
      "11/11 [==============================] - 2s 211ms/step - loss: 1.0551 - accuracy: 0.7114 - val_loss: 1.5270 - val_accuracy: 0.5778\n",
      "Epoch 30/50\n",
      "11/11 [==============================] - 2s 210ms/step - loss: 0.9897 - accuracy: 0.7114 - val_loss: 1.5001 - val_accuracy: 0.5333\n",
      "Epoch 31/50\n",
      "11/11 [==============================] - 2s 209ms/step - loss: 0.9581 - accuracy: 0.7257 - val_loss: 1.5248 - val_accuracy: 0.6000\n",
      "Epoch 32/50\n",
      "11/11 [==============================] - 2s 207ms/step - loss: 0.8700 - accuracy: 0.7429 - val_loss: 1.5961 - val_accuracy: 0.5556\n",
      "Epoch 33/50\n",
      "11/11 [==============================] - 2s 210ms/step - loss: 1.0554 - accuracy: 0.6714 - val_loss: 1.4884 - val_accuracy: 0.6000\n",
      "Epoch 34/50\n",
      "11/11 [==============================] - 2s 210ms/step - loss: 0.9963 - accuracy: 0.6714 - val_loss: 1.4779 - val_accuracy: 0.5778\n",
      "Epoch 35/50\n",
      "11/11 [==============================] - 2s 211ms/step - loss: 0.8660 - accuracy: 0.7314 - val_loss: 1.4415 - val_accuracy: 0.6000\n",
      "Epoch 36/50\n",
      "11/11 [==============================] - 2s 208ms/step - loss: 0.7822 - accuracy: 0.8114 - val_loss: 1.6039 - val_accuracy: 0.5778\n",
      "Epoch 37/50\n",
      "11/11 [==============================] - 2s 209ms/step - loss: 0.7632 - accuracy: 0.7857 - val_loss: 1.4762 - val_accuracy: 0.6000\n",
      "Epoch 38/50\n",
      "11/11 [==============================] - 2s 208ms/step - loss: 0.7796 - accuracy: 0.7914 - val_loss: 1.4791 - val_accuracy: 0.5556\n",
      "Epoch 39/50\n",
      "11/11 [==============================] - 2s 208ms/step - loss: 0.7056 - accuracy: 0.8314 - val_loss: 1.4303 - val_accuracy: 0.6222\n",
      "Epoch 40/50\n",
      "11/11 [==============================] - 2s 208ms/step - loss: 0.6359 - accuracy: 0.8429 - val_loss: 1.6028 - val_accuracy: 0.6222\n",
      "Epoch 41/50\n",
      "11/11 [==============================] - 2s 209ms/step - loss: 0.6298 - accuracy: 0.8257 - val_loss: 1.3736 - val_accuracy: 0.6667\n",
      "Epoch 42/50\n",
      "11/11 [==============================] - 2s 210ms/step - loss: 0.6708 - accuracy: 0.8143 - val_loss: 1.4358 - val_accuracy: 0.6667\n",
      "Epoch 43/50\n",
      "11/11 [==============================] - 2s 208ms/step - loss: 0.6223 - accuracy: 0.8400 - val_loss: 1.4352 - val_accuracy: 0.6222\n",
      "Epoch 44/50\n",
      "11/11 [==============================] - 2s 210ms/step - loss: 0.5850 - accuracy: 0.8343 - val_loss: 1.4621 - val_accuracy: 0.6222\n",
      "Epoch 45/50\n",
      "11/11 [==============================] - 2s 207ms/step - loss: 0.5623 - accuracy: 0.8486 - val_loss: 1.5406 - val_accuracy: 0.6667\n",
      "Epoch 46/50\n",
      "11/11 [==============================] - 2s 212ms/step - loss: 0.5129 - accuracy: 0.8657 - val_loss: 1.5088 - val_accuracy: 0.6889\n"
     ]
    }
   ],
   "source": [
    "history = model.fit(X_train, y_train, epochs = EPOCHS, validation_data = (X_val, y_val), callbacks=[early_stopping])"
   ]
  },
  {
   "cell_type": "markdown",
   "id": "57ec1982",
   "metadata": {},
   "source": [
    "### Train & validation Loss"
   ]
  },
  {
   "cell_type": "code",
   "execution_count": 7,
   "id": "b6c8d1db",
   "metadata": {},
   "outputs": [
    {
     "data": {
      "text/plain": [
       "<matplotlib.legend.Legend at 0x2cbd8db2c40>"
      ]
     },
     "execution_count": 7,
     "metadata": {},
     "output_type": "execute_result"
    },
    {
     "data": {
      "image/png": "[encoded data removed]",
      "text/plain": [
       "<Figure size 432x288 with 1 Axes>"
      ]
     },
     "metadata": {
      "needs_background": "light"
     },
     "output_type": "display_data"
    }
   ],
   "source": [
    "plt.plot(history.history['loss'], label='loss')\n",
    "plt.plot(history.history['val_loss'], label = 'val_loss')\n",
    "plt.xlabel('Epoch')\n",
    "plt.ylabel('Loss')\n",
    "plt.ylim([0.0, 3])\n",
    "plt.legend(loc='lower right')"
   ]
  },
  {
   "cell_type": "markdown",
   "id": "7af69023",
   "metadata": {},
   "source": [
    "### Train & validation Accuracy"
   ]
  },
  {
   "cell_type": "code",
   "execution_count": 8,
   "id": "0bb8dfca",
   "metadata": {},
   "outputs": [
    {
     "data": {
      "text/plain": [
       "<matplotlib.legend.Legend at 0x2ce9e2f30d0>"
      ]
     },
     "execution_count": 8,
     "metadata": {},
     "output_type": "execute_result"
    },
    {
     "data": {
      "image/png": "[encoded data removed]",
      "text/plain": [
       "<Figure size 432x288 with 1 Axes>"
      ]
     },
     "metadata": {
      "needs_background": "light"
     },
     "output_type": "display_data"
    }
   ],
   "source": [
    "plt.plot(history.history['accuracy'], label='accuracy')\n",
    "plt.plot(history.history['val_accuracy'], label = 'val_accuracy')\n",
    "plt.xlabel('Epoch')\n",
    "plt.ylabel('Accuracy')\n",
    "plt.ylim([0.0, 1])\n",
    "plt.legend(loc='lower right')"
   ]
  },
  {
   "cell_type": "markdown",
   "id": "9b30546c",
   "metadata": {},
   "source": [
    "## Test"
   ]
  },
  {
   "cell_type": "code",
   "execution_count": 9,
   "id": "cf4c662a",
   "metadata": {},
   "outputs": [
    {
     "name": "stdout",
     "output_type": "stream",
     "text": [
      "4/4 [==============================] - 1s 59ms/step\n"
     ]
    }
   ],
   "source": [
    "predict = np.argmax(model.predict(X_test), axis=1)"
   ]
  },
  {
   "cell_type": "code",
   "execution_count": 10,
   "id": "6ec7a04a",
   "metadata": {},
   "outputs": [
    {
     "name": "stdout",
     "output_type": "stream",
     "text": [
      "              precision    recall  f1-score   support\n",
      "\n",
      "           0       0.80      0.53      0.64        15\n",
      "           1       0.64      0.44      0.52        16\n",
      "           2       0.56      1.00      0.71         5\n",
      "           3       0.35      0.78      0.48         9\n",
      "           4       0.56      0.50      0.53        10\n",
      "           5       1.00      0.38      0.55         8\n",
      "           6       0.62      0.36      0.45        14\n",
      "           7       0.88      0.70      0.78        10\n",
      "           8       0.50      0.78      0.61         9\n",
      "           9       0.69      1.00      0.82         9\n",
      "\n",
      "    accuracy                           0.60       105\n",
      "   macro avg       0.66      0.65      0.61       105\n",
      "weighted avg       0.67      0.60      0.59       105\n",
      "\n"
     ]
    }
   ],
   "source": [
    "print(classification_report(y_test, predict))"
   ]
  },
  {
   "cell_type": "code",
   "execution_count": 11,
   "id": "9433cc53",
   "metadata": {},
   "outputs": [
    {
     "data": {
      "image/png": "[encoded data removed]",
      "text/plain": [
       "<Figure size 400x400 with 2 Axes>"
      ]
     },
     "metadata": {
      "needs_background": "light"
     },
     "output_type": "display_data"
    }
   ],
   "source": [
    "fig = plt.figure(figsize=(CLASS_COUNT // 2, CLASS_COUNT // 2), dpi=80)\n",
    "M = confusion_matrix(predict, y_test)\n",
    "plt.imshow(M, interpolation = 'nearest')\n",
    "plt.set_cmap('binary')\n",
    "plt.xticks(range(CLASS_COUNT))\n",
    "plt.yticks(range(CLASS_COUNT))\n",
    "plt.xlabel(\"true label\")\n",
    "plt.ylabel(\"predicted label\")\n",
    "plt.colorbar()\n",
    "pass"
   ]
  },
  {
   "cell_type": "code",
   "execution_count": null,
   "id": "5c484710",
   "metadata": {},
   "outputs": [],
   "source": []
  }
 ],
 "metadata": {
  "kernelspec": {
   "display_name": "Python 3 (ipykernel)",
   "language": "python",
   "name": "python3"
  },
  "language_info": {
   "codemirror_mode": {
    "name": "ipython",
    "version": 3
   },
   "file_extension": ".py",
   "mimetype": "text/x-python",
   "name": "python",
   "nbconvert_exporter": "python",
   "pygments_lexer": "ipython3",
   "version": "3.9.6"
  }
 },
 "nbformat": 4,
 "nbformat_minor": 5
}
