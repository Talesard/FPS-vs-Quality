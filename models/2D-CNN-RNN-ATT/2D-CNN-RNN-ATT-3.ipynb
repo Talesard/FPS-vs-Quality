{
 "cells": [
  {
   "cell_type": "code",
   "execution_count": 1,
   "id": "867cbce7",
   "metadata": {},
   "outputs": [],
   "source": [
    "import os\n",
    "\n",
    "import cv2\n",
    "from matplotlib import pyplot as plt\n",
    "from tqdm.notebook import trange, tqdm\n",
    "import numpy as np\n",
    "import tensorflow as tf\n",
    "import random\n",
    "from sklearn import preprocessing\n",
    "from sklearn.model_selection import train_test_split\n",
    "from tensorflow.keras import layers, models, utils\n",
    "from sklearn.metrics import classification_report, confusion_matrix\n",
    "\n",
    "from data_utils import read_and_preprocess_data\n",
    "from model_utils import *"
   ]
  },
  {
   "cell_type": "markdown",
   "id": "d6e5fe95",
   "metadata": {},
   "source": [
    "## Settings"
   ]
  },
  {
   "cell_type": "code",
   "execution_count": 2,
   "id": "c83c0d21",
   "metadata": {},
   "outputs": [],
   "source": [
    "FRAME_SIZE = 128\n",
    "DATA_PATH = './2sec/data_3_fps'\n",
    "EPOCHS = 50"
   ]
  },
  {
   "cell_type": "markdown",
   "id": "68882663",
   "metadata": {},
   "source": [
    "## Data"
   ]
  },
  {
   "cell_type": "code",
   "execution_count": 3,
   "id": "41431d91",
   "metadata": {},
   "outputs": [
    {
     "name": "stdout",
     "output_type": "stream",
     "text": [
      "reading...\n",
      "BalanceBeam\n",
      "CricketShot\n",
      "Fencing\n",
      "HorseRiding\n",
      "LongJump\n",
      "RockClimbingIndoor\n",
      "SalsaSpin\n",
      "SkyDiving\n",
      "TableTennisShot\n",
      "WallPushups\n",
      "class count = 10\n",
      "med frame count = 6.0\n",
      "padding...\n",
      "Labels encoding...\n",
      "(500,) (500, 6, 128, 128, 3)\n",
      "norm...\n",
      "Train-val-test split...\n",
      "Train: (350, 6, 128, 128, 3) (350,)\n",
      "Val: (45, 6, 128, 128, 3) (45,)\n",
      "Test: (105, 6, 128, 128, 3) (105,)\n"
     ]
    }
   ],
   "source": [
    "CLASS_COUNT, FRAME_COUNT, FRAME_SIZE, X_train, X_val, X_test, y_train, y_val, y_test = read_and_preprocess_data(DATA_PATH, FRAME_SIZE)"
   ]
  },
  {
   "cell_type": "markdown",
   "id": "f99a5cc9",
   "metadata": {},
   "source": [
    "## Model"
   ]
  },
  {
   "cell_type": "code",
   "execution_count": 4,
   "id": "b687e133",
   "metadata": {},
   "outputs": [
    {
     "name": "stdout",
     "output_type": "stream",
     "text": [
      "Model: \"sequential\"\n",
      "_________________________________________________________________\n",
      " Layer (type)                Output Shape              Param #   \n",
      "=================================================================\n",
      " time_distributed (TimeDistr  (None, 6, 62, 62, 64)    4864      \n",
      " ibuted)                                                         \n",
      "                                                                 \n",
      " batch_normalization (BatchN  (None, 6, 62, 62, 64)    248       \n",
      " ormalization)                                                   \n",
      "                                                                 \n",
      " activation (Activation)     (None, 6, 62, 62, 64)     0         \n",
      "                                                                 \n",
      " time_distributed_1 (TimeDis  (None, 6, 30, 30, 32)    32800     \n",
      " tributed)                                                       \n",
      "                                                                 \n",
      " batch_normalization_1 (Batc  (None, 6, 30, 30, 32)    120       \n",
      " hNormalization)                                                 \n",
      "                                                                 \n",
      " activation_1 (Activation)   (None, 6, 30, 30, 32)     0         \n",
      "                                                                 \n",
      " time_distributed_2 (TimeDis  (None, 6, 14, 14, 32)    9248      \n",
      " tributed)                                                       \n",
      "                                                                 \n",
      " batch_normalization_2 (Batc  (None, 6, 14, 14, 32)    56        \n",
      " hNormalization)                                                 \n",
      "                                                                 \n",
      " activation_2 (Activation)   (None, 6, 14, 14, 32)     0         \n",
      "                                                                 \n",
      " time_distributed_3 (TimeDis  (None, 6, 12, 12, 16)    4624      \n",
      " tributed)                                                       \n",
      "                                                                 \n",
      " batch_normalization_3 (Batc  (None, 6, 12, 12, 16)    48        \n",
      " hNormalization)                                                 \n",
      "                                                                 \n",
      " activation_3 (Activation)   (None, 6, 12, 12, 16)     0         \n",
      "                                                                 \n",
      " time_distributed_4 (TimeDis  (None, 6, 6, 6, 16)      0         \n",
      " tributed)                                                       \n",
      "                                                                 \n",
      " time_distributed_5 (TimeDis  (None, 6, 576)           0         \n",
      " tributed)                                                       \n",
      "                                                                 \n",
      " simple_rnn (SimpleRNN)      (None, 6, 16)             9488      \n",
      "                                                                 \n",
      " attention (attention)       (None, 16)                22        \n",
      "                                                                 \n",
      " dense (Dense)               (None, 20)                340       \n",
      "                                                                 \n",
      " dropout (Dropout)           (None, 20)                0         \n",
      "                                                                 \n",
      " dense_1 (Dense)             (None, 10)                210       \n",
      "                                                                 \n",
      "=================================================================\n",
      "Total params: 62,068\n",
      "Trainable params: 61,832\n",
      "Non-trainable params: 236\n",
      "_________________________________________________________________\n"
     ]
    }
   ],
   "source": [
    "model = models.Sequential()\n",
    "model = add_2d_cnn_part(model, FRAME_COUNT, FRAME_SIZE)\n",
    "model.add(layers.TimeDistributed(layers.Flatten()))\n",
    "model = add_rnn_part(model, return_sequences=True)\n",
    "model.add(attention())\n",
    "model = add_dense_part(model, CLASS_COUNT)\n",
    "\n",
    "model.summary()"
   ]
  },
  {
   "cell_type": "code",
   "execution_count": 5,
   "id": "963ff906",
   "metadata": {},
   "outputs": [],
   "source": [
    "model.compile(optimizer='adam',\n",
    "              loss=tf.keras.losses.SparseCategoricalCrossentropy(from_logits=False),\n",
    "              metrics=['accuracy'],\n",
    "              )\n"
   ]
  },
  {
   "cell_type": "code",
   "execution_count": 6,
   "id": "20cf9db7",
   "metadata": {},
   "outputs": [
    {
     "name": "stdout",
     "output_type": "stream",
     "text": [
      "Epoch 1/50\n",
      "11/11 [==============================] - 7s 206ms/step - loss: 2.3205 - accuracy: 0.1171 - val_loss: 2.2693 - val_accuracy: 0.1333\n",
      "Epoch 2/50\n",
      "11/11 [==============================] - 1s 109ms/step - loss: 2.2420 - accuracy: 0.1714 - val_loss: 2.2402 - val_accuracy: 0.1778\n",
      "Epoch 3/50\n",
      "11/11 [==============================] - 1s 104ms/step - loss: 2.2344 - accuracy: 0.1686 - val_loss: 2.2415 - val_accuracy: 0.2000\n",
      "Epoch 4/50\n",
      "11/11 [==============================] - 1s 95ms/step - loss: 2.1864 - accuracy: 0.1800 - val_loss: 2.1862 - val_accuracy: 0.3556\n",
      "Epoch 5/50\n",
      "11/11 [==============================] - 1s 96ms/step - loss: 2.1541 - accuracy: 0.2086 - val_loss: 2.1657 - val_accuracy: 0.3333\n",
      "Epoch 6/50\n",
      "11/11 [==============================] - 1s 99ms/step - loss: 2.1422 - accuracy: 0.2257 - val_loss: 2.1600 - val_accuracy: 0.2222\n",
      "Epoch 7/50\n",
      "11/11 [==============================] - 1s 103ms/step - loss: 2.1045 - accuracy: 0.2543 - val_loss: 2.1285 - val_accuracy: 0.3111\n",
      "Epoch 8/50\n",
      "11/11 [==============================] - 1s 113ms/step - loss: 2.0411 - accuracy: 0.2771 - val_loss: 2.0955 - val_accuracy: 0.3111\n",
      "Epoch 9/50\n",
      "11/11 [==============================] - 1s 109ms/step - loss: 2.0038 - accuracy: 0.2886 - val_loss: 2.1477 - val_accuracy: 0.2000\n",
      "Epoch 10/50\n",
      "11/11 [==============================] - 1s 110ms/step - loss: 1.9784 - accuracy: 0.3286 - val_loss: 2.0751 - val_accuracy: 0.3333\n",
      "Epoch 11/50\n",
      "11/11 [==============================] - 1s 94ms/step - loss: 1.8870 - accuracy: 0.3543 - val_loss: 2.1071 - val_accuracy: 0.2667\n",
      "Epoch 12/50\n",
      "11/11 [==============================] - 1s 96ms/step - loss: 1.8978 - accuracy: 0.3314 - val_loss: 2.0350 - val_accuracy: 0.2667\n",
      "Epoch 13/50\n",
      "11/11 [==============================] - 1s 111ms/step - loss: 1.8092 - accuracy: 0.4143 - val_loss: 1.9938 - val_accuracy: 0.3333\n",
      "Epoch 14/50\n",
      "11/11 [==============================] - 1s 110ms/step - loss: 1.7794 - accuracy: 0.4286 - val_loss: 2.0221 - val_accuracy: 0.2667\n",
      "Epoch 15/50\n",
      "11/11 [==============================] - 1s 111ms/step - loss: 1.7738 - accuracy: 0.4000 - val_loss: 1.9720 - val_accuracy: 0.3111\n",
      "Epoch 16/50\n",
      "11/11 [==============================] - 1s 111ms/step - loss: 1.6782 - accuracy: 0.4286 - val_loss: 1.9142 - val_accuracy: 0.3778\n",
      "Epoch 17/50\n",
      "11/11 [==============================] - 1s 111ms/step - loss: 1.5950 - accuracy: 0.4571 - val_loss: 1.9266 - val_accuracy: 0.2889\n",
      "Epoch 18/50\n",
      "11/11 [==============================] - 1s 111ms/step - loss: 1.5632 - accuracy: 0.4743 - val_loss: 1.9441 - val_accuracy: 0.3333\n",
      "Epoch 19/50\n",
      "11/11 [==============================] - 1s 111ms/step - loss: 1.4855 - accuracy: 0.5000 - val_loss: 1.9089 - val_accuracy: 0.3778\n",
      "Epoch 20/50\n",
      "11/11 [==============================] - 1s 111ms/step - loss: 1.4357 - accuracy: 0.5229 - val_loss: 1.8619 - val_accuracy: 0.3556\n",
      "Epoch 21/50\n",
      "11/11 [==============================] - 1s 111ms/step - loss: 1.4211 - accuracy: 0.5600 - val_loss: 1.9095 - val_accuracy: 0.2889\n",
      "Epoch 22/50\n",
      "11/11 [==============================] - 1s 110ms/step - loss: 1.3682 - accuracy: 0.5886 - val_loss: 1.8205 - val_accuracy: 0.3556\n",
      "Epoch 23/50\n",
      "11/11 [==============================] - 1s 111ms/step - loss: 1.3467 - accuracy: 0.5543 - val_loss: 1.7596 - val_accuracy: 0.4000\n",
      "Epoch 24/50\n",
      "11/11 [==============================] - 1s 111ms/step - loss: 1.2611 - accuracy: 0.5886 - val_loss: 1.7659 - val_accuracy: 0.4222\n",
      "Epoch 25/50\n",
      "11/11 [==============================] - 1s 109ms/step - loss: 1.2357 - accuracy: 0.6057 - val_loss: 1.7876 - val_accuracy: 0.4222\n",
      "Epoch 26/50\n",
      "11/11 [==============================] - 1s 109ms/step - loss: 1.2085 - accuracy: 0.6057 - val_loss: 1.8751 - val_accuracy: 0.2667\n",
      "Epoch 27/50\n",
      "11/11 [==============================] - 1s 110ms/step - loss: 1.1442 - accuracy: 0.6514 - val_loss: 1.9236 - val_accuracy: 0.3333\n",
      "Epoch 28/50\n",
      "11/11 [==============================] - 1s 112ms/step - loss: 1.0752 - accuracy: 0.6857 - val_loss: 1.9009 - val_accuracy: 0.3556\n"
     ]
    }
   ],
   "source": [
    "history = model.fit(X_train, y_train, epochs = EPOCHS, validation_data = (X_val, y_val), callbacks=[early_stopping])"
   ]
  },
  {
   "cell_type": "markdown",
   "id": "57ec1982",
   "metadata": {},
   "source": [
    "### Train & validation Loss"
   ]
  },
  {
   "cell_type": "code",
   "execution_count": 7,
   "id": "b6c8d1db",
   "metadata": {},
   "outputs": [
    {
     "data": {
      "text/plain": [
       "<matplotlib.legend.Legend at 0x25872ecb9d0>"
      ]
     },
     "execution_count": 7,
     "metadata": {},
     "output_type": "execute_result"
    },
    {
     "data": {
      "image/png": "[encoded data removed]",
      "text/plain": [
       "<Figure size 432x288 with 1 Axes>"
      ]
     },
     "metadata": {
      "needs_background": "light"
     },
     "output_type": "display_data"
    }
   ],
   "source": [
    "plt.plot(history.history['loss'], label='loss')\n",
    "plt.plot(history.history['val_loss'], label = 'val_loss')\n",
    "plt.xlabel('Epoch')\n",
    "plt.ylabel('Loss')\n",
    "plt.ylim([0.0, 3])\n",
    "plt.legend(loc='lower right')"
   ]
  },
  {
   "cell_type": "markdown",
   "id": "7af69023",
   "metadata": {},
   "source": [
    "### Train & validation Accuracy"
   ]
  },
  {
   "cell_type": "code",
   "execution_count": 8,
   "id": "0bb8dfca",
   "metadata": {},
   "outputs": [
    {
     "data": {
      "text/plain": [
       "<matplotlib.legend.Legend at 0x25b0573aa30>"
      ]
     },
     "execution_count": 8,
     "metadata": {},
     "output_type": "execute_result"
    },
    {
     "data": {
      "image/png": "[encoded data removed]",
      "text/plain": [
       "<Figure size 432x288 with 1 Axes>"
      ]
     },
     "metadata": {
      "needs_background": "light"
     },
     "output_type": "display_data"
    }
   ],
   "source": [
    "plt.plot(history.history['accuracy'], label='accuracy')\n",
    "plt.plot(history.history['val_accuracy'], label = 'val_accuracy')\n",
    "plt.xlabel('Epoch')\n",
    "plt.ylabel('Accuracy')\n",
    "plt.ylim([0.0, 1])\n",
    "plt.legend(loc='lower right')"
   ]
  },
  {
   "cell_type": "markdown",
   "id": "9b30546c",
   "metadata": {},
   "source": [
    "## Test"
   ]
  },
  {
   "cell_type": "code",
   "execution_count": 9,
   "id": "cf4c662a",
   "metadata": {},
   "outputs": [
    {
     "name": "stdout",
     "output_type": "stream",
     "text": [
      "4/4 [==============================] - 0s 32ms/step\n"
     ]
    }
   ],
   "source": [
    "predict = np.argmax(model.predict(X_test), axis=1)"
   ]
  },
  {
   "cell_type": "code",
   "execution_count": 10,
   "id": "6ec7a04a",
   "metadata": {},
   "outputs": [
    {
     "name": "stdout",
     "output_type": "stream",
     "text": [
      "              precision    recall  f1-score   support\n",
      "\n",
      "           0       0.50      0.53      0.52        15\n",
      "           1       1.00      0.31      0.48        16\n",
      "           2       0.25      0.60      0.35         5\n",
      "           3       0.45      0.56      0.50         9\n",
      "           4       0.50      0.70      0.58        10\n",
      "           5       0.33      0.38      0.35         8\n",
      "           6       0.40      0.14      0.21        14\n",
      "           7       0.42      0.50      0.45        10\n",
      "           8       0.45      0.56      0.50         9\n",
      "           9       0.40      0.44      0.42         9\n",
      "\n",
      "    accuracy                           0.45       105\n",
      "   macro avg       0.47      0.47      0.44       105\n",
      "weighted avg       0.51      0.45      0.44       105\n",
      "\n"
     ]
    }
   ],
   "source": [
    "print(classification_report(y_test, predict))"
   ]
  },
  {
   "cell_type": "code",
   "execution_count": 11,
   "id": "9433cc53",
   "metadata": {},
   "outputs": [
    {
     "data": {
      "image/png": "[encoded data removed]",
      "text/plain": [
       "<Figure size 400x400 with 2 Axes>"
      ]
     },
     "metadata": {
      "needs_background": "light"
     },
     "output_type": "display_data"
    }
   ],
   "source": [
    "fig = plt.figure(figsize=(CLASS_COUNT // 2, CLASS_COUNT // 2), dpi=80)\n",
    "M = confusion_matrix(predict, y_test)\n",
    "plt.imshow(M, interpolation = 'nearest')\n",
    "plt.set_cmap('binary')\n",
    "plt.xticks(range(CLASS_COUNT))\n",
    "plt.yticks(range(CLASS_COUNT))\n",
    "plt.xlabel(\"true label\")\n",
    "plt.ylabel(\"predicted label\")\n",
    "plt.colorbar()\n",
    "pass"
   ]
  },
  {
   "cell_type": "code",
   "execution_count": null,
   "id": "5c484710",
   "metadata": {},
   "outputs": [],
   "source": []
  }
 ],
 "metadata": {
  "kernelspec": {
   "display_name": "Python 3 (ipykernel)",
   "language": "python",
   "name": "python3"
  },
  "language_info": {
   "codemirror_mode": {
    "name": "ipython",
    "version": 3
   },
   "file_extension": ".py",
   "mimetype": "text/x-python",
   "name": "python",
   "nbconvert_exporter": "python",
   "pygments_lexer": "ipython3",
   "version": "3.9.6"
  }
 },
 "nbformat": 4,
 "nbformat_minor": 5
}
