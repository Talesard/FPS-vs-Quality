{
 "cells": [
  {
   "cell_type": "code",
   "execution_count": 1,
   "id": "867cbce7",
   "metadata": {},
   "outputs": [],
   "source": [
    "import os\n",
    "\n",
    "import cv2\n",
    "from matplotlib import pyplot as plt\n",
    "from tqdm.notebook import trange, tqdm\n",
    "import numpy as np\n",
    "import tensorflow as tf\n",
    "import random\n",
    "from sklearn import preprocessing\n",
    "from sklearn.model_selection import train_test_split\n",
    "from tensorflow.keras import layers, models, utils\n",
    "from sklearn.metrics import classification_report, confusion_matrix\n",
    "\n",
    "from data_utils import read_and_preprocess_data\n",
    "from model_utils import *"
   ]
  },
  {
   "cell_type": "markdown",
   "id": "d6e5fe95",
   "metadata": {},
   "source": [
    "## Settings"
   ]
  },
  {
   "cell_type": "code",
   "execution_count": 2,
   "id": "c83c0d21",
   "metadata": {},
   "outputs": [],
   "source": [
    "FRAME_SIZE = 128\n",
    "DATA_PATH = './2sec/data_16_fps'\n",
    "EPOCHS = 50"
   ]
  },
  {
   "cell_type": "markdown",
   "id": "68882663",
   "metadata": {},
   "source": [
    "## Data"
   ]
  },
  {
   "cell_type": "code",
   "execution_count": 3,
   "id": "41431d91",
   "metadata": {},
   "outputs": [
    {
     "name": "stdout",
     "output_type": "stream",
     "text": [
      "reading...\n",
      "BalanceBeam\n",
      "CricketShot\n",
      "Fencing\n",
      "HorseRiding\n",
      "LongJump\n",
      "RockClimbingIndoor\n",
      "SalsaSpin\n",
      "SkyDiving\n",
      "TableTennisShot\n",
      "WallPushups\n",
      "class count = 10\n",
      "med frame count = 32.0\n",
      "padding...\n",
      "Labels encoding...\n",
      "(500,) (500, 32, 128, 128, 3)\n",
      "norm...\n",
      "Train-val-test split...\n",
      "Train: (350, 32, 128, 128, 3) (350,)\n",
      "Val: (45, 32, 128, 128, 3) (45,)\n",
      "Test: (105, 32, 128, 128, 3) (105,)\n"
     ]
    }
   ],
   "source": [
    "CLASS_COUNT, FRAME_COUNT, FRAME_SIZE, X_train, X_val, X_test, y_train, y_val, y_test = read_and_preprocess_data(DATA_PATH, FRAME_SIZE)"
   ]
  },
  {
   "cell_type": "markdown",
   "id": "f99a5cc9",
   "metadata": {},
   "source": [
    "## Model"
   ]
  },
  {
   "cell_type": "code",
   "execution_count": 4,
   "id": "b687e133",
   "metadata": {},
   "outputs": [
    {
     "name": "stdout",
     "output_type": "stream",
     "text": [
      "Model: \"sequential\"\n",
      "_________________________________________________________________\n",
      " Layer (type)                Output Shape              Param #   \n",
      "=================================================================\n",
      " time_distributed (TimeDistr  (None, 32, 62, 62, 64)   4864      \n",
      " ibuted)                                                         \n",
      "                                                                 \n",
      " batch_normalization (BatchN  (None, 32, 62, 62, 64)   248       \n",
      " ormalization)                                                   \n",
      "                                                                 \n",
      " activation (Activation)     (None, 32, 62, 62, 64)    0         \n",
      "                                                                 \n",
      " time_distributed_1 (TimeDis  (None, 32, 30, 30, 32)   32800     \n",
      " tributed)                                                       \n",
      "                                                                 \n",
      " batch_normalization_1 (Batc  (None, 32, 30, 30, 32)   120       \n",
      " hNormalization)                                                 \n",
      "                                                                 \n",
      " activation_1 (Activation)   (None, 32, 30, 30, 32)    0         \n",
      "                                                                 \n",
      " time_distributed_2 (TimeDis  (None, 32, 14, 14, 32)   9248      \n",
      " tributed)                                                       \n",
      "                                                                 \n",
      " batch_normalization_2 (Batc  (None, 32, 14, 14, 32)   56        \n",
      " hNormalization)                                                 \n",
      "                                                                 \n",
      " activation_2 (Activation)   (None, 32, 14, 14, 32)    0         \n",
      "                                                                 \n",
      " time_distributed_3 (TimeDis  (None, 32, 12, 12, 16)   4624      \n",
      " tributed)                                                       \n",
      "                                                                 \n",
      " batch_normalization_3 (Batc  (None, 32, 12, 12, 16)   48        \n",
      " hNormalization)                                                 \n",
      "                                                                 \n",
      " activation_3 (Activation)   (None, 32, 12, 12, 16)    0         \n",
      "                                                                 \n",
      " time_distributed_4 (TimeDis  (None, 32, 6, 6, 16)     0         \n",
      " tributed)                                                       \n",
      "                                                                 \n",
      " time_distributed_5 (TimeDis  (None, 32, 576)          0         \n",
      " tributed)                                                       \n",
      "                                                                 \n",
      " simple_rnn (SimpleRNN)      (None, 32, 16)            9488      \n",
      "                                                                 \n",
      " attention (attention)       (None, 16)                48        \n",
      "                                                                 \n",
      " dense (Dense)               (None, 20)                340       \n",
      "                                                                 \n",
      " dropout (Dropout)           (None, 20)                0         \n",
      "                                                                 \n",
      " dense_1 (Dense)             (None, 10)                210       \n",
      "                                                                 \n",
      "=================================================================\n",
      "Total params: 62,094\n",
      "Trainable params: 61,858\n",
      "Non-trainable params: 236\n",
      "_________________________________________________________________\n"
     ]
    }
   ],
   "source": [
    "model = models.Sequential()\n",
    "model = add_2d_cnn_part(model, FRAME_COUNT, FRAME_SIZE)\n",
    "model.add(layers.TimeDistributed(layers.Flatten()))\n",
    "model = add_rnn_part(model, return_sequences=True)\n",
    "model.add(attention())\n",
    "model = add_dense_part(model, CLASS_COUNT)\n",
    "\n",
    "model.summary()"
   ]
  },
  {
   "cell_type": "code",
   "execution_count": 5,
   "id": "963ff906",
   "metadata": {},
   "outputs": [],
   "source": [
    "model.compile(optimizer='adam',\n",
    "              loss=tf.keras.losses.SparseCategoricalCrossentropy(from_logits=False),\n",
    "              metrics=['accuracy'],\n",
    "              )\n"
   ]
  },
  {
   "cell_type": "code",
   "execution_count": 6,
   "id": "20cf9db7",
   "metadata": {},
   "outputs": [
    {
     "name": "stdout",
     "output_type": "stream",
     "text": [
      "Epoch 1/50\n",
      "11/11 [==============================] - 16s 779ms/step - loss: 2.3331 - accuracy: 0.1143 - val_loss: 2.3066 - val_accuracy: 0.1556\n",
      "Epoch 2/50\n",
      "11/11 [==============================] - 5s 457ms/step - loss: 2.2846 - accuracy: 0.1457 - val_loss: 2.2388 - val_accuracy: 0.2000\n",
      "Epoch 3/50\n",
      "11/11 [==============================] - 5s 460ms/step - loss: 2.1983 - accuracy: 0.2114 - val_loss: 2.2325 - val_accuracy: 0.2000\n",
      "Epoch 4/50\n",
      "11/11 [==============================] - 5s 462ms/step - loss: 2.2133 - accuracy: 0.1829 - val_loss: 2.2067 - val_accuracy: 0.2222\n",
      "Epoch 5/50\n",
      "11/11 [==============================] - 5s 457ms/step - loss: 2.1673 - accuracy: 0.2114 - val_loss: 2.2139 - val_accuracy: 0.2889\n",
      "Epoch 6/50\n",
      "11/11 [==============================] - 5s 460ms/step - loss: 2.1177 - accuracy: 0.2400 - val_loss: 2.1717 - val_accuracy: 0.2444\n",
      "Epoch 7/50\n",
      "11/11 [==============================] - 5s 459ms/step - loss: 2.0919 - accuracy: 0.2486 - val_loss: 2.1795 - val_accuracy: 0.2444\n",
      "Epoch 8/50\n",
      "11/11 [==============================] - 5s 457ms/step - loss: 2.0274 - accuracy: 0.3171 - val_loss: 2.1403 - val_accuracy: 0.2444\n",
      "Epoch 9/50\n",
      "11/11 [==============================] - 5s 457ms/step - loss: 2.0234 - accuracy: 0.2943 - val_loss: 2.1385 - val_accuracy: 0.2444\n",
      "Epoch 10/50\n",
      "11/11 [==============================] - 5s 457ms/step - loss: 1.9946 - accuracy: 0.3171 - val_loss: 2.0459 - val_accuracy: 0.2667\n",
      "Epoch 11/50\n",
      "11/11 [==============================] - 5s 460ms/step - loss: 1.8972 - accuracy: 0.3429 - val_loss: 2.0259 - val_accuracy: 0.3111\n",
      "Epoch 12/50\n",
      "11/11 [==============================] - 5s 456ms/step - loss: 1.8614 - accuracy: 0.3657 - val_loss: 2.0276 - val_accuracy: 0.2667\n",
      "Epoch 13/50\n",
      "11/11 [==============================] - 5s 461ms/step - loss: 1.8564 - accuracy: 0.3857 - val_loss: 1.9882 - val_accuracy: 0.3111\n",
      "Epoch 14/50\n",
      "11/11 [==============================] - 5s 459ms/step - loss: 1.8080 - accuracy: 0.3914 - val_loss: 1.9661 - val_accuracy: 0.2889\n",
      "Epoch 15/50\n",
      "11/11 [==============================] - 5s 458ms/step - loss: 1.7509 - accuracy: 0.4429 - val_loss: 1.9474 - val_accuracy: 0.3111\n",
      "Epoch 16/50\n",
      "11/11 [==============================] - 5s 460ms/step - loss: 1.7592 - accuracy: 0.4286 - val_loss: 1.8966 - val_accuracy: 0.4000\n",
      "Epoch 17/50\n",
      "11/11 [==============================] - 5s 456ms/step - loss: 1.6702 - accuracy: 0.4714 - val_loss: 1.8502 - val_accuracy: 0.3111\n",
      "Epoch 18/50\n",
      "11/11 [==============================] - 5s 463ms/step - loss: 1.5976 - accuracy: 0.4514 - val_loss: 1.7751 - val_accuracy: 0.4000\n",
      "Epoch 19/50\n",
      "11/11 [==============================] - 5s 460ms/step - loss: 1.5808 - accuracy: 0.4686 - val_loss: 1.7768 - val_accuracy: 0.3556\n",
      "Epoch 20/50\n",
      "11/11 [==============================] - 5s 466ms/step - loss: 1.4917 - accuracy: 0.5171 - val_loss: 1.7642 - val_accuracy: 0.2889\n",
      "Epoch 21/50\n",
      "11/11 [==============================] - 6s 523ms/step - loss: 1.4811 - accuracy: 0.5143 - val_loss: 1.6882 - val_accuracy: 0.4444\n",
      "Epoch 22/50\n",
      "11/11 [==============================] - 6s 529ms/step - loss: 1.4141 - accuracy: 0.5314 - val_loss: 1.6613 - val_accuracy: 0.4000\n",
      "Epoch 23/50\n",
      "11/11 [==============================] - 6s 513ms/step - loss: 1.3954 - accuracy: 0.5543 - val_loss: 1.6282 - val_accuracy: 0.5111\n",
      "Epoch 24/50\n",
      "11/11 [==============================] - 6s 521ms/step - loss: 1.2960 - accuracy: 0.5886 - val_loss: 1.5580 - val_accuracy: 0.4000\n",
      "Epoch 25/50\n",
      "11/11 [==============================] - 6s 523ms/step - loss: 1.3048 - accuracy: 0.6000 - val_loss: 1.5294 - val_accuracy: 0.5333\n",
      "Epoch 26/50\n",
      "11/11 [==============================] - 6s 546ms/step - loss: 1.2161 - accuracy: 0.6314 - val_loss: 1.5815 - val_accuracy: 0.4444\n",
      "Epoch 27/50\n",
      "11/11 [==============================] - 6s 541ms/step - loss: 1.1073 - accuracy: 0.6600 - val_loss: 1.4794 - val_accuracy: 0.4889\n",
      "Epoch 28/50\n",
      "11/11 [==============================] - 6s 542ms/step - loss: 1.1588 - accuracy: 0.6343 - val_loss: 1.4439 - val_accuracy: 0.5111\n",
      "Epoch 29/50\n",
      "11/11 [==============================] - 6s 543ms/step - loss: 1.1011 - accuracy: 0.6629 - val_loss: 1.5076 - val_accuracy: 0.5333\n",
      "Epoch 30/50\n",
      "11/11 [==============================] - 6s 542ms/step - loss: 1.0688 - accuracy: 0.6686 - val_loss: 1.4856 - val_accuracy: 0.5333\n",
      "Epoch 31/50\n",
      "11/11 [==============================] - 6s 541ms/step - loss: 1.0746 - accuracy: 0.6686 - val_loss: 1.4252 - val_accuracy: 0.5556\n",
      "Epoch 32/50\n",
      "11/11 [==============================] - 6s 545ms/step - loss: 0.9731 - accuracy: 0.7086 - val_loss: 1.4593 - val_accuracy: 0.5333\n",
      "Epoch 33/50\n",
      "11/11 [==============================] - 6s 543ms/step - loss: 0.9759 - accuracy: 0.7114 - val_loss: 1.3814 - val_accuracy: 0.5556\n",
      "Epoch 34/50\n",
      "11/11 [==============================] - 6s 540ms/step - loss: 0.9139 - accuracy: 0.7000 - val_loss: 1.4160 - val_accuracy: 0.5111\n",
      "Epoch 35/50\n",
      "11/11 [==============================] - 6s 548ms/step - loss: 0.8802 - accuracy: 0.7257 - val_loss: 1.4012 - val_accuracy: 0.6000\n",
      "Epoch 36/50\n",
      "11/11 [==============================] - 6s 502ms/step - loss: 0.8187 - accuracy: 0.7743 - val_loss: 1.4115 - val_accuracy: 0.6000\n",
      "Epoch 37/50\n",
      "11/11 [==============================] - 6s 534ms/step - loss: 0.7849 - accuracy: 0.7743 - val_loss: 1.4361 - val_accuracy: 0.5556\n",
      "Epoch 38/50\n",
      "11/11 [==============================] - 6s 543ms/step - loss: 0.7770 - accuracy: 0.7829 - val_loss: 1.4037 - val_accuracy: 0.5556\n"
     ]
    }
   ],
   "source": [
    "history = model.fit(X_train, y_train, epochs = EPOCHS, validation_data = (X_val, y_val), callbacks=[early_stopping])"
   ]
  },
  {
   "cell_type": "markdown",
   "id": "57ec1982",
   "metadata": {},
   "source": [
    "### Train & validation Loss"
   ]
  },
  {
   "cell_type": "code",
   "execution_count": 7,
   "id": "b6c8d1db",
   "metadata": {},
   "outputs": [
    {
     "data": {
      "text/plain": [
       "<matplotlib.legend.Legend at 0x1ab3e0249a0>"
      ]
     },
     "execution_count": 7,
     "metadata": {},
     "output_type": "execute_result"
    },
    {
     "data": {
      "image/png": "[encoded data removed]",
      "text/plain": [
       "<Figure size 432x288 with 1 Axes>"
      ]
     },
     "metadata": {
      "needs_background": "light"
     },
     "output_type": "display_data"
    }
   ],
   "source": [
    "plt.plot(history.history['loss'], label='loss')\n",
    "plt.plot(history.history['val_loss'], label = 'val_loss')\n",
    "plt.xlabel('Epoch')\n",
    "plt.ylabel('Loss')\n",
    "plt.ylim([0.0, 3])\n",
    "plt.legend(loc='lower right')"
   ]
  },
  {
   "cell_type": "markdown",
   "id": "7af69023",
   "metadata": {},
   "source": [
    "### Train & validation Accuracy"
   ]
  },
  {
   "cell_type": "code",
   "execution_count": 8,
   "id": "0bb8dfca",
   "metadata": {},
   "outputs": [
    {
     "data": {
      "text/plain": [
       "<matplotlib.legend.Legend at 0x1ae70d9c670>"
      ]
     },
     "execution_count": 8,
     "metadata": {},
     "output_type": "execute_result"
    },
    {
     "data": {
      "image/png": "[encoded data removed]",
      "text/plain": [
       "<Figure size 432x288 with 1 Axes>"
      ]
     },
     "metadata": {
      "needs_background": "light"
     },
     "output_type": "display_data"
    }
   ],
   "source": [
    "plt.plot(history.history['accuracy'], label='accuracy')\n",
    "plt.plot(history.history['val_accuracy'], label = 'val_accuracy')\n",
    "plt.xlabel('Epoch')\n",
    "plt.ylabel('Accuracy')\n",
    "plt.ylim([0.0, 1])\n",
    "plt.legend(loc='lower right')"
   ]
  },
  {
   "cell_type": "markdown",
   "id": "9b30546c",
   "metadata": {},
   "source": [
    "## Test"
   ]
  },
  {
   "cell_type": "code",
   "execution_count": 9,
   "id": "cf4c662a",
   "metadata": {},
   "outputs": [
    {
     "name": "stdout",
     "output_type": "stream",
     "text": [
      "4/4 [==============================] - 1s 153ms/step\n"
     ]
    }
   ],
   "source": [
    "predict = np.argmax(model.predict(X_test), axis=1)"
   ]
  },
  {
   "cell_type": "code",
   "execution_count": 10,
   "id": "6ec7a04a",
   "metadata": {},
   "outputs": [
    {
     "name": "stdout",
     "output_type": "stream",
     "text": [
      "              precision    recall  f1-score   support\n",
      "\n",
      "           0       0.62      0.53      0.57        15\n",
      "           1       0.90      0.56      0.69        16\n",
      "           2       0.33      0.60      0.43         5\n",
      "           3       0.39      0.78      0.52         9\n",
      "           4       0.25      0.30      0.27        10\n",
      "           5       0.60      0.38      0.46         8\n",
      "           6       0.67      0.29      0.40        14\n",
      "           7       0.57      0.40      0.47        10\n",
      "           8       0.43      0.33      0.38         9\n",
      "           9       0.39      0.78      0.52         9\n",
      "\n",
      "    accuracy                           0.49       105\n",
      "   macro avg       0.51      0.49      0.47       105\n",
      "weighted avg       0.56      0.49      0.49       105\n",
      "\n"
     ]
    }
   ],
   "source": [
    "print(classification_report(y_test, predict))"
   ]
  },
  {
   "cell_type": "code",
   "execution_count": 11,
   "id": "9433cc53",
   "metadata": {},
   "outputs": [
    {
     "data": {
      "image/png": "[encoded data removed]",
      "text/plain": [
       "<Figure size 400x400 with 2 Axes>"
      ]
     },
     "metadata": {
      "needs_background": "light"
     },
     "output_type": "display_data"
    }
   ],
   "source": [
    "fig = plt.figure(figsize=(CLASS_COUNT // 2, CLASS_COUNT // 2), dpi=80)\n",
    "M = confusion_matrix(predict, y_test)\n",
    "plt.imshow(M, interpolation = 'nearest')\n",
    "plt.set_cmap('binary')\n",
    "plt.xticks(range(CLASS_COUNT))\n",
    "plt.yticks(range(CLASS_COUNT))\n",
    "plt.xlabel(\"true label\")\n",
    "plt.ylabel(\"predicted label\")\n",
    "plt.colorbar()\n",
    "pass"
   ]
  },
  {
   "cell_type": "code",
   "execution_count": null,
   "id": "5c484710",
   "metadata": {},
   "outputs": [],
   "source": []
  }
 ],
 "metadata": {
  "kernelspec": {
   "display_name": "Python 3 (ipykernel)",
   "language": "python",
   "name": "python3"
  },
  "language_info": {
   "codemirror_mode": {
    "name": "ipython",
    "version": 3
   },
   "file_extension": ".py",
   "mimetype": "text/x-python",
   "name": "python",
   "nbconvert_exporter": "python",
   "pygments_lexer": "ipython3",
   "version": "3.9.6"
  }
 },
 "nbformat": 4,
 "nbformat_minor": 5
}
