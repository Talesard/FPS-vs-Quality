{
 "cells": [
  {
   "cell_type": "code",
   "execution_count": 1,
   "id": "867cbce7",
   "metadata": {},
   "outputs": [],
   "source": [
    "import os\n",
    "\n",
    "import cv2\n",
    "from matplotlib import pyplot as plt\n",
    "from tqdm.notebook import trange, tqdm\n",
    "import numpy as np\n",
    "import tensorflow as tf\n",
    "import random\n",
    "from sklearn import preprocessing\n",
    "from sklearn.model_selection import train_test_split\n",
    "from tensorflow.keras import layers, models, utils\n",
    "from sklearn.metrics import classification_report, confusion_matrix\n",
    "\n",
    "from data_utils import read_and_preprocess_data\n",
    "from model_utils import *"
   ]
  },
  {
   "cell_type": "markdown",
   "id": "d6e5fe95",
   "metadata": {},
   "source": [
    "## Settings"
   ]
  },
  {
   "cell_type": "code",
   "execution_count": 2,
   "id": "c83c0d21",
   "metadata": {},
   "outputs": [],
   "source": [
    "FRAME_SIZE = 128\n",
    "DATA_PATH = './2sec/data_12_fps'\n",
    "EPOCHS = 50"
   ]
  },
  {
   "cell_type": "markdown",
   "id": "68882663",
   "metadata": {},
   "source": [
    "## Data"
   ]
  },
  {
   "cell_type": "code",
   "execution_count": 3,
   "id": "41431d91",
   "metadata": {},
   "outputs": [
    {
     "name": "stdout",
     "output_type": "stream",
     "text": [
      "reading...\n",
      "BalanceBeam\n",
      "CricketShot\n",
      "Fencing\n",
      "HorseRiding\n",
      "LongJump\n",
      "RockClimbingIndoor\n",
      "SalsaSpin\n",
      "SkyDiving\n",
      "TableTennisShot\n",
      "WallPushups\n",
      "class count = 10\n",
      "med frame count = 24.0\n",
      "padding...\n",
      "Labels encoding...\n",
      "(500,) (500, 24, 128, 128, 3)\n",
      "norm...\n",
      "Train-val-test split...\n",
      "Train: (350, 24, 128, 128, 3) (350,)\n",
      "Val: (45, 24, 128, 128, 3) (45,)\n",
      "Test: (105, 24, 128, 128, 3) (105,)\n"
     ]
    }
   ],
   "source": [
    "CLASS_COUNT, FRAME_COUNT, FRAME_SIZE, X_train, X_val, X_test, y_train, y_val, y_test = read_and_preprocess_data(DATA_PATH, FRAME_SIZE)"
   ]
  },
  {
   "cell_type": "markdown",
   "id": "f99a5cc9",
   "metadata": {},
   "source": [
    "## Model"
   ]
  },
  {
   "cell_type": "code",
   "execution_count": 4,
   "id": "b687e133",
   "metadata": {},
   "outputs": [
    {
     "name": "stdout",
     "output_type": "stream",
     "text": [
      "Model: \"sequential\"\n",
      "_________________________________________________________________\n",
      " Layer (type)                Output Shape              Param #   \n",
      "=================================================================\n",
      " time_distributed (TimeDistr  (None, 24, 62, 62, 64)   4864      \n",
      " ibuted)                                                         \n",
      "                                                                 \n",
      " batch_normalization (BatchN  (None, 24, 62, 62, 64)   248       \n",
      " ormalization)                                                   \n",
      "                                                                 \n",
      " activation (Activation)     (None, 24, 62, 62, 64)    0         \n",
      "                                                                 \n",
      " time_distributed_1 (TimeDis  (None, 24, 30, 30, 32)   32800     \n",
      " tributed)                                                       \n",
      "                                                                 \n",
      " batch_normalization_1 (Batc  (None, 24, 30, 30, 32)   120       \n",
      " hNormalization)                                                 \n",
      "                                                                 \n",
      " activation_1 (Activation)   (None, 24, 30, 30, 32)    0         \n",
      "                                                                 \n",
      " time_distributed_2 (TimeDis  (None, 24, 14, 14, 32)   9248      \n",
      " tributed)                                                       \n",
      "                                                                 \n",
      " batch_normalization_2 (Batc  (None, 24, 14, 14, 32)   56        \n",
      " hNormalization)                                                 \n",
      "                                                                 \n",
      " activation_2 (Activation)   (None, 24, 14, 14, 32)    0         \n",
      "                                                                 \n",
      " time_distributed_3 (TimeDis  (None, 24, 12, 12, 16)   4624      \n",
      " tributed)                                                       \n",
      "                                                                 \n",
      " batch_normalization_3 (Batc  (None, 24, 12, 12, 16)   48        \n",
      " hNormalization)                                                 \n",
      "                                                                 \n",
      " activation_3 (Activation)   (None, 24, 12, 12, 16)    0         \n",
      "                                                                 \n",
      " time_distributed_4 (TimeDis  (None, 24, 6, 6, 16)     0         \n",
      " tributed)                                                       \n",
      "                                                                 \n",
      " time_distributed_5 (TimeDis  (None, 24, 576)          0         \n",
      " tributed)                                                       \n",
      "                                                                 \n",
      " simple_rnn (SimpleRNN)      (None, 24, 16)            9488      \n",
      "                                                                 \n",
      " attention (attention)       (None, 16)                40        \n",
      "                                                                 \n",
      " dense (Dense)               (None, 20)                340       \n",
      "                                                                 \n",
      " dropout (Dropout)           (None, 20)                0         \n",
      "                                                                 \n",
      " dense_1 (Dense)             (None, 10)                210       \n",
      "                                                                 \n",
      "=================================================================\n",
      "Total params: 62,086\n",
      "Trainable params: 61,850\n",
      "Non-trainable params: 236\n",
      "_________________________________________________________________\n"
     ]
    }
   ],
   "source": [
    "model = models.Sequential()\n",
    "model = add_2d_cnn_part(model, FRAME_COUNT, FRAME_SIZE)\n",
    "model.add(layers.TimeDistributed(layers.Flatten()))\n",
    "model = add_rnn_part(model, return_sequences=True)\n",
    "model.add(attention())\n",
    "model = add_dense_part(model, CLASS_COUNT)\n",
    "\n",
    "model.summary()"
   ]
  },
  {
   "cell_type": "code",
   "execution_count": 5,
   "id": "963ff906",
   "metadata": {},
   "outputs": [],
   "source": [
    "model.compile(optimizer='adam',\n",
    "              loss=tf.keras.losses.SparseCategoricalCrossentropy(from_logits=False),\n",
    "              metrics=['accuracy'],\n",
    "              )\n"
   ]
  },
  {
   "cell_type": "code",
   "execution_count": 6,
   "id": "20cf9db7",
   "metadata": {},
   "outputs": [
    {
     "name": "stdout",
     "output_type": "stream",
     "text": [
      "Epoch 1/50\n",
      "11/11 [==============================] - 14s 682ms/step - loss: 2.3650 - accuracy: 0.1229 - val_loss: 2.2955 - val_accuracy: 0.1111\n",
      "Epoch 2/50\n",
      "11/11 [==============================] - 4s 402ms/step - loss: 2.3068 - accuracy: 0.0971 - val_loss: 2.2674 - val_accuracy: 0.1111\n",
      "Epoch 3/50\n",
      "11/11 [==============================] - 4s 401ms/step - loss: 2.2884 - accuracy: 0.1314 - val_loss: 2.2810 - val_accuracy: 0.0667\n",
      "Epoch 4/50\n",
      "11/11 [==============================] - 4s 402ms/step - loss: 2.2798 - accuracy: 0.1457 - val_loss: 2.2842 - val_accuracy: 0.1333\n",
      "Epoch 5/50\n",
      "11/11 [==============================] - 4s 402ms/step - loss: 2.2464 - accuracy: 0.2171 - val_loss: 2.2451 - val_accuracy: 0.0667\n",
      "Epoch 6/50\n",
      "11/11 [==============================] - 4s 403ms/step - loss: 2.2202 - accuracy: 0.1543 - val_loss: 2.2451 - val_accuracy: 0.0889\n",
      "Epoch 7/50\n",
      "11/11 [==============================] - 4s 405ms/step - loss: 2.2103 - accuracy: 0.1714 - val_loss: 2.2134 - val_accuracy: 0.1556\n",
      "Epoch 8/50\n",
      "11/11 [==============================] - 4s 403ms/step - loss: 2.1973 - accuracy: 0.1771 - val_loss: 2.2144 - val_accuracy: 0.0444\n",
      "Epoch 9/50\n",
      "11/11 [==============================] - 4s 405ms/step - loss: 2.1392 - accuracy: 0.2257 - val_loss: 2.1655 - val_accuracy: 0.1778\n",
      "Epoch 10/50\n",
      "11/11 [==============================] - 4s 405ms/step - loss: 2.1434 - accuracy: 0.2171 - val_loss: 2.1373 - val_accuracy: 0.1333\n",
      "Epoch 11/50\n",
      "11/11 [==============================] - 4s 403ms/step - loss: 2.0920 - accuracy: 0.2257 - val_loss: 2.1338 - val_accuracy: 0.1556\n",
      "Epoch 12/50\n",
      "11/11 [==============================] - 4s 402ms/step - loss: 2.0567 - accuracy: 0.2629 - val_loss: 2.1570 - val_accuracy: 0.1778\n",
      "Epoch 13/50\n",
      "11/11 [==============================] - 4s 402ms/step - loss: 2.0239 - accuracy: 0.2486 - val_loss: 2.0931 - val_accuracy: 0.2444\n",
      "Epoch 14/50\n",
      "11/11 [==============================] - 4s 403ms/step - loss: 1.9746 - accuracy: 0.2829 - val_loss: 2.0346 - val_accuracy: 0.2444\n",
      "Epoch 15/50\n",
      "11/11 [==============================] - 4s 407ms/step - loss: 1.9318 - accuracy: 0.3200 - val_loss: 2.0033 - val_accuracy: 0.3111\n",
      "Epoch 16/50\n",
      "11/11 [==============================] - 4s 391ms/step - loss: 1.8902 - accuracy: 0.3429 - val_loss: 2.1182 - val_accuracy: 0.1778\n",
      "Epoch 17/50\n",
      "11/11 [==============================] - 4s 346ms/step - loss: 1.8798 - accuracy: 0.3657 - val_loss: 2.0029 - val_accuracy: 0.2889\n",
      "Epoch 18/50\n",
      "11/11 [==============================] - 4s 387ms/step - loss: 1.7887 - accuracy: 0.3971 - val_loss: 1.9620 - val_accuracy: 0.3778\n",
      "Epoch 19/50\n",
      "11/11 [==============================] - 4s 383ms/step - loss: 1.7512 - accuracy: 0.4143 - val_loss: 1.8905 - val_accuracy: 0.3778\n",
      "Epoch 20/50\n",
      "11/11 [==============================] - 4s 403ms/step - loss: 1.6953 - accuracy: 0.4200 - val_loss: 1.8580 - val_accuracy: 0.4000\n",
      "Epoch 21/50\n",
      "11/11 [==============================] - 4s 403ms/step - loss: 1.6102 - accuracy: 0.4543 - val_loss: 1.8149 - val_accuracy: 0.4667\n",
      "Epoch 22/50\n",
      "11/11 [==============================] - 4s 404ms/step - loss: 1.6463 - accuracy: 0.4286 - val_loss: 1.7659 - val_accuracy: 0.4444\n",
      "Epoch 23/50\n",
      "11/11 [==============================] - 4s 405ms/step - loss: 1.5574 - accuracy: 0.5029 - val_loss: 1.7572 - val_accuracy: 0.4444\n",
      "Epoch 24/50\n",
      "11/11 [==============================] - 4s 405ms/step - loss: 1.4863 - accuracy: 0.5057 - val_loss: 1.6961 - val_accuracy: 0.4667\n",
      "Epoch 25/50\n",
      "11/11 [==============================] - 4s 410ms/step - loss: 1.4300 - accuracy: 0.5143 - val_loss: 1.5971 - val_accuracy: 0.4222\n",
      "Epoch 26/50\n",
      "11/11 [==============================] - 4s 405ms/step - loss: 1.4233 - accuracy: 0.5457 - val_loss: 1.6105 - val_accuracy: 0.4889\n",
      "Epoch 27/50\n",
      "11/11 [==============================] - 4s 407ms/step - loss: 1.3688 - accuracy: 0.5486 - val_loss: 1.5867 - val_accuracy: 0.4444\n",
      "Epoch 28/50\n",
      "11/11 [==============================] - 4s 393ms/step - loss: 1.3221 - accuracy: 0.6057 - val_loss: 1.5509 - val_accuracy: 0.4889\n",
      "Epoch 29/50\n",
      "11/11 [==============================] - 4s 348ms/step - loss: 1.2182 - accuracy: 0.6171 - val_loss: 1.5652 - val_accuracy: 0.5333\n",
      "Epoch 30/50\n",
      "11/11 [==============================] - 4s 348ms/step - loss: 1.2690 - accuracy: 0.5829 - val_loss: 1.4846 - val_accuracy: 0.5556\n",
      "Epoch 31/50\n",
      "11/11 [==============================] - 4s 376ms/step - loss: 1.1944 - accuracy: 0.6314 - val_loss: 1.4856 - val_accuracy: 0.5556\n",
      "Epoch 32/50\n",
      "11/11 [==============================] - 4s 345ms/step - loss: 1.1681 - accuracy: 0.6543 - val_loss: 1.5022 - val_accuracy: 0.5556\n",
      "Epoch 33/50\n",
      "11/11 [==============================] - 4s 347ms/step - loss: 1.1101 - accuracy: 0.6829 - val_loss: 1.4522 - val_accuracy: 0.5333\n",
      "Epoch 34/50\n",
      "11/11 [==============================] - 4s 345ms/step - loss: 1.1268 - accuracy: 0.6600 - val_loss: 1.4445 - val_accuracy: 0.5111\n",
      "Epoch 35/50\n",
      "11/11 [==============================] - 4s 341ms/step - loss: 1.0014 - accuracy: 0.7057 - val_loss: 1.5169 - val_accuracy: 0.4667\n",
      "Epoch 36/50\n",
      "11/11 [==============================] - 4s 371ms/step - loss: 0.9699 - accuracy: 0.7314 - val_loss: 1.4311 - val_accuracy: 0.5556\n",
      "Epoch 37/50\n",
      "11/11 [==============================] - 4s 402ms/step - loss: 0.9560 - accuracy: 0.7086 - val_loss: 1.4838 - val_accuracy: 0.5333\n",
      "Epoch 38/50\n",
      "11/11 [==============================] - 5s 414ms/step - loss: 0.9730 - accuracy: 0.7143 - val_loss: 1.5273 - val_accuracy: 0.5111\n",
      "Epoch 39/50\n",
      "11/11 [==============================] - 4s 357ms/step - loss: 0.9406 - accuracy: 0.7200 - val_loss: 1.4162 - val_accuracy: 0.5778\n",
      "Epoch 40/50\n",
      "11/11 [==============================] - 4s 345ms/step - loss: 0.8321 - accuracy: 0.7457 - val_loss: 1.4413 - val_accuracy: 0.6222\n",
      "Epoch 41/50\n",
      "11/11 [==============================] - 4s 345ms/step - loss: 0.9131 - accuracy: 0.7171 - val_loss: 1.3607 - val_accuracy: 0.6444\n",
      "Epoch 42/50\n",
      "11/11 [==============================] - 4s 343ms/step - loss: 0.8409 - accuracy: 0.7429 - val_loss: 1.4324 - val_accuracy: 0.6000\n",
      "Epoch 43/50\n",
      "11/11 [==============================] - 4s 345ms/step - loss: 0.7717 - accuracy: 0.7486 - val_loss: 1.3941 - val_accuracy: 0.6222\n",
      "Epoch 44/50\n",
      "11/11 [==============================] - 4s 343ms/step - loss: 0.7906 - accuracy: 0.7800 - val_loss: 1.4889 - val_accuracy: 0.5333\n",
      "Epoch 45/50\n",
      "11/11 [==============================] - 4s 345ms/step - loss: 0.7401 - accuracy: 0.7629 - val_loss: 1.3909 - val_accuracy: 0.6000\n",
      "Epoch 46/50\n",
      "11/11 [==============================] - 4s 347ms/step - loss: 0.7255 - accuracy: 0.7657 - val_loss: 1.4382 - val_accuracy: 0.6000\n"
     ]
    }
   ],
   "source": [
    "history = model.fit(X_train, y_train, epochs = EPOCHS, validation_data = (X_val, y_val), callbacks=[early_stopping])"
   ]
  },
  {
   "cell_type": "markdown",
   "id": "57ec1982",
   "metadata": {},
   "source": [
    "### Train & validation Loss"
   ]
  },
  {
   "cell_type": "code",
   "execution_count": 7,
   "id": "b6c8d1db",
   "metadata": {},
   "outputs": [
    {
     "data": {
      "text/plain": [
       "<matplotlib.legend.Legend at 0x13cd0a43be0>"
      ]
     },
     "execution_count": 7,
     "metadata": {},
     "output_type": "execute_result"
    },
    {
     "data": {
      "image/png": "[encoded data removed]",
      "text/plain": [
       "<Figure size 432x288 with 1 Axes>"
      ]
     },
     "metadata": {
      "needs_background": "light"
     },
     "output_type": "display_data"
    }
   ],
   "source": [
    "plt.plot(history.history['loss'], label='loss')\n",
    "plt.plot(history.history['val_loss'], label = 'val_loss')\n",
    "plt.xlabel('Epoch')\n",
    "plt.ylabel('Loss')\n",
    "plt.ylim([0.0, 3])\n",
    "plt.legend(loc='lower right')"
   ]
  },
  {
   "cell_type": "markdown",
   "id": "7af69023",
   "metadata": {},
   "source": [
    "### Train & validation Accuracy"
   ]
  },
  {
   "cell_type": "code",
   "execution_count": 8,
   "id": "0bb8dfca",
   "metadata": {},
   "outputs": [
    {
     "data": {
      "text/plain": [
       "<matplotlib.legend.Legend at 0x13cd1b216d0>"
      ]
     },
     "execution_count": 8,
     "metadata": {},
     "output_type": "execute_result"
    },
    {
     "data": {
      "image/png": "[encoded data removed]",
      "text/plain": [
       "<Figure size 432x288 with 1 Axes>"
      ]
     },
     "metadata": {
      "needs_background": "light"
     },
     "output_type": "display_data"
    }
   ],
   "source": [
    "plt.plot(history.history['accuracy'], label='accuracy')\n",
    "plt.plot(history.history['val_accuracy'], label = 'val_accuracy')\n",
    "plt.xlabel('Epoch')\n",
    "plt.ylabel('Accuracy')\n",
    "plt.ylim([0.0, 1])\n",
    "plt.legend(loc='lower right')"
   ]
  },
  {
   "cell_type": "markdown",
   "id": "9b30546c",
   "metadata": {},
   "source": [
    "## Test"
   ]
  },
  {
   "cell_type": "code",
   "execution_count": 9,
   "id": "cf4c662a",
   "metadata": {},
   "outputs": [
    {
     "name": "stdout",
     "output_type": "stream",
     "text": [
      "4/4 [==============================] - 1s 97ms/step\n"
     ]
    }
   ],
   "source": [
    "predict = np.argmax(model.predict(X_test), axis=1)"
   ]
  },
  {
   "cell_type": "code",
   "execution_count": 10,
   "id": "6ec7a04a",
   "metadata": {},
   "outputs": [
    {
     "name": "stdout",
     "output_type": "stream",
     "text": [
      "              precision    recall  f1-score   support\n",
      "\n",
      "           0       0.62      0.87      0.72        15\n",
      "           1       0.53      0.50      0.52        16\n",
      "           2       0.40      0.40      0.40         5\n",
      "           3       0.58      0.78      0.67         9\n",
      "           4       0.67      0.60      0.63        10\n",
      "           5       0.25      0.25      0.25         8\n",
      "           6       0.50      0.29      0.36        14\n",
      "           7       0.70      0.70      0.70        10\n",
      "           8       0.44      0.44      0.44         9\n",
      "           9       0.75      0.67      0.71         9\n",
      "\n",
      "    accuracy                           0.56       105\n",
      "   macro avg       0.54      0.55      0.54       105\n",
      "weighted avg       0.56      0.56      0.55       105\n",
      "\n"
     ]
    }
   ],
   "source": [
    "print(classification_report(y_test, predict))"
   ]
  },
  {
   "cell_type": "code",
   "execution_count": 11,
   "id": "9433cc53",
   "metadata": {},
   "outputs": [
    {
     "data": {
      "image/png": "[encoded data removed]",
      "text/plain": [
       "<Figure size 400x400 with 2 Axes>"
      ]
     },
     "metadata": {
      "needs_background": "light"
     },
     "output_type": "display_data"
    }
   ],
   "source": [
    "fig = plt.figure(figsize=(CLASS_COUNT // 2, CLASS_COUNT // 2), dpi=80)\n",
    "M = confusion_matrix(predict, y_test)\n",
    "plt.imshow(M, interpolation = 'nearest')\n",
    "plt.set_cmap('binary')\n",
    "plt.xticks(range(CLASS_COUNT))\n",
    "plt.yticks(range(CLASS_COUNT))\n",
    "plt.xlabel(\"true label\")\n",
    "plt.ylabel(\"predicted label\")\n",
    "plt.colorbar()\n",
    "pass"
   ]
  },
  {
   "cell_type": "code",
   "execution_count": null,
   "id": "5c484710",
   "metadata": {},
   "outputs": [],
   "source": []
  }
 ],
 "metadata": {
  "kernelspec": {
   "display_name": "Python 3 (ipykernel)",
   "language": "python",
   "name": "python3"
  },
  "language_info": {
   "codemirror_mode": {
    "name": "ipython",
    "version": 3
   },
   "file_extension": ".py",
   "mimetype": "text/x-python",
   "name": "python",
   "nbconvert_exporter": "python",
   "pygments_lexer": "ipython3",
   "version": "3.9.6"
  }
 },
 "nbformat": 4,
 "nbformat_minor": 5
}
