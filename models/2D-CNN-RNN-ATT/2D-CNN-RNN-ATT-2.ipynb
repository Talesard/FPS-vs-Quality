{
 "cells": [
  {
   "cell_type": "code",
   "execution_count": 1,
   "id": "867cbce7",
   "metadata": {},
   "outputs": [],
   "source": [
    "import os\n",
    "\n",
    "import cv2\n",
    "from matplotlib import pyplot as plt\n",
    "from tqdm.notebook import trange, tqdm\n",
    "import numpy as np\n",
    "import tensorflow as tf\n",
    "import random\n",
    "from sklearn import preprocessing\n",
    "from sklearn.model_selection import train_test_split\n",
    "from tensorflow.keras import layers, models, utils\n",
    "from sklearn.metrics import classification_report, confusion_matrix\n",
    "\n",
    "from data_utils import read_and_preprocess_data\n",
    "from model_utils import *"
   ]
  },
  {
   "cell_type": "markdown",
   "id": "d6e5fe95",
   "metadata": {},
   "source": [
    "## Settings"
   ]
  },
  {
   "cell_type": "code",
   "execution_count": 2,
   "id": "c83c0d21",
   "metadata": {},
   "outputs": [],
   "source": [
    "FRAME_SIZE = 128\n",
    "DATA_PATH = './2sec/data_2_fps'\n",
    "EPOCHS = 50"
   ]
  },
  {
   "cell_type": "markdown",
   "id": "68882663",
   "metadata": {},
   "source": [
    "## Data"
   ]
  },
  {
   "cell_type": "code",
   "execution_count": 3,
   "id": "41431d91",
   "metadata": {},
   "outputs": [
    {
     "name": "stdout",
     "output_type": "stream",
     "text": [
      "reading...\n",
      "BalanceBeam\n",
      "CricketShot\n",
      "Fencing\n",
      "HorseRiding\n",
      "LongJump\n",
      "RockClimbingIndoor\n",
      "SalsaSpin\n",
      "SkyDiving\n",
      "TableTennisShot\n",
      "WallPushups\n",
      "class count = 10\n",
      "med frame count = 4.0\n",
      "padding...\n",
      "Labels encoding...\n",
      "(500,) (500, 4, 128, 128, 3)\n",
      "norm...\n",
      "Train-val-test split...\n",
      "Train: (350, 4, 128, 128, 3) (350,)\n",
      "Val: (45, 4, 128, 128, 3) (45,)\n",
      "Test: (105, 4, 128, 128, 3) (105,)\n"
     ]
    }
   ],
   "source": [
    "CLASS_COUNT, FRAME_COUNT, FRAME_SIZE, X_train, X_val, X_test, y_train, y_val, y_test = read_and_preprocess_data(DATA_PATH, FRAME_SIZE)"
   ]
  },
  {
   "cell_type": "markdown",
   "id": "f99a5cc9",
   "metadata": {},
   "source": [
    "## Model"
   ]
  },
  {
   "cell_type": "code",
   "execution_count": 4,
   "id": "b687e133",
   "metadata": {},
   "outputs": [
    {
     "name": "stdout",
     "output_type": "stream",
     "text": [
      "Model: \"sequential\"\n",
      "_________________________________________________________________\n",
      " Layer (type)                Output Shape              Param #   \n",
      "=================================================================\n",
      " time_distributed (TimeDistr  (None, 4, 62, 62, 64)    4864      \n",
      " ibuted)                                                         \n",
      "                                                                 \n",
      " batch_normalization (BatchN  (None, 4, 62, 62, 64)    248       \n",
      " ormalization)                                                   \n",
      "                                                                 \n",
      " activation (Activation)     (None, 4, 62, 62, 64)     0         \n",
      "                                                                 \n",
      " time_distributed_1 (TimeDis  (None, 4, 30, 30, 32)    32800     \n",
      " tributed)                                                       \n",
      "                                                                 \n",
      " batch_normalization_1 (Batc  (None, 4, 30, 30, 32)    120       \n",
      " hNormalization)                                                 \n",
      "                                                                 \n",
      " activation_1 (Activation)   (None, 4, 30, 30, 32)     0         \n",
      "                                                                 \n",
      " time_distributed_2 (TimeDis  (None, 4, 14, 14, 32)    9248      \n",
      " tributed)                                                       \n",
      "                                                                 \n",
      " batch_normalization_2 (Batc  (None, 4, 14, 14, 32)    56        \n",
      " hNormalization)                                                 \n",
      "                                                                 \n",
      " activation_2 (Activation)   (None, 4, 14, 14, 32)     0         \n",
      "                                                                 \n",
      " time_distributed_3 (TimeDis  (None, 4, 12, 12, 16)    4624      \n",
      " tributed)                                                       \n",
      "                                                                 \n",
      " batch_normalization_3 (Batc  (None, 4, 12, 12, 16)    48        \n",
      " hNormalization)                                                 \n",
      "                                                                 \n",
      " activation_3 (Activation)   (None, 4, 12, 12, 16)     0         \n",
      "                                                                 \n",
      " time_distributed_4 (TimeDis  (None, 4, 6, 6, 16)      0         \n",
      " tributed)                                                       \n",
      "                                                                 \n",
      " time_distributed_5 (TimeDis  (None, 4, 576)           0         \n",
      " tributed)                                                       \n",
      "                                                                 \n",
      " simple_rnn (SimpleRNN)      (None, 4, 16)             9488      \n",
      "                                                                 \n",
      " attention (attention)       (None, 16)                20        \n",
      "                                                                 \n",
      " dense (Dense)               (None, 20)                340       \n",
      "                                                                 \n",
      " dropout (Dropout)           (None, 20)                0         \n",
      "                                                                 \n",
      " dense_1 (Dense)             (None, 10)                210       \n",
      "                                                                 \n",
      "=================================================================\n",
      "Total params: 62,066\n",
      "Trainable params: 61,830\n",
      "Non-trainable params: 236\n",
      "_________________________________________________________________\n"
     ]
    }
   ],
   "source": [
    "model = models.Sequential()\n",
    "model = add_2d_cnn_part(model, FRAME_COUNT, FRAME_SIZE)\n",
    "model.add(layers.TimeDistributed(layers.Flatten()))\n",
    "model = add_rnn_part(model, return_sequences=True)\n",
    "model.add(attention())\n",
    "model = add_dense_part(model, CLASS_COUNT)\n",
    "\n",
    "model.summary()"
   ]
  },
  {
   "cell_type": "code",
   "execution_count": 5,
   "id": "963ff906",
   "metadata": {},
   "outputs": [],
   "source": [
    "model.compile(optimizer='adam',\n",
    "              loss=tf.keras.losses.SparseCategoricalCrossentropy(from_logits=False),\n",
    "              metrics=['accuracy'],\n",
    "              )\n"
   ]
  },
  {
   "cell_type": "code",
   "execution_count": 6,
   "id": "20cf9db7",
   "metadata": {},
   "outputs": [
    {
     "name": "stdout",
     "output_type": "stream",
     "text": [
      "Epoch 1/50\n",
      "11/11 [==============================] - 7s 170ms/step - loss: 2.4078 - accuracy: 0.0971 - val_loss: 2.3391 - val_accuracy: 0.1111\n",
      "Epoch 2/50\n",
      "11/11 [==============================] - 1s 81ms/step - loss: 2.2795 - accuracy: 0.1629 - val_loss: 2.2899 - val_accuracy: 0.1778\n",
      "Epoch 3/50\n",
      "11/11 [==============================] - 1s 80ms/step - loss: 2.2512 - accuracy: 0.1886 - val_loss: 2.2794 - val_accuracy: 0.2667\n",
      "Epoch 4/50\n",
      "11/11 [==============================] - 1s 79ms/step - loss: 2.2098 - accuracy: 0.2057 - val_loss: 2.2566 - val_accuracy: 0.2222\n",
      "Epoch 5/50\n",
      "11/11 [==============================] - 1s 80ms/step - loss: 2.1584 - accuracy: 0.2029 - val_loss: 2.2255 - val_accuracy: 0.3111\n",
      "Epoch 6/50\n",
      "11/11 [==============================] - 1s 81ms/step - loss: 2.1272 - accuracy: 0.2086 - val_loss: 2.2070 - val_accuracy: 0.2444\n",
      "Epoch 7/50\n",
      "11/11 [==============================] - 1s 79ms/step - loss: 2.0848 - accuracy: 0.2400 - val_loss: 2.1647 - val_accuracy: 0.4000\n",
      "Epoch 8/50\n",
      "11/11 [==============================] - 1s 81ms/step - loss: 2.0227 - accuracy: 0.3000 - val_loss: 2.1464 - val_accuracy: 0.2889\n",
      "Epoch 9/50\n",
      "11/11 [==============================] - 1s 79ms/step - loss: 2.0249 - accuracy: 0.2857 - val_loss: 2.1363 - val_accuracy: 0.2444\n",
      "Epoch 10/50\n",
      "11/11 [==============================] - 1s 80ms/step - loss: 1.9617 - accuracy: 0.2914 - val_loss: 2.0845 - val_accuracy: 0.2667\n",
      "Epoch 11/50\n",
      "11/11 [==============================] - 1s 79ms/step - loss: 1.9186 - accuracy: 0.3343 - val_loss: 2.0898 - val_accuracy: 0.2889\n",
      "Epoch 12/50\n",
      "11/11 [==============================] - 1s 80ms/step - loss: 1.8525 - accuracy: 0.3343 - val_loss: 2.0249 - val_accuracy: 0.3333\n",
      "Epoch 13/50\n",
      "11/11 [==============================] - 1s 80ms/step - loss: 1.8385 - accuracy: 0.3629 - val_loss: 2.0030 - val_accuracy: 0.4000\n",
      "Epoch 14/50\n",
      "11/11 [==============================] - 1s 79ms/step - loss: 1.7897 - accuracy: 0.4114 - val_loss: 1.9331 - val_accuracy: 0.4222\n",
      "Epoch 15/50\n",
      "11/11 [==============================] - 1s 78ms/step - loss: 1.7117 - accuracy: 0.4057 - val_loss: 1.9968 - val_accuracy: 0.2444\n",
      "Epoch 16/50\n",
      "11/11 [==============================] - 1s 78ms/step - loss: 1.7172 - accuracy: 0.3800 - val_loss: 1.9354 - val_accuracy: 0.3111\n",
      "Epoch 17/50\n",
      "11/11 [==============================] - 1s 80ms/step - loss: 1.6822 - accuracy: 0.4057 - val_loss: 1.8560 - val_accuracy: 0.4222\n",
      "Epoch 18/50\n",
      "11/11 [==============================] - 1s 79ms/step - loss: 1.6247 - accuracy: 0.4686 - val_loss: 1.8812 - val_accuracy: 0.4222\n",
      "Epoch 19/50\n",
      "11/11 [==============================] - 1s 79ms/step - loss: 1.6003 - accuracy: 0.4543 - val_loss: 1.7807 - val_accuracy: 0.4222\n",
      "Epoch 20/50\n",
      "11/11 [==============================] - 1s 78ms/step - loss: 1.4433 - accuracy: 0.5314 - val_loss: 1.8168 - val_accuracy: 0.4000\n",
      "Epoch 21/50\n",
      "11/11 [==============================] - 1s 79ms/step - loss: 1.5110 - accuracy: 0.4971 - val_loss: 1.7459 - val_accuracy: 0.5111\n",
      "Epoch 22/50\n",
      "11/11 [==============================] - 1s 79ms/step - loss: 1.4331 - accuracy: 0.5114 - val_loss: 1.7045 - val_accuracy: 0.4444\n",
      "Epoch 23/50\n",
      "11/11 [==============================] - 1s 79ms/step - loss: 1.4470 - accuracy: 0.5429 - val_loss: 1.7870 - val_accuracy: 0.3778\n",
      "Epoch 24/50\n",
      "11/11 [==============================] - 1s 78ms/step - loss: 1.3581 - accuracy: 0.5771 - val_loss: 1.6652 - val_accuracy: 0.4444\n",
      "Epoch 25/50\n",
      "11/11 [==============================] - 1s 79ms/step - loss: 1.3179 - accuracy: 0.5771 - val_loss: 1.5790 - val_accuracy: 0.5333\n",
      "Epoch 26/50\n",
      "11/11 [==============================] - 1s 79ms/step - loss: 1.1699 - accuracy: 0.6343 - val_loss: 1.5792 - val_accuracy: 0.5111\n",
      "Epoch 27/50\n",
      "11/11 [==============================] - 1s 79ms/step - loss: 1.1370 - accuracy: 0.6486 - val_loss: 1.4706 - val_accuracy: 0.5778\n",
      "Epoch 28/50\n",
      "11/11 [==============================] - 1s 78ms/step - loss: 1.1123 - accuracy: 0.6657 - val_loss: 1.6435 - val_accuracy: 0.4444\n",
      "Epoch 29/50\n",
      "11/11 [==============================] - 1s 78ms/step - loss: 1.0745 - accuracy: 0.6857 - val_loss: 1.4791 - val_accuracy: 0.5556\n",
      "Epoch 30/50\n",
      "11/11 [==============================] - 1s 79ms/step - loss: 1.0632 - accuracy: 0.6629 - val_loss: 1.4408 - val_accuracy: 0.5333\n",
      "Epoch 31/50\n",
      "11/11 [==============================] - 1s 79ms/step - loss: 0.9924 - accuracy: 0.7114 - val_loss: 1.6194 - val_accuracy: 0.4889\n",
      "Epoch 32/50\n",
      "11/11 [==============================] - 1s 78ms/step - loss: 1.0482 - accuracy: 0.6543 - val_loss: 1.6538 - val_accuracy: 0.4889\n",
      "Epoch 33/50\n",
      "11/11 [==============================] - 1s 79ms/step - loss: 0.9687 - accuracy: 0.6943 - val_loss: 1.4399 - val_accuracy: 0.5556\n",
      "Epoch 34/50\n",
      "11/11 [==============================] - 1s 78ms/step - loss: 0.8605 - accuracy: 0.7343 - val_loss: 1.6262 - val_accuracy: 0.5333\n",
      "Epoch 35/50\n",
      "11/11 [==============================] - 1s 79ms/step - loss: 0.8824 - accuracy: 0.7143 - val_loss: 1.4187 - val_accuracy: 0.5778\n",
      "Epoch 36/50\n",
      "11/11 [==============================] - 1s 76ms/step - loss: 0.8238 - accuracy: 0.7343 - val_loss: 1.5447 - val_accuracy: 0.5333\n",
      "Epoch 37/50\n",
      "11/11 [==============================] - 1s 78ms/step - loss: 0.8144 - accuracy: 0.7429 - val_loss: 1.4932 - val_accuracy: 0.5778\n",
      "Epoch 38/50\n",
      "11/11 [==============================] - 1s 78ms/step - loss: 0.7542 - accuracy: 0.7771 - val_loss: 1.3985 - val_accuracy: 0.6000\n",
      "Epoch 39/50\n",
      "11/11 [==============================] - 1s 77ms/step - loss: 0.7503 - accuracy: 0.7743 - val_loss: 1.7138 - val_accuracy: 0.4667\n",
      "Epoch 40/50\n",
      "11/11 [==============================] - 1s 78ms/step - loss: 0.8059 - accuracy: 0.7314 - val_loss: 1.5326 - val_accuracy: 0.5333\n",
      "Epoch 41/50\n",
      "11/11 [==============================] - 1s 83ms/step - loss: 0.6802 - accuracy: 0.8029 - val_loss: 1.4268 - val_accuracy: 0.5111\n",
      "Epoch 42/50\n",
      "11/11 [==============================] - 1s 83ms/step - loss: 0.6616 - accuracy: 0.8086 - val_loss: 1.5180 - val_accuracy: 0.5556\n",
      "Epoch 43/50\n",
      "11/11 [==============================] - 1s 81ms/step - loss: 0.6436 - accuracy: 0.8114 - val_loss: 1.3853 - val_accuracy: 0.6444\n",
      "Epoch 44/50\n",
      "11/11 [==============================] - 1s 82ms/step - loss: 0.6408 - accuracy: 0.8057 - val_loss: 1.2883 - val_accuracy: 0.6444\n",
      "Epoch 45/50\n",
      "11/11 [==============================] - 1s 80ms/step - loss: 0.6134 - accuracy: 0.8143 - val_loss: 1.3032 - val_accuracy: 0.6667\n",
      "Epoch 46/50\n",
      "11/11 [==============================] - 1s 80ms/step - loss: 0.5313 - accuracy: 0.8457 - val_loss: 1.3675 - val_accuracy: 0.5778\n",
      "Epoch 47/50\n",
      "11/11 [==============================] - 1s 79ms/step - loss: 0.5916 - accuracy: 0.8314 - val_loss: 1.3723 - val_accuracy: 0.5778\n",
      "Epoch 48/50\n",
      "11/11 [==============================] - 1s 79ms/step - loss: 0.5454 - accuracy: 0.8371 - val_loss: 1.5030 - val_accuracy: 0.5333\n",
      "Epoch 49/50\n",
      "11/11 [==============================] - 1s 82ms/step - loss: 0.5464 - accuracy: 0.8486 - val_loss: 1.5482 - val_accuracy: 0.6000\n"
     ]
    }
   ],
   "source": [
    "history = model.fit(X_train, y_train, epochs = EPOCHS, validation_data = (X_val, y_val), callbacks=[early_stopping])"
   ]
  },
  {
   "cell_type": "markdown",
   "id": "57ec1982",
   "metadata": {},
   "source": [
    "### Train & validation Loss"
   ]
  },
  {
   "cell_type": "code",
   "execution_count": 7,
   "id": "b6c8d1db",
   "metadata": {},
   "outputs": [
    {
     "data": {
      "text/plain": [
       "<matplotlib.legend.Legend at 0x1edc0b43ee0>"
      ]
     },
     "execution_count": 7,
     "metadata": {},
     "output_type": "execute_result"
    },
    {
     "data": {
      "image/png": "[encoded data removed]",
      "text/plain": [
       "<Figure size 432x288 with 1 Axes>"
      ]
     },
     "metadata": {
      "needs_background": "light"
     },
     "output_type": "display_data"
    }
   ],
   "source": [
    "plt.plot(history.history['loss'], label='loss')\n",
    "plt.plot(history.history['val_loss'], label = 'val_loss')\n",
    "plt.xlabel('Epoch')\n",
    "plt.ylabel('Loss')\n",
    "plt.ylim([0.0, 3])\n",
    "plt.legend(loc='lower right')"
   ]
  },
  {
   "cell_type": "markdown",
   "id": "7af69023",
   "metadata": {},
   "source": [
    "### Train & validation Accuracy"
   ]
  },
  {
   "cell_type": "code",
   "execution_count": 8,
   "id": "0bb8dfca",
   "metadata": {},
   "outputs": [
    {
     "data": {
      "text/plain": [
       "<matplotlib.legend.Legend at 0x1edcb7d4b20>"
      ]
     },
     "execution_count": 8,
     "metadata": {},
     "output_type": "execute_result"
    },
    {
     "data": {
      "image/png": "[encoded data removed]",
      "text/plain": [
       "<Figure size 432x288 with 1 Axes>"
      ]
     },
     "metadata": {
      "needs_background": "light"
     },
     "output_type": "display_data"
    }
   ],
   "source": [
    "plt.plot(history.history['accuracy'], label='accuracy')\n",
    "plt.plot(history.history['val_accuracy'], label = 'val_accuracy')\n",
    "plt.xlabel('Epoch')\n",
    "plt.ylabel('Accuracy')\n",
    "plt.ylim([0.0, 1])\n",
    "plt.legend(loc='lower right')"
   ]
  },
  {
   "cell_type": "markdown",
   "id": "9b30546c",
   "metadata": {},
   "source": [
    "## Test"
   ]
  },
  {
   "cell_type": "code",
   "execution_count": 9,
   "id": "cf4c662a",
   "metadata": {},
   "outputs": [
    {
     "name": "stdout",
     "output_type": "stream",
     "text": [
      "4/4 [==============================] - 0s 25ms/step\n"
     ]
    }
   ],
   "source": [
    "predict = np.argmax(model.predict(X_test), axis=1)"
   ]
  },
  {
   "cell_type": "code",
   "execution_count": 10,
   "id": "6ec7a04a",
   "metadata": {},
   "outputs": [
    {
     "name": "stdout",
     "output_type": "stream",
     "text": [
      "              precision    recall  f1-score   support\n",
      "\n",
      "           0       0.78      0.47      0.58        15\n",
      "           1       0.82      0.56      0.67        16\n",
      "           2       0.19      0.80      0.31         5\n",
      "           3       0.46      0.67      0.55         9\n",
      "           4       0.57      0.40      0.47        10\n",
      "           5       0.25      0.12      0.17         8\n",
      "           6       1.00      0.29      0.44        14\n",
      "           7       0.70      0.70      0.70        10\n",
      "           8       0.27      0.33      0.30         9\n",
      "           9       0.53      0.89      0.67         9\n",
      "\n",
      "    accuracy                           0.50       105\n",
      "   macro avg       0.56      0.52      0.49       105\n",
      "weighted avg       0.63      0.50      0.51       105\n",
      "\n"
     ]
    }
   ],
   "source": [
    "print(classification_report(y_test, predict))"
   ]
  },
  {
   "cell_type": "code",
   "execution_count": 11,
   "id": "9433cc53",
   "metadata": {},
   "outputs": [
    {
     "data": {
      "image/png": "[encoded data removed]",
      "text/plain": [
       "<Figure size 400x400 with 2 Axes>"
      ]
     },
     "metadata": {
      "needs_background": "light"
     },
     "output_type": "display_data"
    }
   ],
   "source": [
    "fig = plt.figure(figsize=(CLASS_COUNT // 2, CLASS_COUNT // 2), dpi=80)\n",
    "M = confusion_matrix(predict, y_test)\n",
    "plt.imshow(M, interpolation = 'nearest')\n",
    "plt.set_cmap('binary')\n",
    "plt.xticks(range(CLASS_COUNT))\n",
    "plt.yticks(range(CLASS_COUNT))\n",
    "plt.xlabel(\"true label\")\n",
    "plt.ylabel(\"predicted label\")\n",
    "plt.colorbar()\n",
    "pass"
   ]
  },
  {
   "cell_type": "code",
   "execution_count": null,
   "id": "5c484710",
   "metadata": {},
   "outputs": [],
   "source": []
  }
 ],
 "metadata": {
  "kernelspec": {
   "display_name": "Python 3 (ipykernel)",
   "language": "python",
   "name": "python3"
  },
  "language_info": {
   "codemirror_mode": {
    "name": "ipython",
    "version": 3
   },
   "file_extension": ".py",
   "mimetype": "text/x-python",
   "name": "python",
   "nbconvert_exporter": "python",
   "pygments_lexer": "ipython3",
   "version": "3.9.6"
  }
 },
 "nbformat": 4,
 "nbformat_minor": 5
}
