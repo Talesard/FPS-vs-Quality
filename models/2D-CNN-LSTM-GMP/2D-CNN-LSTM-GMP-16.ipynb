{
 "cells": [
  {
   "cell_type": "code",
   "execution_count": 1,
   "id": "867cbce7",
   "metadata": {},
   "outputs": [],
   "source": [
    "import os\n",
    "\n",
    "import cv2\n",
    "from matplotlib import pyplot as plt\n",
    "from tqdm.notebook import trange, tqdm\n",
    "import numpy as np\n",
    "import tensorflow as tf\n",
    "import random\n",
    "from sklearn import preprocessing\n",
    "from sklearn.model_selection import train_test_split\n",
    "from tensorflow.keras import layers, models, utils\n",
    "from sklearn.metrics import classification_report, confusion_matrix\n",
    "\n",
    "from data_utils import read_and_preprocess_data\n",
    "from model_utils import *"
   ]
  },
  {
   "cell_type": "markdown",
   "id": "d6e5fe95",
   "metadata": {},
   "source": [
    "## Settings"
   ]
  },
  {
   "cell_type": "code",
   "execution_count": 2,
   "id": "c83c0d21",
   "metadata": {},
   "outputs": [],
   "source": [
    "FRAME_SIZE = 128\n",
    "DATA_PATH = './2sec/data_16_fps'\n",
    "EPOCHS = 50"
   ]
  },
  {
   "cell_type": "markdown",
   "id": "68882663",
   "metadata": {},
   "source": [
    "## Data"
   ]
  },
  {
   "cell_type": "code",
   "execution_count": 3,
   "id": "41431d91",
   "metadata": {},
   "outputs": [
    {
     "name": "stdout",
     "output_type": "stream",
     "text": [
      "reading...\n",
      "BalanceBeam\n",
      "CricketShot\n",
      "Fencing\n",
      "HorseRiding\n",
      "LongJump\n",
      "RockClimbingIndoor\n",
      "SalsaSpin\n",
      "SkyDiving\n",
      "TableTennisShot\n",
      "WallPushups\n",
      "class count = 10\n",
      "med frame count = 32.0\n",
      "padding...\n",
      "Labels encoding...\n",
      "(500,) (500, 32, 128, 128, 3)\n",
      "norm...\n",
      "Train-val-test split...\n",
      "Train: (350, 32, 128, 128, 3) (350,)\n",
      "Val: (45, 32, 128, 128, 3) (45,)\n",
      "Test: (105, 32, 128, 128, 3) (105,)\n"
     ]
    }
   ],
   "source": [
    "CLASS_COUNT, FRAME_COUNT, FRAME_SIZE, X_train, X_val, X_test, y_train, y_val, y_test = read_and_preprocess_data(DATA_PATH, FRAME_SIZE)"
   ]
  },
  {
   "cell_type": "markdown",
   "id": "f99a5cc9",
   "metadata": {},
   "source": [
    "## Model"
   ]
  },
  {
   "cell_type": "code",
   "execution_count": 4,
   "id": "b687e133",
   "metadata": {},
   "outputs": [
    {
     "name": "stdout",
     "output_type": "stream",
     "text": [
      "Model: \"sequential\"\n",
      "_________________________________________________________________\n",
      " Layer (type)                Output Shape              Param #   \n",
      "=================================================================\n",
      " time_distributed (TimeDistr  (None, 32, 62, 62, 64)   4864      \n",
      " ibuted)                                                         \n",
      "                                                                 \n",
      " batch_normalization (BatchN  (None, 32, 62, 62, 64)   248       \n",
      " ormalization)                                                   \n",
      "                                                                 \n",
      " activation (Activation)     (None, 32, 62, 62, 64)    0         \n",
      "                                                                 \n",
      " time_distributed_1 (TimeDis  (None, 32, 30, 30, 32)   32800     \n",
      " tributed)                                                       \n",
      "                                                                 \n",
      " batch_normalization_1 (Batc  (None, 32, 30, 30, 32)   120       \n",
      " hNormalization)                                                 \n",
      "                                                                 \n",
      " activation_1 (Activation)   (None, 32, 30, 30, 32)    0         \n",
      "                                                                 \n",
      " time_distributed_2 (TimeDis  (None, 32, 14, 14, 32)   9248      \n",
      " tributed)                                                       \n",
      "                                                                 \n",
      " batch_normalization_2 (Batc  (None, 32, 14, 14, 32)   56        \n",
      " hNormalization)                                                 \n",
      "                                                                 \n",
      " activation_2 (Activation)   (None, 32, 14, 14, 32)    0         \n",
      "                                                                 \n",
      " time_distributed_3 (TimeDis  (None, 32, 12, 12, 16)   4624      \n",
      " tributed)                                                       \n",
      "                                                                 \n",
      " batch_normalization_3 (Batc  (None, 32, 12, 12, 16)   48        \n",
      " hNormalization)                                                 \n",
      "                                                                 \n",
      " activation_3 (Activation)   (None, 32, 12, 12, 16)    0         \n",
      "                                                                 \n",
      " time_distributed_4 (TimeDis  (None, 32, 6, 6, 16)     0         \n",
      " tributed)                                                       \n",
      "                                                                 \n",
      " time_distributed_5 (TimeDis  (None, 32, 576)          0         \n",
      " tributed)                                                       \n",
      "                                                                 \n",
      " lstm (LSTM)                 (None, 32, 16)            37952     \n",
      "                                                                 \n",
      " global_max_pooling1d (Globa  (None, 16)               0         \n",
      " lMaxPooling1D)                                                  \n",
      "                                                                 \n",
      " dense (Dense)               (None, 20)                340       \n",
      "                                                                 \n",
      " dropout (Dropout)           (None, 20)                0         \n",
      "                                                                 \n",
      " dense_1 (Dense)             (None, 10)                210       \n",
      "                                                                 \n",
      "=================================================================\n",
      "Total params: 90,510\n",
      "Trainable params: 90,274\n",
      "Non-trainable params: 236\n",
      "_________________________________________________________________\n"
     ]
    }
   ],
   "source": [
    "model = models.Sequential()\n",
    "model = add_2d_cnn_part(model, FRAME_COUNT, FRAME_SIZE)\n",
    "model.add(layers.TimeDistributed(layers.Flatten()))\n",
    "model = add_lstm_part(model, return_sequences=True)\n",
    "model.add(layers.GlobalMaxPool1D())\n",
    "model = add_dense_part(model, CLASS_COUNT)\n",
    "\n",
    "model.summary()"
   ]
  },
  {
   "cell_type": "code",
   "execution_count": 5,
   "id": "963ff906",
   "metadata": {},
   "outputs": [],
   "source": [
    "model.compile(optimizer='adam',\n",
    "              loss=tf.keras.losses.SparseCategoricalCrossentropy(from_logits=False),\n",
    "              metrics=['accuracy'],\n",
    "              )\n"
   ]
  },
  {
   "cell_type": "code",
   "execution_count": 6,
   "id": "20cf9db7",
   "metadata": {},
   "outputs": [
    {
     "name": "stdout",
     "output_type": "stream",
     "text": [
      "Epoch 1/50\n",
      "11/11 [==============================] - 18s 880ms/step - loss: 2.3053 - accuracy: 0.0971 - val_loss: 2.2902 - val_accuracy: 0.1556\n",
      "Epoch 2/50\n",
      "11/11 [==============================] - 5s 492ms/step - loss: 2.2617 - accuracy: 0.1114 - val_loss: 2.2671 - val_accuracy: 0.1556\n",
      "Epoch 3/50\n",
      "11/11 [==============================] - 5s 495ms/step - loss: 2.2151 - accuracy: 0.1857 - val_loss: 2.2684 - val_accuracy: 0.1556\n",
      "Epoch 4/50\n",
      "11/11 [==============================] - 5s 494ms/step - loss: 2.1740 - accuracy: 0.2143 - val_loss: 2.2215 - val_accuracy: 0.2667\n",
      "Epoch 5/50\n",
      "11/11 [==============================] - 5s 492ms/step - loss: 2.1582 - accuracy: 0.1857 - val_loss: 2.2112 - val_accuracy: 0.2222\n",
      "Epoch 6/50\n",
      "11/11 [==============================] - 5s 492ms/step - loss: 2.0967 - accuracy: 0.2514 - val_loss: 2.1660 - val_accuracy: 0.2444\n",
      "Epoch 7/50\n",
      "11/11 [==============================] - 5s 492ms/step - loss: 2.0709 - accuracy: 0.2314 - val_loss: 2.1987 - val_accuracy: 0.3778\n",
      "Epoch 8/50\n",
      "11/11 [==============================] - 5s 442ms/step - loss: 2.0140 - accuracy: 0.3286 - val_loss: 2.2004 - val_accuracy: 0.3111\n",
      "Epoch 9/50\n",
      "11/11 [==============================] - 5s 440ms/step - loss: 1.9975 - accuracy: 0.3314 - val_loss: 2.1394 - val_accuracy: 0.2889\n",
      "Epoch 10/50\n",
      "11/11 [==============================] - 5s 419ms/step - loss: 1.9848 - accuracy: 0.2771 - val_loss: 2.1368 - val_accuracy: 0.4000\n",
      "Epoch 11/50\n",
      "11/11 [==============================] - 5s 451ms/step - loss: 1.9107 - accuracy: 0.3514 - val_loss: 2.0990 - val_accuracy: 0.3333\n",
      "Epoch 12/50\n",
      "11/11 [==============================] - 5s 435ms/step - loss: 1.8947 - accuracy: 0.3429 - val_loss: 2.1520 - val_accuracy: 0.2667\n",
      "Epoch 13/50\n",
      "11/11 [==============================] - 5s 474ms/step - loss: 1.8507 - accuracy: 0.3629 - val_loss: 2.0082 - val_accuracy: 0.2889\n",
      "Epoch 14/50\n",
      "11/11 [==============================] - 5s 496ms/step - loss: 1.8270 - accuracy: 0.3657 - val_loss: 1.9926 - val_accuracy: 0.3556\n",
      "Epoch 15/50\n",
      "11/11 [==============================] - 5s 493ms/step - loss: 1.7543 - accuracy: 0.4314 - val_loss: 2.0151 - val_accuracy: 0.3111\n",
      "Epoch 16/50\n",
      "11/11 [==============================] - 5s 494ms/step - loss: 1.7453 - accuracy: 0.3914 - val_loss: 1.9374 - val_accuracy: 0.3333\n",
      "Epoch 17/50\n",
      "11/11 [==============================] - 5s 493ms/step - loss: 1.7047 - accuracy: 0.3943 - val_loss: 1.9262 - val_accuracy: 0.3333\n",
      "Epoch 18/50\n",
      "11/11 [==============================] - 5s 496ms/step - loss: 1.6666 - accuracy: 0.4429 - val_loss: 1.8855 - val_accuracy: 0.3778\n",
      "Epoch 19/50\n",
      "11/11 [==============================] - 5s 492ms/step - loss: 1.6429 - accuracy: 0.4286 - val_loss: 1.8932 - val_accuracy: 0.3111\n",
      "Epoch 20/50\n",
      "11/11 [==============================] - 5s 494ms/step - loss: 1.6127 - accuracy: 0.4314 - val_loss: 1.8627 - val_accuracy: 0.3111\n",
      "Epoch 21/50\n",
      "11/11 [==============================] - 5s 493ms/step - loss: 1.5000 - accuracy: 0.4971 - val_loss: 1.8765 - val_accuracy: 0.2889\n",
      "Epoch 22/50\n",
      "11/11 [==============================] - 5s 493ms/step - loss: 1.4667 - accuracy: 0.5200 - val_loss: 1.8621 - val_accuracy: 0.3556\n",
      "Epoch 23/50\n",
      "11/11 [==============================] - 5s 494ms/step - loss: 1.4247 - accuracy: 0.5229 - val_loss: 1.8042 - val_accuracy: 0.2222\n",
      "Epoch 24/50\n",
      "11/11 [==============================] - 5s 498ms/step - loss: 1.3684 - accuracy: 0.5686 - val_loss: 1.7316 - val_accuracy: 0.3778\n",
      "Epoch 25/50\n",
      "11/11 [==============================] - 5s 495ms/step - loss: 1.3208 - accuracy: 0.5543 - val_loss: 1.7882 - val_accuracy: 0.3111\n",
      "Epoch 26/50\n",
      "11/11 [==============================] - 5s 495ms/step - loss: 1.3116 - accuracy: 0.5457 - val_loss: 1.7133 - val_accuracy: 0.5111\n",
      "Epoch 27/50\n",
      "11/11 [==============================] - 5s 492ms/step - loss: 1.2557 - accuracy: 0.6143 - val_loss: 1.7924 - val_accuracy: 0.3333\n",
      "Epoch 28/50\n",
      "11/11 [==============================] - 5s 493ms/step - loss: 1.2963 - accuracy: 0.5686 - val_loss: 1.7225 - val_accuracy: 0.5111\n",
      "Epoch 29/50\n",
      "11/11 [==============================] - 5s 493ms/step - loss: 1.2737 - accuracy: 0.5686 - val_loss: 1.6978 - val_accuracy: 0.4889\n",
      "Epoch 30/50\n",
      "11/11 [==============================] - 5s 493ms/step - loss: 1.2977 - accuracy: 0.6029 - val_loss: 1.6421 - val_accuracy: 0.4889\n",
      "Epoch 31/50\n",
      "11/11 [==============================] - 5s 494ms/step - loss: 1.2534 - accuracy: 0.6029 - val_loss: 1.8101 - val_accuracy: 0.3333\n",
      "Epoch 32/50\n",
      "11/11 [==============================] - 5s 493ms/step - loss: 1.2028 - accuracy: 0.6171 - val_loss: 1.6606 - val_accuracy: 0.4889\n",
      "Epoch 33/50\n",
      "11/11 [==============================] - 5s 493ms/step - loss: 1.1271 - accuracy: 0.6286 - val_loss: 1.6881 - val_accuracy: 0.4444\n",
      "Epoch 34/50\n",
      "11/11 [==============================] - 5s 493ms/step - loss: 1.1304 - accuracy: 0.6429 - val_loss: 1.6019 - val_accuracy: 0.4889\n",
      "Epoch 35/50\n",
      "11/11 [==============================] - 5s 494ms/step - loss: 1.0515 - accuracy: 0.6800 - val_loss: 1.5795 - val_accuracy: 0.4667\n",
      "Epoch 36/50\n",
      "11/11 [==============================] - 5s 494ms/step - loss: 0.9611 - accuracy: 0.7086 - val_loss: 1.6902 - val_accuracy: 0.4444\n",
      "Epoch 37/50\n",
      "11/11 [==============================] - 5s 494ms/step - loss: 0.9002 - accuracy: 0.7171 - val_loss: 1.7612 - val_accuracy: 0.4667\n",
      "Epoch 38/50\n",
      "11/11 [==============================] - 5s 494ms/step - loss: 0.9474 - accuracy: 0.7171 - val_loss: 1.5563 - val_accuracy: 0.5111\n",
      "Epoch 39/50\n",
      "11/11 [==============================] - 5s 494ms/step - loss: 0.8877 - accuracy: 0.7257 - val_loss: 1.4922 - val_accuracy: 0.4889\n",
      "Epoch 40/50\n",
      "11/11 [==============================] - 6s 506ms/step - loss: 0.8258 - accuracy: 0.7486 - val_loss: 1.5153 - val_accuracy: 0.5333\n",
      "Epoch 41/50\n",
      "11/11 [==============================] - 5s 498ms/step - loss: 0.8399 - accuracy: 0.7486 - val_loss: 1.5847 - val_accuracy: 0.5111\n",
      "Epoch 42/50\n",
      "11/11 [==============================] - 5s 494ms/step - loss: 0.8134 - accuracy: 0.7686 - val_loss: 1.5400 - val_accuracy: 0.5556\n",
      "Epoch 43/50\n",
      "11/11 [==============================] - 5s 493ms/step - loss: 0.8498 - accuracy: 0.7286 - val_loss: 1.5499 - val_accuracy: 0.5333\n",
      "Epoch 44/50\n",
      "11/11 [==============================] - 5s 492ms/step - loss: 0.7860 - accuracy: 0.7486 - val_loss: 1.2839 - val_accuracy: 0.6000\n",
      "Epoch 45/50\n",
      "11/11 [==============================] - 5s 491ms/step - loss: 0.8030 - accuracy: 0.7429 - val_loss: 1.3346 - val_accuracy: 0.6000\n",
      "Epoch 46/50\n",
      "11/11 [==============================] - 5s 492ms/step - loss: 0.7103 - accuracy: 0.8057 - val_loss: 1.3921 - val_accuracy: 0.5556\n",
      "Epoch 47/50\n",
      "11/11 [==============================] - 5s 491ms/step - loss: 0.7252 - accuracy: 0.7771 - val_loss: 1.4099 - val_accuracy: 0.5333\n",
      "Epoch 48/50\n",
      "11/11 [==============================] - 5s 491ms/step - loss: 0.7784 - accuracy: 0.7600 - val_loss: 1.2939 - val_accuracy: 0.6000\n",
      "Epoch 49/50\n",
      "11/11 [==============================] - 5s 493ms/step - loss: 0.8777 - accuracy: 0.7171 - val_loss: 1.3709 - val_accuracy: 0.6222\n"
     ]
    }
   ],
   "source": [
    "history = model.fit(X_train, y_train, epochs = EPOCHS, validation_data = (X_val, y_val), callbacks=[early_stopping])"
   ]
  },
  {
   "cell_type": "markdown",
   "id": "57ec1982",
   "metadata": {},
   "source": [
    "### Train & validation Loss"
   ]
  },
  {
   "cell_type": "code",
   "execution_count": 7,
   "id": "b6c8d1db",
   "metadata": {},
   "outputs": [
    {
     "data": {
      "text/plain": [
       "<matplotlib.legend.Legend at 0x259c081c820>"
      ]
     },
     "execution_count": 7,
     "metadata": {},
     "output_type": "execute_result"
    },
    {
     "data": {
      "image/png": "[encoded data removed]",
      "text/plain": [
       "<Figure size 432x288 with 1 Axes>"
      ]
     },
     "metadata": {
      "needs_background": "light"
     },
     "output_type": "display_data"
    }
   ],
   "source": [
    "plt.plot(history.history['loss'], label='loss')\n",
    "plt.plot(history.history['val_loss'], label = 'val_loss')\n",
    "plt.xlabel('Epoch')\n",
    "plt.ylabel('Loss')\n",
    "plt.ylim([0.0, 3])\n",
    "plt.legend(loc='lower right')"
   ]
  },
  {
   "cell_type": "markdown",
   "id": "7af69023",
   "metadata": {},
   "source": [
    "### Train & validation Accuracy"
   ]
  },
  {
   "cell_type": "code",
   "execution_count": 8,
   "id": "0bb8dfca",
   "metadata": {},
   "outputs": [
    {
     "data": {
      "text/plain": [
       "<matplotlib.legend.Legend at 0x259c081cca0>"
      ]
     },
     "execution_count": 8,
     "metadata": {},
     "output_type": "execute_result"
    },
    {
     "data": {
      "image/png": "[encoded data removed]",
      "text/plain": [
       "<Figure size 432x288 with 1 Axes>"
      ]
     },
     "metadata": {
      "needs_background": "light"
     },
     "output_type": "display_data"
    }
   ],
   "source": [
    "plt.plot(history.history['accuracy'], label='accuracy')\n",
    "plt.plot(history.history['val_accuracy'], label = 'val_accuracy')\n",
    "plt.xlabel('Epoch')\n",
    "plt.ylabel('Accuracy')\n",
    "plt.ylim([0.0, 1])\n",
    "plt.legend(loc='lower right')"
   ]
  },
  {
   "cell_type": "markdown",
   "id": "9b30546c",
   "metadata": {},
   "source": [
    "## Test"
   ]
  },
  {
   "cell_type": "code",
   "execution_count": 9,
   "id": "cf4c662a",
   "metadata": {},
   "outputs": [
    {
     "name": "stdout",
     "output_type": "stream",
     "text": [
      "4/4 [==============================] - 1s 121ms/step\n"
     ]
    }
   ],
   "source": [
    "predict = np.argmax(model.predict(X_test), axis=1)"
   ]
  },
  {
   "cell_type": "code",
   "execution_count": 10,
   "id": "6ec7a04a",
   "metadata": {},
   "outputs": [
    {
     "name": "stdout",
     "output_type": "stream",
     "text": [
      "              precision    recall  f1-score   support\n",
      "\n",
      "           0       0.91      0.67      0.77        15\n",
      "           1       0.75      0.56      0.64        16\n",
      "           2       0.27      0.80      0.40         5\n",
      "           3       0.55      0.67      0.60         9\n",
      "           4       0.36      0.40      0.38        10\n",
      "           5       0.29      0.25      0.27         8\n",
      "           6       0.50      0.36      0.42        14\n",
      "           7       0.71      0.50      0.59        10\n",
      "           8       0.78      0.78      0.78         9\n",
      "           9       0.58      0.78      0.67         9\n",
      "\n",
      "    accuracy                           0.56       105\n",
      "   macro avg       0.57      0.58      0.55       105\n",
      "weighted avg       0.61      0.56      0.57       105\n",
      "\n"
     ]
    }
   ],
   "source": [
    "print(classification_report(y_test, predict))"
   ]
  },
  {
   "cell_type": "code",
   "execution_count": 11,
   "id": "9433cc53",
   "metadata": {},
   "outputs": [
    {
     "data": {
      "image/png": "[encoded data removed]",
      "text/plain": [
       "<Figure size 400x400 with 2 Axes>"
      ]
     },
     "metadata": {
      "needs_background": "light"
     },
     "output_type": "display_data"
    }
   ],
   "source": [
    "fig = plt.figure(figsize=(CLASS_COUNT // 2, CLASS_COUNT // 2), dpi=80)\n",
    "M = confusion_matrix(predict, y_test)\n",
    "plt.imshow(M, interpolation = 'nearest')\n",
    "plt.set_cmap('binary')\n",
    "plt.xticks(range(CLASS_COUNT))\n",
    "plt.yticks(range(CLASS_COUNT))\n",
    "plt.xlabel(\"true label\")\n",
    "plt.ylabel(\"predicted label\")\n",
    "plt.colorbar()\n",
    "pass"
   ]
  },
  {
   "cell_type": "code",
   "execution_count": null,
   "id": "5c484710",
   "metadata": {},
   "outputs": [],
   "source": []
  }
 ],
 "metadata": {
  "kernelspec": {
   "display_name": "Python 3 (ipykernel)",
   "language": "python",
   "name": "python3"
  },
  "language_info": {
   "codemirror_mode": {
    "name": "ipython",
    "version": 3
   },
   "file_extension": ".py",
   "mimetype": "text/x-python",
   "name": "python",
   "nbconvert_exporter": "python",
   "pygments_lexer": "ipython3",
   "version": "3.9.6"
  }
 },
 "nbformat": 4,
 "nbformat_minor": 5
}
