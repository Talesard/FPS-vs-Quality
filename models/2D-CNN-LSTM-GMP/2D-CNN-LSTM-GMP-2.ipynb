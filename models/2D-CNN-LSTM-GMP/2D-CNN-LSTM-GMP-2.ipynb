{
 "cells": [
  {
   "cell_type": "code",
   "execution_count": 1,
   "id": "867cbce7",
   "metadata": {},
   "outputs": [],
   "source": [
    "import os\n",
    "\n",
    "import cv2\n",
    "from matplotlib import pyplot as plt\n",
    "from tqdm.notebook import trange, tqdm\n",
    "import numpy as np\n",
    "import tensorflow as tf\n",
    "import random\n",
    "from sklearn import preprocessing\n",
    "from sklearn.model_selection import train_test_split\n",
    "from tensorflow.keras import layers, models, utils\n",
    "from sklearn.metrics import classification_report, confusion_matrix\n",
    "\n",
    "from data_utils import read_and_preprocess_data\n",
    "from model_utils import *"
   ]
  },
  {
   "cell_type": "markdown",
   "id": "d6e5fe95",
   "metadata": {},
   "source": [
    "## Settings"
   ]
  },
  {
   "cell_type": "code",
   "execution_count": 2,
   "id": "c83c0d21",
   "metadata": {},
   "outputs": [],
   "source": [
    "FRAME_SIZE = 128\n",
    "DATA_PATH = './2sec/data_2_fps'\n",
    "EPOCHS = 50"
   ]
  },
  {
   "cell_type": "markdown",
   "id": "68882663",
   "metadata": {},
   "source": [
    "## Data"
   ]
  },
  {
   "cell_type": "code",
   "execution_count": 3,
   "id": "41431d91",
   "metadata": {},
   "outputs": [
    {
     "name": "stdout",
     "output_type": "stream",
     "text": [
      "reading...\n",
      "BalanceBeam\n",
      "CricketShot\n",
      "Fencing\n",
      "HorseRiding\n",
      "LongJump\n",
      "RockClimbingIndoor\n",
      "SalsaSpin\n",
      "SkyDiving\n",
      "TableTennisShot\n",
      "WallPushups\n",
      "class count = 10\n",
      "med frame count = 4.0\n",
      "padding...\n",
      "Labels encoding...\n",
      "(500,) (500, 4, 128, 128, 3)\n",
      "norm...\n",
      "Train-val-test split...\n",
      "Train: (350, 4, 128, 128, 3) (350,)\n",
      "Val: (45, 4, 128, 128, 3) (45,)\n",
      "Test: (105, 4, 128, 128, 3) (105,)\n"
     ]
    }
   ],
   "source": [
    "CLASS_COUNT, FRAME_COUNT, FRAME_SIZE, X_train, X_val, X_test, y_train, y_val, y_test = read_and_preprocess_data(DATA_PATH, FRAME_SIZE)"
   ]
  },
  {
   "cell_type": "markdown",
   "id": "f99a5cc9",
   "metadata": {},
   "source": [
    "## Model"
   ]
  },
  {
   "cell_type": "code",
   "execution_count": 4,
   "id": "b687e133",
   "metadata": {},
   "outputs": [
    {
     "name": "stdout",
     "output_type": "stream",
     "text": [
      "Model: \"sequential\"\n",
      "_________________________________________________________________\n",
      " Layer (type)                Output Shape              Param #   \n",
      "=================================================================\n",
      " time_distributed (TimeDistr  (None, 4, 62, 62, 64)    4864      \n",
      " ibuted)                                                         \n",
      "                                                                 \n",
      " batch_normalization (BatchN  (None, 4, 62, 62, 64)    248       \n",
      " ormalization)                                                   \n",
      "                                                                 \n",
      " activation (Activation)     (None, 4, 62, 62, 64)     0         \n",
      "                                                                 \n",
      " time_distributed_1 (TimeDis  (None, 4, 30, 30, 32)    32800     \n",
      " tributed)                                                       \n",
      "                                                                 \n",
      " batch_normalization_1 (Batc  (None, 4, 30, 30, 32)    120       \n",
      " hNormalization)                                                 \n",
      "                                                                 \n",
      " activation_1 (Activation)   (None, 4, 30, 30, 32)     0         \n",
      "                                                                 \n",
      " time_distributed_2 (TimeDis  (None, 4, 14, 14, 32)    9248      \n",
      " tributed)                                                       \n",
      "                                                                 \n",
      " batch_normalization_2 (Batc  (None, 4, 14, 14, 32)    56        \n",
      " hNormalization)                                                 \n",
      "                                                                 \n",
      " activation_2 (Activation)   (None, 4, 14, 14, 32)     0         \n",
      "                                                                 \n",
      " time_distributed_3 (TimeDis  (None, 4, 12, 12, 16)    4624      \n",
      " tributed)                                                       \n",
      "                                                                 \n",
      " batch_normalization_3 (Batc  (None, 4, 12, 12, 16)    48        \n",
      " hNormalization)                                                 \n",
      "                                                                 \n",
      " activation_3 (Activation)   (None, 4, 12, 12, 16)     0         \n",
      "                                                                 \n",
      " time_distributed_4 (TimeDis  (None, 4, 6, 6, 16)      0         \n",
      " tributed)                                                       \n",
      "                                                                 \n",
      " time_distributed_5 (TimeDis  (None, 4, 576)           0         \n",
      " tributed)                                                       \n",
      "                                                                 \n",
      " lstm (LSTM)                 (None, 4, 16)             37952     \n",
      "                                                                 \n",
      " global_max_pooling1d (Globa  (None, 16)               0         \n",
      " lMaxPooling1D)                                                  \n",
      "                                                                 \n",
      " dense (Dense)               (None, 20)                340       \n",
      "                                                                 \n",
      " dropout (Dropout)           (None, 20)                0         \n",
      "                                                                 \n",
      " dense_1 (Dense)             (None, 10)                210       \n",
      "                                                                 \n",
      "=================================================================\n",
      "Total params: 90,510\n",
      "Trainable params: 90,274\n",
      "Non-trainable params: 236\n",
      "_________________________________________________________________\n"
     ]
    }
   ],
   "source": [
    "model = models.Sequential()\n",
    "model = add_2d_cnn_part(model, FRAME_COUNT, FRAME_SIZE)\n",
    "model.add(layers.TimeDistributed(layers.Flatten()))\n",
    "model = add_lstm_part(model, return_sequences=True)\n",
    "model.add(layers.GlobalMaxPool1D())\n",
    "model = add_dense_part(model, CLASS_COUNT)\n",
    "\n",
    "model.summary()"
   ]
  },
  {
   "cell_type": "code",
   "execution_count": 5,
   "id": "963ff906",
   "metadata": {},
   "outputs": [],
   "source": [
    "model.compile(optimizer='adam',\n",
    "              loss=tf.keras.losses.SparseCategoricalCrossentropy(from_logits=False),\n",
    "              metrics=['accuracy'],\n",
    "              )\n"
   ]
  },
  {
   "cell_type": "code",
   "execution_count": 6,
   "id": "20cf9db7",
   "metadata": {},
   "outputs": [
    {
     "name": "stdout",
     "output_type": "stream",
     "text": [
      "Epoch 1/50\n",
      "11/11 [==============================] - 7s 174ms/step - loss: 2.2895 - accuracy: 0.1229 - val_loss: 2.3030 - val_accuracy: 0.0889\n",
      "Epoch 2/50\n",
      "11/11 [==============================] - 1s 75ms/step - loss: 2.2706 - accuracy: 0.1343 - val_loss: 2.2929 - val_accuracy: 0.0667\n",
      "Epoch 3/50\n",
      "11/11 [==============================] - 1s 74ms/step - loss: 2.2490 - accuracy: 0.1371 - val_loss: 2.2706 - val_accuracy: 0.1556\n",
      "Epoch 4/50\n",
      "11/11 [==============================] - 1s 75ms/step - loss: 2.2296 - accuracy: 0.1629 - val_loss: 2.2616 - val_accuracy: 0.1556\n",
      "Epoch 5/50\n",
      "11/11 [==============================] - 1s 73ms/step - loss: 2.1824 - accuracy: 0.1914 - val_loss: 2.2011 - val_accuracy: 0.3333\n",
      "Epoch 6/50\n",
      "11/11 [==============================] - 1s 73ms/step - loss: 2.1838 - accuracy: 0.1914 - val_loss: 2.2100 - val_accuracy: 0.2222\n",
      "Epoch 7/50\n",
      "11/11 [==============================] - 1s 74ms/step - loss: 2.1285 - accuracy: 0.2257 - val_loss: 2.1979 - val_accuracy: 0.2222\n",
      "Epoch 8/50\n",
      "11/11 [==============================] - 1s 73ms/step - loss: 2.0661 - accuracy: 0.2429 - val_loss: 2.1868 - val_accuracy: 0.2444\n",
      "Epoch 9/50\n",
      "11/11 [==============================] - 1s 74ms/step - loss: 2.0478 - accuracy: 0.2571 - val_loss: 2.1623 - val_accuracy: 0.2444\n",
      "Epoch 10/50\n",
      "11/11 [==============================] - 1s 76ms/step - loss: 2.0371 - accuracy: 0.2514 - val_loss: 2.1382 - val_accuracy: 0.3111\n",
      "Epoch 11/50\n",
      "11/11 [==============================] - 1s 75ms/step - loss: 1.9504 - accuracy: 0.3286 - val_loss: 2.1055 - val_accuracy: 0.2444\n",
      "Epoch 12/50\n",
      "11/11 [==============================] - 1s 75ms/step - loss: 1.8796 - accuracy: 0.3571 - val_loss: 2.0581 - val_accuracy: 0.3111\n",
      "Epoch 13/50\n",
      "11/11 [==============================] - 1s 74ms/step - loss: 1.8478 - accuracy: 0.3771 - val_loss: 2.0577 - val_accuracy: 0.2667\n",
      "Epoch 14/50\n",
      "11/11 [==============================] - 1s 74ms/step - loss: 1.8057 - accuracy: 0.3543 - val_loss: 2.0181 - val_accuracy: 0.3111\n",
      "Epoch 15/50\n",
      "11/11 [==============================] - 1s 73ms/step - loss: 1.7877 - accuracy: 0.3857 - val_loss: 2.0266 - val_accuracy: 0.2000\n",
      "Epoch 16/50\n",
      "11/11 [==============================] - 1s 75ms/step - loss: 1.7324 - accuracy: 0.3943 - val_loss: 1.9296 - val_accuracy: 0.2444\n",
      "Epoch 17/50\n",
      "11/11 [==============================] - 1s 75ms/step - loss: 1.6334 - accuracy: 0.4686 - val_loss: 1.9151 - val_accuracy: 0.3111\n",
      "Epoch 18/50\n",
      "11/11 [==============================] - 1s 73ms/step - loss: 1.6050 - accuracy: 0.4514 - val_loss: 1.9448 - val_accuracy: 0.2889\n",
      "Epoch 19/50\n",
      "11/11 [==============================] - 1s 75ms/step - loss: 1.5512 - accuracy: 0.4657 - val_loss: 1.8730 - val_accuracy: 0.3111\n",
      "Epoch 20/50\n",
      "11/11 [==============================] - 1s 74ms/step - loss: 1.4838 - accuracy: 0.5000 - val_loss: 1.8487 - val_accuracy: 0.3333\n",
      "Epoch 21/50\n",
      "11/11 [==============================] - 1s 73ms/step - loss: 1.4915 - accuracy: 0.5200 - val_loss: 1.7522 - val_accuracy: 0.3778\n",
      "Epoch 22/50\n",
      "11/11 [==============================] - 1s 74ms/step - loss: 1.4244 - accuracy: 0.5286 - val_loss: 1.8796 - val_accuracy: 0.3556\n",
      "Epoch 23/50\n",
      "11/11 [==============================] - 1s 73ms/step - loss: 1.3775 - accuracy: 0.5457 - val_loss: 1.7926 - val_accuracy: 0.3333\n",
      "Epoch 24/50\n",
      "11/11 [==============================] - 1s 75ms/step - loss: 1.3599 - accuracy: 0.5171 - val_loss: 1.7204 - val_accuracy: 0.4000\n",
      "Epoch 25/50\n",
      "11/11 [==============================] - 1s 73ms/step - loss: 1.3001 - accuracy: 0.5971 - val_loss: 1.7765 - val_accuracy: 0.2889\n",
      "Epoch 26/50\n",
      "11/11 [==============================] - 1s 75ms/step - loss: 1.2233 - accuracy: 0.6086 - val_loss: 1.6292 - val_accuracy: 0.4222\n",
      "Epoch 27/50\n",
      "11/11 [==============================] - 1s 75ms/step - loss: 1.1423 - accuracy: 0.6657 - val_loss: 1.7223 - val_accuracy: 0.3778\n",
      "Epoch 28/50\n",
      "11/11 [==============================] - 1s 74ms/step - loss: 1.1158 - accuracy: 0.6200 - val_loss: 1.5632 - val_accuracy: 0.5111\n",
      "Epoch 29/50\n",
      "11/11 [==============================] - 1s 74ms/step - loss: 1.1266 - accuracy: 0.6457 - val_loss: 1.7039 - val_accuracy: 0.4444\n",
      "Epoch 30/50\n",
      "11/11 [==============================] - 1s 74ms/step - loss: 1.0373 - accuracy: 0.6829 - val_loss: 1.4956 - val_accuracy: 0.5111\n",
      "Epoch 31/50\n",
      "11/11 [==============================] - 1s 73ms/step - loss: 0.9600 - accuracy: 0.7257 - val_loss: 1.5658 - val_accuracy: 0.4889\n",
      "Epoch 32/50\n",
      "11/11 [==============================] - 1s 76ms/step - loss: 0.9733 - accuracy: 0.6771 - val_loss: 1.4518 - val_accuracy: 0.5778\n",
      "Epoch 33/50\n",
      "11/11 [==============================] - 1s 74ms/step - loss: 0.8784 - accuracy: 0.7429 - val_loss: 1.5532 - val_accuracy: 0.5111\n",
      "Epoch 34/50\n",
      "11/11 [==============================] - 1s 72ms/step - loss: 0.8668 - accuracy: 0.7543 - val_loss: 1.4929 - val_accuracy: 0.5111\n",
      "Epoch 35/50\n",
      "11/11 [==============================] - 1s 73ms/step - loss: 0.8607 - accuracy: 0.7657 - val_loss: 1.5086 - val_accuracy: 0.6222\n",
      "Epoch 36/50\n",
      "11/11 [==============================] - 1s 74ms/step - loss: 0.8260 - accuracy: 0.7514 - val_loss: 1.4445 - val_accuracy: 0.5778\n",
      "Epoch 37/50\n",
      "11/11 [==============================] - 1s 73ms/step - loss: 0.7918 - accuracy: 0.7971 - val_loss: 1.4518 - val_accuracy: 0.5778\n",
      "Epoch 38/50\n",
      "11/11 [==============================] - 1s 72ms/step - loss: 0.7900 - accuracy: 0.7800 - val_loss: 1.4551 - val_accuracy: 0.5556\n",
      "Epoch 39/50\n",
      "11/11 [==============================] - 1s 72ms/step - loss: 0.7593 - accuracy: 0.7600 - val_loss: 1.4859 - val_accuracy: 0.5778\n",
      "Epoch 40/50\n",
      "11/11 [==============================] - 1s 72ms/step - loss: 0.6988 - accuracy: 0.7886 - val_loss: 1.3933 - val_accuracy: 0.5778\n",
      "Epoch 41/50\n",
      "11/11 [==============================] - 1s 72ms/step - loss: 0.6896 - accuracy: 0.8086 - val_loss: 1.4229 - val_accuracy: 0.6222\n",
      "Epoch 42/50\n",
      "11/11 [==============================] - 1s 73ms/step - loss: 0.6095 - accuracy: 0.8486 - val_loss: 1.3934 - val_accuracy: 0.6444\n",
      "Epoch 43/50\n",
      "11/11 [==============================] - 1s 73ms/step - loss: 0.6057 - accuracy: 0.8371 - val_loss: 1.4668 - val_accuracy: 0.5556\n",
      "Epoch 44/50\n",
      "11/11 [==============================] - 1s 75ms/step - loss: 0.5849 - accuracy: 0.8343 - val_loss: 1.3899 - val_accuracy: 0.5778\n",
      "Epoch 45/50\n",
      "11/11 [==============================] - 1s 72ms/step - loss: 0.5671 - accuracy: 0.8429 - val_loss: 1.3962 - val_accuracy: 0.5333\n",
      "Epoch 46/50\n",
      "11/11 [==============================] - 1s 73ms/step - loss: 0.5948 - accuracy: 0.8057 - val_loss: 1.4383 - val_accuracy: 0.6222\n",
      "Epoch 47/50\n",
      "11/11 [==============================] - 1s 73ms/step - loss: 0.5523 - accuracy: 0.8343 - val_loss: 1.5359 - val_accuracy: 0.5556\n",
      "Epoch 48/50\n",
      "11/11 [==============================] - 1s 74ms/step - loss: 0.4792 - accuracy: 0.8800 - val_loss: 1.4170 - val_accuracy: 0.5778\n",
      "Epoch 49/50\n",
      "11/11 [==============================] - 1s 74ms/step - loss: 0.5006 - accuracy: 0.8514 - val_loss: 1.3311 - val_accuracy: 0.6222\n",
      "Epoch 50/50\n",
      "11/11 [==============================] - 1s 72ms/step - loss: 0.4975 - accuracy: 0.8943 - val_loss: 1.3979 - val_accuracy: 0.5556\n"
     ]
    }
   ],
   "source": [
    "history = model.fit(X_train, y_train, epochs = EPOCHS, validation_data = (X_val, y_val), callbacks=[early_stopping])"
   ]
  },
  {
   "cell_type": "markdown",
   "id": "57ec1982",
   "metadata": {},
   "source": [
    "### Train & validation Loss"
   ]
  },
  {
   "cell_type": "code",
   "execution_count": 7,
   "id": "b6c8d1db",
   "metadata": {},
   "outputs": [
    {
     "data": {
      "text/plain": [
       "<matplotlib.legend.Legend at 0x1ba553b0f70>"
      ]
     },
     "execution_count": 7,
     "metadata": {},
     "output_type": "execute_result"
    },
    {
     "data": {
      "image/png": "[encoded data removed]",
      "text/plain": [
       "<Figure size 432x288 with 1 Axes>"
      ]
     },
     "metadata": {
      "needs_background": "light"
     },
     "output_type": "display_data"
    }
   ],
   "source": [
    "plt.plot(history.history['loss'], label='loss')\n",
    "plt.plot(history.history['val_loss'], label = 'val_loss')\n",
    "plt.xlabel('Epoch')\n",
    "plt.ylabel('Loss')\n",
    "plt.ylim([0.0, 3])\n",
    "plt.legend(loc='lower right')"
   ]
  },
  {
   "cell_type": "markdown",
   "id": "7af69023",
   "metadata": {},
   "source": [
    "### Train & validation Accuracy"
   ]
  },
  {
   "cell_type": "code",
   "execution_count": 8,
   "id": "0bb8dfca",
   "metadata": {},
   "outputs": [
    {
     "data": {
      "text/plain": [
       "<matplotlib.legend.Legend at 0x1ba555bd430>"
      ]
     },
     "execution_count": 8,
     "metadata": {},
     "output_type": "execute_result"
    },
    {
     "data": {
      "image/png": "[encoded data removed]",
      "text/plain": [
       "<Figure size 432x288 with 1 Axes>"
      ]
     },
     "metadata": {
      "needs_background": "light"
     },
     "output_type": "display_data"
    }
   ],
   "source": [
    "plt.plot(history.history['accuracy'], label='accuracy')\n",
    "plt.plot(history.history['val_accuracy'], label = 'val_accuracy')\n",
    "plt.xlabel('Epoch')\n",
    "plt.ylabel('Accuracy')\n",
    "plt.ylim([0.0, 1])\n",
    "plt.legend(loc='lower right')"
   ]
  },
  {
   "cell_type": "markdown",
   "id": "9b30546c",
   "metadata": {},
   "source": [
    "## Test"
   ]
  },
  {
   "cell_type": "code",
   "execution_count": 9,
   "id": "cf4c662a",
   "metadata": {},
   "outputs": [
    {
     "name": "stdout",
     "output_type": "stream",
     "text": [
      "4/4 [==============================] - 1s 22ms/step\n"
     ]
    }
   ],
   "source": [
    "predict = np.argmax(model.predict(X_test), axis=1)"
   ]
  },
  {
   "cell_type": "code",
   "execution_count": 10,
   "id": "6ec7a04a",
   "metadata": {},
   "outputs": [
    {
     "name": "stdout",
     "output_type": "stream",
     "text": [
      "              precision    recall  f1-score   support\n",
      "\n",
      "           0       0.72      0.87      0.79        15\n",
      "           1       0.73      0.69      0.71        16\n",
      "           2       0.50      0.80      0.62         5\n",
      "           3       0.50      0.67      0.57         9\n",
      "           4       0.75      0.60      0.67        10\n",
      "           5       0.43      0.38      0.40         8\n",
      "           6       0.33      0.14      0.20        14\n",
      "           7       0.55      0.60      0.57        10\n",
      "           8       0.44      0.44      0.44         9\n",
      "           9       0.64      0.78      0.70         9\n",
      "\n",
      "    accuracy                           0.59       105\n",
      "   macro avg       0.56      0.60      0.57       105\n",
      "weighted avg       0.57      0.59      0.57       105\n",
      "\n"
     ]
    }
   ],
   "source": [
    "print(classification_report(y_test, predict))"
   ]
  },
  {
   "cell_type": "code",
   "execution_count": 11,
   "id": "9433cc53",
   "metadata": {},
   "outputs": [
    {
     "data": {
      "image/png": "[encoded data removed]",
      "text/plain": [
       "<Figure size 400x400 with 2 Axes>"
      ]
     },
     "metadata": {
      "needs_background": "light"
     },
     "output_type": "display_data"
    }
   ],
   "source": [
    "fig = plt.figure(figsize=(CLASS_COUNT // 2, CLASS_COUNT // 2), dpi=80)\n",
    "M = confusion_matrix(predict, y_test)\n",
    "plt.imshow(M, interpolation = 'nearest')\n",
    "plt.set_cmap('binary')\n",
    "plt.xticks(range(CLASS_COUNT))\n",
    "plt.yticks(range(CLASS_COUNT))\n",
    "plt.xlabel(\"true label\")\n",
    "plt.ylabel(\"predicted label\")\n",
    "plt.colorbar()\n",
    "pass"
   ]
  },
  {
   "cell_type": "code",
   "execution_count": null,
   "id": "5c484710",
   "metadata": {},
   "outputs": [],
   "source": []
  }
 ],
 "metadata": {
  "kernelspec": {
   "display_name": "Python 3 (ipykernel)",
   "language": "python",
   "name": "python3"
  },
  "language_info": {
   "codemirror_mode": {
    "name": "ipython",
    "version": 3
   },
   "file_extension": ".py",
   "mimetype": "text/x-python",
   "name": "python",
   "nbconvert_exporter": "python",
   "pygments_lexer": "ipython3",
   "version": "3.9.6"
  }
 },
 "nbformat": 4,
 "nbformat_minor": 5
}
