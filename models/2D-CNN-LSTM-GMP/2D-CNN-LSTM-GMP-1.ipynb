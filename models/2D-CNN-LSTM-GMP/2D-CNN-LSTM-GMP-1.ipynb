{
 "cells": [
  {
   "cell_type": "code",
   "execution_count": 1,
   "id": "867cbce7",
   "metadata": {},
   "outputs": [],
   "source": [
    "import os\n",
    "\n",
    "import cv2\n",
    "from matplotlib import pyplot as plt\n",
    "from tqdm.notebook import trange, tqdm\n",
    "import numpy as np\n",
    "import tensorflow as tf\n",
    "import random\n",
    "from sklearn import preprocessing\n",
    "from sklearn.model_selection import train_test_split\n",
    "from tensorflow.keras import layers, models, utils\n",
    "from sklearn.metrics import classification_report, confusion_matrix\n",
    "\n",
    "from data_utils import read_and_preprocess_data\n",
    "from model_utils import *"
   ]
  },
  {
   "cell_type": "markdown",
   "id": "d6e5fe95",
   "metadata": {},
   "source": [
    "## Settings"
   ]
  },
  {
   "cell_type": "code",
   "execution_count": 2,
   "id": "c83c0d21",
   "metadata": {},
   "outputs": [],
   "source": [
    "FRAME_SIZE = 128\n",
    "DATA_PATH = './2sec/data_1_fps'\n",
    "EPOCHS = 50"
   ]
  },
  {
   "cell_type": "markdown",
   "id": "68882663",
   "metadata": {},
   "source": [
    "## Data"
   ]
  },
  {
   "cell_type": "code",
   "execution_count": 3,
   "id": "41431d91",
   "metadata": {},
   "outputs": [
    {
     "name": "stdout",
     "output_type": "stream",
     "text": [
      "reading...\n",
      "BalanceBeam\n",
      "CricketShot\n",
      "Fencing\n",
      "HorseRiding\n",
      "LongJump\n",
      "RockClimbingIndoor\n",
      "SalsaSpin\n",
      "SkyDiving\n",
      "TableTennisShot\n",
      "WallPushups\n",
      "class count = 10\n",
      "med frame count = 2.0\n",
      "padding...\n",
      "Labels encoding...\n",
      "(500,) (500, 2, 128, 128, 3)\n",
      "norm...\n",
      "Train-val-test split...\n",
      "Train: (350, 2, 128, 128, 3) (350,)\n",
      "Val: (45, 2, 128, 128, 3) (45,)\n",
      "Test: (105, 2, 128, 128, 3) (105,)\n"
     ]
    }
   ],
   "source": [
    "CLASS_COUNT, FRAME_COUNT, FRAME_SIZE, X_train, X_val, X_test, y_train, y_val, y_test = read_and_preprocess_data(DATA_PATH, FRAME_SIZE)"
   ]
  },
  {
   "cell_type": "markdown",
   "id": "f99a5cc9",
   "metadata": {},
   "source": [
    "## Model"
   ]
  },
  {
   "cell_type": "code",
   "execution_count": 4,
   "id": "b687e133",
   "metadata": {},
   "outputs": [
    {
     "name": "stdout",
     "output_type": "stream",
     "text": [
      "Model: \"sequential\"\n",
      "_________________________________________________________________\n",
      " Layer (type)                Output Shape              Param #   \n",
      "=================================================================\n",
      " time_distributed (TimeDistr  (None, 2, 62, 62, 64)    4864      \n",
      " ibuted)                                                         \n",
      "                                                                 \n",
      " batch_normalization (BatchN  (None, 2, 62, 62, 64)    248       \n",
      " ormalization)                                                   \n",
      "                                                                 \n",
      " activation (Activation)     (None, 2, 62, 62, 64)     0         \n",
      "                                                                 \n",
      " time_distributed_1 (TimeDis  (None, 2, 30, 30, 32)    32800     \n",
      " tributed)                                                       \n",
      "                                                                 \n",
      " batch_normalization_1 (Batc  (None, 2, 30, 30, 32)    120       \n",
      " hNormalization)                                                 \n",
      "                                                                 \n",
      " activation_1 (Activation)   (None, 2, 30, 30, 32)     0         \n",
      "                                                                 \n",
      " time_distributed_2 (TimeDis  (None, 2, 14, 14, 32)    9248      \n",
      " tributed)                                                       \n",
      "                                                                 \n",
      " batch_normalization_2 (Batc  (None, 2, 14, 14, 32)    56        \n",
      " hNormalization)                                                 \n",
      "                                                                 \n",
      " activation_2 (Activation)   (None, 2, 14, 14, 32)     0         \n",
      "                                                                 \n",
      " time_distributed_3 (TimeDis  (None, 2, 12, 12, 16)    4624      \n",
      " tributed)                                                       \n",
      "                                                                 \n",
      " batch_normalization_3 (Batc  (None, 2, 12, 12, 16)    48        \n",
      " hNormalization)                                                 \n",
      "                                                                 \n",
      " activation_3 (Activation)   (None, 2, 12, 12, 16)     0         \n",
      "                                                                 \n",
      " time_distributed_4 (TimeDis  (None, 2, 6, 6, 16)      0         \n",
      " tributed)                                                       \n",
      "                                                                 \n",
      " time_distributed_5 (TimeDis  (None, 2, 576)           0         \n",
      " tributed)                                                       \n",
      "                                                                 \n",
      " lstm (LSTM)                 (None, 2, 16)             37952     \n",
      "                                                                 \n",
      " global_max_pooling1d (Globa  (None, 16)               0         \n",
      " lMaxPooling1D)                                                  \n",
      "                                                                 \n",
      " dense (Dense)               (None, 20)                340       \n",
      "                                                                 \n",
      " dropout (Dropout)           (None, 20)                0         \n",
      "                                                                 \n",
      " dense_1 (Dense)             (None, 10)                210       \n",
      "                                                                 \n",
      "=================================================================\n",
      "Total params: 90,510\n",
      "Trainable params: 90,274\n",
      "Non-trainable params: 236\n",
      "_________________________________________________________________\n"
     ]
    }
   ],
   "source": [
    "model = models.Sequential()\n",
    "model = add_2d_cnn_part(model, FRAME_COUNT, FRAME_SIZE)\n",
    "model.add(layers.TimeDistributed(layers.Flatten()))\n",
    "model = add_lstm_part(model, return_sequences=True)\n",
    "model.add(layers.GlobalMaxPool1D())\n",
    "model = add_dense_part(model, CLASS_COUNT)\n",
    "\n",
    "model.summary()"
   ]
  },
  {
   "cell_type": "code",
   "execution_count": 5,
   "id": "963ff906",
   "metadata": {},
   "outputs": [],
   "source": [
    "model.compile(optimizer='adam',\n",
    "              loss=tf.keras.losses.SparseCategoricalCrossentropy(from_logits=False),\n",
    "              metrics=['accuracy'],\n",
    "              )\n"
   ]
  },
  {
   "cell_type": "code",
   "execution_count": 6,
   "id": "20cf9db7",
   "metadata": {},
   "outputs": [
    {
     "name": "stdout",
     "output_type": "stream",
     "text": [
      "Epoch 1/50\n",
      "11/11 [==============================] - 12s 125ms/step - loss: 2.3119 - accuracy: 0.1029 - val_loss: 2.2898 - val_accuracy: 0.1333\n",
      "Epoch 2/50\n",
      "11/11 [==============================] - 0s 45ms/step - loss: 2.2627 - accuracy: 0.1543 - val_loss: 2.2689 - val_accuracy: 0.2000\n",
      "Epoch 3/50\n",
      "11/11 [==============================] - 0s 44ms/step - loss: 2.2287 - accuracy: 0.1400 - val_loss: 2.2742 - val_accuracy: 0.0667\n",
      "Epoch 4/50\n",
      "11/11 [==============================] - 0s 44ms/step - loss: 2.2023 - accuracy: 0.1829 - val_loss: 2.2534 - val_accuracy: 0.1778\n",
      "Epoch 5/50\n",
      "11/11 [==============================] - 0s 44ms/step - loss: 2.1466 - accuracy: 0.2171 - val_loss: 2.2535 - val_accuracy: 0.2222\n",
      "Epoch 6/50\n",
      "11/11 [==============================] - 0s 45ms/step - loss: 2.0862 - accuracy: 0.2743 - val_loss: 2.2257 - val_accuracy: 0.2222\n",
      "Epoch 7/50\n",
      "11/11 [==============================] - 0s 44ms/step - loss: 2.0490 - accuracy: 0.3257 - val_loss: 2.1537 - val_accuracy: 0.3556\n",
      "Epoch 8/50\n",
      "11/11 [==============================] - 0s 45ms/step - loss: 2.0002 - accuracy: 0.2971 - val_loss: 2.1063 - val_accuracy: 0.3778\n",
      "Epoch 9/50\n",
      "11/11 [==============================] - 0s 45ms/step - loss: 1.9435 - accuracy: 0.3114 - val_loss: 2.0507 - val_accuracy: 0.3333\n",
      "Epoch 10/50\n",
      "11/11 [==============================] - 0s 45ms/step - loss: 1.8615 - accuracy: 0.3829 - val_loss: 2.0385 - val_accuracy: 0.4222\n",
      "Epoch 11/50\n",
      "11/11 [==============================] - 0s 45ms/step - loss: 1.8451 - accuracy: 0.3886 - val_loss: 2.0219 - val_accuracy: 0.4000\n",
      "Epoch 12/50\n",
      "11/11 [==============================] - 0s 43ms/step - loss: 1.7975 - accuracy: 0.4286 - val_loss: 1.9677 - val_accuracy: 0.4889\n",
      "Epoch 13/50\n",
      "11/11 [==============================] - 0s 44ms/step - loss: 1.7150 - accuracy: 0.4486 - val_loss: 1.9670 - val_accuracy: 0.4000\n",
      "Epoch 14/50\n",
      "11/11 [==============================] - 0s 44ms/step - loss: 1.6540 - accuracy: 0.4429 - val_loss: 1.9754 - val_accuracy: 0.5333\n",
      "Epoch 15/50\n",
      "11/11 [==============================] - 0s 44ms/step - loss: 1.5895 - accuracy: 0.5086 - val_loss: 1.9845 - val_accuracy: 0.4222\n",
      "Epoch 16/50\n",
      "11/11 [==============================] - 0s 44ms/step - loss: 1.5236 - accuracy: 0.4971 - val_loss: 1.9268 - val_accuracy: 0.4222\n",
      "Epoch 17/50\n",
      "11/11 [==============================] - 0s 44ms/step - loss: 1.4306 - accuracy: 0.6029 - val_loss: 1.8983 - val_accuracy: 0.4667\n",
      "Epoch 18/50\n",
      "11/11 [==============================] - 0s 45ms/step - loss: 1.3938 - accuracy: 0.5914 - val_loss: 1.7905 - val_accuracy: 0.4889\n",
      "Epoch 19/50\n",
      "11/11 [==============================] - 0s 45ms/step - loss: 1.3833 - accuracy: 0.5800 - val_loss: 1.7684 - val_accuracy: 0.5111\n",
      "Epoch 20/50\n",
      "11/11 [==============================] - 0s 44ms/step - loss: 1.3539 - accuracy: 0.5714 - val_loss: 1.7869 - val_accuracy: 0.5111\n",
      "Epoch 21/50\n",
      "11/11 [==============================] - 0s 45ms/step - loss: 1.2461 - accuracy: 0.6143 - val_loss: 1.6294 - val_accuracy: 0.5333\n",
      "Epoch 22/50\n",
      "11/11 [==============================] - 0s 44ms/step - loss: 1.1787 - accuracy: 0.6771 - val_loss: 1.5713 - val_accuracy: 0.5556\n",
      "Epoch 23/50\n",
      "11/11 [==============================] - 0s 44ms/step - loss: 1.1522 - accuracy: 0.6743 - val_loss: 1.5524 - val_accuracy: 0.6222\n",
      "Epoch 24/50\n",
      "11/11 [==============================] - 0s 45ms/step - loss: 1.0666 - accuracy: 0.6971 - val_loss: 1.5127 - val_accuracy: 0.5333\n",
      "Epoch 25/50\n",
      "11/11 [==============================] - 0s 44ms/step - loss: 1.0120 - accuracy: 0.7457 - val_loss: 1.5526 - val_accuracy: 0.5111\n",
      "Epoch 26/50\n",
      "11/11 [==============================] - 0s 45ms/step - loss: 0.9529 - accuracy: 0.7343 - val_loss: 1.4585 - val_accuracy: 0.5333\n",
      "Epoch 27/50\n",
      "11/11 [==============================] - 0s 45ms/step - loss: 0.9413 - accuracy: 0.7543 - val_loss: 1.4478 - val_accuracy: 0.5556\n",
      "Epoch 28/50\n",
      "11/11 [==============================] - 0s 44ms/step - loss: 0.9039 - accuracy: 0.7486 - val_loss: 1.4829 - val_accuracy: 0.5556\n",
      "Epoch 29/50\n",
      "11/11 [==============================] - 0s 44ms/step - loss: 0.8292 - accuracy: 0.7800 - val_loss: 1.4549 - val_accuracy: 0.5556\n",
      "Epoch 30/50\n",
      "11/11 [==============================] - 0s 45ms/step - loss: 0.8319 - accuracy: 0.7657 - val_loss: 1.4427 - val_accuracy: 0.6222\n",
      "Epoch 31/50\n",
      "11/11 [==============================] - 0s 45ms/step - loss: 0.7930 - accuracy: 0.7629 - val_loss: 1.4303 - val_accuracy: 0.6667\n",
      "Epoch 32/50\n",
      "11/11 [==============================] - 0s 44ms/step - loss: 0.7301 - accuracy: 0.8143 - val_loss: 1.4633 - val_accuracy: 0.5333\n",
      "Epoch 33/50\n",
      "11/11 [==============================] - 0s 45ms/step - loss: 0.7314 - accuracy: 0.8200 - val_loss: 1.3991 - val_accuracy: 0.5556\n",
      "Epoch 34/50\n",
      "11/11 [==============================] - 0s 44ms/step - loss: 0.7333 - accuracy: 0.8114 - val_loss: 1.4223 - val_accuracy: 0.5333\n",
      "Epoch 35/50\n",
      "11/11 [==============================] - 0s 44ms/step - loss: 0.6778 - accuracy: 0.8229 - val_loss: 1.3429 - val_accuracy: 0.5778\n",
      "Epoch 36/50\n",
      "11/11 [==============================] - 0s 43ms/step - loss: 0.5740 - accuracy: 0.8400 - val_loss: 1.3937 - val_accuracy: 0.5556\n",
      "Epoch 37/50\n",
      "11/11 [==============================] - 0s 44ms/step - loss: 0.5429 - accuracy: 0.8829 - val_loss: 1.3179 - val_accuracy: 0.6222\n",
      "Epoch 38/50\n",
      "11/11 [==============================] - 0s 44ms/step - loss: 0.5122 - accuracy: 0.8743 - val_loss: 1.4106 - val_accuracy: 0.5778\n",
      "Epoch 39/50\n",
      "11/11 [==============================] - 0s 44ms/step - loss: 0.4869 - accuracy: 0.8829 - val_loss: 1.3852 - val_accuracy: 0.6444\n",
      "Epoch 40/50\n",
      "11/11 [==============================] - 0s 43ms/step - loss: 0.5407 - accuracy: 0.8543 - val_loss: 1.3356 - val_accuracy: 0.6000\n",
      "Epoch 41/50\n",
      "11/11 [==============================] - 0s 44ms/step - loss: 0.4580 - accuracy: 0.9057 - val_loss: 1.3674 - val_accuracy: 0.5778\n",
      "Epoch 42/50\n",
      "11/11 [==============================] - 0s 45ms/step - loss: 0.4643 - accuracy: 0.9000 - val_loss: 1.4759 - val_accuracy: 0.6000\n"
     ]
    }
   ],
   "source": [
    "history = model.fit(X_train, y_train, epochs = EPOCHS, validation_data = (X_val, y_val), callbacks=[early_stopping])"
   ]
  },
  {
   "cell_type": "markdown",
   "id": "57ec1982",
   "metadata": {},
   "source": [
    "### Train & validation Loss"
   ]
  },
  {
   "cell_type": "code",
   "execution_count": 7,
   "id": "b6c8d1db",
   "metadata": {},
   "outputs": [
    {
     "data": {
      "text/plain": [
       "<matplotlib.legend.Legend at 0x20e7d16a550>"
      ]
     },
     "execution_count": 7,
     "metadata": {},
     "output_type": "execute_result"
    },
    {
     "data": {
      "image/png": "[encoded data removed]",
      "text/plain": [
       "<Figure size 432x288 with 1 Axes>"
      ]
     },
     "metadata": {
      "needs_background": "light"
     },
     "output_type": "display_data"
    }
   ],
   "source": [
    "plt.plot(history.history['loss'], label='loss')\n",
    "plt.plot(history.history['val_loss'], label = 'val_loss')\n",
    "plt.xlabel('Epoch')\n",
    "plt.ylabel('Loss')\n",
    "plt.ylim([0.0, 3])\n",
    "plt.legend(loc='lower right')"
   ]
  },
  {
   "cell_type": "markdown",
   "id": "7af69023",
   "metadata": {},
   "source": [
    "### Train & validation Accuracy"
   ]
  },
  {
   "cell_type": "code",
   "execution_count": 8,
   "id": "0bb8dfca",
   "metadata": {},
   "outputs": [
    {
     "data": {
      "text/plain": [
       "<matplotlib.legend.Legend at 0x20bd0c92a60>"
      ]
     },
     "execution_count": 8,
     "metadata": {},
     "output_type": "execute_result"
    },
    {
     "data": {
      "image/png": "[encoded data removed]",
      "text/plain": [
       "<Figure size 432x288 with 1 Axes>"
      ]
     },
     "metadata": {
      "needs_background": "light"
     },
     "output_type": "display_data"
    }
   ],
   "source": [
    "plt.plot(history.history['accuracy'], label='accuracy')\n",
    "plt.plot(history.history['val_accuracy'], label = 'val_accuracy')\n",
    "plt.xlabel('Epoch')\n",
    "plt.ylabel('Accuracy')\n",
    "plt.ylim([0.0, 1])\n",
    "plt.legend(loc='lower right')"
   ]
  },
  {
   "cell_type": "markdown",
   "id": "9b30546c",
   "metadata": {},
   "source": [
    "## Test"
   ]
  },
  {
   "cell_type": "code",
   "execution_count": 9,
   "id": "cf4c662a",
   "metadata": {},
   "outputs": [
    {
     "name": "stdout",
     "output_type": "stream",
     "text": [
      "4/4 [==============================] - 1s 17ms/step\n"
     ]
    }
   ],
   "source": [
    "predict = np.argmax(model.predict(X_test), axis=1)"
   ]
  },
  {
   "cell_type": "code",
   "execution_count": 10,
   "id": "6ec7a04a",
   "metadata": {},
   "outputs": [
    {
     "name": "stdout",
     "output_type": "stream",
     "text": [
      "              precision    recall  f1-score   support\n",
      "\n",
      "           0       0.85      0.73      0.79        15\n",
      "           1       0.75      0.75      0.75        16\n",
      "           2       0.38      0.60      0.46         5\n",
      "           3       0.38      0.67      0.48         9\n",
      "           4       1.00      0.40      0.57        10\n",
      "           5       0.50      0.38      0.43         8\n",
      "           6       1.00      0.36      0.53        14\n",
      "           7       0.62      0.50      0.56        10\n",
      "           8       0.21      0.44      0.29         9\n",
      "           9       0.70      0.78      0.74         9\n",
      "\n",
      "    accuracy                           0.57       105\n",
      "   macro avg       0.64      0.56      0.56       105\n",
      "weighted avg       0.69      0.57      0.59       105\n",
      "\n"
     ]
    }
   ],
   "source": [
    "print(classification_report(y_test, predict))"
   ]
  },
  {
   "cell_type": "code",
   "execution_count": 11,
   "id": "9433cc53",
   "metadata": {},
   "outputs": [
    {
     "data": {
      "image/png": "[encoded data removed]",
      "text/plain": [
       "<Figure size 400x400 with 2 Axes>"
      ]
     },
     "metadata": {
      "needs_background": "light"
     },
     "output_type": "display_data"
    }
   ],
   "source": [
    "fig = plt.figure(figsize=(CLASS_COUNT // 2, CLASS_COUNT // 2), dpi=80)\n",
    "M = confusion_matrix(predict, y_test)\n",
    "plt.imshow(M, interpolation = 'nearest')\n",
    "plt.set_cmap('binary')\n",
    "plt.xticks(range(CLASS_COUNT))\n",
    "plt.yticks(range(CLASS_COUNT))\n",
    "plt.xlabel(\"true label\")\n",
    "plt.ylabel(\"predicted label\")\n",
    "plt.colorbar()\n",
    "pass"
   ]
  },
  {
   "cell_type": "code",
   "execution_count": null,
   "id": "5c484710",
   "metadata": {},
   "outputs": [],
   "source": []
  }
 ],
 "metadata": {
  "kernelspec": {
   "display_name": "Python 3 (ipykernel)",
   "language": "python",
   "name": "python3"
  },
  "language_info": {
   "codemirror_mode": {
    "name": "ipython",
    "version": 3
   },
   "file_extension": ".py",
   "mimetype": "text/x-python",
   "name": "python",
   "nbconvert_exporter": "python",
   "pygments_lexer": "ipython3",
   "version": "3.9.6"
  }
 },
 "nbformat": 4,
 "nbformat_minor": 5
}
