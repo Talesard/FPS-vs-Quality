{
 "cells": [
  {
   "cell_type": "code",
   "execution_count": 1,
   "id": "867cbce7",
   "metadata": {},
   "outputs": [],
   "source": [
    "import os\n",
    "\n",
    "import cv2\n",
    "from matplotlib import pyplot as plt\n",
    "from tqdm.notebook import trange, tqdm\n",
    "import numpy as np\n",
    "import tensorflow as tf\n",
    "import random\n",
    "from sklearn import preprocessing\n",
    "from sklearn.model_selection import train_test_split\n",
    "from tensorflow.keras import layers, models, utils\n",
    "from sklearn.metrics import classification_report, confusion_matrix\n",
    "\n",
    "from data_utils import read_and_preprocess_data\n",
    "from model_utils import *"
   ]
  },
  {
   "cell_type": "markdown",
   "id": "d6e5fe95",
   "metadata": {},
   "source": [
    "## Settings"
   ]
  },
  {
   "cell_type": "code",
   "execution_count": 2,
   "id": "c83c0d21",
   "metadata": {},
   "outputs": [],
   "source": [
    "FRAME_SIZE = 128\n",
    "DATA_PATH = './2sec/data_12_fps'\n",
    "EPOCHS = 50"
   ]
  },
  {
   "cell_type": "markdown",
   "id": "68882663",
   "metadata": {},
   "source": [
    "## Data"
   ]
  },
  {
   "cell_type": "code",
   "execution_count": 3,
   "id": "41431d91",
   "metadata": {},
   "outputs": [
    {
     "name": "stdout",
     "output_type": "stream",
     "text": [
      "reading...\n",
      "BalanceBeam\n",
      "CricketShot\n",
      "Fencing\n",
      "HorseRiding\n",
      "LongJump\n",
      "RockClimbingIndoor\n",
      "SalsaSpin\n",
      "SkyDiving\n",
      "TableTennisShot\n",
      "WallPushups\n",
      "class count = 10\n",
      "med frame count = 24.0\n",
      "padding...\n",
      "Labels encoding...\n",
      "(500,) (500, 24, 128, 128, 3)\n",
      "norm...\n",
      "Train-val-test split...\n",
      "Train: (350, 24, 128, 128, 3) (350,)\n",
      "Val: (45, 24, 128, 128, 3) (45,)\n",
      "Test: (105, 24, 128, 128, 3) (105,)\n"
     ]
    }
   ],
   "source": [
    "CLASS_COUNT, FRAME_COUNT, FRAME_SIZE, X_train, X_val, X_test, y_train, y_val, y_test = read_and_preprocess_data(DATA_PATH, FRAME_SIZE)"
   ]
  },
  {
   "cell_type": "markdown",
   "id": "f99a5cc9",
   "metadata": {},
   "source": [
    "## Model"
   ]
  },
  {
   "cell_type": "code",
   "execution_count": 12,
   "id": "b687e133",
   "metadata": {},
   "outputs": [
    {
     "name": "stdout",
     "output_type": "stream",
     "text": [
      "Model: \"sequential_1\"\n",
      "_________________________________________________________________\n",
      " Layer (type)                Output Shape              Param #   \n",
      "=================================================================\n",
      " time_distributed_6 (TimeDis  (None, 24, 62, 62, 64)   4864      \n",
      " tributed)                                                       \n",
      "                                                                 \n",
      " batch_normalization_4 (Batc  (None, 24, 62, 62, 64)   248       \n",
      " hNormalization)                                                 \n",
      "                                                                 \n",
      " activation_4 (Activation)   (None, 24, 62, 62, 64)    0         \n",
      "                                                                 \n",
      " time_distributed_7 (TimeDis  (None, 24, 30, 30, 32)   32800     \n",
      " tributed)                                                       \n",
      "                                                                 \n",
      " batch_normalization_5 (Batc  (None, 24, 30, 30, 32)   120       \n",
      " hNormalization)                                                 \n",
      "                                                                 \n",
      " activation_5 (Activation)   (None, 24, 30, 30, 32)    0         \n",
      "                                                                 \n",
      " time_distributed_8 (TimeDis  (None, 24, 14, 14, 32)   9248      \n",
      " tributed)                                                       \n",
      "                                                                 \n",
      " batch_normalization_6 (Batc  (None, 24, 14, 14, 32)   56        \n",
      " hNormalization)                                                 \n",
      "                                                                 \n",
      " activation_6 (Activation)   (None, 24, 14, 14, 32)    0         \n",
      "                                                                 \n",
      " time_distributed_9 (TimeDis  (None, 24, 12, 12, 16)   4624      \n",
      " tributed)                                                       \n",
      "                                                                 \n",
      " batch_normalization_7 (Batc  (None, 24, 12, 12, 16)   48        \n",
      " hNormalization)                                                 \n",
      "                                                                 \n",
      " activation_7 (Activation)   (None, 24, 12, 12, 16)    0         \n",
      "                                                                 \n",
      " time_distributed_10 (TimeDi  (None, 24, 6, 6, 16)     0         \n",
      " stributed)                                                      \n",
      "                                                                 \n",
      " time_distributed_11 (TimeDi  (None, 24, 576)          0         \n",
      " stributed)                                                      \n",
      "                                                                 \n",
      " lstm_1 (LSTM)               (None, 24, 16)            37952     \n",
      "                                                                 \n",
      " global_max_pooling1d_1 (Glo  (None, 16)               0         \n",
      " balMaxPooling1D)                                                \n",
      "                                                                 \n",
      " dense_2 (Dense)             (None, 20)                340       \n",
      "                                                                 \n",
      " dropout_1 (Dropout)         (None, 20)                0         \n",
      "                                                                 \n",
      " dense_3 (Dense)             (None, 10)                210       \n",
      "                                                                 \n",
      "=================================================================\n",
      "Total params: 90,510\n",
      "Trainable params: 90,274\n",
      "Non-trainable params: 236\n",
      "_________________________________________________________________\n"
     ]
    }
   ],
   "source": [
    "model = models.Sequential()\n",
    "model = add_2d_cnn_part(model, FRAME_COUNT, FRAME_SIZE)\n",
    "model.add(layers.TimeDistributed(layers.Flatten()))\n",
    "model = add_lstm_part(model, return_sequences=True)\n",
    "model.add(layers.GlobalMaxPool1D())\n",
    "model = add_dense_part(model, CLASS_COUNT)\n",
    "\n",
    "model.summary()"
   ]
  },
  {
   "cell_type": "code",
   "execution_count": 13,
   "id": "963ff906",
   "metadata": {},
   "outputs": [],
   "source": [
    "model.compile(optimizer='adam',\n",
    "              loss=tf.keras.losses.SparseCategoricalCrossentropy(from_logits=False),\n",
    "              metrics=['accuracy'],\n",
    "              )\n"
   ]
  },
  {
   "cell_type": "code",
   "execution_count": 14,
   "id": "20cf9db7",
   "metadata": {},
   "outputs": [
    {
     "name": "stdout",
     "output_type": "stream",
     "text": [
      "Epoch 1/50\n",
      "11/11 [==============================] - 7s 418ms/step - loss: 2.3110 - accuracy: 0.1086 - val_loss: 2.3257 - val_accuracy: 0.0889\n",
      "Epoch 2/50\n",
      "11/11 [==============================] - 4s 369ms/step - loss: 2.2810 - accuracy: 0.1257 - val_loss: 2.2986 - val_accuracy: 0.0667\n",
      "Epoch 3/50\n",
      "11/11 [==============================] - 4s 368ms/step - loss: 2.2651 - accuracy: 0.1286 - val_loss: 2.2760 - val_accuracy: 0.1111\n",
      "Epoch 4/50\n",
      "11/11 [==============================] - 4s 371ms/step - loss: 2.2156 - accuracy: 0.1714 - val_loss: 2.2512 - val_accuracy: 0.0667\n",
      "Epoch 5/50\n",
      "11/11 [==============================] - 4s 371ms/step - loss: 2.1933 - accuracy: 0.1800 - val_loss: 2.2332 - val_accuracy: 0.0444\n",
      "Epoch 6/50\n",
      "11/11 [==============================] - 4s 374ms/step - loss: 2.1703 - accuracy: 0.1800 - val_loss: 2.2082 - val_accuracy: 0.0889\n",
      "Epoch 7/50\n",
      "11/11 [==============================] - 4s 371ms/step - loss: 2.1502 - accuracy: 0.2086 - val_loss: 2.1890 - val_accuracy: 0.1111\n",
      "Epoch 8/50\n",
      "11/11 [==============================] - 4s 369ms/step - loss: 2.1084 - accuracy: 0.2343 - val_loss: 2.1672 - val_accuracy: 0.1111\n",
      "Epoch 9/50\n",
      "11/11 [==============================] - 4s 371ms/step - loss: 2.0763 - accuracy: 0.2171 - val_loss: 2.1277 - val_accuracy: 0.1111\n",
      "Epoch 10/50\n",
      "11/11 [==============================] - 4s 370ms/step - loss: 2.0239 - accuracy: 0.2829 - val_loss: 2.1099 - val_accuracy: 0.1556\n",
      "Epoch 11/50\n",
      "11/11 [==============================] - 4s 370ms/step - loss: 2.0108 - accuracy: 0.2771 - val_loss: 2.0578 - val_accuracy: 0.1556\n",
      "Epoch 12/50\n",
      "11/11 [==============================] - 4s 370ms/step - loss: 1.9670 - accuracy: 0.3286 - val_loss: 2.0255 - val_accuracy: 0.2222\n",
      "Epoch 13/50\n",
      "11/11 [==============================] - 4s 372ms/step - loss: 1.9684 - accuracy: 0.3343 - val_loss: 1.9842 - val_accuracy: 0.2667\n",
      "Epoch 14/50\n",
      "11/11 [==============================] - 4s 371ms/step - loss: 1.9167 - accuracy: 0.3629 - val_loss: 2.0005 - val_accuracy: 0.2000\n",
      "Epoch 15/50\n",
      "11/11 [==============================] - 4s 372ms/step - loss: 1.8674 - accuracy: 0.3743 - val_loss: 1.9505 - val_accuracy: 0.1333\n",
      "Epoch 16/50\n",
      "11/11 [==============================] - 4s 369ms/step - loss: 1.7655 - accuracy: 0.4429 - val_loss: 1.9548 - val_accuracy: 0.2000\n",
      "Epoch 17/50\n",
      "11/11 [==============================] - 4s 370ms/step - loss: 1.7388 - accuracy: 0.4057 - val_loss: 1.8975 - val_accuracy: 0.2444\n",
      "Epoch 18/50\n",
      "11/11 [==============================] - 4s 370ms/step - loss: 1.6691 - accuracy: 0.4543 - val_loss: 1.8438 - val_accuracy: 0.2667\n",
      "Epoch 19/50\n",
      "11/11 [==============================] - 4s 370ms/step - loss: 1.6729 - accuracy: 0.4429 - val_loss: 1.8807 - val_accuracy: 0.2889\n",
      "Epoch 20/50\n",
      "11/11 [==============================] - 4s 370ms/step - loss: 1.6080 - accuracy: 0.4600 - val_loss: 1.8240 - val_accuracy: 0.3111\n",
      "Epoch 21/50\n",
      "11/11 [==============================] - 4s 370ms/step - loss: 1.5996 - accuracy: 0.4200 - val_loss: 1.7828 - val_accuracy: 0.3333\n",
      "Epoch 22/50\n",
      "11/11 [==============================] - 4s 370ms/step - loss: 1.5229 - accuracy: 0.4943 - val_loss: 1.7216 - val_accuracy: 0.3778\n",
      "Epoch 23/50\n",
      "11/11 [==============================] - 4s 369ms/step - loss: 1.4519 - accuracy: 0.5486 - val_loss: 1.8358 - val_accuracy: 0.3333\n",
      "Epoch 24/50\n",
      "11/11 [==============================] - 4s 374ms/step - loss: 1.4992 - accuracy: 0.4943 - val_loss: 1.7305 - val_accuracy: 0.3778\n",
      "Epoch 25/50\n",
      "11/11 [==============================] - 4s 370ms/step - loss: 1.4040 - accuracy: 0.5229 - val_loss: 1.7268 - val_accuracy: 0.4000\n",
      "Epoch 26/50\n",
      "11/11 [==============================] - 4s 373ms/step - loss: 1.3437 - accuracy: 0.5714 - val_loss: 1.6538 - val_accuracy: 0.4667\n",
      "Epoch 27/50\n",
      "11/11 [==============================] - 4s 372ms/step - loss: 1.2888 - accuracy: 0.5914 - val_loss: 1.6604 - val_accuracy: 0.5111\n",
      "Epoch 28/50\n",
      "11/11 [==============================] - 4s 372ms/step - loss: 1.1523 - accuracy: 0.6486 - val_loss: 1.6582 - val_accuracy: 0.4889\n",
      "Epoch 29/50\n",
      "11/11 [==============================] - 4s 372ms/step - loss: 1.2437 - accuracy: 0.5771 - val_loss: 1.6098 - val_accuracy: 0.5111\n",
      "Epoch 30/50\n",
      "11/11 [==============================] - 4s 370ms/step - loss: 1.1494 - accuracy: 0.6429 - val_loss: 1.6315 - val_accuracy: 0.4667\n",
      "Epoch 31/50\n",
      "11/11 [==============================] - 4s 370ms/step - loss: 1.1801 - accuracy: 0.6200 - val_loss: 1.7073 - val_accuracy: 0.4222\n",
      "Epoch 32/50\n",
      "11/11 [==============================] - 4s 370ms/step - loss: 1.0834 - accuracy: 0.6486 - val_loss: 1.6351 - val_accuracy: 0.4444\n",
      "Epoch 33/50\n",
      "11/11 [==============================] - 4s 368ms/step - loss: 1.1003 - accuracy: 0.6714 - val_loss: 1.6845 - val_accuracy: 0.4444\n",
      "Epoch 34/50\n",
      "11/11 [==============================] - 4s 374ms/step - loss: 1.0913 - accuracy: 0.6571 - val_loss: 1.6922 - val_accuracy: 0.4667\n"
     ]
    }
   ],
   "source": [
    "history = model.fit(X_train, y_train, epochs = EPOCHS, validation_data = (X_val, y_val), callbacks=[early_stopping])"
   ]
  },
  {
   "cell_type": "markdown",
   "id": "57ec1982",
   "metadata": {},
   "source": [
    "### Train & validation Loss"
   ]
  },
  {
   "cell_type": "code",
   "execution_count": 15,
   "id": "b6c8d1db",
   "metadata": {},
   "outputs": [
    {
     "data": {
      "text/plain": [
       "<matplotlib.legend.Legend at 0x1bfdc3e2af0>"
      ]
     },
     "execution_count": 15,
     "metadata": {},
     "output_type": "execute_result"
    },
    {
     "data": {
      "image/png": "[encoded data removed]",
      "text/plain": [
       "<Figure size 432x288 with 1 Axes>"
      ]
     },
     "metadata": {
      "needs_background": "light"
     },
     "output_type": "display_data"
    }
   ],
   "source": [
    "plt.plot(history.history['loss'], label='loss')\n",
    "plt.plot(history.history['val_loss'], label = 'val_loss')\n",
    "plt.xlabel('Epoch')\n",
    "plt.ylabel('Loss')\n",
    "plt.ylim([0.0, 3])\n",
    "plt.legend(loc='lower right')"
   ]
  },
  {
   "cell_type": "markdown",
   "id": "7af69023",
   "metadata": {},
   "source": [
    "### Train & validation Accuracy"
   ]
  },
  {
   "cell_type": "code",
   "execution_count": 16,
   "id": "0bb8dfca",
   "metadata": {},
   "outputs": [
    {
     "data": {
      "text/plain": [
       "<matplotlib.legend.Legend at 0x1bfdc372be0>"
      ]
     },
     "execution_count": 16,
     "metadata": {},
     "output_type": "execute_result"
    },
    {
     "data": {
      "image/png": "[encoded data removed]",
      "text/plain": [
       "<Figure size 432x288 with 1 Axes>"
      ]
     },
     "metadata": {
      "needs_background": "light"
     },
     "output_type": "display_data"
    }
   ],
   "source": [
    "plt.plot(history.history['accuracy'], label='accuracy')\n",
    "plt.plot(history.history['val_accuracy'], label = 'val_accuracy')\n",
    "plt.xlabel('Epoch')\n",
    "plt.ylabel('Accuracy')\n",
    "plt.ylim([0.0, 1])\n",
    "plt.legend(loc='lower right')"
   ]
  },
  {
   "cell_type": "markdown",
   "id": "9b30546c",
   "metadata": {},
   "source": [
    "## Test"
   ]
  },
  {
   "cell_type": "code",
   "execution_count": 17,
   "id": "cf4c662a",
   "metadata": {},
   "outputs": [
    {
     "name": "stdout",
     "output_type": "stream",
     "text": [
      "4/4 [==============================] - 1s 64ms/step\n"
     ]
    }
   ],
   "source": [
    "predict = np.argmax(model.predict(X_test), axis=1)"
   ]
  },
  {
   "cell_type": "code",
   "execution_count": 18,
   "id": "6ec7a04a",
   "metadata": {},
   "outputs": [
    {
     "name": "stdout",
     "output_type": "stream",
     "text": [
      "              precision    recall  f1-score   support\n",
      "\n",
      "           0       0.67      0.40      0.50        15\n",
      "           1       0.77      0.62      0.69        16\n",
      "           2       0.44      0.80      0.57         5\n",
      "           3       0.41      0.78      0.54         9\n",
      "           4       0.22      0.20      0.21        10\n",
      "           5       0.30      0.38      0.33         8\n",
      "           6       1.00      0.21      0.35        14\n",
      "           7       0.28      0.50      0.36        10\n",
      "           8       0.20      0.11      0.14         9\n",
      "           9       0.58      0.78      0.67         9\n",
      "\n",
      "    accuracy                           0.46       105\n",
      "   macro avg       0.49      0.48      0.44       105\n",
      "weighted avg       0.54      0.46      0.45       105\n",
      "\n"
     ]
    }
   ],
   "source": [
    "print(classification_report(y_test, predict))"
   ]
  },
  {
   "cell_type": "code",
   "execution_count": 19,
   "id": "9433cc53",
   "metadata": {},
   "outputs": [
    {
     "data": {
      "image/png": "[encoded data removed]",
      "text/plain": [
       "<Figure size 400x400 with 2 Axes>"
      ]
     },
     "metadata": {
      "needs_background": "light"
     },
     "output_type": "display_data"
    }
   ],
   "source": [
    "fig = plt.figure(figsize=(CLASS_COUNT // 2, CLASS_COUNT // 2), dpi=80)\n",
    "M = confusion_matrix(predict, y_test)\n",
    "plt.imshow(M, interpolation = 'nearest')\n",
    "plt.set_cmap('binary')\n",
    "plt.xticks(range(CLASS_COUNT))\n",
    "plt.yticks(range(CLASS_COUNT))\n",
    "plt.xlabel(\"true label\")\n",
    "plt.ylabel(\"predicted label\")\n",
    "plt.colorbar()\n",
    "pass"
   ]
  },
  {
   "cell_type": "code",
   "execution_count": null,
   "id": "5c484710",
   "metadata": {},
   "outputs": [],
   "source": []
  }
 ],
 "metadata": {
  "kernelspec": {
   "display_name": "Python 3 (ipykernel)",
   "language": "python",
   "name": "python3"
  },
  "language_info": {
   "codemirror_mode": {
    "name": "ipython",
    "version": 3
   },
   "file_extension": ".py",
   "mimetype": "text/x-python",
   "name": "python",
   "nbconvert_exporter": "python",
   "pygments_lexer": "ipython3",
   "version": "3.9.6"
  }
 },
 "nbformat": 4,
 "nbformat_minor": 5
}
