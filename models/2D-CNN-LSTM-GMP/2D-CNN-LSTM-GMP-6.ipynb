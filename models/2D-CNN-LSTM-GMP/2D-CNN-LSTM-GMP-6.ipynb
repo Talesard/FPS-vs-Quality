{
 "cells": [
  {
   "cell_type": "code",
   "execution_count": 1,
   "id": "867cbce7",
   "metadata": {},
   "outputs": [],
   "source": [
    "import os\n",
    "\n",
    "import cv2\n",
    "from matplotlib import pyplot as plt\n",
    "from tqdm.notebook import trange, tqdm\n",
    "import numpy as np\n",
    "import tensorflow as tf\n",
    "import random\n",
    "from sklearn import preprocessing\n",
    "from sklearn.model_selection import train_test_split\n",
    "from tensorflow.keras import layers, models, utils\n",
    "from sklearn.metrics import classification_report, confusion_matrix\n",
    "\n",
    "from data_utils import read_and_preprocess_data\n",
    "from model_utils import *"
   ]
  },
  {
   "cell_type": "markdown",
   "id": "d6e5fe95",
   "metadata": {},
   "source": [
    "## Settings"
   ]
  },
  {
   "cell_type": "code",
   "execution_count": 2,
   "id": "c83c0d21",
   "metadata": {},
   "outputs": [],
   "source": [
    "FRAME_SIZE = 128\n",
    "DATA_PATH = './2sec/data_6_fps'\n",
    "EPOCHS = 50"
   ]
  },
  {
   "cell_type": "markdown",
   "id": "68882663",
   "metadata": {},
   "source": [
    "## Data"
   ]
  },
  {
   "cell_type": "code",
   "execution_count": 3,
   "id": "41431d91",
   "metadata": {},
   "outputs": [
    {
     "name": "stdout",
     "output_type": "stream",
     "text": [
      "reading...\n",
      "BalanceBeam\n",
      "CricketShot\n",
      "Fencing\n",
      "HorseRiding\n",
      "LongJump\n",
      "RockClimbingIndoor\n",
      "SalsaSpin\n",
      "SkyDiving\n",
      "TableTennisShot\n",
      "WallPushups\n",
      "class count = 10\n",
      "med frame count = 12.0\n",
      "padding...\n",
      "Labels encoding...\n",
      "(500,) (500, 12, 128, 128, 3)\n",
      "norm...\n",
      "Train-val-test split...\n",
      "Train: (350, 12, 128, 128, 3) (350,)\n",
      "Val: (45, 12, 128, 128, 3) (45,)\n",
      "Test: (105, 12, 128, 128, 3) (105,)\n"
     ]
    }
   ],
   "source": [
    "CLASS_COUNT, FRAME_COUNT, FRAME_SIZE, X_train, X_val, X_test, y_train, y_val, y_test = read_and_preprocess_data(DATA_PATH, FRAME_SIZE)"
   ]
  },
  {
   "cell_type": "markdown",
   "id": "f99a5cc9",
   "metadata": {},
   "source": [
    "## Model"
   ]
  },
  {
   "cell_type": "code",
   "execution_count": 4,
   "id": "b687e133",
   "metadata": {},
   "outputs": [
    {
     "name": "stdout",
     "output_type": "stream",
     "text": [
      "Model: \"sequential\"\n",
      "_________________________________________________________________\n",
      " Layer (type)                Output Shape              Param #   \n",
      "=================================================================\n",
      " time_distributed (TimeDistr  (None, 12, 62, 62, 64)   4864      \n",
      " ibuted)                                                         \n",
      "                                                                 \n",
      " batch_normalization (BatchN  (None, 12, 62, 62, 64)   248       \n",
      " ormalization)                                                   \n",
      "                                                                 \n",
      " activation (Activation)     (None, 12, 62, 62, 64)    0         \n",
      "                                                                 \n",
      " time_distributed_1 (TimeDis  (None, 12, 30, 30, 32)   32800     \n",
      " tributed)                                                       \n",
      "                                                                 \n",
      " batch_normalization_1 (Batc  (None, 12, 30, 30, 32)   120       \n",
      " hNormalization)                                                 \n",
      "                                                                 \n",
      " activation_1 (Activation)   (None, 12, 30, 30, 32)    0         \n",
      "                                                                 \n",
      " time_distributed_2 (TimeDis  (None, 12, 14, 14, 32)   9248      \n",
      " tributed)                                                       \n",
      "                                                                 \n",
      " batch_normalization_2 (Batc  (None, 12, 14, 14, 32)   56        \n",
      " hNormalization)                                                 \n",
      "                                                                 \n",
      " activation_2 (Activation)   (None, 12, 14, 14, 32)    0         \n",
      "                                                                 \n",
      " time_distributed_3 (TimeDis  (None, 12, 12, 12, 16)   4624      \n",
      " tributed)                                                       \n",
      "                                                                 \n",
      " batch_normalization_3 (Batc  (None, 12, 12, 12, 16)   48        \n",
      " hNormalization)                                                 \n",
      "                                                                 \n",
      " activation_3 (Activation)   (None, 12, 12, 12, 16)    0         \n",
      "                                                                 \n",
      " time_distributed_4 (TimeDis  (None, 12, 6, 6, 16)     0         \n",
      " tributed)                                                       \n",
      "                                                                 \n",
      " time_distributed_5 (TimeDis  (None, 12, 576)          0         \n",
      " tributed)                                                       \n",
      "                                                                 \n",
      " lstm (LSTM)                 (None, 12, 16)            37952     \n",
      "                                                                 \n",
      " global_max_pooling1d (Globa  (None, 16)               0         \n",
      " lMaxPooling1D)                                                  \n",
      "                                                                 \n",
      " dense (Dense)               (None, 20)                340       \n",
      "                                                                 \n",
      " dropout (Dropout)           (None, 20)                0         \n",
      "                                                                 \n",
      " dense_1 (Dense)             (None, 10)                210       \n",
      "                                                                 \n",
      "=================================================================\n",
      "Total params: 90,510\n",
      "Trainable params: 90,274\n",
      "Non-trainable params: 236\n",
      "_________________________________________________________________\n"
     ]
    }
   ],
   "source": [
    "model = models.Sequential()\n",
    "model = add_2d_cnn_part(model, FRAME_COUNT, FRAME_SIZE)\n",
    "model.add(layers.TimeDistributed(layers.Flatten()))\n",
    "model = add_lstm_part(model, return_sequences=True)\n",
    "model.add(layers.GlobalMaxPool1D())\n",
    "model = add_dense_part(model, CLASS_COUNT)\n",
    "\n",
    "model.summary()"
   ]
  },
  {
   "cell_type": "code",
   "execution_count": 5,
   "id": "963ff906",
   "metadata": {},
   "outputs": [],
   "source": [
    "model.compile(optimizer='adam',\n",
    "              loss=tf.keras.losses.SparseCategoricalCrossentropy(from_logits=False),\n",
    "              metrics=['accuracy'],\n",
    "              )\n"
   ]
  },
  {
   "cell_type": "code",
   "execution_count": 6,
   "id": "20cf9db7",
   "metadata": {},
   "outputs": [
    {
     "name": "stdout",
     "output_type": "stream",
     "text": [
      "Epoch 1/50\n",
      "11/11 [==============================] - 9s 313ms/step - loss: 2.3046 - accuracy: 0.1000 - val_loss: 2.3043 - val_accuracy: 0.0889\n",
      "Epoch 2/50\n",
      "11/11 [==============================] - 2s 164ms/step - loss: 2.2648 - accuracy: 0.1314 - val_loss: 2.2964 - val_accuracy: 0.0889\n",
      "Epoch 3/50\n",
      "11/11 [==============================] - 2s 166ms/step - loss: 2.2399 - accuracy: 0.1171 - val_loss: 2.2662 - val_accuracy: 0.1333\n",
      "Epoch 4/50\n",
      "11/11 [==============================] - 2s 163ms/step - loss: 2.2146 - accuracy: 0.1771 - val_loss: 2.2721 - val_accuracy: 0.1111\n",
      "Epoch 5/50\n",
      "11/11 [==============================] - 2s 163ms/step - loss: 2.1875 - accuracy: 0.1371 - val_loss: 2.2593 - val_accuracy: 0.1333\n",
      "Epoch 6/50\n",
      "11/11 [==============================] - 2s 162ms/step - loss: 2.1788 - accuracy: 0.1457 - val_loss: 2.2617 - val_accuracy: 0.1111\n",
      "Epoch 7/50\n",
      "11/11 [==============================] - 2s 165ms/step - loss: 2.1941 - accuracy: 0.1743 - val_loss: 2.2801 - val_accuracy: 0.1111\n",
      "Epoch 8/50\n",
      "11/11 [==============================] - 2s 165ms/step - loss: 2.1477 - accuracy: 0.1829 - val_loss: 2.2481 - val_accuracy: 0.1556\n",
      "Epoch 9/50\n",
      "11/11 [==============================] - 2s 169ms/step - loss: 2.1304 - accuracy: 0.2000 - val_loss: 2.1833 - val_accuracy: 0.2222\n",
      "Epoch 10/50\n",
      "11/11 [==============================] - 2s 163ms/step - loss: 2.0725 - accuracy: 0.2314 - val_loss: 2.1314 - val_accuracy: 0.3111\n",
      "Epoch 11/50\n",
      "11/11 [==============================] - 2s 163ms/step - loss: 2.0542 - accuracy: 0.2257 - val_loss: 2.1065 - val_accuracy: 0.2222\n",
      "Epoch 12/50\n",
      "11/11 [==============================] - 2s 166ms/step - loss: 2.0050 - accuracy: 0.2771 - val_loss: 2.1154 - val_accuracy: 0.2000\n",
      "Epoch 13/50\n",
      "11/11 [==============================] - 2s 172ms/step - loss: 1.9886 - accuracy: 0.3200 - val_loss: 2.0396 - val_accuracy: 0.2444\n",
      "Epoch 14/50\n",
      "11/11 [==============================] - 2s 169ms/step - loss: 1.9240 - accuracy: 0.3029 - val_loss: 2.0305 - val_accuracy: 0.2444\n",
      "Epoch 15/50\n",
      "11/11 [==============================] - 2s 169ms/step - loss: 1.8894 - accuracy: 0.3229 - val_loss: 2.0145 - val_accuracy: 0.3111\n",
      "Epoch 16/50\n",
      "11/11 [==============================] - 2s 169ms/step - loss: 1.9083 - accuracy: 0.3143 - val_loss: 2.0113 - val_accuracy: 0.2444\n",
      "Epoch 17/50\n",
      "11/11 [==============================] - 2s 168ms/step - loss: 1.7993 - accuracy: 0.3800 - val_loss: 1.9468 - val_accuracy: 0.1778\n",
      "Epoch 18/50\n",
      "11/11 [==============================] - 2s 162ms/step - loss: 1.7738 - accuracy: 0.3514 - val_loss: 1.8666 - val_accuracy: 0.3111\n",
      "Epoch 19/50\n",
      "11/11 [==============================] - 2s 169ms/step - loss: 1.7452 - accuracy: 0.3914 - val_loss: 1.9101 - val_accuracy: 0.2667\n",
      "Epoch 20/50\n",
      "11/11 [==============================] - 2s 169ms/step - loss: 1.7279 - accuracy: 0.3857 - val_loss: 1.8946 - val_accuracy: 0.3333\n",
      "Epoch 21/50\n",
      "11/11 [==============================] - 2s 169ms/step - loss: 1.6323 - accuracy: 0.4200 - val_loss: 1.8064 - val_accuracy: 0.4444\n",
      "Epoch 22/50\n",
      "11/11 [==============================] - 2s 165ms/step - loss: 1.6176 - accuracy: 0.4057 - val_loss: 1.7451 - val_accuracy: 0.4222\n",
      "Epoch 23/50\n",
      "11/11 [==============================] - 2s 167ms/step - loss: 1.5412 - accuracy: 0.5086 - val_loss: 1.7571 - val_accuracy: 0.4667\n",
      "Epoch 24/50\n",
      "11/11 [==============================] - 2s 170ms/step - loss: 1.5321 - accuracy: 0.4886 - val_loss: 1.6941 - val_accuracy: 0.4444\n",
      "Epoch 25/50\n",
      "11/11 [==============================] - 2s 169ms/step - loss: 1.4377 - accuracy: 0.5514 - val_loss: 1.6374 - val_accuracy: 0.4222\n",
      "Epoch 26/50\n",
      "11/11 [==============================] - 2s 169ms/step - loss: 1.4098 - accuracy: 0.5486 - val_loss: 1.6203 - val_accuracy: 0.4667\n",
      "Epoch 27/50\n",
      "11/11 [==============================] - 2s 171ms/step - loss: 1.3778 - accuracy: 0.5543 - val_loss: 1.5713 - val_accuracy: 0.5333\n",
      "Epoch 28/50\n",
      "11/11 [==============================] - 2s 169ms/step - loss: 1.3055 - accuracy: 0.5543 - val_loss: 1.5282 - val_accuracy: 0.5778\n",
      "Epoch 29/50\n",
      "11/11 [==============================] - 2s 171ms/step - loss: 1.2920 - accuracy: 0.5657 - val_loss: 1.5296 - val_accuracy: 0.4889\n",
      "Epoch 30/50\n",
      "11/11 [==============================] - 2s 183ms/step - loss: 1.2244 - accuracy: 0.6143 - val_loss: 1.6833 - val_accuracy: 0.4667\n",
      "Epoch 31/50\n",
      "11/11 [==============================] - 2s 186ms/step - loss: 1.2016 - accuracy: 0.6114 - val_loss: 1.4937 - val_accuracy: 0.5333\n",
      "Epoch 32/50\n",
      "11/11 [==============================] - 2s 173ms/step - loss: 1.2023 - accuracy: 0.6143 - val_loss: 1.5081 - val_accuracy: 0.5778\n",
      "Epoch 33/50\n",
      "11/11 [==============================] - 2s 167ms/step - loss: 1.1613 - accuracy: 0.6200 - val_loss: 1.5561 - val_accuracy: 0.5111\n",
      "Epoch 34/50\n",
      "11/11 [==============================] - 2s 175ms/step - loss: 1.2059 - accuracy: 0.5829 - val_loss: 1.4786 - val_accuracy: 0.6000\n",
      "Epoch 35/50\n",
      "11/11 [==============================] - 2s 165ms/step - loss: 1.1079 - accuracy: 0.6314 - val_loss: 1.5411 - val_accuracy: 0.5556\n",
      "Epoch 36/50\n",
      "11/11 [==============================] - 2s 185ms/step - loss: 1.1047 - accuracy: 0.6200 - val_loss: 1.5004 - val_accuracy: 0.5778\n",
      "Epoch 37/50\n",
      "11/11 [==============================] - 2s 189ms/step - loss: 1.0592 - accuracy: 0.6400 - val_loss: 1.4371 - val_accuracy: 0.6444\n",
      "Epoch 38/50\n",
      "11/11 [==============================] - 2s 188ms/step - loss: 0.9359 - accuracy: 0.7286 - val_loss: 1.4267 - val_accuracy: 0.6222\n",
      "Epoch 39/50\n",
      "11/11 [==============================] - 2s 188ms/step - loss: 0.9827 - accuracy: 0.6829 - val_loss: 1.4808 - val_accuracy: 0.6000\n",
      "Epoch 40/50\n",
      "11/11 [==============================] - 2s 187ms/step - loss: 1.0332 - accuracy: 0.6629 - val_loss: 1.5179 - val_accuracy: 0.5778\n",
      "Epoch 41/50\n",
      "11/11 [==============================] - 2s 187ms/step - loss: 0.9702 - accuracy: 0.6829 - val_loss: 1.4906 - val_accuracy: 0.5111\n",
      "Epoch 42/50\n",
      "11/11 [==============================] - 2s 186ms/step - loss: 0.9219 - accuracy: 0.7257 - val_loss: 1.6395 - val_accuracy: 0.5111\n",
      "Epoch 43/50\n",
      "11/11 [==============================] - 2s 182ms/step - loss: 0.8972 - accuracy: 0.7286 - val_loss: 1.4695 - val_accuracy: 0.6000\n"
     ]
    }
   ],
   "source": [
    "history = model.fit(X_train, y_train, epochs = EPOCHS, validation_data = (X_val, y_val), callbacks=[early_stopping])"
   ]
  },
  {
   "cell_type": "markdown",
   "id": "57ec1982",
   "metadata": {},
   "source": [
    "### Train & validation Loss"
   ]
  },
  {
   "cell_type": "code",
   "execution_count": 7,
   "id": "b6c8d1db",
   "metadata": {},
   "outputs": [
    {
     "data": {
      "text/plain": [
       "<matplotlib.legend.Legend at 0x2743b02f280>"
      ]
     },
     "execution_count": 7,
     "metadata": {},
     "output_type": "execute_result"
    },
    {
     "data": {
      "image/png": "[encoded data removed]",
      "text/plain": [
       "<Figure size 432x288 with 1 Axes>"
      ]
     },
     "metadata": {
      "needs_background": "light"
     },
     "output_type": "display_data"
    }
   ],
   "source": [
    "plt.plot(history.history['loss'], label='loss')\n",
    "plt.plot(history.history['val_loss'], label = 'val_loss')\n",
    "plt.xlabel('Epoch')\n",
    "plt.ylabel('Loss')\n",
    "plt.ylim([0.0, 3])\n",
    "plt.legend(loc='lower right')"
   ]
  },
  {
   "cell_type": "markdown",
   "id": "7af69023",
   "metadata": {},
   "source": [
    "### Train & validation Accuracy"
   ]
  },
  {
   "cell_type": "code",
   "execution_count": 8,
   "id": "0bb8dfca",
   "metadata": {},
   "outputs": [
    {
     "data": {
      "text/plain": [
       "<matplotlib.legend.Legend at 0x2772574bcd0>"
      ]
     },
     "execution_count": 8,
     "metadata": {},
     "output_type": "execute_result"
    },
    {
     "data": {
      "image/png": "[encoded data removed]",
      "text/plain": [
       "<Figure size 432x288 with 1 Axes>"
      ]
     },
     "metadata": {
      "needs_background": "light"
     },
     "output_type": "display_data"
    }
   ],
   "source": [
    "plt.plot(history.history['accuracy'], label='accuracy')\n",
    "plt.plot(history.history['val_accuracy'], label = 'val_accuracy')\n",
    "plt.xlabel('Epoch')\n",
    "plt.ylabel('Accuracy')\n",
    "plt.ylim([0.0, 1])\n",
    "plt.legend(loc='lower right')"
   ]
  },
  {
   "cell_type": "markdown",
   "id": "9b30546c",
   "metadata": {},
   "source": [
    "## Test"
   ]
  },
  {
   "cell_type": "code",
   "execution_count": 9,
   "id": "cf4c662a",
   "metadata": {},
   "outputs": [
    {
     "name": "stdout",
     "output_type": "stream",
     "text": [
      "4/4 [==============================] - 1s 41ms/step\n"
     ]
    }
   ],
   "source": [
    "predict = np.argmax(model.predict(X_test), axis=1)"
   ]
  },
  {
   "cell_type": "code",
   "execution_count": 10,
   "id": "6ec7a04a",
   "metadata": {},
   "outputs": [
    {
     "name": "stdout",
     "output_type": "stream",
     "text": [
      "              precision    recall  f1-score   support\n",
      "\n",
      "           0       0.60      0.60      0.60        15\n",
      "           1       0.67      0.38      0.48        16\n",
      "           2       0.20      0.60      0.30         5\n",
      "           3       0.44      0.78      0.56         9\n",
      "           4       0.50      0.60      0.55        10\n",
      "           5       0.00      0.00      0.00         8\n",
      "           6       0.75      0.43      0.55        14\n",
      "           7       1.00      0.60      0.75        10\n",
      "           8       0.50      0.22      0.31         9\n",
      "           9       0.53      1.00      0.69         9\n",
      "\n",
      "    accuracy                           0.51       105\n",
      "   macro avg       0.52      0.52      0.48       105\n",
      "weighted avg       0.57      0.51      0.50       105\n",
      "\n"
     ]
    }
   ],
   "source": [
    "print(classification_report(y_test, predict))"
   ]
  },
  {
   "cell_type": "code",
   "execution_count": 11,
   "id": "9433cc53",
   "metadata": {},
   "outputs": [
    {
     "data": {
      "image/png": "[encoded data removed]",
      "text/plain": [
       "<Figure size 400x400 with 2 Axes>"
      ]
     },
     "metadata": {
      "needs_background": "light"
     },
     "output_type": "display_data"
    }
   ],
   "source": [
    "fig = plt.figure(figsize=(CLASS_COUNT // 2, CLASS_COUNT // 2), dpi=80)\n",
    "M = confusion_matrix(predict, y_test)\n",
    "plt.imshow(M, interpolation = 'nearest')\n",
    "plt.set_cmap('binary')\n",
    "plt.xticks(range(CLASS_COUNT))\n",
    "plt.yticks(range(CLASS_COUNT))\n",
    "plt.xlabel(\"true label\")\n",
    "plt.ylabel(\"predicted label\")\n",
    "plt.colorbar()\n",
    "pass"
   ]
  },
  {
   "cell_type": "code",
   "execution_count": null,
   "id": "5c484710",
   "metadata": {},
   "outputs": [],
   "source": []
  }
 ],
 "metadata": {
  "kernelspec": {
   "display_name": "Python 3 (ipykernel)",
   "language": "python",
   "name": "python3"
  },
  "language_info": {
   "codemirror_mode": {
    "name": "ipython",
    "version": 3
   },
   "file_extension": ".py",
   "mimetype": "text/x-python",
   "name": "python",
   "nbconvert_exporter": "python",
   "pygments_lexer": "ipython3",
   "version": "3.9.6"
  }
 },
 "nbformat": 4,
 "nbformat_minor": 5
}
